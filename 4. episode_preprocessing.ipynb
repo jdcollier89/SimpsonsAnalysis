{
 "cells": [
  {
   "cell_type": "code",
   "execution_count": null,
   "id": "03e2d5ee-96f3-4f02-a19b-5836c8dcc16b",
   "metadata": {},
   "outputs": [],
   "source": []
  },
  {
   "cell_type": "code",
   "execution_count": 1,
   "id": "4aeb1e60-2d4e-40c1-b8e8-e0724a5f7eb6",
   "metadata": {
    "tags": []
   },
   "outputs": [],
   "source": [
    "import pandas as pd"
   ]
  },
  {
   "cell_type": "markdown",
   "id": "479f7ec8-2cbb-491a-b199-96de2e8c2149",
   "metadata": {},
   "source": [
    "# Load all Data"
   ]
  },
  {
   "cell_type": "code",
   "execution_count": 2,
   "id": "cb4a6802-761a-4a62-ae58-0cc9ebcaecd8",
   "metadata": {
    "tags": []
   },
   "outputs": [],
   "source": [
    "def combine_rows(x):\n",
    "    \"\"\"Join together multiple rows worth of data for a single column.\"\"\"\n",
    "    x = x.to_list()\n",
    "    output = ' & '.join(x)\n",
    "    return output"
   ]
  },
  {
   "cell_type": "markdown",
   "id": "451a89c8-7ffe-4910-87d1-60cab833cfa1",
   "metadata": {},
   "source": [
    "## IMDB data"
   ]
  },
  {
   "cell_type": "code",
   "execution_count": 3,
   "id": "4a366439-d710-4af7-9135-43bc367a2dca",
   "metadata": {
    "tags": []
   },
   "outputs": [],
   "source": [
    "simpsons_episodes = pd.read_pickle(\"./data/simpsons_episodes.pkl\")"
   ]
  },
  {
   "cell_type": "code",
   "execution_count": 4,
   "id": "eb0bfb10-2299-4f69-bca6-086db8ad8787",
   "metadata": {
    "tags": []
   },
   "outputs": [],
   "source": [
    "simpsons_episodes[['season', 'episode_no', 'total_votes']] = simpsons_episodes[['season', 'episode_no', 'total_votes']].astype('int')"
   ]
  },
  {
   "cell_type": "code",
   "execution_count": 5,
   "id": "85b6008a-7c3a-4c35-828d-84c1c050b453",
   "metadata": {
    "tags": []
   },
   "outputs": [
    {
     "data": {
      "text/html": [
       "<div>\n",
       "<style scoped>\n",
       "    .dataframe tbody tr th:only-of-type {\n",
       "        vertical-align: middle;\n",
       "    }\n",
       "\n",
       "    .dataframe tbody tr th {\n",
       "        vertical-align: top;\n",
       "    }\n",
       "\n",
       "    .dataframe thead th {\n",
       "        text-align: right;\n",
       "    }\n",
       "</style>\n",
       "<table border=\"1\" class=\"dataframe\">\n",
       "  <thead>\n",
       "    <tr style=\"text-align: right;\">\n",
       "      <th></th>\n",
       "      <th>season</th>\n",
       "      <th>episode_no</th>\n",
       "      <th>title</th>\n",
       "      <th>airdate</th>\n",
       "      <th>rating</th>\n",
       "      <th>total_votes</th>\n",
       "      <th>desc</th>\n",
       "    </tr>\n",
       "  </thead>\n",
       "  <tbody>\n",
       "    <tr>\n",
       "      <th>0</th>\n",
       "      <td>1</td>\n",
       "      <td>1</td>\n",
       "      <td>Simpsons Roasting on an Open Fire</td>\n",
       "      <td>1989-12-17</td>\n",
       "      <td>8.1</td>\n",
       "      <td>8400</td>\n",
       "      <td>Homer is forced to become a department store S...</td>\n",
       "    </tr>\n",
       "    <tr>\n",
       "      <th>1</th>\n",
       "      <td>1</td>\n",
       "      <td>2</td>\n",
       "      <td>Bart the Genius</td>\n",
       "      <td>1990-01-14</td>\n",
       "      <td>7.6</td>\n",
       "      <td>5700</td>\n",
       "      <td>Bart ends up at a school for gifted children a...</td>\n",
       "    </tr>\n",
       "    <tr>\n",
       "      <th>2</th>\n",
       "      <td>1</td>\n",
       "      <td>3</td>\n",
       "      <td>Homer's Odyssey</td>\n",
       "      <td>1990-01-21</td>\n",
       "      <td>7.3</td>\n",
       "      <td>5000</td>\n",
       "      <td>After losing his job, Homer contemplates endin...</td>\n",
       "    </tr>\n",
       "    <tr>\n",
       "      <th>3</th>\n",
       "      <td>1</td>\n",
       "      <td>4</td>\n",
       "      <td>There's No Disgrace Like Home</td>\n",
       "      <td>1990-01-28</td>\n",
       "      <td>7.6</td>\n",
       "      <td>4900</td>\n",
       "      <td>After being embarrassed by the rest of the fam...</td>\n",
       "    </tr>\n",
       "    <tr>\n",
       "      <th>4</th>\n",
       "      <td>1</td>\n",
       "      <td>5</td>\n",
       "      <td>Bart the General</td>\n",
       "      <td>1990-02-04</td>\n",
       "      <td>7.9</td>\n",
       "      <td>5300</td>\n",
       "      <td>After being beaten up by Nelson Muntz one too ...</td>\n",
       "    </tr>\n",
       "  </tbody>\n",
       "</table>\n",
       "</div>"
      ],
      "text/plain": [
       "   season  episode_no                               title    airdate rating  \\\n",
       "0       1           1   Simpsons Roasting on an Open Fire 1989-12-17    8.1   \n",
       "1       1           2                     Bart the Genius 1990-01-14    7.6   \n",
       "2       1           3                     Homer's Odyssey 1990-01-21    7.3   \n",
       "3       1           4       There's No Disgrace Like Home 1990-01-28    7.6   \n",
       "4       1           5                    Bart the General 1990-02-04    7.9   \n",
       "\n",
       "   total_votes                                               desc  \n",
       "0         8400  Homer is forced to become a department store S...  \n",
       "1         5700  Bart ends up at a school for gifted children a...  \n",
       "2         5000  After losing his job, Homer contemplates endin...  \n",
       "3         4900  After being embarrassed by the rest of the fam...  \n",
       "4         5300  After being beaten up by Nelson Muntz one too ...  "
      ]
     },
     "execution_count": 5,
     "metadata": {},
     "output_type": "execute_result"
    }
   ],
   "source": [
    "simpsons_episodes.head()"
   ]
  },
  {
   "cell_type": "markdown",
   "id": "30ef4511-b339-4a6b-a5dc-f4df5a6768c9",
   "metadata": {},
   "source": [
    "## Wikipedia data"
   ]
  },
  {
   "cell_type": "code",
   "execution_count": 6,
   "id": "7d80df0b-04bd-4de7-85f5-ee26e37ed180",
   "metadata": {
    "tags": []
   },
   "outputs": [],
   "source": [
    "simpsons_wiki = pd.read_pickle(\"./data/simpsons_wiki_episodes.pkl\")"
   ]
  },
  {
   "cell_type": "code",
   "execution_count": 7,
   "id": "b3384dcd-f57f-45de-b4d4-0a4fe245b0b6",
   "metadata": {
    "tags": []
   },
   "outputs": [],
   "source": [
    "simpsons_wiki[['season', 'ep_overall']] = simpsons_wiki[['season', 'ep_overall']].astype('int')"
   ]
  },
  {
   "cell_type": "code",
   "execution_count": 8,
   "id": "b5a13034-d650-48b5-aafb-4247b1bcedd4",
   "metadata": {
    "tags": []
   },
   "outputs": [
    {
     "data": {
      "text/html": [
       "<div>\n",
       "<style scoped>\n",
       "    .dataframe tbody tr th:only-of-type {\n",
       "        vertical-align: middle;\n",
       "    }\n",
       "\n",
       "    .dataframe tbody tr th {\n",
       "        vertical-align: top;\n",
       "    }\n",
       "\n",
       "    .dataframe thead th {\n",
       "        text-align: right;\n",
       "    }\n",
       "</style>\n",
       "<table border=\"1\" class=\"dataframe\">\n",
       "  <thead>\n",
       "    <tr style=\"text-align: right;\">\n",
       "      <th></th>\n",
       "      <th>episode</th>\n",
       "      <th>ep_title</th>\n",
       "      <th>director</th>\n",
       "      <th>writer</th>\n",
       "      <th>air_date</th>\n",
       "      <th>prod_code</th>\n",
       "      <th>viewers</th>\n",
       "      <th>ep_overall</th>\n",
       "      <th>season</th>\n",
       "    </tr>\n",
       "  </thead>\n",
       "  <tbody>\n",
       "    <tr>\n",
       "      <th>0</th>\n",
       "      <td>1</td>\n",
       "      <td>Simpsons Roasting on an Open Fire</td>\n",
       "      <td>David Silverman</td>\n",
       "      <td>Mimi Pond</td>\n",
       "      <td>December 17, 1989 (1989-12-17)</td>\n",
       "      <td>7G08</td>\n",
       "      <td>26.7</td>\n",
       "      <td>1</td>\n",
       "      <td>1</td>\n",
       "    </tr>\n",
       "    <tr>\n",
       "      <th>1</th>\n",
       "      <td>2</td>\n",
       "      <td>Bart the Genius</td>\n",
       "      <td>David Silverman</td>\n",
       "      <td>Jon Vitti</td>\n",
       "      <td>January 14, 1990 (1990-01-14)</td>\n",
       "      <td>7G02</td>\n",
       "      <td>24.5</td>\n",
       "      <td>2</td>\n",
       "      <td>1</td>\n",
       "    </tr>\n",
       "    <tr>\n",
       "      <th>2</th>\n",
       "      <td>3</td>\n",
       "      <td>Homer's Odyssey</td>\n",
       "      <td>Wes Archer</td>\n",
       "      <td>Jay Kogen &amp; Wallace Wolodarsky</td>\n",
       "      <td>January 21, 1990 (1990-01-21)</td>\n",
       "      <td>7G03</td>\n",
       "      <td>27.5</td>\n",
       "      <td>3</td>\n",
       "      <td>1</td>\n",
       "    </tr>\n",
       "    <tr>\n",
       "      <th>3</th>\n",
       "      <td>4</td>\n",
       "      <td>There's No Disgrace Like Home</td>\n",
       "      <td>Gregg Vanzo &amp; Kent Butterworth</td>\n",
       "      <td>Al Jean &amp; Mike Reiss</td>\n",
       "      <td>January 28, 1990 (1990-01-28)</td>\n",
       "      <td>7G04</td>\n",
       "      <td>20.2</td>\n",
       "      <td>4</td>\n",
       "      <td>1</td>\n",
       "    </tr>\n",
       "    <tr>\n",
       "      <th>4</th>\n",
       "      <td>5</td>\n",
       "      <td>Bart the General</td>\n",
       "      <td>David Silverman</td>\n",
       "      <td>John Swartzwelder</td>\n",
       "      <td>February 4, 1990 (1990-02-04)</td>\n",
       "      <td>7G05</td>\n",
       "      <td>27.1</td>\n",
       "      <td>5</td>\n",
       "      <td>1</td>\n",
       "    </tr>\n",
       "  </tbody>\n",
       "</table>\n",
       "</div>"
      ],
      "text/plain": [
       "  episode                           ep_title                        director  \\\n",
       "0       1  Simpsons Roasting on an Open Fire                 David Silverman   \n",
       "1       2                    Bart the Genius                 David Silverman   \n",
       "2       3                    Homer's Odyssey                      Wes Archer   \n",
       "3       4      There's No Disgrace Like Home  Gregg Vanzo & Kent Butterworth   \n",
       "4       5                   Bart the General                 David Silverman   \n",
       "\n",
       "                           writer                        air_date prod_code  \\\n",
       "0                       Mimi Pond  December 17, 1989 (1989-12-17)      7G08   \n",
       "1                       Jon Vitti   January 14, 1990 (1990-01-14)      7G02   \n",
       "2  Jay Kogen & Wallace Wolodarsky   January 21, 1990 (1990-01-21)      7G03   \n",
       "3            Al Jean & Mike Reiss   January 28, 1990 (1990-01-28)      7G04   \n",
       "4               John Swartzwelder   February 4, 1990 (1990-02-04)      7G05   \n",
       "\n",
       "  viewers  ep_overall  season  \n",
       "0    26.7           1       1  \n",
       "1    24.5           2       1  \n",
       "2    27.5           3       1  \n",
       "3    20.2           4       1  \n",
       "4    27.1           5       1  "
      ]
     },
     "execution_count": 8,
     "metadata": {},
     "output_type": "execute_result"
    }
   ],
   "source": [
    "simpsons_wiki.head()"
   ]
  },
  {
   "cell_type": "code",
   "execution_count": 9,
   "id": "dc8b4c0e-66b1-4fc4-b4d7-8acb154bb814",
   "metadata": {
    "tags": []
   },
   "outputs": [],
   "source": [
    "agg_functions = {'episode': 'first', 'ep_title': 'first', 'director': combine_rows, 'writer': combine_rows, 'air_date': 'first', \n",
    "                 'prod_code': 'first', 'viewers': 'first', 'ep_overall': 'first', 'season': 'first'}\n",
    "simpsons_wiki_group = simpsons_wiki.groupby(simpsons_wiki['ep_overall']).aggregate(agg_functions)"
   ]
  },
  {
   "cell_type": "code",
   "execution_count": 10,
   "id": "0bb6c470-1189-4377-b331-1c9574aa7aba",
   "metadata": {
    "tags": []
   },
   "outputs": [],
   "source": [
    "simpsons_wiki_group[['episode']] = simpsons_wiki_group[['episode']].astype('int')"
   ]
  },
  {
   "cell_type": "code",
   "execution_count": 11,
   "id": "9926bd2c-4149-4d67-bc0e-03e352f18e00",
   "metadata": {
    "tags": []
   },
   "outputs": [
    {
     "data": {
      "text/html": [
       "<div>\n",
       "<style scoped>\n",
       "    .dataframe tbody tr th:only-of-type {\n",
       "        vertical-align: middle;\n",
       "    }\n",
       "\n",
       "    .dataframe tbody tr th {\n",
       "        vertical-align: top;\n",
       "    }\n",
       "\n",
       "    .dataframe thead th {\n",
       "        text-align: right;\n",
       "    }\n",
       "</style>\n",
       "<table border=\"1\" class=\"dataframe\">\n",
       "  <thead>\n",
       "    <tr style=\"text-align: right;\">\n",
       "      <th></th>\n",
       "      <th>episode</th>\n",
       "      <th>ep_title</th>\n",
       "      <th>director</th>\n",
       "      <th>writer</th>\n",
       "      <th>air_date</th>\n",
       "      <th>prod_code</th>\n",
       "      <th>viewers</th>\n",
       "      <th>ep_overall</th>\n",
       "      <th>season</th>\n",
       "    </tr>\n",
       "    <tr>\n",
       "      <th>ep_overall</th>\n",
       "      <th></th>\n",
       "      <th></th>\n",
       "      <th></th>\n",
       "      <th></th>\n",
       "      <th></th>\n",
       "      <th></th>\n",
       "      <th></th>\n",
       "      <th></th>\n",
       "      <th></th>\n",
       "    </tr>\n",
       "  </thead>\n",
       "  <tbody>\n",
       "    <tr>\n",
       "      <th>1</th>\n",
       "      <td>1</td>\n",
       "      <td>Simpsons Roasting on an Open Fire</td>\n",
       "      <td>David Silverman</td>\n",
       "      <td>Mimi Pond</td>\n",
       "      <td>December 17, 1989 (1989-12-17)</td>\n",
       "      <td>7G08</td>\n",
       "      <td>26.7</td>\n",
       "      <td>1</td>\n",
       "      <td>1</td>\n",
       "    </tr>\n",
       "    <tr>\n",
       "      <th>2</th>\n",
       "      <td>2</td>\n",
       "      <td>Bart the Genius</td>\n",
       "      <td>David Silverman</td>\n",
       "      <td>Jon Vitti</td>\n",
       "      <td>January 14, 1990 (1990-01-14)</td>\n",
       "      <td>7G02</td>\n",
       "      <td>24.5</td>\n",
       "      <td>2</td>\n",
       "      <td>1</td>\n",
       "    </tr>\n",
       "    <tr>\n",
       "      <th>3</th>\n",
       "      <td>3</td>\n",
       "      <td>Homer's Odyssey</td>\n",
       "      <td>Wes Archer</td>\n",
       "      <td>Jay Kogen &amp; Wallace Wolodarsky</td>\n",
       "      <td>January 21, 1990 (1990-01-21)</td>\n",
       "      <td>7G03</td>\n",
       "      <td>27.5</td>\n",
       "      <td>3</td>\n",
       "      <td>1</td>\n",
       "    </tr>\n",
       "    <tr>\n",
       "      <th>4</th>\n",
       "      <td>4</td>\n",
       "      <td>There's No Disgrace Like Home</td>\n",
       "      <td>Gregg Vanzo &amp; Kent Butterworth</td>\n",
       "      <td>Al Jean &amp; Mike Reiss</td>\n",
       "      <td>January 28, 1990 (1990-01-28)</td>\n",
       "      <td>7G04</td>\n",
       "      <td>20.2</td>\n",
       "      <td>4</td>\n",
       "      <td>1</td>\n",
       "    </tr>\n",
       "    <tr>\n",
       "      <th>5</th>\n",
       "      <td>5</td>\n",
       "      <td>Bart the General</td>\n",
       "      <td>David Silverman</td>\n",
       "      <td>John Swartzwelder</td>\n",
       "      <td>February 4, 1990 (1990-02-04)</td>\n",
       "      <td>7G05</td>\n",
       "      <td>27.1</td>\n",
       "      <td>5</td>\n",
       "      <td>1</td>\n",
       "    </tr>\n",
       "  </tbody>\n",
       "</table>\n",
       "</div>"
      ],
      "text/plain": [
       "            episode                           ep_title  \\\n",
       "ep_overall                                               \n",
       "1                 1  Simpsons Roasting on an Open Fire   \n",
       "2                 2                    Bart the Genius   \n",
       "3                 3                    Homer's Odyssey   \n",
       "4                 4      There's No Disgrace Like Home   \n",
       "5                 5                   Bart the General   \n",
       "\n",
       "                                  director                          writer  \\\n",
       "ep_overall                                                                   \n",
       "1                          David Silverman                       Mimi Pond   \n",
       "2                          David Silverman                       Jon Vitti   \n",
       "3                               Wes Archer  Jay Kogen & Wallace Wolodarsky   \n",
       "4           Gregg Vanzo & Kent Butterworth            Al Jean & Mike Reiss   \n",
       "5                          David Silverman               John Swartzwelder   \n",
       "\n",
       "                                  air_date prod_code viewers  ep_overall  \\\n",
       "ep_overall                                                                 \n",
       "1           December 17, 1989 (1989-12-17)      7G08    26.7           1   \n",
       "2            January 14, 1990 (1990-01-14)      7G02    24.5           2   \n",
       "3            January 21, 1990 (1990-01-21)      7G03    27.5           3   \n",
       "4            January 28, 1990 (1990-01-28)      7G04    20.2           4   \n",
       "5            February 4, 1990 (1990-02-04)      7G05    27.1           5   \n",
       "\n",
       "            season  \n",
       "ep_overall          \n",
       "1                1  \n",
       "2                1  \n",
       "3                1  \n",
       "4                1  \n",
       "5                1  "
      ]
     },
     "execution_count": 11,
     "metadata": {},
     "output_type": "execute_result"
    }
   ],
   "source": [
    "simpsons_wiki_group.head()"
   ]
  },
  {
   "cell_type": "markdown",
   "id": "47fae4a7-e822-4ca2-ad99-80c5da93d6b4",
   "metadata": {},
   "source": [
    "## Guest Appearances"
   ]
  },
  {
   "cell_type": "code",
   "execution_count": 12,
   "id": "8bf1b461-b3ca-4860-91d3-1ea74d1e35f2",
   "metadata": {
    "tags": []
   },
   "outputs": [],
   "source": [
    "simpsons_guests = pd.read_pickle(\"./data/simpsons_guest_stars.pkl\")"
   ]
  },
  {
   "cell_type": "code",
   "execution_count": 13,
   "id": "f0a19e87-bdeb-4e8a-999e-32ce291963cc",
   "metadata": {
    "tags": []
   },
   "outputs": [],
   "source": [
    "simpsons_guests = simpsons_guests[simpsons_guests.season != 'Movie']"
   ]
  },
  {
   "cell_type": "code",
   "execution_count": 14,
   "id": "d2eba076-d43d-40cd-9a85-c38d674a1dd2",
   "metadata": {
    "tags": []
   },
   "outputs": [],
   "source": [
    "simpsons_guests[['season', 'As_Themselves', 'Character_Played']] = simpsons_guests[['season', 'As_Themselves', 'Character_Played']].astype('int')"
   ]
  },
  {
   "cell_type": "code",
   "execution_count": 15,
   "id": "1907cee8-893d-433e-88c8-87c50985aefb",
   "metadata": {
    "tags": []
   },
   "outputs": [
    {
     "data": {
      "text/html": [
       "<div>\n",
       "<style scoped>\n",
       "    .dataframe tbody tr th:only-of-type {\n",
       "        vertical-align: middle;\n",
       "    }\n",
       "\n",
       "    .dataframe tbody tr th {\n",
       "        vertical-align: top;\n",
       "    }\n",
       "\n",
       "    .dataframe thead th {\n",
       "        text-align: right;\n",
       "    }\n",
       "</style>\n",
       "<table border=\"1\" class=\"dataframe\">\n",
       "  <thead>\n",
       "    <tr style=\"text-align: right;\">\n",
       "      <th></th>\n",
       "      <th>season</th>\n",
       "      <th>role</th>\n",
       "      <th>no</th>\n",
       "      <th>prodCode</th>\n",
       "      <th>epTitle</th>\n",
       "      <th>GuestStar</th>\n",
       "      <th>As_Themselves</th>\n",
       "      <th>Character_Played</th>\n",
       "    </tr>\n",
       "  </thead>\n",
       "  <tbody>\n",
       "    <tr>\n",
       "      <th>0</th>\n",
       "      <td>2</td>\n",
       "      <td>Himself</td>\n",
       "      <td>018–205</td>\n",
       "      <td>7F05</td>\n",
       "      <td>\"Dancin' Homer\"[45]</td>\n",
       "      <td>Tony Bennett</td>\n",
       "      <td>1</td>\n",
       "      <td>0</td>\n",
       "    </tr>\n",
       "    <tr>\n",
       "      <th>1</th>\n",
       "      <td>2</td>\n",
       "      <td>Himself</td>\n",
       "      <td>024–211</td>\n",
       "      <td>7F11</td>\n",
       "      <td>\"One Fish, Two Fish, Blowfish, Blue Fish\"[51]</td>\n",
       "      <td>Larry King</td>\n",
       "      <td>1</td>\n",
       "      <td>0</td>\n",
       "    </tr>\n",
       "    <tr>\n",
       "      <th>2</th>\n",
       "      <td>2</td>\n",
       "      <td>Himself</td>\n",
       "      <td>031–218</td>\n",
       "      <td>7F18</td>\n",
       "      <td>\"Brush with Greatness\"[60]</td>\n",
       "      <td>Ringo Starr</td>\n",
       "      <td>1</td>\n",
       "      <td>0</td>\n",
       "    </tr>\n",
       "    <tr>\n",
       "      <th>3</th>\n",
       "      <td>3</td>\n",
       "      <td>Himself playing Bart Simpson</td>\n",
       "      <td>039–304</td>\n",
       "      <td>8F03</td>\n",
       "      <td>\"Bart the Murderer\"[65]</td>\n",
       "      <td>Neil Patrick Harris</td>\n",
       "      <td>1</td>\n",
       "      <td>0</td>\n",
       "    </tr>\n",
       "    <tr>\n",
       "      <th>4</th>\n",
       "      <td>3</td>\n",
       "      <td>Fat TonyHimself playing Fat Tony</td>\n",
       "      <td>039–304</td>\n",
       "      <td>8F03</td>\n",
       "      <td>\"Bart the Murderer\"[65]</td>\n",
       "      <td>Joe Mantegna</td>\n",
       "      <td>1</td>\n",
       "      <td>0</td>\n",
       "    </tr>\n",
       "  </tbody>\n",
       "</table>\n",
       "</div>"
      ],
      "text/plain": [
       "   season                              role       no prodCode  \\\n",
       "0       2                           Himself  018–205     7F05   \n",
       "1       2                           Himself  024–211     7F11   \n",
       "2       2                           Himself  031–218     7F18   \n",
       "3       3      Himself playing Bart Simpson  039–304     8F03   \n",
       "4       3  Fat TonyHimself playing Fat Tony  039–304     8F03   \n",
       "\n",
       "                                         epTitle            GuestStar  \\\n",
       "0                            \"Dancin' Homer\"[45]         Tony Bennett   \n",
       "1  \"One Fish, Two Fish, Blowfish, Blue Fish\"[51]           Larry King   \n",
       "2                     \"Brush with Greatness\"[60]          Ringo Starr   \n",
       "3                        \"Bart the Murderer\"[65]  Neil Patrick Harris   \n",
       "4                        \"Bart the Murderer\"[65]         Joe Mantegna   \n",
       "\n",
       "   As_Themselves  Character_Played  \n",
       "0              1                 0  \n",
       "1              1                 0  \n",
       "2              1                 0  \n",
       "3              1                 0  \n",
       "4              1                 0  "
      ]
     },
     "execution_count": 15,
     "metadata": {},
     "output_type": "execute_result"
    }
   ],
   "source": [
    "simpsons_guests.head()"
   ]
  },
  {
   "cell_type": "code",
   "execution_count": 16,
   "id": "56106e0a-4848-4c05-a770-3db567a82928",
   "metadata": {
    "tags": []
   },
   "outputs": [],
   "source": [
    "agg_functions = {'season': 'first', 'prodCode': 'first', 'epTitle': 'first', 'As_Themselves': 'sum', 'Character_Played': 'sum'}\n",
    "simpsons_guests_slim = simpsons_guests.groupby(simpsons_guests['prodCode']).aggregate(agg_functions)\n",
    "simpsons_guests_slim.reset_index(drop = True, inplace=True)"
   ]
  },
  {
   "cell_type": "code",
   "execution_count": 17,
   "id": "a35c0018-3f87-47b0-82d1-a6053d7ab965",
   "metadata": {
    "tags": []
   },
   "outputs": [
    {
     "data": {
      "text/html": [
       "<div>\n",
       "<style scoped>\n",
       "    .dataframe tbody tr th:only-of-type {\n",
       "        vertical-align: middle;\n",
       "    }\n",
       "\n",
       "    .dataframe tbody tr th {\n",
       "        vertical-align: top;\n",
       "    }\n",
       "\n",
       "    .dataframe thead th {\n",
       "        text-align: right;\n",
       "    }\n",
       "</style>\n",
       "<table border=\"1\" class=\"dataframe\">\n",
       "  <thead>\n",
       "    <tr style=\"text-align: right;\">\n",
       "      <th></th>\n",
       "      <th>season</th>\n",
       "      <th>prodCode</th>\n",
       "      <th>epTitle</th>\n",
       "      <th>As_Themselves</th>\n",
       "      <th>Character_Played</th>\n",
       "    </tr>\n",
       "  </thead>\n",
       "  <tbody>\n",
       "    <tr>\n",
       "      <th>0</th>\n",
       "      <td>5</td>\n",
       "      <td>1F01</td>\n",
       "      <td>\"Rosebud\"[109]</td>\n",
       "      <td>1</td>\n",
       "      <td>0</td>\n",
       "    </tr>\n",
       "    <tr>\n",
       "      <th>1</th>\n",
       "      <td>5</td>\n",
       "      <td>1F03</td>\n",
       "      <td>\"Marge on the Lam\"[111]</td>\n",
       "      <td>1</td>\n",
       "      <td>1</td>\n",
       "    </tr>\n",
       "    <tr>\n",
       "      <th>2</th>\n",
       "      <td>5</td>\n",
       "      <td>1F05</td>\n",
       "      <td>\"Bart's Inner Child\"[113]</td>\n",
       "      <td>1</td>\n",
       "      <td>0</td>\n",
       "    </tr>\n",
       "    <tr>\n",
       "      <th>3</th>\n",
       "      <td>5</td>\n",
       "      <td>1F06</td>\n",
       "      <td>\"Boy-Scoutz 'n the Hood\"[115]</td>\n",
       "      <td>1</td>\n",
       "      <td>0</td>\n",
       "    </tr>\n",
       "    <tr>\n",
       "      <th>4</th>\n",
       "      <td>5</td>\n",
       "      <td>1F08</td>\n",
       "      <td>\"$pringfield (Or, How I Learned toStop Worryin...</td>\n",
       "      <td>2</td>\n",
       "      <td>2</td>\n",
       "    </tr>\n",
       "  </tbody>\n",
       "</table>\n",
       "</div>"
      ],
      "text/plain": [
       "   season prodCode                                            epTitle  \\\n",
       "0       5     1F01                                     \"Rosebud\"[109]   \n",
       "1       5     1F03                            \"Marge on the Lam\"[111]   \n",
       "2       5     1F05                          \"Bart's Inner Child\"[113]   \n",
       "3       5     1F06                      \"Boy-Scoutz 'n the Hood\"[115]   \n",
       "4       5     1F08  \"$pringfield (Or, How I Learned toStop Worryin...   \n",
       "\n",
       "   As_Themselves  Character_Played  \n",
       "0              1                 0  \n",
       "1              1                 1  \n",
       "2              1                 0  \n",
       "3              1                 0  \n",
       "4              2                 2  "
      ]
     },
     "execution_count": 17,
     "metadata": {},
     "output_type": "execute_result"
    }
   ],
   "source": [
    "simpsons_guests_slim.head()"
   ]
  },
  {
   "cell_type": "code",
   "execution_count": 18,
   "id": "f9898183-309d-4452-bf69-2a8adda360ee",
   "metadata": {
    "tags": []
   },
   "outputs": [
    {
     "data": {
      "text/plain": [
       "(481, 5)"
      ]
     },
     "execution_count": 18,
     "metadata": {},
     "output_type": "execute_result"
    }
   ],
   "source": [
    "simpsons_guests_slim.shape"
   ]
  },
  {
   "cell_type": "markdown",
   "id": "c40b6c01-1c62-4892-8771-2945fab840ba",
   "metadata": {},
   "source": [
    "# Combine data"
   ]
  },
  {
   "cell_type": "code",
   "execution_count": 19,
   "id": "29e2e064-bed9-46ff-8cd0-bc31d4291d39",
   "metadata": {
    "tags": []
   },
   "outputs": [],
   "source": [
    "simpsons_full = simpsons_episodes.merge(simpsons_wiki_group, left_on = ['season', 'episode_no'], right_on = ['season', 'episode'])"
   ]
  },
  {
   "cell_type": "code",
   "execution_count": 20,
   "id": "bf284238-c42f-4690-b608-c693def641b0",
   "metadata": {
    "tags": []
   },
   "outputs": [],
   "source": [
    "simpsons_full.drop(['ep_title', 'air_date', 'episode'], axis = 1, inplace = True)"
   ]
  },
  {
   "cell_type": "code",
   "execution_count": 21,
   "id": "cd762230-3dcd-4e38-a33b-445723e20603",
   "metadata": {
    "tags": []
   },
   "outputs": [],
   "source": [
    "simpsons_full = simpsons_full.merge(simpsons_guests_slim, left_on = 'prod_code', right_on = ['prodCode'], how = 'left')"
   ]
  },
  {
   "cell_type": "code",
   "execution_count": 22,
   "id": "01e315b6-11a0-402c-9359-2bc093adb1e9",
   "metadata": {
    "tags": []
   },
   "outputs": [],
   "source": [
    "simpsons_full.drop(['prodCode', 'epTitle', 'season_y'], axis = 1, inplace = True)"
   ]
  },
  {
   "cell_type": "code",
   "execution_count": 23,
   "id": "7ee67a44-12ec-479a-b6b5-57c029ee0dc4",
   "metadata": {
    "tags": []
   },
   "outputs": [],
   "source": [
    "simpsons_full.rename(columns={'season_x': 'season', 'episode_no': 'episode'},\n",
    "                    inplace = True)"
   ]
  },
  {
   "cell_type": "code",
   "execution_count": 24,
   "id": "b0996054-1474-49a9-8e69-0e361dbb61b8",
   "metadata": {
    "tags": []
   },
   "outputs": [],
   "source": [
    "simpsons_full['As_Themselves'] = simpsons_full['As_Themselves'].fillna(0)\n",
    "simpsons_full['Character_Played'] = simpsons_full['Character_Played'].fillna(0)"
   ]
  },
  {
   "cell_type": "code",
   "execution_count": 25,
   "id": "4093b5bf-08e9-40bf-bdac-7730b379a4e4",
   "metadata": {
    "tags": []
   },
   "outputs": [],
   "source": [
    "simpsons_full[['As_Themselves', 'Character_Played']] = simpsons_full[['As_Themselves', 'Character_Played']].astype('int')"
   ]
  },
  {
   "cell_type": "code",
   "execution_count": 26,
   "id": "1e8f6090-3f3b-4482-bbb8-a8ae5c36ba0c",
   "metadata": {
    "tags": []
   },
   "outputs": [],
   "source": [
    "# Round total_votes to nearest hundred as this is what IMDb automatically does to values in the thousands\n",
    "simpsons_full['total_votes'] = simpsons_full['total_votes'].apply(lambda x: round(x, -2))"
   ]
  },
  {
   "cell_type": "markdown",
   "id": "d384e14b-4682-4df1-a435-a368697bd031",
   "metadata": {},
   "source": [
    "# Feature Engineering"
   ]
  },
  {
   "cell_type": "code",
   "execution_count": 27,
   "id": "14090862-bf5a-4730-84a7-103822c945a0",
   "metadata": {
    "tags": []
   },
   "outputs": [],
   "source": [
    "import re\n",
    "\n",
    "def split_dir_writer(field):\n",
    "    \"\"\"Split the director and writer fields into a list instead of one string\"\"\"\n",
    "    reg_pattern = r' and |, | & '\n",
    "    output = re.split(reg_pattern, field)\n",
    "    \n",
    "    # Deduplicate in case a writer worked on multiple stories in one episode (Treehouse of Horror)\n",
    "    output = list(set(output))\n",
    "    return output\n",
    "\n",
    "def is_main_character(row, character_str):\n",
    "    \"\"\"Check whether or not a character is one of the 'main' characters in an episode. This is decided by whether an episode title or description\n",
    "    contains their name. \"\"\"\n",
    "    flag1 = character_str in row['title']\n",
    "    flag2 = character_str in row['desc']\n",
    "    \n",
    "    if flag1 or flag2:\n",
    "        return 1\n",
    "    else:\n",
    "        return 0"
   ]
  },
  {
   "cell_type": "code",
   "execution_count": 28,
   "id": "5540aec4-9af5-46df-afba-83028562e13f",
   "metadata": {
    "tags": []
   },
   "outputs": [],
   "source": [
    "# Highlight episodes were a member of the family is a 'main' character (according to the title or episode description)\n",
    "simpsons_full['Homer_main'] = simpsons_full.apply(lambda x: is_main_character(x, 'Homer'), axis = 1)\n",
    "simpsons_full['Marge_main'] = simpsons_full.apply(lambda x: is_main_character(x, 'Marge'), axis = 1)\n",
    "simpsons_full['Bart_main'] = simpsons_full.apply(lambda x: is_main_character(x, 'Bart'), axis = 1)\n",
    "simpsons_full['Lisa_main'] = simpsons_full.apply(lambda x: is_main_character(x, 'Lisa'), axis = 1)\n",
    "simpsons_full['Maggie_main'] = simpsons_full.apply(lambda x: is_main_character(x, 'Maggie'), axis = 1)"
   ]
  },
  {
   "cell_type": "code",
   "execution_count": 29,
   "id": "900d2773-5da0-4176-af2c-43ab32d52def",
   "metadata": {
    "tags": []
   },
   "outputs": [],
   "source": [
    "# Convert the director and writer fields into a list (seperate on commas, ampersands and 'and')\n",
    "simpsons_full['director'] = simpsons_full.apply(lambda x: split_dir_writer(x['director']), axis = 1)\n",
    "simpsons_full['writer'] = simpsons_full.apply(lambda x: split_dir_writer(x['writer']), axis = 1)"
   ]
  },
  {
   "cell_type": "code",
   "execution_count": 30,
   "id": "ba6bd987-8d45-46cb-ba1d-e9437acdda70",
   "metadata": {
    "tags": []
   },
   "outputs": [],
   "source": [
    "# Flag the Treehouse of Horror episodes (create a flag to identify them)\n",
    "simpsons_full['Treehouse'] = simpsons_full['title'].apply(lambda x: 1 if 'Treehouse' in x else 0)"
   ]
  },
  {
   "cell_type": "markdown",
   "id": "c2ed9e0e-5cad-4b3b-9ee8-ed2d262e836e",
   "metadata": {},
   "source": [
    "# Save Data"
   ]
  },
  {
   "cell_type": "code",
   "execution_count": 31,
   "id": "0ab7265c-bbb2-430a-bbb9-d9c3e84abfd9",
   "metadata": {
    "tags": []
   },
   "outputs": [
    {
     "data": {
      "text/html": [
       "<div>\n",
       "<style scoped>\n",
       "    .dataframe tbody tr th:only-of-type {\n",
       "        vertical-align: middle;\n",
       "    }\n",
       "\n",
       "    .dataframe tbody tr th {\n",
       "        vertical-align: top;\n",
       "    }\n",
       "\n",
       "    .dataframe thead th {\n",
       "        text-align: right;\n",
       "    }\n",
       "</style>\n",
       "<table border=\"1\" class=\"dataframe\">\n",
       "  <thead>\n",
       "    <tr style=\"text-align: right;\">\n",
       "      <th></th>\n",
       "      <th>season</th>\n",
       "      <th>episode</th>\n",
       "      <th>title</th>\n",
       "      <th>airdate</th>\n",
       "      <th>rating</th>\n",
       "      <th>total_votes</th>\n",
       "      <th>desc</th>\n",
       "      <th>director</th>\n",
       "      <th>writer</th>\n",
       "      <th>prod_code</th>\n",
       "      <th>viewers</th>\n",
       "      <th>ep_overall</th>\n",
       "      <th>As_Themselves</th>\n",
       "      <th>Character_Played</th>\n",
       "      <th>Homer_main</th>\n",
       "      <th>Marge_main</th>\n",
       "      <th>Bart_main</th>\n",
       "      <th>Lisa_main</th>\n",
       "      <th>Maggie_main</th>\n",
       "      <th>Treehouse</th>\n",
       "    </tr>\n",
       "  </thead>\n",
       "  <tbody>\n",
       "    <tr>\n",
       "      <th>0</th>\n",
       "      <td>1</td>\n",
       "      <td>1</td>\n",
       "      <td>Simpsons Roasting on an Open Fire</td>\n",
       "      <td>1989-12-17</td>\n",
       "      <td>8.1</td>\n",
       "      <td>8400</td>\n",
       "      <td>Homer is forced to become a department store S...</td>\n",
       "      <td>[David Silverman]</td>\n",
       "      <td>[Mimi Pond]</td>\n",
       "      <td>7G08</td>\n",
       "      <td>26.7</td>\n",
       "      <td>1</td>\n",
       "      <td>0</td>\n",
       "      <td>0</td>\n",
       "      <td>1</td>\n",
       "      <td>1</td>\n",
       "      <td>1</td>\n",
       "      <td>0</td>\n",
       "      <td>0</td>\n",
       "      <td>0</td>\n",
       "    </tr>\n",
       "    <tr>\n",
       "      <th>1</th>\n",
       "      <td>1</td>\n",
       "      <td>2</td>\n",
       "      <td>Bart the Genius</td>\n",
       "      <td>1990-01-14</td>\n",
       "      <td>7.6</td>\n",
       "      <td>5700</td>\n",
       "      <td>Bart ends up at a school for gifted children a...</td>\n",
       "      <td>[David Silverman]</td>\n",
       "      <td>[Jon Vitti]</td>\n",
       "      <td>7G02</td>\n",
       "      <td>24.5</td>\n",
       "      <td>2</td>\n",
       "      <td>0</td>\n",
       "      <td>0</td>\n",
       "      <td>0</td>\n",
       "      <td>0</td>\n",
       "      <td>1</td>\n",
       "      <td>0</td>\n",
       "      <td>0</td>\n",
       "      <td>0</td>\n",
       "    </tr>\n",
       "    <tr>\n",
       "      <th>2</th>\n",
       "      <td>1</td>\n",
       "      <td>3</td>\n",
       "      <td>Homer's Odyssey</td>\n",
       "      <td>1990-01-21</td>\n",
       "      <td>7.3</td>\n",
       "      <td>5000</td>\n",
       "      <td>After losing his job, Homer contemplates endin...</td>\n",
       "      <td>[Wes Archer]</td>\n",
       "      <td>[Jay Kogen, Wallace Wolodarsky]</td>\n",
       "      <td>7G03</td>\n",
       "      <td>27.5</td>\n",
       "      <td>3</td>\n",
       "      <td>0</td>\n",
       "      <td>1</td>\n",
       "      <td>1</td>\n",
       "      <td>0</td>\n",
       "      <td>0</td>\n",
       "      <td>0</td>\n",
       "      <td>0</td>\n",
       "      <td>0</td>\n",
       "    </tr>\n",
       "    <tr>\n",
       "      <th>3</th>\n",
       "      <td>1</td>\n",
       "      <td>4</td>\n",
       "      <td>There's No Disgrace Like Home</td>\n",
       "      <td>1990-01-28</td>\n",
       "      <td>7.6</td>\n",
       "      <td>4900</td>\n",
       "      <td>After being embarrassed by the rest of the fam...</td>\n",
       "      <td>[Kent Butterworth, Gregg Vanzo]</td>\n",
       "      <td>[Al Jean, Mike Reiss]</td>\n",
       "      <td>7G04</td>\n",
       "      <td>20.2</td>\n",
       "      <td>4</td>\n",
       "      <td>0</td>\n",
       "      <td>0</td>\n",
       "      <td>1</td>\n",
       "      <td>0</td>\n",
       "      <td>0</td>\n",
       "      <td>0</td>\n",
       "      <td>0</td>\n",
       "      <td>0</td>\n",
       "    </tr>\n",
       "    <tr>\n",
       "      <th>4</th>\n",
       "      <td>1</td>\n",
       "      <td>5</td>\n",
       "      <td>Bart the General</td>\n",
       "      <td>1990-02-04</td>\n",
       "      <td>7.9</td>\n",
       "      <td>5300</td>\n",
       "      <td>After being beaten up by Nelson Muntz one too ...</td>\n",
       "      <td>[David Silverman]</td>\n",
       "      <td>[John Swartzwelder]</td>\n",
       "      <td>7G05</td>\n",
       "      <td>27.1</td>\n",
       "      <td>5</td>\n",
       "      <td>0</td>\n",
       "      <td>0</td>\n",
       "      <td>0</td>\n",
       "      <td>0</td>\n",
       "      <td>1</td>\n",
       "      <td>0</td>\n",
       "      <td>0</td>\n",
       "      <td>0</td>\n",
       "    </tr>\n",
       "  </tbody>\n",
       "</table>\n",
       "</div>"
      ],
      "text/plain": [
       "   season  episode                               title    airdate rating  \\\n",
       "0       1        1   Simpsons Roasting on an Open Fire 1989-12-17    8.1   \n",
       "1       1        2                     Bart the Genius 1990-01-14    7.6   \n",
       "2       1        3                     Homer's Odyssey 1990-01-21    7.3   \n",
       "3       1        4       There's No Disgrace Like Home 1990-01-28    7.6   \n",
       "4       1        5                    Bart the General 1990-02-04    7.9   \n",
       "\n",
       "   total_votes                                               desc  \\\n",
       "0         8400  Homer is forced to become a department store S...   \n",
       "1         5700  Bart ends up at a school for gifted children a...   \n",
       "2         5000  After losing his job, Homer contemplates endin...   \n",
       "3         4900  After being embarrassed by the rest of the fam...   \n",
       "4         5300  After being beaten up by Nelson Muntz one too ...   \n",
       "\n",
       "                          director                           writer prod_code  \\\n",
       "0                [David Silverman]                      [Mimi Pond]      7G08   \n",
       "1                [David Silverman]                      [Jon Vitti]      7G02   \n",
       "2                     [Wes Archer]  [Jay Kogen, Wallace Wolodarsky]      7G03   \n",
       "3  [Kent Butterworth, Gregg Vanzo]            [Al Jean, Mike Reiss]      7G04   \n",
       "4                [David Silverman]              [John Swartzwelder]      7G05   \n",
       "\n",
       "  viewers  ep_overall  As_Themselves  Character_Played  Homer_main  \\\n",
       "0    26.7           1              0                 0           1   \n",
       "1    24.5           2              0                 0           0   \n",
       "2    27.5           3              0                 1           1   \n",
       "3    20.2           4              0                 0           1   \n",
       "4    27.1           5              0                 0           0   \n",
       "\n",
       "   Marge_main  Bart_main  Lisa_main  Maggie_main  Treehouse  \n",
       "0           1          1          0            0          0  \n",
       "1           0          1          0            0          0  \n",
       "2           0          0          0            0          0  \n",
       "3           0          0          0            0          0  \n",
       "4           0          1          0            0          0  "
      ]
     },
     "execution_count": 31,
     "metadata": {},
     "output_type": "execute_result"
    }
   ],
   "source": [
    "simpsons_full.head()"
   ]
  },
  {
   "cell_type": "code",
   "execution_count": 32,
   "id": "6b952c7f-c83e-4067-b391-ed0f1d4d4378",
   "metadata": {
    "tags": []
   },
   "outputs": [
    {
     "data": {
      "text/plain": [
       "(727, 20)"
      ]
     },
     "execution_count": 32,
     "metadata": {},
     "output_type": "execute_result"
    }
   ],
   "source": [
    "simpsons_full.shape"
   ]
  },
  {
   "cell_type": "code",
   "execution_count": 33,
   "id": "1d6b70a9-91ee-416a-b221-ecc7e6f39486",
   "metadata": {
    "tags": []
   },
   "outputs": [],
   "source": [
    "simpsons_full.to_pickle(\"./data/simpsons_processed.pkl\")"
   ]
  },
  {
   "cell_type": "code",
   "execution_count": null,
   "id": "bb0246d5-51c6-4ddc-b466-b8c4549f3e34",
   "metadata": {},
   "outputs": [],
   "source": []
  }
 ],
 "metadata": {
  "kernelspec": {
   "display_name": "Python 3 (ipykernel)",
   "language": "python",
   "name": "python3"
  },
  "language_info": {
   "codemirror_mode": {
    "name": "ipython",
    "version": 3
   },
   "file_extension": ".py",
   "mimetype": "text/x-python",
   "name": "python",
   "nbconvert_exporter": "python",
   "pygments_lexer": "ipython3",
   "version": "3.11.3"
  }
 },
 "nbformat": 4,
 "nbformat_minor": 5
}
