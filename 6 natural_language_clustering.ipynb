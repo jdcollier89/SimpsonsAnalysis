{
 "cells": [
  {
   "cell_type": "code",
   "execution_count": 1,
   "id": "1d49fce0-02ed-494e-9730-f3ea5f465626",
   "metadata": {
    "tags": []
   },
   "outputs": [],
   "source": [
    "import pandas as pd\n",
    "import numpy as np\n",
    "from datetime import datetime"
   ]
  },
  {
   "cell_type": "code",
   "execution_count": 2,
   "id": "3036544d-998b-49e2-9095-4356d26d32af",
   "metadata": {
    "tags": []
   },
   "outputs": [],
   "source": [
    "simpsons_episodes = pd.read_pickle(\"./data/simpsons_processed.pkl\")"
   ]
  },
  {
   "cell_type": "code",
   "execution_count": 3,
   "id": "8042e748-53c2-465b-b6a1-fdcae284b97f",
   "metadata": {
    "tags": []
   },
   "outputs": [
    {
     "data": {
      "text/html": [
       "<div>\n",
       "<style scoped>\n",
       "    .dataframe tbody tr th:only-of-type {\n",
       "        vertical-align: middle;\n",
       "    }\n",
       "\n",
       "    .dataframe tbody tr th {\n",
       "        vertical-align: top;\n",
       "    }\n",
       "\n",
       "    .dataframe thead th {\n",
       "        text-align: right;\n",
       "    }\n",
       "</style>\n",
       "<table border=\"1\" class=\"dataframe\">\n",
       "  <thead>\n",
       "    <tr style=\"text-align: right;\">\n",
       "      <th></th>\n",
       "      <th>season</th>\n",
       "      <th>episode</th>\n",
       "      <th>title</th>\n",
       "      <th>airdate</th>\n",
       "      <th>rating</th>\n",
       "      <th>total_votes</th>\n",
       "      <th>desc</th>\n",
       "      <th>director</th>\n",
       "      <th>writer</th>\n",
       "      <th>prod_code</th>\n",
       "      <th>viewers</th>\n",
       "      <th>ep_overall</th>\n",
       "      <th>As_Themselves</th>\n",
       "      <th>Character_Played</th>\n",
       "      <th>Homer_main</th>\n",
       "      <th>Marge_main</th>\n",
       "      <th>Bart_main</th>\n",
       "      <th>Lisa_main</th>\n",
       "      <th>Maggie_main</th>\n",
       "      <th>Treehouse</th>\n",
       "    </tr>\n",
       "  </thead>\n",
       "  <tbody>\n",
       "    <tr>\n",
       "      <th>0</th>\n",
       "      <td>1</td>\n",
       "      <td>1</td>\n",
       "      <td>Simpsons Roasting on an Open Fire</td>\n",
       "      <td>1989-12-17</td>\n",
       "      <td>8.1</td>\n",
       "      <td>8400</td>\n",
       "      <td>Homer is forced to become a department store S...</td>\n",
       "      <td>[David Silverman]</td>\n",
       "      <td>[Mimi Pond]</td>\n",
       "      <td>7G08</td>\n",
       "      <td>26.7</td>\n",
       "      <td>1</td>\n",
       "      <td>0</td>\n",
       "      <td>0</td>\n",
       "      <td>1</td>\n",
       "      <td>1</td>\n",
       "      <td>1</td>\n",
       "      <td>0</td>\n",
       "      <td>0</td>\n",
       "      <td>0</td>\n",
       "    </tr>\n",
       "    <tr>\n",
       "      <th>1</th>\n",
       "      <td>1</td>\n",
       "      <td>2</td>\n",
       "      <td>Bart the Genius</td>\n",
       "      <td>1990-01-14</td>\n",
       "      <td>7.6</td>\n",
       "      <td>5700</td>\n",
       "      <td>Bart ends up at a school for gifted children a...</td>\n",
       "      <td>[David Silverman]</td>\n",
       "      <td>[Jon Vitti]</td>\n",
       "      <td>7G02</td>\n",
       "      <td>24.5</td>\n",
       "      <td>2</td>\n",
       "      <td>0</td>\n",
       "      <td>0</td>\n",
       "      <td>0</td>\n",
       "      <td>0</td>\n",
       "      <td>1</td>\n",
       "      <td>0</td>\n",
       "      <td>0</td>\n",
       "      <td>0</td>\n",
       "    </tr>\n",
       "    <tr>\n",
       "      <th>2</th>\n",
       "      <td>1</td>\n",
       "      <td>3</td>\n",
       "      <td>Homer's Odyssey</td>\n",
       "      <td>1990-01-21</td>\n",
       "      <td>7.3</td>\n",
       "      <td>5000</td>\n",
       "      <td>After losing his job, Homer contemplates endin...</td>\n",
       "      <td>[Wes Archer]</td>\n",
       "      <td>[Jay Kogen, Wallace Wolodarsky]</td>\n",
       "      <td>7G03</td>\n",
       "      <td>27.5</td>\n",
       "      <td>3</td>\n",
       "      <td>0</td>\n",
       "      <td>1</td>\n",
       "      <td>1</td>\n",
       "      <td>0</td>\n",
       "      <td>0</td>\n",
       "      <td>0</td>\n",
       "      <td>0</td>\n",
       "      <td>0</td>\n",
       "    </tr>\n",
       "    <tr>\n",
       "      <th>3</th>\n",
       "      <td>1</td>\n",
       "      <td>4</td>\n",
       "      <td>There's No Disgrace Like Home</td>\n",
       "      <td>1990-01-28</td>\n",
       "      <td>7.6</td>\n",
       "      <td>4900</td>\n",
       "      <td>After being embarrassed by the rest of the fam...</td>\n",
       "      <td>[Kent Butterworth, Gregg Vanzo]</td>\n",
       "      <td>[Al Jean, Mike Reiss]</td>\n",
       "      <td>7G04</td>\n",
       "      <td>20.2</td>\n",
       "      <td>4</td>\n",
       "      <td>0</td>\n",
       "      <td>0</td>\n",
       "      <td>1</td>\n",
       "      <td>0</td>\n",
       "      <td>0</td>\n",
       "      <td>0</td>\n",
       "      <td>0</td>\n",
       "      <td>0</td>\n",
       "    </tr>\n",
       "    <tr>\n",
       "      <th>4</th>\n",
       "      <td>1</td>\n",
       "      <td>5</td>\n",
       "      <td>Bart the General</td>\n",
       "      <td>1990-02-04</td>\n",
       "      <td>7.9</td>\n",
       "      <td>5300</td>\n",
       "      <td>After being beaten up by Nelson Muntz one too ...</td>\n",
       "      <td>[David Silverman]</td>\n",
       "      <td>[John Swartzwelder]</td>\n",
       "      <td>7G05</td>\n",
       "      <td>27.1</td>\n",
       "      <td>5</td>\n",
       "      <td>0</td>\n",
       "      <td>0</td>\n",
       "      <td>0</td>\n",
       "      <td>0</td>\n",
       "      <td>1</td>\n",
       "      <td>0</td>\n",
       "      <td>0</td>\n",
       "      <td>0</td>\n",
       "    </tr>\n",
       "  </tbody>\n",
       "</table>\n",
       "</div>"
      ],
      "text/plain": [
       "   season  episode                               title    airdate rating  \\\n",
       "0       1        1   Simpsons Roasting on an Open Fire 1989-12-17    8.1   \n",
       "1       1        2                     Bart the Genius 1990-01-14    7.6   \n",
       "2       1        3                     Homer's Odyssey 1990-01-21    7.3   \n",
       "3       1        4       There's No Disgrace Like Home 1990-01-28    7.6   \n",
       "4       1        5                    Bart the General 1990-02-04    7.9   \n",
       "\n",
       "   total_votes                                               desc  \\\n",
       "0         8400  Homer is forced to become a department store S...   \n",
       "1         5700  Bart ends up at a school for gifted children a...   \n",
       "2         5000  After losing his job, Homer contemplates endin...   \n",
       "3         4900  After being embarrassed by the rest of the fam...   \n",
       "4         5300  After being beaten up by Nelson Muntz one too ...   \n",
       "\n",
       "                          director                           writer prod_code  \\\n",
       "0                [David Silverman]                      [Mimi Pond]      7G08   \n",
       "1                [David Silverman]                      [Jon Vitti]      7G02   \n",
       "2                     [Wes Archer]  [Jay Kogen, Wallace Wolodarsky]      7G03   \n",
       "3  [Kent Butterworth, Gregg Vanzo]            [Al Jean, Mike Reiss]      7G04   \n",
       "4                [David Silverman]              [John Swartzwelder]      7G05   \n",
       "\n",
       "  viewers  ep_overall  As_Themselves  Character_Played  Homer_main  \\\n",
       "0    26.7           1              0                 0           1   \n",
       "1    24.5           2              0                 0           0   \n",
       "2    27.5           3              0                 1           1   \n",
       "3    20.2           4              0                 0           1   \n",
       "4    27.1           5              0                 0           0   \n",
       "\n",
       "   Marge_main  Bart_main  Lisa_main  Maggie_main  Treehouse  \n",
       "0           1          1          0            0          0  \n",
       "1           0          1          0            0          0  \n",
       "2           0          0          0            0          0  \n",
       "3           0          0          0            0          0  \n",
       "4           0          1          0            0          0  "
      ]
     },
     "execution_count": 3,
     "metadata": {},
     "output_type": "execute_result"
    }
   ],
   "source": [
    "simpsons_episodes.head()"
   ]
  },
  {
   "cell_type": "code",
   "execution_count": 4,
   "id": "44b38e85-8652-44be-a4b5-61dcb9b65029",
   "metadata": {
    "tags": []
   },
   "outputs": [],
   "source": [
    "simpsons_episodes.rating = simpsons_episodes.rating.astype('float')\n",
    "simpsons_episodes.viewers = simpsons_episodes.viewers.astype('float')"
   ]
  },
  {
   "cell_type": "code",
   "execution_count": 6,
   "id": "f0ef222b-db07-44c3-93ff-637e7108bedf",
   "metadata": {
    "tags": []
   },
   "outputs": [],
   "source": [
    "simpsons_episodes['votes_k'] = simpsons_episodes.total_votes.apply(lambda x: x/1000)\n",
    "simpsons_episodes['title'] = simpsons_episodes.title.apply(lambda x: x.strip())\n",
    "simpsons_episodes['date_format'] = simpsons_episodes.airdate.apply(lambda x: x.strftime(\"%a %d %b %Y\"))"
   ]
  },
  {
   "cell_type": "code",
   "execution_count": 7,
   "id": "6b5017f5-50d5-4120-91a8-21bd2d0a7d29",
   "metadata": {
    "tags": []
   },
   "outputs": [],
   "source": [
    "# There is an episode (S28E12&13) that is actually a two parter. Therefore, duplicate the details (but add part 1 and 2 to title)\n",
    "\n",
    "mask1 = (simpsons_episodes.season==28)\n",
    "mask2 = (simpsons_episodes.episode==12)\n",
    "two_parter = simpsons_episodes[mask1 & mask2].copy()\n",
    "simpsons_episodes['title'] = np.where(mask1 & mask2, \"The Great Phatsby (part 1)\", simpsons_episodes['title'])\n",
    "two_parter.title = \"The Great Phatsby (part 2)\"\n",
    "two_parter.episode = 13\n",
    "simpsons_episodes_full = pd.concat([simpsons_episodes, two_parter])\n",
    "simpsons_episodes_full.reset_index(drop=True, inplace=True)"
   ]
  },
  {
   "cell_type": "markdown",
   "id": "9ffd4f0f-bbf9-4fd1-94d6-1c80a9e3a236",
   "metadata": {},
   "source": [
    "# BERTopic"
   ]
  },
  {
   "cell_type": "markdown",
   "id": "8c3d1b9c-0838-4482-8ffc-e6c12f35a378",
   "metadata": {},
   "source": [
    "Using the episode title and description, what topics does BERTopic produce?\n",
    "- Plot these topics in 3D for visualization\n",
    "- What do these topics generally represent?\n",
    "- What are the average ratings/viewerships of these topics?"
   ]
  },
  {
   "cell_type": "code",
   "execution_count": 8,
   "id": "5dcbbae0-9788-4707-b2a4-c7dde3eeee0f",
   "metadata": {
    "collapsed": true,
    "jupyter": {
     "outputs_hidden": true
    },
    "tags": []
   },
   "outputs": [
    {
     "name": "stdout",
     "output_type": "stream",
     "text": [
      "Defaulting to user installation because normal site-packages is not writeable\n",
      "Collecting bertopic\n",
      "  Using cached bertopic-0.15.0-py2.py3-none-any.whl (143 kB)\n",
      "Requirement already satisfied: numpy>=1.20.0 in c:\\programdata\\anaconda3\\lib\\site-packages (from bertopic) (1.24.3)\n",
      "Requirement already satisfied: hdbscan>=0.8.29 in c:\\users\\jamie\\appdata\\roaming\\python\\python311\\site-packages (from bertopic) (0.8.33)\n",
      "Requirement already satisfied: umap-learn>=0.5.0 in c:\\users\\jamie\\appdata\\roaming\\python\\python311\\site-packages (from bertopic) (0.5.4)\n",
      "Requirement already satisfied: pandas>=1.1.5 in c:\\programdata\\anaconda3\\lib\\site-packages (from bertopic) (1.5.3)\n",
      "Requirement already satisfied: scikit-learn>=0.22.2.post1 in c:\\programdata\\anaconda3\\lib\\site-packages (from bertopic) (1.2.2)\n",
      "Requirement already satisfied: tqdm>=4.41.1 in c:\\programdata\\anaconda3\\lib\\site-packages (from bertopic) (4.65.0)\n",
      "Collecting sentence-transformers>=0.4.1 (from bertopic)\n",
      "  Using cached sentence_transformers-2.2.2-py3-none-any.whl\n",
      "Requirement already satisfied: plotly>=4.7.0 in c:\\programdata\\anaconda3\\lib\\site-packages (from bertopic) (5.9.0)\n",
      "Requirement already satisfied: cython<3,>=0.27 in c:\\users\\jamie\\appdata\\roaming\\python\\python311\\site-packages (from hdbscan>=0.8.29->bertopic) (0.29.36)\n",
      "Requirement already satisfied: scipy>=1.0 in c:\\programdata\\anaconda3\\lib\\site-packages (from hdbscan>=0.8.29->bertopic) (1.10.1)\n",
      "Requirement already satisfied: joblib>=1.0 in c:\\programdata\\anaconda3\\lib\\site-packages (from hdbscan>=0.8.29->bertopic) (1.2.0)\n",
      "Requirement already satisfied: python-dateutil>=2.8.1 in c:\\programdata\\anaconda3\\lib\\site-packages (from pandas>=1.1.5->bertopic) (2.8.2)\n",
      "Requirement already satisfied: pytz>=2020.1 in c:\\programdata\\anaconda3\\lib\\site-packages (from pandas>=1.1.5->bertopic) (2022.7)\n",
      "Requirement already satisfied: tenacity>=6.2.0 in c:\\programdata\\anaconda3\\lib\\site-packages (from plotly>=4.7.0->bertopic) (8.2.2)\n",
      "Requirement already satisfied: threadpoolctl>=2.0.0 in c:\\programdata\\anaconda3\\lib\\site-packages (from scikit-learn>=0.22.2.post1->bertopic) (2.2.0)\n",
      "Collecting transformers<5.0.0,>=4.6.0 (from sentence-transformers>=0.4.1->bertopic)\n",
      "  Using cached transformers-4.35.0-py3-none-any.whl (7.9 MB)\n",
      "Requirement already satisfied: torch>=1.6.0 in c:\\users\\jamie\\appdata\\roaming\\python\\python311\\site-packages (from sentence-transformers>=0.4.1->bertopic) (2.1.0)\n",
      "Requirement already satisfied: torchvision in c:\\users\\jamie\\appdata\\roaming\\python\\python311\\site-packages (from sentence-transformers>=0.4.1->bertopic) (0.16.0)\n",
      "Requirement already satisfied: nltk in c:\\programdata\\anaconda3\\lib\\site-packages (from sentence-transformers>=0.4.1->bertopic) (3.7)\n",
      "Requirement already satisfied: sentencepiece in c:\\users\\jamie\\appdata\\roaming\\python\\python311\\site-packages (from sentence-transformers>=0.4.1->bertopic) (0.1.99)\n",
      "Requirement already satisfied: huggingface-hub>=0.4.0 in c:\\users\\jamie\\appdata\\roaming\\python\\python311\\site-packages (from sentence-transformers>=0.4.1->bertopic) (0.17.3)\n",
      "Requirement already satisfied: colorama in c:\\programdata\\anaconda3\\lib\\site-packages (from tqdm>=4.41.1->bertopic) (0.4.6)\n",
      "Requirement already satisfied: numba>=0.51.2 in c:\\programdata\\anaconda3\\lib\\site-packages (from umap-learn>=0.5.0->bertopic) (0.57.0)\n",
      "Requirement already satisfied: pynndescent>=0.5 in c:\\users\\jamie\\appdata\\roaming\\python\\python311\\site-packages (from umap-learn>=0.5.0->bertopic) (0.5.10)\n",
      "Requirement already satisfied: filelock in c:\\programdata\\anaconda3\\lib\\site-packages (from huggingface-hub>=0.4.0->sentence-transformers>=0.4.1->bertopic) (3.9.0)\n",
      "Requirement already satisfied: fsspec in c:\\users\\jamie\\appdata\\roaming\\python\\python311\\site-packages (from huggingface-hub>=0.4.0->sentence-transformers>=0.4.1->bertopic) (2023.10.0)\n",
      "Requirement already satisfied: requests in c:\\programdata\\anaconda3\\lib\\site-packages (from huggingface-hub>=0.4.0->sentence-transformers>=0.4.1->bertopic) (2.29.0)\n",
      "Requirement already satisfied: pyyaml>=5.1 in c:\\programdata\\anaconda3\\lib\\site-packages (from huggingface-hub>=0.4.0->sentence-transformers>=0.4.1->bertopic) (6.0)\n",
      "Requirement already satisfied: typing-extensions>=3.7.4.3 in c:\\programdata\\anaconda3\\lib\\site-packages (from huggingface-hub>=0.4.0->sentence-transformers>=0.4.1->bertopic) (4.6.3)\n",
      "Requirement already satisfied: packaging>=20.9 in c:\\programdata\\anaconda3\\lib\\site-packages (from huggingface-hub>=0.4.0->sentence-transformers>=0.4.1->bertopic) (23.0)\n",
      "Requirement already satisfied: llvmlite<0.41,>=0.40.0dev0 in c:\\programdata\\anaconda3\\lib\\site-packages (from numba>=0.51.2->umap-learn>=0.5.0->bertopic) (0.40.0)\n",
      "Requirement already satisfied: six>=1.5 in c:\\programdata\\anaconda3\\lib\\site-packages (from python-dateutil>=2.8.1->pandas>=1.1.5->bertopic) (1.16.0)\n",
      "Requirement already satisfied: sympy in c:\\programdata\\anaconda3\\lib\\site-packages (from torch>=1.6.0->sentence-transformers>=0.4.1->bertopic) (1.11.1)\n",
      "Requirement already satisfied: networkx in c:\\programdata\\anaconda3\\lib\\site-packages (from torch>=1.6.0->sentence-transformers>=0.4.1->bertopic) (2.8.4)\n",
      "Requirement already satisfied: jinja2 in c:\\programdata\\anaconda3\\lib\\site-packages (from torch>=1.6.0->sentence-transformers>=0.4.1->bertopic) (3.1.2)\n",
      "Requirement already satisfied: regex!=2019.12.17 in c:\\programdata\\anaconda3\\lib\\site-packages (from transformers<5.0.0,>=4.6.0->sentence-transformers>=0.4.1->bertopic) (2022.7.9)\n",
      "Requirement already satisfied: tokenizers<0.15,>=0.14 in c:\\users\\jamie\\appdata\\roaming\\python\\python311\\site-packages (from transformers<5.0.0,>=4.6.0->sentence-transformers>=0.4.1->bertopic) (0.14.1)\n",
      "Requirement already satisfied: safetensors>=0.3.1 in c:\\users\\jamie\\appdata\\roaming\\python\\python311\\site-packages (from transformers<5.0.0,>=4.6.0->sentence-transformers>=0.4.1->bertopic) (0.4.0)\n",
      "Requirement already satisfied: click in c:\\programdata\\anaconda3\\lib\\site-packages (from nltk->sentence-transformers>=0.4.1->bertopic) (8.0.4)\n",
      "Requirement already satisfied: pillow!=8.3.*,>=5.3.0 in c:\\programdata\\anaconda3\\lib\\site-packages (from torchvision->sentence-transformers>=0.4.1->bertopic) (9.4.0)\n",
      "Requirement already satisfied: MarkupSafe>=2.0 in c:\\programdata\\anaconda3\\lib\\site-packages (from jinja2->torch>=1.6.0->sentence-transformers>=0.4.1->bertopic) (2.1.1)\n",
      "Requirement already satisfied: charset-normalizer<4,>=2 in c:\\programdata\\anaconda3\\lib\\site-packages (from requests->huggingface-hub>=0.4.0->sentence-transformers>=0.4.1->bertopic) (2.0.4)\n",
      "Requirement already satisfied: idna<4,>=2.5 in c:\\programdata\\anaconda3\\lib\\site-packages (from requests->huggingface-hub>=0.4.0->sentence-transformers>=0.4.1->bertopic) (3.4)\n",
      "Requirement already satisfied: urllib3<1.27,>=1.21.1 in c:\\programdata\\anaconda3\\lib\\site-packages (from requests->huggingface-hub>=0.4.0->sentence-transformers>=0.4.1->bertopic) (1.26.16)\n",
      "Requirement already satisfied: certifi>=2017.4.17 in c:\\programdata\\anaconda3\\lib\\site-packages (from requests->huggingface-hub>=0.4.0->sentence-transformers>=0.4.1->bertopic) (2023.7.22)\n",
      "Requirement already satisfied: mpmath>=0.19 in c:\\programdata\\anaconda3\\lib\\site-packages (from sympy->torch>=1.6.0->sentence-transformers>=0.4.1->bertopic) (1.2.1)\n",
      "Installing collected packages: transformers, sentence-transformers, bertopic\n",
      "Successfully installed bertopic-0.15.0 sentence-transformers-2.2.2 transformers-4.35.0\n"
     ]
    },
    {
     "name": "stderr",
     "output_type": "stream",
     "text": [
      "  WARNING: The script transformers-cli.exe is installed in 'C:\\Users\\Jamie\\AppData\\Roaming\\Python\\Python311\\Scripts' which is not on PATH.\n",
      "  Consider adding this directory to PATH or, if you prefer to suppress this warning, use --no-warn-script-location.\n"
     ]
    }
   ],
   "source": [
    "!pip install bertopic"
   ]
  },
  {
   "cell_type": "code",
   "execution_count": 9,
   "id": "9225a07d-fd3a-447d-be12-5fb60da12a78",
   "metadata": {
    "collapsed": true,
    "jupyter": {
     "outputs_hidden": true
    },
    "tags": []
   },
   "outputs": [
    {
     "name": "stdout",
     "output_type": "stream",
     "text": [
      "Defaulting to user installation because normal site-packages is not writeable\n",
      "Requirement already satisfied: sentence-transformers in c:\\users\\jamie\\appdata\\roaming\\python\\python311\\site-packages (2.2.2)\n",
      "Requirement already satisfied: transformers<5.0.0,>=4.6.0 in c:\\users\\jamie\\appdata\\roaming\\python\\python311\\site-packages (from sentence-transformers) (4.35.0)\n",
      "Requirement already satisfied: tqdm in c:\\programdata\\anaconda3\\lib\\site-packages (from sentence-transformers) (4.65.0)\n",
      "Requirement already satisfied: torch>=1.6.0 in c:\\users\\jamie\\appdata\\roaming\\python\\python311\\site-packages (from sentence-transformers) (2.1.0)\n",
      "Requirement already satisfied: torchvision in c:\\users\\jamie\\appdata\\roaming\\python\\python311\\site-packages (from sentence-transformers) (0.16.0)\n",
      "Requirement already satisfied: numpy in c:\\programdata\\anaconda3\\lib\\site-packages (from sentence-transformers) (1.24.3)\n",
      "Requirement already satisfied: scikit-learn in c:\\programdata\\anaconda3\\lib\\site-packages (from sentence-transformers) (1.2.2)\n",
      "Requirement already satisfied: scipy in c:\\programdata\\anaconda3\\lib\\site-packages (from sentence-transformers) (1.10.1)\n",
      "Requirement already satisfied: nltk in c:\\programdata\\anaconda3\\lib\\site-packages (from sentence-transformers) (3.7)\n",
      "Requirement already satisfied: sentencepiece in c:\\users\\jamie\\appdata\\roaming\\python\\python311\\site-packages (from sentence-transformers) (0.1.99)\n",
      "Requirement already satisfied: huggingface-hub>=0.4.0 in c:\\users\\jamie\\appdata\\roaming\\python\\python311\\site-packages (from sentence-transformers) (0.17.3)\n",
      "Requirement already satisfied: filelock in c:\\programdata\\anaconda3\\lib\\site-packages (from huggingface-hub>=0.4.0->sentence-transformers) (3.9.0)\n",
      "Requirement already satisfied: fsspec in c:\\users\\jamie\\appdata\\roaming\\python\\python311\\site-packages (from huggingface-hub>=0.4.0->sentence-transformers) (2023.10.0)\n",
      "Requirement already satisfied: requests in c:\\programdata\\anaconda3\\lib\\site-packages (from huggingface-hub>=0.4.0->sentence-transformers) (2.29.0)\n",
      "Requirement already satisfied: pyyaml>=5.1 in c:\\programdata\\anaconda3\\lib\\site-packages (from huggingface-hub>=0.4.0->sentence-transformers) (6.0)\n",
      "Requirement already satisfied: typing-extensions>=3.7.4.3 in c:\\programdata\\anaconda3\\lib\\site-packages (from huggingface-hub>=0.4.0->sentence-transformers) (4.6.3)\n",
      "Requirement already satisfied: packaging>=20.9 in c:\\programdata\\anaconda3\\lib\\site-packages (from huggingface-hub>=0.4.0->sentence-transformers) (23.0)\n",
      "Requirement already satisfied: sympy in c:\\programdata\\anaconda3\\lib\\site-packages (from torch>=1.6.0->sentence-transformers) (1.11.1)\n",
      "Requirement already satisfied: networkx in c:\\programdata\\anaconda3\\lib\\site-packages (from torch>=1.6.0->sentence-transformers) (2.8.4)\n",
      "Requirement already satisfied: jinja2 in c:\\programdata\\anaconda3\\lib\\site-packages (from torch>=1.6.0->sentence-transformers) (3.1.2)\n",
      "Requirement already satisfied: colorama in c:\\programdata\\anaconda3\\lib\\site-packages (from tqdm->sentence-transformers) (0.4.6)\n",
      "Requirement already satisfied: regex!=2019.12.17 in c:\\programdata\\anaconda3\\lib\\site-packages (from transformers<5.0.0,>=4.6.0->sentence-transformers) (2022.7.9)\n",
      "Requirement already satisfied: tokenizers<0.15,>=0.14 in c:\\users\\jamie\\appdata\\roaming\\python\\python311\\site-packages (from transformers<5.0.0,>=4.6.0->sentence-transformers) (0.14.1)\n",
      "Requirement already satisfied: safetensors>=0.3.1 in c:\\users\\jamie\\appdata\\roaming\\python\\python311\\site-packages (from transformers<5.0.0,>=4.6.0->sentence-transformers) (0.4.0)\n",
      "Requirement already satisfied: click in c:\\programdata\\anaconda3\\lib\\site-packages (from nltk->sentence-transformers) (8.0.4)\n",
      "Requirement already satisfied: joblib in c:\\programdata\\anaconda3\\lib\\site-packages (from nltk->sentence-transformers) (1.2.0)\n",
      "Requirement already satisfied: threadpoolctl>=2.0.0 in c:\\programdata\\anaconda3\\lib\\site-packages (from scikit-learn->sentence-transformers) (2.2.0)\n",
      "Requirement already satisfied: pillow!=8.3.*,>=5.3.0 in c:\\programdata\\anaconda3\\lib\\site-packages (from torchvision->sentence-transformers) (9.4.0)\n",
      "Requirement already satisfied: MarkupSafe>=2.0 in c:\\programdata\\anaconda3\\lib\\site-packages (from jinja2->torch>=1.6.0->sentence-transformers) (2.1.1)\n",
      "Requirement already satisfied: charset-normalizer<4,>=2 in c:\\programdata\\anaconda3\\lib\\site-packages (from requests->huggingface-hub>=0.4.0->sentence-transformers) (2.0.4)\n",
      "Requirement already satisfied: idna<4,>=2.5 in c:\\programdata\\anaconda3\\lib\\site-packages (from requests->huggingface-hub>=0.4.0->sentence-transformers) (3.4)\n",
      "Requirement already satisfied: urllib3<1.27,>=1.21.1 in c:\\programdata\\anaconda3\\lib\\site-packages (from requests->huggingface-hub>=0.4.0->sentence-transformers) (1.26.16)\n",
      "Requirement already satisfied: certifi>=2017.4.17 in c:\\programdata\\anaconda3\\lib\\site-packages (from requests->huggingface-hub>=0.4.0->sentence-transformers) (2023.7.22)\n",
      "Requirement already satisfied: mpmath>=0.19 in c:\\programdata\\anaconda3\\lib\\site-packages (from sympy->torch>=1.6.0->sentence-transformers) (1.2.1)\n"
     ]
    }
   ],
   "source": [
    "!pip install -U sentence-transformers"
   ]
  },
  {
   "cell_type": "code",
   "execution_count": 12,
   "id": "3a15c6ea-5e62-4d1f-912f-70c07fa662bd",
   "metadata": {
    "tags": []
   },
   "outputs": [],
   "source": [
    "from sentence_transformers import SentenceTransformer\n",
    "sent_model = SentenceTransformer('all-MiniLM-L6-v2')"
   ]
  },
  {
   "cell_type": "code",
   "execution_count": 71,
   "id": "0bf26867-e6a7-4e3f-bb6d-c549b8e69b21",
   "metadata": {
    "tags": []
   },
   "outputs": [],
   "source": [
    "# Create corpus\n",
    "simpsons_episodes['corpus'] = simpsons_episodes['title'] + ' ' + simpsons_episodes['desc']"
   ]
  },
  {
   "cell_type": "code",
   "execution_count": 72,
   "id": "0d39c33c-878d-400f-803f-400bdf1e3d79",
   "metadata": {
    "tags": []
   },
   "outputs": [],
   "source": [
    "sent_embeddings = sent_model.encode(simpsons_episodes['corpus'])"
   ]
  },
  {
   "cell_type": "code",
   "execution_count": 73,
   "id": "131e18e6-bf61-42e6-8d69-71ae47eed72f",
   "metadata": {
    "tags": []
   },
   "outputs": [],
   "source": [
    "from sklearn.manifold import TSNE\n",
    "\n",
    "tsne_model_3d = TSNE(perplexity=15, n_components=3,\n",
    "                     init='pca', n_iter=3500, random_state=42)\n",
    "tsne_embeddings_3d = tsne_model_3d.fit_transform(sent_embeddings)"
   ]
  },
  {
   "cell_type": "code",
   "execution_count": 96,
   "id": "4c2734b6-a408-4051-aa4f-418f251d32ac",
   "metadata": {
    "tags": []
   },
   "outputs": [],
   "source": [
    "from sklearn.feature_extraction.text import CountVectorizer\n",
    "from bertopic import BERTopic \n",
    "\n",
    "vectorizer_model = CountVectorizer(stop_words=\"english\", min_df=2, ngram_range=(1,2))\n",
    "topic_model = BERTopic(nr_topics = 'auto', vectorizer_model=vectorizer_model, min_topic_size=8)\n",
    "topics, probs = topic_model.fit_transform(simpsons_episodes['corpus'], sent_embeddings)"
   ]
  },
  {
   "cell_type": "code",
   "execution_count": 97,
   "id": "fdccde77-33f6-45f1-a9dd-b82242ed1315",
   "metadata": {
    "tags": []
   },
   "outputs": [],
   "source": [
    "import plotly.graph_objects as go\n",
    "from typing import List\n",
    "import textwrap\n",
    "\n",
    "def visualize_episodes(\n",
    "    topic_model,\n",
    "    docs: List[str],\n",
    "    reduced_embeddings: np.ndarray = None,\n",
    "    hide_annotations: bool = False,\n",
    "    hide_document_hover: bool = False,\n",
    "    title: str = \"Episode topics\",\n",
    "    width: int = 1200,\n",
    "    height: int = 750\n",
    "):\n",
    "    title_text = \"<b>\" + title\n",
    "    \n",
    "    topic_per_doc = topic_model.topics_\n",
    "    \n",
    "    df = docs[['season', 'episode', 'title', 'date_format', 'rating', 'total_votes', 'desc']]\n",
    "    df['topic'] = pd.DataFrame({'topic': topic_per_doc})\n",
    "    \n",
    "    df['x'] = reduced_embeddings[:,0]\n",
    "    df['y'] = reduced_embeddings[:,1]\n",
    "    df['z'] = reduced_embeddings[:,2]\n",
    "    \n",
    "    df['se'] = df.apply(lambda x: \"<b>Episode:</b> S\" + str(x['season']) + \"E\" + str(x['episode']) + \"<br>\", axis=1)\n",
    "    df['title'] = df['title'].apply(lambda x: \"<b>\" + x + \"</b><br>\")\n",
    "    df['date_format'] = df['date_format'].apply(lambda x: \"<b>Airdate:</b>\" + str(x) + \"<br>\")\n",
    "    df['desc'] = df['desc'].apply(lambda x: \"<b>Description:</b>\" + x + \"<br>\")\n",
    "    df['desc'] = df['desc'].apply(lambda txt: '<br>'.join(textwrap.wrap(txt, width=50)))\n",
    "    \n",
    "    unique_topics = set(topic_per_doc)\n",
    "    \n",
    "    # Prepare topic names as they appear on legend\n",
    "    names = [f\"{topic}_\" + \"_\".join([word for word, value in topic_model.get_topic(topic)][:3]) for topic in unique_topics]\n",
    "                                    \n",
    "    fig = go.Figure()\n",
    "    \n",
    "    # Outliers\n",
    "    non_selected_topics = [-1]\n",
    "    \n",
    "    selection = df[df['topic'].isin(non_selected_topics)]\n",
    "    selection['text'] = ''\n",
    "    selection.loc[len(selection), :] = [\"\", \"\", \"\", \"\", \"\", \"\", \"\", \"\", \"\", selection.x.mean(), selection.y.mean(), selection.z.mean(), 'Unselected']\n",
    "    \n",
    "    # Plot the unselected topics\n",
    "    fig.add_trace(\n",
    "        go.Scatter3d(\n",
    "            x = selection.x,\n",
    "            y = selection.y,\n",
    "            z = selection.z,\n",
    "            customdata = selection[['title', 'se', 'date_format', 'desc']],\n",
    "            hovertemplate = \n",
    "                \"%{customdata[0]}\" +\n",
    "                \"%{customdata[1]}\" +\n",
    "                \"%{customdata[2]}\" +\n",
    "                \"%{customdata[3]}\" +\n",
    "                \"<extra></extra>\",\n",
    "            text = selection.text,\n",
    "            mode = 'markers+text',\n",
    "            name = \"Unselected\",\n",
    "            showlegend=True,\n",
    "            textfont = dict(\n",
    "                size = 12,\n",
    "            ),\n",
    "            marker = dict(color='#CFD8DC', size=5, opacity=0.75)\n",
    "        )\n",
    "    )\n",
    "    \n",
    "    # Selected topics\n",
    "    for name, topic in zip(names, unique_topics):\n",
    "        if topic in topics and topic != -1:\n",
    "            selection = df[df['topic']==topic]\n",
    "            selection['text'] = ''\n",
    "            \n",
    "            if not hide_annotations:\n",
    "                selection.loc[len(selection), :] = [\"\", \"\", \"\", \"\", \"\", \"\", \"\", \"\", \"\", selection.x.mean(), selection.y.mean(), selection.z.mean(), name]\n",
    "                \n",
    "            fig.add_trace(\n",
    "                go.Scatter3d(\n",
    "                    x = selection.x,\n",
    "                    y = selection.y,\n",
    "                    z = selection.z,\n",
    "                    customdata = selection[['title', 'se', 'date_format', 'desc']],\n",
    "                    hovertemplate = \n",
    "                        \"%{customdata[0]}\" +\n",
    "                        \"%{customdata[1]}\" +\n",
    "                        \"%{customdata[2]}\" +\n",
    "                        \"%{customdata[3]}\" +\n",
    "                        \"<extra></extra>\",\n",
    "                    text = selection.text,\n",
    "                    mode = 'markers+text',\n",
    "                    name = name,\n",
    "                    textfont = dict(\n",
    "                        size = 12,\n",
    "                    ),\n",
    "                    marker = dict(size=5, opacity=0.75)\n",
    "                )\n",
    "            )\n",
    "            \n",
    "    # Stylize layout\n",
    "    fig.update_layout(\n",
    "        template=\"simple_white\",\n",
    "        title={\n",
    "            'text': title_text,\n",
    "            'x': 0.5,\n",
    "            'xanchor': 'center',\n",
    "            'yanchor': 'top',\n",
    "            'font': dict(\n",
    "                size=22,\n",
    "                color=\"Black\")\n",
    "        },\n",
    "        width = width,\n",
    "        height = height\n",
    "    )\n",
    "    \n",
    "    return fig\n",
    "    "
   ]
  },
  {
   "cell_type": "code",
   "execution_count": 98,
   "id": "30d66936-0b18-419f-93ce-a8e632fd3cb9",
   "metadata": {
    "tags": []
   },
   "outputs": [
    {
     "data": {
      "application/vnd.plotly.v1+json": {
       "config": {
        "plotlyServerURL": "https://plot.ly"
       },
       "data": [
        {
         "customdata": [
          [
           "<b>Moaning Lisa</b><br>",
           "<b>Episode:</b> S1E6<br>",
           "<b>Airdate:</b>Sun 11 Feb 1990<br>",
           "<b>Description:</b>A depressed Lisa's spirit is<br>lifted when she meets a jazz-man, Bleeding Gums<br>Murphy.<br>"
          ],
          [
           "<b>The Call of the Simpsons</b><br>",
           "<b>Episode:</b> S1E7<br>",
           "<b>Airdate:</b>Sun 18 Feb 1990<br>",
           "<b>Description:</b>Homer takes the family camping,<br>but it soon becomes a misadventure when they lose<br>their equipment and Homer is mistaken for<br>Bigfoot.<br>"
          ],
          [
           "<b>The Telltale Head</b><br>",
           "<b>Episode:</b> S1E8<br>",
           "<b>Airdate:</b>Sun 25 Feb 1990<br>",
           "<b>Description:</b>Bart gets more than he<br>bargained for when he saws the head off a statue<br>of the town's founder.<br>"
          ],
          [
           "<b>Homer's Night Out</b><br>",
           "<b>Episode:</b> S1E10<br>",
           "<b>Airdate:</b>Sun 25 Mar 1990<br>",
           "<b>Description:</b>After a photograph of Homer<br>canoodling with an exotic dancer is distributed<br>throughout Springfield, he finds himself kicked<br>out of the house by Marge.<br>"
          ],
          [
           "<b>Some Enchanted Evening</b><br>",
           "<b>Episode:</b> S1E13<br>",
           "<b>Airdate:</b>Sun 13 May 1990<br>",
           "<b>Description:</b>Homer and Marge enjoy a night<br>on the town, leaving the kids with a diabolical<br>babysitter, with a surprising secret.<br>"
          ],
          [
           "<b>Simpson and Delilah</b><br>",
           "<b>Episode:</b> S2E2<br>",
           "<b>Airdate:</b>Thu 18 Oct 1990<br>",
           "<b>Description:</b>Homer lies on a medical<br>insurance form in order to obtain a miracle hair<br>restoring drug.<br>"
          ],
          [
           "<b>Bart vs. Thanksgiving</b><br>",
           "<b>Episode:</b> S2E7<br>",
           "<b>Airdate:</b>Thu 22 Nov 1990<br>",
           "<b>Description:</b>On Thanksgiving, Bart runs away<br>after fighting with Lisa.<br>"
          ],
          [
           "<b>Bart the Daredevil</b><br>",
           "<b>Episode:</b> S2E8<br>",
           "<b>Airdate:</b>Thu 06 Dec 1990<br>",
           "<b>Description:</b>After seeing a motorcycle<br>daredevil at a monster truck show, Bart becomes a<br>death-defying daredevil skateboarder.<br>"
          ],
          [
           "<b>Itchy & Scratchy & Marge</b><br>",
           "<b>Episode:</b> S2E9<br>",
           "<b>Airdate:</b>Thu 20 Dec 1990<br>",
           "<b>Description:</b>Marge becomes a crusader<br>against cartoon violence after \"Itchy and<br>Scratchy\" seemingly inspires Maggie to attack<br>Homer.<br>"
          ],
          [
           "<b>Bart Gets Hit by a Car</b><br>",
           "<b>Episode:</b> S2E10<br>",
           "<b>Airdate:</b>Thu 10 Jan 1991<br>",
           "<b>Description:</b>After Bart gets hit by a car<br>driven by Mr. Burns, Homer is manipulated by<br>ambulance-chaser Lionel Hutz into bringing an<br>outrageous lawsuit against his boss.<br>"
          ],
          [
           "<b>One Fish, Two Fish, Blowfish, Blue Fish</b><br>",
           "<b>Episode:</b> S2E11<br>",
           "<b>Airdate:</b>Thu 24 Jan 1991<br>",
           "<b>Description:</b>After apparently consuming<br>poison blowfish, Homer is told that he only has 24<br>hours to live.<br>"
          ],
          [
           "<b>Homer vs. Lisa and the 8th Commandment</b><br>",
           "<b>Episode:</b> S2E13<br>",
           "<b>Airdate:</b>Tue 23 Jul 1991<br>",
           "<b>Description:</b>Homer gets a crooked cable guy<br>to install free cable in the Simpson home, and as<br>a result, Lisa faces an ethical crisis over her<br>family's stealing.<br>"
          ],
          [
           "<b>Principal Charming</b><br>",
           "<b>Episode:</b> S2E14<br>",
           "<b>Airdate:</b>Thu 14 Feb 1991<br>",
           "<b>Description:</b>Homer tries to set Selma up<br>with Principal Skinner, only for him to fall for<br>Patty instead.<br>"
          ],
          [
           "<b>Oh Brother, Where Art Thou?</b><br>",
           "<b>Episode:</b> S2E15<br>",
           "<b>Airdate:</b>Thu 21 Feb 1991<br>",
           "<b>Description:</b>Homer meets his half-brother<br>Herb Powell, an automobile tycoon who zealously<br>bonds with the family and tasks Homer with<br>designing a car for the average American.<br>"
          ],
          [
           "<b>Lisa's Substitute</b><br>",
           "<b>Episode:</b> S2E19<br>",
           "<b>Airdate:</b>Thu 25 Apr 1991<br>",
           "<b>Description:</b>Lisa has a crush on her<br>substitute teacher; Bart decides to run for class<br>president.<br>"
          ],
          [
           "<b>Three Men and a Comic Book</b><br>",
           "<b>Episode:</b> S2E21<br>",
           "<b>Airdate:</b>Thu 09 May 1991<br>",
           "<b>Description:</b>Bart, Milhouse and Martin each<br>pitch in to buy an highly-collectible \"Radioactive<br>Man\" comic book, which soon has a disastrous<br>effect on their friendship.<br>"
          ],
          [
           "<b>Blood Feud</b><br>",
           "<b>Episode:</b> S2E22<br>",
           "<b>Airdate:</b>Thu 11 Jul 1991<br>",
           "<b>Description:</b>After Bart saves Mr. Burns'<br>life with a donated blood transfusion, Homer vows<br>revenge when they receive only a \"thank you\" card<br>as compensation.<br>"
          ],
          [
           "<b>Saturdays of Thunder</b><br>",
           "<b>Episode:</b> S3E9<br>",
           "<b>Airdate:</b>Thu 14 Nov 1991<br>",
           "<b>Description:</b>After Homer fails a fathering<br>test, he decides to help Bart build his Soap Box<br>Derby racer.<br>"
          ],
          [
           "<b>Homer Alone</b><br>",
           "<b>Episode:</b> S3E15<br>",
           "<b>Airdate:</b>Thu 06 Feb 1992<br>",
           "<b>Description:</b>While Marge spends a couple of<br>days at Rancho Relaxo after she has a breakdown,<br>Bart and Lisa stay with Patty and Selma, and Homer<br>stays at home to take care of Maggie.<br>"
          ],
          [
           "<b>Separate Vocations</b><br>",
           "<b>Episode:</b> S3E18<br>",
           "<b>Airdate:</b>Thu 27 Feb 1992<br>",
           "<b>Description:</b>After aptitude tests seemingly<br>indicate that they are best-suited to police work<br>and homemaking respectively, Bart is made hall<br>monitor while Lisa becomes a delinquent.<br>"
          ],
          [
           "<b>Colonel Homer</b><br>",
           "<b>Episode:</b> S3E20<br>",
           "<b>Airdate:</b>Sun 06 Dec 1992<br>",
           "<b>Description:</b>Homer becomes the manager of a<br>beautiful young country singer and finds himself<br>almost attracted to her, sparking Marge's<br>jealousy.<br>"
          ],
          [
           "<b>The Otto Show</b><br>",
           "<b>Episode:</b> S3E22<br>",
           "<b>Airdate:</b>Thu 23 Apr 1992<br>",
           "<b>Description:</b>After Otto loses his job as<br>school bus driver because he does not have a<br>license, Bart convinces Homer and Marge to let<br>Otto stay with them until he gets back on his<br>feet.<br>"
          ],
          [
           "<b>Bart's Friend Falls in Love</b><br>",
           "<b>Episode:</b> S3E23<br>",
           "<b>Airdate:</b>Thu 07 May 1992<br>",
           "<b>Description:</b>Bart becomes jealous when<br>Milhouse falls in love with a new student named<br>Samantha; Homer accidentally receives a<br>vocabulary-building tape instead of a weight-loss<br>one.<br>"
          ],
          [
           "<b>Brother, Can You Spare Two Dimes?</b><br>",
           "<b>Episode:</b> S3E24<br>",
           "<b>Airdate:</b>Thu 27 Aug 1992<br>",
           "<b>Description:</b>After Homer \"wins\" a $2000<br>settlement from the plant due to radiation-induced<br>sterilization, his half-brother Herb sees an<br>opportunity to regain his fortune.<br>"
          ],
          [
           "<b>Kamp Krusty</b><br>",
           "<b>Episode:</b> S4E1<br>",
           "<b>Airdate:</b>Thu 24 Sep 1992<br>",
           "<b>Description:</b>Bart and Lisa attend \"Kamp<br>Krusty\" but it is nothing like they thought it<br>would be; Homer's hair grows back and he loses<br>weight while the kids are away.<br>"
          ],
          [
           "<b>A Streetcar Named Marge</b><br>",
           "<b>Episode:</b> S4E2<br>",
           "<b>Airdate:</b>Thu 01 Oct 1992<br>",
           "<b>Description:</b>Marge stars in a musical<br>adaptation of A Streetcar Named Desire, but is<br>angry with Homer's lack of interest; Maggie<br>squares off with her strict new daycare owner.<br>"
          ],
          [
           "<b>Lisa the Beauty Queen</b><br>",
           "<b>Episode:</b> S4E4<br>",
           "<b>Airdate:</b>Thu 15 Oct 1992<br>",
           "<b>Description:</b>Homer enters Lisa in the Little<br>Miss Springfield pageant to build her self-<br>esteem.<br>"
          ],
          [
           "<b>Itchy & Scratchy: The Movie</b><br>",
           "<b>Episode:</b> S4E6<br>",
           "<b>Airdate:</b>Tue 03 Nov 1992<br>",
           "<b>Description:</b>With Bart continually getting<br>in trouble, Homer bans him from seeing the new<br>Itchy & Scratchy movie.<br>"
          ],
          [
           "<b>New Kid on the Block</b><br>",
           "<b>Episode:</b> S4E8<br>",
           "<b>Airdate:</b>Thu 12 Nov 1992<br>",
           "<b>Description:</b>Bart develops a crush on his<br>new neighbor, only to discover that she's dating<br>Jimbo Jones; Homer sues an all-you-can-eat<br>restaurant after he's kicked out.<br>"
          ],
          [
           "<b>Mr. Plow</b><br>",
           "<b>Episode:</b> S4E9<br>",
           "<b>Airdate:</b>Thu 19 Nov 1992<br>",
           "<b>Description:</b>Homer opens a successful snow-<br>plowing business, only to inspire Barney to start<br>a rival outfit that puts him out of work.<br>"
          ],
          [
           "<b>Homer's Triple Bypass</b><br>",
           "<b>Episode:</b> S4E11<br>",
           "<b>Airdate:</b>Sun 10 Jan 1993<br>",
           "<b>Description:</b>Years of poor eating habits<br>catch up with Homer when he suffers a massive<br>heart attack, but the family can't afford the<br>triple bypass operation he needs.<br>"
          ],
          [
           "<b>Marge vs. the Monorail</b><br>",
           "<b>Episode:</b> S4E12<br>",
           "<b>Airdate:</b>Thu 14 Jan 1993<br>",
           "<b>Description:</b>After receiving a considerable<br>donation of money, Springfield builds a monorail<br>system with Homer as the conductor, unaware<br>they've just boarded a one-way train to Hell.<br>"
          ],
          [
           "<b>Selma's Choice</b><br>",
           "<b>Episode:</b> S4E13<br>",
           "<b>Airdate:</b>Thu 21 Jan 1993<br>",
           "<b>Description:</b>Selma starts to feel broody,<br>but after taking Bart and Lisa to Duff Gardens,<br>she changes her mind.<br>"
          ],
          [
           "<b>Duffless</b><br>",
           "<b>Episode:</b> S4E16<br>",
           "<b>Airdate:</b>Thu 18 Feb 1993<br>",
           "<b>Description:</b>After Homer loses his license<br>for DUI, Marge pressures him to give up beer for a<br>month; Lisa attempts to prove that Bart is less<br>intelligent than a hamster.<br>"
          ],
          [
           "<b>So It's Come to This: A Simpsons Clip Show</b><br>",
           "<b>Episode:</b> S4E18<br>",
           "<b>Airdate:</b>Thu 01 Apr 1993<br>",
           "<b>Description:</b>While Homer recovers in<br>hospital from Bart's disastrous April Fool's Day<br>prank, the family reminiscences over earlier<br>hardships.<br>"
          ],
          [
           "<b>The Front</b><br>",
           "<b>Episode:</b> S4E19<br>",
           "<b>Airdate:</b>Sun 02 May 1993<br>",
           "<b>Description:</b>Bart and Lisa convince Grampa<br>to let them use his name for episodes of \"Itchy<br>and Scratchy\" they have written; Homer re-takes a<br>test he failed in high school.<br>"
          ],
          [
           "<b>Homer's Barbershop Quartet</b><br>",
           "<b>Episode:</b> S5E1<br>",
           "<b>Airdate:</b>Thu 30 Sep 1993<br>",
           "<b>Description:</b>After the kids find a record<br>with Homer's picture on it, he recalls the story<br>of how he achieved fame in the 1980s with his<br>barbershop quartet, The Be Sharps.<br>"
          ],
          [
           "<b>The Last Temptation of Homer</b><br>",
           "<b>Episode:</b> S5E9<br>",
           "<b>Airdate:</b>Thu 09 Dec 1993<br>",
           "<b>Description:</b>Homer's marriage is in trouble<br>when he develops an attraction to a new co-worker;<br>Bart undergoes medical treatments that make him<br>look like a nerd.<br>"
          ],
          [
           "<b>Homer and Apu</b><br>",
           "<b>Episode:</b> S5E13<br>",
           "<b>Airdate:</b>Thu 10 Feb 1994<br>",
           "<b>Description:</b>Apu moves in with the Simpsons<br>after losing his job when Homer gets ill from the<br>contaminated food; James Woods takes over the<br>Kwik-E-Mart.<br>"
          ],
          [
           "<b>Deep Space Homer</b><br>",
           "<b>Episode:</b> S5E15<br>",
           "<b>Airdate:</b>Thu 24 Feb 1994<br>",
           "<b>Description:</b>In an effort to increase the<br>dismal television ratings for their space<br>launches, NASA decides to send an ordinary man<br>into space, and Homer is chosen for the task.<br>"
          ],
          [
           "<b>Another Simpsons Clip Show</b><br>",
           "<b>Episode:</b> S6E3<br>",
           "<b>Airdate:</b>Sun 25 Sep 1994<br>",
           "<b>Description:</b>The family recalls past tales<br>of lost love.<br>"
          ],
          [
           "<b>Itchy & Scratchy Land</b><br>",
           "<b>Episode:</b> S6E4<br>",
           "<b>Airdate:</b>Sun 16 Oct 1994<br>",
           "<b>Description:</b>A family vacation to Itchy &<br>Scratchy Land turns disastrous when the robots<br>malfunction and turn on the tourists.<br>"
          ],
          [
           "<b>Bart's Girlfriend</b><br>",
           "<b>Episode:</b> S6E7<br>",
           "<b>Airdate:</b>Sun 06 Nov 1994<br>",
           "<b>Description:</b>Bart falls for Reverend<br>Lovejoy's daughter and is surprised when she<br>becomes a bad influence on him.<br>"
          ],
          [
           "<b>Lisa on Ice</b><br>",
           "<b>Episode:</b> S6E8<br>",
           "<b>Airdate:</b>Sun 13 Nov 1994<br>",
           "<b>Description:</b>Sibling rivalry between Bart<br>and Lisa ensues when they become the star players<br>of their respective ice hockey teams.<br>"
          ],
          [
           "<b>Grampa vs. Sexual Inadequacy</b><br>",
           "<b>Episode:</b> S6E10<br>",
           "<b>Airdate:</b>Sun 04 Dec 1994<br>",
           "<b>Description:</b>Homer and Abe hit the road to<br>sell Abe's miraculous aphrodisiac.<br>"
          ],
          [
           "<b>Fear of Flying</b><br>",
           "<b>Episode:</b> S6E11<br>",
           "<b>Airdate:</b>Sun 18 Dec 1994<br>",
           "<b>Description:</b>Marge goes into therapy to find<br>the root cause of her traumatizing aerophobia.<br>"
          ],
          [
           "<b>Bart's Comet</b><br>",
           "<b>Episode:</b> S6E14<br>",
           "<b>Airdate:</b>Sun 05 Feb 1995<br>",
           "<b>Description:</b>Bart discovers a comet that is<br>on a collision course with Springfield.<br>"
          ],
          [
           "<b>Bart vs. Australia</b><br>",
           "<b>Episode:</b> S6E16<br>",
           "<b>Airdate:</b>Sun 19 Feb 1995<br>",
           "<b>Description:</b>After refusing to pay for a<br>collect call, Bart must travel down under to<br>repair US-Australian political relations, but is<br>unprepared for the punishment awaiting him.<br>"
          ],
          [
           "<b>Homer vs. Patty and Selma</b><br>",
           "<b>Episode:</b> S6E17<br>",
           "<b>Airdate:</b>Sun 26 Feb 1995<br>",
           "<b>Description:</b>Desperate for money, Homer<br>takes a loan from Patty and Selma; Bart discovers<br>a natural talent for ballet.<br>"
          ],
          [
           "<b>'Round Springfield</b><br>",
           "<b>Episode:</b> S6E22<br>",
           "<b>Airdate:</b>Sun 15 Oct 1995<br>",
           "<b>Description:</b>While Bart is hospitalized,<br>Lisa runs into her old mentor Bleeding Gums<br>Murphy, who is also a patient, and becomes<br>devastated when he dies soon after.<br>"
          ],
          [
           "<b>The Springfield Connection</b><br>",
           "<b>Episode:</b> S6E23<br>",
           "<b>Airdate:</b>Sun 07 May 1995<br>",
           "<b>Description:</b>Marge deals with corruption and<br>crime when she joins the Springfield police<br>force.<br>"
          ],
          [
           "<b>Lemon of Troy</b><br>",
           "<b>Episode:</b> S6E24<br>",
           "<b>Airdate:</b>Sun 14 May 1995<br>",
           "<b>Description:</b>When a group of Shelbyville<br>kids steal Springfield's sacred lemon tree, Bart<br>and his friends venture there to get the tree<br>back.<br>"
          ],
          [
           "<b>Radioactive Man</b><br>",
           "<b>Episode:</b> S7E2<br>",
           "<b>Airdate:</b>Sun 08 Oct 1995<br>",
           "<b>Description:</b>Milhouse is cast as Radioactive<br>Man's sidekick in a Hollywood production of the<br>comic book.<br>"
          ],
          [
           "<b>Home Sweet Home-Dum-Diddly Doodily</b><br>",
           "<b>Episode:</b> S7E3<br>",
           "<b>Airdate:</b>Sun 26 Nov 1995<br>",
           "<b>Description:</b>Marge and Homer lose custody of<br>the kids, who are sent to live at the Flanders'<br>house.<br>"
          ],
          [
           "<b>Bart Sells His Soul</b><br>",
           "<b>Episode:</b> S7E4<br>",
           "<b>Airdate:</b>Sun 03 Dec 1995<br>",
           "<b>Description:</b>Bart casually sells his soul to<br>Milhouse for $5 but soon regrets it; Moe converts<br>his dank bar into a family restaurant.<br>"
          ],
          [
           "<b>King Size Homer</b><br>",
           "<b>Episode:</b> S7E7<br>",
           "<b>Airdate:</b>Sun 07 Jan 1996<br>",
           "<b>Description:</b>Homer intentionally gains more<br>weight in order to qualify for disability and work<br>from home, but soon realizes that being morbidly<br>obese comes with its own problems.<br>"
          ],
          [
           "<b>The Simpsons 138th Episode Spectacular!</b><br>",
           "<b>Episode:</b> S7E10<br>",
           "<b>Airdate:</b>Sun 04 Feb 1996<br>",
           "<b>Description:</b>Troy McClure hosts a<br>retrospective of the first 137 episodes of The<br>Simpsons (1989).<br>"
          ],
          [
           "<b>Marge Be Not Proud</b><br>",
           "<b>Episode:</b> S7E11<br>",
           "<b>Airdate:</b>Sun 24 Dec 1995<br>",
           "<b>Description:</b>Marge's relationship with Bart<br>is strained when he is caught shoplifting before<br>Christmas.<br>"
          ],
          [
           "<b>Team Homer</b><br>",
           "<b>Episode:</b> S7E12<br>",
           "<b>Airdate:</b>Sun 31 Mar 1996<br>",
           "<b>Description:</b>Homer starts a bowling team<br>with Moe, Apu and Otto, but Mr. Burns insists on<br>joining after learning that the team was funded<br>with his money; Springfield Elementary introduces<br>uniforms.<br>"
          ],
          [
           "<b>Scenes from the Class Struggle in Springfield</b><br>",
           "<b>Episode:</b> S7E14<br>",
           "<b>Airdate:</b>Sun 14 Apr 1996<br>",
           "<b>Description:</b>After buying a Chanel suit at a<br>bargain price, Marge finds herself invited to a<br>country club by a former schoolmate. Taken in by<br>the opulence of the place, she is soon overcome by<br>a desperation to fit in.<br>"
          ],
          [
           "<b>The Day the Violence Died</b><br>",
           "<b>Episode:</b> S7E18<br>",
           "<b>Airdate:</b>Sun 09 Jun 1996<br>",
           "<b>Description:</b>Bart and Lisa meet a vagabond<br>who claims to be the creator of Itchy from \"Itchy<br>and Scratchy.\"<br>"
          ],
          [
           "<b>A Fish Called Selma</b><br>",
           "<b>Episode:</b> S7E19<br>",
           "<b>Airdate:</b>Sun 02 Jun 1996<br>",
           "<b>Description:</b>Washed-up movie star Troy<br>McClure starts dating Selma in an attempt to<br>silence bizarre rumors about his personal life and<br>resuscitate his career.<br>"
          ],
          [
           "<b>Bart on the Road</b><br>",
           "<b>Episode:</b> S7E20<br>",
           "<b>Airdate:</b>Sun 30 Jun 1996<br>",
           "<b>Description:</b>Bart makes a fake driver's<br>license and takes Milhouse, Martin and Nelson on a<br>huge road trip; Lisa spends time with Homer at the<br>power plant.<br>"
          ],
          [
           "<b>22 Short Films About Springfield</b><br>",
           "<b>Episode:</b> S7E21<br>",
           "<b>Airdate:</b>Sun 18 Aug 1996<br>",
           "<b>Description:</b>A series of vignettes<br>showcasing a day in the life of various<br>Springfield residents.<br>"
          ],
          [
           "<b>Much Apu About Nothing</b><br>",
           "<b>Episode:</b> S7E23<br>",
           "<b>Airdate:</b>Sun 18 Aug 1996<br>",
           "<b>Description:</b>Anti-immigration fever sweeps<br>Springfield, which threatens to lead to the<br>deportation of Apu, until Homer decides to reject<br>the mob mentality and help him become a legal<br>citizen.<br>"
          ],
          [
           "<b>You Only Move Twice</b><br>",
           "<b>Episode:</b> S8E2<br>",
           "<b>Airdate:</b>Sun 05 Jan 1997<br>",
           "<b>Description:</b>The Simpsons move to Cypress<br>Creek, where Homer unwittingly works for a<br>charismatic supervillain; the rest of the family<br>struggles with the transfer.<br>"
          ],
          [
           "<b>Bart After Dark</b><br>",
           "<b>Episode:</b> S8E5<br>",
           "<b>Airdate:</b>Sun 19 Jan 1997<br>",
           "<b>Description:</b>Marge leads a crusade against a<br>local burlesque house after she discovers Bart<br>working there.<br>"
          ],
          [
           "<b>A Milhouse Divided</b><br>",
           "<b>Episode:</b> S8E6<br>",
           "<b>Airdate:</b>Sun 22 Dec 1996<br>",
           "<b>Description:</b>Homer questions the state of<br>his marriage after Luann Van Houten demands a<br>divorce from Kirk.<br>"
          ],
          [
           "<b>El Viaje Misterioso de Nuestro Jomer</b><br>",
           "<b>Episode:</b> S8E9<br>",
           "<b>Airdate:</b>Sun 30 Mar 1997<br>",
           "<b>Description:</b>After eating insanity peppers<br>at a chili cook-off, Homer has a hallucination of<br>a talking coyote urging him to find his<br>soulmate.<br>"
          ],
          [
           "<b>The Springfield Files</b><br>",
           "<b>Episode:</b> S8E10<br>",
           "<b>Airdate:</b>Sun 30 Mar 1997<br>",
           "<b>Description:</b>Special Agents Mulder and<br>Scully arrive in Springfield after Homer claims to<br>have seen an alien.<br>"
          ],
          [
           "<b>The Twisted World of Marge Simpson</b><br>",
           "<b>Episode:</b> S8E11<br>",
           "<b>Airdate:</b>Sun 06 Apr 1997<br>",
           "<b>Description:</b>Marge enters the pretzel<br>vending business, but when she fails, Homer<br>recruits some help from the mob.<br>"
          ],
          [
           "<b>The Itchy & Scratchy & Poochie Show</b><br>",
           "<b>Episode:</b> S8E14<br>",
           "<b>Airdate:</b>Sun 13 Apr 1997<br>",
           "<b>Description:</b>Homer is cast as Poochie, a new<br>\"Itchy and Scratchy\" character designed to reverse<br>declining ratings; a hip college student moves in<br>with the Simpsons.<br>"
          ],
          [
           "<b>The Old Man and the Lisa</b><br>",
           "<b>Episode:</b> S8E21<br>",
           "<b>Airdate:</b>Sun 06 Jul 1997<br>",
           "<b>Description:</b>Burns loses his fortune and<br>recruits Lisa to help him get it back.<br>"
          ],
          [
           "<b>In Marge We Trust</b><br>",
           "<b>Episode:</b> S8E22<br>",
           "<b>Airdate:</b>Sun 20 Jul 1997<br>",
           "<b>Description:</b>Marge becomes a church<br>counselor; Homer discovers his face on a Japanese<br>detergent logo.<br>"
          ],
          [
           "<b>Homer's Enemy</b><br>",
           "<b>Episode:</b> S8E23<br>",
           "<b>Airdate:</b>Sun 10 Aug 1997<br>",
           "<b>Description:</b>Homer's laziness begets the ire<br>of his industrious but arrogant new co-worker<br>Frank Grimes; Bart buys a run-down factory for a<br>dollar.<br>"
          ],
          [
           "<b>The Simpsons Spin-Off Showcase</b><br>",
           "<b>Episode:</b> S8E24<br>",
           "<b>Airdate:</b>Sun 24 Aug 1997<br>",
           "<b>Description:</b>Troy McClure presents three<br>spinoffs: \"Chief Wiggins, P.I.,\" \"The Love-Matic<br>Grandpa,\" and \"The Simpson Family Smile-Time<br>Variety Hour.\"<br>"
          ],
          [
           "<b>The Secret War of Lisa Simpson</b><br>",
           "<b>Episode:</b> S8E25<br>",
           "<b>Airdate:</b>Sun 25 Jan 1998<br>",
           "<b>Description:</b>Bart is sent to a military<br>school to be disciplined; Lisa, seeking a<br>challenge, enrolls with him, but faces<br>discrimination as the school's only girl<br>cadet.<br>"
          ],
          [
           "<b>The City of New York vs. Homer Simpson</b><br>",
           "<b>Episode:</b> S9E1<br>",
           "<b>Airdate:</b>Sun 05 Oct 1997<br>",
           "<b>Description:</b>Homer must travel to New York<br>to get his car back, which is illegally parked at<br>World Trade Center Plaza.<br>"
          ],
          [
           "<b>Lisa the Skeptic</b><br>",
           "<b>Episode:</b> S9E8<br>",
           "<b>Airdate:</b>Sun 28 Dec 1997<br>",
           "<b>Description:</b>Townspeople believe that Lisa<br>has unearthed the fossilized remains of an<br>angel.<br>"
          ],
          [
           "<b>Realty Bites</b><br>",
           "<b>Episode:</b> S9E9<br>",
           "<b>Airdate:</b>Sun 11 Jan 1998<br>",
           "<b>Description:</b>Marge becomes a real-estate<br>agent.<br>"
          ],
          [
           "<b>Miracle on Evergreen Terrace</b><br>",
           "<b>Episode:</b> S9E10<br>",
           "<b>Airdate:</b>Sun 20 Dec 1998<br>",
           "<b>Description:</b>When Bart accidentally burns<br>down the family's Christmas tree and gifts, he<br>claims that a robber stole everything. As a<br>result, the town gets them a new tree and pitches<br>in to raise funds.<br>"
          ],
          [
           "<b>This Little Wiggy</b><br>",
           "<b>Episode:</b> S9E18<br>",
           "<b>Airdate:</b>Sun 17 May 1998<br>",
           "<b>Description:</b>Bart is reluctant to hang out<br>with Ralph Wiggum, until he gains access to Chief<br>Wiggum's master key to the city.<br>"
          ],
          [
           "<b>The Trouble with Trillions</b><br>",
           "<b>Episode:</b> S9E20<br>",
           "<b>Airdate:</b>Sun 07 Jun 1998<br>",
           "<b>Description:</b>Homer is forced to spy for the<br>IRS after an audit. But when he is asked to<br>retrieve a trillion dollar bill from Mr. Burns, he<br>switches sides and the two flee to Cuba for<br>refuge.<br>"
          ],
          [
           "<b>Girly Edition</b><br>",
           "<b>Episode:</b> S9E21<br>",
           "<b>Airdate:</b>Sun 14 Jun 1998<br>",
           "<b>Description:</b>Bart and Lisa become locked in<br>competition when they anchor a children's news<br>program; Homer adopts a helper monkey.<br>"
          ],
          [
           "<b>King of the Hill</b><br>",
           "<b>Episode:</b> S9E23<br>",
           "<b>Airdate:</b>Sun 19 Jul 1998<br>",
           "<b>Description:</b>After humiliating Bart at a<br>church picnic, Homer resolves to get in shape.<br>Soon, he is contacted by an energy bar company<br>that wants him to climb a mountain as a<br>promotion.<br>"
          ],
          [
           "<b>Lard of the Dance</b><br>",
           "<b>Episode:</b> S10E1<br>",
           "<b>Airdate:</b>Sun 04 Oct 1998<br>",
           "<b>Description:</b>Homer and Bart try to start<br>their own grease business; Lisa organizes a school<br>dance.<br>"
          ],
          [
           "<b>The Wizard of Evergreen Terrace</b><br>",
           "<b>Episode:</b> S10E2<br>",
           "<b>Airdate:</b>Sun 25 Oct 1998<br>",
           "<b>Description:</b>Homer's midlife crisis leads to<br>a disastrous attempt at being an inventor.<br>"
          ],
          [
           "<b>Bart the Mother</b><br>",
           "<b>Episode:</b> S10E3<br>",
           "<b>Airdate:</b>Sun 22 Nov 1998<br>",
           "<b>Description:</b>When Bart accidentally kills a<br>mother bird, he tries to make amends by raising<br>the eggs.<br>"
          ],
          [
           "<b>Homer Simpson in: 'Kidney Trouble'</b><br>",
           "<b>Episode:</b> S10E8<br>",
           "<b>Airdate:</b>Sun 07 Feb 1999<br>",
           "<b>Description:</b>Homer gets cold feet before a<br>transplant operation which could save Grampa's<br>life.<br>"
          ],
          [
           "<b>Mayored to the Mob</b><br>",
           "<b>Episode:</b> S10E9<br>",
           "<b>Airdate:</b>Sun 15 Aug 1999<br>",
           "<b>Description:</b>Homer deals with corruption<br>when he becomes Mayor Quimby's bodyguard.<br>"
          ],
          [
           "<b>Wild Barts Can't Be Broken</b><br>",
           "<b>Episode:</b> S10E11<br>",
           "<b>Airdate:</b>Sun 28 Feb 1999<br>",
           "<b>Description:</b>The children of Springfield<br>revolt after a curfew is enforced.<br>"
          ],
          [
           "<b>Sunday, Cruddy Sunday</b><br>",
           "<b>Episode:</b> S10E12<br>",
           "<b>Airdate:</b>Sun 28 Mar 1999<br>",
           "<b>Description:</b>Homer and his friends head to<br>the Super Bowl, but are forced to sneak in when<br>they discover their tickets are counterfeit.<br>"
          ],
          [
           "<b>I'm with Cupid</b><br>",
           "<b>Episode:</b> S10E14<br>",
           "<b>Airdate:</b>Sun 04 Apr 1999<br>",
           "<b>Description:</b>The husbands of Springfield<br>plot revenge after Apu outshines them on<br>Valentine's Day.<br>"
          ],
          [
           "<b>Marge Simpson in: 'Screaming Yellow Honkers'</b><br>",
           "<b>Episode:</b> S10E15<br>",
           "<b>Airdate:</b>Sun 18 Apr 1999<br>",
           "<b>Description:</b>Marge's new SUV gives her a<br>potent case of road rage.<br>"
          ],
          [
           "<b>Maximum Homerdrive</b><br>",
           "<b>Episode:</b> S10E17<br>",
           "<b>Airdate:</b>Sun 09 May 1999<br>",
           "<b>Description:</b>Homer takes Bart with him on a<br>cross-country delivery on behalf of a trucker who<br>died before completing it; Marge and Lisa<br>experience problems with their new novelty<br>doorbell.<br>"
          ],
          [
           "<b>The Old Man and the 'C' Student</b><br>",
           "<b>Episode:</b> S10E20<br>",
           "<b>Airdate:</b>Sun 20 Jun 1999<br>",
           "<b>Description:</b>Bart is punished with community<br>service at the Retirement Castle after he ruins<br>Springfield's chances of hosting the Olympics.<br>"
          ],
          [
           "<b>Thirty Minutes Over Tokyo</b><br>",
           "<b>Episode:</b> S10E23<br>",
           "<b>Airdate:</b>Sun 10 Oct 1999<br>",
           "<b>Description:</b>The Simpsons must perform on a<br>Japanese game show after Homer loses their money<br>on a vacation.<br>"
          ],
          [
           "<b>Brother's Little Helper</b><br>",
           "<b>Episode:</b> S11E2<br>",
           "<b>Airdate:</b>Sun 24 Oct 1999<br>",
           "<b>Description:</b>Bart is put on medication to<br>control his behavior, but the pills cause him to<br>become paranoid and insane.<br>"
          ],
          [
           "<b>Guess Who's Coming to Criticize Dinner?</b><br>",
           "<b>Episode:</b> S11E3<br>",
           "<b>Airdate:</b>Sun 28 Nov 1999<br>",
           "<b>Description:</b>When Homer is hired as a local<br>food critic by a newspaper in Springfield, he<br>finds himself in deep trouble after his reviews<br>turn out to be too critical.<br>"
          ],
          [
           "<b>Eight Misbehavin'</b><br>",
           "<b>Episode:</b> S11E7<br>",
           "<b>Airdate:</b>Sun 02 Jan 2000<br>",
           "<b>Description:</b>Apu struggles with fatherhood<br>after Manjula gives birth to octuplets.<br>"
          ],
          [
           "<b>Grift of the Magi</b><br>",
           "<b>Episode:</b> S11E9<br>",
           "<b>Airdate:</b>Sun 13 Feb 2000<br>",
           "<b>Description:</b>A toy company purchases<br>Springfield Elementary and uses the student body<br>as a focus group for their new Christmas toy<br>Funzo.<br>"
          ],
          [
           "<b>Faith Off</b><br>",
           "<b>Episode:</b> S11E11<br>",
           "<b>Airdate:</b>Sun 26 Mar 2000<br>",
           "<b>Description:</b>Bart is led to believe he has<br>special healing powers after a tent revival.<br>"
          ],
          [
           "<b>Bart to the Future</b><br>",
           "<b>Episode:</b> S11E17<br>",
           "<b>Airdate:</b>Sun 03 Sep 2000<br>",
           "<b>Description:</b>Bart gets a glimpse of the<br>future while the family is on vacation at an<br>Indian casino.<br>"
          ],
          [
           "<b>Kill the Alligator and Run</b><br>",
           "<b>Episode:</b> S11E19<br>",
           "<b>Airdate:</b>Sun 10 Sep 2000<br>",
           "<b>Description:</b>Fearing he only has three years<br>to live, Homer takes the family on a vacation to<br>Florida, where they become fugitives after<br>seemingly killing a famous alligator.<br>"
          ],
          [
           "<b>Last Tap Dance in Springfield</b><br>",
           "<b>Episode:</b> S11E20<br>",
           "<b>Airdate:</b>Sun 01 Oct 2000<br>",
           "<b>Description:</b>Lisa has difficulties learning<br>to tap dance; Bart and Milhouse ditch summer camp<br>to spend a week living in the mall.<br>"
          ],
          [
           "<b>It's a Mad, Mad, Mad, Mad Marge</b><br>",
           "<b>Episode:</b> S11E21<br>",
           "<b>Airdate:</b>Sun 08 Oct 2000<br>",
           "<b>Description:</b>Everybody loves the new<br>Simpsons' house guest Becky. Except Marge, who<br>thinks Becky wants to kill her.<br>"
          ],
          [
           "<b>Behind the Laughter</b><br>",
           "<b>Episode:</b> S11E22<br>",
           "<b>Airdate:</b>Sun 03 Sep 2000<br>",
           "<b>Description:</b>Fans are invited to take a<br>behind-the-scenes look at \"The Simpsons,\"<br>revisiting some of the most memorable experiences<br>the family has been through.<br>"
          ],
          [
           "<b>A Tale of Two Springfields</b><br>",
           "<b>Episode:</b> S12E2<br>",
           "<b>Airdate:</b>Sun 12 Nov 2000<br>",
           "<b>Description:</b>Springfield is split in two<br>when Homer revolts because his area code is<br>changed; the new town walls itself off from the<br>neighbors.<br>"
          ],
          [
           "<b>Skinner's Sense of Snow</b><br>",
           "<b>Episode:</b> S12E8<br>",
           "<b>Airdate:</b>Sun 11 Feb 2001<br>",
           "<b>Description:</b>A freak blizzard traps the<br>students of Springfield Elementary inside their<br>school. Their lives at stake, they are at the<br>mercy of the rescue efforts of a woozy Homer and<br>Ned.<br>"
          ],
          [
           "<b>Hungry Hungry Homer</b><br>",
           "<b>Episode:</b> S12E15<br>",
           "<b>Airdate:</b>Sun 20 May 2001<br>",
           "<b>Description:</b>Homer is forced to go on a<br>hunger strike by the Springfield Isotopes after<br>uncovering a secret plan to have the baseball team<br>moved to New Mexico.<br>"
          ],
          [
           "<b>Bye Bye Nerdy</b><br>",
           "<b>Episode:</b> S12E16<br>",
           "<b>Airdate:</b>Sun 03 Jun 2001<br>",
           "<b>Description:</b>Problems with a bully lead Lisa<br>to examine just what makes bullies aggressive.<br>Meanwhile, Homer gets into the baby-proofing<br>business.<br>"
          ],
          [
           "<b>Simpson Safari</b><br>",
           "<b>Episode:</b> S12E17<br>",
           "<b>Airdate:</b>Sun 17 Jun 2001<br>",
           "<b>Description:</b>The Simpsons win a trip to<br>Africa after Homer finds a golden animal cracker<br>from the 60's in the loft.<br>"
          ],
          [
           "<b>Trilogy of Error</b><br>",
           "<b>Episode:</b> S12E18<br>",
           "<b>Airdate:</b>Sun 15 Jul 2001<br>",
           "<b>Description:</b>Homer's rush to the hospital to<br>re-attach his severed thumb, Lisa's rush to school<br>to win the science fair, and Bart's run-in with an<br>illegal fireworks scheme interconnect from their<br>point of view.<br>"
          ],
          [
           "<b>Simpsons Tall Tales</b><br>",
           "<b>Episode:</b> S12E21<br>",
           "<b>Airdate:</b>Sun 16 Sep 2001<br>",
           "<b>Description:</b>A hobo tells the Simpsons tall<br>tales on a train ride to Delaware. In the first<br>story, Homer is outcast from society as Paul<br>Bunyan. Then, Lisa travels the country planting<br>trees as Connie Appleseed. Finally, Bart and<br>Nelson raft down the Mississippi as Tom Sawyer and<br>Huck Finn.<br>"
          ],
          [
           "<b>Brawl in the Family</b><br>",
           "<b>Episode:</b> S13E7<br>",
           "<b>Airdate:</b>Sun 24 Feb 2002<br>",
           "<b>Description:</b>A social services officer<br>brings unity to the Simpson family, but their<br>newfound happiness is threatened when the cocktail<br>waitress Homer married in Vegas shows up at their<br>door.<br>"
          ],
          [
           "<b>Sweets and Sour Marge</b><br>",
           "<b>Episode:</b> S13E8<br>",
           "<b>Airdate:</b>Sun 24 Mar 2002<br>",
           "<b>Description:</b>Marge rallies for a ban on<br>sugar after Springfield is declared America's<br>fattest city.<br>"
          ],
          [
           "<b>Jaws Wired Shut</b><br>",
           "<b>Episode:</b> S13E9<br>",
           "<b>Airdate:</b>Sun 10 Mar 2002<br>",
           "<b>Description:</b>Marge can't deal with the quiet<br>after Homer has his jaws wired shut.<br>"
          ],
          [
           "<b>The Bart Wants What It Wants</b><br>",
           "<b>Episode:</b> S13E11<br>",
           "<b>Airdate:</b>Sun 21 Apr 2002<br>",
           "<b>Description:</b>Bart breaks up with his new<br>girlfriend Greta, but gets jealous when she begins<br>dating Milhouse.<br>"
          ],
          [
           "<b>The Old Man and the Key</b><br>",
           "<b>Episode:</b> S13E13<br>",
           "<b>Airdate:</b>Sun 28 Jul 2002<br>",
           "<b>Description:</b>Abe gets his driver's license<br>back to impress a new woman at the retirement<br>home.<br>"
          ],
          [
           "<b>Tales from the Public Domain</b><br>",
           "<b>Episode:</b> S13E14<br>",
           "<b>Airdate:</b>Sun 09 Jun 2002<br>",
           "<b>Description:</b>Homer reads three stories from<br>an overdue library book, imagining himself as<br>Odysseus, Lisa as Joan of Arc and Bart as<br>Hamlet.<br>"
          ],
          [
           "<b>Blame It on Lisa</b><br>",
           "<b>Episode:</b> S13E15<br>",
           "<b>Airdate:</b>Sun 23 Jun 2002<br>",
           "<b>Description:</b>Lisa sponsors an orphan in<br>Brazil, and when he goes missing she convinces the<br>family to go to Brazil to find him. While there,<br>Homer is kidnapped.<br>"
          ],
          [
           "<b>Gump Roast</b><br>",
           "<b>Episode:</b> S13E17<br>",
           "<b>Airdate:</b>Sun 15 Sep 2002<br>",
           "<b>Description:</b>In this clip show, the citizens<br>of Springfield honor Homer Simpsons with a Roast,<br>but the festivities take a turn for the worst when<br>aliens crash it.<br>"
          ],
          [
           "<b>I Am Furious Yellow</b><br>",
           "<b>Episode:</b> S13E18<br>",
           "<b>Airdate:</b>Sun 07 Jul 2002<br>",
           "<b>Description:</b>Bart's comic about Homer<br>becomes a hit on-line, prompting Homer to attempt<br>to control his anger.<br>"
          ],
          [
           "<b>The Sweetest Apu</b><br>",
           "<b>Episode:</b> S13E19<br>",
           "<b>Airdate:</b>Sun 18 Aug 2002<br>",
           "<b>Description:</b>Apu's marriage is on the rocks<br>after Manjula finds out he cheated on her.<br>"
          ],
          [
           "<b>Little Girl in the Big Ten</b><br>",
           "<b>Episode:</b> S13E20<br>",
           "<b>Airdate:</b>Sun 08 Sep 2002<br>",
           "<b>Description:</b>Lisa pretends to be a college<br>student when she befriends two college girls; Bart<br>is forced to live in a plastic bubble after being<br>bitten by a mosquito.<br>"
          ],
          [
           "<b>The Frying Game</b><br>",
           "<b>Episode:</b> S13E21<br>",
           "<b>Airdate:</b>Sun 13 Oct 2002<br>",
           "<b>Description:</b>Homer and Marge find themselves<br>on death row after they are framed for murder.<br>"
          ],
          [
           "<b>Papa's Got a Brand New Badge</b><br>",
           "<b>Episode:</b> S13E22<br>",
           "<b>Airdate:</b>Sun 06 Oct 2002<br>",
           "<b>Description:</b>Homer becomes chief of police<br>after a scandal forces Wiggum out.<br>"
          ],
          [
           "<b>Large Marge</b><br>",
           "<b>Episode:</b> S14E4<br>",
           "<b>Airdate:</b>Sun 22 Dec 2002<br>",
           "<b>Description:</b>Marge accidentally gets breast<br>implants.<br>"
          ],
          [
           "<b>Helter Shelter</b><br>",
           "<b>Episode:</b> S14E5<br>",
           "<b>Airdate:</b>Sun 05 Jan 2003<br>",
           "<b>Description:</b>The Simpsons family must<br>participate in a reality television show in which<br>they try to live in the same way that the families<br>did in the 1800s.<br>"
          ],
          [
           "<b>The Dad Who Knew Too Little</b><br>",
           "<b>Episode:</b> S14E8<br>",
           "<b>Airdate:</b>Sun 23 Mar 2003<br>",
           "<b>Description:</b>Homer hires a private detective<br>to learn more about Lisa.<br>"
          ],
          [
           "<b>The Strong Arms of the Ma</b><br>",
           "<b>Episode:</b> S14E9<br>",
           "<b>Airdate:</b>Sun 16 Feb 2003<br>",
           "<b>Description:</b>Marge takes up body-building to<br>boost her self-esteem after being mugged at the<br>Kwik-E-Mart.<br>"
          ],
          [
           "<b>The Bart of War</b><br>",
           "<b>Episode:</b> S14E21<br>",
           "<b>Airdate:</b>Sun 28 Sep 2003<br>",
           "<b>Description:</b>Bart and Milhouse are forced<br>into community service after destroying Flanders'<br>memorial and join separate community groups,<br>pitting themselves against each other.<br>"
          ],
          [
           "<b>My Mother the Carjacker</b><br>",
           "<b>Episode:</b> S15E2<br>",
           "<b>Airdate:</b>Sun 30 Nov 2003<br>",
           "<b>Description:</b>Homer's mother returns to<br>Springfield, and the city pardons her from the<br>charges against her. Mr Burns is furious about<br>this and makes a plan to get Mona Simpson in<br>prison.<br>"
          ],
          [
           "<b>The President Wore Pearls</b><br>",
           "<b>Episode:</b> S15E3<br>",
           "<b>Airdate:</b>Sun 21 Dec 2003<br>",
           "<b>Description:</b>Lisa feuds with Principal<br>Skinner after being elected school president.<br>"
          ],
          [
           "<b>The Regina Monologues</b><br>",
           "<b>Episode:</b> S15E4<br>",
           "<b>Airdate:</b>Fri 09 Jan 2004<br>",
           "<b>Description:</b>Prime minister Tony Blair<br>welcomes the Simpsons to England where they run<br>into author J.K. Rowling and actor Ian<br>McKellen.<br>"
          ],
          [
           "<b>I, (Annoyed Grunt)-Bot</b><br>",
           "<b>Episode:</b> S15E9<br>",
           "<b>Airdate:</b>Sun 28 Mar 2004<br>",
           "<b>Description:</b>Homer pretends to be a robot<br>and competes in Robot Wars to win Bart's<br>affection; Lisa has cat trouble.<br>"
          ],
          [
           "<b>Diatribe of a Mad Housewife</b><br>",
           "<b>Episode:</b> S15E10<br>",
           "<b>Airdate:</b>Sun 11 Apr 2004<br>",
           "<b>Description:</b>Marge is inspired to write a<br>novel, but the storyline of the book (a fat, mean<br>husband, and a handsome, sweet neighbor) makes<br>Homer jealous.<br>"
          ],
          [
           "<b>Milhouse Doesn't Live Here Anymore</b><br>",
           "<b>Episode:</b> S15E12<br>",
           "<b>Airdate:</b>Sun 20 Jun 2004<br>",
           "<b>Description:</b>Milhouse moves to Capitol City,<br>and therefore Lisa and Bart become best<br>friends.<br>"
          ],
          [
           "<b>The Ziff Who Came to Dinner</b><br>",
           "<b>Episode:</b> S15E14<br>",
           "<b>Airdate:</b>Tue 21 Sep 2004<br>",
           "<b>Description:</b>Artie Ziff is discovered hiding<br>out in the Simpsons' attic.<br>"
          ],
          [
           "<b>The Wandering Juvie</b><br>",
           "<b>Episode:</b> S15E16<br>",
           "<b>Airdate:</b>Sun 03 Oct 2004<br>",
           "<b>Description:</b>After playing a prank on the<br>whole town, Bart is sentenced to six months of<br>juvenile detention. There he meets Gina, who<br>forces Bart to escape with her.<br>"
          ],
          [
           "<b>All's Fair in Oven War</b><br>",
           "<b>Episode:</b> S16E2<br>",
           "<b>Airdate:</b>Sun 21 Nov 2004<br>",
           "<b>Description:</b>Homer buys Marge a new kitchen,<br>and Marge likes cooking in the new kitchen so much<br>she attends the Ovenfresh Bakeoff.<br>"
          ],
          [
           "<b>Fat Man and Little Boy</b><br>",
           "<b>Episode:</b> S16E5<br>",
           "<b>Airdate:</b>Sun 09 Jan 2005<br>",
           "<b>Description:</b>Bart begins designing T-shirt<br>slogans, and his T-shirts become very popular<br>among the citizens of Springfield.<br>"
          ],
          [
           "<b>Midnight Rx</b><br>",
           "<b>Episode:</b> S16E6<br>",
           "<b>Airdate:</b>Sun 30 Jan 2005<br>",
           "<b>Description:</b>Homer goes to Canada with Apu<br>and Ned to purchase Grampa's medication, but the<br>three have problems getting home because the<br>border guard thinks Apu is a terrorist.<br>"
          ],
          [
           "<b>On a Clear Day I Can't See My Sister</b><br>",
           "<b>Episode:</b> S16E11<br>",
           "<b>Airdate:</b>Sun 22 May 2005<br>",
           "<b>Description:</b>After bullying her, Bart is<br>restricted by court order to come too close to<br>Lisa.<br>"
          ],
          [
           "<b>Future-Drama</b><br>",
           "<b>Episode:</b> S16E15<br>",
           "<b>Airdate:</b>Sun 28 Aug 2005<br>",
           "<b>Description:</b>Bart and Lisa see into the<br>future where their lives have changed.<br>"
          ],
          [
           "<b>The Heartbroke Kid</b><br>",
           "<b>Episode:</b> S16E17<br>",
           "<b>Airdate:</b>Sun 30 Oct 2005<br>",
           "<b>Description:</b>Bart starts living on food from<br>the new candy machine in school only, but he<br>becomes so overweight that he has to go to a fat<br>camp.<br>"
          ],
          [
           "<b>A Star Is Torn</b><br>",
           "<b>Episode:</b> S16E18<br>",
           "<b>Airdate:</b>Sun 09 Oct 2005<br>",
           "<b>Description:</b>Lisa attends a singing<br>competition for children, and Homer becomes her<br>manager because of his skill to write songs that<br>the crowd loves.<br>"
          ],
          [
           "<b>The Bonfire of the Manatees</b><br>",
           "<b>Episode:</b> S17E1<br>",
           "<b>Airdate:</b>Sun 11 Dec 2005<br>",
           "<b>Description:</b>When Marge leaves Homer because<br>he allowed an adult movie being shot in their<br>house, she seeks self fulfillment in protecting<br>manatees.<br>"
          ],
          [
           "<b>Milhouse of Sand and Fog</b><br>",
           "<b>Episode:</b> S17E3<br>",
           "<b>Airdate:</b>Sun 06 Nov 2005<br>",
           "<b>Description:</b>When Kirk and Luann van Houten<br>plan to get back together, Milhouse realizes they<br>are too interested in each other, so he and Bart<br>try to break them up, only for the plan to<br>backfire and cause Homer and Marge to break up yet<br>again.<br>"
          ],
          [
           "<b>See Homer Run</b><br>",
           "<b>Episode:</b> S17E6<br>",
           "<b>Airdate:</b>Sun 08 Jan 2006<br>",
           "<b>Description:</b>When a recall election puts<br>Mayor Quimby's job up for grabs, Homer seizes the<br>opportunity to win office and gain his daughter's<br>love.<br>"
          ],
          [
           "<b>My Fair Laddy</b><br>",
           "<b>Episode:</b> S17E12<br>",
           "<b>Airdate:</b>Sun 26 Mar 2006<br>",
           "<b>Description:</b>Bart and Lisa bet whether Lisa<br>can turn Groundskeeper Willie into a proper<br>gentleman.<br>"
          ],
          [
           "<b>The Seemingly Never-Ending Story</b><br>",
           "<b>Episode:</b> S17E13<br>",
           "<b>Airdate:</b>Sun 02 Apr 2006<br>",
           "<b>Description:</b>In this story within a story<br>within a story within a story, a cave-exploring<br>expedition, an angry sheep and a lovestruck Moe<br>become inextricably entwined.<br>"
          ],
          [
           "<b>Bart Has Two Mommies</b><br>",
           "<b>Episode:</b> S17E14<br>",
           "<b>Airdate:</b>Sun 09 Apr 2006<br>",
           "<b>Description:</b>Marge starts babysitting the<br>Flanders boys, leading Homer to spend more time<br>with Bart and Lisa. Bart gets kidnapped by a<br>lonely movie chimpanzee.<br>"
          ],
          [
           "<b>Million Dollar Abie</b><br>",
           "<b>Episode:</b> S17E16<br>",
           "<b>Airdate:</b>Sun 30 Apr 2006<br>",
           "<b>Description:</b>After blowing Springfield's<br>chances for an NFL franchise, Grandpa goes to an<br>assisted-suicide center, then becomes a<br>bullfighter.<br>"
          ],
          [
           "<b>The Wettest Stories Ever Told</b><br>",
           "<b>Episode:</b> S17E18<br>",
           "<b>Airdate:</b>Sun 02 Jul 2006<br>",
           "<b>Description:</b>While waiting for the dinner at<br>the Frying Dutchman, the family starts telling<br>three stories about ships: \"Journey on the<br>Mayflower\", \"Mutiny on the Bounty\", and \"The<br>Neptune Adventure\".<br>"
          ],
          [
           "<b>Girls Just Want to Have Sums</b><br>",
           "<b>Episode:</b> S17E19<br>",
           "<b>Airdate:</b>Sun 17 Sep 2006<br>",
           "<b>Description:</b>Springfield Elementary is<br>divided into two separate schools (one for boys,<br>one for girls) following Principal Skinner's<br>demotion. Concerned that the boys are receiving a<br>higher standard of education, Lisa disguises<br>herself as a boy.<br>"
          ],
          [
           "<b>Regarding Margie</b><br>",
           "<b>Episode:</b> S17E20<br>",
           "<b>Airdate:</b>Sun 08 Oct 2006<br>",
           "<b>Description:</b>After hitting her head on a<br>stool Marge suffers from amnesia. Slowly but<br>surely memories are starting to come back, except<br>memories about Homer.<br>"
          ],
          [
           "<b>The Monkey Suit</b><br>",
           "<b>Episode:</b> S17E21<br>",
           "<b>Airdate:</b>Sun 10 Sep 2006<br>",
           "<b>Description:</b>After seeing a museum exhibit<br>on evolution, in which creation is labeled a myth,<br>an outraged Ned Flanders teams with Reverend<br>Lovejoy to blackmail Principal Skinner into<br>requiring creationism to be taught in classrooms,<br>eventually at the expense of any mention of<br>evolution. Lisa becomes outraged herself, and<br>forms a student organization to teach evolution,<br>leading to a creationism vs. evolution trial, a la<br>Inherit the Wind.<br>"
          ],
          [
           "<b>The Mook, the Chef, the Wife and Her Homer</b><br>",
           "<b>Episode:</b> S18E1<br>",
           "<b>Airdate:</b>Sun 22 Oct 2006<br>",
           "<b>Description:</b>When Fat Tony has to take a<br>time-out due to a whacking attempt, Homer and Bart<br>take over the business.<br>"
          ],
          [
           "<b>Please Homer, Don't Hammer 'Em</b><br>",
           "<b>Episode:</b> S18E3<br>",
           "<b>Airdate:</b>Sun 05 Nov 2006<br>",
           "<b>Description:</b>Marge begins her own carpentry<br>business, but Homer becomes the face of the<br>business because nobody will take a female<br>carpenter seriously. And Bart uses Principal<br>Skinner's peanut allergy to his advantage.<br>"
          ],
          [
           "<b>Ice Cream of Margie (with the Light Blue Hair)</b><br>",
           "<b>Episode:</b> S18E7<br>",
           "<b>Airdate:</b>Sun 10 Dec 2006<br>",
           "<b>Description:</b>Homer becomes an ice cream man<br>after being fired from the plant, and Marge uses<br>his leftover Popsicle sticks to create folk art<br>figures.<br>"
          ],
          [
           "<b>The Haw-Hawed Couple</b><br>",
           "<b>Episode:</b> S18E8<br>",
           "<b>Airdate:</b>Sun 17 Dec 2006<br>",
           "<b>Description:</b>Bart and Nelson become best<br>friends, but Bart surprisingly discovers that the<br>fringe benefits aren't worth Nelson's<br>neediness.<br>"
          ],
          [
           "<b>Kill Gil, Vol. 1 & 2</b><br>",
           "<b>Episode:</b> S18E9<br>",
           "<b>Airdate:</b>Sun 24 Dec 2006<br>",
           "<b>Description:</b>The Simpsons let Gil stay with<br>them during Christmas. However, he stays for 11<br>months because Marge can't tell him \"no.\"<br>"
          ],
          [
           "<b>The Wife Aquatic</b><br>",
           "<b>Episode:</b> S18E10<br>",
           "<b>Airdate:</b>Sun 04 Feb 2007<br>",
           "<b>Description:</b>Homer returns Marge to Barnacle<br>Bay, where she spent her beloved summer vacations.<br>But when they get there, they discover that it is<br>no longer a tourist spot.<br>"
          ],
          [
           "<b>Little Big Girl</b><br>",
           "<b>Episode:</b> S18E12<br>",
           "<b>Airdate:</b>Sun 11 Feb 2007<br>",
           "<b>Description:</b>Lisa embellishes her family<br>heritage as Native American for a school project;<br>Bart gets a driver's license and develops a<br>relationship with an older girl.<br>"
          ],
          [
           "<b>Springfield Up</b><br>",
           "<b>Episode:</b> S18E13<br>",
           "<b>Airdate:</b>Sun 18 Feb 2007<br>",
           "<b>Description:</b>A parody of the \"Up Series\" of<br>British documentaries, in which a filmmaker<br>follows Homer and his friends from grade school<br>into their 40s.<br>"
          ],
          [
           "<b>Yokel Chords</b><br>",
           "<b>Episode:</b> S18E14<br>",
           "<b>Airdate:</b>Sun 04 Mar 2007<br>",
           "<b>Description:</b>In this parody of The Sound of<br>Music (1965), Lisa becomes a tutor for Cletus'<br>seven children, until Krusty tries to exploit them<br>as entertainers. Meanwhile, Bart becomes<br>emotionally attached to his school-appointed<br>psychiatrist.<br>"
          ],
          [
           "<b>Rome-old and Juli-eh</b><br>",
           "<b>Episode:</b> S18E15<br>",
           "<b>Airdate:</b>Sun 11 Mar 2007<br>",
           "<b>Description:</b>Selma and Grampa fall in love<br>and end up getting married, a marriage both Homer<br>and Patty are against.<br>"
          ],
          [
           "<b>Marge Gamer</b><br>",
           "<b>Episode:</b> S18E17<br>",
           "<b>Airdate:</b>Sun 22 Apr 2007<br>",
           "<b>Description:</b>Marge decides to find out what<br>their Internet has to offer and soon gets hooked<br>on an online role-playing game; Homer referees<br>Lisa's soccer game.<br>"
          ],
          [
           "<b>You Kent Always Say What You Want</b><br>",
           "<b>Episode:</b> S18E22<br>",
           "<b>Airdate:</b>Sun 20 May 2007<br>",
           "<b>Description:</b>After Kent Brockman is fired as<br>a news anchor, he and Lisa use the Internet to<br>expose the Fox News Conspiracy.<br>"
          ],
          [
           "<b>Homer of Seville</b><br>",
           "<b>Episode:</b> S19E2<br>",
           "<b>Airdate:</b>Sun 30 Sep 2007<br>",
           "<b>Description:</b>Homer becomes an opera star<br>after an injury improves his singing voice. His<br>newfound popularity forces him to hire a personal<br>assistant, who turns out to be an obsessed<br>stalker.<br>"
          ],
          [
           "<b>Midnight Towboy</b><br>",
           "<b>Episode:</b> S19E3<br>",
           "<b>Airdate:</b>Sun 07 Oct 2007<br>",
           "<b>Description:</b>Homer becomes the most hated<br>man in town after he becomes a tow truck driver,<br>and Marge teaches Maggie to not be an over-<br>dependent baby.<br>"
          ],
          [
           "<b>Little Orphan Millie</b><br>",
           "<b>Episode:</b> S19E6<br>",
           "<b>Airdate:</b>Sun 03 Feb 2008<br>",
           "<b>Description:</b>Milhouse's parents are lost at<br>sea, which causes him to become a troubled loner.<br>But his new persona makes him the new most popular<br>kid at school, which sparks jealousy in Bart.<br>"
          ],
          [
           "<b>Husbands and Knives</b><br>",
           "<b>Episode:</b> S19E7<br>",
           "<b>Airdate:</b>Sun 18 Nov 2007<br>",
           "<b>Description:</b>When Marge becomes a successful<br>businesswoman, Homer becomes worried that she will<br>dump him for a trophy husband. Therefore, he<br>decides to have plastic surgery to make himself<br>look like a hunk.<br>"
          ],
          [
           "<b>Eternal Moonshine of the Simpson Mind</b><br>",
           "<b>Episode:</b> S19E9<br>",
           "<b>Airdate:</b>Sun 16 Dec 2007<br>",
           "<b>Description:</b>Homer goes to Dr. Frink to help<br>him recover his memories from the night before,<br>and he discovers, based on his interpretation of<br>the memories, that Marge is having an affair.<br>"
          ],
          [
           "<b>E Pluribus Wiggum</b><br>",
           "<b>Episode:</b> S19E10<br>",
           "<b>Airdate:</b>Sun 06 Jan 2008<br>",
           "<b>Description:</b>Springfield becomes the site of<br>the first presidential primary. The townspeople<br>soon get sick of all of the presidential<br>candidates sucking up to them, and decide to<br>support their own write-in candidate: Ralph<br>Wiggum.<br>"
          ],
          [
           "<b>Love, Springfieldian Style</b><br>",
           "<b>Episode:</b> S19E12<br>",
           "<b>Airdate:</b>Sun 21 Dec 2008<br>",
           "<b>Description:</b>A series of romantic<br>Valentine's Day parodies based on \"Bonnie and<br>Clyde,\" \"Lady and the Tramp,\" and \"Sid and<br>Nancy.\"<br>"
          ],
          [
           "<b>Apocalypse Cow</b><br>",
           "<b>Episode:</b> S19E17<br>",
           "<b>Airdate:</b>Sun 27 Apr 2008<br>",
           "<b>Description:</b>Bart tries to save the cow he<br>raised for his 4-H club from the slaughterhouse,<br>and in the process winds up getting accidentally<br>engaged to one of Cletus's daughters.<br>"
          ],
          [
           "<b>Sex, Pies and Idiot Scrapes</b><br>",
           "<b>Episode:</b> S20E1<br>",
           "<b>Airdate:</b>Sun 28 Sep 2008<br>",
           "<b>Description:</b>Homer and Ned go into business<br>together as bounty hunters, and Marge takes a job<br>at an erotic bakery.<br>"
          ],
          [
           "<b>Dangerous Curves</b><br>",
           "<b>Episode:</b> S20E5<br>",
           "<b>Airdate:</b>Sun 09 Nov 2008<br>",
           "<b>Description:</b>The Simpsons take a Fourth of<br>July vacation to a cabin hotel, which cause Homer<br>and Marge to reminisce about two episodes from<br>their past where they stayed in the cabin.<br>"
          ],
          [
           "<b>No Loan Again, Naturally</b><br>",
           "<b>Episode:</b> S20E12<br>",
           "<b>Airdate:</b>Sun 08 Mar 2009<br>",
           "<b>Description:</b>The Simpsons lose their house,<br>but Flanders buys it and offers to rent it back to<br>them. But when they turn out to be less-than-<br>reliable renters, Flanders kicks them out.<br>"
          ],
          [
           "<b>Gone Maggie Gone</b><br>",
           "<b>Episode:</b> S20E13<br>",
           "<b>Airdate:</b>Sun 15 Mar 2009<br>",
           "<b>Description:</b>In order to rescue Maggie from<br>a Catholic orphanage, Lisa must solve a series of<br>puzzles to reveal the identity of a gem that will<br>bring peace to Springfield.<br>"
          ],
          [
           "<b>In the Name of the Grandfather</b><br>",
           "<b>Episode:</b> S20E14<br>",
           "<b>Airdate:</b>Sun 22 Mar 2009<br>",
           "<b>Description:</b>The Simpsons take Grandpa to<br>Ireland so he can go back to visit a pub he went<br>to during the war, but Grandpa and Homer get<br>suckered into buying the bar.<br>"
          ],
          [
           "<b>The Good, the Sad and the Drugly</b><br>",
           "<b>Episode:</b> S20E17<br>",
           "<b>Airdate:</b>Sun 19 Apr 2009<br>",
           "<b>Description:</b>Bart gets Milhouse to take the<br>rap for a prank at school, and then blows him off<br>when he falls for a cute 5th grade do-gooder,<br>prompting Milhouse's wrath. Meanwhile, Lisa begins<br>taking \"happy pills\" to improve her negative<br>outlook.<br>"
          ],
          [
           "<b>Waverly Hills, 9021-D'Oh</b><br>",
           "<b>Episode:</b> S20E19<br>",
           "<b>Airdate:</b>Sun 03 May 2009<br>",
           "<b>Description:</b>The Simpsons set up a fake<br>residence in Waverly Hills so that Bart and Lisa<br>can attend school there.<br>"
          ],
          [
           "<b>Four Great Women and a Manicure</b><br>",
           "<b>Episode:</b> S20E20<br>",
           "<b>Airdate:</b>Sun 10 May 2009<br>",
           "<b>Description:</b>A series of parodies based on<br>four strong women: Queen Elizabeth, Snow White,<br>Lady MacBeth, and Ayn Rand.<br>"
          ],
          [
           "<b>Coming to Homerica</b><br>",
           "<b>Episode:</b> S20E21<br>",
           "<b>Airdate:</b>Sun 17 May 2009<br>",
           "<b>Description:</b>Townspeople build a wall around<br>Springfield to keep \"immigrants\" from Ogdenville<br>from relocating to their town.<br>"
          ],
          [
           "<b>Bart Gets a 'Z'</b><br>",
           "<b>Episode:</b> S21E2<br>",
           "<b>Airdate:</b>Sun 04 Oct 2009<br>",
           "<b>Description:</b>When Bart's prank gets Ms.<br>Krabappel fired from Springfield Elementary<br>School, he tries to make it up to her without<br>letting her know that he was responsible.<br>"
          ],
          [
           "<b>The Devil Wears Nada</b><br>",
           "<b>Episode:</b> S21E5<br>",
           "<b>Airdate:</b>Sun 15 Nov 2009<br>",
           "<b>Description:</b>Marge rediscovers her sexuality<br>after appearing in a racy calendar, but Homer is<br>too tired to respond to her advances because he is<br>being worked to death by his new boss, Carl.<br>"
          ],
          [
           "<b>Rednecks and Broomsticks</b><br>",
           "<b>Episode:</b> S21E7<br>",
           "<b>Airdate:</b>Sun 29 Nov 2009<br>",
           "<b>Description:</b>Homer becomes an expert on<br>moonshine when he starts hanging out with Cletus<br>after he saves the Simpsons' lives, while Lisa<br>becomes friends with three teenage Wiccans.<br>"
          ],
          [
           "<b>Oh Brother, Where Bart Thou?</b><br>",
           "<b>Episode:</b> S21E8<br>",
           "<b>Airdate:</b>Fri 18 Feb 2011<br>",
           "<b>Description:</b>Bart becomes jealous of Maggie<br>and Lisa's special bond as sisters, so he goes to<br>an orphanage and \"adopts\" a little brother.<br>"
          ],
          [
           "<b>Thursdays with Abie</b><br>",
           "<b>Episode:</b> S21E9<br>",
           "<b>Airdate:</b>Sun 03 Jan 2010<br>",
           "<b>Description:</b>Homer becomes jealous when a<br>syndicated newspaper columnist begins publishing<br>Grandpa's stories, while Bart is assigned to take<br>care of the class's stuffed sheep for the<br>weekend.<br>"
          ],
          [
           "<b>Once Upon a Time in Springfield</b><br>",
           "<b>Episode:</b> S21E10<br>",
           "<b>Airdate:</b>Sun 10 Jan 2010<br>",
           "<b>Description:</b>The antagonism between Krusty<br>and the new female co-star forced upon him soon<br>turns to romance, while a headhunter encourages<br>Homer, Lenny and Carl to take a job at another<br>nuclear power plant.<br>"
          ],
          [
           "<b>Million Dollar Maybe</b><br>",
           "<b>Episode:</b> S21E11<br>",
           "<b>Airdate:</b>Sun 31 Jan 2010<br>",
           "<b>Description:</b>Homer can't tell Marge he won<br>the lottery because he was supposed to be giving a<br>wedding toast when he bought the ticket. But Bart<br>soon finds out where he's hiding the money and<br>begins to blackmail him.<br>"
          ],
          [
           "<b>Boy Meets Curl</b><br>",
           "<b>Episode:</b> S21E12<br>",
           "<b>Airdate:</b>Thu 29 Apr 2010<br>",
           "<b>Description:</b>Homer and Marge become members<br>of the U.S. Olympic curling team. At the games,<br>Lisa becomes addicted to collecting pins, and Bart<br>tries to save her.<br>"
          ],
          [
           "<b>The Color Yellow</b><br>",
           "<b>Episode:</b> S21E13<br>",
           "<b>Airdate:</b>Sun 21 Feb 2010<br>",
           "<b>Description:</b>While searching for an<br>admirable ancestor for a class project, Lisa<br>discovers the story of a relative named Eliza<br>Simpson, who may or may not have helped a slave<br>escape to freedom.<br>"
          ],
          [
           "<b>Postcards from the Wedge</b><br>",
           "<b>Episode:</b> S21E14<br>",
           "<b>Airdate:</b>Thu 10 Jun 2010<br>",
           "<b>Description:</b>When Bart unsuccessfully tries<br>to play Homer and Marge against each other, he<br>comes up with a dangerous prank that is sure to<br>get their attention.<br>"
          ],
          [
           "<b>Chief of Hearts</b><br>",
           "<b>Episode:</b> S21E18<br>",
           "<b>Airdate:</b>Sun 18 Apr 2010<br>",
           "<b>Description:</b>Homer and Chief Wiggum's new<br>friendship is put to the test when the chief<br>becomes needy after being shot, while Marge<br>suspects that Bart may be dealing drugs.<br>"
          ],
          [
           "<b>To Surveil, with Love</b><br>",
           "<b>Episode:</b> S21E20<br>",
           "<b>Airdate:</b>Sun 02 May 2010<br>",
           "<b>Description:</b>Springfield covers the town<br>with surveillance cameras after Homer creates a<br>bomb scare at the train station. Meanwhile, Lisa<br>considers becoming a brunette so that people will<br>take her more seriously.<br>"
          ],
          [
           "<b>Elementary School Musical</b><br>",
           "<b>Episode:</b> S22E1<br>",
           "<b>Airdate:</b>Sun 26 Sep 2010<br>",
           "<b>Description:</b>While Homer and Bart accompany<br>Krusty to Oslo so he can receive the Nobel Peace<br>Prize, Marge enrolls Lisa for a week in performing<br>arts camp.<br>"
          ],
          [
           "<b>MoneyBart</b><br>",
           "<b>Episode:</b> S22E3<br>",
           "<b>Airdate:</b>Sun 10 Oct 2010<br>",
           "<b>Description:</b>Lisa takes over as manager of<br>Bart's baseball team and uses statistical analysis<br>to build a winner, but she takes all of the fun<br>out of it and causes Bart to quit the team.<br>"
          ],
          [
           "<b>Donnie Fatso</b><br>",
           "<b>Episode:</b> S22E9<br>",
           "<b>Airdate:</b>Thu 10 Feb 2011<br>",
           "<b>Description:</b>Homer goes to prison after<br>attempting to get out of a series of fines with a<br>bribe, but agrees to a reduced sentence by<br>informing on Fat Tony for the FBI.<br>"
          ],
          [
           "<b>The Scorpion's Tale</b><br>",
           "<b>Episode:</b> S22E15<br>",
           "<b>Airdate:</b>Sun 06 Mar 2011<br>",
           "<b>Description:</b>Lisa's school project leads to<br>the discovery of a new drug that makes the elderly<br>less cranky and more tolerable.<br>"
          ],
          [
           "<b>Love Is a Many Strangled Thing</b><br>",
           "<b>Episode:</b> S22E17<br>",
           "<b>Airdate:</b>Sun 27 Mar 2011<br>",
           "<b>Description:</b>The tables are turned for Homer<br>and Bart after a therapist cures Homer of his<br>violent tendencies toward the boy.<br>"
          ],
          [
           "<b>The Great Simpsina</b><br>",
           "<b>Episode:</b> S22E18<br>",
           "<b>Airdate:</b>Sun 10 Apr 2011<br>",
           "<b>Description:</b>The family is greeted by folk<br>singer Ewell Freestone when they visit a peach<br>farm, but when Marge goes overboard with peach-<br>inspired dishes, Lisa and Bart try to get rid of<br>the unwanted fruit. Later, Lisa becomes a<br>magician's apprentice to the legendary Great<br>Raymondo who helps her develop her craft, but a<br>schoolgirl crush clouds her judgment when she is<br>coaxed into revealing the Great Raymondo's most<br>famous magic trick to his phony archnemesis. But<br>when the rival magician's act takes a risky turn,<br>the Great Raymondo has one last trick up his<br>sleeve and stages showdown with Ricky Jay, Penn &<br>Teller and David Copperfield , showing them why he<br>is the master of the craft.<br>"
          ],
          [
           "<b>The Real Housewives of Fat Tony</b><br>",
           "<b>Episode:</b> S22E19<br>",
           "<b>Airdate:</b>Sun 01 May 2011<br>",
           "<b>Description:</b>Selma falls in love with and<br>marries Fat Tony, and Lisa discovers that Bart has<br>a skill for finding truffles.<br>"
          ],
          [
           "<b>Homer Scissorhands</b><br>",
           "<b>Episode:</b> S22E20<br>",
           "<b>Airdate:</b>Sun 08 May 2011<br>",
           "<b>Description:</b>Homer opens his own salon after<br>he discovers that he has skills as a hair stylist,<br>and Lisa becomes suspicious after Millhouse gets a<br>5th grade girlfriend.<br>"
          ],
          [
           "<b>500 Keys</b><br>",
           "<b>Episode:</b> S22E21<br>",
           "<b>Airdate:</b>Sun 15 May 2011<br>",
           "<b>Description:</b>While Homer takes the Duff<br>Blimp for a joyride, Lisa discovers a secret room<br>in the basement of Sprinfield Elementary<br>School.<br>"
          ],
          [
           "<b>Replaceable You</b><br>",
           "<b>Episode:</b> S23E4<br>",
           "<b>Airdate:</b>Sun 06 Nov 2011<br>",
           "<b>Description:</b>Homer is betrayed by his new<br>assistant at work and winds up working for her,<br>and Bart and Martin create a science project that<br>brings joy to the seniors at the Springfield<br>Retirement Castle.<br>"
          ],
          [
           "<b>The Food Wife</b><br>",
           "<b>Episode:</b> S23E5<br>",
           "<b>Airdate:</b>Sun 13 Nov 2011<br>",
           "<b>Description:</b>Homer is worried that he is no<br>longer the cool parent after Marge, Bart, and Lisa<br>become foodies.<br>"
          ],
          [
           "<b>The Man in the Blue Flannel Pants</b><br>",
           "<b>Episode:</b> S23E7<br>",
           "<b>Airdate:</b>Sun 27 Nov 2011<br>",
           "<b>Description:</b>Homer gets promoted to accounts<br>manager at the nuclear power plant, but soon<br>learns the job robs you of your soul. Meanwhile,<br>Lisa introduces Bart to \"Little Women.\"<br>"
          ],
          [
           "<b>Politically Inept, with Homer Simpson</b><br>",
           "<b>Episode:</b> S23E10<br>",
           "<b>Airdate:</b>Sun 08 Jan 2012<br>",
           "<b>Description:</b>Homer becomes the host of a<br>popular political talk show, starts an \"everyman\"<br>movement in Springfield, and ends up hand-picking<br>Ted Nugent as the Republican nominee for<br>president.<br>"
          ],
          [
           "<b>The D'oh-cial Network</b><br>",
           "<b>Episode:</b> S23E11<br>",
           "<b>Airdate:</b>Sun 15 Jan 2012<br>",
           "<b>Description:</b>Lisa creates an online social<br>network that becomes a Springfield obsession, but<br>later becomes a victim of user backlash.<br>"
          ],
          [
           "<b>Moe Goes from Rags to Riches</b><br>",
           "<b>Episode:</b> S23E12<br>",
           "<b>Airdate:</b>Sun 29 Jan 2012<br>",
           "<b>Description:</b>While Bart tries to regain<br>Milhouse's friendship, Moe's bar cleaning rag<br>tells his unlikely story of how he got to where he<br>is today.<br>"
          ],
          [
           "<b>The Daughter Also Rises</b><br>",
           "<b>Episode:</b> S23E13<br>",
           "<b>Airdate:</b>Sun 12 Feb 2012<br>",
           "<b>Description:</b>Lisa falls for an adventurous,<br>Hemingway-esque young boy, while Bart and<br>Millhouse set out to bust all the myths that<br>surround Springfield Elementary School.<br>"
          ],
          [
           "<b>At Long Last Leave</b><br>",
           "<b>Episode:</b> S23E14<br>",
           "<b>Airdate:</b>Sun 19 Feb 2012<br>",
           "<b>Description:</b>The town votes to kick the<br>Simpsons out of Springfield, so they decide to<br>move to the Outlands.<br>"
          ],
          [
           "<b>Exit Through the Kwik-E-Mart</b><br>",
           "<b>Episode:</b> S23E15<br>",
           "<b>Airdate:</b>Sun 04 Mar 2012<br>",
           "<b>Description:</b>Bart becomes an urban vandal<br>and decides to use Homer as his inspiration, while<br>Apu hits hard times when a new trendy market takes<br>all the Kwik-E-Mart customers.<br>"
          ],
          [
           "<b>Beware My Cheating Bart</b><br>",
           "<b>Episode:</b> S23E18<br>",
           "<b>Airdate:</b>Sun 15 Apr 2012<br>",
           "<b>Description:</b>Jimbo's girlfriend cheats on<br>Jimbo with Bart, and Homer uses his new treadmill<br>to catch up on a TV series about plane crash<br>victims stranded on an island.<br>"
          ],
          [
           "<b>A Totally Fun Thing Bart Will Never Do Again</b><br>",
           "<b>Episode:</b> S23E19<br>",
           "<b>Airdate:</b>Sun 29 Apr 2012<br>",
           "<b>Description:</b>Bart gets the family to take<br>the cruise vacation of his dreams, and then<br>launches a fiendish plot to ensure that it goes on<br>forever.<br>"
          ],
          [
           "<b>The Spy Who Learned Me</b><br>",
           "<b>Episode:</b> S23E20<br>",
           "<b>Airdate:</b>Sun 06 May 2012<br>",
           "<b>Description:</b>Homer uses his paid sick leave<br>to improve his marriage, with the help of his<br>imaginary friend, super-spy Stradivarius Cain.<br>Meanwhile, Bart gets revenge on Nelson for<br>stealing everyone's lunch money.<br>"
          ],
          [
           "<b>Lisa Goes Gaga</b><br>",
           "<b>Episode:</b> S23E22<br>",
           "<b>Airdate:</b>Sun 20 May 2012<br>",
           "<b>Description:</b>After a desperate attempt by<br>Lisa to become more popular backfires, Lady Gaga<br>shows up in Springfield to help her with her self-<br>esteem.<br>"
          ],
          [
           "<b>Moonshine River</b><br>",
           "<b>Episode:</b> S24E1<br>",
           "<b>Airdate:</b>Sun 24 Mar 2013<br>",
           "<b>Description:</b>The Simpsons go back to New<br>York City so that Bart can find his old girlfriend<br>Mary Spuckler. Meanwhile, Lisa and Marge spend the<br>trip trying to take in New York culture on the<br>cheap.<br>"
          ],
          [
           "<b>Gone Abie Gone</b><br>",
           "<b>Episode:</b> S24E4<br>",
           "<b>Airdate:</b>Sun 07 Apr 2013<br>",
           "<b>Description:</b>Homer invests Lisa's college<br>fund on an online poker site. Meanwhile Abe<br>disappears from the Springfield Retirement<br>Castle.<br>"
          ],
          [
           "<b>Penny-Wiseguys</b><br>",
           "<b>Episode:</b> S24E5<br>",
           "<b>Airdate:</b>Sun 14 Apr 2013<br>",
           "<b>Description:</b>Fat Tony has to serve jury<br>duty, and his clerk, Dan, must run the mafia while<br>he's gone. Meanwhile, Lisa considers making a<br>disgusting change to her diet.<br>"
          ],
          [
           "<b>A Test Before Trying</b><br>",
           "<b>Episode:</b> S24E10<br>",
           "<b>Airdate:</b>Sun 19 May 2013<br>",
           "<b>Description:</b>The fate of Springfield<br>Elementary rests on Bart and his test scores, and<br>Homer finds way to make money with his own parking<br>meter.<br>"
          ],
          [
           "<b>Changing of the Guardian</b><br>",
           "<b>Episode:</b> S24E11<br>",
           "<b>Airdate:</b>Sun 22 Dec 2013<br>",
           "<b>Description:</b>Homer and Marge find the<br>perfect young couple and ask them to be the<br>guardians for the kids in case something happens<br>to them.<br>"
          ],
          [
           "<b>Love Is a Many Splintered Thing</b><br>",
           "<b>Episode:</b> S24E12<br>",
           "<b>Airdate:</b>Sun 10 Feb 2013<br>",
           "<b>Description:</b>Mary Spuckler returns to<br>Springfield and begins a relationship with Bart.<br>However, Bart treats her with disrespect.<br>"
          ],
          [
           "<b>Gorgeous Grampa</b><br>",
           "<b>Episode:</b> S24E14<br>",
           "<b>Airdate:</b>Sun 17 Nov 2013<br>",
           "<b>Description:</b>Homer's obsession with the TV<br>show \"Storage Battles\" leads the family to<br>discover Grampa's past identity as \"Gorgeous<br>Godfrey,\" the most feared, villainous man in pro-<br>wrestling history<br>"
          ],
          [
           "<b>Black-Eyed, Please</b><br>",
           "<b>Episode:</b> S24E15<br>",
           "<b>Airdate:</b>Sun 10 Mar 2013<br>",
           "<b>Description:</b>Ned gets fed up with Homer and<br>punches him in the eye, and Lisa is a bullying<br>victim from her new substitute teacher.<br>"
          ],
          [
           "<b>What Animated Women Want</b><br>",
           "<b>Episode:</b> S24E17<br>",
           "<b>Airdate:</b>Mon 25 Nov 2013<br>",
           "<b>Description:</b>Homer contemplates his next<br>move after getting in the doghouse with Marge,<br>while Millhouse's new Stanley Kowalski-inspired<br>persona makes him suddenly attractive to Lisa.<br>"
          ],
          [
           "<b>The Saga of Carl</b><br>",
           "<b>Episode:</b> S24E21<br>",
           "<b>Airdate:</b>Sun 15 Dec 2013<br>",
           "<b>Description:</b>Homer, Moe, Lenny and Carl win<br>the lottery, but Carl steals the ticket and leaves<br>with the money for Iceland.<br>"
          ],
          [
           "<b>Four Regrettings and a Funeral</b><br>",
           "<b>Episode:</b> S25E3<br>",
           "<b>Airdate:</b>Sun 27 Apr 2014<br>",
           "<b>Description:</b>While attending a funeral,<br>Homer, Marge, Mr. Burns, and Kent Brockman recall<br>a past regret and try to find a way to rectify the<br>situation.<br>"
          ],
          [
           "<b>Labor Pains</b><br>",
           "<b>Episode:</b> S25E5<br>",
           "<b>Airdate:</b>Wed 07 May 2014<br>",
           "<b>Description:</b>Homer helps take care of a<br>child that he delivered in an elevator, and Lisa<br>tries to organize the Springfield Atoms<br>cheerleaders against the team's greedy owner.<br>"
          ],
          [
           "<b>The Kid Is All Right</b><br>",
           "<b>Episode:</b> S25E6<br>",
           "<b>Airdate:</b>Wed 07 May 2014<br>",
           "<b>Description:</b>Lisa is distressed when she<br>discovers that her new friend is a Republican, and<br>they wind up running against each other as<br>Springfield Elementary's second grade<br>representative.<br>"
          ],
          [
           "<b>Yellow Subterfuge</b><br>",
           "<b>Episode:</b> S25E7<br>",
           "<b>Airdate:</b>Sun 11 May 2014<br>",
           "<b>Description:</b>Principal Skinner promises the<br>students that the best-behaved can take a ride in<br>a submarine. Bart believes his past indiscretions<br>will be forgotten. Lisa tries to help Krusty by<br>suggesting him to sell the foreign rights to his<br>shows.<br>"
          ],
          [
           "<b>Steal This Episode</b><br>",
           "<b>Episode:</b> S25E9<br>",
           "<b>Airdate:</b>Sun 18 May 2014<br>",
           "<b>Description:</b>Fed up with the high price of<br>Hollywood films, Homer begins screening pirated<br>movies in his backyard, but is busted by the FBI<br>after Marge turns him in.<br>"
          ],
          [
           "<b>The Man Who Grew Too Much</b><br>",
           "<b>Episode:</b> S25E13<br>",
           "<b>Airdate:</b>Sun 01 Jun 2014<br>",
           "<b>Description:</b>Lisa becomes friends with<br>Sideshow Bob, who now has a new job working with<br>genetically-altered foods. Meanwhile, Marge<br>becomes frustrated teaching abstinence for the<br>church.<br>"
          ],
          [
           "<b>The War of Art</b><br>",
           "<b>Episode:</b> S25E15<br>",
           "<b>Airdate:</b>Sun 15 Jun 2014<br>",
           "<b>Description:</b>The friendship between the<br>Simpsons and the Van Houtens is challenged when a<br>painting the Simpsons buy from the Van Houtens'<br>yard sale is discovered to be extremely<br>valuable.<br>"
          ],
          [
           "<b>Days of Future Future</b><br>",
           "<b>Episode:</b> S25E18<br>",
           "<b>Airdate:</b>Sat 16 Aug 2014<br>",
           "<b>Description:</b>Thirty years into the future,<br>Bart is having trouble dealing with his divorce,<br>Lisa is struggling with her marriage to Milhouse,<br>and Marge is finally fed up after burying yet<br>another Homer clone.<br>"
          ],
          [
           "<b>What to Expect When Bart's Expecting</b><br>",
           "<b>Episode:</b> S25E19<br>",
           "<b>Airdate:</b>Sun 17 Aug 2014<br>",
           "<b>Description:</b>Bart becomes a savior to<br>Springfield couples trying to conceive when he<br>inadvertently uses voodoo to get his art teacher<br>pregnant.<br>"
          ],
          [
           "<b>Brick Like Me</b><br>",
           "<b>Episode:</b> S25E20<br>",
           "<b>Airdate:</b>Sat 09 Aug 2014<br>",
           "<b>Description:</b>The Lego version of Homer<br>begins to suspect that his entire Lego world is<br>not real when a toy triggers a flashback to an<br>alternate reality.<br>"
          ],
          [
           "<b>Pay Pal</b><br>",
           "<b>Episode:</b> S25E21<br>",
           "<b>Airdate:</b>Sat 23 Aug 2014<br>",
           "<b>Description:</b>When Homer ruins his and<br>Marge's chances of making a new couple friend,<br>Marge decides to concentrate on finding a friend<br>for Lisa. However, Lisa suddenly makes a new<br>friend on her own.<br>"
          ],
          [
           "<b>The Wreck of the Relationship</b><br>",
           "<b>Episode:</b> S26E2<br>",
           "<b>Airdate:</b>Sun 09 Nov 2014<br>",
           "<b>Description:</b>Homer and Bart turn to the open<br>seas to improve their relationship, and Marge<br>becomes a trash talking victim after she drafts<br>Homer's fantasy football team.<br>"
          ],
          [
           "<b>Super Franchise Me</b><br>",
           "<b>Episode:</b> S26E3<br>",
           "<b>Airdate:</b>Sun 16 Nov 2014<br>",
           "<b>Description:</b>Marge opens a sandwich<br>franchise store after her sandwiches become a huge<br>hit at Springfield Elementary. But running day-to-<br>day at the store proves challenging, especially<br>when the same franchise opens another location<br>across the street.<br>"
          ],
          [
           "<b>Simpsorama</b><br>",
           "<b>Episode:</b> S26E6<br>",
           "<b>Airdate:</b>Sun 09 Nov 2014<br>",
           "<b>Description:</b>The Simpsons meet the Planet<br>Express crew, who have come to Springfield in the<br>present to stop them from destroying the<br>future.<br>"
          ],
          [
           "<b>The Man Who Came to Be Dinner</b><br>",
           "<b>Episode:</b> S26E10<br>",
           "<b>Airdate:</b>Sun 01 Mar 2015<br>",
           "<b>Description:</b>An amusement park ride takes<br>the Simpsons to the home planet of Kang and<br>Kodos.<br>"
          ],
          [
           "<b>Walking Big & Tall</b><br>",
           "<b>Episode:</b> S26E13<br>",
           "<b>Airdate:</b>Sun 22 Mar 2015<br>",
           "<b>Description:</b>Marge tries to get Homer to<br>lose weight. But instead, he finds a support group<br>that encourages him to embrace his largeness.<br>"
          ],
          [
           "<b>Peeping Mom</b><br>",
           "<b>Episode:</b> S26E18<br>",
           "<b>Airdate:</b>Sun 26 Apr 2015<br>",
           "<b>Description:</b>Marge decides to follow Bart<br>everywhere until he confesses to being involved in<br>a bulldozer crash. Meanwhile, Homer ignores<br>Santa's Little Helper when Ned gets a new dog.<br>"
          ],
          [
           "<b>The Kids Are All Fight</b><br>",
           "<b>Episode:</b> S26E19<br>",
           "<b>Airdate:</b>Sun 03 May 2015<br>",
           "<b>Description:</b>The story of Bart and Lisa's<br>rivalry is told when Homer finds an old film<br>strip.<br>"
          ],
          [
           "<b>Bull-E</b><br>",
           "<b>Episode:</b> S26E21<br>",
           "<b>Airdate:</b>Sun 17 May 2015<br>",
           "<b>Description:</b>Bart gets bullied at a school<br>dance, so Marge gets an anti-bullying law passed,<br>which results in Homer being put in therapy for<br>bulling Ned.<br>"
          ],
          [
           "<b>Mathlete's Feat</b><br>",
           "<b>Episode:</b> S26E22<br>",
           "<b>Airdate:</b>Sun 24 May 2015<br>",
           "<b>Description:</b>Groundskeeper Willie becomes<br>the coach of the mathletes, Lisa and other kids<br>from Springfield Elementary compete against<br>Waverly Hills Elementary.<br>"
          ],
          [
           "<b>'Cue Detective</b><br>",
           "<b>Episode:</b> S27E2<br>",
           "<b>Airdate:</b>Sun 04 Oct 2015<br>",
           "<b>Description:</b>A celebrity television chef<br>challenges Homer to a barbecue cook-off. But<br>before the competition, Homer's new, prized<br>barbecue grill is stolen.<br>"
          ],
          [
           "<b>Friend with Benefit</b><br>",
           "<b>Episode:</b> S27E6<br>",
           "<b>Airdate:</b>Sun 08 Nov 2015<br>",
           "<b>Description:</b>Lisa makes a new friend at<br>school - Harper, who happens to be super-rich,<br>while Homer makes friends with Harper's dad and<br>sets out to continue living the good life when<br>Lisa decides to end the friendship.<br>"
          ],
          [
           "<b>Lisa with an \"S\"</b><br>",
           "<b>Episode:</b> S27E7<br>",
           "<b>Airdate:</b>Sun 22 Nov 2015<br>",
           "<b>Description:</b>Broadway legend Laney Fontaine<br>transforms Lisa into a show-biz kid after Homer<br>loses her chance at band camp.<br>"
          ],
          [
           "<b>Paths of Glory</b><br>",
           "<b>Episode:</b> S27E8<br>",
           "<b>Airdate:</b>Sun 06 Dec 2015<br>",
           "<b>Description:</b>Lisa tries to restore the<br>reputation of a forgotten Springfield female<br>inventor, while Bart takes full advantage of a<br>diagnosis that he is a sociopath.<br>"
          ],
          [
           "<b>The Girl Code</b><br>",
           "<b>Episode:</b> S27E10<br>",
           "<b>Airdate:</b>Sun 03 Jan 2016<br>",
           "<b>Description:</b>When Homer loses his job due to<br>Marge's social media post, he begins working as a<br>dishwasher at a Greek restaurant. Meanwhile, Lisa<br>creates an app that can predict the effect any<br>post on social media will have.<br>"
          ],
          [
           "<b>Teenage Mutant Milk-Caused Hurdles</b><br>",
           "<b>Episode:</b> S27E11<br>",
           "<b>Airdate:</b>Sun 10 Jan 2016<br>",
           "<b>Description:</b>Bart and Principal Skinner<br>battle over the affection of Bart's new teacher,<br>and a new milk-based product that Homer buys from<br>the Kwik-E-Mart causes big changes in Bart and<br>Lisa.<br>"
          ],
          [
           "<b>Much Apu About Something</b><br>",
           "<b>Episode:</b> S27E12<br>",
           "<b>Airdate:</b>Sun 17 Jan 2016<br>",
           "<b>Description:</b>Apu's nephew makes big changes<br>when he takes over the Kwik-E-Mart business, and<br>Bart decides that he's through with being bad<br>after his latest prank spirals out of control.<br>"
          ],
          [
           "<b>Lisa the Veterinarian</b><br>",
           "<b>Episode:</b> S27E15<br>",
           "<b>Airdate:</b>Sun 06 Mar 2016<br>",
           "<b>Description:</b>Lisa takes a job as<br>veterinarian's assistant, but soon lets the<br>responsibilities of the job get to her head.<br>Meanwhile, Marge decides to take a job as a crime<br>scene cleaner.<br>"
          ],
          [
           "<b>Fland Canyon</b><br>",
           "<b>Episode:</b> S27E19<br>",
           "<b>Airdate:</b>Sun 24 Apr 2016<br>",
           "<b>Description:</b>Maggie will not go to sleep, so<br>Homer tells her a bedtime story about when the<br>Simpsons and the Flanders went to the Grand Canyon<br>together.<br>"
          ],
          [
           "<b>Simprovised</b><br>",
           "<b>Episode:</b> S27E21<br>",
           "<b>Airdate:</b>Sun 15 May 2016<br>",
           "<b>Description:</b>While trying to overcome a fear<br>of public speaking, Homer creates an improv comedy<br>troupe; Marge rebuilds Bart's treehouse.<br>"
          ],
          [
           "<b>Orange Is the New Yellow</b><br>",
           "<b>Episode:</b> S27E22<br>",
           "<b>Airdate:</b>Sun 22 May 2016<br>",
           "<b>Description:</b>Marge lets Bart go to the park<br>alone because he's too irritating, then she ends<br>up getting arrested for leaving him<br>unsupervised.<br>"
          ],
          [
           "<b>Trust But Clarify</b><br>",
           "<b>Episode:</b> S28E5<br>",
           "<b>Airdate:</b>Sun 23 Oct 2016<br>",
           "<b>Description:</b>Bart and Lisa investigate<br>Krusty's new candy; Marge helps Homer dress for a<br>promotion; Kent Brockman struggles with the<br>changing media world.<br>"
          ],
          [
           "<b>Havana Wild Weekend</b><br>",
           "<b>Episode:</b> S28E7<br>",
           "<b>Airdate:</b>Sun 13 Nov 2016<br>",
           "<b>Description:</b>The Simpsons go to Cuba to get<br>Grampa cheap medical care when the Retirement<br>Castle and V.A. hospital are unable to solve his<br>health problems.<br>"
          ],
          [
           "<b>The Last Traction Hero</b><br>",
           "<b>Episode:</b> S28E9<br>",
           "<b>Airdate:</b>Sun 04 Dec 2016<br>",
           "<b>Description:</b>Homer is placed in a cast<br>following a workplace accident, leading Marge to<br>receive romance from an unexpected source; Lisa<br>attempts to keep the peace as bus monitor.<br>"
          ],
          [
           "<b>Pork and Burns</b><br>",
           "<b>Episode:</b> S28E11<br>",
           "<b>Airdate:</b>Sun 08 Jan 2017<br>",
           "<b>Description:</b>A Japanese book on minimalism<br>inspires Marge to adapt to a new way of living, so<br>the Simpsons have to part with items that no<br>longer bring them joy.<br>"
          ],
          [
           "<b>Fatzcarraldo</b><br>",
           "<b>Episode:</b> S28E14<br>",
           "<b>Airdate:</b>Sun 12 Feb 2017<br>",
           "<b>Description:</b>When all the fast food<br>restaurants in Springfield become healthy, Homer<br>turns to the last bastion of greasy food for<br>comfort; Lisa must find a good news story when her<br>school radio station is in jeopardy.<br>"
          ],
          [
           "<b>The Cad and the Hat</b><br>",
           "<b>Episode:</b> S28E15<br>",
           "<b>Airdate:</b>Sun 19 Feb 2017<br>",
           "<b>Description:</b>Bart ruins Lisa's perfect day<br>out of jealousy and becomes haunted by the<br>manifestation of his guilty conscious. Homer is<br>revealed to be a master chess player which helps<br>him bond with his competitive dad.<br>"
          ],
          [
           "<b>Kamp Krustier</b><br>",
           "<b>Episode:</b> S28E16<br>",
           "<b>Airdate:</b>Sun 05 Mar 2017<br>",
           "<b>Description:</b>Bart and Lisa return home<br>following a traumatic incident at Kamp Krusty,<br>putting an end to Homer and Marge's sexual<br>encounters.<br>"
          ],
          [
           "<b>Looking for Mr. Goodbart</b><br>",
           "<b>Episode:</b> S28E20<br>",
           "<b>Airdate:</b>Sun 30 Apr 2017<br>",
           "<b>Description:</b>Bart bonds with Skinner's<br>mother over their mutual dislike of Skinner and<br>realizes that he could make a bundle by<br>befriending other lonely and disgruntled<br>grandmothers of Springfield for money.<br>"
          ],
          [
           "<b>Dogtown</b><br>",
           "<b>Episode:</b> S28E22<br>",
           "<b>Airdate:</b>Sun 21 May 2017<br>",
           "<b>Description:</b>After a successful animal<br>rights campaign, all dogs in Springfield are<br>allowed to go where they want and do what they<br>want. Pack mentality quickly kicks in and the dogs<br>of Springfield assert their dominance by<br>threatening the people.<br>"
          ],
          [
           "<b>The Serfsons</b><br>",
           "<b>Episode:</b> S29E1<br>",
           "<b>Airdate:</b>Fri 29 Dec 2017<br>",
           "<b>Description:</b>In a medieval world, Lisa is<br>forced to use illegal magic when Marge's mother is<br>turned into an Ice Walker.<br>"
          ],
          [
           "<b>Springfield Splendor</b><br>",
           "<b>Episode:</b> S29E2<br>",
           "<b>Airdate:</b>Fri 05 Jan 2018<br>",
           "<b>Description:</b>Lisa's sad experience is<br>adapted into a graphic novel, which becomes a<br>Broadway show.<br>"
          ],
          [
           "<b>Grampy Can Ya Hear Me</b><br>",
           "<b>Episode:</b> S29E5<br>",
           "<b>Airdate:</b>Fri 26 Jan 2018<br>",
           "<b>Description:</b>Grampa gets a hearing aid and<br>finally hears what everyone has been saying about<br>him.<br>"
          ],
          [
           "<b>The Old Blue Mayor She Ain't What She Used To Be</b><br>",
           "<b>Episode:</b> S29E6<br>",
           "<b>Airdate:</b>Fri 02 Feb 2018<br>",
           "<b>Description:</b>Marge runs for mayor and uses<br>Homer as the butt of her jokes to gain public<br>support.<br>"
          ],
          [
           "<b>Haw-Haw Land</b><br>",
           "<b>Episode:</b> S29E10<br>",
           "<b>Airdate:</b>Fri 02 Mar 2018<br>",
           "<b>Description:</b>Lisa falls for a crooning jazz<br>pianist named Brendan; Bart discovers he has an<br>affinity for chemistry.<br>"
          ],
          [
           "<b>Homer is Where the Art Isn't</b><br>",
           "<b>Episode:</b> S29E12<br>",
           "<b>Airdate:</b>Fri 23 Mar 2018<br>",
           "<b>Description:</b>Homer is accused of stealing a<br>multimillion-dollar painting and only freelance<br>insurance investigator Manacek can prove his<br>innocence or guilt.<br>"
          ],
          [
           "<b>Forgive and Regret</b><br>",
           "<b>Episode:</b> S29E18<br>",
           "<b>Airdate:</b>Fri 04 May 2018<br>",
           "<b>Description:</b>On his deathbed, Grampa makes a<br>confession to Homer about the notes from Homer's<br>mother that got lost when she left. This angers<br>Homer to the point of refusing to reconcile with<br>Abe after he miraculously recovers.<br>"
          ],
          [
           "<b>Left Behind</b><br>",
           "<b>Episode:</b> S29E19<br>",
           "<b>Airdate:</b>Fri 11 May 2018<br>",
           "<b>Description:</b>Homer gets Flanders a job at<br>the power plant; Marge feels there's no spark left<br>in their marriage.<br>"
          ],
          [
           "<b>Throw Grampa from the Dane</b><br>",
           "<b>Episode:</b> S29E20<br>",
           "<b>Airdate:</b>Fri 18 May 2018<br>",
           "<b>Description:</b>The Simpsons go to Denmark so<br>Grampa can benefit from its free health-care<br>system.<br>"
          ],
          [
           "<b>Flanders' Ladder</b><br>",
           "<b>Episode:</b> S29E21<br>",
           "<b>Airdate:</b>Fri 25 May 2018<br>",
           "<b>Description:</b>When Bart falls into a coma<br>after he is struck by lightning, he is visited by<br>ghosts seeking closure.<br>"
          ],
          [
           "<b>Heartbreak Hotel</b><br>",
           "<b>Episode:</b> S30E2<br>",
           "<b>Airdate:</b>Fri 08 Feb 2019<br>",
           "<b>Description:</b>Marge and Homer travel to a<br>tropical island and go on Marge's favorite reality<br>competition program to win a million dollars.<br>"
          ],
          [
           "<b>Baby You Can't Drive My Car</b><br>",
           "<b>Episode:</b> S30E5<br>",
           "<b>Airdate:</b>Fri 01 Mar 2019<br>",
           "<b>Description:</b>A self-driving car company<br>comes to Springfield, poaching all of the power<br>plant employees with their fun work<br>environment.<br>"
          ],
          [
           "<b>Werking Mom</b><br>",
           "<b>Episode:</b> S30E7<br>",
           "<b>Airdate:</b>Fri 15 Mar 2019<br>",
           "<b>Description:</b>In search of a job, Marge gets<br>one selling plastic food storage containers - as a<br>drag queen; Lisa tries to make the world<br>better.<br>"
          ],
          [
           "<b>Mad About the Toy</b><br>",
           "<b>Episode:</b> S30E11<br>",
           "<b>Airdate:</b>Fri 05 Apr 2019<br>",
           "<b>Description:</b>Motivated by a PTSD episode<br>Grampa had while babysitting the kids, the<br>Simpsons take a journey to Grampa's past as a<br>post-WW2 toy model for plastic army men, and Abe<br>finally faces his on confused sexuality.<br>"
          ],
          [
           "<b>I'm Dancing as Fat as I Can</b><br>",
           "<b>Episode:</b> S30E13<br>",
           "<b>Airdate:</b>Fri 19 Apr 2019<br>",
           "<b>Description:</b>Homer tries to make amends for<br>binging his and Marge's favorite show without her;<br>Bart prepares for \"Krusty's Holiday Trample\".<br>"
          ],
          [
           "<b>101 Mitigations</b><br>",
           "<b>Episode:</b> S30E15<br>",
           "<b>Airdate:</b>Fri 03 May 2019<br>",
           "<b>Description:</b>Homer steals Comic Book Guy's<br>car and must either prove his innocence in court<br>or reconcile with him.<br>"
          ],
          [
           "<b>E My Sports</b><br>",
           "<b>Episode:</b> S30E17<br>",
           "<b>Airdate:</b>Fri 17 May 2019<br>",
           "<b>Description:</b>Homer discovers a passion for<br>coaching Bart in video game competitions; Lisa's<br>plan to bring Homer back to reality creates<br>chaos.<br>"
          ],
          [
           "<b>Bart vs. Itchy & Scratchy</b><br>",
           "<b>Episode:</b> S30E18<br>",
           "<b>Airdate:</b>Sun 24 Mar 2019<br>",
           "<b>Description:</b>Bart's friends start a boys<br>rights activist group to protest Krusty's all-<br>female reboot of Itchy and Scratchy. When they<br>catch Bart enjoying it, they kick him out, so he<br>joins Bossy Riot, a militant feminist gang of<br>sixth-grade girls.<br>"
          ],
          [
           "<b>Girl's in the Band</b><br>",
           "<b>Episode:</b> S30E19<br>",
           "<b>Airdate:</b>Sun 31 Mar 2019<br>",
           "<b>Description:</b>Homer works extra shifts at the<br>plant so Lisa can play in the Capitol City Youth<br>Philharmonic.<br>"
          ],
          [
           "<b>I'm Just a Girl Who Can't Say D'oh</b><br>",
           "<b>Episode:</b> S30E20<br>",
           "<b>Airdate:</b>Sun 07 Apr 2019<br>",
           "<b>Description:</b>Marge becomes Director of<br>Springfield's local theater, armed with Lisa's<br>script resembling \"Hamilton\"; Homer joins a baby<br>class with Maggie, and takes a liking to<br>supervisor Chloe.<br>"
          ],
          [
           "<b>Woo-Hoo Dunnit?</b><br>",
           "<b>Episode:</b> S30E22<br>",
           "<b>Airdate:</b>Sun 05 May 2019<br>",
           "<b>Description:</b>The documentary crime series<br>\"Dateline: Springfield\" goes in-depth to solve the<br>case of Lisa's missing college fund.<br>"
          ],
          [
           "<b>The Winter of Our Monetized Content</b><br>",
           "<b>Episode:</b> S31E1<br>",
           "<b>Airdate:</b>Fri 17 Jan 2020<br>",
           "<b>Description:</b>Bart and Homer become social<br>media celebrities when a video of them fighting<br>goes viral; Lisa fights the school's new<br>industrialized detention system.<br>"
          ],
          [
           "<b>Gorillas on the Mast</b><br>",
           "<b>Episode:</b> S31E5<br>",
           "<b>Airdate:</b>Fri 14 Feb 2020<br>",
           "<b>Description:</b>After visiting Aquatraz Water<br>Park, Lisa and Bart set out to free from captivity<br>the most vicious animals in Springfield. Homer<br>fulfills a lifelong dream and buys a boat, only to<br>realize how much boat ownership sucks.<br>"
          ],
          [
           "<b>Livin la Pura Vida</b><br>",
           "<b>Episode:</b> S31E7<br>",
           "<b>Airdate:</b>Tue 24 Dec 2019<br>",
           "<b>Description:</b>The Simpsons join other<br>Springfield families on the Van Houtens' annual<br>trip to Costa Rica, where Homer befriends Patty's<br>new girlfriend and Lisa discovers how the Van<br>Houtens are able to afford this trip every<br>year.<br>"
          ],
          [
           "<b>The Miseducation of Lisa Simpson</b><br>",
           "<b>Episode:</b> S31E12<br>",
           "<b>Airdate:</b>Fri 27 Mar 2020<br>",
           "<b>Description:</b>The sea captain finds treasure<br>for which he's been searching for 40 years, but<br>City Hall claims it since it was in city limits.<br>Marge convinces the townspeople to use the<br>windfall to build a STEM school. Homer crusades<br>against automation.<br>"
          ],
          [
           "<b>Bart the Bad Guy</b><br>",
           "<b>Episode:</b> S31E14<br>",
           "<b>Airdate:</b>Fri 10 Apr 2020<br>",
           "<b>Description:</b>Bart uses spoilers for a<br>superhero movie he saw to get what he wants, but<br>two movie executives will stop at nothing to keep<br>his knowledge secret.<br>"
          ],
          [
           "<b>Better Off Ned</b><br>",
           "<b>Episode:</b> S31E16<br>",
           "<b>Airdate:</b>Fri 24 Apr 2020<br>",
           "<b>Description:</b>Jealous of Bart's bond with<br>Ned, Homer mentors Nelson in retaliation, but an<br>act of heroism helps Homer to regain Bart's<br>respect.<br>"
          ],
          [
           "<b>I, Carumbus</b><br>",
           "<b>Episode:</b> S32E2<br>",
           "<b>Airdate:</b>Fri 22 Jan 2021<br>",
           "<b>Description:</b>At a museum exhibit of Ancient<br>Rome, Marge and Homer imagine themselves in Rome<br>where Homer is more ambitious.<br>"
          ],
          [
           "<b>Podcast News</b><br>",
           "<b>Episode:</b> S32E6<br>",
           "<b>Airdate:</b>Fri 19 Feb 2021<br>",
           "<b>Description:</b>Grampa is accused of a crime,<br>while Kent Brockman questions his career.<br>"
          ],
          [
           "<b>Three Dreams Denied</b><br>",
           "<b>Episode:</b> S32E7<br>",
           "<b>Airdate:</b>Fri 26 Feb 2021<br>",
           "<b>Description:</b>Bart becomes a voice over<br>actor, Comic Book Guy is humiliated at Comic-Con<br>and Lisa is set up for a fall.<br>"
          ],
          [
           "<b>Wad Goals</b><br>",
           "<b>Episode:</b> S32E13<br>",
           "<b>Airdate:</b>Fri 02 Apr 2021<br>",
           "<b>Description:</b>Bart becomes a successful<br>caddie, but Marge thinks it may ruin his<br>character.<br>"
          ],
          [
           "<b>Yokel Hero</b><br>",
           "<b>Episode:</b> S32E14<br>",
           "<b>Airdate:</b>Fri 09 Apr 2021<br>",
           "<b>Description:</b>Cletus becomes a singing<br>sensation and ruins everything when he turns on<br>his fans, while Homer becomes a new man.<br>"
          ],
          [
           "<b>Manger Things</b><br>",
           "<b>Episode:</b> S32E16<br>",
           "<b>Airdate:</b>Fri 23 Apr 2021<br>",
           "<b>Description:</b>A secret from Flanders' past<br>and a never-before-seen room in the Simpson home<br>are revealed.<br>"
          ],
          [
           "<b>Uncut Femmes</b><br>",
           "<b>Episode:</b> S32E17<br>",
           "<b>Airdate:</b>Fri 30 Apr 2021<br>",
           "<b>Description:</b>Sarah Wiggum is more than she<br>seems; Marge participates in a jewel heist.<br>"
          ],
          [
           "<b>Panic on the Streets of Springfield</b><br>",
           "<b>Episode:</b> S32E19<br>",
           "<b>Airdate:</b>Fri 14 May 2021<br>",
           "<b>Description:</b>Lisa's imaginary friend is a<br>depressed British singer from the 1980s; Homer<br>becomes a truck guy.<br>"
          ],
          [
           "<b>The Man from G.R.A.M.P.A.</b><br>",
           "<b>Episode:</b> S32E21<br>",
           "<b>Airdate:</b>Fri 28 May 2021<br>",
           "<b>Description:</b>A British secret agent comes to<br>Springfield to find a Russian spy.<br>"
          ],
          [
           "<b>The Star of the Backstage</b><br>",
           "<b>Episode:</b> S33E1<br>",
           "<b>Airdate:</b>Sun 16 Jan 2022<br>",
           "<b>Description:</b>Marge stages a revival of a<br>musical from high school, but her pleasant<br>memories are threatened by the return of her old<br>rival.<br>"
          ],
          [
           "<b>Bart's in Jail!</b><br>",
           "<b>Episode:</b> S33E2<br>",
           "<b>Airdate:</b>Sun 23 Jan 2022<br>",
           "<b>Description:</b>When Grandpa falls victim to a<br>phone scam, the Simpsons set out to get his money<br>back.<br>"
          ],
          [
           "<b>The Wayz We Were</b><br>",
           "<b>Episode:</b> S33E4<br>",
           "<b>Airdate:</b>Sun 06 Feb 2022<br>",
           "<b>Description:</b>Moe is faced with a difficult<br>choice when Evergreen Terrace develops a traffic<br>problem.<br>"
          ],
          [
           "<b>Portrait of a Lackey on Fire</b><br>",
           "<b>Episode:</b> S33E8<br>",
           "<b>Airdate:</b>Sun 06 Mar 2022<br>",
           "<b>Description:</b>Smithers finds true love with a<br>famous fashion designer, but this new relationship<br>may destroy Springfield.<br>"
          ],
          [
           "<b>A Made Maggie</b><br>",
           "<b>Episode:</b> S33E10<br>",
           "<b>Airdate:</b>Fri 24 Dec 2021<br>",
           "<b>Description:</b>Fat Tony becomes Maggie's<br>godfather.<br>"
          ],
          [
           "<b>Pixelated and Afraid</b><br>",
           "<b>Episode:</b> S33E12<br>",
           "<b>Airdate:</b>Sun 27 Mar 2022<br>",
           "<b>Description:</b>Homer and Marge must push<br>themselves to their limits when they get lost in<br>an icy wilderness.<br>"
          ],
          [
           "<b>You Won't Believe What This Episode Is About - Act Three Will Shock You!</b><br>",
           "<b>Episode:</b> S33E14<br>",
           "<b>Airdate:</b>Sun 10 Apr 2022<br>",
           "<b>Description:</b>Homer becomes a pariah when<br>footage of him allegedly leaving Santa's Little<br>Helper in a hot car goes viral.<br>"
          ],
          [
           "<b>Pretty Whittle Liar</b><br>",
           "<b>Episode:</b> S33E16<br>",
           "<b>Airdate:</b>Sun 24 Apr 2022<br>",
           "<b>Description:</b>Cletus feels betrayed when he<br>learns that Brandine can read.<br>"
          ],
          [
           "<b>The Sound of Bleeding Gums</b><br>",
           "<b>Episode:</b> S33E17<br>",
           "<b>Airdate:</b>Sun 01 May 2022<br>",
           "<b>Description:</b>Lisa meets the son of the late<br>Bleeding Gums Murphy and tries to improve his<br>life.<br>"
          ],
          [
           "<b>Marge the Meanie</b><br>",
           "<b>Episode:</b> S33E20<br>",
           "<b>Airdate:</b>Fri 27 May 2022<br>",
           "<b>Description:</b>Marge bonds with Bart when she<br>discovers a secret from her past, terrifying<br>Homer.<br>"
          ],
          [
           "<b>Meat Is Murder</b><br>",
           "<b>Episode:</b> S33E21<br>",
           "<b>Airdate:</b>Fri 03 Jun 2022<br>",
           "<b>Description:</b>Grampa reconnects with an old<br>associate in the hamburger business.<br>"
          ],
          [
           "<b>Poorhouse Rock</b><br>",
           "<b>Episode:</b> S33E22<br>",
           "<b>Airdate:</b>Sun 05 Jun 2022<br>",
           "<b>Description:</b>Bart finally learns to admire<br>Homer, but a visit from a magical singing janitor<br>changes everything they thought they knew.<br>"
          ],
          [
           "",
           2.074719190597534,
           "",
           ""
          ]
         ],
         "hovertemplate": "%{customdata[0]}%{customdata[1]}%{customdata[2]}%{customdata[3]}<extra></extra>",
         "marker": {
          "color": "#CFD8DC",
          "opacity": 0.75,
          "size": 5
         },
         "mode": "markers+text",
         "name": "Unselected",
         "showlegend": true,
         "text": [
          "",
          "",
          "",
          "",
          "",
          "",
          "",
          "",
          "",
          "",
          "",
          "",
          "",
          "",
          "",
          "",
          "",
          "",
          "",
          "",
          "",
          "",
          "",
          "",
          "",
          "",
          "",
          "",
          "",
          "",
          "",
          "",
          "",
          "",
          "",
          "",
          "",
          "",
          "",
          "",
          "",
          "",
          "",
          "",
          "",
          "",
          "",
          "",
          "",
          "",
          "",
          "",
          "",
          "",
          "",
          "",
          "",
          "",
          "",
          "",
          "",
          "",
          "",
          "",
          "",
          "",
          "",
          "",
          "",
          "",
          "",
          "",
          "",
          "",
          "",
          "",
          "",
          "",
          "",
          "",
          "",
          "",
          "",
          "",
          "",
          "",
          "",
          "",
          "",
          "",
          "",
          "",
          "",
          "",
          "",
          "",
          "",
          "",
          "",
          "",
          "",
          "",
          "",
          "",
          "",
          "",
          "",
          "",
          "",
          "",
          "",
          "",
          "",
          "",
          "",
          "",
          "",
          "",
          "",
          "",
          "",
          "",
          "",
          "",
          "",
          "",
          "",
          "",
          "",
          "",
          "",
          "",
          "",
          "",
          "",
          "",
          "",
          "",
          "",
          "",
          "",
          "",
          "",
          "",
          "",
          "",
          "",
          "",
          "",
          "",
          "",
          "",
          "",
          "",
          "",
          "",
          "",
          "",
          "",
          "",
          "",
          "",
          "",
          "",
          "",
          "",
          "",
          "",
          "",
          "",
          "",
          "",
          "",
          "",
          "",
          "",
          "",
          "",
          "",
          "",
          "",
          "",
          "",
          "",
          "",
          "",
          "",
          "",
          "",
          "",
          "",
          "",
          "",
          "",
          "",
          "",
          "",
          "",
          "",
          "",
          "",
          "",
          "",
          "",
          "",
          "",
          "",
          "",
          "",
          "",
          "",
          "",
          "",
          "",
          "",
          "",
          "",
          "",
          "",
          "",
          "",
          "",
          "",
          "",
          "",
          "",
          "",
          "",
          "",
          "",
          "",
          "",
          "",
          "",
          "",
          "",
          "",
          "",
          "",
          "",
          "",
          "",
          "",
          "",
          "",
          "",
          "",
          "",
          "",
          "",
          "",
          "",
          "",
          "",
          "",
          "",
          "",
          "",
          "",
          "",
          "",
          "",
          "",
          "",
          "",
          "",
          "",
          "",
          "",
          "",
          "",
          "",
          "",
          "",
          "",
          "",
          "",
          "",
          "",
          "",
          "",
          "",
          "",
          "",
          "",
          "",
          "",
          "",
          "",
          "",
          "",
          "",
          "",
          "",
          "",
          "",
          "",
          "",
          "",
          "",
          "",
          "",
          "",
          "",
          "",
          "",
          "",
          "",
          "",
          "",
          "",
          "",
          "",
          "",
          "",
          "",
          "",
          "",
          "",
          "Unselected"
         ],
         "textfont": {
          "size": 12
         },
         "type": "scatter3d",
         "visible": "legendonly",
         "x": [
          28.329320907592773,
          -45.19073486328125,
          24.844493865966797,
          22.773880004882812,
          12.62401008605957,
          -18.846513748168945,
          107.3475341796875,
          21.35494041442871,
          54.20611572265625,
          -135.0321502685547,
          -92.29472351074219,
          16.475072860717773,
          77.95718383789062,
          42.16351318359375,
          79.81767272949219,
          -115.49102783203125,
          -119.35383605957031,
          15.217005729675293,
          32.53091812133789,
          64.83694458007812,
          19.453516006469727,
          41.121402740478516,
          64.97728729248047,
          -32.769142150878906,
          28.708250045776367,
          34.141822814941406,
          74.72183990478516,
          53.881263732910156,
          36.11817169189453,
          -33.782310485839844,
          -36.45439529418945,
          -47.9471321105957,
          83.62757873535156,
          -45.68435287475586,
          -0.9067731499671936,
          52.72751235961914,
          -29.724109649658203,
          9.87845230102539,
          -98.5203857421875,
          -67.00440216064453,
          -7.488672256469727,
          55.89430618286133,
          70.41780853271484,
          75.45201110839844,
          -79.9060287475586,
          2.461247444152832,
          58.347713470458984,
          117.37659454345703,
          69.6534423828125,
          11.444836616516113,
          -40.95212173461914,
          -0.745042085647583,
          -106.28948974609375,
          6.79737663269043,
          29.520477294921875,
          -23.246501922607422,
          -32.54640579223633,
          89.19672393798828,
          -121.65133666992188,
          -28.76075553894043,
          58.77012252807617,
          57.9608154296875,
          51.815765380859375,
          -46.58061599731445,
          -103.67420959472656,
          -89.21759033203125,
          53.56466293334961,
          57.02754211425781,
          -145.96322631835938,
          -78.38422393798828,
          -10.45534896850586,
          44.22413635253906,
          -86.73682403564453,
          33.48013687133789,
          -19.944210052490234,
          -38.08930587768555,
          38.43146896362305,
          -76.23575592041016,
          102.9428482055664,
          -38.853790283203125,
          2.5573959350585938,
          -20.48328399658203,
          -28.60978889465332,
          54.46900177001953,
          -13.406003952026367,
          50.112060546875,
          -108.93144989013672,
          74.43489074707031,
          -70.36334228515625,
          -77.11602783203125,
          133.12612915039062,
          -91.01346588134766,
          -82.08384704589844,
          -35.94902038574219,
          -63.350040435791016,
          80.23088073730469,
          -19.733333587646484,
          61.624603271484375,
          -29.104686737060547,
          -104.55083465576172,
          -78.55179595947266,
          20.638376235961914,
          57.516544342041016,
          -89.97344207763672,
          56.77524185180664,
          64.35701751708984,
          -15.554991722106934,
          -55.320106506347656,
          -2.0846564769744873,
          -40.715911865234375,
          35.548683166503906,
          -18.29747772216797,
          8.382619857788086,
          -30.274221420288086,
          -57.090946197509766,
          -3.659517526626587,
          -35.21582794189453,
          55.935909271240234,
          -90.11698150634766,
          -34.843544006347656,
          86.18819427490234,
          -5.129788398742676,
          20.405029296875,
          -94.74408721923828,
          74.5044174194336,
          -53.886619567871094,
          -41.000526428222656,
          -21.365245819091797,
          27.442291259765625,
          71.75251770019531,
          -16.245946884155273,
          68.10118103027344,
          32.47056579589844,
          80.99311065673828,
          31.56109619140625,
          -1.8963013887405396,
          -21.696821212768555,
          54.46916580200195,
          -9.100540161132812,
          101.15565490722656,
          -36.95082473754883,
          14.684401512145996,
          -113.21383666992188,
          93.36397552490234,
          51.52326202392578,
          20.821706771850586,
          26.06559944152832,
          -21.396194458007812,
          57.65047836303711,
          -73.63921356201172,
          67.93746185302734,
          -19.320043563842773,
          57.20259475708008,
          11.088288307189941,
          -36.769962310791016,
          87.11211395263672,
          51.89411926269531,
          49.24677276611328,
          -1.1591451168060303,
          -27.724458694458008,
          -51.003089904785156,
          94.2234878540039,
          46.51736068725586,
          -30.380102157592773,
          86.99781799316406,
          -58.12800598144531,
          25.556921005249023,
          59.130924224853516,
          19.039051055908203,
          13.117951393127441,
          12.154685974121094,
          39.36943817138672,
          45.218448638916016,
          -22.776630401611328,
          118.922607421875,
          -57.902008056640625,
          -30.27580451965332,
          20.28620147705078,
          -36.01611328125,
          -23.714441299438477,
          -48.382354736328125,
          76.02893829345703,
          2.1967813968658447,
          90.129150390625,
          40.44968795776367,
          -29.134944915771484,
          -63.328033447265625,
          92.63289642333984,
          -51.27903366088867,
          113.14453887939453,
          74.78968811035156,
          9.574394226074219,
          -83.21996307373047,
          -18.013458251953125,
          63.81732177734375,
          113.16830444335938,
          16.468128204345703,
          -30.374908447265625,
          -16.599267959594727,
          55.533164978027344,
          34.10365676879883,
          -24.975915908813477,
          100.46831512451172,
          15.00403881072998,
          122.49785614013672,
          2.5850889682769775,
          -16.655885696411133,
          17.46049690246582,
          17.822629928588867,
          45.101436614990234,
          -0.8220499157905579,
          -65.19429779052734,
          -24.04379653930664,
          40.92363357543945,
          79.81189727783203,
          -59.386844635009766,
          -89.48816680908203,
          0.4209234118461609,
          68.20518493652344,
          -8.763581275939941,
          71.60669708251953,
          104.63309478759766,
          83.23856353759766,
          -12.52038860321045,
          -10.816442489624023,
          -1.5148639678955078,
          9.932284355163574,
          -28.445899963378906,
          54.8393669128418,
          50.97431564331055,
          -30.389543533325195,
          57.77070999145508,
          -137.8977508544922,
          76.57693481445312,
          114.05586242675781,
          -11.72455883026123,
          66.77979278564453,
          -66.80810546875,
          46.24464797973633,
          65.3768539428711,
          -80.83903503417969,
          116.78876495361328,
          20.813125610351562,
          -15.273120880126953,
          -76.79439544677734,
          -14.188740730285645,
          -13.820018768310547,
          52.81585693359375,
          57.16658401489258,
          45.38418960571289,
          87.32518005371094,
          -12.00822639465332,
          108.96702575683594,
          37.99956130981445,
          16.259017944335938,
          53.048492431640625,
          42.490753173828125,
          -94.76241302490234,
          -4.553603172302246,
          1.474196195602417,
          -3.339233160018921,
          46.2707405090332,
          40.9122200012207,
          9.211146354675293,
          -49.77859115600586,
          -48.01508331298828,
          -16.8013973236084,
          32.47356033325195,
          34.0506477355957,
          105.74957275390625,
          -53.71608352661133,
          108.69849395751953,
          12.751872062683105,
          -8.067983627319336,
          -64.67576599121094,
          92.28288269042969,
          -63.49465560913086,
          55.00392532348633,
          -49.83722686767578,
          17.37344741821289,
          24.96910858154297,
          -20.538854598999023,
          -45.276187896728516,
          -8.991376876831055,
          -80.69910430908203,
          38.95286178588867,
          -54.24890899658203,
          28.05208396911621,
          67.83526611328125,
          31.4882869720459,
          43.72370910644531,
          90.12603759765625,
          41.77681350708008,
          -24.87145233154297,
          23.358400344848633,
          27.545467376708984,
          43.4040641784668,
          78.43190002441406,
          -10.843134880065918,
          2.7527811527252197,
          101.91888427734375,
          42.26093673706055,
          30.66478157043457,
          32.92649841308594,
          -18.686676025390625,
          -10.85791015625,
          -86.80995178222656,
          103.74695587158203,
          -4.592947483062744,
          -121.84064483642578,
          -26.25437355041504,
          9.139060020446777,
          -0.49708685278892517,
          11.662921905517578,
          38.71880340576172,
          17.36670684814453,
          44.347816467285156,
          -17.342660903930664,
          14.987346649169922,
          ""
         ],
         "y": [
          47.66777801513672,
          58.3776741027832,
          -53.0251579284668,
          64.48493194580078,
          19.940401077270508,
          -15.183035850524902,
          -33.390628814697266,
          -78.1571044921875,
          92.91130828857422,
          -23.075204849243164,
          -93.93667602539062,
          -30.98183822631836,
          -88.18943786621094,
          -51.14708709716797,
          -66.70610046386719,
          81.77298736572266,
          -17.938091278076172,
          -62.298404693603516,
          7.522397994995117,
          -71.67442321777344,
          -81.22286224365234,
          -68.35242462158203,
          -74.29780578613281,
          -31.208786010742188,
          -13.440855026245117,
          -1.404797077178955,
          -33.55162811279297,
          84.90750885009766,
          -111.890869140625,
          -84.10970306396484,
          -93.32154846191406,
          -1.5642237663269043,
          -92.8207015991211,
          -109.00732421875,
          44.57242202758789,
          72.42506408691406,
          8.376635551452637,
          -20.64405632019043,
          -73.24552154541016,
          -74.16361999511719,
          45.341339111328125,
          99.8987045288086,
          -62.31444549560547,
          -22.23182487487793,
          81.75740051269531,
          55.897769927978516,
          58.09964370727539,
          -25.63535499572754,
          -88.47783660888672,
          38.14944076538086,
          42.812652587890625,
          87.6872787475586,
          76.66835021972656,
          35.65788650512695,
          -80.5247802734375,
          -89.904296875,
          72.71556091308594,
          22.696929931640625,
          -9.268293380737305,
          42.833839416503906,
          76.25341033935547,
          -101.51174926757812,
          -77.40144348144531,
          66.93266296386719,
          -62.44783401489258,
          -107.12853240966797,
          38.26705551147461,
          -109.30103302001953,
          -8.136764526367188,
          69.34184265136719,
          -130.94296264648438,
          93.22348022460938,
          53.85750198364258,
          23.468006134033203,
          -63.83176040649414,
          72.5001220703125,
          -20.424959182739258,
          -65.41581726074219,
          44.771583557128906,
          -40.49808883666992,
          77.2613296508789,
          -112.84249877929688,
          -36.33462142944336,
          -15.582056045532227,
          -82.89177703857422,
          -78.89875793457031,
          32.72031784057617,
          65.61615753173828,
          -16.779075622558594,
          -120.34734344482422,
          17.21662712097168,
          -70.60272979736328,
          -72.1329345703125,
          -55.49299240112305,
          -55.709503173828125,
          -98.63423919677734,
          1.6272876262664795,
          -42.9693603515625,
          -125.85517120361328,
          -62.7336311340332,
          50.18159484863281,
          57.984764099121094,
          88.37273406982422,
          -97.60942077636719,
          -92.37372589111328,
          19.890033721923828,
          39.72084426879883,
          36.794578552246094,
          66.25544738769531,
          -104.92549133300781,
          -47.562896728515625,
          2.9530301094055176,
          29.036548614501953,
          77.38371276855469,
          -10.187178611755371,
          -123.56465911865234,
          6.2977705001831055,
          -81.4139633178711,
          59.303897857666016,
          77.48405456542969,
          16.77090835571289,
          58.40724563598633,
          -44.64786148071289,
          -67.49443054199219,
          80.91716766357422,
          -25.490278244018555,
          -112.2417984008789,
          -66.50402069091797,
          47.34068298339844,
          21.17460060119629,
          -73.3384780883789,
          -95.04755401611328,
          46.28288269042969,
          -57.51701354980469,
          56.66122055053711,
          -25.99213409423828,
          -37.02311706542969,
          -87.63801574707031,
          64.63642120361328,
          -73.01084899902344,
          -18.749963760375977,
          -97.52571868896484,
          -69.9493637084961,
          -48.424278259277344,
          76.61276245117188,
          -103.96000671386719,
          -72.33219909667969,
          20.126232147216797,
          -102.40320587158203,
          -114.55323791503906,
          -52.65642547607422,
          90.49443054199219,
          -7.473435878753662,
          -40.38007736206055,
          91.76245880126953,
          -35.8182258605957,
          43.62100601196289,
          9.315277099609375,
          -97.7606430053711,
          -72.57145690917969,
          -23.529605865478516,
          -12.435773849487305,
          75.37101745605469,
          5.284665107727051,
          80.36175537109375,
          61.0403938293457,
          -109.80249786376953,
          -91.5415267944336,
          -32.291412353515625,
          -31.001134872436523,
          -71.381103515625,
          -53.53118133544922,
          -102.25241088867188,
          -59.48685836791992,
          12.202618598937988,
          -115.0714340209961,
          74.38733673095703,
          -12.69185733795166,
          -23.265670776367188,
          -15.48148250579834,
          28.20417022705078,
          9.124273300170898,
          -27.974609375,
          -0.1133992150425911,
          43.169044494628906,
          75.25350952148438,
          31.402061462402344,
          -97.24382781982422,
          49.298431396484375,
          -0.8899618983268738,
          -35.89885711669922,
          -23.773582458496094,
          -25.709779739379883,
          -23.30339241027832,
          -16.85405731201172,
          -41.420433044433594,
          20.85716438293457,
          -112.02263641357422,
          32.28258514404297,
          -68.07164001464844,
          -58.73381423950195,
          -123.20062255859375,
          31.073711395263672,
          -32.239906311035156,
          25.200979232788086,
          -111.2441635131836,
          16.71003532409668,
          -41.25788879394531,
          -54.735984802246094,
          3.644771099090576,
          -38.47986602783203,
          -114.9666976928711,
          23.868167877197266,
          -85.60734558105469,
          -29.689512252807617,
          38.77707290649414,
          -81.83318328857422,
          -64.18427276611328,
          97.15789794921875,
          -54.963722229003906,
          -37.068233489990234,
          9.632144927978516,
          2.3739802837371826,
          -120.02462768554688,
          -69.92687225341797,
          19.313518524169922,
          -45.38043212890625,
          -2.826465129852295,
          -51.320430755615234,
          37.4246940612793,
          -17.256227493286133,
          57.5942268371582,
          -16.692729949951172,
          -40.59073257446289,
          -56.64371109008789,
          -39.398521423339844,
          101.77782440185547,
          -34.61698532104492,
          76.39057922363281,
          -52.15936279296875,
          95.8961410522461,
          -5.792344570159912,
          -29.228057861328125,
          -126.84021759033203,
          71.33490753173828,
          13.685481071472168,
          -93.94515991210938,
          -15.867847442626953,
          -36.31053924560547,
          -44.683921813964844,
          -66.04003143310547,
          -50.39052963256836,
          -9.774142265319824,
          -72.46887969970703,
          32.02507019042969,
          0.4997943341732025,
          -24.812484741210938,
          -80.29644012451172,
          13.63288688659668,
          9.262338638305664,
          39.74538040161133,
          -34.85426330566406,
          -17.41669464111328,
          81.9053726196289,
          -59.86100387573242,
          -17.72291374206543,
          -121.87381744384766,
          -43.7304573059082,
          -5.9758429527282715,
          -14.718870162963867,
          22.28302574157715,
          24.22007179260254,
          36.08277893066406,
          -23.025901794433594,
          -98.13998413085938,
          -23.888702392578125,
          -38.640228271484375,
          48.864566802978516,
          13.754541397094727,
          71.76781463623047,
          53.66887283325195,
          -10.96309757232666,
          -46.60109329223633,
          -118.5233154296875,
          86.3137435913086,
          -78.49894714355469,
          -47.02659225463867,
          -45.90050506591797,
          86.21000671386719,
          -64.26351165771484,
          46.33306884765625,
          37.22391891479492,
          -42.38936996459961,
          9.783812522888184,
          4.6551737785339355,
          -15.220724105834961,
          45.98958969116211,
          -12.879034996032715,
          42.68745422363281,
          -26.915576934814453,
          34.04791259765625,
          -35.16231155395508,
          -115.07028198242188,
          42.27206802368164,
          -45.543758392333984,
          35.6750373840332,
          67.64606475830078,
          -39.47676467895508,
          -23.161455154418945,
          37.32963180541992,
          45.11199188232422,
          -121.37823486328125,
          52.688819885253906,
          52.079952239990234,
          -122.00655364990234,
          46.9029541015625,
          29.018875122070312,
          -58.86652755737305,
          -88.38695526123047,
          8.18081283569336
         ],
         "z": [
          -118.36070251464844,
          57.57676315307617,
          43.23392868041992,
          11.715128898620605,
          -27.29448890686035,
          -90.9216537475586,
          15.924073219299316,
          22.816396713256836,
          94.86397552490234,
          42.767940521240234,
          -57.33441925048828,
          -14.8690824508667,
          -36.65088653564453,
          64.54711151123047,
          -13.691166877746582,
          -30.583431243896484,
          38.18825912475586,
          -23.311601638793945,
          -34.88893508911133,
          20.144956588745117,
          -74.20294952392578,
          23.377492904663086,
          57.97148513793945,
          91.87815856933594,
          -41.19218063354492,
          -1.0180050134658813,
          -104.80630493164062,
          83.52145385742188,
          9.521957397460938,
          43.358455657958984,
          -1.3642761707305908,
          4.463583946228027,
          -50.66123580932617,
          -37.59260177612305,
          57.67824172973633,
          82.10880279541016,
          -74.43108367919922,
          6.274724006652832,
          59.08883285522461,
          -10.268169403076172,
          43.996028900146484,
          76.34516906738281,
          53.686378479003906,
          -41.77692794799805,
          -88.37298583984375,
          -55.511436462402344,
          -15.414848327636719,
          23.107412338256836,
          -44.41172409057617,
          -118.83856964111328,
          -35.40547180175781,
          95.82749938964844,
          -33.089805603027344,
          -15.923639297485352,
          55.83980178833008,
          2.297487258911133,
          -22.254331588745117,
          -18.098215103149414,
          -17.010364532470703,
          -44.363494873046875,
          97.23204803466797,
          -68.26139068603516,
          29.3040714263916,
          -61.768890380859375,
          66.3742446899414,
          -33.298439025878906,
          -14.856093406677246,
          75.85192108154297,
          -50.372413635253906,
          -22.631059646606445,
          -34.686824798583984,
          88.60456085205078,
          48.44057846069336,
          5.851327896118164,
          46.688961029052734,
          -31.41792106628418,
          -117.33416748046875,
          14.557331085205078,
          -94.55010986328125,
          -11.614145278930664,
          99.18165588378906,
          72.43204498291016,
          71.8708724975586,
          -10.544031143188477,
          13.05412483215332,
          -17.0007381439209,
          -28.454397201538086,
          49.818294525146484,
          24.281879425048828,
          13.363563537597656,
          43.72429656982422,
          20.000911712646484,
          93.30240631103516,
          11.298402786254883,
          5.952899932861328,
          38.99000930786133,
          97.00025177001953,
          70.01163482666016,
          4.120288848876953,
          94.67035675048828,
          -80.62156677246094,
          103.27525329589844,
          -48.72087478637695,
          -43.451019287109375,
          -14.896020889282227,
          -30.452699661254883,
          58.00360107421875,
          -39.53791427612305,
          -30.25730323791504,
          -4.574642658233643,
          -9.382912635803223,
          70.5169448852539,
          61.690853118896484,
          70.8751220703125,
          55.72245407104492,
          2.5706958770751953,
          -46.45731735229492,
          53.6385612487793,
          61.94993209838867,
          81.41670227050781,
          21.77853012084961,
          63.757232666015625,
          -35.83299255371094,
          91.52145385742188,
          -82.06787872314453,
          5.925121307373047,
          83.90914916992188,
          -105.75556945800781,
          -34.48859786987305,
          24.95921516418457,
          -117.04750061035156,
          40.315940856933594,
          30.53384017944336,
          -26.76286506652832,
          -78.46651458740234,
          -68.55594635009766,
          13.792466163635254,
          43.2777214050293,
          4.808516025543213,
          45.369083404541016,
          -11.916356086730957,
          -7.551841735839844,
          56.59070587158203,
          24.24837875366211,
          -50.05807113647461,
          4.916354656219482,
          -83.01041412353516,
          37.842838287353516,
          66.78594207763672,
          21.864246368408203,
          18.14055824279785,
          53.745948791503906,
          1.573682427406311,
          68.8839111328125,
          68.54044342041016,
          -12.98803424835205,
          11.593548774719238,
          -134.4300994873047,
          35.658992767333984,
          37.883548736572266,
          -52.96867752075195,
          58.13633728027344,
          1.0087331533432007,
          43.08295440673828,
          -82.29840850830078,
          -56.75053024291992,
          -53.451019287109375,
          -54.46848678588867,
          -51.225772857666016,
          140.48788452148438,
          -83.63863372802734,
          101.02256774902344,
          40.76996612548828,
          -97.0139389038086,
          -70.90959167480469,
          50.339359283447266,
          -67.65656280517578,
          44.7370719909668,
          3.600950241088867,
          52.49281311035156,
          53.426170349121094,
          -99.29666137695312,
          66.74977111816406,
          -49.912837982177734,
          -28.250259399414062,
          -80.49577331542969,
          -50.61769104003906,
          5.737067222595215,
          -102.60874938964844,
          -74.54855346679688,
          39.43208694458008,
          54.56364822387695,
          -68.14806365966797,
          77.40519714355469,
          -29.63004493713379,
          -30.577482223510742,
          74.66783905029297,
          77.37435150146484,
          -82.69437408447266,
          -28.2806339263916,
          -42.40686798095703,
          35.60409927368164,
          41.12480545043945,
          18.957395553588867,
          12.04793930053711,
          37.6188850402832,
          -73.78414154052734,
          -108.55558013916016,
          -55.93266677856445,
          18.547321319580078,
          -40.30137634277344,
          41.06637954711914,
          -104.53821563720703,
          50.879051208496094,
          -1.8634856939315796,
          -26.765230178833008,
          56.6879997253418,
          34.36730194091797,
          -45.3926887512207,
          41.218746185302734,
          -115.38455200195312,
          -73.08483123779297,
          -109.4555435180664,
          28.363548278808594,
          69.75003814697266,
          -13.926424026489258,
          15.695352554321289,
          129.32406616210938,
          -4.896219253540039,
          -52.97657012939453,
          81.359619140625,
          24.886079788208008,
          -10.84105396270752,
          -20.929738998413086,
          -27.854976654052734,
          86.96794128417969,
          -9.518006324768066,
          94.76876831054688,
          -38.45367431640625,
          42.60284423828125,
          -66.07563781738281,
          60.23113250732422,
          9.984756469726562,
          -20.396448135375977,
          -8.261362075805664,
          77.95597839355469,
          -1.588093638420105,
          12.082972526550293,
          -29.679710388183594,
          -2.2394280433654785,
          -69.99161529541016,
          95.87619018554688,
          66.53514862060547,
          -86.78516387939453,
          -71.3174057006836,
          -19.33767318725586,
          -12.883989334106445,
          68.41881561279297,
          -62.524208068847656,
          45.619998931884766,
          79.2141342163086,
          10.194145202636719,
          -29.530332565307617,
          -90.65247344970703,
          -0.07790379971265793,
          -25.67458152770996,
          3.355170488357544,
          36.01340866088867,
          -35.28048324584961,
          80.38582611083984,
          -27.802963256835938,
          1.8287978172302246,
          -84.15902709960938,
          133.59323120117188,
          13.744965553283691,
          41.11064529418945,
          81.32990264892578,
          35.979957580566406,
          29.233896255493164,
          -83.95115661621094,
          90.52349090576172,
          69.4836196899414,
          39.00332260131836,
          -37.87516403198242,
          -77.77996063232422,
          -11.171587944030762,
          78.6407470703125,
          -48.00653839111328,
          89.920166015625,
          -95.4365234375,
          -74.13203430175781,
          17.348207473754883,
          -27.4884033203125,
          58.58768844604492,
          -48.01996994018555,
          -112.03446960449219,
          73.42019653320312,
          60.97053527832031,
          90.49937438964844,
          137.286865234375,
          77.27427673339844,
          34.41587448120117,
          -45.249237060546875,
          -3.7521743774414062,
          -97.72505950927734,
          -91.94581604003906,
          -34.63391876220703,
          -88.4327621459961,
          76.91339874267578,
          -28.66957664489746,
          -73.8336181640625,
          43.917293548583984,
          -35.303951263427734,
          53.58595657348633,
          -34.58028793334961,
          -123.10040283203125,
          -3.45599365234375,
          110.24031066894531,
          -64.60350799560547,
          -16.163379669189453
         ]
        },
        {
         "customdata": [
          [
           "<b>Bart the Genius</b><br>",
           "<b>Episode:</b> S1E2<br>",
           "<b>Airdate:</b>Sun 14 Jan 1990<br>",
           "<b>Description:</b>Bart ends up at a school for<br>gifted children after cheating on an IQ test.<br>"
          ],
          [
           "<b>Bart the General</b><br>",
           "<b>Episode:</b> S1E5<br>",
           "<b>Airdate:</b>Sun 04 Feb 1990<br>",
           "<b>Description:</b>After being beaten up by Nelson<br>Muntz one too many times, Bart turns to Grampa for<br>help, and soon leads a rebellion against the<br>school bully.<br>"
          ],
          [
           "<b>Life on the Fast Lane</b><br>",
           "<b>Episode:</b> S1E9<br>",
           "<b>Airdate:</b>Sun 18 Mar 1990<br>",
           "<b>Description:</b>Marge contemplates an affair<br>with a handsome bowling instructor.<br>"
          ],
          [
           "<b>The Crepes of Wrath</b><br>",
           "<b>Episode:</b> S1E11<br>",
           "<b>Airdate:</b>Sun 15 Apr 1990<br>",
           "<b>Description:</b>Bart is sent to France on a<br>student exchange program, where he's treated like<br>a slave; an Albanian student with suspicious<br>motives takes Bart's place in the family.<br>"
          ],
          [
           "<b>Bart Gets an F</b><br>",
           "<b>Episode:</b> S2E1<br>",
           "<b>Airdate:</b>Thu 11 Oct 1990<br>",
           "<b>Description:</b>Mrs. Krabappel, fed up with<br>Bart's lackadaisical approach to his studies,<br>gives him an ultimatum: shape up or repeat the<br>fourth grade.<br>"
          ],
          [
           "<b>The Way We Was</b><br>",
           "<b>Episode:</b> S2E12<br>",
           "<b>Airdate:</b>Thu 31 Jan 1991<br>",
           "<b>Description:</b>Homer and Marge tell the story<br>of how they met and fell in love in high<br>school.<br>"
          ],
          [
           "<b>The War of the Simpsons</b><br>",
           "<b>Episode:</b> S2E20<br>",
           "<b>Airdate:</b>Thu 02 May 1991<br>",
           "<b>Description:</b>Homer must decide whether he<br>should complete marriage counseling or skip out to<br>catch a legendary catfish; Bart and Lisa take<br>advantage of Grampa's ignorance of the house<br>rules.<br>"
          ],
          [
           "<b>Mr. Lisa Goes to Washington</b><br>",
           "<b>Episode:</b> S3E2<br>",
           "<b>Airdate:</b>Thu 26 Sep 1991<br>",
           "<b>Description:</b>After winning a political essay<br>contest, Lisa is invited to Washington, D.C., but<br>she soon becomes upset after discovering how<br>policy-making really works.<br>"
          ],
          [
           "<b>Bart the Murderer</b><br>",
           "<b>Episode:</b> S3E4<br>",
           "<b>Airdate:</b>Thu 10 Oct 1991<br>",
           "<b>Description:</b>After having a horrible day,<br>Bart gets a job tending bar for a group of<br>gangsters and becomes the prime suspect when<br>Principal Skinner mysteriously disappears.<br>"
          ],
          [
           "<b>Lisa's Pony</b><br>",
           "<b>Episode:</b> S3E8<br>",
           "<b>Airdate:</b>Thu 07 Nov 1991<br>",
           "<b>Description:</b>Homer buys Lisa a pony that the<br>family can ill afford.<br>"
          ],
          [
           "<b>I Married Marge</b><br>",
           "<b>Episode:</b> S3E12<br>",
           "<b>Airdate:</b>Thu 26 Dec 1991<br>",
           "<b>Description:</b>As Marge goes to the doctor for<br>a pregnancy test, Homer tells the children of the<br>events leading up to his marriage, and Bart's<br>birth.<br>"
          ],
          [
           "<b>Radio Bart</b><br>",
           "<b>Episode:</b> S3E13<br>",
           "<b>Airdate:</b>Thu 09 Jan 1992<br>",
           "<b>Description:</b>After Bart receives a<br>microphone which can transmit through radios, he<br>decides to pull a series of pranks and eventually<br>convinces the town that a boy has fallen down a<br>well.<br>"
          ],
          [
           "<b>Lisa the Greek</b><br>",
           "<b>Episode:</b> S3E14<br>",
           "<b>Airdate:</b>Thu 23 Jan 1992<br>",
           "<b>Description:</b>Homer uses Lisa (and her<br>prognostic skills) to help him bet on football<br>games.<br>"
          ],
          [
           "<b>Bart the Lover</b><br>",
           "<b>Episode:</b> S3E16<br>",
           "<b>Airdate:</b>Thu 13 Feb 1992<br>",
           "<b>Description:</b>After Mrs. Krabappel gives Bart<br>a month of detention, he gets his revenge by<br>responding to her newspaper singles ad; Homer uses<br>a swear jar to cut down on his cursing.<br>"
          ],
          [
           "<b>Lisa's First Word</b><br>",
           "<b>Episode:</b> S4E10<br>",
           "<b>Airdate:</b>Thu 03 Dec 1992<br>",
           "<b>Description:</b>While trying to coax Maggie<br>into saying her first word, Homer and Marge talk<br>about how Lisa spoke hers.<br>"
          ],
          [
           "<b>Brother from the Same Planet</b><br>",
           "<b>Episode:</b> S4E14<br>",
           "<b>Airdate:</b>Thu 04 Feb 1993<br>",
           "<b>Description:</b>When Bart gets tired of Homer's<br>horrible parenting skills, he enrolls in the<br>\"Bigger Brother\" program where he's assigned a<br>fantastic role model.<br>"
          ],
          [
           "<b>I Love Lisa</b><br>",
           "<b>Episode:</b> S4E15<br>",
           "<b>Airdate:</b>Thu 11 Feb 1993<br>",
           "<b>Description:</b>Lisa gives Ralph a Valentine's<br>card out of pity, but soon regrets it when he<br>develops an unwanted crush on her.<br>"
          ],
          [
           "<b>Whacking Day</b><br>",
           "<b>Episode:</b> S4E20<br>",
           "<b>Airdate:</b>Sun 09 May 1993<br>",
           "<b>Description:</b>Marge home-schools Bart after<br>he is expelled from Springfield Elementary; Lisa<br>protests a barbaric local holiday centered around<br>clubbing snakes to death.<br>"
          ],
          [
           "<b>Marge in Chains</b><br>",
           "<b>Episode:</b> S4E21<br>",
           "<b>Airdate:</b>Sun 30 May 1993<br>",
           "<b>Description:</b>A misunderstanding leads to<br>Marge being imprisoned for shoplifting, with her<br>absence soon descending the family, and<br>eventually, the town into chaos.<br>"
          ],
          [
           "<b>Marge on the Lam</b><br>",
           "<b>Episode:</b> S5E6<br>",
           "<b>Airdate:</b>Thu 04 Nov 1993<br>",
           "<b>Description:</b>A girls' night out turns into a<br>high speed chase when Marge learns her friend is<br>driving a stolen car.<br>"
          ],
          [
           "<b>Bart's Inner Child</b><br>",
           "<b>Episode:</b> S5E7<br>",
           "<b>Airdate:</b>Thu 11 Nov 1993<br>",
           "<b>Description:</b>Brad Goodman, a self-help guru,<br>encourages Springfield to act more like Bart, with<br>disastrous results.<br>"
          ],
          [
           "<b>Boy Scoutz 'n the Hood</b><br>",
           "<b>Episode:</b> S5E8<br>",
           "<b>Airdate:</b>Thu 18 Nov 1993<br>",
           "<b>Description:</b>After joining the Junior<br>Campers while on a sugar high, Bart reluctantly<br>invites Homer to accompany him on the group's<br>annual father-son rafting trip, which soon goes<br>awry.<br>"
          ],
          [
           "<b>Lisa vs. Malibu Stacy</b><br>",
           "<b>Episode:</b> S5E14<br>",
           "<b>Airdate:</b>Thu 17 Feb 1994<br>",
           "<b>Description:</b>Angered by the vacuous phrases<br>her Malibu Stacy doll utters, Lisa works with<br>Malibu Stacy's original designer to create a doll<br>with admirable traits.<br>"
          ],
          [
           "<b>Sweet Seymour Skinner's Baadasssss Song</b><br>",
           "<b>Episode:</b> S5E19<br>",
           "<b>Airdate:</b>Thu 28 Apr 1994<br>",
           "<b>Description:</b>Bart accidentally gets<br>Principal Skinner fired on inspection day, with<br>Ned Flanders taking over as his replacement.<br>"
          ],
          [
           "<b>The Boy Who Knew Too Much</b><br>",
           "<b>Episode:</b> S5E20<br>",
           "<b>Airdate:</b>Thu 05 May 1994<br>",
           "<b>Description:</b>Bart witnesses the alleged<br>assault of a waiter by Mayor Quimby's nephew, but<br>coming forward will mean admitting to skipping<br>class and facing the consequences.<br>"
          ],
          [
           "<b>Secrets of a Successful Marriage</b><br>",
           "<b>Episode:</b> S5E22<br>",
           "<b>Airdate:</b>Thu 19 May 1994<br>",
           "<b>Description:</b>Homer begins teaching a class<br>on how to have a successful marriage, but<br>jeopardizes his own marriage by revealing secrets<br>about himself and Marge.<br>"
          ],
          [
           "<b>Bart of Darkness</b><br>",
           "<b>Episode:</b> S6E1<br>",
           "<b>Airdate:</b>Sun 04 Sep 1994<br>",
           "<b>Description:</b>Confined to his room with a<br>broken leg, Bart suspects Ned Flanders of<br>murdering Maude; the family's new swimming pool<br>earns Lisa popularity among the neighborhood<br>kids.<br>"
          ],
          [
           "<b>Lisa's Rival</b><br>",
           "<b>Episode:</b> S6E2<br>",
           "<b>Airdate:</b>Sun 11 Sep 1994<br>",
           "<b>Description:</b>Lisa is jealous when a new girl<br>in class is smarter than she is; Homer obtains a<br>giant mound of sugar.<br>"
          ],
          [
           "<b>And Maggie Makes Three</b><br>",
           "<b>Episode:</b> S6E13<br>",
           "<b>Airdate:</b>Sun 22 Jan 1995<br>",
           "<b>Description:</b>Homer recounts the story of<br>Maggie's birth when the kids ask why there are no<br>photos of her in the family album.<br>"
          ],
          [
           "<b>Lisa's Wedding</b><br>",
           "<b>Episode:</b> S6E19<br>",
           "<b>Airdate:</b>Sun 19 Mar 1995<br>",
           "<b>Description:</b>A fortune teller gives Lisa a<br>look at her wedding in the year 2010.<br>"
          ],
          [
           "<b>The PTA Disbands</b><br>",
           "<b>Episode:</b> S6E21<br>",
           "<b>Airdate:</b>Sun 16 Apr 1995<br>",
           "<b>Description:</b>Bart manipulates Mrs. Krabappel<br>into leading a teachers' strike against Principal<br>Skinner, but is perturbed when Marge becomes his<br>substitute.<br>"
          ],
          [
           "<b>Lisa the Vegetarian</b><br>",
           "<b>Episode:</b> S7E5<br>",
           "<b>Airdate:</b>Sun 19 Nov 1995<br>",
           "<b>Description:</b>A trip to a local petting zoo<br>convinces Lisa to give up meat, despite excessive<br>pressure to convince her not to do so.<br>"
          ],
          [
           "<b>Two Bad Neighbors</b><br>",
           "<b>Episode:</b> S7E13<br>",
           "<b>Airdate:</b>Sun 10 Mar 1996<br>",
           "<b>Description:</b>Former President George Bush<br>and his wife, Barbara, move into the Simpsons'<br>neighborhood and soon clash with Bart and<br>Homer.<br>"
          ],
          [
           "<b>Lisa the Iconoclast</b><br>",
           "<b>Episode:</b> S7E16<br>",
           "<b>Airdate:</b>Sun 19 May 1996<br>",
           "<b>Description:</b>While researching for an essay,<br>Lisa discovers that Springfield's founding father<br>was actually a murderous thief.<br>"
          ],
          [
           "<b>Summer of 4'2\"</b><br>",
           "<b>Episode:</b> S7E25<br>",
           "<b>Airdate:</b>Sun 15 Sep 1996<br>",
           "<b>Description:</b>After realizing how unpopular<br>she is, a disillusioned Lisa sees the vacation to<br>Ned Flanders' beach house as an opportunity to<br>reinvent herself.<br>"
          ],
          [
           "<b>Lisa's Date with Density</b><br>",
           "<b>Episode:</b> S8E7<br>",
           "<b>Airdate:</b>Sun 16 Feb 1997<br>",
           "<b>Description:</b>Lisa develops a crush on<br>Nelson, and tries to reform him; Homer gets an<br>autodialer and decides to make easy money with a<br>telemarketing scam.<br>"
          ],
          [
           "<b>Simpsoncalifragilisticexpiala(Annoyed Grunt)cious</b><br>",
           "<b>Episode:</b> S8E13<br>",
           "<b>Airdate:</b>Sun 07 Sep 1997<br>",
           "<b>Description:</b>Marge is stressed from<br>motherhood and hires a British nanny to help out<br>around the house, who struggles to teach Bart and<br>Lisa how to behave.<br>"
          ],
          [
           "<b>Homer's Phobia</b><br>",
           "<b>Episode:</b> S8E15<br>",
           "<b>Airdate:</b>Sun 04 May 1997<br>",
           "<b>Description:</b>After Marge befriends John, a<br>gay store owner, Homer worries that his presence<br>will have a negative effect on Bart's<br>sexuality.<br>"
          ],
          [
           "<b>My Sister, My Sitter</b><br>",
           "<b>Episode:</b> S8E17<br>",
           "<b>Airdate:</b>Sun 25 May 1997<br>",
           "<b>Description:</b>Bart is outraged when Lisa<br>becomes his babysitter.<br>"
          ],
          [
           "<b>Grade School Confidential</b><br>",
           "<b>Episode:</b> S8E19<br>",
           "<b>Airdate:</b>Sun 01 Jun 1997<br>",
           "<b>Description:</b>Bart discovers Principal<br>Skinner and Mrs Krabappel kissing, and it's not<br>long before the whole town knows of their secret<br>affair.<br>"
          ],
          [
           "<b>The Principal and the Pauper</b><br>",
           "<b>Episode:</b> S9E2<br>",
           "<b>Airdate:</b>Sun 19 Oct 1997<br>",
           "<b>Description:</b>At his 20th anniversary<br>celebration as school principal, Principal Skinner<br>is discovered to be an imposter of the real<br>Seymour Skinner.<br>"
          ],
          [
           "<b>Lisa's Sax</b><br>",
           "<b>Episode:</b> S9E3<br>",
           "<b>Airdate:</b>Sun 09 Nov 1997<br>",
           "<b>Description:</b>Homer recounts the story of<br>Bart's first day of school, which corresponds with<br>the story of how Lisa got her saxophone.<br>"
          ],
          [
           "<b>The Two Mrs. Nahasapeemapetilons</b><br>",
           "<b>Episode:</b> S9E7<br>",
           "<b>Airdate:</b>Sun 30 Nov 1997<br>",
           "<b>Description:</b>Apu receives a letter from his<br>mother stating that it's time for him fulfilled<br>his arranged marriage obligation, he pretends<br>Marge is his wife.<br>"
          ],
          [
           "<b>Bart Carny</b><br>",
           "<b>Episode:</b> S9E12<br>",
           "<b>Airdate:</b>Sun 22 Feb 1998<br>",
           "<b>Description:</b>Bart and Homer befriend two<br>carnies and invite them to stay with them, but the<br>carnies soon swindle the Simpsons out of their<br>house.<br>"
          ],
          [
           "<b>Das Bus</b><br>",
           "<b>Episode:</b> S9E14<br>",
           "<b>Airdate:</b>Sun 29 Mar 1998<br>",
           "<b>Description:</b>While the kids become stranded<br>on a desert island, Homer attempts to cash in on<br>the Internet.<br>"
          ],
          [
           "<b>Lisa the Simpson</b><br>",
           "<b>Episode:</b> S9E17<br>",
           "<b>Airdate:</b>Sun 31 May 1998<br>",
           "<b>Description:</b>Lisa fears she is losing her<br>intelligence when she learns about the fabled<br>Simpson gene. Meanwhile, Jasper freezes himself in<br>the Kwik-E-Mart freezer.<br>"
          ],
          [
           "<b>Lost Our Lisa</b><br>",
           "<b>Episode:</b> S9E24<br>",
           "<b>Airdate:</b>Sun 13 Sep 1998<br>",
           "<b>Description:</b>Lisa gets lost after she tries<br>to take a bus to a museum.<br>"
          ],
          [
           "<b>Natural Born Kissers</b><br>",
           "<b>Episode:</b> S9E25<br>",
           "<b>Airdate:</b>Sun 20 Sep 1998<br>",
           "<b>Description:</b>Homer and Marge's attempt to<br>spice up their marriage leads to the couple being<br>chased naked through Springfield.<br>"
          ],
          [
           "<b>Lisa Gets an 'A'</b><br>",
           "<b>Episode:</b> S10E7<br>",
           "<b>Airdate:</b>Sun 17 Jan 1999<br>",
           "<b>Description:</b>When Lisa cheats on a test, she<br>has a moral crisis when her perfect score<br>qualifies the school for grant money; Homer adopts<br>a lobster as a pet.<br>"
          ],
          [
           "<b>Make Room for Lisa</b><br>",
           "<b>Episode:</b> S10E16<br>",
           "<b>Airdate:</b>Sun 25 Apr 1999<br>",
           "<b>Description:</b>Lisa feels that her<br>relationship with her father will never be close,<br>and she develops stress-induced stomach pains;<br>Marge inadvertently knocks out Milhouse.<br>"
          ],
          [
           "<b>They Saved Lisa's Brain</b><br>",
           "<b>Episode:</b> S10E22<br>",
           "<b>Airdate:</b>Sun 18 Jul 1999<br>",
           "<b>Description:</b>Lisa is invited to join the<br>Springfield chapter of MENSA and after Mayor<br>Quimby flees, the group ends up running the city.<br>Meanwhile, Homer poses for a series of erotic<br>photos.<br>"
          ],
          [
           "<b>Take My Wife, Sleaze</b><br>",
           "<b>Episode:</b> S11E8<br>",
           "<b>Airdate:</b>Sun 23 Jan 2000<br>",
           "<b>Description:</b>Homer's attempt at creating a<br>motorcycle gang attracts a real gang, who kidnap<br>Marge.<br>"
          ],
          [
           "<b>Little Big Mom</b><br>",
           "<b>Episode:</b> S11E10<br>",
           "<b>Airdate:</b>Sun 12 Mar 2000<br>",
           "<b>Description:</b>Lisa finds out how rough Marge<br>has it when her mom is in traction and she becomes<br>the woman of the house. Homer and Bart's antics<br>get her so worked up she conspires to teach them a<br>lesson.<br>"
          ],
          [
           "<b>Saddlesore Galactica</b><br>",
           "<b>Episode:</b> S11E13<br>",
           "<b>Airdate:</b>Sun 23 Apr 2000<br>",
           "<b>Description:</b>The Simpsons get an abused<br>horse and make him a contender in horse racing.<br>Homer finds out a secret conspiracy about jockeys.<br>Lisa tries to reach President Clinton when the<br>results of a school band talent competition seem<br>tainted.<br>"
          ],
          [
           "<b>Days of Wine and D'oh'ses</b><br>",
           "<b>Episode:</b> S11E18<br>",
           "<b>Airdate:</b>Sun 17 Sep 2000<br>",
           "<b>Description:</b>Homer doesn't like it when<br>Barney quits drinking; Bart and Lisa get into<br>trouble when they enter a photo contest for the<br>new phone book cover.<br>"
          ],
          [
           "<b>HOMR</b><br>",
           "<b>Episode:</b> S12E9<br>",
           "<b>Airdate:</b>Sun 25 Feb 2001<br>",
           "<b>Description:</b>An X-ray reveals a crayon<br>lodged in Homer's brain. After the crayon is<br>removed, Homer experiences a sudden surge in<br>intelligence, making him closer to Lisa and<br>isolated from his friends.<br>"
          ],
          [
           "<b>Pokey Mom</b><br>",
           "<b>Episode:</b> S12E10<br>",
           "<b>Airdate:</b>Sun 11 Mar 2001<br>",
           "<b>Description:</b>Marge befriends a convict with<br>an artistic streak. Meanwhile, Homer battles the<br>chiropractic industry after he creates a miracle<br>back pain cure.<br>"
          ],
          [
           "<b>New Kids on the Blecch</b><br>",
           "<b>Episode:</b> S12E14<br>",
           "<b>Airdate:</b>Sun 06 May 2001<br>",
           "<b>Description:</b>A music producer offers Bart<br>and his friends a chance to participate in an up-<br>and-coming boyband, but the boys are not up to it<br>after making a discovery.<br>"
          ],
          [
           "<b>Children of a Lesser Clod</b><br>",
           "<b>Episode:</b> S12E20<br>",
           "<b>Airdate:</b>Sun 14 Oct 2001<br>",
           "<b>Description:</b>After a debilitating injury<br>forces him to stay indoors, Homer begins a daycare<br>center.<br>"
          ],
          [
           "<b>The Parent Rap</b><br>",
           "<b>Episode:</b> S13E2<br>",
           "<b>Airdate:</b>Sun 25 Nov 2001<br>",
           "<b>Description:</b>After Bart takes a joyride in a<br>police car, a judge orders him to be tethered to<br>Homer at all times.<br>"
          ],
          [
           "<b>Half-Decent Proposal</b><br>",
           "<b>Episode:</b> S13E10<br>",
           "<b>Airdate:</b>Sun 07 Apr 2002<br>",
           "<b>Description:</b>Marge's high school sweetheart<br>Artie Ziff returns and offers Homer a million<br>dollars to spend a weekend with Marge.<br>"
          ],
          [
           "<b>Bart vs. Lisa vs. 3rd Grade</b><br>",
           "<b>Episode:</b> S14E3<br>",
           "<b>Airdate:</b>Sun 08 Dec 2002<br>",
           "<b>Description:</b>Bart and Lisa are respectively<br>held back and moved forward one grade, putting<br>them in the same class.<br>"
          ],
          [
           "<b>Special Edna</b><br>",
           "<b>Episode:</b> S14E7<br>",
           "<b>Airdate:</b>Sun 09 Feb 2003<br>",
           "<b>Description:</b>After Skinner once again has<br>let Mrs. Krabappel down, Bart nominates her for<br>Teacher of the Year. When the nomination is<br>accepted, Skinner tries to get back Krabappel by<br>asking her to marry him.<br>"
          ],
          [
           "<b>I'm Spelling as Fast as I Can</b><br>",
           "<b>Episode:</b> S14E12<br>",
           "<b>Airdate:</b>Sun 18 May 2003<br>",
           "<b>Description:</b>Lisa participates in the<br>Spellympics, but Homer is busy traveling cross-<br>country as Krusty Burger test-markets a new<br>sandwich. Lisa is confident that she will win,<br>until she learns that the contest is rigged<br>against her.<br>"
          ],
          [
           "<b>'Scuse Me While I Miss the Sky</b><br>",
           "<b>Episode:</b> S14E16<br>",
           "<b>Airdate:</b>Sun 22 Jun 2003<br>",
           "<b>Description:</b>Lisa becomes interested in<br>astronomy and starts fighting the light pollution<br>which is preventing her from being able to enjoy<br>her new hobby.<br>"
          ],
          [
           "<b>Three Gays of the Condo</b><br>",
           "<b>Episode:</b> S14E17<br>",
           "<b>Airdate:</b>Sun 13 Jul 2003<br>",
           "<b>Description:</b>When Homer finds an old note<br>revealing Marge only married him because she was<br>pregnant with Bart, he moves into a condo with two<br>gay guys.<br>"
          ],
          [
           "<b>Brake My Wife, Please</b><br>",
           "<b>Episode:</b> S14E20<br>",
           "<b>Airdate:</b>Sun 14 Sep 2003<br>",
           "<b>Description:</b>Because of Homer losing his<br>driver's license, Marge has to drive everyone<br>everywhere, which is so stressful for her that she<br>accidentally runs over Homer leading to the two<br>seeing a marriage counselor.<br>"
          ],
          [
           "<b>Marge vs. Singles, Seniors, Childless Couples and Teens and Gays</b><br>",
           "<b>Episode:</b> S15E8<br>",
           "<b>Airdate:</b>Sun 14 Mar 2004<br>",
           "<b>Description:</b>A concert for babies ends in a<br>riot, so the childless adults of Springfield<br>gather to make the town less child-friendly.<br>"
          ],
          [
           "<b>Margical History Tour</b><br>",
           "<b>Episode:</b> S15E11<br>",
           "<b>Airdate:</b>Sun 30 May 2004<br>",
           "<b>Description:</b>Marge tells Lisa, Bart and<br>Millhouse three history stories because the<br>library doesn't have any.<br>"
          ],
          [
           "<b>Smart & Smarter</b><br>",
           "<b>Episode:</b> S15E13<br>",
           "<b>Airdate:</b>Sun 24 Oct 2004<br>",
           "<b>Description:</b>When Maggie is revealed to have<br>an IQ of 167, Lisa is no longer the genius of the<br>family, causing a rivalry between the sisters.<br>"
          ],
          [
           "<b>Co-Dependent's Day</b><br>",
           "<b>Episode:</b> S15E15<br>",
           "<b>Airdate:</b>Sun 07 Nov 2004<br>",
           "<b>Description:</b>Marge takes up heavy drinking<br>to spend more time with Homer. Bart and Lisa<br>confront a famous movie director about the drop in<br>quality his films have taken.<br>"
          ],
          [
           "<b>My Big Fat Geek Wedding</b><br>",
           "<b>Episode:</b> S15E17<br>",
           "<b>Airdate:</b>Sun 03 Oct 2004<br>",
           "<b>Description:</b>Mrs. Krabapel falls for Comic<br>Book Guy and they plan a Star Trek like wedding.<br>Principal Skinner plans to prevent it.<br>"
          ],
          [
           "<b>Catch 'Em If You Can</b><br>",
           "<b>Episode:</b> S15E18<br>",
           "<b>Airdate:</b>Sun 31 Oct 2004<br>",
           "<b>Description:</b>Homer and Marge try to have a<br>vacation without the kids but Bart and Lisa follow<br>them everywhere they go.<br>"
          ],
          [
           "<b>The Way We Weren't</b><br>",
           "<b>Episode:</b> S15E20<br>",
           "<b>Airdate:</b>Sun 17 Oct 2004<br>",
           "<b>Description:</b>Marge and Homer find out that<br>they actually kissed each other at age 10 without<br>knowing they were each other's first kisses, and<br>tell the story about this.<br>"
          ],
          [
           "<b>Sleeping with the Enemy</b><br>",
           "<b>Episode:</b> S16E3<br>",
           "<b>Airdate:</b>Sun 28 Nov 2004<br>",
           "<b>Description:</b>Because she thinks her own<br>children do not appreciate her anymore, Marge<br>becomes a mother figure for Nelson.<br>"
          ],
          [
           "<b>She Used to Be My Girl</b><br>",
           "<b>Episode:</b> S16E4<br>",
           "<b>Airdate:</b>Sun 12 Dec 2004<br>",
           "<b>Description:</b>Marge becomes jealous when Lisa<br>begins idolizing her old high school friend, Chloe<br>Talbot, a famous reporter.<br>"
          ],
          [
           "<b>Pranksta Rap</b><br>",
           "<b>Episode:</b> S16E9<br>",
           "<b>Airdate:</b>Sun 03 Apr 2005<br>",
           "<b>Description:</b>Bart went to a rap concert<br>Marge told him not to go to. In order to avoid<br>punishment from Marge, he makes Marge and Homer<br>believe he has been kidnapped.<br>"
          ],
          [
           "<b>There's Something About Marrying</b><br>",
           "<b>Episode:</b> S16E10<br>",
           "<b>Airdate:</b>Sun 29 May 2005<br>",
           "<b>Description:</b>A townsperson comes out of the<br>closet when Springfield legalized same-sex<br>marriages in a plot to bolster tourism; Homer uses<br>the Internet to become a minister.<br>"
          ],
          [
           "<b>Goo Goo Gai Pan</b><br>",
           "<b>Episode:</b> S16E12<br>",
           "<b>Airdate:</b>Sun 01 May 2005<br>",
           "<b>Description:</b>Selma decides to adopt a child,<br>so the whole family goes to China.<br>"
          ],
          [
           "<b>Mobile Homer</b><br>",
           "<b>Episode:</b> S16E13<br>",
           "<b>Airdate:</b>Sun 15 May 2005<br>",
           "<b>Description:</b>After a garage-cleaning<br>accident, Marge wants Homer to get life insurance.<br>Instead, the family gets an RV.<br>"
          ],
          [
           "<b>The Father, the Son, and the Holy Guest Star</b><br>",
           "<b>Episode:</b> S16E21<br>",
           "<b>Airdate:</b>Sun 16 Oct 2005<br>",
           "<b>Description:</b>Bart is expelled from<br>Springfield Elementary, and Bart is therefore<br>enrolled in St. Jerome's Catholic School.<br>"
          ],
          [
           "<b>The Girl Who Slept Too Little</b><br>",
           "<b>Episode:</b> S17E2<br>",
           "<b>Airdate:</b>Sun 13 Nov 2005<br>",
           "<b>Description:</b>A new cemetery right outside<br>the window of Lisa's room makes Lisa suffer from<br>many sleepless nights.<br>"
          ],
          [
           "<b>Marge's Son Poisoning</b><br>",
           "<b>Episode:</b> S17E5<br>",
           "<b>Airdate:</b>Sun 01 Jan 2006<br>",
           "<b>Description:</b>Marge and Bart start spending<br>more time together, and make a tradition of<br>cycling to a tea house in a small village outside<br>Springfield.<br>"
          ],
          [
           "<b>We're on the Road to D'ohwhere</b><br>",
           "<b>Episode:</b> S17E11<br>",
           "<b>Airdate:</b>Sun 26 Feb 2006<br>",
           "<b>Description:</b>When Homer is on his way to<br>Vegas to meet up with his friends, he has to make<br>a detour to take Bart to an education camp.<br>Meanwhile, Marge has discovered a surprising<br>source of income.<br>"
          ],
          [
           "<b>Homer Simpson, This Is Your Wife</b><br>",
           "<b>Episode:</b> S17E15<br>",
           "<b>Airdate:</b>Sun 23 Apr 2006<br>",
           "<b>Description:</b>As part of a new Fox show, the<br>Simpsons participate in a wife-swap.<br>"
          ],
          [
           "<b>Kiss Kiss, Bang Bangalore</b><br>",
           "<b>Episode:</b> S17E17<br>",
           "<b>Airdate:</b>Sun 21 May 2006<br>",
           "<b>Description:</b>Homer gets sent to India when<br>the power plant is relocated there. Selma and<br>Patty kidnap Richard Dean Anderson after he spurns<br>their MacGyver fan club.<br>"
          ],
          [
           "<b>Homer and Marge Turn a Couple Play</b><br>",
           "<b>Episode:</b> S17E22<br>",
           "<b>Airdate:</b>Sun 15 Oct 2006<br>",
           "<b>Description:</b>Marge and Homer try their luck<br>at celebrity marriage counselling.<br>"
          ],
          [
           "<b>Jazzy & The Pussycats</b><br>",
           "<b>Episode:</b> S18E2<br>",
           "<b>Airdate:</b>Sun 29 Oct 2006<br>",
           "<b>Description:</b>Lisa becomes depressed when<br>Bart becomes a better jazz musician than her. So<br>she decides to set up an animal shelter in the<br>Simpsons' attic.<br>"
          ],
          [
           "<b>24 Minutes</b><br>",
           "<b>Episode:</b> S18E21<br>",
           "<b>Airdate:</b>Sun 01 Jul 2007<br>",
           "<b>Description:</b>Bart and Lisa join forces to<br>stop the school bullies from setting off a stink<br>bomb at the school bake sale.<br>"
          ],
          [
           "<b>He Loves to Fly and He D'ohs</b><br>",
           "<b>Episode:</b> S19E1<br>",
           "<b>Airdate:</b>Sun 23 Sep 2007<br>",
           "<b>Description:</b>Homer falls in love with<br>private planes after taking a flight to Chicago<br>with Mr. Burns. So Marge hires Homer a \"life<br>manager\" to help him think positively and find a<br>job that will allow him to fly for a living.<br>"
          ],
          [
           "<b>I Don't Wanna Know Why the Caged Bird Sings</b><br>",
           "<b>Episode:</b> S19E4<br>",
           "<b>Airdate:</b>Sun 03 Feb 2008<br>",
           "<b>Description:</b>Marge promises to visit a<br>convicted bank robber in prison, but is afraid to<br>follow through. But when the convict escapes from<br>prison, Marge is the first person he pays a visit<br>to.<br>"
          ],
          [
           "<b>That '90s Show</b><br>",
           "<b>Episode:</b> S19E11<br>",
           "<b>Airdate:</b>Sun 27 Jan 2008<br>",
           "<b>Description:</b>Homer and Marge tell the kids<br>about their life in the early 1990s before they<br>were born, when Marge was enrolled in Springfield<br>College and Homer was the lead singer of a grunge<br>rock band.<br>"
          ],
          [
           "<b>The DeBarted</b><br>",
           "<b>Episode:</b> S19E13<br>",
           "<b>Airdate:</b>Sun 02 Mar 2008<br>",
           "<b>Description:</b>The new prankster in Bart's<br>fourth grade class actually turns out to be a mole<br>brought in by Principal Skinner to infiltrate<br>Bart's inner circle. Homer falls in love with his<br>loaner car after Marge wrecks their old one.<br>"
          ],
          [
           "<b>Dial 'N' for Nerder</b><br>",
           "<b>Episode:</b> S19E14<br>",
           "<b>Airdate:</b>Sun 09 Mar 2008<br>",
           "<b>Description:</b>One of Bart's pranks results in<br>Martin's death, but Lisa doesn't want him to<br>confess because she would be considered an<br>accomplice. Marge hires a television crew to find<br>out if Homer is cheating on his diet.<br>"
          ],
          [
           "<b>Smoke on the Daughter</b><br>",
           "<b>Episode:</b> S19E15<br>",
           "<b>Airdate:</b>Sun 30 Mar 2008<br>",
           "<b>Description:</b>Marge has Lisa take up ballet,<br>mainly to have Lisa live out her own childhood<br>dreams. Lisa then succumbs to peer pressure from<br>her ballet mates and takes up smoking. Meanwhile,<br>Homer and Bart try to start their own beef jerky<br>business.<br>"
          ],
          [
           "<b>Papa Don't Leech</b><br>",
           "<b>Episode:</b> S19E16<br>",
           "<b>Airdate:</b>Sun 13 Apr 2008<br>",
           "<b>Description:</b>When the Simpsons discover that<br>Lurleen Lumpkin is on the skids, Marge reluctantly<br>agrees to take her in and help her find her<br>deadbeat dad who abandoned her 30 years ago.<br>"
          ],
          [
           "<b>Any Given Sundance</b><br>",
           "<b>Episode:</b> S19E18<br>",
           "<b>Airdate:</b>Sun 04 May 2008<br>",
           "<b>Description:</b>Lisa's documentary about her<br>family is accepted into the Sundance Film<br>Festival. However, her family gets upset with her<br>when they discover that the film is far from<br>flattering.<br>"
          ],
          [
           "<b>All About Lisa</b><br>",
           "<b>Episode:</b> S19E20<br>",
           "<b>Airdate:</b>Sun 18 May 2008<br>",
           "<b>Description:</b>In a parody of \"All About Eve,\"<br>Lisa stabs Krusty in the back, takes his job, and<br>wins a prestigious award. Meanwhile, Homer and<br>Bart take up coin collecting.<br>"
          ],
          [
           "<b>Lost Verizon</b><br>",
           "<b>Episode:</b> S20E2<br>",
           "<b>Airdate:</b>Sun 05 Oct 2008<br>",
           "<b>Description:</b>Bart gets in trouble with Marge<br>after she finds out that he has Denis Leary's cell<br>phone and is using it to make prank phone<br>calls.<br>"
          ],
          [
           "<b>Double, Double, Boy in Trouble</b><br>",
           "<b>Episode:</b> S20E3<br>",
           "<b>Airdate:</b>Sun 19 Oct 2008<br>",
           "<b>Description:</b>Bart trades lives with his<br>multi-millionaire lookalike, but discovers that<br>his lookalike's life isn't all he thought it would<br>be.<br>"
          ],
          [
           "<b>Homer and Lisa Exchange Cross Words</b><br>",
           "<b>Episode:</b> S20E6<br>",
           "<b>Airdate:</b>Sun 16 Nov 2008<br>",
           "<b>Description:</b>Homer gets a job breaking up<br>couples, and Lisa becomes an expert crossword<br>puzzle solver, but Homer bets against her in a<br>competition.<br>"
          ],
          [
           "<b>MyPods and Boomsticks</b><br>",
           "<b>Episode:</b> S20E7<br>",
           "<b>Airdate:</b>Sun 30 Nov 2008<br>",
           "<b>Description:</b>Homer suspects that the family<br>of Bart's new Muslim friend from Jordan is part of<br>a terrorist plot, and Lisa becomes obsessed with<br>her new MyPod.<br>"
          ],
          [
           "<b>Lisa the Drama Queen</b><br>",
           "<b>Episode:</b> S20E9<br>",
           "<b>Airdate:</b>Sun 25 Jan 2009<br>",
           "<b>Description:</b>Lisa and her new best friend<br>create their own fantasy world, but Marge doesn't<br>want Lisa to see her friend anymore after she<br>finds out that they're too far gone in it.<br>"
          ],
          [
           "<b>Wedding for Disaster</b><br>",
           "<b>Episode:</b> S20E15<br>",
           "<b>Airdate:</b>Sun 29 Mar 2009<br>",
           "<b>Description:</b>Homer is kidnapped moments<br>before he and Marge are supposed to re-renew their<br>vows. However, Marge comes to the conclusion that<br>Homer left her at the altar.<br>"
          ],
          [
           "<b>The Great Wife Hope</b><br>",
           "<b>Episode:</b> S21E3<br>",
           "<b>Airdate:</b>Sun 11 Oct 2009<br>",
           "<b>Description:</b>Marge takes on the owner of an<br>ultimate fighting league in the ring in order to<br>get the sport banned in Springfield.<br>"
          ],
          [
           "<b>Pranks and Greens</b><br>",
           "<b>Episode:</b> S21E6<br>",
           "<b>Airdate:</b>Sun 22 Nov 2009<br>",
           "<b>Description:</b>Bart meets the boy responsible<br>for the greatest prank in Springfield Elementary<br>School history, and discovers that he's now a<br>19-year-old loser. Meanwhile, Marge is scolded for<br>providing unhealthy snacks for Maggie's play<br>group.<br>"
          ],
          [
           "<b>Stealing First Base</b><br>",
           "<b>Episode:</b> S21E15<br>",
           "<b>Airdate:</b>Sun 08 Aug 2010<br>",
           "<b>Description:</b>Bart gets Springfield<br>Elementary School in legal trouble when he kisses<br>the enigmatic daughter of two lawyers, while Lisa<br>is depressed about being ostracized because she is<br>smart.<br>"
          ],
          [
           "<b>The Squirt and the Whale</b><br>",
           "<b>Episode:</b> S21E19<br>",
           "<b>Airdate:</b>Sun 05 Sep 2010<br>",
           "<b>Description:</b>After a violent storm, Lisa<br>tries to rally the townspeople and come to the<br>rescue of a beached whale.<br>"
          ],
          [
           "<b>Loan-a Lisa</b><br>",
           "<b>Episode:</b> S22E2<br>",
           "<b>Airdate:</b>Sun 03 Oct 2010<br>",
           "<b>Description:</b>Lisa uses the $50 she receives<br>from Grandpa to give Nelson a microloan to jump-<br>start his bicycle business, but soon comes to<br>regret the decision.<br>"
          ],
          [
           "<b>Lisa Simpson, This Isn't Your Life</b><br>",
           "<b>Episode:</b> S22E5<br>",
           "<b>Airdate:</b>Sun 14 Nov 2010<br>",
           "<b>Description:</b>When Lisa discovers that Marge<br>was also a model student, she tries to find out<br>where everything changed so that she doesn't<br>repeat her mistakes. Meanwhile, a series of chance<br>accidents cause Bart to replace Nelson as school<br>bully.<br>"
          ],
          [
           "<b>Moms I'd Like to Forget</b><br>",
           "<b>Episode:</b> S22E10<br>",
           "<b>Airdate:</b>Sun 09 Jan 2011<br>",
           "<b>Description:</b>Bart sets out to uncover the<br>origins of a sword-shaped scar on his hand; Marge<br>reconnects with three friends she fell out with<br>years ago.<br>"
          ],
          [
           "<b>A Midsummer's Nice Dreams</b><br>",
           "<b>Episode:</b> S22E16<br>",
           "<b>Airdate:</b>Sun 13 Mar 2011<br>",
           "<b>Description:</b>After Tommy Chong walks away<br>from the Cheech & Chong reunion tour, Homer goes<br>on the road as his replacement. Meanwhile, Marge<br>tries to help the cat lady with her hoarding<br>problem.<br>"
          ],
          [
           "<b>Bart Stops to Smell the Roosevelts</b><br>",
           "<b>Episode:</b> S23E2<br>",
           "<b>Airdate:</b>Sun 02 Oct 2011<br>",
           "<b>Description:</b>Superintendant Chalmers gets<br>fired after using unconventional methods to teach<br>Bart and his friends about Teddy Roosevelt, so the<br>boys take over Springfield Elementary until he<br>gets his old job back.<br>"
          ],
          [
           "<b>The Book Job</b><br>",
           "<b>Episode:</b> S23E6<br>",
           "<b>Airdate:</b>Sun 20 Nov 2011<br>",
           "<b>Description:</b>Homer and Bart put together a<br>team to author the next successful tween novel<br>franchise and make a million dollars, but discover<br>that they need Lisa's help to pull it off.<br>"
          ],
          [
           "<b>Adventures in Baby-Getting</b><br>",
           "<b>Episode:</b> S24E3<br>",
           "<b>Airdate:</b>Sun 31 Mar 2013<br>",
           "<b>Description:</b>Marge decides that she wants<br>another baby, but Homer doesn't want one.<br>Meanwhile, Bart tries to figure out where Lisa is<br>secretly going after school.<br>"
          ],
          [
           "<b>Dark Knight Court</b><br>",
           "<b>Episode:</b> S24E16<br>",
           "<b>Airdate:</b>Sun 24 Nov 2013<br>",
           "<b>Description:</b>When Bart is accused of a prank<br>he says he didn't commit, Lisa is forced to defend<br>him in youth court, with former attorney general<br>Janet Reno serving as judge.<br>"
          ],
          [
           "<b>The Fabulous Faker Boy</b><br>",
           "<b>Episode:</b> S24E20<br>",
           "<b>Airdate:</b>Sun 12 May 2013<br>",
           "<b>Description:</b>Bart takes piano lessons from a<br>cute Russian girl, Marge tries to teach the girl's<br>father how to drive, and Homer loses the last of<br>his hair.<br>"
          ],
          [
           "<b>Dangers on a Train</b><br>",
           "<b>Episode:</b> S24E22<br>",
           "<b>Airdate:</b>Sun 01 Dec 2013<br>",
           "<b>Description:</b>When Marge tries to buy Homer<br>snack cakes for their anniversary, she winds up<br>meeting a married man who shares a common love of<br>British television.<br>"
          ],
          [
           "<b>Married to the Blob</b><br>",
           "<b>Episode:</b> S25E10<br>",
           "<b>Airdate:</b>Sun 25 May 2014<br>",
           "<b>Description:</b>Comic Book Guy seeks romantic<br>advice from Homer when he falls for a Japanese<br>woman who's interested in manga.<br>"
          ],
          [
           "<b>Diggs</b><br>",
           "<b>Episode:</b> S25E12<br>",
           "<b>Airdate:</b>Sun 01 Jun 2014<br>",
           "<b>Description:</b>Bart becomes friends with a<br>schoolmate who enjoys falconry, but turns out to<br>be mentally disturbed.<br>"
          ],
          [
           "<b>Luca$</b><br>",
           "<b>Episode:</b> S25E17<br>",
           "<b>Airdate:</b>Sun 10 Aug 2014<br>",
           "<b>Description:</b>Marge becomes worried when Lisa<br>starts dating a competitive eater-in-training,<br>while Bart receives gifts from Snake Jailbird for<br>helping him out.<br>"
          ],
          [
           "<b>The Yellow Badge of Cowardge</b><br>",
           "<b>Episode:</b> S25E22<br>",
           "<b>Airdate:</b>Sun 24 Aug 2014<br>",
           "<b>Description:</b>Bart wins the annual \"last day<br>of school\" race - with a little help from Nelson -<br>and Homer attempts to bring back 4th of July<br>fireworks, which have been canceled due to low<br>budget cuts.<br>"
          ],
          [
           "<b>Blazed and Confused</b><br>",
           "<b>Episode:</b> S26E7<br>",
           "<b>Airdate:</b>Sun 16 Nov 2014<br>",
           "<b>Description:</b>Bart tricks his family into a<br>camping trip at a strange event known as \"Blazing<br>Guy\" so that he can get revenge on his sadistic<br>new fourth grade teacher.<br>"
          ],
          [
           "<b>Bart's New Friend</b><br>",
           "<b>Episode:</b> S26E11<br>",
           "<b>Airdate:</b>Sun 08 Mar 2015<br>",
           "<b>Description:</b>Homer is hypnotized into<br>believing he's ten years old and ends up stuck in<br>his new age when the hypnotist dies, so he bonds<br>with Bart and refuses to take back the<br>responsibilities of adulthood.<br>"
          ],
          [
           "<b>My Fare Lady</b><br>",
           "<b>Episode:</b> S26E14<br>",
           "<b>Airdate:</b>Sun 29 Mar 2015<br>",
           "<b>Description:</b>Marge gets a job as a driver<br>for a transportation app service, while Moe is<br>forced to work as a janitor at the nuclear plant<br>after Homer causes the bar to go bankrupt.<br>"
          ],
          [
           "<b>Let's Go Fly a Coot</b><br>",
           "<b>Episode:</b> S26E20<br>",
           "<b>Airdate:</b>Sun 10 May 2015<br>",
           "<b>Description:</b>Bart takes up smoking<br>e-cigarettes to impress Milhouse's cousin Annika<br>while the rest of the family learns about Grampa's<br>days in the Air Force.<br>"
          ],
          [
           "<b>Every Man's Dream</b><br>",
           "<b>Episode:</b> S27E1<br>",
           "<b>Airdate:</b>Sun 27 Sep 2015<br>",
           "<b>Description:</b>Marge decides it's finally time<br>to separate from Homer, and quickly moves on with<br>her life. Homer is initially devastated, but soon<br>stumbles into a romance with a younger woman.<br>"
          ],
          [
           "<b>Puffless</b><br>",
           "<b>Episode:</b> S27E3<br>",
           "<b>Airdate:</b>Sun 11 Oct 2015<br>",
           "<b>Description:</b>Patty and Selma try to quit<br>smoking, but Patty moves in with the Simpsons when<br>Selma takes it up again. Meanwhile, Maggie goes on<br>an adventure with some local creatures.<br>"
          ],
          [
           "<b>Barthood</b><br>",
           "<b>Episode:</b> S27E9<br>",
           "<b>Airdate:</b>Sun 13 Dec 2015<br>",
           "<b>Description:</b>A tale of Bart's journey from<br>youth to adulthood, where he is constantly in<br>search of approval from his father and in the<br>shadow of his more-successful younger sister.<br>"
          ],
          [
           "<b>Gal of Constant Sorrow</b><br>",
           "<b>Episode:</b> S27E14<br>",
           "<b>Airdate:</b>Sun 21 Feb 2016<br>",
           "<b>Description:</b>Lisa tries to launch the career<br>of a homeless Appalachian folk singer, but Bart<br>warns her that she will just let her down.<br>Meanwhile, Homer tries to rescue the cat, who is<br>trapped in the walls of the house.<br>"
          ],
          [
           "<b>The Marge-ian Chronicles</b><br>",
           "<b>Episode:</b> S27E16<br>",
           "<b>Airdate:</b>Sun 13 Mar 2016<br>",
           "<b>Description:</b>Lisa signs up for an<br>opportunity to be part of a mission to colonize<br>Mars in ten years, and Homer's strategy to use<br>reverse psychology to talk her out of it<br>backfires.<br>"
          ],
          [
           "<b>How Lisa Got Her Marge Back</b><br>",
           "<b>Episode:</b> S27E18<br>",
           "<b>Airdate:</b>Sun 10 Apr 2016<br>",
           "<b>Description:</b>After Lisa overhears Marge say<br>that she doesn't like Lisa's jazz music, Marge<br>takes Lisa on a trip to Capitol City to regain her<br>friendship. Meanwhile, Bart uses Maggie as his new<br>partner in crime for his practical jokes.<br>"
          ],
          [
           "<b>To Courier with Love</b><br>",
           "<b>Episode:</b> S27E20<br>",
           "<b>Airdate:</b>Sun 08 May 2016<br>",
           "<b>Description:</b>After promising Marge the trip<br>of a lifetime, Homer makes a deal with a travel<br>agent to be a courier of a top-secret briefcase in<br>exchange for a discounted family vacation to<br>Paris.<br>"
          ],
          [
           "<b>Whistler's Father</b><br>",
           "<b>Episode:</b> S29E3<br>",
           "<b>Airdate:</b>Fri 12 Jan 2018<br>",
           "<b>Description:</b>Homer launches Maggie's baby-<br>celebrity career with her whistling talent; Marge<br>is hired to style Fat Tony's brothel.<br>"
          ],
          [
           "<b>Mr. Lisa's Opus</b><br>",
           "<b>Episode:</b> S29E8<br>",
           "<b>Airdate:</b>Fri 16 Feb 2018<br>",
           "<b>Description:</b>In the future, Lisa writes a<br>college application essay to Harvard and recalls<br>disappointing past birthdays that helped shape<br>her.<br>"
          ],
          [
           "<b>Gone Boy</b><br>",
           "<b>Episode:</b> S29E9<br>",
           "<b>Airdate:</b>Sun 24 Dec 2017<br>",
           "<b>Description:</b>When Bart goes missing, the<br>town puts together a search party to find him.<br>"
          ],
          [
           "<b>3 Scenes Plus a Tag from a Marriage</b><br>",
           "<b>Episode:</b> S29E13<br>",
           "<b>Airdate:</b>Fri 30 Mar 2018<br>",
           "<b>Description:</b>Homer and Marge tell the story<br>of how they went from loving life without kids to<br>being miserable parents.<br>"
          ],
          [
           "<b>No Good Read Goes Unpunished</b><br>",
           "<b>Episode:</b> S29E15<br>",
           "<b>Airdate:</b>Sun 08 Apr 2018<br>",
           "<b>Description:</b>Marge forces everyone to give<br>up their electronics and go to the book store in<br>an effort to bring the family together.<br>"
          ],
          [
           "<b>Lisa Gets the Blues</b><br>",
           "<b>Episode:</b> S29E17<br>",
           "<b>Airdate:</b>Fri 27 Apr 2018<br>",
           "<b>Description:</b>The Simpsons' flight to<br>Gainesville gets re-routed to New Orleans, where<br>Lisa must regain her confidence as a jazz<br>musician.<br>"
          ],
          [
           "<b>Bart's Not Dead</b><br>",
           "<b>Episode:</b> S30E1<br>",
           "<b>Airdate:</b>Fri 01 Feb 2019<br>",
           "<b>Description:</b>Bart ends up in the hospital<br>after taking a dare and lies about going to heaven<br>to cover it up, but Homer takes a deal with<br>Christian producers to make a movie about it.<br>"
          ],
          [
           "<b>The Girl on the Bus</b><br>",
           "<b>Episode:</b> S30E12<br>",
           "<b>Airdate:</b>Fri 12 Apr 2019<br>",
           "<b>Description:</b>Lisa tries to live a double<br>life when she makes a new friend and gets a taste<br>of what it would be like to live with a more<br>cultured family.<br>"
          ],
          [
           "<b>I Want You (She's So Heavy)</b><br>",
           "<b>Episode:</b> S30E16<br>",
           "<b>Airdate:</b>Fri 10 May 2019<br>",
           "<b>Description:</b>When a romantic night ends in<br>injury for Homer and Marge, Lisa turns to an<br>unlikely source to fix their strained<br>relationship.<br>"
          ],
          [
           "<b>D'oh Canada</b><br>",
           "<b>Episode:</b> S30E21<br>",
           "<b>Airdate:</b>Sun 28 Apr 2019<br>",
           "<b>Description:</b>Lisa is mistakenly given<br>political asylum in Canada during a family trip to<br>Niagara Falls.<br>"
          ],
          [
           "<b>Crystal Blue-Haired Persuasion</b><br>",
           "<b>Episode:</b> S30E23<br>",
           "<b>Airdate:</b>Sun 12 May 2019<br>",
           "<b>Description:</b>Marge starts a business selling<br>healing crystals and other New Age products to the<br>naive mothers of Springfield when Homer's job cuts<br>children's health-care benefits, leading Marge to<br>use the crystals as a cheaper solution for Bart's<br>ADD.<br>"
          ],
          [
           "<b>Marge the Lumberjill</b><br>",
           "<b>Episode:</b> S31E6<br>",
           "<b>Airdate:</b>Fri 21 Feb 2020<br>",
           "<b>Description:</b>Marge becomes a competitive<br>lumberjack and goes on a month-long retreat to<br>Portland with her trainer, whom Homer fears will<br>take his wife away from him.<br>"
          ],
          [
           "<b>Hail to the Teeth</b><br>",
           "<b>Episode:</b> S31E11<br>",
           "<b>Airdate:</b>Fri 20 Mar 2020<br>",
           "<b>Description:</b>Homer and Marge attend Artie<br>Ziff's wedding and become quite uncomfortable when<br>they realize that his bride-to-be is a clone of<br>Marge.<br>"
          ],
          [
           "<b>Screenless</b><br>",
           "<b>Episode:</b> S31E15<br>",
           "<b>Airdate:</b>Fri 17 Apr 2020<br>",
           "<b>Description:</b>Marge implements a limit on<br>screen time for the whole family, only to realize<br>she's the one addicted to screens.<br>"
          ],
          [
           "<b>Highway to Well</b><br>",
           "<b>Episode:</b> S31E17<br>",
           "<b>Airdate:</b>Tue 28 Apr 2020<br>",
           "<b>Description:</b>Marge gets a job at an upscale<br>cannabis dispensary leading Homer to open a<br>competing business that replicates the scuzzy days<br>of scoring weed from and old-school pot<br>connection.<br>"
          ],
          [
           "<b>The Incredible Lightness of Being a Baby</b><br>",
           "<b>Episode:</b> S31E18<br>",
           "<b>Airdate:</b>Fri 01 May 2020<br>",
           "<b>Description:</b>Maggie reunites with baby<br>Hudson, but Marge isn't too crazy about his mom.<br>Homer befriends Cletus Spuckler who recently<br>discovered a vast underground reserve of helium<br>gas on his property, attracting unwanted attention<br>from Mr. Burns.<br>"
          ],
          [
           "<b>The Hateful Eight-Year-Olds</b><br>",
           "<b>Episode:</b> S31E21<br>",
           "<b>Airdate:</b>Fri 22 May 2020<br>",
           "<b>Description:</b>Lisa joins a group of rich<br>girls when she makes a friend who loves horses;<br>Homer takes Marge on a romantic cruise.<br>"
          ],
          [
           "<b>Now Museum, Now You Don't</b><br>",
           "<b>Episode:</b> S32E3<br>",
           "<b>Airdate:</b>Fri 29 Jan 2021<br>",
           "<b>Description:</b>Lisa stays home from school and<br>fantasizes about the history of Western art.<br>"
          ],
          [
           "<b>The 7 Beer Itch</b><br>",
           "<b>Episode:</b> S32E5<br>",
           "<b>Airdate:</b>Fri 12 Feb 2021<br>",
           "<b>Description:</b>Homer is tempted by a British<br>femme fatale while Marge and the kids are on a<br>seaside vacation.<br>"
          ],
          [
           "<b>The Road to Cincinnati</b><br>",
           "<b>Episode:</b> S32E8<br>",
           "<b>Airdate:</b>Fri 05 Mar 2021<br>",
           "<b>Description:</b>Skinner and Chalmers take an<br>800-mile car ride to an administrator's convention<br>in Cincinnati.<br>"
          ],
          [
           "<b>Sorry Not Sorry</b><br>",
           "<b>Episode:</b> S32E9<br>",
           "<b>Airdate:</b>Fri 12 Mar 2021<br>",
           "<b>Description:</b>Lisa calls Ms. Hoover a hack<br>and refuses to apologize, then learns her private<br>pain.<br>"
          ],
          [
           "<b>Diary Queen</b><br>",
           "<b>Episode:</b> S32E12<br>",
           "<b>Airdate:</b>Fri 26 Mar 2021<br>",
           "<b>Description:</b>Bart learns a surprising secret<br>when he finds Mrs. Krabappel's diary at a yard<br>sale, while Lisa discovers an even bigger<br>surprise.<br>"
          ],
          [
           "<b>Mother and Child Reunion</b><br>",
           "<b>Episode:</b> S32E20<br>",
           "<b>Airdate:</b>Fri 21 May 2021<br>",
           "<b>Description:</b>In the future, Lisa makes a<br>shocking college decision that hurts Marge,<br>leading to a surprising place.<br>"
          ],
          [
           "<b>Lisa's Belly</b><br>",
           "<b>Episode:</b> S33E5<br>",
           "<b>Airdate:</b>Sun 13 Feb 2022<br>",
           "<b>Description:</b>Lisa reacts to a hurtful word<br>spoken by Marge while Bart gets swole.<br>"
          ],
          [
           "<b>Boyz N the Highlands</b><br>",
           "<b>Episode:</b> S33E13<br>",
           "<b>Airdate:</b>Sun 03 Apr 2022<br>",
           "<b>Description:</b>Bart, Martin and the bullies<br>run for their lives when a weekend in the<br>wilderness takes a dark turn.<br>"
          ],
          [
           "<b>Bart the Cool Kid</b><br>",
           "<b>Episode:</b> S33E15<br>",
           "<b>Airdate:</b>Sun 17 Apr 2022<br>",
           "<b>Description:</b>Homer leads a rebellion of<br>loser dads against the friendship between Bart and<br>a famous kid influencer.<br>"
          ],
          [
           "<b>My Octopus and a Teacher</b><br>",
           "<b>Episode:</b> S33E18<br>",
           "<b>Airdate:</b>Sun 08 May 2022<br>",
           "<b>Description:</b>Bart has romantic feelings for<br>his new teacher; Lisa befriends an octopus.<br>"
          ],
          [
           "<b>Girls Just Shauna Have Fun</b><br>",
           "<b>Episode:</b> S33E19<br>",
           "<b>Airdate:</b>Sun 15 May 2022<br>",
           "<b>Description:</b>Lisa finds an unlikely mentor<br>in Shauna Chalmers when she joins the high school<br>marching band; Homer becomes a craft beer<br>brewer.<br>"
          ],
          [
           "",
           -4.416578769683838,
           "",
           ""
          ]
         ],
         "hovertemplate": "%{customdata[0]}%{customdata[1]}%{customdata[2]}%{customdata[3]}<extra></extra>",
         "marker": {
          "opacity": 0.75,
          "size": 5
         },
         "mode": "markers+text",
         "name": "0_lisa_marge_bart",
         "text": [
          "",
          "",
          "",
          "",
          "",
          "",
          "",
          "",
          "",
          "",
          "",
          "",
          "",
          "",
          "",
          "",
          "",
          "",
          "",
          "",
          "",
          "",
          "",
          "",
          "",
          "",
          "",
          "",
          "",
          "",
          "",
          "",
          "",
          "",
          "",
          "",
          "",
          "",
          "",
          "",
          "",
          "",
          "",
          "",
          "",
          "",
          "",
          "",
          "",
          "",
          "",
          "",
          "",
          "",
          "",
          "",
          "",
          "",
          "",
          "",
          "",
          "",
          "",
          "",
          "",
          "",
          "",
          "",
          "",
          "",
          "",
          "",
          "",
          "",
          "",
          "",
          "",
          "",
          "",
          "",
          "",
          "",
          "",
          "",
          "",
          "",
          "",
          "",
          "",
          "",
          "",
          "",
          "",
          "",
          "",
          "",
          "",
          "",
          "",
          "",
          "",
          "",
          "",
          "",
          "",
          "",
          "",
          "",
          "",
          "",
          "",
          "",
          "",
          "",
          "",
          "",
          "",
          "",
          "",
          "",
          "",
          "",
          "",
          "",
          "",
          "",
          "",
          "",
          "",
          "",
          "",
          "",
          "",
          "",
          "",
          "",
          "",
          "",
          "",
          "",
          "",
          "",
          "",
          "",
          "",
          "",
          "",
          "",
          "",
          "",
          "",
          "",
          "",
          "",
          "",
          "",
          "",
          "",
          "",
          "",
          "",
          "0_lisa_marge_bart"
         ],
         "textfont": {
          "size": 12
         },
         "type": "scatter3d",
         "x": [
          46.7911262512207,
          68.2425308227539,
          -36.59699630737305,
          88.61420440673828,
          99.47018432617188,
          -10.977581024169922,
          11.96460247039795,
          51.816463470458984,
          62.67251205444336,
          32.17826461791992,
          -1.8881958723068237,
          12.429560661315918,
          35.755615234375,
          103.32656860351562,
          63.59844970703125,
          52.84392166137695,
          51.826019287109375,
          124.79673767089844,
          100.68721771240234,
          41.94485855102539,
          59.18291091918945,
          66.62586212158203,
          52.711177825927734,
          54.29584503173828,
          65.21537017822266,
          -25.810163497924805,
          69.88141632080078,
          66.28608703613281,
          81.2669677734375,
          38.29206085205078,
          88.81898498535156,
          43.25971603393555,
          4.493447780609131,
          75.91272735595703,
          67.74172973632812,
          43.66849136352539,
          -9.802980422973633,
          15.65213394165039,
          80.68079376220703,
          109.512451171875,
          70.18560791015625,
          73.65242767333984,
          -12.580649375915527,
          18.778850555419922,
          -52.84593963623047,
          106.98946380615234,
          77.95799255371094,
          8.363748550415039,
          74.76065063476562,
          78.09207153320312,
          18.031356811523438,
          -36.04507827758789,
          63.30670928955078,
          53.2831916809082,
          99.38137817382812,
          4.371651649475098,
          78.24073791503906,
          46.588008880615234,
          7.163585186004639,
          44.123252868652344,
          -13.708105087280273,
          95.23407745361328,
          90.11199951171875,
          52.30609130859375,
          79.12311553955078,
          9.47089958190918,
          -44.37226486206055,
          -17.785079956054688,
          18.147518157958984,
          107.79890441894531,
          92.89381408691406,
          -23.40943717956543,
          11.405373573303223,
          -1.124049186706543,
          67.67829132080078,
          58.20656204223633,
          25.894794464111328,
          -26.413633346557617,
          69.86729431152344,
          -61.01072311401367,
          125.8737564086914,
          85.7618408203125,
          73.55812072753906,
          -60.42928695678711,
          -7.093882083892822,
          8.769617080688477,
          -12.266763687133789,
          84.58649444580078,
          109.88911437988281,
          -69.94786071777344,
          102.08979797363281,
          -17.21950340270996,
          33.67716979980469,
          24.132814407348633,
          129.10626220703125,
          -23.397785186767578,
          86.61640167236328,
          50.530311584472656,
          4.926763534545898,
          39.809688568115234,
          49.67022705078125,
          21.40999412536621,
          69.03811645507812,
          -37.59836959838867,
          -50.58180236816406,
          31.682762145996094,
          93.51473236083984,
          -0.8721520900726318,
          25.18465805053711,
          58.67007064819336,
          53.12367630004883,
          -12.123140335083008,
          41.63523483276367,
          49.279518127441406,
          49.93990707397461,
          100.251953125,
          35.78288269042969,
          -35.81062698364258,
          -9.121509552001953,
          70.1355209350586,
          48.49664306640625,
          134.17564392089844,
          48.88890075683594,
          38.06106948852539,
          -58.459266662597656,
          145.23744201660156,
          -14.013978004455566,
          132.35643005371094,
          77.1655502319336,
          86.99284362792969,
          34.24184036254883,
          75.21129608154297,
          -78.70565032958984,
          105.67613220214844,
          60.83335876464844,
          78.75186157226562,
          -11.658432006835938,
          111.57506561279297,
          89.21487426757812,
          28.443721771240234,
          69.1931381225586,
          60.30455017089844,
          60.962711334228516,
          93.25797271728516,
          -40.117919921875,
          -4.989134788513184,
          113.72148895263672,
          -62.618568420410156,
          92.8459701538086,
          56.10431671142578,
          84.15602111816406,
          -0.4487793743610382,
          -48.715370178222656,
          98.12001037597656,
          117.64579772949219,
          74.75175476074219,
          66.18268585205078,
          60.66266632080078,
          62.06422424316406,
          37.87204360961914,
          76.47425079345703,
          ""
         ],
         "y": [
          -24.631929397583008,
          -15.846561431884766,
          -25.249305725097656,
          -48.41592025756836,
          -80.01644134521484,
          18.530778884887695,
          -18.53439712524414,
          -12.173988342285156,
          -7.007602691650391,
          -27.616966247558594,
          5.938263893127441,
          5.120600700378418,
          -40.27158737182617,
          -96.20075988769531,
          0.8622113466262817,
          -39.20178985595703,
          20.515871047973633,
          -59.03022384643555,
          30.420780181884766,
          20.750898361206055,
          -21.306306838989258,
          27.045026779174805,
          -11.809064865112305,
          -12.116837501525879,
          -27.545549392700195,
          9.173788070678711,
          38.902313232421875,
          -35.00019836425781,
          65.31472778320312,
          79.13027954101562,
          -84.11104583740234,
          21.241783142089844,
          -14.149827003479004,
          33.66806411743164,
          56.75012969970703,
          -51.3819694519043,
          -15.041860580444336,
          -5.611128807067871,
          -43.10822677612305,
          -82.17809295654297,
          -15.461095809936523,
          2.990506649017334,
          -33.964420318603516,
          -7.833584785461426,
          -74.71965026855469,
          -29.082767486572266,
          24.86638832092285,
          31.164600372314453,
          -27.349260330200195,
          41.14599609375,
          4.852830410003662,
          -33.143882751464844,
          7.2075276374816895,
          -37.11682891845703,
          -8.515667915344238,
          3.5290801525115967,
          -4.227207660675049,
          -122.40237426757812,
          27.555381774902344,
          5.460389137268066,
          54.69609069824219,
          -61.9843635559082,
          -84.74298095703125,
          -27.97450065612793,
          40.743797302246094,
          3.41705060005188,
          -42.36380386352539,
          27.590591430664062,
          12.207971572875977,
          -29.221664428710938,
          2.2518491744995117,
          0.4068496525287628,
          7.739114761352539,
          23.632795333862305,
          17.57408905029297,
          38.291473388671875,
          11.1355619430542,
          17.98409652709961,
          -25.569622039794922,
          -48.213966369628906,
          -63.90010070800781,
          49.761783599853516,
          -3.101419687271118,
          -69.28546905517578,
          -8.228984832763672,
          37.590118408203125,
          8.804488182067871,
          15.09710693359375,
          -54.17102813720703,
          -41.95100021362305,
          44.86906051635742,
          29.641084671020508,
          11.4955415725708,
          31.262983322143555,
          -0.6623349785804749,
          -20.148115158081055,
          63.39029312133789,
          -35.64454650878906,
          -15.303496360778809,
          -30.74821662902832,
          -27.097606658935547,
          -10.409125328063965,
          31.382686614990234,
          20.075714111328125,
          -9.935495376586914,
          -0.02654830366373062,
          -71.54432678222656,
          143.749267578125,
          -34.38935470581055,
          68.20257568359375,
          27.852033615112305,
          -8.230073928833008,
          -21.050045013427734,
          -52.79468536376953,
          -0.5508723258972168,
          -53.1176643371582,
          -13.226705551147461,
          -9.074202537536621,
          -17.180030822753906,
          3.801283121109009,
          16.917770385742188,
          -53.429744720458984,
          -0.9372248649597168,
          33.81485366821289,
          -40.29072570800781,
          -3.3595993518829346,
          1.5103169679641724,
          -9.372748374938965,
          -38.26964569091797,
          21.449777603149414,
          -2.233865737915039,
          18.824827194213867,
          -47.135311126708984,
          66.49288940429688,
          62.885833740234375,
          7.37389612197876,
          23.033912658691406,
          25.08339500427246,
          17.707077026367188,
          45.931358337402344,
          69.44218444824219,
          26.644065856933594,
          -1.3786765336990356,
          -6.260274410247803,
          -0.6225224137306213,
          49.30561065673828,
          11.663010597229004,
          -73.8804702758789,
          65.69270324707031,
          45.82488250732422,
          31.848453521728516,
          4.801344394683838,
          -54.68936538696289,
          42.60487747192383,
          -86.5385971069336,
          54.491580963134766,
          11.360299110412598,
          8.506854057312012,
          -9.940803527832031,
          15.467679977416992,
          -47.024696350097656,
          43.67450714111328
         ],
         "z": [
          80.21513366699219,
          81.44398498535156,
          28.608978271484375,
          65.12870025634766,
          -0.7343883514404297,
          14.332329750061035,
          -9.15538501739502,
          -85.42442321777344,
          106.56617736816406,
          -69.71611022949219,
          4.272638320922852,
          88.82625579833984,
          -56.57670593261719,
          10.214414596557617,
          -49.91212844848633,
          59.09071731567383,
          -73.69083404541016,
          17.399253845214844,
          -14.790568351745605,
          -15.45406723022461,
          53.56343460083008,
          87.56422424316406,
          -56.848236083984375,
          112.993896484375,
          88.4367904663086,
          2.4046881198883057,
          -10.956184387207031,
          -59.25168991088867,
          6.357598781585693,
          -60.09021759033203,
          -9.014050483703613,
          -102.42140197753906,
          -24.732765197753906,
          20.881574630737305,
          -94.55355834960938,
          -66.68638610839844,
          -59.70051956176758,
          20.316925048828125,
          25.374855041503906,
          -16.942935943603516,
          119.3178939819336,
          -70.32743072509766,
          -13.320380210876465,
          -18.261863708496094,
          22.56243133544922,
          -43.20592498779297,
          -94.39373779296875,
          8.297394752502441,
          -69.42230224609375,
          -54.24755859375,
          -88.38896179199219,
          13.247542381286621,
          12.58237361907959,
          -86.60147857666016,
          -19.739482879638672,
          -95.82937622070312,
          11.147542953491211,
          8.465958595275879,
          -38.32390213012695,
          57.34670639038086,
          -4.8331146240234375,
          3.4168448448181152,
          -22.183862686157227,
          -75.12085723876953,
          -82.83519744873047,
          15.782781600952148,
          20.103042602539062,
          -18.832529067993164,
          -7.100322246551514,
          -55.94184112548828,
          -20.141643524169922,
          -19.527921676635742,
          -19.675012588500977,
          13.423514366149902,
          -1.2552286386489868,
          -76.56636810302734,
          73.65360260009766,
          -18.221036911010742,
          29.29928970336914,
          15.39241886138916,
          28.03888511657715,
          -68.48295593261719,
          -8.983671188354492,
          34.036094665527344,
          -4.631618022918701,
          21.393722534179688,
          -2.318336009979248,
          -59.46131896972656,
          10.50727653503418,
          26.229022979736328,
          -13.78380012512207,
          5.316433906555176,
          86.87600708007812,
          80.87954711914062,
          1.31019127368927,
          -44.81486892700195,
          -38.308353424072266,
          -44.45797348022461,
          84.22528076171875,
          56.50529861450195,
          -63.30240249633789,
          -69.16991424560547,
          -74.98767852783203,
          19.931272506713867,
          44.118675231933594,
          79.71475219726562,
          32.46672439575195,
          -36.36077117919922,
          -80.64556884765625,
          -66.49596405029297,
          3.520491361618042,
          32.06529998779297,
          101.97331237792969,
          -49.134498596191406,
          -4.043887615203857,
          35.093894958496094,
          72.38249969482422,
          9.958023071289062,
          8.392556190490723,
          72.05950927734375,
          -52.95135498046875,
          6.723403453826904,
          84.14698791503906,
          115.47340393066406,
          33.51152038574219,
          -1.0869024991989136,
          21.309118270874023,
          -4.845322132110596,
          54.34751510620117,
          -46.66233825683594,
          -89.14224243164062,
          -69.6386947631836,
          38.827693939208984,
          20.646650314331055,
          -42.630828857421875,
          103.81915283203125,
          28.083654403686523,
          -23.21384620666504,
          -76.9373779296875,
          80.74404907226562,
          -79.07598876953125,
          -60.0006217956543,
          -94.98737335205078,
          10.359907150268555,
          33.71629333496094,
          3.2417378425598145,
          -28.113048553466797,
          45.43473434448242,
          15.63603687286377,
          -98.97128295898438,
          -101.50801849365234,
          -32.45166778564453,
          52.14228057861328,
          -49.88109588623047,
          -23.8646240234375,
          -42.17580032348633,
          -44.93072509765625,
          96.50830078125,
          67.8067626953125,
          -68.97673797607422,
          -56.19562911987305,
          -3.435502529144287
         ]
        },
        {
         "customdata": [
          [
           "<b>Homer's Odyssey</b><br>",
           "<b>Episode:</b> S1E3<br>",
           "<b>Airdate:</b>Sun 21 Jan 1990<br>",
           "<b>Description:</b>After losing his job, Homer<br>contemplates ending it all, until he discovers a<br>new life path as a safety advocate.<br>"
          ],
          [
           "<b>There's No Disgrace Like Home</b><br>",
           "<b>Episode:</b> S1E4<br>",
           "<b>Airdate:</b>Sun 28 Jan 1990<br>",
           "<b>Description:</b>After being embarrassed by the<br>rest of the family at a company picnic, Homer<br>becomes obsessed with improving their behavior<br>towards each other.<br>"
          ],
          [
           "<b>Dancin' Homer</b><br>",
           "<b>Episode:</b> S2E5<br>",
           "<b>Airdate:</b>Thu 08 Nov 1990<br>",
           "<b>Description:</b>Homer's heckling of the<br>Springfield Isotopes baseball team during one of<br>their games inadvertently leads to his appointment<br>as the new team mascot.<br>"
          ],
          [
           "<b>Old Money</b><br>",
           "<b>Episode:</b> S2E17<br>",
           "<b>Airdate:</b>Thu 28 Mar 1991<br>",
           "<b>Description:</b>After Grampa's new girlfriend<br>dies and leaves him $106,000 in her will, he tries<br>to decide what to do with it.<br>"
          ],
          [
           "<b>Stark Raving Dad</b><br>",
           "<b>Episode:</b> S3E1<br>",
           "<b>Airdate:</b>Thu 19 Sep 1991<br>",
           "<b>Description:</b>Homer accidentally lands in a<br>mental hospital and ends up sharing a room with a<br>white man who thinks he is Michael Jackson.<br>"
          ],
          [
           "<b>Homer Defined</b><br>",
           "<b>Episode:</b> S3E5<br>",
           "<b>Airdate:</b>Thu 17 Oct 1991<br>",
           "<b>Description:</b>Homer is a hero after averting<br>a nuclear meltdown that he nearly caused, but he<br>doesn't want to tell anyone that he stopped it<br>completely by accident.<br>"
          ],
          [
           "<b>Homer Goes to College</b><br>",
           "<b>Episode:</b> S5E3<br>",
           "<b>Airdate:</b>Thu 14 Oct 1993<br>",
           "<b>Description:</b>When a surprise inspection of<br>the nuclear power plant reveals that Homer is not<br>qualified to do his job, he is forced to go to<br>college.<br>"
          ],
          [
           "<b>Homer the Vigilante</b><br>",
           "<b>Episode:</b> S5E11<br>",
           "<b>Airdate:</b>Thu 06 Jan 1994<br>",
           "<b>Description:</b>An outbreak of burglaries<br>inspires Homer to lead a vigilante group.<br>"
          ],
          [
           "<b>Homer Badman</b><br>",
           "<b>Episode:</b> S6E9<br>",
           "<b>Airdate:</b>Sun 27 Nov 1994<br>",
           "<b>Description:</b>Homer is branded as a pervert<br>after his kids' babysitter misconstrues his<br>retrieval of a candy from the seat of her pants as<br>a sexual advance.<br>"
          ],
          [
           "<b>Homer the Great</b><br>",
           "<b>Episode:</b> S6E12<br>",
           "<b>Airdate:</b>Sun 29 Jan 1995<br>",
           "<b>Description:</b>Homer becomes a member of a<br>mysterious organization called the Stonecutters<br>and is heralded as \"the chosen one\".<br>"
          ],
          [
           "<b>Mother Simpson</b><br>",
           "<b>Episode:</b> S7E8<br>",
           "<b>Airdate:</b>Sun 17 Dec 1995<br>",
           "<b>Description:</b>After faking his own death,<br>Homer is reunited with his mother, who harbors a<br>deep secret.<br>"
          ],
          [
           "<b>Homer the Smithers</b><br>",
           "<b>Episode:</b> S7E17<br>",
           "<b>Airdate:</b>Sun 26 May 1996<br>",
           "<b>Description:</b>When Smithers is forced to take<br>a vacation, he appoints Homer as his temporary<br>replacement.<br>"
          ],
          [
           "<b>Homerpalooza</b><br>",
           "<b>Episode:</b> S7E24<br>",
           "<b>Airdate:</b>Sun 29 Sep 1996<br>",
           "<b>Description:</b>In an attempt to prove his<br>coolness to the kids, Homer takes them to a music<br>festival but ends up embarrassing them after being<br>hired in a sideshow.<br>"
          ],
          [
           "<b>The Cartridge Family</b><br>",
           "<b>Episode:</b> S9E5<br>",
           "<b>Airdate:</b>Fri 26 Oct 2001<br>",
           "<b>Description:</b>After a massive soccer riot,<br>Homer purchases a gun to protect the family.<br>"
          ],
          [
           "<b>All Singing, All Dancing</b><br>",
           "<b>Episode:</b> S9E11<br>",
           "<b>Airdate:</b>Sun 08 Feb 1998<br>",
           "<b>Description:</b>Homer is disappointed when the<br>western he rented turns out to be a musical, so<br>the family reminds him of the musical moments in<br>the show's history.<br>"
          ],
          [
           "<b>Simpson Tide</b><br>",
           "<b>Episode:</b> S9E19<br>",
           "<b>Airdate:</b>Sun 05 Jul 1998<br>",
           "<b>Description:</b>Homer causes an international<br>incident after he joins the Naval reserves.<br>"
          ],
          [
           "<b>When You Dish Upon a Star</b><br>",
           "<b>Episode:</b> S10E5<br>",
           "<b>Airdate:</b>Sun 06 Dec 1998<br>",
           "<b>Description:</b>Homer becomes a Hollywood<br>insider when he befriends Alec Baldwin and Kim<br>Basinger.<br>"
          ],
          [
           "<b>D'oh-in' in the Wind</b><br>",
           "<b>Episode:</b> S10E6<br>",
           "<b>Airdate:</b>Sun 03 Jan 1999<br>",
           "<b>Description:</b>Homer becomes a hippie after a<br>revelation about his middle name.<br>"
          ],
          [
           "<b>Homer to the Max</b><br>",
           "<b>Episode:</b> S10E13<br>",
           "<b>Airdate:</b>Sun 19 Sep 1999<br>",
           "<b>Description:</b>Homer changes his name to \"Max<br>Power\" after discovering that he shares his name<br>with a dimwitted TV character.<br>"
          ],
          [
           "<b>Beyond Blunderdome</b><br>",
           "<b>Episode:</b> S11E1<br>",
           "<b>Airdate:</b>Sun 07 Nov 1999<br>",
           "<b>Description:</b>Convinced he's the only man<br>with guts to tell him the truth, Mel Gibson<br>insists Homer accompanies him in Hollywood to help<br>fix his newest film project.<br>"
          ],
          [
           "<b>E-I-E-I-(Annoyed Grunt)</b><br>",
           "<b>Episode:</b> S11E5<br>",
           "<b>Airdate:</b>Sun 05 Dec 1999<br>",
           "<b>Description:</b>Homer cowards out of a pistol-<br>duel and hides out with the rest of the family on<br>a country farm.<br>"
          ],
          [
           "<b>Hello Gutter, Hello Fadder</b><br>",
           "<b>Episode:</b> S11E6<br>",
           "<b>Airdate:</b>Sun 12 Dec 1999<br>",
           "<b>Description:</b>Homer becomes a minor celebrity<br>around Springfield after bowling a perfect<br>game.<br>"
          ],
          [
           "<b>The Computer Wore Menace Shoes</b><br>",
           "<b>Episode:</b> S12E6<br>",
           "<b>Airdate:</b>Sun 07 Jan 2001<br>",
           "<b>Description:</b>Homer's gossip website becomes<br>a huge hit, but when his information runs out he<br>resorts to making up news.<br>"
          ],
          [
           "<b>The Great Money Caper</b><br>",
           "<b>Episode:</b> S12E7<br>",
           "<b>Airdate:</b>Sun 14 Jan 2001<br>",
           "<b>Description:</b>The whole town of Springfield<br>conspires to teach Homer and Bart a lesson after<br>the pair begin running confidence scams.<br>"
          ],
          [
           "<b>Tennis the Menace</b><br>",
           "<b>Episode:</b> S12E12<br>",
           "<b>Airdate:</b>Sun 15 Apr 2001<br>",
           "<b>Description:</b>Homer installs a tennis court<br>in the backyard, but his lousy playing creates a<br>rift in the family.<br>"
          ],
          [
           "<b>The Blunder Years</b><br>",
           "<b>Episode:</b> S13E5<br>",
           "<b>Airdate:</b>Sun 20 Jan 2002<br>",
           "<b>Description:</b>A hypnotist uncovers a<br>traumatic experience from Homer's childhood.<br>"
          ],
          [
           "<b>How I Spent My Strummer Vacation</b><br>",
           "<b>Episode:</b> S14E2<br>",
           "<b>Airdate:</b>Sun 24 Nov 2002<br>",
           "<b>Description:</b>When Homer is secretly<br>videotaped complaining about his family in a taxi,<br>they send him off to a rock and roll fantasy camp<br>so he can try to live his dream.<br>"
          ],
          [
           "<b>'Tis the Fifteenth Season</b><br>",
           "<b>Episode:</b> S15E7<br>",
           "<b>Airdate:</b>Sun 22 Feb 2004<br>",
           "<b>Description:</b>After spending all his money on<br>an expensive gift for himself, and the family<br>thinking he should be less of an egoist, Homer<br>decides to change his ways.<br>"
          ],
          [
           "<b>Simple Simpson</b><br>",
           "<b>Episode:</b> S15E19<br>",
           "<b>Airdate:</b>Sun 10 Oct 2004<br>",
           "<b>Description:</b>Homer becomes a costumed<br>vigilante who uses pies for weapons after<br>witnessing Lisa get humiliated at a competition at<br>the state fair.<br>"
          ],
          [
           "<b>Don't Fear the Roofer</b><br>",
           "<b>Episode:</b> S16E16<br>",
           "<b>Airdate:</b>Sun 26 Jun 2005<br>",
           "<b>Description:</b>Homer meets a new friend, Ray<br>the Roofer, but gets confined to a mental<br>institution when his friends and family think he<br>made him up.<br>"
          ],
          [
           "<b>Thank God It's Doomsday</b><br>",
           "<b>Episode:</b> S16E19<br>",
           "<b>Airdate:</b>Sun 23 Oct 2005<br>",
           "<b>Description:</b>Homer hears about the Rapture,<br>and by using numerology to calculate when the<br>Rapture is coming he learns that it is only one<br>week away.<br>"
          ],
          [
           "<b>Homer's Paternity Coot</b><br>",
           "<b>Episode:</b> S17E10<br>",
           "<b>Airdate:</b>Sun 12 Feb 2006<br>",
           "<b>Description:</b>When a frozen mailman from the<br>60's is found in a Springfield glacier, doubts<br>arise about whether Abe really is Homer's<br>father.<br>"
          ],
          [
           "<b>G.I. (Annoyed Grunt)</b><br>",
           "<b>Episode:</b> S18E5<br>",
           "<b>Airdate:</b>Sun 21 Jan 2007<br>",
           "<b>Description:</b>Homer is duped into signing up<br>for the Army, and his hijinks after basic training<br>ultimately results in a military occupation of<br>Springfield.<br>"
          ],
          [
           "<b>Revenge Is a Dish Best Served Three Times</b><br>",
           "<b>Episode:</b> S18E11<br>",
           "<b>Airdate:</b>Sun 11 Feb 2007<br>",
           "<b>Description:</b>While Homer tries to get<br>revenge on a driver who cut him off, his family<br>warns him of the folly of revenge by telling<br>stories based on \"The Count of Monte Cristo,\"<br>\"Revenge of the Nerds,\" and \"Batman.\"<br>"
          ],
          [
           "<b>Homerazzi</b><br>",
           "<b>Episode:</b> S18E16<br>",
           "<b>Airdate:</b>Sun 25 Mar 2007<br>",
           "<b>Description:</b>Homer becomes a successful<br>Paparazzi, but Springfield's celebrities decide to<br>get their revenge on him.<br>"
          ],
          [
           "<b>Mona Leaves-a</b><br>",
           "<b>Episode:</b> S19E19<br>",
           "<b>Airdate:</b>Sun 11 May 2008<br>",
           "<b>Description:</b>Homer's mom dies, and as part<br>of her will, she asks him to spread her ashes.<br>However, her request turns out to be part of her<br>final act of rebellion against the system.<br>"
          ],
          [
           "<b>Take My Life, Please</b><br>",
           "<b>Episode:</b> S20E10<br>",
           "<b>Airdate:</b>Sun 15 Feb 2009<br>",
           "<b>Description:</b>Homer finds out that he<br>actually won the senior class president election,<br>and he gets an opportunity to find out how his<br>life would have been different if it had<br>happened.<br>"
          ],
          [
           "<b>How the Test Was Won</b><br>",
           "<b>Episode:</b> S20E11<br>",
           "<b>Airdate:</b>Sun 01 Mar 2009<br>",
           "<b>Description:</b>Bart and his fellow<br>underachievers are taken on a \"field trip\" to<br>Capital City so that they can miss the<br>standardized test, and Homer makes sure that<br>nothing bad happens until their insurance goes<br>back into effect.<br>"
          ],
          [
           "<b>Father Knows Worst</b><br>",
           "<b>Episode:</b> S20E18<br>",
           "<b>Airdate:</b>Sun 26 Apr 2009<br>",
           "<b>Description:</b>Homer becomes a \"helicopter<br>parent\" at Springfield Elementary by helping Bart<br>finish a class project and helping Lisa become<br>popular, and Marge finds a secret sauna in their<br>house.<br>"
          ],
          [
           "<b>Homer the Whopper</b><br>",
           "<b>Episode:</b> S21E1<br>",
           "<b>Airdate:</b>Sun 27 Sep 2009<br>",
           "<b>Description:</b>A Hollywood studio makes a<br>movie based on Comic Book Guy's comic book<br>character \"Everyman,\" and Homer is cast in the<br>lead. However, Homer's weight fluctuations cause<br>problems for the production.<br>"
          ],
          [
           "<b>Homer the Father</b><br>",
           "<b>Episode:</b> S22E12<br>",
           "<b>Airdate:</b>Sun 23 Jan 2011<br>",
           "<b>Description:</b>Homer picks up parenting advice<br>from an 80s sitcom; Bart becomes involved in<br>trading nuclear secrets.<br>"
          ],
          [
           "<b>Angry Dad: The Movie</b><br>",
           "<b>Episode:</b> S22E14<br>",
           "<b>Airdate:</b>Fri 01 Apr 2011<br>",
           "<b>Description:</b>Bart's \"Angry Dad\" character<br>gets his own movie, but when the movie starts<br>winning awards, Homer tries to hog all the<br>credit.<br>"
          ],
          [
           "<b>The Falcon and the D'Ohman</b><br>",
           "<b>Episode:</b> S23E1<br>",
           "<b>Airdate:</b>Sun 25 Sep 2011<br>",
           "<b>Description:</b>Homer tries to befriend the new<br>security guard at the nuclear power plant, who for<br>some unknown reason isn't interested and keeps<br>having flashbacks to his violent past as a<br>government agent.<br>"
          ],
          [
           "<b>How I Wet Your Mother</b><br>",
           "<b>Episode:</b> S23E16<br>",
           "<b>Airdate:</b>Sun 11 Mar 2012<br>",
           "<b>Description:</b>The family break into Homer's<br>dreams Inception-style after he begins wetting the<br>bed.<br>"
          ],
          [
           "<b>A Tree Grows in Springfield</b><br>",
           "<b>Episode:</b> S24E6<br>",
           "<b>Airdate:</b>Sun 21 Apr 2013<br>",
           "<b>Description:</b>Homer becomes addicted to his<br>new tablet computer. But when it is destroyed<br>Homer becomes despondent, until he finds and<br>provides hope for Springfield in the most unlikely<br>place.<br>"
          ],
          [
           "<b>The Day the Earth Stood Cool</b><br>",
           "<b>Episode:</b> S24E7<br>",
           "<b>Airdate:</b>Sun 28 Apr 2013<br>",
           "<b>Description:</b>Homer befriends a hipster and<br>invites his family to move in next door. However,<br>their friendship soon sours as Springfield is<br>transformed into a haven for \"coolness.\"<br>"
          ],
          [
           "<b>Homer Goes to Prep School</b><br>",
           "<b>Episode:</b> S24E9<br>",
           "<b>Airdate:</b>Sun 12 May 2013<br>",
           "<b>Description:</b>Homer joins the \"Springfield<br>Preppers,\" an off-the-grid survivalist group whose<br>leader has set up a top-secret retreat outside of<br>town to prepare for the end of the world.<br>"
          ],
          [
           "<b>Hardly Kirk-ing</b><br>",
           "<b>Episode:</b> S24E13<br>",
           "<b>Airdate:</b>Sun 10 Nov 2013<br>",
           "<b>Description:</b>Bart poses Millhouse as his<br>father so that they can do adult activities, and<br>Homer becomes skilled at finding lost objects<br>thanks to Highlights magazine.<br>"
          ],
          [
           "<b>Homerland</b><br>",
           "<b>Episode:</b> S25E1<br>",
           "<b>Airdate:</b>Sun 20 Apr 2014<br>",
           "<b>Description:</b>Homer returns from a nuclear<br>power convention a changed man, and Lisa begins to<br>suspect that he has become a domestic<br>terrorist.<br>"
          ],
          [
           "<b>YOLO</b><br>",
           "<b>Episode:</b> S25E4<br>",
           "<b>Airdate:</b>Sun 04 May 2014<br>",
           "<b>Description:</b>Homer is stunned to learn he'll<br>only live once. A pen pal from his youth helps him<br>live that life to its fullest. Meanwhile<br>Springfield Elementary institutes an honor<br>code.<br>"
          ],
          [
           "<b>You Don't Have to Live Like a Referee</b><br>",
           "<b>Episode:</b> S25E16<br>",
           "<b>Airdate:</b>Sun 08 Jun 2014<br>",
           "<b>Description:</b>Homer becomes a referee for the<br>World Cup and finds himself tested by bribers when<br>the Simpsons travel to Brazil.<br>"
          ],
          [
           "<b>Covercraft</b><br>",
           "<b>Episode:</b> S26E8<br>",
           "<b>Airdate:</b>Sun 23 Nov 2014<br>",
           "<b>Description:</b>Homer forms a cover band with<br>other dads in town when he takes up bass guitar to<br>deal with a mid-life crisis, but the band's modest<br>success is soon overwhelmed by Apu's breakout<br>potential.<br>"
          ],
          [
           "<b>There Will Be Buds</b><br>",
           "<b>Episode:</b> S28E6<br>",
           "<b>Airdate:</b>Sun 06 Nov 2016<br>",
           "<b>Description:</b>Homer coaches the kids'<br>lacrosse team with Kirk Van Houten, who disappears<br>before the championship game, after Homer rants<br>about him being a loser.<br>"
          ],
          [
           "<b>Dad Behavior</b><br>",
           "<b>Episode:</b> S28E8<br>",
           "<b>Airdate:</b>Sun 20 Nov 2016<br>",
           "<b>Description:</b>Homer discovers an app that<br>makes his life easier, while Grampa learns that<br>he'll be a father again.<br>"
          ],
          [
           "<b>A Father's Watch</b><br>",
           "<b>Episode:</b> S28E18<br>",
           "<b>Airdate:</b>Sun 19 Mar 2017<br>",
           "<b>Description:</b>As Homer and Marge try a<br>different parenting style on the hellraising Bart,<br>Grampa gives him a special watch that becomes<br>Bart's moral center. But Bart loses it and tries<br>everything to get it back.<br>"
          ],
          [
           "<b>Singin' in the Lane</b><br>",
           "<b>Episode:</b> S29E7<br>",
           "<b>Airdate:</b>Fri 09 Feb 2018<br>",
           "<b>Description:</b>Homer gets his old bowling team<br>back together and they wind up competing with<br>arrogant millionaires.<br>"
          ],
          [
           "<b>Daddicus Finch</b><br>",
           "<b>Episode:</b> S30E9<br>",
           "<b>Airdate:</b>Fri 29 Mar 2019<br>",
           "<b>Description:</b>Bart feels neglected when Homer<br>and Lisa bond over To Kill a Mockingbird and start<br>spending quality time together, so Marge attempts<br>to help Homer balance attention between the<br>kids.<br>"
          ],
          [
           "<b>Go Big or Go Homer</b><br>",
           "<b>Episode:</b> S31E2<br>",
           "<b>Airdate:</b>Fri 24 Jan 2020<br>",
           "<b>Description:</b>Homer inspires a 35-year-old<br>millennial who idolizes him to start his own<br>business, which leads the mob to chase both of<br>them.<br>"
          ],
          [
           "<b>The Dad-Feelings Limited</b><br>",
           "<b>Episode:</b> S32E11<br>",
           "<b>Airdate:</b>Fri 19 Mar 2021<br>",
           "<b>Description:</b>The origin story of Comic Book<br>Guy is revealed as he and Kumiko debate having a<br>baby.<br>"
          ],
          [
           "<b>Do Pizza Bots Dream of Electric Guitars</b><br>",
           "<b>Episode:</b> S32E15<br>",
           "<b>Airdate:</b>Fri 16 Apr 2021<br>",
           "<b>Description:</b>Homer tries to reunite a<br>mechanical band from his youth, but J.J. Abrams<br>beats him to it.<br>"
          ],
          [
           "<b>Mothers and Other Strangers</b><br>",
           "<b>Episode:</b> S33E9<br>",
           "<b>Airdate:</b>Sun 13 Mar 2022<br>",
           "<b>Description:</b>In a flashback to his teen<br>years, Homer goes on a road trip with his father<br>to search for his mother.<br>"
          ],
          [
           "",
           -1.7148947715759277,
           "",
           ""
          ]
         ],
         "hovertemplate": "%{customdata[0]}%{customdata[1]}%{customdata[2]}%{customdata[3]}<extra></extra>",
         "marker": {
          "opacity": 0.75,
          "size": 5
         },
         "mode": "markers+text",
         "name": "1_homer_family_homers",
         "text": [
          "",
          "",
          "",
          "",
          "",
          "",
          "",
          "",
          "",
          "",
          "",
          "",
          "",
          "",
          "",
          "",
          "",
          "",
          "",
          "",
          "",
          "",
          "",
          "",
          "",
          "",
          "",
          "",
          "",
          "",
          "",
          "",
          "",
          "",
          "",
          "",
          "",
          "",
          "",
          "",
          "",
          "",
          "",
          "",
          "",
          "",
          "",
          "",
          "",
          "",
          "",
          "",
          "",
          "",
          "",
          "",
          "",
          "",
          "",
          "",
          "",
          "1_homer_family_homers"
         ],
         "textfont": {
          "size": 12
         },
         "type": "scatter3d",
         "x": [
          -96.50806427001953,
          -113.60527801513672,
          -129.26708984375,
          -17.65166664123535,
          79.40367889404297,
          -82.26156616210938,
          -85.2951431274414,
          -78.21692657470703,
          -108.35294342041016,
          -72.87544250488281,
          37.47447204589844,
          -102.11054992675781,
          -109.2750473022461,
          -64.13725280761719,
          -119.47293853759766,
          14.177374839782715,
          -107.00553894042969,
          -87.804443359375,
          -71.25072479248047,
          -78.7949447631836,
          -109.82998657226562,
          -112.74989318847656,
          -95.67753601074219,
          -14.737082481384277,
          -128.12588500976562,
          35.96649932861328,
          -99.06780242919922,
          -118.00833892822266,
          -61.09231185913086,
          -77.20126342773438,
          -98.7273178100586,
          37.50844955444336,
          -103.39046478271484,
          -11.538576126098633,
          -98.17817687988281,
          47.605018615722656,
          -85.22968292236328,
          -5.871211528778076,
          62.457969665527344,
          -88.77931213378906,
          47.037445068359375,
          60.256500244140625,
          -73.85952758789062,
          26.382497787475586,
          -95.19000244140625,
          -105.3422622680664,
          -105.6342544555664,
          45.55776596069336,
          -76.26839447021484,
          -93.48725128173828,
          -90.58474731445312,
          -110.19562530517578,
          78.82071685791016,
          58.821800231933594,
          60.376102447509766,
          -121.69163513183594,
          69.39081573486328,
          -80.07128143310547,
          71.20698547363281,
          -107.42640686035156,
          40.42920684814453,
          ""
         ],
         "y": [
          21.699392318725586,
          -51.36454391479492,
          -1.7159700393676758,
          -25.1163330078125,
          14.873574256896973,
          -27.30522346496582,
          -13.301621437072754,
          -22.47154998779297,
          -68.12017822265625,
          -34.63569641113281,
          33.81454849243164,
          -54.657569885253906,
          -68.1794662475586,
          -3.345886468887329,
          -67.46023559570312,
          -12.03127384185791,
          -30.189916610717773,
          -46.025169372558594,
          -47.93225860595703,
          -80.10186004638672,
          4.654468059539795,
          -30.187732696533203,
          37.435874938964844,
          -56.790470123291016,
          -50.70627212524414,
          34.25559997558594,
          -63.67578125,
          -40.33966064453125,
          -21.822757720947266,
          10.615360260009766,
          -27.27166748046875,
          28.730501174926758,
          2.5480434894561768,
          -41.6588249206543,
          -39.90879440307617,
          56.48359298706055,
          -32.52263259887695,
          -80.01876068115234,
          9.46653938293457,
          -65.25039672851562,
          5.7015180587768555,
          8.96160888671875,
          -1.6308213472366333,
          15.791576385498047,
          33.07346725463867,
          -44.944786071777344,
          -8.565683364868164,
          -8.707247734069824,
          -18.234987258911133,
          0.7253243923187256,
          -35.976661682128906,
          -88.23838806152344,
          -71.88988494873047,
          25.922935485839844,
          37.368873596191406,
          -24.415294647216797,
          -2.1913199424743652,
          -47.2398567199707,
          26.549245834350586,
          -84.49494171142578,
          23.398113250732422,
          -49.49128723144531
         ],
         "z": [
          -25.515575408935547,
          -5.943122863769531,
          -29.327558517456055,
          109.55157470703125,
          41.12324905395508,
          -9.804573059082031,
          2.0119733810424805,
          -33.317440032958984,
          -23.056110382080078,
          -29.13112449645996,
          30.683565139770508,
          -55.728599548339844,
          -10.14351749420166,
          -43.4169921875,
          9.578971862792969,
          -120.43150329589844,
          -56.05249786376953,
          -13.625226974487305,
          -6.740887641906738,
          -14.514713287353516,
          -64.40898132324219,
          -37.50419616699219,
          -52.804527282714844,
          64.74673461914062,
          -8.747034072875977,
          126.37846374511719,
          5.696076393127441,
          14.069230079650879,
          -36.21330642700195,
          -17.240310668945312,
          -8.186426162719727,
          51.05080795288086,
          -55.075801849365234,
          39.90021514892578,
          -46.17021179199219,
          45.9006233215332,
          4.398682117462158,
          72.87476348876953,
          25.124324798583984,
          -32.84162521362305,
          32.559303283691406,
          50.9573860168457,
          -15.479999542236328,
          36.0459098815918,
          -38.97702407836914,
          -18.38564109802246,
          -22.673141479492188,
          37.012847900390625,
          -11.626277923583984,
          -42.88304901123047,
          18.214290618896484,
          6.295928955078125,
          -83.32103729248047,
          43.06333923339844,
          41.98933029174805,
          -27.572731018066406,
          32.81831741333008,
          -39.45041275024414,
          58.00648880004883,
          -5.73140811920166,
          37.381622314453125,
          -19.81259536743164
         ]
        },
        {
         "customdata": [
          [
           "<b>Two Cars in Every Garage and Three Eyes on Every Fish</b><br>",
           "<b>Episode:</b> S2E4<br>",
           "<b>Airdate:</b>Thu 01 Nov 1990<br>",
           "<b>Description:</b>After the power plant<br>experiences bad publicity and is threatened with<br>closure, Mr. Burns decides to run for Governor in<br>order to have power over the law.<br>"
          ],
          [
           "<b>Brush with Greatness</b><br>",
           "<b>Episode:</b> S2E18<br>",
           "<b>Airdate:</b>Thu 11 Apr 1991<br>",
           "<b>Description:</b>After rekindling her artistic<br>talents, Marge is commissioned to paint a portrait<br>of Mr. Burns; Homer vows to lose weight after<br>getting trapped in a water slide.<br>"
          ],
          [
           "<b>Burns Verkaufen der Kraftwerk</b><br>",
           "<b>Episode:</b> S3E11<br>",
           "<b>Airdate:</b>Thu 05 Dec 1991<br>",
           "<b>Description:</b>Burns decides to retire and<br>sells the power plant to a German consortium for<br>an exorbitant price. Homer's laziness and<br>inefficiency are quickly exposed by his new<br>bosses, and he is laid off.<br>"
          ],
          [
           "<b>Homer at the Bat</b><br>",
           "<b>Episode:</b> S3E17<br>",
           "<b>Airdate:</b>Thu 20 Feb 1992<br>",
           "<b>Description:</b>Homer and his co-workers<br>qualify for the plant softball team's league<br>final, but Mr. Burns hires nine professional MLB<br>players in order to win a $1 million bet.<br>"
          ],
          [
           "<b>Marge Gets a Job</b><br>",
           "<b>Episode:</b> S4E7<br>",
           "<b>Airdate:</b>Thu 05 Nov 1992<br>",
           "<b>Description:</b>When Marge takes a job at the<br>power plant, Mr. Burns falls in love with her;<br>Bart \"cries wolf\" to avoid taking a test.<br>"
          ],
          [
           "<b>Last Exit to Springfield</b><br>",
           "<b>Episode:</b> S4E17<br>",
           "<b>Airdate:</b>Thu 11 Mar 1993<br>",
           "<b>Description:</b>When Mr. Burns revokes the<br>plant's dental plan, forcing Lisa to be fitted<br>with cheap, ugly braces, Homer leads its union<br>into going on strike.<br>"
          ],
          [
           "<b>$pringfield (Or, How I Learned to Stop Worrying and Love Legalized Gambling)</b><br>",
           "<b>Episode:</b> S5E10<br>",
           "<b>Airdate:</b>Thu 16 Dec 1993<br>",
           "<b>Description:</b>Mr. Burns builds a casino when<br>Springfield decides to legalize gambling, with<br>Marge becoming addicted to the slot machines.<br>"
          ],
          [
           "<b>Burns' Heir</b><br>",
           "<b>Episode:</b> S5E18<br>",
           "<b>Airdate:</b>Thu 14 Apr 1994<br>",
           "<b>Description:</b>After coming close to death,<br>Mr. Burns decides than it's time to find an heir<br>to his empire, and chooses Bart because of his<br>truly devious nature.<br>"
          ],
          [
           "<b>Lady Bouvier's Lover</b><br>",
           "<b>Episode:</b> S5E21<br>",
           "<b>Airdate:</b>Thu 12 May 1994<br>",
           "<b>Description:</b>Grampa falls in love with<br>Marge's mother, but must compete with Mr. Burns<br>for her heart.<br>"
          ],
          [
           "<b>A Star Is Burns</b><br>",
           "<b>Episode:</b> S6E18<br>",
           "<b>Airdate:</b>Sun 05 Mar 1995<br>",
           "<b>Description:</b>The citizens of Springfield<br>host their own film festival, with popular movie<br>critic Jay Sherman arriving from New York to<br>judge.<br>"
          ],
          [
           "<b>Who Shot Mr. Burns? Part One</b><br>",
           "<b>Episode:</b> S6E25<br>",
           "<b>Airdate:</b>Sun 02 Jul 1995<br>",
           "<b>Description:</b>After Mr. Burns steals oil from<br>Springfield Elementary and blocks out the sun, an<br>unknown person shoots him.<br>"
          ],
          [
           "<b>Who Shot Mr. Burns? Part Two</b><br>",
           "<b>Episode:</b> S7E1<br>",
           "<b>Airdate:</b>Sun 01 Oct 1995<br>",
           "<b>Description:</b>Mr. Burns is laying in the<br>hospital while the investigation into his shooter<br>begins. Every citizen has motivation, but it's<br>Simpson DNA that has been found.<br>"
          ],
          [
           "<b>Raging Abe Simpson and His Grumbling Grandson in 'The Curse of the Flying Hellfish'</b><br>",
           "<b>Episode:</b> S7E22<br>",
           "<b>Airdate:</b>Sun 28 Jul 1996<br>",
           "<b>Description:</b>After surviving multiple<br>assassination attempts by Mr. Burns to inherit a<br>cache of artwork they stole from the Nazis, Grampa<br>teams up with Bart to recover the paintings.<br>"
          ],
          [
           "<b>Burns, Baby Burns</b><br>",
           "<b>Episode:</b> S8E4<br>",
           "<b>Airdate:</b>Sun 29 Dec 1996<br>",
           "<b>Description:</b>The Simpsons try to reunite Mr.<br>Burns with Larry, his slovenly long-lost son.<br>"
          ],
          [
           "<b>Mountain of Madness</b><br>",
           "<b>Episode:</b> S8E12<br>",
           "<b>Airdate:</b>Sun 09 Mar 1997<br>",
           "<b>Description:</b>Homer and Mr. Burns get trapped<br>in a snowed-in cabin during a company retreat.<br>"
          ],
          [
           "<b>Mom and Pop Art</b><br>",
           "<b>Episode:</b> S10E19<br>",
           "<b>Airdate:</b>Sun 06 Jun 1999<br>",
           "<b>Description:</b>Homer becomes the talk of the<br>Springfield art community when a failed barbecue<br>pit he worked on is mistaken for an art<br>project.<br>"
          ],
          [
           "<b>Monty Can't Buy Me Love</b><br>",
           "<b>Episode:</b> S10E21<br>",
           "<b>Airdate:</b>Sun 04 Jul 1999<br>",
           "<b>Description:</b>When a wealthy man moves to<br>Springfield, Mr. Burns begins to feel that he is<br>losing his grasp on the citizens and decides to<br>enlist the help of Homer.<br>"
          ],
          [
           "<b>The Mansion Family</b><br>",
           "<b>Episode:</b> S11E12<br>",
           "<b>Airdate:</b>Sun 16 Apr 2000<br>",
           "<b>Description:</b>Homer receives responsibility<br>for Mr. Burns' mansion when he is on leave and<br>takes Burns' yacht to international waters to have<br>a party.<br>"
          ],
          [
           "<b>Homer vs. Dignity</b><br>",
           "<b>Episode:</b> S12E5<br>",
           "<b>Airdate:</b>Sun 31 Dec 2000<br>",
           "<b>Description:</b>Desperate for money, Homer<br>accepts payment from Mr. Burns in exchange for<br>humiliating himself.<br>"
          ],
          [
           "<b>A Hunka Hunka Burns in Love</b><br>",
           "<b>Episode:</b> S13E4<br>",
           "<b>Airdate:</b>Sun 06 Jan 2002<br>",
           "<b>Description:</b>Mr. Burns falls in love with a<br>younger woman and recruits Homer to help him<br>impress her.<br>"
          ],
          [
           "<b>Weekend at Burnsie's</b><br>",
           "<b>Episode:</b> S13E16<br>",
           "<b>Airdate:</b>Sun 06 Oct 2002<br>",
           "<b>Description:</b>After a traumatizing eye<br>injury, Homer becomes a habitual user of medical<br>marijuana.<br>"
          ],
          [
           "<b>C.E.D'oh</b><br>",
           "<b>Episode:</b> S14E15<br>",
           "<b>Airdate:</b>Sun 08 Jun 2003<br>",
           "<b>Description:</b>Homer takes over the power<br>plant after tricking Mr. Burns into making him the<br>official owner of the power plant.<br>"
          ],
          [
           "<b>Fraudcast News</b><br>",
           "<b>Episode:</b> S15E22<br>",
           "<b>Airdate:</b>Sun 07 Nov 2004<br>",
           "<b>Description:</b>After Mr. Burns is erroneously<br>reported as dead, he buys all of he media outlets<br>in order to prevent them from writing scathing<br>articles about him.<br>"
          ],
          [
           "<b>The Last of the Red Hat Mamas</b><br>",
           "<b>Episode:</b> S17E7<br>",
           "<b>Airdate:</b>Sun 16 Apr 2006<br>",
           "<b>Description:</b>Milhouse tutors Lisa in<br>Italian, and Marge joins the Cheery Red Tomatoes,<br>a group that plans to rob Mr. Burns of one million<br>dollars worth of Fabergé eggs.<br>"
          ],
          [
           "<b>Crook and Ladder</b><br>",
           "<b>Episode:</b> S18E19<br>",
           "<b>Airdate:</b>Sun 06 May 2007<br>",
           "<b>Description:</b>Homer, Moe, Apu and Principal<br>Skinner become volunteer firefighters. But just<br>because they're not getting paid doesn't mean that<br>they can't find a way to receive compensation.<br>"
          ],
          [
           "<b>The Burns and the Bees</b><br>",
           "<b>Episode:</b> S20E8<br>",
           "<b>Airdate:</b>Sun 07 Dec 2008<br>",
           "<b>Description:</b>Mr. Burns wins a professional<br>basketball team in a poker game, and the new arena<br>he plans to have Springfield build for the team<br>threatens to interfere with Lisa's new bee<br>sanctuary.<br>"
          ],
          [
           "<b>American History X-cellent</b><br>",
           "<b>Episode:</b> S21E17<br>",
           "<b>Airdate:</b>Fri 18 Feb 2011<br>",
           "<b>Description:</b>Mr Burns is sent to prison for<br>art theft, where a scary inmate introduces him to<br>religion. Meanwhile Smithers becomes the boss at<br>the plant, and Bart and Lisa try to share an ant<br>farm.<br>"
          ],
          [
           "<b>The Fool Monty</b><br>",
           "<b>Episode:</b> S22E6<br>",
           "<b>Airdate:</b>Sun 21 Nov 2010<br>",
           "<b>Description:</b>After Mr. Burns finds out that<br>he is dying, he has an accident and loses his<br>memory, and all the townspeople use the situation<br>to get their revenge on him.<br>"
          ],
          [
           "<b>Them, Robot</b><br>",
           "<b>Episode:</b> S23E17<br>",
           "<b>Airdate:</b>Sun 18 Mar 2012<br>",
           "<b>Description:</b>Mr. Burns replaces all of the<br>nuclear plant employees with robots--except for<br>Homer, who stays along to supervise the robots and<br>serve as a human scapegoat.<br>"
          ],
          [
           "<b>Opposites A-Frack</b><br>",
           "<b>Episode:</b> S26E5<br>",
           "<b>Airdate:</b>Sun 02 Nov 2014<br>",
           "<b>Description:</b>An Assemblywoman brought in by<br>Lisa to stop Mr. Burns' fracking operation ends up<br>falling for him as much as he does for her.<br>"
          ],
          [
           "<b>The Musk Who Fell to Earth</b><br>",
           "<b>Episode:</b> S26E12<br>",
           "<b>Airdate:</b>Sun 15 Mar 2015<br>",
           "<b>Description:</b>Inventor Elon Musk comes to<br>Springfield, and Homer inspires him with a new<br>idea that could revolutionize Springfield, but<br>winds up costing Mr. Burns a ton of money.<br>"
          ],
          [
           "<b>Love Is in the N2-O2-Ar-CO2-Ne-He-CH4</b><br>",
           "<b>Episode:</b> S27E13<br>",
           "<b>Airdate:</b>Sun 14 Feb 2016<br>",
           "<b>Description:</b>Professor Frink's new invention<br>turns him into a ladies' man, while a new pill at<br>the Springfield Retirement Castle causes Grandpa<br>to hallucinate back to his happiest moments.<br>"
          ],
          [
           "<b>The Burns Cage</b><br>",
           "<b>Episode:</b> S27E17<br>",
           "<b>Airdate:</b>Sun 03 Apr 2016<br>",
           "<b>Description:</b>Homer tries to raise Smithers'<br>spirits by finding him a man, and Lisa gets the<br>lead in the school production of \"Casablanca\"<br>alongside a new male student, sparking Millhouse's<br>jealousy.<br>"
          ],
          [
           "<b>Monty Burns' Fleeing Circus</b><br>",
           "<b>Episode:</b> S28E1<br>",
           "<b>Airdate:</b>Sun 25 Sep 2016<br>",
           "<b>Description:</b>Mr. Burns puts on a variety<br>show at the Springfield Bowl.<br>"
          ],
          [
           "<b>Friends and Family</b><br>",
           "<b>Episode:</b> S28E2<br>",
           "<b>Airdate:</b>Sun 02 Oct 2016<br>",
           "<b>Description:</b>Homer finds a new friend in a<br>woman who acts just like him when Mr. Burns hires<br>the other Simpsons as his live-in virtual reality<br>family.<br>"
          ],
          [
           "<b>The Great Phatsby (part 1)</b><br>",
           "<b>Episode:</b> S28E12<br>",
           "<b>Airdate:</b>Sun 15 Jan 2017<br>",
           "<b>Description:</b>Mr Burns tries to relive his<br>glory days, and crosses paths with a mysterious<br>music mogul.<br>"
          ],
          [
           "<b>The Caper Chase</b><br>",
           "<b>Episode:</b> S28E19<br>",
           "<b>Airdate:</b>Sun 02 Apr 2017<br>",
           "<b>Description:</b>Mr. Burns opens his own for-<br>profit university, hiring the completely<br>unqualified Homer as a professor, only to lose him<br>to a mad scientist.<br>"
          ],
          [
           "<b>Frink Gets Testy</b><br>",
           "<b>Episode:</b> S29E11<br>",
           "<b>Airdate:</b>Fri 09 Mar 2018<br>",
           "<b>Description:</b>Mr. Burns builds a doomsday ark<br>after he believes the world is ending; Professor<br>Frink is tasked with determining who is worth<br>saving.<br>"
          ],
          [
           "<b>Frinkcoin</b><br>",
           "<b>Episode:</b> S31E13<br>",
           "<b>Airdate:</b>Fri 03 Apr 2020<br>",
           "<b>Description:</b>Professor Frink invents a<br>cryptocurrency that makes him the richest man in<br>Springfield, a title Mr. Burns has no intention of<br>giving up.<br>"
          ],
          [
           "<b>Undercover Burns</b><br>",
           "<b>Episode:</b> S32E1<br>",
           "<b>Airdate:</b>Fri 15 Jan 2021<br>",
           "<b>Description:</b>Mr. Burns goes undercover at<br>the power plant as an employee named Fred and<br>befriends Homer and the gang, but a jealous<br>Smithers plots to bring the old Burns back.<br>"
          ],
          [
           "<b>Burger Kings</b><br>",
           "<b>Episode:</b> S32E18<br>",
           "<b>Airdate:</b>Fri 07 May 2021<br>",
           "<b>Description:</b>Mr. Burns joins the plant-based<br>burger business, convincing Lisa that he's changed<br>for the better.<br>"
          ],
          [
           "<b>The Longest Marge</b><br>",
           "<b>Episode:</b> S33E11<br>",
           "<b>Airdate:</b>Sun 20 Mar 2022<br>",
           "<b>Description:</b>Marge battles Mr. Burns for the<br>soul of a brash young football prodigy.<br>"
          ],
          [
           "",
           33.986328125,
           "",
           ""
          ]
         ],
         "hovertemplate": "%{customdata[0]}%{customdata[1]}%{customdata[2]}%{customdata[3]}<extra></extra>",
         "marker": {
          "opacity": 0.75,
          "size": 5
         },
         "mode": "markers+text",
         "name": "2_burns_mr burns_mr",
         "text": [
          "",
          "",
          "",
          "",
          "",
          "",
          "",
          "",
          "",
          "",
          "",
          "",
          "",
          "",
          "",
          "",
          "",
          "",
          "",
          "",
          "",
          "",
          "",
          "",
          "",
          "",
          "",
          "",
          "",
          "",
          "",
          "",
          "",
          "",
          "",
          "",
          "",
          "",
          "",
          "",
          "",
          "",
          "2_burns_mr burns_mr"
         ],
         "textfont": {
          "size": 12
         },
         "type": "scatter3d",
         "x": [
          -147.99139404296875,
          -78.84095764160156,
          -119.9848861694336,
          -120.58988952636719,
          -60.752567291259766,
          -93.51878356933594,
          -87.23067474365234,
          -127.97425079345703,
          -63.139286041259766,
          -116.47380065917969,
          -124.29998016357422,
          -134.55148315429688,
          -87.0512924194336,
          -85.02388000488281,
          -59.853912353515625,
          -72.59613037109375,
          -100.96665954589844,
          -113.41483306884766,
          -108.32893371582031,
          -72.4169692993164,
          -89.26764678955078,
          -104.972412109375,
          -136.01243591308594,
          -91.59127807617188,
          -106.28349304199219,
          -116.2058334350586,
          -102.09021759033203,
          -106.28522491455078,
          -111.51274108886719,
          -71.80987548828125,
          -98.18816375732422,
          -118.63008117675781,
          -100.24417114257812,
          -118.22541809082031,
          -86.64990997314453,
          -114.1167984008789,
          -114.5063705444336,
          -119.0001220703125,
          -127.04340362548828,
          -103.01747131347656,
          -120.43978118896484,
          -70.87023162841797,
          ""
         ],
         "y": [
          -15.725122451782227,
          13.590249061584473,
          16.969146728515625,
          -3.0796761512756348,
          17.5655574798584,
          8.114591598510742,
          -13.659867286682129,
          -0.7396370768547058,
          21.851837158203125,
          62.99021911621094,
          41.713279724121094,
          41.15882110595703,
          26.097841262817383,
          32.83268356323242,
          90.2685546875,
          -31.755767822265625,
          -14.881597518920898,
          -5.859675407409668,
          -17.256832122802734,
          10.596206665039062,
          -8.258150100708008,
          16.141681671142578,
          26.191041946411133,
          54.51895523071289,
          -33.211063385009766,
          45.81962585449219,
          31.369394302368164,
          -10.883185386657715,
          18.161367416381836,
          52.24433898925781,
          10.167672157287598,
          29.396162033081055,
          42.51377487182617,
          62.05535888671875,
          39.186607360839844,
          5.50417947769165,
          10.046761512756348,
          16.208486557006836,
          20.41584014892578,
          27.169347763061523,
          32.51261520385742,
          30.019899368286133,
          -102.42769622802734
         ],
         "z": [
          42.55891799926758,
          39.6824951171875,
          24.06505584716797,
          -6.795403003692627,
          26.233592987060547,
          31.158151626586914,
          50.88084411621094,
          27.970190048217773,
          12.459113121032715,
          33.70262145996094,
          36.74209213256836,
          33.67565155029297,
          53.732879638671875,
          18.63844871520996,
          17.297391891479492,
          72.6856918334961,
          54.528812408447266,
          22.46017837524414,
          36.51888656616211,
          14.69676685333252,
          36.0601692199707,
          21.021968841552734,
          37.286155700683594,
          26.237457275390625,
          39.068355560302734,
          15.602548599243164,
          39.007286071777344,
          68.90373229980469,
          9.064187049865723,
          42.59148025512695,
          5.224232196807861,
          76.5137939453125,
          27.120134353637695,
          19.717266082763672,
          5.970005512237549,
          74.45549011230469,
          48.790653228759766,
          66.89881134033203,
          60.16572952270508,
          24.873458862304688,
          11.339159965515137,
          28.62139320373535,
          19.001943588256836
         ]
        },
        {
         "customdata": [
          [
           "<b>Treehouse of Horror</b><br>",
           "<b>Episode:</b> S2E3<br>",
           "<b>Airdate:</b>Tue 19 Nov 1991<br>",
           "<b>Description:</b>The Simpsons move into a cursed<br>house, then are abducted by aliens, before Homer<br>is ensconced in a tale by Edgar Allen Poe.<br>"
          ],
          [
           "<b>Treehouse of Horror II</b><br>",
           "<b>Episode:</b> S3E7<br>",
           "<b>Airdate:</b>Fri 20 Nov 1992<br>",
           "<b>Description:</b>The Simpson family receives a<br>severed monkey's paw which can grant wishes, Bart<br>gains magical powers which he uses to turn Homer<br>into a Jack-in-the-box, and Mr. Burns uses Homer's<br>brain to create a robot.<br>"
          ],
          [
           "<b>Treehouse of Horror III</b><br>",
           "<b>Episode:</b> S4E5<br>",
           "<b>Airdate:</b>Thu 29 Oct 1992<br>",
           "<b>Description:</b>An evil Krusty the Clown doll<br>tries to kill Homer; Marge is captured by a giant<br>ape who falls in love with her; Bart inadvertently<br>raises the dead.<br>"
          ],
          [
           "<b>Treehouse of Horror IV</b><br>",
           "<b>Episode:</b> S5E5<br>",
           "<b>Airdate:</b>Thu 28 Oct 1993<br>",
           "<b>Description:</b>Homer sells his soul to the<br>Devil for a donut, Bart contends with a gremlin on<br>the side of the school bus which only he can see,<br>and the family discovers that Mr. Burns is a<br>vampire.<br>"
          ],
          [
           "<b>Treehouse of Horror V</b><br>",
           "<b>Episode:</b> S6E6<br>",
           "<b>Airdate:</b>Sun 30 Oct 1994<br>",
           "<b>Description:</b>The family's job at Mr. Burns'<br>country estate goes awry when Homer goes mad;<br>Homer's attempt to repair a toaster results in<br>inadvertent time travel; The school staff turn<br>cannibalistic.<br>"
          ],
          [
           "<b>Treehouse of Horror VI</b><br>",
           "<b>Episode:</b> S7E6<br>",
           "<b>Airdate:</b>Sun 05 Nov 1995<br>",
           "<b>Description:</b>A lightning storm causes giant<br>advertising mascots to come to life; The children<br>are terrorized by Groundskeeper Willie in their<br>dreams; Homer finds himself trapped in another<br>dimension.<br>"
          ],
          [
           "<b>Treehouse of Horror VII</b><br>",
           "<b>Episode:</b> S8E1<br>",
           "<b>Airdate:</b>Sun 03 Nov 1996<br>",
           "<b>Description:</b>Bart's Siamese twin swells in<br>the attic; Lisa's science experiment creates a<br>miniature universe of advanced civilization;<br>aliens possess Clinton and Dole.<br>"
          ],
          [
           "<b>Treehouse of Horror VIII</b><br>",
           "<b>Episode:</b> S9E4<br>",
           "<b>Airdate:</b>Sun 02 Nov 1997<br>",
           "<b>Description:</b>Homer battles mutants after<br>Springfield is annihilated by a neutron bomb; Bart<br>has his DNA mixed with a fly; Marge is revealed to<br>be a witch in colonial Springfield.<br>"
          ],
          [
           "<b>Treehouse of Horror IX</b><br>",
           "<b>Episode:</b> S10E4<br>",
           "<b>Airdate:</b>Sun 01 Nov 1998<br>",
           "<b>Description:</b>Homer receives an evil hair<br>transplant; Bart and Lisa get trapped in an Itchy<br>and Scratchy cartoon; Maggie is revealed to be an<br>alien.<br>"
          ],
          [
           "<b>Treehouse of Horror X</b><br>",
           "<b>Episode:</b> S11E4<br>",
           "<b>Airdate:</b>Sat 15 Jan 2000<br>",
           "<b>Description:</b>The Simpsons attempt to cover<br>up their accidental murder of Ned Flanders. Bart<br>and Lisa acquire super powers. An electronic<br>apocalypse threatens Springfield.<br>"
          ],
          [
           "<b>Treehouse of Horror XI</b><br>",
           "<b>Episode:</b> S12E1<br>",
           "<b>Airdate:</b>Sun 17 Dec 2000<br>",
           "<b>Description:</b>Homer must do one good deed to<br>get into Heaven; Bart and Lisa encounter a witch<br>in a gingerbread house; Super-intelligent dolphins<br>strike back at humanity.<br>"
          ],
          [
           "<b>Lisa the Treehugger</b><br>",
           "<b>Episode:</b> S12E4<br>",
           "<b>Airdate:</b>Sun 24 Dec 2000<br>",
           "<b>Description:</b>Lisa's crush on an<br>environmental activist inspires her to live in a<br>tree threatened by loggers.<br>"
          ],
          [
           "<b>Treehouse of Horror XII</b><br>",
           "<b>Episode:</b> S13E1<br>",
           "<b>Airdate:</b>Sun 18 Nov 2001<br>",
           "<b>Description:</b>A gypsy puts a curse on Homer;<br>The Simpsons' new automated house malfunctions and<br>tries to kill Homer; Bart and Lisa attend a school<br>for wizards.<br>"
          ],
          [
           "<b>Treehouse of Horror XIII</b><br>",
           "<b>Episode:</b> S14E1<br>",
           "<b>Airdate:</b>Sun 17 Nov 2002<br>",
           "<b>Description:</b>Homer clones himself with a<br>magic hammock; Zombie cowboys come back from the<br>dead after Springfield bans guns; The Simpsons<br>family take a vacation on an island where Dr.<br>Hibbert can turn people into animals.<br>"
          ],
          [
           "<b>Treehouse of Horror XIV</b><br>",
           "<b>Episode:</b> S15E1<br>",
           "<b>Airdate:</b>Sun 16 Nov 2003<br>",
           "<b>Description:</b>First, Homer kills the Grim<br>Reaper and takes his place in Reaper Madness.<br>Then, Professor Frink's father is revived, only to<br>kill people and steal their organs in<br>Frinkenstein. Finally, Bart and Milhouse get a<br>stop watch that can stop time in Stop the World, I<br>Want To Goof Off.<br>"
          ],
          [
           "<b>Treehouse of Horror XV</b><br>",
           "<b>Episode:</b> S16E1<br>",
           "<b>Airdate:</b>Sun 05 Dec 2004<br>",
           "<b>Description:</b>Ned gains the power to foresee<br>people's deaths; Maggie is shrunk inside a vitamin<br>capsule and swallowed; Eliza Simpson and her<br>sidekick hunt down a murderer.<br>"
          ],
          [
           "<b>Treehouse of Horror XVI</b><br>",
           "<b>Episode:</b> S17E4<br>",
           "<b>Airdate:</b>Sun 18 Dec 2005<br>",
           "<b>Description:</b>An android son replaces Bart;<br>Homer and friends are the quarry in Mr. Burns'<br>hunting tournament; a witch turns townsfolk into<br>their Halloween costumes.<br>"
          ],
          [
           "<b>Treehouse of Horror XVII</b><br>",
           "<b>Episode:</b> S18E4<br>",
           "<b>Airdate:</b>Sun 12 Nov 2006<br>",
           "<b>Description:</b>A meteorite turns Homer into a<br>rampaging blob with a voracious appetite; Bart<br>brings a Golem to life; an alien invasion hoax<br>turns real.<br>"
          ],
          [
           "<b>Treehouse of Horror XVIII</b><br>",
           "<b>Episode:</b> S19E5<br>",
           "<b>Airdate:</b>Sun 04 Nov 2007<br>",
           "<b>Description:</b>The eighteenth Simpsons<br>Halloween Special features parodies of the movies<br>\"E.T.\" and \"Mr. and Mrs. Smith.\"<br>"
          ],
          [
           "<b>Treehouse of Horror XIX</b><br>",
           "<b>Episode:</b> S20E4<br>",
           "<b>Airdate:</b>Sun 02 Nov 2008<br>",
           "<b>Description:</b>The Simpsons' 19th Halloween<br>Special, with parodies of \"Transformers,\" \"Mad<br>Men,\" and \"It's the Great Pumpkin, Charlie<br>Brown.\"<br>"
          ],
          [
           "<b>Treehouse of Horror XX</b><br>",
           "<b>Episode:</b> S21E4<br>",
           "<b>Airdate:</b>Sun 18 Oct 2009<br>",
           "<b>Description:</b>Lisa becomes livid with Miss<br>Hoover, and in a series of homages to classic<br>Hitchcock sets out for deadly revenge. Next,<br>Krusty's latest fast-food sandwich transforms news<br>anchor Kent Brockman into an enraged zombie and<br>twenty-eight days later, cannibal zombies have<br>overrun Springfield. In the final frightening<br>fable, Homer accidentally falls through a trapdoor<br>in Moe's tavern and impales himself on the pipes<br>of Moe's microbrewery. Moe serves the barflies a<br>glass of delicious beer flavored with Homer's<br>blood and Homer, now half-man, half-brewing<br>apparatus, returns for vengeance.<br>"
          ],
          [
           "<b>Treehouse of Horror XXI</b><br>",
           "<b>Episode:</b> S22E4<br>",
           "<b>Airdate:</b>Sun 07 Nov 2010<br>",
           "<b>Description:</b>A Satanic board game causes<br>other popular board games to come to life, Homer<br>and Marge rescue a possible killer and let him on<br>their boat, and a parody of \"Twilight\" where Lisa<br>falls for a young vampire.<br>"
          ],
          [
           "<b>Treehouse of Horror XXII</b><br>",
           "<b>Episode:</b> S23E3<br>",
           "<b>Airdate:</b>Sun 30 Oct 2011<br>",
           "<b>Description:</b>Homer takes a dangerous dive<br>into an isolated canyon on Candy Peak, but when a<br>crashing boulder traps his arm, he channels Aron<br>Ralston to save himself. In \"The Diving Bell and<br>Butterball,\" the first of three hair-raising<br>Halloween tales, a venomous spider bite leaves<br>Homer paralyzed, but when Lisa discovers Homer's<br>ability to communicate through natural gases, he<br>is able to express his love for Marge. The killer<br>spells continue in \"Dial D for Diddly,\" when Ned<br>Flanders, devout preacher by day, transforms into<br>a cold-blooded vigilante by night. In the final<br>terrifying tale, \"In the Na'Vi,\" Bart and Milhouse<br>are sent on a mission to obtain a sacred extract<br>on a distant planet. They morph into the land's<br>indigenous one-eyed avatars, but when Bart finds<br>love and an eternal mate abroad, he is caught in<br>planet warfare.<br>"
          ],
          [
           "<b>Treehouse of Horror XXIII</b><br>",
           "<b>Episode:</b> S24E2<br>",
           "<b>Airdate:</b>Sun 24 Mar 2013<br>",
           "<b>Description:</b>A black hole threatens to<br>swallow Springfield, Homer tries to find the<br>source of paranormal activity, and a \"Back to the<br>Future\" parody in which Bart keeps Marge from<br>marrying Homer.<br>"
          ],
          [
           "<b>Treehouse of Horror XXIV</b><br>",
           "<b>Episode:</b> S25E2<br>",
           "<b>Airdate:</b>Sun 20 Apr 2014<br>",
           "<b>Description:</b>The scariest Simpsons Halloween<br>show yet, featuring an opening by Guillermo Del<br>Toro.<br>"
          ],
          [
           "<b>Treehouse of Horror XXV</b><br>",
           "<b>Episode:</b> S26E4<br>",
           "<b>Airdate:</b>Sun 19 Oct 2014<br>",
           "<b>Description:</b>The 25th annual 'Simpsons'<br>Halloween special includes an alternate dimension,<br>a \"Clockwork Orange\"-style gang led by Moe and a<br>visit from the Tracey Ullman-era Simpsons.<br>"
          ],
          [
           "<b>Halloween of Horror</b><br>",
           "<b>Episode:</b> S27E4<br>",
           "<b>Airdate:</b>Sun 18 Oct 2015<br>",
           "<b>Description:</b>The Simpsons are proud to be<br>the most festively decorated house on the block.<br>But when Lisa is traumatized at Krustyland Horror<br>Night, she feels she cannot handle Halloween<br>anymore.<br>"
          ],
          [
           "<b>Treehouse of Horror XXVI</b><br>",
           "<b>Episode:</b> S27E5<br>",
           "<b>Airdate:</b>Sun 25 Oct 2015<br>",
           "<b>Description:</b>After killing Bart, Sideshow<br>Bob doesn't know what to do with himself; Homer<br>wakes up with short-term memory loss; Because of<br>radiation, Lisa, Bart and Milhouse gain super-<br>powers.<br>"
          ],
          [
           "<b>Treehouse of Horror XXVII</b><br>",
           "<b>Episode:</b> S28E4<br>",
           "<b>Airdate:</b>Sun 16 Oct 2016<br>",
           "<b>Description:</b>The children of Springfield<br>fight to the death, Hunger Games style; Lisa's<br>imaginary friend kills her real friends; Moe<br>recruits Bart into his group of covert barfly<br>agents.<br>"
          ],
          [
           "<b>The Nightmare After Krustmas</b><br>",
           "<b>Episode:</b> S28E10<br>",
           "<b>Airdate:</b>Sun 11 Dec 2016<br>",
           "<b>Description:</b>Krusty and his daughter spend<br>Christmas with the Simpsons; Reverend Lovejoy<br>seeks converts to boost attendance at church; A<br>Christmas toy scares Maggie.<br>"
          ],
          [
           "<b>Treehouse of Horror XXVIII</b><br>",
           "<b>Episode:</b> S29E4<br>",
           "<b>Airdate:</b>Fri 19 Jan 2018<br>",
           "<b>Description:</b>Maggie gets possessed by a<br>demon; Lisa discovers a creepy/perfect version of<br>her family in an alternative universe; Homer<br>cannibalizes himself.<br>"
          ],
          [
           "<b>Treehouse of Horror XXIX</b><br>",
           "<b>Episode:</b> S30E4<br>",
           "<b>Airdate:</b>Fri 22 Feb 2019<br>",
           "<b>Description:</b>Homer wins an oyster-eating<br>contest against the mythical Cthulhu, Springfield<br>is overrun by plant body-snatchers, Lisa finally<br>snaps and Mr. Burns opens a retirement home with<br>some Jurassic upgrades.<br>"
          ],
          [
           "<b>Treehouse of Horror XXX</b><br>",
           "<b>Episode:</b> S31E4<br>",
           "<b>Airdate:</b>Fri 07 Feb 2020<br>",
           "<b>Description:</b>The 30th Treehouse of Horror<br>features a demon Maggie, a mission to rescue<br>Milhouse from another dimension, dead-Homer's<br>spirit trying on some new bodies for size and<br>Selma finally finding love in an unlikely place -<br>the alien in the basement.<br>"
          ],
          [
           "<b>Thanksgiving of Horror</b><br>",
           "<b>Episode:</b> S31E8<br>",
           "<b>Airdate:</b>Fri 28 Feb 2020<br>",
           "<b>Description:</b>The Simpsons face various<br>Thanksgiving nightmares, including the first<br>Thanksgiving, an A.I. mishap and a dangerous space<br>mission complicated by a sentient cranberry<br>sauce.<br>"
          ],
          [
           "<b>Treehouse of Horror XXXI</b><br>",
           "<b>Episode:</b> S32E4<br>",
           "<b>Airdate:</b>Fri 05 Feb 2021<br>",
           "<b>Description:</b>The 31st annual Simpsons<br>Halloween special includes a frightening look at<br>the 2020 election, parodies of Pixar and Spider-<br>Man: Into the Spider-Verse and a ninth birthday<br>Lisa just can't get over.<br>"
          ],
          [
           "<b>Treehouse of Horror XXXII</b><br>",
           "<b>Episode:</b> S33E3<br>",
           "<b>Airdate:</b>Sun 30 Jan 2022<br>",
           "<b>Description:</b>The 32nd annual Simpsons<br>Halloween special includes a spoof of \"Parasite\"<br>and a segment where Bambi gets his revenge.<br>"
          ],
          [
           "",
           -27.572601318359375,
           "",
           ""
          ]
         ],
         "hovertemplate": "%{customdata[0]}%{customdata[1]}%{customdata[2]}%{customdata[3]}<extra></extra>",
         "marker": {
          "opacity": 0.75,
          "size": 5
         },
         "mode": "markers+text",
         "name": "3_treehouse_simpsons_homer",
         "text": [
          "",
          "",
          "",
          "",
          "",
          "",
          "",
          "",
          "",
          "",
          "",
          "",
          "",
          "",
          "",
          "",
          "",
          "",
          "",
          "",
          "",
          "",
          "",
          "",
          "",
          "",
          "",
          "",
          "",
          "",
          "",
          "",
          "",
          "",
          "",
          "",
          "3_treehouse_simpsons_homer"
         ],
         "textfont": {
          "size": 12
         },
         "type": "scatter3d",
         "visible": true,
         "x": [
          -39.14148712158203,
          -28.917591094970703,
          -18.890506744384766,
          -39.99800491333008,
          -52.4552001953125,
          -45.392982482910156,
          -33.979156494140625,
          -34.03228759765625,
          -31.092302322387695,
          -47.2542724609375,
          -52.1730842590332,
          -16.2110538482666,
          -48.6007194519043,
          -37.2273063659668,
          -59.23709487915039,
          -46.28498077392578,
          -48.81711196899414,
          -55.18965148925781,
          -26.984994888305664,
          -16.09571647644043,
          -34.42496109008789,
          -48.76130294799805,
          -25.46786880493164,
          -49.93281173706055,
          -18.553329467773438,
          -27.927886962890625,
          -6.030062675476074,
          -58.771209716796875,
          -63.31224060058594,
          -1.2863093614578247,
          -39.41279602050781,
          -71.33895874023438,
          -31.42180824279785,
          -1.3414944410324097,
          -15.717568397521973,
          -22.565956115722656,
          ""
         ],
         "y": [
          123.42858123779297,
          110.9058609008789,
          115.88021850585938,
          99.75756072998047,
          99.92747497558594,
          122.72727966308594,
          142.88047790527344,
          144.5349578857422,
          129.95199584960938,
          134.65826416015625,
          122.25634002685547,
          135.99574279785156,
          110.75984191894531,
          121.74979400634766,
          120.90194702148438,
          140.7299346923828,
          108.80296325683594,
          138.19924926757812,
          87.98687744140625,
          95.45258331298828,
          123.11417388916016,
          106.27394104003906,
          131.0037078857422,
          142.52175903320312,
          108.656494140625,
          99.91926574707031,
          106.09020233154297,
          130.9410400390625,
          111.33466339111328,
          109.63423919677734,
          118.66417694091797,
          130.05215454101562,
          110.09394073486328,
          113.30125427246094,
          96.00692749023438,
          110.11881256103516,
          -35.95116424560547
         ],
         "z": [
          -43.358726501464844,
          1.8300492763519287,
          -14.806361198425293,
          -7.685903549194336,
          3.543510675430298,
          -56.934852600097656,
          -42.723148345947266,
          -18.761085510253906,
          -29.60547637939453,
          -16.630373001098633,
          -31.252498626708984,
          -32.59971237182617,
          -42.3277473449707,
          7.938784122467041,
          1.164873480796814,
          -2.02431583404541,
          -7.679052829742432,
          -41.8353157043457,
          -59.22949981689453,
          -56.471981048583984,
          -14.369848251342773,
          -23.822261810302734,
          -8.53567123413086,
          -28.5327091217041,
          -46.24358367919922,
          -47.92668914794922,
          -34.255615234375,
          -15.156037330627441,
          -19.75287628173828,
          -19.406063079833984,
          -26.299285888671875,
          -36.183677673339844,
          -30.625600814819336,
          -52.10786056518555,
          -39.67201614379883,
          -60.274993896484375,
          118.20040893554688
         ]
        },
        {
         "customdata": [
          [
           "<b>Flaming Moe's</b><br>",
           "<b>Episode:</b> S3E10<br>",
           "<b>Airdate:</b>Thu 21 Nov 1991<br>",
           "<b>Description:</b>Moe claims a drink that Homer<br>invented is his own, with the drink making the bar<br>a local hot spot, but threatens his friendship<br>with Homer.<br>"
          ],
          [
           "<b>The Homer They Fall</b><br>",
           "<b>Episode:</b> S8E3<br>",
           "<b>Airdate:</b>Sun 24 Nov 1996<br>",
           "<b>Description:</b>Homer becomes a boxer after Moe<br>discovers his amazing ability to take a punch.<br>"
          ],
          [
           "<b>Homer vs. the 18th Amendment</b><br>",
           "<b>Episode:</b> S8E18<br>",
           "<b>Airdate:</b>Tue 17 Mar 1998<br>",
           "<b>Description:</b>After alcohol is banned in<br>Springfield, Homer adopts the moniker of the \"Beer<br>Baron\" to bootleg liquor, prompting an<br>investigation from an uptight Treasury agent.<br>"
          ],
          [
           "<b>Dumbbell Indemnity</b><br>",
           "<b>Episode:</b> S9E16<br>",
           "<b>Airdate:</b>Sun 19 Apr 1998<br>",
           "<b>Description:</b>Homer and Moe attempt insurance<br>fraud so that Moe can support his new girlfriend.<br>When Homer ends up in jail, Moe has to decide<br>whether or not to come forward.<br>"
          ],
          [
           "<b>Pygmoelian</b><br>",
           "<b>Episode:</b> S11E16<br>",
           "<b>Airdate:</b>Sun 04 Jun 2000<br>",
           "<b>Description:</b>Plastic surgery not only<br>transforms Moe the Bartender from ugly to hunky,<br>it helps gets him a job on a hit daytime<br>drama.<br>"
          ],
          [
           "<b>Homer the Moe</b><br>",
           "<b>Episode:</b> S13E3<br>",
           "<b>Airdate:</b>Sun 16 Dec 2001<br>",
           "<b>Description:</b>Homer and his friends are<br>forced to drink in the Simpsons' garage after Moe<br>the Bartender renovates his shady bar into a<br>hipster hangout.<br>"
          ],
          [
           "<b>Moe Baby Blues</b><br>",
           "<b>Episode:</b> S14E22<br>",
           "<b>Airdate:</b>Sun 26 Oct 2003<br>",
           "<b>Description:</b>After saving Maggie's life, Moe<br>develops a special bond with her, much to Homer's<br>dismay.<br>"
          ],
          [
           "<b>Mommie Beerest</b><br>",
           "<b>Episode:</b> S16E7<br>",
           "<b>Airdate:</b>Sun 27 Feb 2005<br>",
           "<b>Description:</b>Homer gives Moe an enormous<br>amount of money so he doesn't have to close<br>down.<br>"
          ],
          [
           "<b>The Seven-Beer Snitch</b><br>",
           "<b>Episode:</b> S16E14<br>",
           "<b>Airdate:</b>Sun 08 May 2005<br>",
           "<b>Description:</b>Springfield builds an opera<br>house, but since no-one attends it they convert it<br>into a prison. Old and forgotten laws are used to<br>fill the prison, and therefore Homer goes to jail<br>for kicking a can five times in a row. In jail,<br>Homer becomes a snitch<br>"
          ],
          [
           "<b>Moe'N'a Lisa</b><br>",
           "<b>Episode:</b> S18E6<br>",
           "<b>Airdate:</b>Sun 03 Dec 2006<br>",
           "<b>Description:</b>Lisa helps Moe become a<br>distinguished poet, but she turns on him when he<br>takes all the credit for his newfound<br>greatness.<br>"
          ],
          [
           "<b>Eeny Teeny Maya Moe</b><br>",
           "<b>Episode:</b> S20E16<br>",
           "<b>Airdate:</b>Sun 05 Apr 2009<br>",
           "<b>Description:</b>Moe begins dating a little<br>person he met on the Internet, while Maggie is<br>being bullied at the playground next to Moe's<br>where Homer is leaving her.<br>"
          ],
          [
           "<b>Moe Letter Blues</b><br>",
           "<b>Episode:</b> S21E21<br>",
           "<b>Airdate:</b>Sun 09 May 2010<br>",
           "<b>Description:</b>Homer, Apu and Reverend Lovejoy<br>all suspect that Moe may have left with one of<br>their wives after receiving a mysterious letter,<br>but which one is it?<br>"
          ],
          [
           "<b>Judge Me Tender</b><br>",
           "<b>Episode:</b> S21E23<br>",
           "<b>Airdate:</b>Sun 23 May 2010<br>",
           "<b>Description:</b>Moe's gruff and abrasive<br>personality makes him the perfect hyper-critical<br>judge, and lands him a spot on American Idol.<br>Meanwhile, Homer makes Marge uncomfortable when he<br>starts spending more time at home with Moe's now<br>closed.<br>"
          ],
          [
           "<b>Flaming Moe</b><br>",
           "<b>Episode:</b> S22E11<br>",
           "<b>Airdate:</b>Fri 04 Mar 2011<br>",
           "<b>Description:</b>Moe tries to keep his<br>'straightness' a secret when he opens a gay bar;<br>Skinner falls for a new teacher.<br>"
          ],
          [
           "<b>The Blue and the Gray</b><br>",
           "<b>Episode:</b> S22E13<br>",
           "<b>Airdate:</b>Sun 13 Feb 2011<br>",
           "<b>Description:</b>Moe employs Homer as his wing<br>man, only to find Homer has more luck with the<br>ladies than he does; Marge finds her first gray<br>hair.<br>"
          ],
          [
           "<b>Whiskey Business</b><br>",
           "<b>Episode:</b> S24E19<br>",
           "<b>Airdate:</b>Mon 17 Feb 2014<br>",
           "<b>Description:</b>A new makeover could put Moe in<br>a position to make big money, Bart fails at his<br>job of taking care of Grandpa, and Lisa fights the<br>shameless exploitation of Bleeding Gums Murphy's<br>likeness.<br>"
          ],
          [
           "<b>The Princess Guide</b><br>",
           "<b>Episode:</b> S26E15<br>",
           "<b>Airdate:</b>Sun 05 Apr 2015<br>",
           "<b>Description:</b>Moe falls in love with a<br>Nigerian princess whose father is working out a<br>uranium deal with Mr. Burns.<br>"
          ],
          [
           "<b>Waiting for Duffman</b><br>",
           "<b>Episode:</b> S26E17<br>",
           "<b>Airdate:</b>Sun 19 Apr 2015<br>",
           "<b>Description:</b>After \"Duffman\" retires, Homer<br>wins a reality competition to become his<br>replacement. But his contract states that he<br>cannot drink beer, which gives him a new<br>perspective on alcohol.<br>"
          ],
          [
           "<b>Moho House</b><br>",
           "<b>Episode:</b> S28E21<br>",
           "<b>Airdate:</b>Sun 07 May 2017<br>",
           "<b>Description:</b>Mr. Burns makes a bet with his<br>old friend that nothing can break Homer and Marge<br>apart. But that's where Moe comes in.<br>"
          ],
          [
           "<b>King Leer</b><br>",
           "<b>Episode:</b> S29E16<br>",
           "<b>Airdate:</b>Fri 20 Apr 2018<br>",
           "<b>Description:</b>Homer and Marge attempt to<br>reunite Moe with his troubled family.<br>"
          ],
          [
           "<b>From Russia Without Love</b><br>",
           "<b>Episode:</b> S30E6<br>",
           "<b>Airdate:</b>Fri 08 Mar 2019<br>",
           "<b>Description:</b>Bart, Nelson and Milhouse get a<br>mail-order bride for Moe as a hardcore prank.<br>"
          ],
          [
           "<b>The Last Barfighter</b><br>",
           "<b>Episode:</b> S32E22<br>",
           "<b>Airdate:</b>Fri 04 Jun 2021<br>",
           "<b>Description:</b>A secret society of bartenders<br>seeks revenge on Homer and his friends when Moe<br>breaks their most sacred rule.<br>"
          ],
          [
           "",
           -45.95962905883789,
           "",
           ""
          ]
         ],
         "hovertemplate": "%{customdata[0]}%{customdata[1]}%{customdata[2]}%{customdata[3]}<extra></extra>",
         "marker": {
          "opacity": 0.75,
          "size": 5
         },
         "mode": "markers+text",
         "name": "4_moe_homer_moes",
         "text": [
          "",
          "",
          "",
          "",
          "",
          "",
          "",
          "",
          "",
          "",
          "",
          "",
          "",
          "",
          "",
          "",
          "",
          "",
          "",
          "",
          "",
          "",
          "4_moe_homer_moes"
         ],
         "textfont": {
          "size": 12
         },
         "type": "scatter3d",
         "x": [
          -38.436683654785156,
          -34.29673385620117,
          -48.35953140258789,
          -49.78821563720703,
          -30.86590576171875,
          -48.78961181640625,
          -12.741999626159668,
          -40.62030029296875,
          -57.8951530456543,
          -18.7019100189209,
          -13.118782997131348,
          -17.230804443359375,
          -32.14317321777344,
          -27.177536010742188,
          -10.96550464630127,
          -41.03828811645508,
          -59.87617874145508,
          -45.9414176940918,
          -33.08635711669922,
          -27.685802459716797,
          -13.700837135314941,
          -60.2289924621582,
          ""
         ],
         "y": [
          -72.21509552001953,
          -63.28057861328125,
          -91.47795867919922,
          -52.13620376586914,
          -64.97489166259766,
          -73.37443542480469,
          -61.86720275878906,
          -60.18683624267578,
          -86.09283447265625,
          -57.05351638793945,
          -72.78401947021484,
          -46.7851676940918,
          -48.20281219482422,
          -75.1059341430664,
          -44.86674880981445,
          -54.462684631347656,
          26.71494483947754,
          -99.47268676757812,
          -45.508087158203125,
          -35.48844528198242,
          -57.07467269897461,
          -69.28378295898438,
          -34.66771697998047
         ],
         "z": [
          -54.07117462158203,
          -32.517066955566406,
          -53.74993896484375,
          -34.68138885498047,
          -81.5210952758789,
          -57.52210235595703,
          -42.057029724121094,
          -45.14698791503906,
          -66.70146942138672,
          -53.917903900146484,
          -53.142642974853516,
          -22.80103302001953,
          -51.6929817199707,
          -63.3900032043457,
          -39.44850540161133,
          -72.58086395263672,
          -1.4751627445220947,
          -43.16327667236328,
          -32.263145446777344,
          -35.20682907104492,
          -12.18465805053711,
          -61.8765869140625,
          -59.317256927490234
         ]
        },
        {
         "customdata": [
          [
           "<b>Simpsons Roasting on an Open Fire</b><br>",
           "<b>Episode:</b> S1E1<br>",
           "<b>Airdate:</b>Sun 17 Dec 1989<br>",
           "<b>Description:</b>Homer is forced to become a<br>department store Santa when Marge spends the<br>family's Christmas savings on removing Bart's<br>tattoo.<br>"
          ],
          [
           "<b>Bart's Dog Gets an F</b><br>",
           "<b>Episode:</b> S2E16<br>",
           "<b>Airdate:</b>Thu 07 Mar 1991<br>",
           "<b>Description:</b>After an uncontrollable Santa's<br>Little Helper destroys several important Simpson<br>possessions, Homer announces that he will be<br>thrown out of the house unless he completes<br>obedience training.<br>"
          ],
          [
           "<b>Dog of Death</b><br>",
           "<b>Episode:</b> S3E19<br>",
           "<b>Airdate:</b>Thu 12 Mar 1992<br>",
           "<b>Description:</b>After the Simpsons regret<br>paying for an expensive surgery for Santa's Little<br>Helper, he runs away from home and is trained by<br>Mr. Burns to become an attack dog.<br>"
          ],
          [
           "<b>Rosebud</b><br>",
           "<b>Episode:</b> S5E4<br>",
           "<b>Airdate:</b>Thu 21 Oct 1993<br>",
           "<b>Description:</b>After his birthday party goes<br>wrong, Mr. Burns begins to want his childhood toy,<br>a teddy bear named Bobo; Homer finds that Maggie<br>is in possession of the doll.<br>"
          ],
          [
           "<b>Bart Gets an Elephant</b><br>",
           "<b>Episode:</b> S5E17<br>",
           "<b>Airdate:</b>Thu 31 Mar 1994<br>",
           "<b>Description:</b>After Bart receives an elephant<br>as a prize for calling in to a radio station, the<br>animal proves to be too costly to care for and<br>Homer decides to sell it.<br>"
          ],
          [
           "<b>Two Dozen and One Greyhounds</b><br>",
           "<b>Episode:</b> S6E20<br>",
           "<b>Airdate:</b>Sun 09 Apr 1995<br>",
           "<b>Description:</b>Santa's Little Helper's new<br>mate has puppies, and Mr. Burns schemes to steal<br>them and make them into a coat.<br>"
          ],
          [
           "<b>The Canine Mutiny</b><br>",
           "<b>Episode:</b> S8E20<br>",
           "<b>Airdate:</b>Sun 22 Jun 1997<br>",
           "<b>Description:</b>When the items Bart purchased<br>with a fake credit card are repossessed, he claims<br>that Santa's Little Helper is the dog he bought<br>instead of his new pet, Laddie.<br>"
          ],
          [
           "<b>Old Yeller-Belly</b><br>",
           "<b>Episode:</b> S14E19<br>",
           "<b>Airdate:</b>Sun 07 Sep 2003<br>",
           "<b>Description:</b>Homer throws out Santa's Little<br>Helper for not saving him from a fire, but soon<br>the dog becomes Duff's new mascot.<br>"
          ],
          [
           "<b>Simpsons Christmas Stories</b><br>",
           "<b>Episode:</b> S17E9<br>",
           "<b>Airdate:</b>Sun 25 Dec 2005<br>",
           "<b>Description:</b>Homer tells the tale of the<br>first Christmas ever, while Grandpa pursues his<br>decade-old feud with Santa.<br>"
          ],
          [
           "<b>Stop, or My Dog Will Shoot!</b><br>",
           "<b>Episode:</b> S18E20<br>",
           "<b>Airdate:</b>Sun 13 May 2007<br>",
           "<b>Description:</b>Homer unwittingly drags the<br>family into a cornfield maze after attempting to<br>leave a boring Harvest fest that Marge brought<br>them to. When everyone except Homer escapes,<br>Santa's Little Helper rescues him and becomes the<br>town hero. So the Simpsons enroll him in Police<br>Dog Academy where he's teamed with Lou.<br>"
          ],
          [
           "<b>How Munched Is That Birdie in the Window?</b><br>",
           "<b>Episode:</b> S22E7<br>",
           "<b>Airdate:</b>Sun 28 Nov 2010<br>",
           "<b>Description:</b>Bart adopts a carrier pigeon,<br>but Santa's Little Helper eats it.<br>"
          ],
          [
           "<b>The Fight Before Christmas</b><br>",
           "<b>Episode:</b> S22E8<br>",
           "<b>Airdate:</b>Sun 19 Dec 2010<br>",
           "<b>Description:</b>Marge gets depressed when the<br>rest of the family does not get into the holiday<br>spirit, and she writes a letter, hoping to get<br>some help; Mr. Burns and Moe's new friend delay<br>the Simpsons as they attempt to travel to Hawaii<br>for the holiday.<br>"
          ],
          [
           "<b>Holidays of Future Passed</b><br>",
           "<b>Episode:</b> S23E9<br>",
           "<b>Airdate:</b>Sun 11 Dec 2011<br>",
           "<b>Description:</b>Thirty years in the future the<br>Simpsons get together for Christmas. Bart and Lisa<br>are struggling as parents to connect with their<br>children.<br>"
          ],
          [
           "<b>To Cur with Love</b><br>",
           "<b>Episode:</b> S24E8<br>",
           "<b>Airdate:</b>Sun 05 May 2013<br>",
           "<b>Description:</b>When Homer shows no remorse<br>over almost losing Santa's Little Helper, Grandpa<br>tells everyone the story of Homer's childhood<br>dog.<br>"
          ],
          [
           "<b>White Christmas Blues</b><br>",
           "<b>Episode:</b> S25E8<br>",
           "<b>Airdate:</b>Sun 18 May 2014<br>",
           "<b>Description:</b>When a sudden tourist spike<br>means that the family cannot afford Christmas, the<br>Simpsons open up their house to boarders.<br>"
          ],
          [
           "<b>Specs and the City</b><br>",
           "<b>Episode:</b> S25E11<br>",
           "<b>Airdate:</b>Sun 25 May 2014<br>",
           "<b>Description:</b>Mr. Burns' Christmas present to<br>his employees, a pair of augmented reality<br>glasses, places a strain on Homer and Marge's<br>relationship. Meanwhile, Bart wrestles with giving<br>a Valentine's Day card to Nelson.<br>"
          ],
          [
           "<b>The Winter of His Content</b><br>",
           "<b>Episode:</b> S25E14<br>",
           "<b>Airdate:</b>Sun 08 Jun 2014<br>",
           "<b>Description:</b>When Abe and two of his friends<br>move in with the Simpsons after the Springfield<br>Retirement Castle closes, Homer begins to embrace<br>their lifestyle. Meanwhile, Nelson initiates Bart<br>into the bully group after coming to his<br>defense.<br>"
          ],
          [
           "<b>I Won't Be Home for Christmas</b><br>",
           "<b>Episode:</b> S26E9<br>",
           "<b>Airdate:</b>Sun 28 Dec 2014<br>",
           "<b>Description:</b>Marge kicks Homer out of the<br>house for Christmas after he consoles Moe on<br>Christmas Eve instead of going home.<br>"
          ],
          [
           "<b>'Tis the 30th Season</b><br>",
           "<b>Episode:</b> S30E10<br>",
           "<b>Airdate:</b>Mon 24 Dec 2018<br>",
           "<b>Description:</b>Marge is determined to fix<br>Christmas following a failed Black Friday shopping<br>spree, but Homer and the kids surprise her with a<br>vacation in Florida.<br>"
          ],
          [
           "<b>The Way of the Dog</b><br>",
           "<b>Episode:</b> S31E22<br>",
           "<b>Airdate:</b>Fri 29 May 2020<br>",
           "<b>Description:</b>The Simpsons explore the tragic<br>past of Santa's Little Helper when he bites<br>Marge.<br>"
          ],
          [
           "<b>A Springfield Summer Christmas for Christmas</b><br>",
           "<b>Episode:</b> S32E10<br>",
           "<b>Airdate:</b>Thu 24 Dec 2020<br>",
           "<b>Description:</b>A cable channel films a<br>Christmas movie in Springfield and Skinner falls<br>in love.<br>"
          ],
          [
           "",
           18.904521942138672,
           "",
           ""
          ]
         ],
         "hovertemplate": "%{customdata[0]}%{customdata[1]}%{customdata[2]}%{customdata[3]}<extra></extra>",
         "marker": {
          "opacity": 0.75,
          "size": 5
         },
         "mode": "markers+text",
         "name": "5_christmas_dog_santas little",
         "text": [
          "",
          "",
          "",
          "",
          "",
          "",
          "",
          "",
          "",
          "",
          "",
          "",
          "",
          "",
          "",
          "",
          "",
          "",
          "",
          "",
          "",
          "5_christmas_dog_santas little"
         ],
         "textfont": {
          "size": 12
         },
         "type": "scatter3d",
         "x": [
          16.361188888549805,
          20.669509887695312,
          10.547951698303223,
          -19.832849502563477,
          6.898459434509277,
          25.17062759399414,
          31.316444396972656,
          21.71216583251953,
          5.12410831451416,
          8.889806747436523,
          63.656654357910156,
          26.03474998474121,
          39.17658615112305,
          3.908224582672119,
          28.19084930419922,
          4.869339466094971,
          11.01900863647461,
          26.93575096130371,
          28.935293197631836,
          1.5365781784057617,
          15.75295639038086,
          ""
         ],
         "y": [
          87.00492858886719,
          83.98615264892578,
          89.82958221435547,
          101.90365600585938,
          5.81171178817749,
          86.98497009277344,
          81.2596206665039,
          97.56283569335938,
          110.04114532470703,
          80.11927795410156,
          77.94612121582031,
          72.91334533691406,
          82.08289337158203,
          103.7995376586914,
          92.48574829101562,
          88.0643539428711,
          71.26283264160156,
          77.01335144042969,
          88.41234588623047,
          92.37248992919922,
          105.92011260986328,
          17.94635581970215
         ],
         "z": [
          12.405465126037598,
          26.3358154296875,
          49.12181854248047,
          13.338644027709961,
          109.46247863769531,
          52.11933898925781,
          36.791046142578125,
          29.65316390991211,
          19.718002319335938,
          32.42148208618164,
          46.70124053955078,
          -16.808605194091797,
          -31.333982467651367,
          28.83325958251953,
          -24.39948272705078,
          4.127192497253418,
          -12.980795860290527,
          -3.674999237060547,
          -6.420527458190918,
          42.71439743041992,
          -11.12998104095459,
          84.60842895507812
         ]
        },
        {
         "customdata": [
          [
           "<b>Krusty Gets Busted</b><br>",
           "<b>Episode:</b> S1E12<br>",
           "<b>Airdate:</b>Sun 29 Apr 1990<br>",
           "<b>Description:</b>After Krusty is found guilty of<br>robbing the Kwik-E-Mart following Homer's<br>eyewitness testimony, Bart and Lisa set out to<br>prove his innocence.<br>"
          ],
          [
           "<b>Like Father, Like Clown</b><br>",
           "<b>Episode:</b> S3E6<br>",
           "<b>Airdate:</b>Thu 24 Oct 1991<br>",
           "<b>Description:</b>Bart and Lisa try to reunite<br>Krusty the Clown with his father.<br>"
          ],
          [
           "<b>Krusty Gets Kancelled</b><br>",
           "<b>Episode:</b> S4E22<br>",
           "<b>Airdate:</b>Sun 20 Jun 1993<br>",
           "<b>Description:</b>When Krusty's show is canceled<br>after losing viewers to a ventriloquist and his<br>dummy, Bart and Lisa organize a celebrity-filled<br>comeback special for their favorite clown.<br>"
          ],
          [
           "<b>Bart Gets Famous</b><br>",
           "<b>Episode:</b> S5E12<br>",
           "<b>Airdate:</b>Thu 03 Feb 1994<br>",
           "<b>Description:</b>Bart becomes an overnight<br>sensation as the \"I didn't do it\" boy on Krusty<br>the Clown's show.<br>"
          ],
          [
           "<b>Homie the Clown</b><br>",
           "<b>Episode:</b> S6E15<br>",
           "<b>Airdate:</b>Sun 12 Feb 1995<br>",
           "<b>Description:</b>Homer becomes a Krusty the<br>Clown stand-in, but is mistaken for the real<br>Krusty by the Springfield mafia.<br>"
          ],
          [
           "<b>Bart the Fink</b><br>",
           "<b>Episode:</b> S7E15<br>",
           "<b>Airdate:</b>Sun 21 Apr 1996<br>",
           "<b>Description:</b>Krusty the Clown is left almost<br>broke after Bart inadvertently rats him out to the<br>IRS, forcing Krusty to take drastic action.<br>"
          ],
          [
           "<b>The Last Temptation of Krust</b><br>",
           "<b>Episode:</b> S9E15<br>",
           "<b>Airdate:</b>Sun 05 Apr 1998<br>",
           "<b>Description:</b>After a disastrous performance,<br>Krusty changes his image and becomes an edgy<br>stand-up.<br>"
          ],
          [
           "<b>Trash of the Titans</b><br>",
           "<b>Episode:</b> S9E22<br>",
           "<b>Airdate:</b>Sun 31 May 1998<br>",
           "<b>Description:</b>Homer becomes the sanitation<br>commissioner for Springfield. His ineptitude<br>pollutes the town and leads to a drastic<br>solution.<br>"
          ],
          [
           "<b>Insane Clown Poppy</b><br>",
           "<b>Episode:</b> S12E3<br>",
           "<b>Airdate:</b>Sun 19 Nov 2000<br>",
           "<b>Description:</b>After he learns he has a<br>daughter, Krusty turns to Homer for parenting<br>advice.<br>"
          ],
          [
           "<b>Day of the Jackanapes</b><br>",
           "<b>Episode:</b> S12E13<br>",
           "<b>Airdate:</b>Sun 22 Apr 2001<br>",
           "<b>Description:</b>When a new television game show<br>grows in popularity and begins to draw away<br>Krusty's TV audience e decided to retire from the<br>television business.<br>"
          ],
          [
           "<b>The Lastest Gun in the West</b><br>",
           "<b>Episode:</b> S13E12<br>",
           "<b>Airdate:</b>Sun 05 May 2002<br>",
           "<b>Description:</b>Bart meets a retired cowboy<br>movie star and convinces him to make a comeback on<br>The Krusty the Clown Show.<br>"
          ],
          [
           "<b>Mr. Spritz Goes to Washington</b><br>",
           "<b>Episode:</b> S14E14<br>",
           "<b>Airdate:</b>Sun 25 May 2003<br>",
           "<b>Description:</b>The family makes Krusty run for<br>Congress because of air traffic being redirected<br>to fly dangerously close to their house.<br>"
          ],
          [
           "<b>Today, I Am a Clown</b><br>",
           "<b>Episode:</b> S15E6<br>",
           "<b>Airdate:</b>Sun 08 Feb 2004<br>",
           "<b>Description:</b>Krusty decides to do what he<br>never did when he was thirteen years old - have a<br>Bar Mitzvah.<br>"
          ],
          [
           "<b>The Ten-Per-Cent Solution</b><br>",
           "<b>Episode:</b> S23E8<br>",
           "<b>Airdate:</b>Sun 04 Dec 2011<br>",
           "<b>Description:</b>Krusty the Clown is stuck in a<br>rut when the television network pulls his show<br>from the air and his talent agency drops him as a<br>client. But when the Simpsons introduce him to<br>seasoned agent Annie, they are surprised to learn<br>that Annie was Krusty's very first agent. Despite<br>their rocky relationship, Annie is convinced to<br>re-sign Krusty and craft his career comeback. But<br>when Krusty's retro comedy show reboot is deemed a<br>critical success, Krusty must decide to stay with<br>his agent or side with the network executives.<br>"
          ],
          [
           "<b>Clown in the Dumps</b><br>",
           "<b>Episode:</b> S26E1<br>",
           "<b>Airdate:</b>Sun 02 Nov 2014<br>",
           "<b>Description:</b>Krusty has a crisis of<br>conscience and retires from show business after<br>his father dies before ever approving of his<br>career. Meanwhile, Lisa becomes worried about<br>Homer's health and life expectancy.<br>"
          ],
          [
           "<b>Fears of a Clown</b><br>",
           "<b>Episode:</b> S29E14<br>",
           "<b>Airdate:</b>Fri 06 Apr 2018<br>",
           "<b>Description:</b>Bart goes to prankster rehab<br>after a clown-mask prank terrifies the town and<br>ruins Krusty's career causing him to give up<br>comedy and try serious drama.<br>"
          ],
          [
           "<b>Krusty the Clown</b><br>",
           "<b>Episode:</b> S30E8<br>",
           "<b>Airdate:</b>Fri 22 Mar 2019<br>",
           "<b>Description:</b>Krusty hides out at a circus<br>after he nearly kills Homer, who becomes a TV<br>recapper and gives him a bad grade.<br>"
          ],
          [
           "<b>The Clown Stays in the Picture</b><br>",
           "<b>Episode:</b> S30E14<br>",
           "<b>Airdate:</b>Fri 26 Apr 2019<br>",
           "<b>Description:</b>On Marc Maron's podcast, Krusty<br>reveals the untold story of his past movie<br>project, The Sands of Space. Hearing the podcast,<br>Bart and Lisa learn their parents were production<br>assistants on the movie in the early days of their<br>relationship.<br>"
          ],
          [
           "",
           -89.0573501586914,
           "",
           ""
          ]
         ],
         "hovertemplate": "%{customdata[0]}%{customdata[1]}%{customdata[2]}%{customdata[3]}<extra></extra>",
         "marker": {
          "opacity": 0.75,
          "size": 5
         },
         "mode": "markers+text",
         "name": "6_krusty_clown_krusty clown",
         "text": [
          "",
          "",
          "",
          "",
          "",
          "",
          "",
          "",
          "",
          "",
          "",
          "",
          "",
          "",
          "",
          "",
          "",
          "",
          "6_krusty_clown_krusty clown"
         ],
         "textfont": {
          "size": 12
         },
         "type": "scatter3d",
         "x": [
          -85.15144348144531,
          -54.5532112121582,
          -63.16040802001953,
          31.196849822998047,
          -78.50370025634766,
          -79.34185028076172,
          -73.10888671875,
          -74.00272369384766,
          -89.443603515625,
          -52.7548942565918,
          -73.80452728271484,
          -95.51422882080078,
          -87.6629638671875,
          -60.6911735534668,
          -72.5113754272461,
          -70.8974838256836,
          -77.47953033447266,
          -62.32125473022461,
          ""
         ],
         "y": [
          -27.53571891784668,
          -3.787104368209839,
          -21.032167434692383,
          -76.54000091552734,
          -21.980266571044922,
          -14.218031883239746,
          -37.39202117919922,
          0.7110923528671265,
          -12.696895599365234,
          -27.95439910888672,
          -46.44314193725586,
          -30.6153621673584,
          2.393120288848877,
          -23.509984970092773,
          -7.743980407714844,
          -4.1851420402526855,
          -20.787609100341797,
          4.45371675491333,
          -67.76146697998047
         ],
         "z": [
          -110.36624908447266,
          -90.75235748291016,
          -102.47542572021484,
          3.2163949012756348,
          -81.64930725097656,
          -110.36084747314453,
          -104.18269348144531,
          -71.36869812011719,
          -88.68585968017578,
          -109.45770263671875,
          -79.20005798339844,
          -91.3689193725586,
          -103.64994812011719,
          -83.88441467285156,
          -83.74024200439453,
          -110.58492279052734,
          -92.90061950683594,
          -91.62045288085938,
          -20.49243927001953
         ]
        },
        {
         "customdata": [
          [
           "<b>Dead Putting Society</b><br>",
           "<b>Episode:</b> S2E6<br>",
           "<b>Airdate:</b>Thu 15 Nov 1990<br>",
           "<b>Description:</b>In an attempt to show up Ned<br>Flanders, Homer pits Bart against Ned's son, Todd,<br>in a miniature golf competition.<br>"
          ],
          [
           "<b>When Flanders Failed</b><br>",
           "<b>Episode:</b> S3E3<br>",
           "<b>Airdate:</b>Thu 03 Oct 1991<br>",
           "<b>Description:</b>After wishing for Flanders to<br>lose his business, Homer discovers that his<br>neighbor is actually about to go bankrupt and<br>decides to help him out.<br>"
          ],
          [
           "<b>Homer Loves Flanders</b><br>",
           "<b>Episode:</b> S5E16<br>",
           "<b>Airdate:</b>Thu 17 Mar 1994<br>",
           "<b>Description:</b>After Flanders invites Homer to<br>a football game, the pair become friends, but<br>Homer's possessiveness and loutish behaviour<br>slowly turns Ned against him.<br>"
          ],
          [
           "<b>Hurricane Neddy</b><br>",
           "<b>Episode:</b> S8E8<br>",
           "<b>Airdate:</b>Sun 02 Feb 1997<br>",
           "<b>Description:</b>After a hurricane destroys Ned<br>Flanders' house, he suffers a nervous breakdown<br>and is forced to confront repressed problems from<br>his childhood.<br>"
          ],
          [
           "<b>Viva Ned Flanders</b><br>",
           "<b>Episode:</b> S10E10<br>",
           "<b>Airdate:</b>Sun 14 Mar 1999<br>",
           "<b>Description:</b>When Homer takes Ned to Las<br>Vegas in an attempt to get him to loosen up, the<br>two end up drunkenly marrying a pair of cocktail<br>waitresses.<br>"
          ],
          [
           "<b>Alone Again, Natura-Diddly</b><br>",
           "<b>Episode:</b> S11E14<br>",
           "<b>Airdate:</b>Sun 07 May 2000<br>",
           "<b>Description:</b>Ned deals with his grief after<br>Maude's untimely death.<br>"
          ],
          [
           "<b>I'm Goin' to Praiseland</b><br>",
           "<b>Episode:</b> S12E19<br>",
           "<b>Airdate:</b>Sun 15 Jul 2001<br>",
           "<b>Description:</b>With Homer's help, Flanders<br>tries to establish a Christian theme park based on<br>drawings in Maude's sketch book.<br>"
          ],
          [
           "<b>A Star Is Born Again</b><br>",
           "<b>Episode:</b> S14E13<br>",
           "<b>Airdate:</b>Sun 06 Apr 2003<br>",
           "<b>Description:</b>Ned Flanders starts dating a<br>famous movie star, but has difficulties with the<br>tabloids following them everywhere.<br>"
          ],
          [
           "<b>Dude, Where's My Ranch?</b><br>",
           "<b>Episode:</b> S14E18<br>",
           "<b>Airdate:</b>Sun 17 Aug 2003<br>",
           "<b>Description:</b>Homer writes a Christmas carol<br>called \"Everybody Hates Ned Flanders,\" which soon<br>becomes so popular that the family decides to<br>leave town for a while.<br>"
          ],
          [
           "<b>Homer and Ned's Hail Mary Pass</b><br>",
           "<b>Episode:</b> S16E8<br>",
           "<b>Airdate:</b>Sun 06 Mar 2005<br>",
           "<b>Description:</b>A video of Homer dancing<br>becomes so popular that all major sports players<br>hires Homer to design celebration dances for<br>them.<br>"
          ],
          [
           "<b>Home Away from Homer</b><br>",
           "<b>Episode:</b> S16E20<br>",
           "<b>Airdate:</b>Sun 24 Jul 2005<br>",
           "<b>Description:</b>After Homer humiliates Ned<br>Flanders, Ned, Rod, and Todd decides to leave<br>Springfield and live in Humbleton,<br>Pennsylvania.<br>"
          ],
          [
           "<b>The Greatest Story Ever D'ohed</b><br>",
           "<b>Episode:</b> S21E16<br>",
           "<b>Airdate:</b>Thu 20 May 2010<br>",
           "<b>Description:</b>Ned takes the Simpsons on a<br>pilgrimage to Israel in order to try and save<br>Homer, but soon discovers that he may not be worth<br>saving.<br>"
          ],
          [
           "<b>The Ned-Liest Catch</b><br>",
           "<b>Episode:</b> S22E22<br>",
           "<b>Airdate:</b>Sun 22 May 2011<br>",
           "<b>Description:</b>When Krabbapple gets suspended<br>and put into detention after hurting Bart, Bart<br>tries to break her out, but it ends that Flanders<br>is the one that saves her life. But soon, Ned<br>figures out that Edna has also dated other men<br>such as Homer, Skinner Comic Book Guy and<br>Aerosmith drummer Joey Kramer.<br>"
          ],
          [
           "<b>Ned 'N Edna's Blend Agenda</b><br>",
           "<b>Episode:</b> S23E21<br>",
           "<b>Airdate:</b>Sun 13 May 2012<br>",
           "<b>Description:</b>After Ned and Edna announce<br>publicly that they were secretly married, the two<br>clash over how to raise Rod and Todd.<br>"
          ],
          [
           "<b>Todd, Todd, Why Hast Thou Forsaken Me?</b><br>",
           "<b>Episode:</b> S31E9<br>",
           "<b>Airdate:</b>Fri 06 Mar 2020<br>",
           "<b>Description:</b>Todd blames God for his<br>mother's death and rejects his faith, so Ned sends<br>him to live with the Simpsons, hoping they can<br>scare him into believing in God again.<br>"
          ],
          [
           "<b>A Serious Flanders</b><br>",
           "<b>Episode:</b> S33E6<br>",
           "<b>Airdate:</b>Sun 20 Feb 2022<br>",
           "<b>Description:</b>Homer and Ned get sucked into<br>the violent world of prestige TV when a ruthless<br>debt collector comes to Springfield.<br>"
          ],
          [
           "<b>A Serious Flanders: Part 2</b><br>",
           "<b>Episode:</b> S33E7<br>",
           "<b>Airdate:</b>Sun 27 Feb 2022<br>",
           "<b>Description:</b>Things go from bad to worse for<br>Homer and Ned.<br>"
          ],
          [
           "",
           82.1860580444336,
           "",
           ""
          ]
         ],
         "hovertemplate": "%{customdata[0]}%{customdata[1]}%{customdata[2]}%{customdata[3]}<extra></extra>",
         "marker": {
          "opacity": 0.75,
          "size": 5
         },
         "mode": "markers+text",
         "name": "7_ned_flanders_ned flanders",
         "text": [
          "",
          "",
          "",
          "",
          "",
          "",
          "",
          "",
          "",
          "",
          "",
          "",
          "",
          "",
          "",
          "",
          "",
          "7_ned_flanders_ned flanders"
         ],
         "textfont": {
          "size": 12
         },
         "type": "scatter3d",
         "visible": true,
         "x": [
          -69.38346099853516,
          -52.25431442260742,
          -61.35159683227539,
          -73.21551513671875,
          -66.00745391845703,
          -56.4533576965332,
          -38.19525146484375,
          -54.09554672241211,
          -51.221954345703125,
          30.374919891357422,
          -60.4753532409668,
          -48.87074279785156,
          -61.530548095703125,
          -73.50421142578125,
          -53.40226745605469,
          -47.84374237060547,
          -57.001060485839844,
          ""
         ],
         "y": [
          26.766000747680664,
          21.60038948059082,
          14.043697357177734,
          30.818822860717773,
          6.621675968170166,
          18.83781623840332,
          38.33961868286133,
          -2.4705214500427246,
          33.95322799682617,
          -83.00819396972656,
          44.1054573059082,
          23.537540435791016,
          14.079170227050781,
          8.8384370803833,
          35.82979965209961,
          12.325984001159668,
          19.636512756347656,
          -52.613616943359375
         ],
         "z": [
          76.98933410644531,
          62.850181579589844,
          73.30648803710938,
          95.892822265625,
          86.00935363769531,
          116.34916687011719,
          78.94429779052734,
          93.06769561767578,
          82.68775177001953,
          -37.28317642211914,
          86.90478515625,
          98.26176452636719,
          101.60865020751953,
          106.06380462646484,
          107.22696685791016,
          83.66532135009766,
          84.6178207397461,
          15.52090835571289
         ]
        },
        {
         "customdata": [
          [
           "<b>Homer the Heretic</b><br>",
           "<b>Episode:</b> S4E3<br>",
           "<b>Airdate:</b>Thu 08 Oct 1992<br>",
           "<b>Description:</b>After attributing a relaxing<br>Sunday to his skipping church, Homer vows to never<br>attend service again, and forms his own religion<br>to justify his behavior.<br>"
          ],
          [
           "<b>The Joy of Sect</b><br>",
           "<b>Episode:</b> S9E13<br>",
           "<b>Airdate:</b>Sun 15 Mar 1998<br>",
           "<b>Description:</b>An evil cult called the<br>Movementarians brainwashes the citizens of<br>Springfield and it's up to Marge to get them<br>back.<br>"
          ],
          [
           "<b>Simpsons Bible Stories</b><br>",
           "<b>Episode:</b> S10E18<br>",
           "<b>Airdate:</b>Sun 23 May 1999<br>",
           "<b>Description:</b>Three famous religious stories<br>are retold Simpsons style as the family nods off<br>at church.<br>"
          ],
          [
           "<b>Missionary: Impossible</b><br>",
           "<b>Episode:</b> S11E15<br>",
           "<b>Airdate:</b>Sun 28 May 2000<br>",
           "<b>Description:</b>When Homer is wanted dead for<br>reneging on a 10,000 dollar pledge to PBS,<br>Reverend Lovejoy sets him up for missionary work<br>in the South Pacific until the heat dies down.<br>"
          ],
          [
           "<b>She of Little Faith</b><br>",
           "<b>Episode:</b> S13E6<br>",
           "<b>Airdate:</b>Sun 10 Feb 2002<br>",
           "<b>Description:</b>Homer and Bart get careless<br>with a model rocket and accidentally do damage to<br>Springfield's church, but when Mr. Burns offers to<br>commercialize it to repair the destruction, Lisa<br>leaves Christianity behind to become a<br>Buddhist.<br>"
          ],
          [
           "<b>Pray Anything</b><br>",
           "<b>Episode:</b> S14E10<br>",
           "<b>Airdate:</b>Sun 02 Mar 2003<br>",
           "<b>Description:</b>Homer turns to religion to help<br>him get what he wants, and is soon awarded the<br>church in an injury settlement. Homer then turns<br>the church into his personal party pad, and<br>Reverend Lovejoy leaves Springfield to wallow in<br>its hedonism.<br>"
          ],
          [
           "<b>Pulpit Friction</b><br>",
           "<b>Episode:</b> S24E18<br>",
           "<b>Airdate:</b>Sun 01 Dec 2013<br>",
           "<b>Description:</b>Springfield gets a bedbug<br>scare, the new assistant pastor at church appoints<br>Homer as a deacon, and Marge loses her wedding<br>dress.<br>"
          ],
          [
           "<b>Sky Police</b><br>",
           "<b>Episode:</b> S26E16<br>",
           "<b>Airdate:</b>Sun 12 Apr 2015<br>",
           "<b>Description:</b>The congregation, led by Marge,<br>is forced to resort to gambling in order to<br>collect money to fix the church, which Chief<br>Wiggum destroyed with a jet pack he received by<br>mistake.<br>"
          ],
          [
           "<b>My Way or the Highway to Heaven</b><br>",
           "<b>Episode:</b> S30E3<br>",
           "<b>Airdate:</b>Fri 15 Feb 2019<br>",
           "<b>Description:</b>While God and St. Peter discuss<br>who will get into heaven, the citizens of<br>Springfield recall divine encounters.<br>"
          ],
          [
           "<b>The Fat Blue Line</b><br>",
           "<b>Episode:</b> S31E3<br>",
           "<b>Airdate:</b>Fri 31 Jan 2020<br>",
           "<b>Description:</b>When the wrong man is arrested<br>for pickpocketing Springfield during the San<br>Castellaneta street festival, Chief Wiggum sets<br>out to catch the real criminal.<br>"
          ],
          [
           "<b>Warrin' Priests</b><br>",
           "<b>Episode:</b> S31E19<br>",
           "<b>Airdate:</b>Fri 08 May 2020<br>",
           "<b>Description:</b>Reverend Lovejoy investigates<br>the mysterious past of a new priest who's come to<br>town and shaken things up at church.<br>"
          ],
          [
           "<b>Warrin' Priests Part 2</b><br>",
           "<b>Episode:</b> S31E20<br>",
           "<b>Airdate:</b>Fri 15 May 2020<br>",
           "<b>Description:</b>In Michigan, Reverend Lovejoy<br>learns the true reason why Bode came to<br>Springfield and the congregation must decide<br>whether to banish their new priest.<br>"
          ],
          [
           "",
           10.915596008300781,
           "",
           ""
          ]
         ],
         "hovertemplate": "%{customdata[0]}%{customdata[1]}%{customdata[2]}%{customdata[3]}<extra></extra>",
         "marker": {
          "opacity": 0.75,
          "size": 5
         },
         "mode": "markers+text",
         "name": "8_church_lovejoy_reverend lovejoy",
         "text": [
          "",
          "",
          "",
          "",
          "",
          "",
          "",
          "",
          "",
          "",
          "",
          "",
          "8_church_lovejoy_reverend lovejoy"
         ],
         "textfont": {
          "size": 12
         },
         "type": "scatter3d",
         "x": [
          -34.661346435546875,
          -44.77527618408203,
          -21.485736846923828,
          -52.992557525634766,
          -44.27987289428711,
          -40.835391998291016,
          -38.93794250488281,
          -45.17703628540039,
          -30.154308319091797,
          -49.35014724731445,
          30.369781494140625,
          35.07679748535156,
          ""
         ],
         "y": [
          64.11701202392578,
          45.698360443115234,
          54.0787239074707,
          59.74773406982422,
          53.31983184814453,
          54.968563079833984,
          40.33431625366211,
          -85.0545654296875,
          65.88592529296875,
          -101.14594268798828,
          118.6836166381836,
          123.26707458496094,
          -28.100250244140625
         ],
         "z": [
          15.17480754852295,
          -19.24843978881836,
          33.725135803222656,
          19.587373733520508,
          0.7155652046203613,
          14.866096496582031,
          19.058576583862305,
          86.24468994140625,
          36.90965270996094,
          70.82154846191406,
          -77.60005187988281,
          -69.26780700683594,
          41.15838623046875
         ]
        },
        {
         "customdata": [
          [
           "<b>Black Widower</b><br>",
           "<b>Episode:</b> S3E21<br>",
           "<b>Airdate:</b>Sun 26 Apr 1992<br>",
           "<b>Description:</b>Sideshow Bob gets out of jail<br>and plots to take his revenge on Bart by marrying<br>his Aunt Selma and killing her.<br>"
          ],
          [
           "<b>Cape Feare</b><br>",
           "<b>Episode:</b> S5E2<br>",
           "<b>Airdate:</b>Thu 07 Oct 1993<br>",
           "<b>Description:</b>After being released from<br>prison on parole, Sideshow Bob plots to murder<br>Bart.<br>"
          ],
          [
           "<b>Sideshow Bob Roberts</b><br>",
           "<b>Episode:</b> S6E5<br>",
           "<b>Airdate:</b>Sun 13 Nov 1994<br>",
           "<b>Description:</b>When Sideshow Bob is released<br>from prison and is elected Mayor of Springfield,<br>Bart and Lisa suspect foul play and are determined<br>to expose his corruption.<br>"
          ],
          [
           "<b>Sideshow Bob's Last Gleaming</b><br>",
           "<b>Episode:</b> S7E9<br>",
           "<b>Airdate:</b>Sun 28 Jan 1996<br>",
           "<b>Description:</b>Sideshow Bob again escapes from<br>prison and takes control of a TV screen at an air<br>show, demanding all television stations<br>immediately go off the air.<br>"
          ],
          [
           "<b>Brother from Another Series</b><br>",
           "<b>Episode:</b> S8E16<br>",
           "<b>Airdate:</b>Sun 18 May 1997<br>",
           "<b>Description:</b>Bart suspects a paroled<br>Sideshow Bob is up to his old tricks when he is<br>hired by his brother Cecil to assist in the<br>construction of a dam.<br>"
          ],
          [
           "<b>The Great Louse Detective</b><br>",
           "<b>Episode:</b> S14E6<br>",
           "<b>Airdate:</b>Sun 12 Jan 2003<br>",
           "<b>Description:</b>Homer has to use Sideshow Bob<br>in order to track down a potential assassin.<br>"
          ],
          [
           "<b>The Italian Bob</b><br>",
           "<b>Episode:</b> S17E8<br>",
           "<b>Airdate:</b>Sun 15 Jan 2006<br>",
           "<b>Description:</b>The Simpsons become lost in<br>Italy, finding their way to a small town that<br>Sideshow Bob has become the mayor of.<br>"
          ],
          [
           "<b>Funeral for a Fiend</b><br>",
           "<b>Episode:</b> S19E8<br>",
           "<b>Airdate:</b>Sun 25 Nov 2007<br>",
           "<b>Description:</b>Bart is responsible for<br>Sideshow Bob's death after his latest attempt at<br>revenge is foiled, but is his death actually part<br>of the plan?<br>"
          ],
          [
           "<b>The Bob Next Door</b><br>",
           "<b>Episode:</b> S21E22<br>",
           "<b>Airdate:</b>Sun 16 May 2010<br>",
           "<b>Description:</b>Bart is convinced that the<br>Simpsons' new friendly, unassuming neighbor is<br>actually Sideshow Bob in disguise.<br>"
          ],
          [
           "<b>Bobby, It's Cold Outside</b><br>",
           "<b>Episode:</b> S31E10<br>",
           "<b>Airdate:</b>Fri 13 Mar 2020<br>",
           "<b>Description:</b>Sideshow Bob gets the role of<br>Santa Claus at Santa's Village amusement park.<br>Meanwhile, someone is stealing all the Christmas<br>packages off people's front porches.<br>"
          ],
          [
           "",
           8.078635215759277,
           "",
           ""
          ]
         ],
         "hovertemplate": "%{customdata[0]}%{customdata[1]}%{customdata[2]}%{customdata[3]}<extra></extra>",
         "marker": {
          "opacity": 0.75,
          "size": 5
         },
         "mode": "markers+text",
         "name": "9_bob_sideshow_sideshow bob",
         "text": [
          "",
          "",
          "",
          "",
          "",
          "",
          "",
          "",
          "",
          "",
          "9_bob_sideshow_sideshow bob"
         ],
         "textfont": {
          "size": 12
         },
         "type": "scatter3d",
         "visible": true,
         "x": [
          64.83223724365234,
          68.2776107788086,
          60.123779296875,
          47.1663818359375,
          75.99945831298828,
          56.367733001708984,
          61.49500274658203,
          71.19473266601562,
          62.537776947021484,
          39.76112365722656,
          ""
         ],
         "y": [
          108.92351531982422,
          120.07783508300781,
          117.9294662475586,
          121.17373657226562,
          119.68257141113281,
          131.20115661621094,
          120.00103759765625,
          106.97332763671875,
          113.79761505126953,
          116.4246597290039,
          60.77558135986328
         ],
         "z": [
          22.825504302978516,
          21.54189682006836,
          6.8228678703308105,
          12.337272644042969,
          2.906825065612793,
          3.217865228652954,
          -18.6359920501709,
          35.30928421020508,
          -4.262030124664307,
          -1.2771403789520264,
          117.61849212646484
         ]
        },
        {
         "customdata": [
          [
           "<b>Bart Star</b><br>",
           "<b>Episode:</b> S9E6<br>",
           "<b>Airdate:</b>Sun 07 Dec 1997<br>",
           "<b>Description:</b>A damning report on childhood<br>obesity in Springfield leads to the formation of a<br>pee-wee football team. After belittling Ned<br>Flanders, Homer ends up coaching the team, but his<br>favoring of Bart makes him unpopular.<br>"
          ],
          [
           "<b>Worst Episode Ever</b><br>",
           "<b>Episode:</b> S12E11<br>",
           "<b>Airdate:</b>Sun 25 Mar 2001<br>",
           "<b>Description:</b>Bart and Milhouse are left in<br>charge of the comic book store after Comic Book<br>Guy is hospitalized.<br>"
          ],
          [
           "<b>Barting Over</b><br>",
           "<b>Episode:</b> S14E11<br>",
           "<b>Airdate:</b>Sun 20 Apr 2003<br>",
           "<b>Description:</b>After finding out Homer<br>squandered his money from a baby commercial, Bart<br>moves out into a loft, and meets skateboarding<br>legend Tony Hawk.<br>"
          ],
          [
           "<b>The Fat and the Furriest</b><br>",
           "<b>Episode:</b> S15E5<br>",
           "<b>Airdate:</b>Sun 04 Jan 2004<br>",
           "<b>Description:</b>At the dump Homer is videotaped<br>while being attacked by a bear. The town regards<br>him a coward, so Homer decides to strike back at<br>the bear.<br>"
          ],
          [
           "<b>Bart-Mangled Banner</b><br>",
           "<b>Episode:</b> S15E21<br>",
           "<b>Airdate:</b>Sun 14 Nov 2004<br>",
           "<b>Description:</b>An accidental photo showing<br>Bart mooning the American flag makes the Simpsons<br>the most hated family in town.<br>"
          ],
          [
           "<b>The Boys of Bummer</b><br>",
           "<b>Episode:</b> S18E18<br>",
           "<b>Airdate:</b>Sun 29 Apr 2007<br>",
           "<b>Description:</b>Bart becomes the most hated<br>person in Springfield after he is the goat in a<br>championship baseball game, and Homer's new job as<br>a mattress salesman ruins his and Marge's sex<br>life.<br>"
          ],
          [
           "<b>The Town</b><br>",
           "<b>Episode:</b> S28E3<br>",
           "<b>Airdate:</b>Sun 09 Oct 2016<br>",
           "<b>Description:</b>Homer takes the family on a<br>\"hate-cation\" to Boston after he catches Bart<br>rooting for a rival football team.<br>"
          ],
          [
           "<b>22 for 30</b><br>",
           "<b>Episode:</b> S28E17<br>",
           "<b>Airdate:</b>Sun 12 Mar 2017<br>",
           "<b>Description:</b>A mocumentary about how Bart<br>became a star basketball player at Springfield<br>Elementary only to fall prey to fame, his own ego<br>and the schemes of mobster Fat Tony.<br>"
          ],
          [
           "",
           43.684200286865234,
           "",
           ""
          ]
         ],
         "hovertemplate": "%{customdata[0]}%{customdata[1]}%{customdata[2]}%{customdata[3]}<extra></extra>",
         "marker": {
          "opacity": 0.75,
          "size": 5
         },
         "mode": "markers+text",
         "name": "10_team_bear_hated",
         "text": [
          "",
          "",
          "",
          "",
          "",
          "",
          "",
          "",
          "10_team_bear_hated"
         ],
         "textfont": {
          "size": 12
         },
         "type": "scatter3d",
         "visible": true,
         "x": [
          3.008117198944092,
          45.26000213623047,
          7.226696491241455,
          -11.439851760864258,
          20.827091217041016,
          34.043853759765625,
          19.854772567749023,
          6.861587047576904,
          ""
         ],
         "y": [
          -86.16859436035156,
          -73.27530670166016,
          -76.54456329345703,
          -84.20011138916016,
          -71.05542755126953,
          -61.49190902709961,
          -64.59758758544922,
          -70.49588775634766,
          15.705284118652344
         ],
         "z": [
          -17.68389320373535,
          86.08930206298828,
          17.209012985229492,
          -24.155702590942383,
          100.78547668457031,
          93.97378540039062,
          88.35384368896484,
          4.901790142059326,
          -73.47867584228516
         ]
        }
       ],
       "layout": {
        "height": 750,
        "scene": {
         "aspectmode": "auto",
         "aspectratio": {
          "x": 1.0928161748825118,
          "y": 0.9948320164455844,
          "z": 0.9198206006241743
         },
         "camera": {
          "center": {
           "x": 0,
           "y": 0,
           "z": 0
          },
          "eye": {
           "x": -0.5745868035141908,
           "y": 1.6794805881680077,
           "z": 0.6097087580004936
          },
          "projection": {
           "type": "perspective"
          },
          "up": {
           "x": 0,
           "y": 0,
           "z": 1
          }
         }
        },
        "template": {
         "data": {
          "bar": [
           {
            "error_x": {
             "color": "rgb(36,36,36)"
            },
            "error_y": {
             "color": "rgb(36,36,36)"
            },
            "marker": {
             "line": {
              "color": "white",
              "width": 0.5
             },
             "pattern": {
              "fillmode": "overlay",
              "size": 10,
              "solidity": 0.2
             }
            },
            "type": "bar"
           }
          ],
          "barpolar": [
           {
            "marker": {
             "line": {
              "color": "white",
              "width": 0.5
             },
             "pattern": {
              "fillmode": "overlay",
              "size": 10,
              "solidity": 0.2
             }
            },
            "type": "barpolar"
           }
          ],
          "carpet": [
           {
            "aaxis": {
             "endlinecolor": "rgb(36,36,36)",
             "gridcolor": "white",
             "linecolor": "white",
             "minorgridcolor": "white",
             "startlinecolor": "rgb(36,36,36)"
            },
            "baxis": {
             "endlinecolor": "rgb(36,36,36)",
             "gridcolor": "white",
             "linecolor": "white",
             "minorgridcolor": "white",
             "startlinecolor": "rgb(36,36,36)"
            },
            "type": "carpet"
           }
          ],
          "choropleth": [
           {
            "colorbar": {
             "outlinewidth": 1,
             "tickcolor": "rgb(36,36,36)",
             "ticks": "outside"
            },
            "type": "choropleth"
           }
          ],
          "contour": [
           {
            "colorbar": {
             "outlinewidth": 1,
             "tickcolor": "rgb(36,36,36)",
             "ticks": "outside"
            },
            "colorscale": [
             [
              0,
              "#440154"
             ],
             [
              0.1111111111111111,
              "#482878"
             ],
             [
              0.2222222222222222,
              "#3e4989"
             ],
             [
              0.3333333333333333,
              "#31688e"
             ],
             [
              0.4444444444444444,
              "#26828e"
             ],
             [
              0.5555555555555556,
              "#1f9e89"
             ],
             [
              0.6666666666666666,
              "#35b779"
             ],
             [
              0.7777777777777778,
              "#6ece58"
             ],
             [
              0.8888888888888888,
              "#b5de2b"
             ],
             [
              1,
              "#fde725"
             ]
            ],
            "type": "contour"
           }
          ],
          "contourcarpet": [
           {
            "colorbar": {
             "outlinewidth": 1,
             "tickcolor": "rgb(36,36,36)",
             "ticks": "outside"
            },
            "type": "contourcarpet"
           }
          ],
          "heatmap": [
           {
            "colorbar": {
             "outlinewidth": 1,
             "tickcolor": "rgb(36,36,36)",
             "ticks": "outside"
            },
            "colorscale": [
             [
              0,
              "#440154"
             ],
             [
              0.1111111111111111,
              "#482878"
             ],
             [
              0.2222222222222222,
              "#3e4989"
             ],
             [
              0.3333333333333333,
              "#31688e"
             ],
             [
              0.4444444444444444,
              "#26828e"
             ],
             [
              0.5555555555555556,
              "#1f9e89"
             ],
             [
              0.6666666666666666,
              "#35b779"
             ],
             [
              0.7777777777777778,
              "#6ece58"
             ],
             [
              0.8888888888888888,
              "#b5de2b"
             ],
             [
              1,
              "#fde725"
             ]
            ],
            "type": "heatmap"
           }
          ],
          "heatmapgl": [
           {
            "colorbar": {
             "outlinewidth": 1,
             "tickcolor": "rgb(36,36,36)",
             "ticks": "outside"
            },
            "colorscale": [
             [
              0,
              "#440154"
             ],
             [
              0.1111111111111111,
              "#482878"
             ],
             [
              0.2222222222222222,
              "#3e4989"
             ],
             [
              0.3333333333333333,
              "#31688e"
             ],
             [
              0.4444444444444444,
              "#26828e"
             ],
             [
              0.5555555555555556,
              "#1f9e89"
             ],
             [
              0.6666666666666666,
              "#35b779"
             ],
             [
              0.7777777777777778,
              "#6ece58"
             ],
             [
              0.8888888888888888,
              "#b5de2b"
             ],
             [
              1,
              "#fde725"
             ]
            ],
            "type": "heatmapgl"
           }
          ],
          "histogram": [
           {
            "marker": {
             "line": {
              "color": "white",
              "width": 0.6
             }
            },
            "type": "histogram"
           }
          ],
          "histogram2d": [
           {
            "colorbar": {
             "outlinewidth": 1,
             "tickcolor": "rgb(36,36,36)",
             "ticks": "outside"
            },
            "colorscale": [
             [
              0,
              "#440154"
             ],
             [
              0.1111111111111111,
              "#482878"
             ],
             [
              0.2222222222222222,
              "#3e4989"
             ],
             [
              0.3333333333333333,
              "#31688e"
             ],
             [
              0.4444444444444444,
              "#26828e"
             ],
             [
              0.5555555555555556,
              "#1f9e89"
             ],
             [
              0.6666666666666666,
              "#35b779"
             ],
             [
              0.7777777777777778,
              "#6ece58"
             ],
             [
              0.8888888888888888,
              "#b5de2b"
             ],
             [
              1,
              "#fde725"
             ]
            ],
            "type": "histogram2d"
           }
          ],
          "histogram2dcontour": [
           {
            "colorbar": {
             "outlinewidth": 1,
             "tickcolor": "rgb(36,36,36)",
             "ticks": "outside"
            },
            "colorscale": [
             [
              0,
              "#440154"
             ],
             [
              0.1111111111111111,
              "#482878"
             ],
             [
              0.2222222222222222,
              "#3e4989"
             ],
             [
              0.3333333333333333,
              "#31688e"
             ],
             [
              0.4444444444444444,
              "#26828e"
             ],
             [
              0.5555555555555556,
              "#1f9e89"
             ],
             [
              0.6666666666666666,
              "#35b779"
             ],
             [
              0.7777777777777778,
              "#6ece58"
             ],
             [
              0.8888888888888888,
              "#b5de2b"
             ],
             [
              1,
              "#fde725"
             ]
            ],
            "type": "histogram2dcontour"
           }
          ],
          "mesh3d": [
           {
            "colorbar": {
             "outlinewidth": 1,
             "tickcolor": "rgb(36,36,36)",
             "ticks": "outside"
            },
            "type": "mesh3d"
           }
          ],
          "parcoords": [
           {
            "line": {
             "colorbar": {
              "outlinewidth": 1,
              "tickcolor": "rgb(36,36,36)",
              "ticks": "outside"
             }
            },
            "type": "parcoords"
           }
          ],
          "pie": [
           {
            "automargin": true,
            "type": "pie"
           }
          ],
          "scatter": [
           {
            "fillpattern": {
             "fillmode": "overlay",
             "size": 10,
             "solidity": 0.2
            },
            "type": "scatter"
           }
          ],
          "scatter3d": [
           {
            "line": {
             "colorbar": {
              "outlinewidth": 1,
              "tickcolor": "rgb(36,36,36)",
              "ticks": "outside"
             }
            },
            "marker": {
             "colorbar": {
              "outlinewidth": 1,
              "tickcolor": "rgb(36,36,36)",
              "ticks": "outside"
             }
            },
            "type": "scatter3d"
           }
          ],
          "scattercarpet": [
           {
            "marker": {
             "colorbar": {
              "outlinewidth": 1,
              "tickcolor": "rgb(36,36,36)",
              "ticks": "outside"
             }
            },
            "type": "scattercarpet"
           }
          ],
          "scattergeo": [
           {
            "marker": {
             "colorbar": {
              "outlinewidth": 1,
              "tickcolor": "rgb(36,36,36)",
              "ticks": "outside"
             }
            },
            "type": "scattergeo"
           }
          ],
          "scattergl": [
           {
            "marker": {
             "colorbar": {
              "outlinewidth": 1,
              "tickcolor": "rgb(36,36,36)",
              "ticks": "outside"
             }
            },
            "type": "scattergl"
           }
          ],
          "scattermapbox": [
           {
            "marker": {
             "colorbar": {
              "outlinewidth": 1,
              "tickcolor": "rgb(36,36,36)",
              "ticks": "outside"
             }
            },
            "type": "scattermapbox"
           }
          ],
          "scatterpolar": [
           {
            "marker": {
             "colorbar": {
              "outlinewidth": 1,
              "tickcolor": "rgb(36,36,36)",
              "ticks": "outside"
             }
            },
            "type": "scatterpolar"
           }
          ],
          "scatterpolargl": [
           {
            "marker": {
             "colorbar": {
              "outlinewidth": 1,
              "tickcolor": "rgb(36,36,36)",
              "ticks": "outside"
             }
            },
            "type": "scatterpolargl"
           }
          ],
          "scatterternary": [
           {
            "marker": {
             "colorbar": {
              "outlinewidth": 1,
              "tickcolor": "rgb(36,36,36)",
              "ticks": "outside"
             }
            },
            "type": "scatterternary"
           }
          ],
          "surface": [
           {
            "colorbar": {
             "outlinewidth": 1,
             "tickcolor": "rgb(36,36,36)",
             "ticks": "outside"
            },
            "colorscale": [
             [
              0,
              "#440154"
             ],
             [
              0.1111111111111111,
              "#482878"
             ],
             [
              0.2222222222222222,
              "#3e4989"
             ],
             [
              0.3333333333333333,
              "#31688e"
             ],
             [
              0.4444444444444444,
              "#26828e"
             ],
             [
              0.5555555555555556,
              "#1f9e89"
             ],
             [
              0.6666666666666666,
              "#35b779"
             ],
             [
              0.7777777777777778,
              "#6ece58"
             ],
             [
              0.8888888888888888,
              "#b5de2b"
             ],
             [
              1,
              "#fde725"
             ]
            ],
            "type": "surface"
           }
          ],
          "table": [
           {
            "cells": {
             "fill": {
              "color": "rgb(237,237,237)"
             },
             "line": {
              "color": "white"
             }
            },
            "header": {
             "fill": {
              "color": "rgb(217,217,217)"
             },
             "line": {
              "color": "white"
             }
            },
            "type": "table"
           }
          ]
         },
         "layout": {
          "annotationdefaults": {
           "arrowhead": 0,
           "arrowwidth": 1
          },
          "autotypenumbers": "strict",
          "coloraxis": {
           "colorbar": {
            "outlinewidth": 1,
            "tickcolor": "rgb(36,36,36)",
            "ticks": "outside"
           }
          },
          "colorscale": {
           "diverging": [
            [
             0,
             "rgb(103,0,31)"
            ],
            [
             0.1,
             "rgb(178,24,43)"
            ],
            [
             0.2,
             "rgb(214,96,77)"
            ],
            [
             0.3,
             "rgb(244,165,130)"
            ],
            [
             0.4,
             "rgb(253,219,199)"
            ],
            [
             0.5,
             "rgb(247,247,247)"
            ],
            [
             0.6,
             "rgb(209,229,240)"
            ],
            [
             0.7,
             "rgb(146,197,222)"
            ],
            [
             0.8,
             "rgb(67,147,195)"
            ],
            [
             0.9,
             "rgb(33,102,172)"
            ],
            [
             1,
             "rgb(5,48,97)"
            ]
           ],
           "sequential": [
            [
             0,
             "#440154"
            ],
            [
             0.1111111111111111,
             "#482878"
            ],
            [
             0.2222222222222222,
             "#3e4989"
            ],
            [
             0.3333333333333333,
             "#31688e"
            ],
            [
             0.4444444444444444,
             "#26828e"
            ],
            [
             0.5555555555555556,
             "#1f9e89"
            ],
            [
             0.6666666666666666,
             "#35b779"
            ],
            [
             0.7777777777777778,
             "#6ece58"
            ],
            [
             0.8888888888888888,
             "#b5de2b"
            ],
            [
             1,
             "#fde725"
            ]
           ],
           "sequentialminus": [
            [
             0,
             "#440154"
            ],
            [
             0.1111111111111111,
             "#482878"
            ],
            [
             0.2222222222222222,
             "#3e4989"
            ],
            [
             0.3333333333333333,
             "#31688e"
            ],
            [
             0.4444444444444444,
             "#26828e"
            ],
            [
             0.5555555555555556,
             "#1f9e89"
            ],
            [
             0.6666666666666666,
             "#35b779"
            ],
            [
             0.7777777777777778,
             "#6ece58"
            ],
            [
             0.8888888888888888,
             "#b5de2b"
            ],
            [
             1,
             "#fde725"
            ]
           ]
          },
          "colorway": [
           "#1F77B4",
           "#FF7F0E",
           "#2CA02C",
           "#D62728",
           "#9467BD",
           "#8C564B",
           "#E377C2",
           "#7F7F7F",
           "#BCBD22",
           "#17BECF"
          ],
          "font": {
           "color": "rgb(36,36,36)"
          },
          "geo": {
           "bgcolor": "white",
           "lakecolor": "white",
           "landcolor": "white",
           "showlakes": true,
           "showland": true,
           "subunitcolor": "white"
          },
          "hoverlabel": {
           "align": "left"
          },
          "hovermode": "closest",
          "mapbox": {
           "style": "light"
          },
          "paper_bgcolor": "white",
          "plot_bgcolor": "white",
          "polar": {
           "angularaxis": {
            "gridcolor": "rgb(232,232,232)",
            "linecolor": "rgb(36,36,36)",
            "showgrid": false,
            "showline": true,
            "ticks": "outside"
           },
           "bgcolor": "white",
           "radialaxis": {
            "gridcolor": "rgb(232,232,232)",
            "linecolor": "rgb(36,36,36)",
            "showgrid": false,
            "showline": true,
            "ticks": "outside"
           }
          },
          "scene": {
           "xaxis": {
            "backgroundcolor": "white",
            "gridcolor": "rgb(232,232,232)",
            "gridwidth": 2,
            "linecolor": "rgb(36,36,36)",
            "showbackground": true,
            "showgrid": false,
            "showline": true,
            "ticks": "outside",
            "zeroline": false,
            "zerolinecolor": "rgb(36,36,36)"
           },
           "yaxis": {
            "backgroundcolor": "white",
            "gridcolor": "rgb(232,232,232)",
            "gridwidth": 2,
            "linecolor": "rgb(36,36,36)",
            "showbackground": true,
            "showgrid": false,
            "showline": true,
            "ticks": "outside",
            "zeroline": false,
            "zerolinecolor": "rgb(36,36,36)"
           },
           "zaxis": {
            "backgroundcolor": "white",
            "gridcolor": "rgb(232,232,232)",
            "gridwidth": 2,
            "linecolor": "rgb(36,36,36)",
            "showbackground": true,
            "showgrid": false,
            "showline": true,
            "ticks": "outside",
            "zeroline": false,
            "zerolinecolor": "rgb(36,36,36)"
           }
          },
          "shapedefaults": {
           "fillcolor": "black",
           "line": {
            "width": 0
           },
           "opacity": 0.3
          },
          "ternary": {
           "aaxis": {
            "gridcolor": "rgb(232,232,232)",
            "linecolor": "rgb(36,36,36)",
            "showgrid": false,
            "showline": true,
            "ticks": "outside"
           },
           "baxis": {
            "gridcolor": "rgb(232,232,232)",
            "linecolor": "rgb(36,36,36)",
            "showgrid": false,
            "showline": true,
            "ticks": "outside"
           },
           "bgcolor": "white",
           "caxis": {
            "gridcolor": "rgb(232,232,232)",
            "linecolor": "rgb(36,36,36)",
            "showgrid": false,
            "showline": true,
            "ticks": "outside"
           }
          },
          "title": {
           "x": 0.05
          },
          "xaxis": {
           "automargin": true,
           "gridcolor": "rgb(232,232,232)",
           "linecolor": "rgb(36,36,36)",
           "showgrid": false,
           "showline": true,
           "ticks": "outside",
           "title": {
            "standoff": 15
           },
           "zeroline": false,
           "zerolinecolor": "rgb(36,36,36)"
          },
          "yaxis": {
           "automargin": true,
           "gridcolor": "rgb(232,232,232)",
           "linecolor": "rgb(36,36,36)",
           "showgrid": false,
           "showline": true,
           "ticks": "outside",
           "title": {
            "standoff": 15
           },
           "zeroline": false,
           "zerolinecolor": "rgb(36,36,36)"
          }
         }
        },
        "title": {
         "font": {
          "color": "Black",
          "size": 22
         },
         "text": "<b>Episode topics",
         "x": 0.5,
         "xanchor": "center",
         "yanchor": "top"
        },
        "width": 1200
       }
      },
      "image/png": "[encoded data removed]",
      "text/html": [
       "<div>                            <div id=\"dbf48f53-bc9c-494e-88b6-cc131370a86a\" class=\"plotly-graph-div\" style=\"height:750px; width:1200px;\"></div>            <script type=\"text/javascript\">                require([\"plotly\"], function(Plotly) {                    window.PLOTLYENV=window.PLOTLYENV || {};                                    if (document.getElementById(\"dbf48f53-bc9c-494e-88b6-cc131370a86a\")) {                    Plotly.newPlot(                        \"dbf48f53-bc9c-494e-88b6-cc131370a86a\",                        [{\"customdata\":[[\"<b>Moaning Lisa</b><br>\",\"<b>Episode:</b> S1E6<br>\",\"<b>Airdate:</b>Sun 11 Feb 1990<br>\",\"<b>Description:</b>A depressed Lisa's spirit is<br>lifted when she meets a jazz-man, Bleeding Gums<br>Murphy.<br>\"],[\"<b>The Call of the Simpsons</b><br>\",\"<b>Episode:</b> S1E7<br>\",\"<b>Airdate:</b>Sun 18 Feb 1990<br>\",\"<b>Description:</b>Homer takes the family camping,<br>but it soon becomes a misadventure when they lose<br>their equipment and Homer is mistaken for<br>Bigfoot.<br>\"],[\"<b>The Telltale Head</b><br>\",\"<b>Episode:</b> S1E8<br>\",\"<b>Airdate:</b>Sun 25 Feb 1990<br>\",\"<b>Description:</b>Bart gets more than he<br>bargained for when he saws the head off a statue<br>of the town's founder.<br>\"],[\"<b>Homer's Night Out</b><br>\",\"<b>Episode:</b> S1E10<br>\",\"<b>Airdate:</b>Sun 25 Mar 1990<br>\",\"<b>Description:</b>After a photograph of Homer<br>canoodling with an exotic dancer is distributed<br>throughout Springfield, he finds himself kicked<br>out of the house by Marge.<br>\"],[\"<b>Some Enchanted Evening</b><br>\",\"<b>Episode:</b> S1E13<br>\",\"<b>Airdate:</b>Sun 13 May 1990<br>\",\"<b>Description:</b>Homer and Marge enjoy a night<br>on the town, leaving the kids with a diabolical<br>babysitter, with a surprising secret.<br>\"],[\"<b>Simpson and Delilah</b><br>\",\"<b>Episode:</b> S2E2<br>\",\"<b>Airdate:</b>Thu 18 Oct 1990<br>\",\"<b>Description:</b>Homer lies on a medical<br>insurance form in order to obtain a miracle hair<br>restoring drug.<br>\"],[\"<b>Bart vs. Thanksgiving</b><br>\",\"<b>Episode:</b> S2E7<br>\",\"<b>Airdate:</b>Thu 22 Nov 1990<br>\",\"<b>Description:</b>On Thanksgiving, Bart runs away<br>after fighting with Lisa.<br>\"],[\"<b>Bart the Daredevil</b><br>\",\"<b>Episode:</b> S2E8<br>\",\"<b>Airdate:</b>Thu 06 Dec 1990<br>\",\"<b>Description:</b>After seeing a motorcycle<br>daredevil at a monster truck show, Bart becomes a<br>death-defying daredevil skateboarder.<br>\"],[\"<b>Itchy & Scratchy & Marge</b><br>\",\"<b>Episode:</b> S2E9<br>\",\"<b>Airdate:</b>Thu 20 Dec 1990<br>\",\"<b>Description:</b>Marge becomes a crusader<br>against cartoon violence after \\\"Itchy and<br>Scratchy\\\" seemingly inspires Maggie to attack<br>Homer.<br>\"],[\"<b>Bart Gets Hit by a Car</b><br>\",\"<b>Episode:</b> S2E10<br>\",\"<b>Airdate:</b>Thu 10 Jan 1991<br>\",\"<b>Description:</b>After Bart gets hit by a car<br>driven by Mr. Burns, Homer is manipulated by<br>ambulance-chaser Lionel Hutz into bringing an<br>outrageous lawsuit against his boss.<br>\"],[\"<b>One Fish, Two Fish, Blowfish, Blue Fish</b><br>\",\"<b>Episode:</b> S2E11<br>\",\"<b>Airdate:</b>Thu 24 Jan 1991<br>\",\"<b>Description:</b>After apparently consuming<br>poison blowfish, Homer is told that he only has 24<br>hours to live.<br>\"],[\"<b>Homer vs. Lisa and the 8th Commandment</b><br>\",\"<b>Episode:</b> S2E13<br>\",\"<b>Airdate:</b>Tue 23 Jul 1991<br>\",\"<b>Description:</b>Homer gets a crooked cable guy<br>to install free cable in the Simpson home, and as<br>a result, Lisa faces an ethical crisis over her<br>family's stealing.<br>\"],[\"<b>Principal Charming</b><br>\",\"<b>Episode:</b> S2E14<br>\",\"<b>Airdate:</b>Thu 14 Feb 1991<br>\",\"<b>Description:</b>Homer tries to set Selma up<br>with Principal Skinner, only for him to fall for<br>Patty instead.<br>\"],[\"<b>Oh Brother, Where Art Thou?</b><br>\",\"<b>Episode:</b> S2E15<br>\",\"<b>Airdate:</b>Thu 21 Feb 1991<br>\",\"<b>Description:</b>Homer meets his half-brother<br>Herb Powell, an automobile tycoon who zealously<br>bonds with the family and tasks Homer with<br>designing a car for the average American.<br>\"],[\"<b>Lisa's Substitute</b><br>\",\"<b>Episode:</b> S2E19<br>\",\"<b>Airdate:</b>Thu 25 Apr 1991<br>\",\"<b>Description:</b>Lisa has a crush on her<br>substitute teacher; Bart decides to run for class<br>president.<br>\"],[\"<b>Three Men and a Comic Book</b><br>\",\"<b>Episode:</b> S2E21<br>\",\"<b>Airdate:</b>Thu 09 May 1991<br>\",\"<b>Description:</b>Bart, Milhouse and Martin each<br>pitch in to buy an highly-collectible \\\"Radioactive<br>Man\\\" comic book, which soon has a disastrous<br>effect on their friendship.<br>\"],[\"<b>Blood Feud</b><br>\",\"<b>Episode:</b> S2E22<br>\",\"<b>Airdate:</b>Thu 11 Jul 1991<br>\",\"<b>Description:</b>After Bart saves Mr. Burns'<br>life with a donated blood transfusion, Homer vows<br>revenge when they receive only a \\\"thank you\\\" card<br>as compensation.<br>\"],[\"<b>Saturdays of Thunder</b><br>\",\"<b>Episode:</b> S3E9<br>\",\"<b>Airdate:</b>Thu 14 Nov 1991<br>\",\"<b>Description:</b>After Homer fails a fathering<br>test, he decides to help Bart build his Soap Box<br>Derby racer.<br>\"],[\"<b>Homer Alone</b><br>\",\"<b>Episode:</b> S3E15<br>\",\"<b>Airdate:</b>Thu 06 Feb 1992<br>\",\"<b>Description:</b>While Marge spends a couple of<br>days at Rancho Relaxo after she has a breakdown,<br>Bart and Lisa stay with Patty and Selma, and Homer<br>stays at home to take care of Maggie.<br>\"],[\"<b>Separate Vocations</b><br>\",\"<b>Episode:</b> S3E18<br>\",\"<b>Airdate:</b>Thu 27 Feb 1992<br>\",\"<b>Description:</b>After aptitude tests seemingly<br>indicate that they are best-suited to police work<br>and homemaking respectively, Bart is made hall<br>monitor while Lisa becomes a delinquent.<br>\"],[\"<b>Colonel Homer</b><br>\",\"<b>Episode:</b> S3E20<br>\",\"<b>Airdate:</b>Sun 06 Dec 1992<br>\",\"<b>Description:</b>Homer becomes the manager of a<br>beautiful young country singer and finds himself<br>almost attracted to her, sparking Marge's<br>jealousy.<br>\"],[\"<b>The Otto Show</b><br>\",\"<b>Episode:</b> S3E22<br>\",\"<b>Airdate:</b>Thu 23 Apr 1992<br>\",\"<b>Description:</b>After Otto loses his job as<br>school bus driver because he does not have a<br>license, Bart convinces Homer and Marge to let<br>Otto stay with them until he gets back on his<br>feet.<br>\"],[\"<b>Bart's Friend Falls in Love</b><br>\",\"<b>Episode:</b> S3E23<br>\",\"<b>Airdate:</b>Thu 07 May 1992<br>\",\"<b>Description:</b>Bart becomes jealous when<br>Milhouse falls in love with a new student named<br>Samantha; Homer accidentally receives a<br>vocabulary-building tape instead of a weight-loss<br>one.<br>\"],[\"<b>Brother, Can You Spare Two Dimes?</b><br>\",\"<b>Episode:</b> S3E24<br>\",\"<b>Airdate:</b>Thu 27 Aug 1992<br>\",\"<b>Description:</b>After Homer \\\"wins\\\" a $2000<br>settlement from the plant due to radiation-induced<br>sterilization, his half-brother Herb sees an<br>opportunity to regain his fortune.<br>\"],[\"<b>Kamp Krusty</b><br>\",\"<b>Episode:</b> S4E1<br>\",\"<b>Airdate:</b>Thu 24 Sep 1992<br>\",\"<b>Description:</b>Bart and Lisa attend \\\"Kamp<br>Krusty\\\" but it is nothing like they thought it<br>would be; Homer's hair grows back and he loses<br>weight while the kids are away.<br>\"],[\"<b>A Streetcar Named Marge</b><br>\",\"<b>Episode:</b> S4E2<br>\",\"<b>Airdate:</b>Thu 01 Oct 1992<br>\",\"<b>Description:</b>Marge stars in a musical<br>adaptation of A Streetcar Named Desire, but is<br>angry with Homer's lack of interest; Maggie<br>squares off with her strict new daycare owner.<br>\"],[\"<b>Lisa the Beauty Queen</b><br>\",\"<b>Episode:</b> S4E4<br>\",\"<b>Airdate:</b>Thu 15 Oct 1992<br>\",\"<b>Description:</b>Homer enters Lisa in the Little<br>Miss Springfield pageant to build her self-<br>esteem.<br>\"],[\"<b>Itchy & Scratchy: The Movie</b><br>\",\"<b>Episode:</b> S4E6<br>\",\"<b>Airdate:</b>Tue 03 Nov 1992<br>\",\"<b>Description:</b>With Bart continually getting<br>in trouble, Homer bans him from seeing the new<br>Itchy & Scratchy movie.<br>\"],[\"<b>New Kid on the Block</b><br>\",\"<b>Episode:</b> S4E8<br>\",\"<b>Airdate:</b>Thu 12 Nov 1992<br>\",\"<b>Description:</b>Bart develops a crush on his<br>new neighbor, only to discover that she's dating<br>Jimbo Jones; Homer sues an all-you-can-eat<br>restaurant after he's kicked out.<br>\"],[\"<b>Mr. Plow</b><br>\",\"<b>Episode:</b> S4E9<br>\",\"<b>Airdate:</b>Thu 19 Nov 1992<br>\",\"<b>Description:</b>Homer opens a successful snow-<br>plowing business, only to inspire Barney to start<br>a rival outfit that puts him out of work.<br>\"],[\"<b>Homer's Triple Bypass</b><br>\",\"<b>Episode:</b> S4E11<br>\",\"<b>Airdate:</b>Sun 10 Jan 1993<br>\",\"<b>Description:</b>Years of poor eating habits<br>catch up with Homer when he suffers a massive<br>heart attack, but the family can't afford the<br>triple bypass operation he needs.<br>\"],[\"<b>Marge vs. the Monorail</b><br>\",\"<b>Episode:</b> S4E12<br>\",\"<b>Airdate:</b>Thu 14 Jan 1993<br>\",\"<b>Description:</b>After receiving a considerable<br>donation of money, Springfield builds a monorail<br>system with Homer as the conductor, unaware<br>they've just boarded a one-way train to Hell.<br>\"],[\"<b>Selma's Choice</b><br>\",\"<b>Episode:</b> S4E13<br>\",\"<b>Airdate:</b>Thu 21 Jan 1993<br>\",\"<b>Description:</b>Selma starts to feel broody,<br>but after taking Bart and Lisa to Duff Gardens,<br>she changes her mind.<br>\"],[\"<b>Duffless</b><br>\",\"<b>Episode:</b> S4E16<br>\",\"<b>Airdate:</b>Thu 18 Feb 1993<br>\",\"<b>Description:</b>After Homer loses his license<br>for DUI, Marge pressures him to give up beer for a<br>month; Lisa attempts to prove that Bart is less<br>intelligent than a hamster.<br>\"],[\"<b>So It's Come to This: A Simpsons Clip Show</b><br>\",\"<b>Episode:</b> S4E18<br>\",\"<b>Airdate:</b>Thu 01 Apr 1993<br>\",\"<b>Description:</b>While Homer recovers in<br>hospital from Bart's disastrous April Fool's Day<br>prank, the family reminiscences over earlier<br>hardships.<br>\"],[\"<b>The Front</b><br>\",\"<b>Episode:</b> S4E19<br>\",\"<b>Airdate:</b>Sun 02 May 1993<br>\",\"<b>Description:</b>Bart and Lisa convince Grampa<br>to let them use his name for episodes of \\\"Itchy<br>and Scratchy\\\" they have written; Homer re-takes a<br>test he failed in high school.<br>\"],[\"<b>Homer's Barbershop Quartet</b><br>\",\"<b>Episode:</b> S5E1<br>\",\"<b>Airdate:</b>Thu 30 Sep 1993<br>\",\"<b>Description:</b>After the kids find a record<br>with Homer's picture on it, he recalls the story<br>of how he achieved fame in the 1980s with his<br>barbershop quartet, The Be Sharps.<br>\"],[\"<b>The Last Temptation of Homer</b><br>\",\"<b>Episode:</b> S5E9<br>\",\"<b>Airdate:</b>Thu 09 Dec 1993<br>\",\"<b>Description:</b>Homer's marriage is in trouble<br>when he develops an attraction to a new co-worker;<br>Bart undergoes medical treatments that make him<br>look like a nerd.<br>\"],[\"<b>Homer and Apu</b><br>\",\"<b>Episode:</b> S5E13<br>\",\"<b>Airdate:</b>Thu 10 Feb 1994<br>\",\"<b>Description:</b>Apu moves in with the Simpsons<br>after losing his job when Homer gets ill from the<br>contaminated food; James Woods takes over the<br>Kwik-E-Mart.<br>\"],[\"<b>Deep Space Homer</b><br>\",\"<b>Episode:</b> S5E15<br>\",\"<b>Airdate:</b>Thu 24 Feb 1994<br>\",\"<b>Description:</b>In an effort to increase the<br>dismal television ratings for their space<br>launches, NASA decides to send an ordinary man<br>into space, and Homer is chosen for the task.<br>\"],[\"<b>Another Simpsons Clip Show</b><br>\",\"<b>Episode:</b> S6E3<br>\",\"<b>Airdate:</b>Sun 25 Sep 1994<br>\",\"<b>Description:</b>The family recalls past tales<br>of lost love.<br>\"],[\"<b>Itchy & Scratchy Land</b><br>\",\"<b>Episode:</b> S6E4<br>\",\"<b>Airdate:</b>Sun 16 Oct 1994<br>\",\"<b>Description:</b>A family vacation to Itchy &<br>Scratchy Land turns disastrous when the robots<br>malfunction and turn on the tourists.<br>\"],[\"<b>Bart's Girlfriend</b><br>\",\"<b>Episode:</b> S6E7<br>\",\"<b>Airdate:</b>Sun 06 Nov 1994<br>\",\"<b>Description:</b>Bart falls for Reverend<br>Lovejoy's daughter and is surprised when she<br>becomes a bad influence on him.<br>\"],[\"<b>Lisa on Ice</b><br>\",\"<b>Episode:</b> S6E8<br>\",\"<b>Airdate:</b>Sun 13 Nov 1994<br>\",\"<b>Description:</b>Sibling rivalry between Bart<br>and Lisa ensues when they become the star players<br>of their respective ice hockey teams.<br>\"],[\"<b>Grampa vs. Sexual Inadequacy</b><br>\",\"<b>Episode:</b> S6E10<br>\",\"<b>Airdate:</b>Sun 04 Dec 1994<br>\",\"<b>Description:</b>Homer and Abe hit the road to<br>sell Abe's miraculous aphrodisiac.<br>\"],[\"<b>Fear of Flying</b><br>\",\"<b>Episode:</b> S6E11<br>\",\"<b>Airdate:</b>Sun 18 Dec 1994<br>\",\"<b>Description:</b>Marge goes into therapy to find<br>the root cause of her traumatizing aerophobia.<br>\"],[\"<b>Bart's Comet</b><br>\",\"<b>Episode:</b> S6E14<br>\",\"<b>Airdate:</b>Sun 05 Feb 1995<br>\",\"<b>Description:</b>Bart discovers a comet that is<br>on a collision course with Springfield.<br>\"],[\"<b>Bart vs. Australia</b><br>\",\"<b>Episode:</b> S6E16<br>\",\"<b>Airdate:</b>Sun 19 Feb 1995<br>\",\"<b>Description:</b>After refusing to pay for a<br>collect call, Bart must travel down under to<br>repair US-Australian political relations, but is<br>unprepared for the punishment awaiting him.<br>\"],[\"<b>Homer vs. Patty and Selma</b><br>\",\"<b>Episode:</b> S6E17<br>\",\"<b>Airdate:</b>Sun 26 Feb 1995<br>\",\"<b>Description:</b>Desperate for money, Homer<br>takes a loan from Patty and Selma; Bart discovers<br>a natural talent for ballet.<br>\"],[\"<b>'Round Springfield</b><br>\",\"<b>Episode:</b> S6E22<br>\",\"<b>Airdate:</b>Sun 15 Oct 1995<br>\",\"<b>Description:</b>While Bart is hospitalized,<br>Lisa runs into her old mentor Bleeding Gums<br>Murphy, who is also a patient, and becomes<br>devastated when he dies soon after.<br>\"],[\"<b>The Springfield Connection</b><br>\",\"<b>Episode:</b> S6E23<br>\",\"<b>Airdate:</b>Sun 07 May 1995<br>\",\"<b>Description:</b>Marge deals with corruption and<br>crime when she joins the Springfield police<br>force.<br>\"],[\"<b>Lemon of Troy</b><br>\",\"<b>Episode:</b> S6E24<br>\",\"<b>Airdate:</b>Sun 14 May 1995<br>\",\"<b>Description:</b>When a group of Shelbyville<br>kids steal Springfield's sacred lemon tree, Bart<br>and his friends venture there to get the tree<br>back.<br>\"],[\"<b>Radioactive Man</b><br>\",\"<b>Episode:</b> S7E2<br>\",\"<b>Airdate:</b>Sun 08 Oct 1995<br>\",\"<b>Description:</b>Milhouse is cast as Radioactive<br>Man's sidekick in a Hollywood production of the<br>comic book.<br>\"],[\"<b>Home Sweet Home-Dum-Diddly Doodily</b><br>\",\"<b>Episode:</b> S7E3<br>\",\"<b>Airdate:</b>Sun 26 Nov 1995<br>\",\"<b>Description:</b>Marge and Homer lose custody of<br>the kids, who are sent to live at the Flanders'<br>house.<br>\"],[\"<b>Bart Sells His Soul</b><br>\",\"<b>Episode:</b> S7E4<br>\",\"<b>Airdate:</b>Sun 03 Dec 1995<br>\",\"<b>Description:</b>Bart casually sells his soul to<br>Milhouse for $5 but soon regrets it; Moe converts<br>his dank bar into a family restaurant.<br>\"],[\"<b>King Size Homer</b><br>\",\"<b>Episode:</b> S7E7<br>\",\"<b>Airdate:</b>Sun 07 Jan 1996<br>\",\"<b>Description:</b>Homer intentionally gains more<br>weight in order to qualify for disability and work<br>from home, but soon realizes that being morbidly<br>obese comes with its own problems.<br>\"],[\"<b>The Simpsons 138th Episode Spectacular!</b><br>\",\"<b>Episode:</b> S7E10<br>\",\"<b>Airdate:</b>Sun 04 Feb 1996<br>\",\"<b>Description:</b>Troy McClure hosts a<br>retrospective of the first 137 episodes of The<br>Simpsons (1989).<br>\"],[\"<b>Marge Be Not Proud</b><br>\",\"<b>Episode:</b> S7E11<br>\",\"<b>Airdate:</b>Sun 24 Dec 1995<br>\",\"<b>Description:</b>Marge's relationship with Bart<br>is strained when he is caught shoplifting before<br>Christmas.<br>\"],[\"<b>Team Homer</b><br>\",\"<b>Episode:</b> S7E12<br>\",\"<b>Airdate:</b>Sun 31 Mar 1996<br>\",\"<b>Description:</b>Homer starts a bowling team<br>with Moe, Apu and Otto, but Mr. Burns insists on<br>joining after learning that the team was funded<br>with his money; Springfield Elementary introduces<br>uniforms.<br>\"],[\"<b>Scenes from the Class Struggle in Springfield</b><br>\",\"<b>Episode:</b> S7E14<br>\",\"<b>Airdate:</b>Sun 14 Apr 1996<br>\",\"<b>Description:</b>After buying a Chanel suit at a<br>bargain price, Marge finds herself invited to a<br>country club by a former schoolmate. Taken in by<br>the opulence of the place, she is soon overcome by<br>a desperation to fit in.<br>\"],[\"<b>The Day the Violence Died</b><br>\",\"<b>Episode:</b> S7E18<br>\",\"<b>Airdate:</b>Sun 09 Jun 1996<br>\",\"<b>Description:</b>Bart and Lisa meet a vagabond<br>who claims to be the creator of Itchy from \\\"Itchy<br>and Scratchy.\\\"<br>\"],[\"<b>A Fish Called Selma</b><br>\",\"<b>Episode:</b> S7E19<br>\",\"<b>Airdate:</b>Sun 02 Jun 1996<br>\",\"<b>Description:</b>Washed-up movie star Troy<br>McClure starts dating Selma in an attempt to<br>silence bizarre rumors about his personal life and<br>resuscitate his career.<br>\"],[\"<b>Bart on the Road</b><br>\",\"<b>Episode:</b> S7E20<br>\",\"<b>Airdate:</b>Sun 30 Jun 1996<br>\",\"<b>Description:</b>Bart makes a fake driver's<br>license and takes Milhouse, Martin and Nelson on a<br>huge road trip; Lisa spends time with Homer at the<br>power plant.<br>\"],[\"<b>22 Short Films About Springfield</b><br>\",\"<b>Episode:</b> S7E21<br>\",\"<b>Airdate:</b>Sun 18 Aug 1996<br>\",\"<b>Description:</b>A series of vignettes<br>showcasing a day in the life of various<br>Springfield residents.<br>\"],[\"<b>Much Apu About Nothing</b><br>\",\"<b>Episode:</b> S7E23<br>\",\"<b>Airdate:</b>Sun 18 Aug 1996<br>\",\"<b>Description:</b>Anti-immigration fever sweeps<br>Springfield, which threatens to lead to the<br>deportation of Apu, until Homer decides to reject<br>the mob mentality and help him become a legal<br>citizen.<br>\"],[\"<b>You Only Move Twice</b><br>\",\"<b>Episode:</b> S8E2<br>\",\"<b>Airdate:</b>Sun 05 Jan 1997<br>\",\"<b>Description:</b>The Simpsons move to Cypress<br>Creek, where Homer unwittingly works for a<br>charismatic supervillain; the rest of the family<br>struggles with the transfer.<br>\"],[\"<b>Bart After Dark</b><br>\",\"<b>Episode:</b> S8E5<br>\",\"<b>Airdate:</b>Sun 19 Jan 1997<br>\",\"<b>Description:</b>Marge leads a crusade against a<br>local burlesque house after she discovers Bart<br>working there.<br>\"],[\"<b>A Milhouse Divided</b><br>\",\"<b>Episode:</b> S8E6<br>\",\"<b>Airdate:</b>Sun 22 Dec 1996<br>\",\"<b>Description:</b>Homer questions the state of<br>his marriage after Luann Van Houten demands a<br>divorce from Kirk.<br>\"],[\"<b>El Viaje Misterioso de Nuestro Jomer</b><br>\",\"<b>Episode:</b> S8E9<br>\",\"<b>Airdate:</b>Sun 30 Mar 1997<br>\",\"<b>Description:</b>After eating insanity peppers<br>at a chili cook-off, Homer has a hallucination of<br>a talking coyote urging him to find his<br>soulmate.<br>\"],[\"<b>The Springfield Files</b><br>\",\"<b>Episode:</b> S8E10<br>\",\"<b>Airdate:</b>Sun 30 Mar 1997<br>\",\"<b>Description:</b>Special Agents Mulder and<br>Scully arrive in Springfield after Homer claims to<br>have seen an alien.<br>\"],[\"<b>The Twisted World of Marge Simpson</b><br>\",\"<b>Episode:</b> S8E11<br>\",\"<b>Airdate:</b>Sun 06 Apr 1997<br>\",\"<b>Description:</b>Marge enters the pretzel<br>vending business, but when she fails, Homer<br>recruits some help from the mob.<br>\"],[\"<b>The Itchy & Scratchy & Poochie Show</b><br>\",\"<b>Episode:</b> S8E14<br>\",\"<b>Airdate:</b>Sun 13 Apr 1997<br>\",\"<b>Description:</b>Homer is cast as Poochie, a new<br>\\\"Itchy and Scratchy\\\" character designed to reverse<br>declining ratings; a hip college student moves in<br>with the Simpsons.<br>\"],[\"<b>The Old Man and the Lisa</b><br>\",\"<b>Episode:</b> S8E21<br>\",\"<b>Airdate:</b>Sun 06 Jul 1997<br>\",\"<b>Description:</b>Burns loses his fortune and<br>recruits Lisa to help him get it back.<br>\"],[\"<b>In Marge We Trust</b><br>\",\"<b>Episode:</b> S8E22<br>\",\"<b>Airdate:</b>Sun 20 Jul 1997<br>\",\"<b>Description:</b>Marge becomes a church<br>counselor; Homer discovers his face on a Japanese<br>detergent logo.<br>\"],[\"<b>Homer's Enemy</b><br>\",\"<b>Episode:</b> S8E23<br>\",\"<b>Airdate:</b>Sun 10 Aug 1997<br>\",\"<b>Description:</b>Homer's laziness begets the ire<br>of his industrious but arrogant new co-worker<br>Frank Grimes; Bart buys a run-down factory for a<br>dollar.<br>\"],[\"<b>The Simpsons Spin-Off Showcase</b><br>\",\"<b>Episode:</b> S8E24<br>\",\"<b>Airdate:</b>Sun 24 Aug 1997<br>\",\"<b>Description:</b>Troy McClure presents three<br>spinoffs: \\\"Chief Wiggins, P.I.,\\\" \\\"The Love-Matic<br>Grandpa,\\\" and \\\"The Simpson Family Smile-Time<br>Variety Hour.\\\"<br>\"],[\"<b>The Secret War of Lisa Simpson</b><br>\",\"<b>Episode:</b> S8E25<br>\",\"<b>Airdate:</b>Sun 25 Jan 1998<br>\",\"<b>Description:</b>Bart is sent to a military<br>school to be disciplined; Lisa, seeking a<br>challenge, enrolls with him, but faces<br>discrimination as the school's only girl<br>cadet.<br>\"],[\"<b>The City of New York vs. Homer Simpson</b><br>\",\"<b>Episode:</b> S9E1<br>\",\"<b>Airdate:</b>Sun 05 Oct 1997<br>\",\"<b>Description:</b>Homer must travel to New York<br>to get his car back, which is illegally parked at<br>World Trade Center Plaza.<br>\"],[\"<b>Lisa the Skeptic</b><br>\",\"<b>Episode:</b> S9E8<br>\",\"<b>Airdate:</b>Sun 28 Dec 1997<br>\",\"<b>Description:</b>Townspeople believe that Lisa<br>has unearthed the fossilized remains of an<br>angel.<br>\"],[\"<b>Realty Bites</b><br>\",\"<b>Episode:</b> S9E9<br>\",\"<b>Airdate:</b>Sun 11 Jan 1998<br>\",\"<b>Description:</b>Marge becomes a real-estate<br>agent.<br>\"],[\"<b>Miracle on Evergreen Terrace</b><br>\",\"<b>Episode:</b> S9E10<br>\",\"<b>Airdate:</b>Sun 20 Dec 1998<br>\",\"<b>Description:</b>When Bart accidentally burns<br>down the family's Christmas tree and gifts, he<br>claims that a robber stole everything. As a<br>result, the town gets them a new tree and pitches<br>in to raise funds.<br>\"],[\"<b>This Little Wiggy</b><br>\",\"<b>Episode:</b> S9E18<br>\",\"<b>Airdate:</b>Sun 17 May 1998<br>\",\"<b>Description:</b>Bart is reluctant to hang out<br>with Ralph Wiggum, until he gains access to Chief<br>Wiggum's master key to the city.<br>\"],[\"<b>The Trouble with Trillions</b><br>\",\"<b>Episode:</b> S9E20<br>\",\"<b>Airdate:</b>Sun 07 Jun 1998<br>\",\"<b>Description:</b>Homer is forced to spy for the<br>IRS after an audit. But when he is asked to<br>retrieve a trillion dollar bill from Mr. Burns, he<br>switches sides and the two flee to Cuba for<br>refuge.<br>\"],[\"<b>Girly Edition</b><br>\",\"<b>Episode:</b> S9E21<br>\",\"<b>Airdate:</b>Sun 14 Jun 1998<br>\",\"<b>Description:</b>Bart and Lisa become locked in<br>competition when they anchor a children's news<br>program; Homer adopts a helper monkey.<br>\"],[\"<b>King of the Hill</b><br>\",\"<b>Episode:</b> S9E23<br>\",\"<b>Airdate:</b>Sun 19 Jul 1998<br>\",\"<b>Description:</b>After humiliating Bart at a<br>church picnic, Homer resolves to get in shape.<br>Soon, he is contacted by an energy bar company<br>that wants him to climb a mountain as a<br>promotion.<br>\"],[\"<b>Lard of the Dance</b><br>\",\"<b>Episode:</b> S10E1<br>\",\"<b>Airdate:</b>Sun 04 Oct 1998<br>\",\"<b>Description:</b>Homer and Bart try to start<br>their own grease business; Lisa organizes a school<br>dance.<br>\"],[\"<b>The Wizard of Evergreen Terrace</b><br>\",\"<b>Episode:</b> S10E2<br>\",\"<b>Airdate:</b>Sun 25 Oct 1998<br>\",\"<b>Description:</b>Homer's midlife crisis leads to<br>a disastrous attempt at being an inventor.<br>\"],[\"<b>Bart the Mother</b><br>\",\"<b>Episode:</b> S10E3<br>\",\"<b>Airdate:</b>Sun 22 Nov 1998<br>\",\"<b>Description:</b>When Bart accidentally kills a<br>mother bird, he tries to make amends by raising<br>the eggs.<br>\"],[\"<b>Homer Simpson in: 'Kidney Trouble'</b><br>\",\"<b>Episode:</b> S10E8<br>\",\"<b>Airdate:</b>Sun 07 Feb 1999<br>\",\"<b>Description:</b>Homer gets cold feet before a<br>transplant operation which could save Grampa's<br>life.<br>\"],[\"<b>Mayored to the Mob</b><br>\",\"<b>Episode:</b> S10E9<br>\",\"<b>Airdate:</b>Sun 15 Aug 1999<br>\",\"<b>Description:</b>Homer deals with corruption<br>when he becomes Mayor Quimby's bodyguard.<br>\"],[\"<b>Wild Barts Can't Be Broken</b><br>\",\"<b>Episode:</b> S10E11<br>\",\"<b>Airdate:</b>Sun 28 Feb 1999<br>\",\"<b>Description:</b>The children of Springfield<br>revolt after a curfew is enforced.<br>\"],[\"<b>Sunday, Cruddy Sunday</b><br>\",\"<b>Episode:</b> S10E12<br>\",\"<b>Airdate:</b>Sun 28 Mar 1999<br>\",\"<b>Description:</b>Homer and his friends head to<br>the Super Bowl, but are forced to sneak in when<br>they discover their tickets are counterfeit.<br>\"],[\"<b>I'm with Cupid</b><br>\",\"<b>Episode:</b> S10E14<br>\",\"<b>Airdate:</b>Sun 04 Apr 1999<br>\",\"<b>Description:</b>The husbands of Springfield<br>plot revenge after Apu outshines them on<br>Valentine's Day.<br>\"],[\"<b>Marge Simpson in: 'Screaming Yellow Honkers'</b><br>\",\"<b>Episode:</b> S10E15<br>\",\"<b>Airdate:</b>Sun 18 Apr 1999<br>\",\"<b>Description:</b>Marge's new SUV gives her a<br>potent case of road rage.<br>\"],[\"<b>Maximum Homerdrive</b><br>\",\"<b>Episode:</b> S10E17<br>\",\"<b>Airdate:</b>Sun 09 May 1999<br>\",\"<b>Description:</b>Homer takes Bart with him on a<br>cross-country delivery on behalf of a trucker who<br>died before completing it; Marge and Lisa<br>experience problems with their new novelty<br>doorbell.<br>\"],[\"<b>The Old Man and the 'C' Student</b><br>\",\"<b>Episode:</b> S10E20<br>\",\"<b>Airdate:</b>Sun 20 Jun 1999<br>\",\"<b>Description:</b>Bart is punished with community<br>service at the Retirement Castle after he ruins<br>Springfield's chances of hosting the Olympics.<br>\"],[\"<b>Thirty Minutes Over Tokyo</b><br>\",\"<b>Episode:</b> S10E23<br>\",\"<b>Airdate:</b>Sun 10 Oct 1999<br>\",\"<b>Description:</b>The Simpsons must perform on a<br>Japanese game show after Homer loses their money<br>on a vacation.<br>\"],[\"<b>Brother's Little Helper</b><br>\",\"<b>Episode:</b> S11E2<br>\",\"<b>Airdate:</b>Sun 24 Oct 1999<br>\",\"<b>Description:</b>Bart is put on medication to<br>control his behavior, but the pills cause him to<br>become paranoid and insane.<br>\"],[\"<b>Guess Who's Coming to Criticize Dinner?</b><br>\",\"<b>Episode:</b> S11E3<br>\",\"<b>Airdate:</b>Sun 28 Nov 1999<br>\",\"<b>Description:</b>When Homer is hired as a local<br>food critic by a newspaper in Springfield, he<br>finds himself in deep trouble after his reviews<br>turn out to be too critical.<br>\"],[\"<b>Eight Misbehavin'</b><br>\",\"<b>Episode:</b> S11E7<br>\",\"<b>Airdate:</b>Sun 02 Jan 2000<br>\",\"<b>Description:</b>Apu struggles with fatherhood<br>after Manjula gives birth to octuplets.<br>\"],[\"<b>Grift of the Magi</b><br>\",\"<b>Episode:</b> S11E9<br>\",\"<b>Airdate:</b>Sun 13 Feb 2000<br>\",\"<b>Description:</b>A toy company purchases<br>Springfield Elementary and uses the student body<br>as a focus group for their new Christmas toy<br>Funzo.<br>\"],[\"<b>Faith Off</b><br>\",\"<b>Episode:</b> S11E11<br>\",\"<b>Airdate:</b>Sun 26 Mar 2000<br>\",\"<b>Description:</b>Bart is led to believe he has<br>special healing powers after a tent revival.<br>\"],[\"<b>Bart to the Future</b><br>\",\"<b>Episode:</b> S11E17<br>\",\"<b>Airdate:</b>Sun 03 Sep 2000<br>\",\"<b>Description:</b>Bart gets a glimpse of the<br>future while the family is on vacation at an<br>Indian casino.<br>\"],[\"<b>Kill the Alligator and Run</b><br>\",\"<b>Episode:</b> S11E19<br>\",\"<b>Airdate:</b>Sun 10 Sep 2000<br>\",\"<b>Description:</b>Fearing he only has three years<br>to live, Homer takes the family on a vacation to<br>Florida, where they become fugitives after<br>seemingly killing a famous alligator.<br>\"],[\"<b>Last Tap Dance in Springfield</b><br>\",\"<b>Episode:</b> S11E20<br>\",\"<b>Airdate:</b>Sun 01 Oct 2000<br>\",\"<b>Description:</b>Lisa has difficulties learning<br>to tap dance; Bart and Milhouse ditch summer camp<br>to spend a week living in the mall.<br>\"],[\"<b>It's a Mad, Mad, Mad, Mad Marge</b><br>\",\"<b>Episode:</b> S11E21<br>\",\"<b>Airdate:</b>Sun 08 Oct 2000<br>\",\"<b>Description:</b>Everybody loves the new<br>Simpsons' house guest Becky. Except Marge, who<br>thinks Becky wants to kill her.<br>\"],[\"<b>Behind the Laughter</b><br>\",\"<b>Episode:</b> S11E22<br>\",\"<b>Airdate:</b>Sun 03 Sep 2000<br>\",\"<b>Description:</b>Fans are invited to take a<br>behind-the-scenes look at \\\"The Simpsons,\\\"<br>revisiting some of the most memorable experiences<br>the family has been through.<br>\"],[\"<b>A Tale of Two Springfields</b><br>\",\"<b>Episode:</b> S12E2<br>\",\"<b>Airdate:</b>Sun 12 Nov 2000<br>\",\"<b>Description:</b>Springfield is split in two<br>when Homer revolts because his area code is<br>changed; the new town walls itself off from the<br>neighbors.<br>\"],[\"<b>Skinner's Sense of Snow</b><br>\",\"<b>Episode:</b> S12E8<br>\",\"<b>Airdate:</b>Sun 11 Feb 2001<br>\",\"<b>Description:</b>A freak blizzard traps the<br>students of Springfield Elementary inside their<br>school. Their lives at stake, they are at the<br>mercy of the rescue efforts of a woozy Homer and<br>Ned.<br>\"],[\"<b>Hungry Hungry Homer</b><br>\",\"<b>Episode:</b> S12E15<br>\",\"<b>Airdate:</b>Sun 20 May 2001<br>\",\"<b>Description:</b>Homer is forced to go on a<br>hunger strike by the Springfield Isotopes after<br>uncovering a secret plan to have the baseball team<br>moved to New Mexico.<br>\"],[\"<b>Bye Bye Nerdy</b><br>\",\"<b>Episode:</b> S12E16<br>\",\"<b>Airdate:</b>Sun 03 Jun 2001<br>\",\"<b>Description:</b>Problems with a bully lead Lisa<br>to examine just what makes bullies aggressive.<br>Meanwhile, Homer gets into the baby-proofing<br>business.<br>\"],[\"<b>Simpson Safari</b><br>\",\"<b>Episode:</b> S12E17<br>\",\"<b>Airdate:</b>Sun 17 Jun 2001<br>\",\"<b>Description:</b>The Simpsons win a trip to<br>Africa after Homer finds a golden animal cracker<br>from the 60's in the loft.<br>\"],[\"<b>Trilogy of Error</b><br>\",\"<b>Episode:</b> S12E18<br>\",\"<b>Airdate:</b>Sun 15 Jul 2001<br>\",\"<b>Description:</b>Homer's rush to the hospital to<br>re-attach his severed thumb, Lisa's rush to school<br>to win the science fair, and Bart's run-in with an<br>illegal fireworks scheme interconnect from their<br>point of view.<br>\"],[\"<b>Simpsons Tall Tales</b><br>\",\"<b>Episode:</b> S12E21<br>\",\"<b>Airdate:</b>Sun 16 Sep 2001<br>\",\"<b>Description:</b>A hobo tells the Simpsons tall<br>tales on a train ride to Delaware. In the first<br>story, Homer is outcast from society as Paul<br>Bunyan. Then, Lisa travels the country planting<br>trees as Connie Appleseed. Finally, Bart and<br>Nelson raft down the Mississippi as Tom Sawyer and<br>Huck Finn.<br>\"],[\"<b>Brawl in the Family</b><br>\",\"<b>Episode:</b> S13E7<br>\",\"<b>Airdate:</b>Sun 24 Feb 2002<br>\",\"<b>Description:</b>A social services officer<br>brings unity to the Simpson family, but their<br>newfound happiness is threatened when the cocktail<br>waitress Homer married in Vegas shows up at their<br>door.<br>\"],[\"<b>Sweets and Sour Marge</b><br>\",\"<b>Episode:</b> S13E8<br>\",\"<b>Airdate:</b>Sun 24 Mar 2002<br>\",\"<b>Description:</b>Marge rallies for a ban on<br>sugar after Springfield is declared America's<br>fattest city.<br>\"],[\"<b>Jaws Wired Shut</b><br>\",\"<b>Episode:</b> S13E9<br>\",\"<b>Airdate:</b>Sun 10 Mar 2002<br>\",\"<b>Description:</b>Marge can't deal with the quiet<br>after Homer has his jaws wired shut.<br>\"],[\"<b>The Bart Wants What It Wants</b><br>\",\"<b>Episode:</b> S13E11<br>\",\"<b>Airdate:</b>Sun 21 Apr 2002<br>\",\"<b>Description:</b>Bart breaks up with his new<br>girlfriend Greta, but gets jealous when she begins<br>dating Milhouse.<br>\"],[\"<b>The Old Man and the Key</b><br>\",\"<b>Episode:</b> S13E13<br>\",\"<b>Airdate:</b>Sun 28 Jul 2002<br>\",\"<b>Description:</b>Abe gets his driver's license<br>back to impress a new woman at the retirement<br>home.<br>\"],[\"<b>Tales from the Public Domain</b><br>\",\"<b>Episode:</b> S13E14<br>\",\"<b>Airdate:</b>Sun 09 Jun 2002<br>\",\"<b>Description:</b>Homer reads three stories from<br>an overdue library book, imagining himself as<br>Odysseus, Lisa as Joan of Arc and Bart as<br>Hamlet.<br>\"],[\"<b>Blame It on Lisa</b><br>\",\"<b>Episode:</b> S13E15<br>\",\"<b>Airdate:</b>Sun 23 Jun 2002<br>\",\"<b>Description:</b>Lisa sponsors an orphan in<br>Brazil, and when he goes missing she convinces the<br>family to go to Brazil to find him. While there,<br>Homer is kidnapped.<br>\"],[\"<b>Gump Roast</b><br>\",\"<b>Episode:</b> S13E17<br>\",\"<b>Airdate:</b>Sun 15 Sep 2002<br>\",\"<b>Description:</b>In this clip show, the citizens<br>of Springfield honor Homer Simpsons with a Roast,<br>but the festivities take a turn for the worst when<br>aliens crash it.<br>\"],[\"<b>I Am Furious Yellow</b><br>\",\"<b>Episode:</b> S13E18<br>\",\"<b>Airdate:</b>Sun 07 Jul 2002<br>\",\"<b>Description:</b>Bart's comic about Homer<br>becomes a hit on-line, prompting Homer to attempt<br>to control his anger.<br>\"],[\"<b>The Sweetest Apu</b><br>\",\"<b>Episode:</b> S13E19<br>\",\"<b>Airdate:</b>Sun 18 Aug 2002<br>\",\"<b>Description:</b>Apu's marriage is on the rocks<br>after Manjula finds out he cheated on her.<br>\"],[\"<b>Little Girl in the Big Ten</b><br>\",\"<b>Episode:</b> S13E20<br>\",\"<b>Airdate:</b>Sun 08 Sep 2002<br>\",\"<b>Description:</b>Lisa pretends to be a college<br>student when she befriends two college girls; Bart<br>is forced to live in a plastic bubble after being<br>bitten by a mosquito.<br>\"],[\"<b>The Frying Game</b><br>\",\"<b>Episode:</b> S13E21<br>\",\"<b>Airdate:</b>Sun 13 Oct 2002<br>\",\"<b>Description:</b>Homer and Marge find themselves<br>on death row after they are framed for murder.<br>\"],[\"<b>Papa's Got a Brand New Badge</b><br>\",\"<b>Episode:</b> S13E22<br>\",\"<b>Airdate:</b>Sun 06 Oct 2002<br>\",\"<b>Description:</b>Homer becomes chief of police<br>after a scandal forces Wiggum out.<br>\"],[\"<b>Large Marge</b><br>\",\"<b>Episode:</b> S14E4<br>\",\"<b>Airdate:</b>Sun 22 Dec 2002<br>\",\"<b>Description:</b>Marge accidentally gets breast<br>implants.<br>\"],[\"<b>Helter Shelter</b><br>\",\"<b>Episode:</b> S14E5<br>\",\"<b>Airdate:</b>Sun 05 Jan 2003<br>\",\"<b>Description:</b>The Simpsons family must<br>participate in a reality television show in which<br>they try to live in the same way that the families<br>did in the 1800s.<br>\"],[\"<b>The Dad Who Knew Too Little</b><br>\",\"<b>Episode:</b> S14E8<br>\",\"<b>Airdate:</b>Sun 23 Mar 2003<br>\",\"<b>Description:</b>Homer hires a private detective<br>to learn more about Lisa.<br>\"],[\"<b>The Strong Arms of the Ma</b><br>\",\"<b>Episode:</b> S14E9<br>\",\"<b>Airdate:</b>Sun 16 Feb 2003<br>\",\"<b>Description:</b>Marge takes up body-building to<br>boost her self-esteem after being mugged at the<br>Kwik-E-Mart.<br>\"],[\"<b>The Bart of War</b><br>\",\"<b>Episode:</b> S14E21<br>\",\"<b>Airdate:</b>Sun 28 Sep 2003<br>\",\"<b>Description:</b>Bart and Milhouse are forced<br>into community service after destroying Flanders'<br>memorial and join separate community groups,<br>pitting themselves against each other.<br>\"],[\"<b>My Mother the Carjacker</b><br>\",\"<b>Episode:</b> S15E2<br>\",\"<b>Airdate:</b>Sun 30 Nov 2003<br>\",\"<b>Description:</b>Homer's mother returns to<br>Springfield, and the city pardons her from the<br>charges against her. Mr Burns is furious about<br>this and makes a plan to get Mona Simpson in<br>prison.<br>\"],[\"<b>The President Wore Pearls</b><br>\",\"<b>Episode:</b> S15E3<br>\",\"<b>Airdate:</b>Sun 21 Dec 2003<br>\",\"<b>Description:</b>Lisa feuds with Principal<br>Skinner after being elected school president.<br>\"],[\"<b>The Regina Monologues</b><br>\",\"<b>Episode:</b> S15E4<br>\",\"<b>Airdate:</b>Fri 09 Jan 2004<br>\",\"<b>Description:</b>Prime minister Tony Blair<br>welcomes the Simpsons to England where they run<br>into author J.K. Rowling and actor Ian<br>McKellen.<br>\"],[\"<b>I, (Annoyed Grunt)-Bot</b><br>\",\"<b>Episode:</b> S15E9<br>\",\"<b>Airdate:</b>Sun 28 Mar 2004<br>\",\"<b>Description:</b>Homer pretends to be a robot<br>and competes in Robot Wars to win Bart's<br>affection; Lisa has cat trouble.<br>\"],[\"<b>Diatribe of a Mad Housewife</b><br>\",\"<b>Episode:</b> S15E10<br>\",\"<b>Airdate:</b>Sun 11 Apr 2004<br>\",\"<b>Description:</b>Marge is inspired to write a<br>novel, but the storyline of the book (a fat, mean<br>husband, and a handsome, sweet neighbor) makes<br>Homer jealous.<br>\"],[\"<b>Milhouse Doesn't Live Here Anymore</b><br>\",\"<b>Episode:</b> S15E12<br>\",\"<b>Airdate:</b>Sun 20 Jun 2004<br>\",\"<b>Description:</b>Milhouse moves to Capitol City,<br>and therefore Lisa and Bart become best<br>friends.<br>\"],[\"<b>The Ziff Who Came to Dinner</b><br>\",\"<b>Episode:</b> S15E14<br>\",\"<b>Airdate:</b>Tue 21 Sep 2004<br>\",\"<b>Description:</b>Artie Ziff is discovered hiding<br>out in the Simpsons' attic.<br>\"],[\"<b>The Wandering Juvie</b><br>\",\"<b>Episode:</b> S15E16<br>\",\"<b>Airdate:</b>Sun 03 Oct 2004<br>\",\"<b>Description:</b>After playing a prank on the<br>whole town, Bart is sentenced to six months of<br>juvenile detention. There he meets Gina, who<br>forces Bart to escape with her.<br>\"],[\"<b>All's Fair in Oven War</b><br>\",\"<b>Episode:</b> S16E2<br>\",\"<b>Airdate:</b>Sun 21 Nov 2004<br>\",\"<b>Description:</b>Homer buys Marge a new kitchen,<br>and Marge likes cooking in the new kitchen so much<br>she attends the Ovenfresh Bakeoff.<br>\"],[\"<b>Fat Man and Little Boy</b><br>\",\"<b>Episode:</b> S16E5<br>\",\"<b>Airdate:</b>Sun 09 Jan 2005<br>\",\"<b>Description:</b>Bart begins designing T-shirt<br>slogans, and his T-shirts become very popular<br>among the citizens of Springfield.<br>\"],[\"<b>Midnight Rx</b><br>\",\"<b>Episode:</b> S16E6<br>\",\"<b>Airdate:</b>Sun 30 Jan 2005<br>\",\"<b>Description:</b>Homer goes to Canada with Apu<br>and Ned to purchase Grampa's medication, but the<br>three have problems getting home because the<br>border guard thinks Apu is a terrorist.<br>\"],[\"<b>On a Clear Day I Can't See My Sister</b><br>\",\"<b>Episode:</b> S16E11<br>\",\"<b>Airdate:</b>Sun 22 May 2005<br>\",\"<b>Description:</b>After bullying her, Bart is<br>restricted by court order to come too close to<br>Lisa.<br>\"],[\"<b>Future-Drama</b><br>\",\"<b>Episode:</b> S16E15<br>\",\"<b>Airdate:</b>Sun 28 Aug 2005<br>\",\"<b>Description:</b>Bart and Lisa see into the<br>future where their lives have changed.<br>\"],[\"<b>The Heartbroke Kid</b><br>\",\"<b>Episode:</b> S16E17<br>\",\"<b>Airdate:</b>Sun 30 Oct 2005<br>\",\"<b>Description:</b>Bart starts living on food from<br>the new candy machine in school only, but he<br>becomes so overweight that he has to go to a fat<br>camp.<br>\"],[\"<b>A Star Is Torn</b><br>\",\"<b>Episode:</b> S16E18<br>\",\"<b>Airdate:</b>Sun 09 Oct 2005<br>\",\"<b>Description:</b>Lisa attends a singing<br>competition for children, and Homer becomes her<br>manager because of his skill to write songs that<br>the crowd loves.<br>\"],[\"<b>The Bonfire of the Manatees</b><br>\",\"<b>Episode:</b> S17E1<br>\",\"<b>Airdate:</b>Sun 11 Dec 2005<br>\",\"<b>Description:</b>When Marge leaves Homer because<br>he allowed an adult movie being shot in their<br>house, she seeks self fulfillment in protecting<br>manatees.<br>\"],[\"<b>Milhouse of Sand and Fog</b><br>\",\"<b>Episode:</b> S17E3<br>\",\"<b>Airdate:</b>Sun 06 Nov 2005<br>\",\"<b>Description:</b>When Kirk and Luann van Houten<br>plan to get back together, Milhouse realizes they<br>are too interested in each other, so he and Bart<br>try to break them up, only for the plan to<br>backfire and cause Homer and Marge to break up yet<br>again.<br>\"],[\"<b>See Homer Run</b><br>\",\"<b>Episode:</b> S17E6<br>\",\"<b>Airdate:</b>Sun 08 Jan 2006<br>\",\"<b>Description:</b>When a recall election puts<br>Mayor Quimby's job up for grabs, Homer seizes the<br>opportunity to win office and gain his daughter's<br>love.<br>\"],[\"<b>My Fair Laddy</b><br>\",\"<b>Episode:</b> S17E12<br>\",\"<b>Airdate:</b>Sun 26 Mar 2006<br>\",\"<b>Description:</b>Bart and Lisa bet whether Lisa<br>can turn Groundskeeper Willie into a proper<br>gentleman.<br>\"],[\"<b>The Seemingly Never-Ending Story</b><br>\",\"<b>Episode:</b> S17E13<br>\",\"<b>Airdate:</b>Sun 02 Apr 2006<br>\",\"<b>Description:</b>In this story within a story<br>within a story within a story, a cave-exploring<br>expedition, an angry sheep and a lovestruck Moe<br>become inextricably entwined.<br>\"],[\"<b>Bart Has Two Mommies</b><br>\",\"<b>Episode:</b> S17E14<br>\",\"<b>Airdate:</b>Sun 09 Apr 2006<br>\",\"<b>Description:</b>Marge starts babysitting the<br>Flanders boys, leading Homer to spend more time<br>with Bart and Lisa. Bart gets kidnapped by a<br>lonely movie chimpanzee.<br>\"],[\"<b>Million Dollar Abie</b><br>\",\"<b>Episode:</b> S17E16<br>\",\"<b>Airdate:</b>Sun 30 Apr 2006<br>\",\"<b>Description:</b>After blowing Springfield's<br>chances for an NFL franchise, Grandpa goes to an<br>assisted-suicide center, then becomes a<br>bullfighter.<br>\"],[\"<b>The Wettest Stories Ever Told</b><br>\",\"<b>Episode:</b> S17E18<br>\",\"<b>Airdate:</b>Sun 02 Jul 2006<br>\",\"<b>Description:</b>While waiting for the dinner at<br>the Frying Dutchman, the family starts telling<br>three stories about ships: \\\"Journey on the<br>Mayflower\\\", \\\"Mutiny on the Bounty\\\", and \\\"The<br>Neptune Adventure\\\".<br>\"],[\"<b>Girls Just Want to Have Sums</b><br>\",\"<b>Episode:</b> S17E19<br>\",\"<b>Airdate:</b>Sun 17 Sep 2006<br>\",\"<b>Description:</b>Springfield Elementary is<br>divided into two separate schools (one for boys,<br>one for girls) following Principal Skinner's<br>demotion. Concerned that the boys are receiving a<br>higher standard of education, Lisa disguises<br>herself as a boy.<br>\"],[\"<b>Regarding Margie</b><br>\",\"<b>Episode:</b> S17E20<br>\",\"<b>Airdate:</b>Sun 08 Oct 2006<br>\",\"<b>Description:</b>After hitting her head on a<br>stool Marge suffers from amnesia. Slowly but<br>surely memories are starting to come back, except<br>memories about Homer.<br>\"],[\"<b>The Monkey Suit</b><br>\",\"<b>Episode:</b> S17E21<br>\",\"<b>Airdate:</b>Sun 10 Sep 2006<br>\",\"<b>Description:</b>After seeing a museum exhibit<br>on evolution, in which creation is labeled a myth,<br>an outraged Ned Flanders teams with Reverend<br>Lovejoy to blackmail Principal Skinner into<br>requiring creationism to be taught in classrooms,<br>eventually at the expense of any mention of<br>evolution. Lisa becomes outraged herself, and<br>forms a student organization to teach evolution,<br>leading to a creationism vs. evolution trial, a la<br>Inherit the Wind.<br>\"],[\"<b>The Mook, the Chef, the Wife and Her Homer</b><br>\",\"<b>Episode:</b> S18E1<br>\",\"<b>Airdate:</b>Sun 22 Oct 2006<br>\",\"<b>Description:</b>When Fat Tony has to take a<br>time-out due to a whacking attempt, Homer and Bart<br>take over the business.<br>\"],[\"<b>Please Homer, Don't Hammer 'Em</b><br>\",\"<b>Episode:</b> S18E3<br>\",\"<b>Airdate:</b>Sun 05 Nov 2006<br>\",\"<b>Description:</b>Marge begins her own carpentry<br>business, but Homer becomes the face of the<br>business because nobody will take a female<br>carpenter seriously. And Bart uses Principal<br>Skinner's peanut allergy to his advantage.<br>\"],[\"<b>Ice Cream of Margie (with the Light Blue Hair)</b><br>\",\"<b>Episode:</b> S18E7<br>\",\"<b>Airdate:</b>Sun 10 Dec 2006<br>\",\"<b>Description:</b>Homer becomes an ice cream man<br>after being fired from the plant, and Marge uses<br>his leftover Popsicle sticks to create folk art<br>figures.<br>\"],[\"<b>The Haw-Hawed Couple</b><br>\",\"<b>Episode:</b> S18E8<br>\",\"<b>Airdate:</b>Sun 17 Dec 2006<br>\",\"<b>Description:</b>Bart and Nelson become best<br>friends, but Bart surprisingly discovers that the<br>fringe benefits aren't worth Nelson's<br>neediness.<br>\"],[\"<b>Kill Gil, Vol. 1 & 2</b><br>\",\"<b>Episode:</b> S18E9<br>\",\"<b>Airdate:</b>Sun 24 Dec 2006<br>\",\"<b>Description:</b>The Simpsons let Gil stay with<br>them during Christmas. However, he stays for 11<br>months because Marge can't tell him \\\"no.\\\"<br>\"],[\"<b>The Wife Aquatic</b><br>\",\"<b>Episode:</b> S18E10<br>\",\"<b>Airdate:</b>Sun 04 Feb 2007<br>\",\"<b>Description:</b>Homer returns Marge to Barnacle<br>Bay, where she spent her beloved summer vacations.<br>But when they get there, they discover that it is<br>no longer a tourist spot.<br>\"],[\"<b>Little Big Girl</b><br>\",\"<b>Episode:</b> S18E12<br>\",\"<b>Airdate:</b>Sun 11 Feb 2007<br>\",\"<b>Description:</b>Lisa embellishes her family<br>heritage as Native American for a school project;<br>Bart gets a driver's license and develops a<br>relationship with an older girl.<br>\"],[\"<b>Springfield Up</b><br>\",\"<b>Episode:</b> S18E13<br>\",\"<b>Airdate:</b>Sun 18 Feb 2007<br>\",\"<b>Description:</b>A parody of the \\\"Up Series\\\" of<br>British documentaries, in which a filmmaker<br>follows Homer and his friends from grade school<br>into their 40s.<br>\"],[\"<b>Yokel Chords</b><br>\",\"<b>Episode:</b> S18E14<br>\",\"<b>Airdate:</b>Sun 04 Mar 2007<br>\",\"<b>Description:</b>In this parody of The Sound of<br>Music (1965), Lisa becomes a tutor for Cletus'<br>seven children, until Krusty tries to exploit them<br>as entertainers. Meanwhile, Bart becomes<br>emotionally attached to his school-appointed<br>psychiatrist.<br>\"],[\"<b>Rome-old and Juli-eh</b><br>\",\"<b>Episode:</b> S18E15<br>\",\"<b>Airdate:</b>Sun 11 Mar 2007<br>\",\"<b>Description:</b>Selma and Grampa fall in love<br>and end up getting married, a marriage both Homer<br>and Patty are against.<br>\"],[\"<b>Marge Gamer</b><br>\",\"<b>Episode:</b> S18E17<br>\",\"<b>Airdate:</b>Sun 22 Apr 2007<br>\",\"<b>Description:</b>Marge decides to find out what<br>their Internet has to offer and soon gets hooked<br>on an online role-playing game; Homer referees<br>Lisa's soccer game.<br>\"],[\"<b>You Kent Always Say What You Want</b><br>\",\"<b>Episode:</b> S18E22<br>\",\"<b>Airdate:</b>Sun 20 May 2007<br>\",\"<b>Description:</b>After Kent Brockman is fired as<br>a news anchor, he and Lisa use the Internet to<br>expose the Fox News Conspiracy.<br>\"],[\"<b>Homer of Seville</b><br>\",\"<b>Episode:</b> S19E2<br>\",\"<b>Airdate:</b>Sun 30 Sep 2007<br>\",\"<b>Description:</b>Homer becomes an opera star<br>after an injury improves his singing voice. His<br>newfound popularity forces him to hire a personal<br>assistant, who turns out to be an obsessed<br>stalker.<br>\"],[\"<b>Midnight Towboy</b><br>\",\"<b>Episode:</b> S19E3<br>\",\"<b>Airdate:</b>Sun 07 Oct 2007<br>\",\"<b>Description:</b>Homer becomes the most hated<br>man in town after he becomes a tow truck driver,<br>and Marge teaches Maggie to not be an over-<br>dependent baby.<br>\"],[\"<b>Little Orphan Millie</b><br>\",\"<b>Episode:</b> S19E6<br>\",\"<b>Airdate:</b>Sun 03 Feb 2008<br>\",\"<b>Description:</b>Milhouse's parents are lost at<br>sea, which causes him to become a troubled loner.<br>But his new persona makes him the new most popular<br>kid at school, which sparks jealousy in Bart.<br>\"],[\"<b>Husbands and Knives</b><br>\",\"<b>Episode:</b> S19E7<br>\",\"<b>Airdate:</b>Sun 18 Nov 2007<br>\",\"<b>Description:</b>When Marge becomes a successful<br>businesswoman, Homer becomes worried that she will<br>dump him for a trophy husband. Therefore, he<br>decides to have plastic surgery to make himself<br>look like a hunk.<br>\"],[\"<b>Eternal Moonshine of the Simpson Mind</b><br>\",\"<b>Episode:</b> S19E9<br>\",\"<b>Airdate:</b>Sun 16 Dec 2007<br>\",\"<b>Description:</b>Homer goes to Dr. Frink to help<br>him recover his memories from the night before,<br>and he discovers, based on his interpretation of<br>the memories, that Marge is having an affair.<br>\"],[\"<b>E Pluribus Wiggum</b><br>\",\"<b>Episode:</b> S19E10<br>\",\"<b>Airdate:</b>Sun 06 Jan 2008<br>\",\"<b>Description:</b>Springfield becomes the site of<br>the first presidential primary. The townspeople<br>soon get sick of all of the presidential<br>candidates sucking up to them, and decide to<br>support their own write-in candidate: Ralph<br>Wiggum.<br>\"],[\"<b>Love, Springfieldian Style</b><br>\",\"<b>Episode:</b> S19E12<br>\",\"<b>Airdate:</b>Sun 21 Dec 2008<br>\",\"<b>Description:</b>A series of romantic<br>Valentine's Day parodies based on \\\"Bonnie and<br>Clyde,\\\" \\\"Lady and the Tramp,\\\" and \\\"Sid and<br>Nancy.\\\"<br>\"],[\"<b>Apocalypse Cow</b><br>\",\"<b>Episode:</b> S19E17<br>\",\"<b>Airdate:</b>Sun 27 Apr 2008<br>\",\"<b>Description:</b>Bart tries to save the cow he<br>raised for his 4-H club from the slaughterhouse,<br>and in the process winds up getting accidentally<br>engaged to one of Cletus's daughters.<br>\"],[\"<b>Sex, Pies and Idiot Scrapes</b><br>\",\"<b>Episode:</b> S20E1<br>\",\"<b>Airdate:</b>Sun 28 Sep 2008<br>\",\"<b>Description:</b>Homer and Ned go into business<br>together as bounty hunters, and Marge takes a job<br>at an erotic bakery.<br>\"],[\"<b>Dangerous Curves</b><br>\",\"<b>Episode:</b> S20E5<br>\",\"<b>Airdate:</b>Sun 09 Nov 2008<br>\",\"<b>Description:</b>The Simpsons take a Fourth of<br>July vacation to a cabin hotel, which cause Homer<br>and Marge to reminisce about two episodes from<br>their past where they stayed in the cabin.<br>\"],[\"<b>No Loan Again, Naturally</b><br>\",\"<b>Episode:</b> S20E12<br>\",\"<b>Airdate:</b>Sun 08 Mar 2009<br>\",\"<b>Description:</b>The Simpsons lose their house,<br>but Flanders buys it and offers to rent it back to<br>them. But when they turn out to be less-than-<br>reliable renters, Flanders kicks them out.<br>\"],[\"<b>Gone Maggie Gone</b><br>\",\"<b>Episode:</b> S20E13<br>\",\"<b>Airdate:</b>Sun 15 Mar 2009<br>\",\"<b>Description:</b>In order to rescue Maggie from<br>a Catholic orphanage, Lisa must solve a series of<br>puzzles to reveal the identity of a gem that will<br>bring peace to Springfield.<br>\"],[\"<b>In the Name of the Grandfather</b><br>\",\"<b>Episode:</b> S20E14<br>\",\"<b>Airdate:</b>Sun 22 Mar 2009<br>\",\"<b>Description:</b>The Simpsons take Grandpa to<br>Ireland so he can go back to visit a pub he went<br>to during the war, but Grandpa and Homer get<br>suckered into buying the bar.<br>\"],[\"<b>The Good, the Sad and the Drugly</b><br>\",\"<b>Episode:</b> S20E17<br>\",\"<b>Airdate:</b>Sun 19 Apr 2009<br>\",\"<b>Description:</b>Bart gets Milhouse to take the<br>rap for a prank at school, and then blows him off<br>when he falls for a cute 5th grade do-gooder,<br>prompting Milhouse's wrath. Meanwhile, Lisa begins<br>taking \\\"happy pills\\\" to improve her negative<br>outlook.<br>\"],[\"<b>Waverly Hills, 9021-D'Oh</b><br>\",\"<b>Episode:</b> S20E19<br>\",\"<b>Airdate:</b>Sun 03 May 2009<br>\",\"<b>Description:</b>The Simpsons set up a fake<br>residence in Waverly Hills so that Bart and Lisa<br>can attend school there.<br>\"],[\"<b>Four Great Women and a Manicure</b><br>\",\"<b>Episode:</b> S20E20<br>\",\"<b>Airdate:</b>Sun 10 May 2009<br>\",\"<b>Description:</b>A series of parodies based on<br>four strong women: Queen Elizabeth, Snow White,<br>Lady MacBeth, and Ayn Rand.<br>\"],[\"<b>Coming to Homerica</b><br>\",\"<b>Episode:</b> S20E21<br>\",\"<b>Airdate:</b>Sun 17 May 2009<br>\",\"<b>Description:</b>Townspeople build a wall around<br>Springfield to keep \\\"immigrants\\\" from Ogdenville<br>from relocating to their town.<br>\"],[\"<b>Bart Gets a 'Z'</b><br>\",\"<b>Episode:</b> S21E2<br>\",\"<b>Airdate:</b>Sun 04 Oct 2009<br>\",\"<b>Description:</b>When Bart's prank gets Ms.<br>Krabappel fired from Springfield Elementary<br>School, he tries to make it up to her without<br>letting her know that he was responsible.<br>\"],[\"<b>The Devil Wears Nada</b><br>\",\"<b>Episode:</b> S21E5<br>\",\"<b>Airdate:</b>Sun 15 Nov 2009<br>\",\"<b>Description:</b>Marge rediscovers her sexuality<br>after appearing in a racy calendar, but Homer is<br>too tired to respond to her advances because he is<br>being worked to death by his new boss, Carl.<br>\"],[\"<b>Rednecks and Broomsticks</b><br>\",\"<b>Episode:</b> S21E7<br>\",\"<b>Airdate:</b>Sun 29 Nov 2009<br>\",\"<b>Description:</b>Homer becomes an expert on<br>moonshine when he starts hanging out with Cletus<br>after he saves the Simpsons' lives, while Lisa<br>becomes friends with three teenage Wiccans.<br>\"],[\"<b>Oh Brother, Where Bart Thou?</b><br>\",\"<b>Episode:</b> S21E8<br>\",\"<b>Airdate:</b>Fri 18 Feb 2011<br>\",\"<b>Description:</b>Bart becomes jealous of Maggie<br>and Lisa's special bond as sisters, so he goes to<br>an orphanage and \\\"adopts\\\" a little brother.<br>\"],[\"<b>Thursdays with Abie</b><br>\",\"<b>Episode:</b> S21E9<br>\",\"<b>Airdate:</b>Sun 03 Jan 2010<br>\",\"<b>Description:</b>Homer becomes jealous when a<br>syndicated newspaper columnist begins publishing<br>Grandpa's stories, while Bart is assigned to take<br>care of the class's stuffed sheep for the<br>weekend.<br>\"],[\"<b>Once Upon a Time in Springfield</b><br>\",\"<b>Episode:</b> S21E10<br>\",\"<b>Airdate:</b>Sun 10 Jan 2010<br>\",\"<b>Description:</b>The antagonism between Krusty<br>and the new female co-star forced upon him soon<br>turns to romance, while a headhunter encourages<br>Homer, Lenny and Carl to take a job at another<br>nuclear power plant.<br>\"],[\"<b>Million Dollar Maybe</b><br>\",\"<b>Episode:</b> S21E11<br>\",\"<b>Airdate:</b>Sun 31 Jan 2010<br>\",\"<b>Description:</b>Homer can't tell Marge he won<br>the lottery because he was supposed to be giving a<br>wedding toast when he bought the ticket. But Bart<br>soon finds out where he's hiding the money and<br>begins to blackmail him.<br>\"],[\"<b>Boy Meets Curl</b><br>\",\"<b>Episode:</b> S21E12<br>\",\"<b>Airdate:</b>Thu 29 Apr 2010<br>\",\"<b>Description:</b>Homer and Marge become members<br>of the U.S. Olympic curling team. At the games,<br>Lisa becomes addicted to collecting pins, and Bart<br>tries to save her.<br>\"],[\"<b>The Color Yellow</b><br>\",\"<b>Episode:</b> S21E13<br>\",\"<b>Airdate:</b>Sun 21 Feb 2010<br>\",\"<b>Description:</b>While searching for an<br>admirable ancestor for a class project, Lisa<br>discovers the story of a relative named Eliza<br>Simpson, who may or may not have helped a slave<br>escape to freedom.<br>\"],[\"<b>Postcards from the Wedge</b><br>\",\"<b>Episode:</b> S21E14<br>\",\"<b>Airdate:</b>Thu 10 Jun 2010<br>\",\"<b>Description:</b>When Bart unsuccessfully tries<br>to play Homer and Marge against each other, he<br>comes up with a dangerous prank that is sure to<br>get their attention.<br>\"],[\"<b>Chief of Hearts</b><br>\",\"<b>Episode:</b> S21E18<br>\",\"<b>Airdate:</b>Sun 18 Apr 2010<br>\",\"<b>Description:</b>Homer and Chief Wiggum's new<br>friendship is put to the test when the chief<br>becomes needy after being shot, while Marge<br>suspects that Bart may be dealing drugs.<br>\"],[\"<b>To Surveil, with Love</b><br>\",\"<b>Episode:</b> S21E20<br>\",\"<b>Airdate:</b>Sun 02 May 2010<br>\",\"<b>Description:</b>Springfield covers the town<br>with surveillance cameras after Homer creates a<br>bomb scare at the train station. Meanwhile, Lisa<br>considers becoming a brunette so that people will<br>take her more seriously.<br>\"],[\"<b>Elementary School Musical</b><br>\",\"<b>Episode:</b> S22E1<br>\",\"<b>Airdate:</b>Sun 26 Sep 2010<br>\",\"<b>Description:</b>While Homer and Bart accompany<br>Krusty to Oslo so he can receive the Nobel Peace<br>Prize, Marge enrolls Lisa for a week in performing<br>arts camp.<br>\"],[\"<b>MoneyBart</b><br>\",\"<b>Episode:</b> S22E3<br>\",\"<b>Airdate:</b>Sun 10 Oct 2010<br>\",\"<b>Description:</b>Lisa takes over as manager of<br>Bart's baseball team and uses statistical analysis<br>to build a winner, but she takes all of the fun<br>out of it and causes Bart to quit the team.<br>\"],[\"<b>Donnie Fatso</b><br>\",\"<b>Episode:</b> S22E9<br>\",\"<b>Airdate:</b>Thu 10 Feb 2011<br>\",\"<b>Description:</b>Homer goes to prison after<br>attempting to get out of a series of fines with a<br>bribe, but agrees to a reduced sentence by<br>informing on Fat Tony for the FBI.<br>\"],[\"<b>The Scorpion's Tale</b><br>\",\"<b>Episode:</b> S22E15<br>\",\"<b>Airdate:</b>Sun 06 Mar 2011<br>\",\"<b>Description:</b>Lisa's school project leads to<br>the discovery of a new drug that makes the elderly<br>less cranky and more tolerable.<br>\"],[\"<b>Love Is a Many Strangled Thing</b><br>\",\"<b>Episode:</b> S22E17<br>\",\"<b>Airdate:</b>Sun 27 Mar 2011<br>\",\"<b>Description:</b>The tables are turned for Homer<br>and Bart after a therapist cures Homer of his<br>violent tendencies toward the boy.<br>\"],[\"<b>The Great Simpsina</b><br>\",\"<b>Episode:</b> S22E18<br>\",\"<b>Airdate:</b>Sun 10 Apr 2011<br>\",\"<b>Description:</b>The family is greeted by folk<br>singer Ewell Freestone when they visit a peach<br>farm, but when Marge goes overboard with peach-<br>inspired dishes, Lisa and Bart try to get rid of<br>the unwanted fruit. Later, Lisa becomes a<br>magician's apprentice to the legendary Great<br>Raymondo who helps her develop her craft, but a<br>schoolgirl crush clouds her judgment when she is<br>coaxed into revealing the Great Raymondo's most<br>famous magic trick to his phony archnemesis. But<br>when the rival magician's act takes a risky turn,<br>the Great Raymondo has one last trick up his<br>sleeve and stages showdown with Ricky Jay, Penn &<br>Teller and David Copperfield , showing them why he<br>is the master of the craft.<br>\"],[\"<b>The Real Housewives of Fat Tony</b><br>\",\"<b>Episode:</b> S22E19<br>\",\"<b>Airdate:</b>Sun 01 May 2011<br>\",\"<b>Description:</b>Selma falls in love with and<br>marries Fat Tony, and Lisa discovers that Bart has<br>a skill for finding truffles.<br>\"],[\"<b>Homer Scissorhands</b><br>\",\"<b>Episode:</b> S22E20<br>\",\"<b>Airdate:</b>Sun 08 May 2011<br>\",\"<b>Description:</b>Homer opens his own salon after<br>he discovers that he has skills as a hair stylist,<br>and Lisa becomes suspicious after Millhouse gets a<br>5th grade girlfriend.<br>\"],[\"<b>500 Keys</b><br>\",\"<b>Episode:</b> S22E21<br>\",\"<b>Airdate:</b>Sun 15 May 2011<br>\",\"<b>Description:</b>While Homer takes the Duff<br>Blimp for a joyride, Lisa discovers a secret room<br>in the basement of Sprinfield Elementary<br>School.<br>\"],[\"<b>Replaceable You</b><br>\",\"<b>Episode:</b> S23E4<br>\",\"<b>Airdate:</b>Sun 06 Nov 2011<br>\",\"<b>Description:</b>Homer is betrayed by his new<br>assistant at work and winds up working for her,<br>and Bart and Martin create a science project that<br>brings joy to the seniors at the Springfield<br>Retirement Castle.<br>\"],[\"<b>The Food Wife</b><br>\",\"<b>Episode:</b> S23E5<br>\",\"<b>Airdate:</b>Sun 13 Nov 2011<br>\",\"<b>Description:</b>Homer is worried that he is no<br>longer the cool parent after Marge, Bart, and Lisa<br>become foodies.<br>\"],[\"<b>The Man in the Blue Flannel Pants</b><br>\",\"<b>Episode:</b> S23E7<br>\",\"<b>Airdate:</b>Sun 27 Nov 2011<br>\",\"<b>Description:</b>Homer gets promoted to accounts<br>manager at the nuclear power plant, but soon<br>learns the job robs you of your soul. Meanwhile,<br>Lisa introduces Bart to \\\"Little Women.\\\"<br>\"],[\"<b>Politically Inept, with Homer Simpson</b><br>\",\"<b>Episode:</b> S23E10<br>\",\"<b>Airdate:</b>Sun 08 Jan 2012<br>\",\"<b>Description:</b>Homer becomes the host of a<br>popular political talk show, starts an \\\"everyman\\\"<br>movement in Springfield, and ends up hand-picking<br>Ted Nugent as the Republican nominee for<br>president.<br>\"],[\"<b>The D'oh-cial Network</b><br>\",\"<b>Episode:</b> S23E11<br>\",\"<b>Airdate:</b>Sun 15 Jan 2012<br>\",\"<b>Description:</b>Lisa creates an online social<br>network that becomes a Springfield obsession, but<br>later becomes a victim of user backlash.<br>\"],[\"<b>Moe Goes from Rags to Riches</b><br>\",\"<b>Episode:</b> S23E12<br>\",\"<b>Airdate:</b>Sun 29 Jan 2012<br>\",\"<b>Description:</b>While Bart tries to regain<br>Milhouse's friendship, Moe's bar cleaning rag<br>tells his unlikely story of how he got to where he<br>is today.<br>\"],[\"<b>The Daughter Also Rises</b><br>\",\"<b>Episode:</b> S23E13<br>\",\"<b>Airdate:</b>Sun 12 Feb 2012<br>\",\"<b>Description:</b>Lisa falls for an adventurous,<br>Hemingway-esque young boy, while Bart and<br>Millhouse set out to bust all the myths that<br>surround Springfield Elementary School.<br>\"],[\"<b>At Long Last Leave</b><br>\",\"<b>Episode:</b> S23E14<br>\",\"<b>Airdate:</b>Sun 19 Feb 2012<br>\",\"<b>Description:</b>The town votes to kick the<br>Simpsons out of Springfield, so they decide to<br>move to the Outlands.<br>\"],[\"<b>Exit Through the Kwik-E-Mart</b><br>\",\"<b>Episode:</b> S23E15<br>\",\"<b>Airdate:</b>Sun 04 Mar 2012<br>\",\"<b>Description:</b>Bart becomes an urban vandal<br>and decides to use Homer as his inspiration, while<br>Apu hits hard times when a new trendy market takes<br>all the Kwik-E-Mart customers.<br>\"],[\"<b>Beware My Cheating Bart</b><br>\",\"<b>Episode:</b> S23E18<br>\",\"<b>Airdate:</b>Sun 15 Apr 2012<br>\",\"<b>Description:</b>Jimbo's girlfriend cheats on<br>Jimbo with Bart, and Homer uses his new treadmill<br>to catch up on a TV series about plane crash<br>victims stranded on an island.<br>\"],[\"<b>A Totally Fun Thing Bart Will Never Do Again</b><br>\",\"<b>Episode:</b> S23E19<br>\",\"<b>Airdate:</b>Sun 29 Apr 2012<br>\",\"<b>Description:</b>Bart gets the family to take<br>the cruise vacation of his dreams, and then<br>launches a fiendish plot to ensure that it goes on<br>forever.<br>\"],[\"<b>The Spy Who Learned Me</b><br>\",\"<b>Episode:</b> S23E20<br>\",\"<b>Airdate:</b>Sun 06 May 2012<br>\",\"<b>Description:</b>Homer uses his paid sick leave<br>to improve his marriage, with the help of his<br>imaginary friend, super-spy Stradivarius Cain.<br>Meanwhile, Bart gets revenge on Nelson for<br>stealing everyone's lunch money.<br>\"],[\"<b>Lisa Goes Gaga</b><br>\",\"<b>Episode:</b> S23E22<br>\",\"<b>Airdate:</b>Sun 20 May 2012<br>\",\"<b>Description:</b>After a desperate attempt by<br>Lisa to become more popular backfires, Lady Gaga<br>shows up in Springfield to help her with her self-<br>esteem.<br>\"],[\"<b>Moonshine River</b><br>\",\"<b>Episode:</b> S24E1<br>\",\"<b>Airdate:</b>Sun 24 Mar 2013<br>\",\"<b>Description:</b>The Simpsons go back to New<br>York City so that Bart can find his old girlfriend<br>Mary Spuckler. Meanwhile, Lisa and Marge spend the<br>trip trying to take in New York culture on the<br>cheap.<br>\"],[\"<b>Gone Abie Gone</b><br>\",\"<b>Episode:</b> S24E4<br>\",\"<b>Airdate:</b>Sun 07 Apr 2013<br>\",\"<b>Description:</b>Homer invests Lisa's college<br>fund on an online poker site. Meanwhile Abe<br>disappears from the Springfield Retirement<br>Castle.<br>\"],[\"<b>Penny-Wiseguys</b><br>\",\"<b>Episode:</b> S24E5<br>\",\"<b>Airdate:</b>Sun 14 Apr 2013<br>\",\"<b>Description:</b>Fat Tony has to serve jury<br>duty, and his clerk, Dan, must run the mafia while<br>he's gone. Meanwhile, Lisa considers making a<br>disgusting change to her diet.<br>\"],[\"<b>A Test Before Trying</b><br>\",\"<b>Episode:</b> S24E10<br>\",\"<b>Airdate:</b>Sun 19 May 2013<br>\",\"<b>Description:</b>The fate of Springfield<br>Elementary rests on Bart and his test scores, and<br>Homer finds way to make money with his own parking<br>meter.<br>\"],[\"<b>Changing of the Guardian</b><br>\",\"<b>Episode:</b> S24E11<br>\",\"<b>Airdate:</b>Sun 22 Dec 2013<br>\",\"<b>Description:</b>Homer and Marge find the<br>perfect young couple and ask them to be the<br>guardians for the kids in case something happens<br>to them.<br>\"],[\"<b>Love Is a Many Splintered Thing</b><br>\",\"<b>Episode:</b> S24E12<br>\",\"<b>Airdate:</b>Sun 10 Feb 2013<br>\",\"<b>Description:</b>Mary Spuckler returns to<br>Springfield and begins a relationship with Bart.<br>However, Bart treats her with disrespect.<br>\"],[\"<b>Gorgeous Grampa</b><br>\",\"<b>Episode:</b> S24E14<br>\",\"<b>Airdate:</b>Sun 17 Nov 2013<br>\",\"<b>Description:</b>Homer's obsession with the TV<br>show \\\"Storage Battles\\\" leads the family to<br>discover Grampa's past identity as \\\"Gorgeous<br>Godfrey,\\\" the most feared, villainous man in pro-<br>wrestling history<br>\"],[\"<b>Black-Eyed, Please</b><br>\",\"<b>Episode:</b> S24E15<br>\",\"<b>Airdate:</b>Sun 10 Mar 2013<br>\",\"<b>Description:</b>Ned gets fed up with Homer and<br>punches him in the eye, and Lisa is a bullying<br>victim from her new substitute teacher.<br>\"],[\"<b>What Animated Women Want</b><br>\",\"<b>Episode:</b> S24E17<br>\",\"<b>Airdate:</b>Mon 25 Nov 2013<br>\",\"<b>Description:</b>Homer contemplates his next<br>move after getting in the doghouse with Marge,<br>while Millhouse's new Stanley Kowalski-inspired<br>persona makes him suddenly attractive to Lisa.<br>\"],[\"<b>The Saga of Carl</b><br>\",\"<b>Episode:</b> S24E21<br>\",\"<b>Airdate:</b>Sun 15 Dec 2013<br>\",\"<b>Description:</b>Homer, Moe, Lenny and Carl win<br>the lottery, but Carl steals the ticket and leaves<br>with the money for Iceland.<br>\"],[\"<b>Four Regrettings and a Funeral</b><br>\",\"<b>Episode:</b> S25E3<br>\",\"<b>Airdate:</b>Sun 27 Apr 2014<br>\",\"<b>Description:</b>While attending a funeral,<br>Homer, Marge, Mr. Burns, and Kent Brockman recall<br>a past regret and try to find a way to rectify the<br>situation.<br>\"],[\"<b>Labor Pains</b><br>\",\"<b>Episode:</b> S25E5<br>\",\"<b>Airdate:</b>Wed 07 May 2014<br>\",\"<b>Description:</b>Homer helps take care of a<br>child that he delivered in an elevator, and Lisa<br>tries to organize the Springfield Atoms<br>cheerleaders against the team's greedy owner.<br>\"],[\"<b>The Kid Is All Right</b><br>\",\"<b>Episode:</b> S25E6<br>\",\"<b>Airdate:</b>Wed 07 May 2014<br>\",\"<b>Description:</b>Lisa is distressed when she<br>discovers that her new friend is a Republican, and<br>they wind up running against each other as<br>Springfield Elementary's second grade<br>representative.<br>\"],[\"<b>Yellow Subterfuge</b><br>\",\"<b>Episode:</b> S25E7<br>\",\"<b>Airdate:</b>Sun 11 May 2014<br>\",\"<b>Description:</b>Principal Skinner promises the<br>students that the best-behaved can take a ride in<br>a submarine. Bart believes his past indiscretions<br>will be forgotten. Lisa tries to help Krusty by<br>suggesting him to sell the foreign rights to his<br>shows.<br>\"],[\"<b>Steal This Episode</b><br>\",\"<b>Episode:</b> S25E9<br>\",\"<b>Airdate:</b>Sun 18 May 2014<br>\",\"<b>Description:</b>Fed up with the high price of<br>Hollywood films, Homer begins screening pirated<br>movies in his backyard, but is busted by the FBI<br>after Marge turns him in.<br>\"],[\"<b>The Man Who Grew Too Much</b><br>\",\"<b>Episode:</b> S25E13<br>\",\"<b>Airdate:</b>Sun 01 Jun 2014<br>\",\"<b>Description:</b>Lisa becomes friends with<br>Sideshow Bob, who now has a new job working with<br>genetically-altered foods. Meanwhile, Marge<br>becomes frustrated teaching abstinence for the<br>church.<br>\"],[\"<b>The War of Art</b><br>\",\"<b>Episode:</b> S25E15<br>\",\"<b>Airdate:</b>Sun 15 Jun 2014<br>\",\"<b>Description:</b>The friendship between the<br>Simpsons and the Van Houtens is challenged when a<br>painting the Simpsons buy from the Van Houtens'<br>yard sale is discovered to be extremely<br>valuable.<br>\"],[\"<b>Days of Future Future</b><br>\",\"<b>Episode:</b> S25E18<br>\",\"<b>Airdate:</b>Sat 16 Aug 2014<br>\",\"<b>Description:</b>Thirty years into the future,<br>Bart is having trouble dealing with his divorce,<br>Lisa is struggling with her marriage to Milhouse,<br>and Marge is finally fed up after burying yet<br>another Homer clone.<br>\"],[\"<b>What to Expect When Bart's Expecting</b><br>\",\"<b>Episode:</b> S25E19<br>\",\"<b>Airdate:</b>Sun 17 Aug 2014<br>\",\"<b>Description:</b>Bart becomes a savior to<br>Springfield couples trying to conceive when he<br>inadvertently uses voodoo to get his art teacher<br>pregnant.<br>\"],[\"<b>Brick Like Me</b><br>\",\"<b>Episode:</b> S25E20<br>\",\"<b>Airdate:</b>Sat 09 Aug 2014<br>\",\"<b>Description:</b>The Lego version of Homer<br>begins to suspect that his entire Lego world is<br>not real when a toy triggers a flashback to an<br>alternate reality.<br>\"],[\"<b>Pay Pal</b><br>\",\"<b>Episode:</b> S25E21<br>\",\"<b>Airdate:</b>Sat 23 Aug 2014<br>\",\"<b>Description:</b>When Homer ruins his and<br>Marge's chances of making a new couple friend,<br>Marge decides to concentrate on finding a friend<br>for Lisa. However, Lisa suddenly makes a new<br>friend on her own.<br>\"],[\"<b>The Wreck of the Relationship</b><br>\",\"<b>Episode:</b> S26E2<br>\",\"<b>Airdate:</b>Sun 09 Nov 2014<br>\",\"<b>Description:</b>Homer and Bart turn to the open<br>seas to improve their relationship, and Marge<br>becomes a trash talking victim after she drafts<br>Homer's fantasy football team.<br>\"],[\"<b>Super Franchise Me</b><br>\",\"<b>Episode:</b> S26E3<br>\",\"<b>Airdate:</b>Sun 16 Nov 2014<br>\",\"<b>Description:</b>Marge opens a sandwich<br>franchise store after her sandwiches become a huge<br>hit at Springfield Elementary. But running day-to-<br>day at the store proves challenging, especially<br>when the same franchise opens another location<br>across the street.<br>\"],[\"<b>Simpsorama</b><br>\",\"<b>Episode:</b> S26E6<br>\",\"<b>Airdate:</b>Sun 09 Nov 2014<br>\",\"<b>Description:</b>The Simpsons meet the Planet<br>Express crew, who have come to Springfield in the<br>present to stop them from destroying the<br>future.<br>\"],[\"<b>The Man Who Came to Be Dinner</b><br>\",\"<b>Episode:</b> S26E10<br>\",\"<b>Airdate:</b>Sun 01 Mar 2015<br>\",\"<b>Description:</b>An amusement park ride takes<br>the Simpsons to the home planet of Kang and<br>Kodos.<br>\"],[\"<b>Walking Big & Tall</b><br>\",\"<b>Episode:</b> S26E13<br>\",\"<b>Airdate:</b>Sun 22 Mar 2015<br>\",\"<b>Description:</b>Marge tries to get Homer to<br>lose weight. But instead, he finds a support group<br>that encourages him to embrace his largeness.<br>\"],[\"<b>Peeping Mom</b><br>\",\"<b>Episode:</b> S26E18<br>\",\"<b>Airdate:</b>Sun 26 Apr 2015<br>\",\"<b>Description:</b>Marge decides to follow Bart<br>everywhere until he confesses to being involved in<br>a bulldozer crash. Meanwhile, Homer ignores<br>Santa's Little Helper when Ned gets a new dog.<br>\"],[\"<b>The Kids Are All Fight</b><br>\",\"<b>Episode:</b> S26E19<br>\",\"<b>Airdate:</b>Sun 03 May 2015<br>\",\"<b>Description:</b>The story of Bart and Lisa's<br>rivalry is told when Homer finds an old film<br>strip.<br>\"],[\"<b>Bull-E</b><br>\",\"<b>Episode:</b> S26E21<br>\",\"<b>Airdate:</b>Sun 17 May 2015<br>\",\"<b>Description:</b>Bart gets bullied at a school<br>dance, so Marge gets an anti-bullying law passed,<br>which results in Homer being put in therapy for<br>bulling Ned.<br>\"],[\"<b>Mathlete's Feat</b><br>\",\"<b>Episode:</b> S26E22<br>\",\"<b>Airdate:</b>Sun 24 May 2015<br>\",\"<b>Description:</b>Groundskeeper Willie becomes<br>the coach of the mathletes, Lisa and other kids<br>from Springfield Elementary compete against<br>Waverly Hills Elementary.<br>\"],[\"<b>'Cue Detective</b><br>\",\"<b>Episode:</b> S27E2<br>\",\"<b>Airdate:</b>Sun 04 Oct 2015<br>\",\"<b>Description:</b>A celebrity television chef<br>challenges Homer to a barbecue cook-off. But<br>before the competition, Homer's new, prized<br>barbecue grill is stolen.<br>\"],[\"<b>Friend with Benefit</b><br>\",\"<b>Episode:</b> S27E6<br>\",\"<b>Airdate:</b>Sun 08 Nov 2015<br>\",\"<b>Description:</b>Lisa makes a new friend at<br>school - Harper, who happens to be super-rich,<br>while Homer makes friends with Harper's dad and<br>sets out to continue living the good life when<br>Lisa decides to end the friendship.<br>\"],[\"<b>Lisa with an \\\"S\\\"</b><br>\",\"<b>Episode:</b> S27E7<br>\",\"<b>Airdate:</b>Sun 22 Nov 2015<br>\",\"<b>Description:</b>Broadway legend Laney Fontaine<br>transforms Lisa into a show-biz kid after Homer<br>loses her chance at band camp.<br>\"],[\"<b>Paths of Glory</b><br>\",\"<b>Episode:</b> S27E8<br>\",\"<b>Airdate:</b>Sun 06 Dec 2015<br>\",\"<b>Description:</b>Lisa tries to restore the<br>reputation of a forgotten Springfield female<br>inventor, while Bart takes full advantage of a<br>diagnosis that he is a sociopath.<br>\"],[\"<b>The Girl Code</b><br>\",\"<b>Episode:</b> S27E10<br>\",\"<b>Airdate:</b>Sun 03 Jan 2016<br>\",\"<b>Description:</b>When Homer loses his job due to<br>Marge's social media post, he begins working as a<br>dishwasher at a Greek restaurant. Meanwhile, Lisa<br>creates an app that can predict the effect any<br>post on social media will have.<br>\"],[\"<b>Teenage Mutant Milk-Caused Hurdles</b><br>\",\"<b>Episode:</b> S27E11<br>\",\"<b>Airdate:</b>Sun 10 Jan 2016<br>\",\"<b>Description:</b>Bart and Principal Skinner<br>battle over the affection of Bart's new teacher,<br>and a new milk-based product that Homer buys from<br>the Kwik-E-Mart causes big changes in Bart and<br>Lisa.<br>\"],[\"<b>Much Apu About Something</b><br>\",\"<b>Episode:</b> S27E12<br>\",\"<b>Airdate:</b>Sun 17 Jan 2016<br>\",\"<b>Description:</b>Apu's nephew makes big changes<br>when he takes over the Kwik-E-Mart business, and<br>Bart decides that he's through with being bad<br>after his latest prank spirals out of control.<br>\"],[\"<b>Lisa the Veterinarian</b><br>\",\"<b>Episode:</b> S27E15<br>\",\"<b>Airdate:</b>Sun 06 Mar 2016<br>\",\"<b>Description:</b>Lisa takes a job as<br>veterinarian's assistant, but soon lets the<br>responsibilities of the job get to her head.<br>Meanwhile, Marge decides to take a job as a crime<br>scene cleaner.<br>\"],[\"<b>Fland Canyon</b><br>\",\"<b>Episode:</b> S27E19<br>\",\"<b>Airdate:</b>Sun 24 Apr 2016<br>\",\"<b>Description:</b>Maggie will not go to sleep, so<br>Homer tells her a bedtime story about when the<br>Simpsons and the Flanders went to the Grand Canyon<br>together.<br>\"],[\"<b>Simprovised</b><br>\",\"<b>Episode:</b> S27E21<br>\",\"<b>Airdate:</b>Sun 15 May 2016<br>\",\"<b>Description:</b>While trying to overcome a fear<br>of public speaking, Homer creates an improv comedy<br>troupe; Marge rebuilds Bart's treehouse.<br>\"],[\"<b>Orange Is the New Yellow</b><br>\",\"<b>Episode:</b> S27E22<br>\",\"<b>Airdate:</b>Sun 22 May 2016<br>\",\"<b>Description:</b>Marge lets Bart go to the park<br>alone because he's too irritating, then she ends<br>up getting arrested for leaving him<br>unsupervised.<br>\"],[\"<b>Trust But Clarify</b><br>\",\"<b>Episode:</b> S28E5<br>\",\"<b>Airdate:</b>Sun 23 Oct 2016<br>\",\"<b>Description:</b>Bart and Lisa investigate<br>Krusty's new candy; Marge helps Homer dress for a<br>promotion; Kent Brockman struggles with the<br>changing media world.<br>\"],[\"<b>Havana Wild Weekend</b><br>\",\"<b>Episode:</b> S28E7<br>\",\"<b>Airdate:</b>Sun 13 Nov 2016<br>\",\"<b>Description:</b>The Simpsons go to Cuba to get<br>Grampa cheap medical care when the Retirement<br>Castle and V.A. hospital are unable to solve his<br>health problems.<br>\"],[\"<b>The Last Traction Hero</b><br>\",\"<b>Episode:</b> S28E9<br>\",\"<b>Airdate:</b>Sun 04 Dec 2016<br>\",\"<b>Description:</b>Homer is placed in a cast<br>following a workplace accident, leading Marge to<br>receive romance from an unexpected source; Lisa<br>attempts to keep the peace as bus monitor.<br>\"],[\"<b>Pork and Burns</b><br>\",\"<b>Episode:</b> S28E11<br>\",\"<b>Airdate:</b>Sun 08 Jan 2017<br>\",\"<b>Description:</b>A Japanese book on minimalism<br>inspires Marge to adapt to a new way of living, so<br>the Simpsons have to part with items that no<br>longer bring them joy.<br>\"],[\"<b>Fatzcarraldo</b><br>\",\"<b>Episode:</b> S28E14<br>\",\"<b>Airdate:</b>Sun 12 Feb 2017<br>\",\"<b>Description:</b>When all the fast food<br>restaurants in Springfield become healthy, Homer<br>turns to the last bastion of greasy food for<br>comfort; Lisa must find a good news story when her<br>school radio station is in jeopardy.<br>\"],[\"<b>The Cad and the Hat</b><br>\",\"<b>Episode:</b> S28E15<br>\",\"<b>Airdate:</b>Sun 19 Feb 2017<br>\",\"<b>Description:</b>Bart ruins Lisa's perfect day<br>out of jealousy and becomes haunted by the<br>manifestation of his guilty conscious. Homer is<br>revealed to be a master chess player which helps<br>him bond with his competitive dad.<br>\"],[\"<b>Kamp Krustier</b><br>\",\"<b>Episode:</b> S28E16<br>\",\"<b>Airdate:</b>Sun 05 Mar 2017<br>\",\"<b>Description:</b>Bart and Lisa return home<br>following a traumatic incident at Kamp Krusty,<br>putting an end to Homer and Marge's sexual<br>encounters.<br>\"],[\"<b>Looking for Mr. Goodbart</b><br>\",\"<b>Episode:</b> S28E20<br>\",\"<b>Airdate:</b>Sun 30 Apr 2017<br>\",\"<b>Description:</b>Bart bonds with Skinner's<br>mother over their mutual dislike of Skinner and<br>realizes that he could make a bundle by<br>befriending other lonely and disgruntled<br>grandmothers of Springfield for money.<br>\"],[\"<b>Dogtown</b><br>\",\"<b>Episode:</b> S28E22<br>\",\"<b>Airdate:</b>Sun 21 May 2017<br>\",\"<b>Description:</b>After a successful animal<br>rights campaign, all dogs in Springfield are<br>allowed to go where they want and do what they<br>want. Pack mentality quickly kicks in and the dogs<br>of Springfield assert their dominance by<br>threatening the people.<br>\"],[\"<b>The Serfsons</b><br>\",\"<b>Episode:</b> S29E1<br>\",\"<b>Airdate:</b>Fri 29 Dec 2017<br>\",\"<b>Description:</b>In a medieval world, Lisa is<br>forced to use illegal magic when Marge's mother is<br>turned into an Ice Walker.<br>\"],[\"<b>Springfield Splendor</b><br>\",\"<b>Episode:</b> S29E2<br>\",\"<b>Airdate:</b>Fri 05 Jan 2018<br>\",\"<b>Description:</b>Lisa's sad experience is<br>adapted into a graphic novel, which becomes a<br>Broadway show.<br>\"],[\"<b>Grampy Can Ya Hear Me</b><br>\",\"<b>Episode:</b> S29E5<br>\",\"<b>Airdate:</b>Fri 26 Jan 2018<br>\",\"<b>Description:</b>Grampa gets a hearing aid and<br>finally hears what everyone has been saying about<br>him.<br>\"],[\"<b>The Old Blue Mayor She Ain't What She Used To Be</b><br>\",\"<b>Episode:</b> S29E6<br>\",\"<b>Airdate:</b>Fri 02 Feb 2018<br>\",\"<b>Description:</b>Marge runs for mayor and uses<br>Homer as the butt of her jokes to gain public<br>support.<br>\"],[\"<b>Haw-Haw Land</b><br>\",\"<b>Episode:</b> S29E10<br>\",\"<b>Airdate:</b>Fri 02 Mar 2018<br>\",\"<b>Description:</b>Lisa falls for a crooning jazz<br>pianist named Brendan; Bart discovers he has an<br>affinity for chemistry.<br>\"],[\"<b>Homer is Where the Art Isn't</b><br>\",\"<b>Episode:</b> S29E12<br>\",\"<b>Airdate:</b>Fri 23 Mar 2018<br>\",\"<b>Description:</b>Homer is accused of stealing a<br>multimillion-dollar painting and only freelance<br>insurance investigator Manacek can prove his<br>innocence or guilt.<br>\"],[\"<b>Forgive and Regret</b><br>\",\"<b>Episode:</b> S29E18<br>\",\"<b>Airdate:</b>Fri 04 May 2018<br>\",\"<b>Description:</b>On his deathbed, Grampa makes a<br>confession to Homer about the notes from Homer's<br>mother that got lost when she left. This angers<br>Homer to the point of refusing to reconcile with<br>Abe after he miraculously recovers.<br>\"],[\"<b>Left Behind</b><br>\",\"<b>Episode:</b> S29E19<br>\",\"<b>Airdate:</b>Fri 11 May 2018<br>\",\"<b>Description:</b>Homer gets Flanders a job at<br>the power plant; Marge feels there's no spark left<br>in their marriage.<br>\"],[\"<b>Throw Grampa from the Dane</b><br>\",\"<b>Episode:</b> S29E20<br>\",\"<b>Airdate:</b>Fri 18 May 2018<br>\",\"<b>Description:</b>The Simpsons go to Denmark so<br>Grampa can benefit from its free health-care<br>system.<br>\"],[\"<b>Flanders' Ladder</b><br>\",\"<b>Episode:</b> S29E21<br>\",\"<b>Airdate:</b>Fri 25 May 2018<br>\",\"<b>Description:</b>When Bart falls into a coma<br>after he is struck by lightning, he is visited by<br>ghosts seeking closure.<br>\"],[\"<b>Heartbreak Hotel</b><br>\",\"<b>Episode:</b> S30E2<br>\",\"<b>Airdate:</b>Fri 08 Feb 2019<br>\",\"<b>Description:</b>Marge and Homer travel to a<br>tropical island and go on Marge's favorite reality<br>competition program to win a million dollars.<br>\"],[\"<b>Baby You Can't Drive My Car</b><br>\",\"<b>Episode:</b> S30E5<br>\",\"<b>Airdate:</b>Fri 01 Mar 2019<br>\",\"<b>Description:</b>A self-driving car company<br>comes to Springfield, poaching all of the power<br>plant employees with their fun work<br>environment.<br>\"],[\"<b>Werking Mom</b><br>\",\"<b>Episode:</b> S30E7<br>\",\"<b>Airdate:</b>Fri 15 Mar 2019<br>\",\"<b>Description:</b>In search of a job, Marge gets<br>one selling plastic food storage containers - as a<br>drag queen; Lisa tries to make the world<br>better.<br>\"],[\"<b>Mad About the Toy</b><br>\",\"<b>Episode:</b> S30E11<br>\",\"<b>Airdate:</b>Fri 05 Apr 2019<br>\",\"<b>Description:</b>Motivated by a PTSD episode<br>Grampa had while babysitting the kids, the<br>Simpsons take a journey to Grampa's past as a<br>post-WW2 toy model for plastic army men, and Abe<br>finally faces his on confused sexuality.<br>\"],[\"<b>I'm Dancing as Fat as I Can</b><br>\",\"<b>Episode:</b> S30E13<br>\",\"<b>Airdate:</b>Fri 19 Apr 2019<br>\",\"<b>Description:</b>Homer tries to make amends for<br>binging his and Marge's favorite show without her;<br>Bart prepares for \\\"Krusty's Holiday Trample\\\".<br>\"],[\"<b>101 Mitigations</b><br>\",\"<b>Episode:</b> S30E15<br>\",\"<b>Airdate:</b>Fri 03 May 2019<br>\",\"<b>Description:</b>Homer steals Comic Book Guy's<br>car and must either prove his innocence in court<br>or reconcile with him.<br>\"],[\"<b>E My Sports</b><br>\",\"<b>Episode:</b> S30E17<br>\",\"<b>Airdate:</b>Fri 17 May 2019<br>\",\"<b>Description:</b>Homer discovers a passion for<br>coaching Bart in video game competitions; Lisa's<br>plan to bring Homer back to reality creates<br>chaos.<br>\"],[\"<b>Bart vs. Itchy & Scratchy</b><br>\",\"<b>Episode:</b> S30E18<br>\",\"<b>Airdate:</b>Sun 24 Mar 2019<br>\",\"<b>Description:</b>Bart's friends start a boys<br>rights activist group to protest Krusty's all-<br>female reboot of Itchy and Scratchy. When they<br>catch Bart enjoying it, they kick him out, so he<br>joins Bossy Riot, a militant feminist gang of<br>sixth-grade girls.<br>\"],[\"<b>Girl's in the Band</b><br>\",\"<b>Episode:</b> S30E19<br>\",\"<b>Airdate:</b>Sun 31 Mar 2019<br>\",\"<b>Description:</b>Homer works extra shifts at the<br>plant so Lisa can play in the Capitol City Youth<br>Philharmonic.<br>\"],[\"<b>I'm Just a Girl Who Can't Say D'oh</b><br>\",\"<b>Episode:</b> S30E20<br>\",\"<b>Airdate:</b>Sun 07 Apr 2019<br>\",\"<b>Description:</b>Marge becomes Director of<br>Springfield's local theater, armed with Lisa's<br>script resembling \\\"Hamilton\\\"; Homer joins a baby<br>class with Maggie, and takes a liking to<br>supervisor Chloe.<br>\"],[\"<b>Woo-Hoo Dunnit?</b><br>\",\"<b>Episode:</b> S30E22<br>\",\"<b>Airdate:</b>Sun 05 May 2019<br>\",\"<b>Description:</b>The documentary crime series<br>\\\"Dateline: Springfield\\\" goes in-depth to solve the<br>case of Lisa's missing college fund.<br>\"],[\"<b>The Winter of Our Monetized Content</b><br>\",\"<b>Episode:</b> S31E1<br>\",\"<b>Airdate:</b>Fri 17 Jan 2020<br>\",\"<b>Description:</b>Bart and Homer become social<br>media celebrities when a video of them fighting<br>goes viral; Lisa fights the school's new<br>industrialized detention system.<br>\"],[\"<b>Gorillas on the Mast</b><br>\",\"<b>Episode:</b> S31E5<br>\",\"<b>Airdate:</b>Fri 14 Feb 2020<br>\",\"<b>Description:</b>After visiting Aquatraz Water<br>Park, Lisa and Bart set out to free from captivity<br>the most vicious animals in Springfield. Homer<br>fulfills a lifelong dream and buys a boat, only to<br>realize how much boat ownership sucks.<br>\"],[\"<b>Livin la Pura Vida</b><br>\",\"<b>Episode:</b> S31E7<br>\",\"<b>Airdate:</b>Tue 24 Dec 2019<br>\",\"<b>Description:</b>The Simpsons join other<br>Springfield families on the Van Houtens' annual<br>trip to Costa Rica, where Homer befriends Patty's<br>new girlfriend and Lisa discovers how the Van<br>Houtens are able to afford this trip every<br>year.<br>\"],[\"<b>The Miseducation of Lisa Simpson</b><br>\",\"<b>Episode:</b> S31E12<br>\",\"<b>Airdate:</b>Fri 27 Mar 2020<br>\",\"<b>Description:</b>The sea captain finds treasure<br>for which he's been searching for 40 years, but<br>City Hall claims it since it was in city limits.<br>Marge convinces the townspeople to use the<br>windfall to build a STEM school. Homer crusades<br>against automation.<br>\"],[\"<b>Bart the Bad Guy</b><br>\",\"<b>Episode:</b> S31E14<br>\",\"<b>Airdate:</b>Fri 10 Apr 2020<br>\",\"<b>Description:</b>Bart uses spoilers for a<br>superhero movie he saw to get what he wants, but<br>two movie executives will stop at nothing to keep<br>his knowledge secret.<br>\"],[\"<b>Better Off Ned</b><br>\",\"<b>Episode:</b> S31E16<br>\",\"<b>Airdate:</b>Fri 24 Apr 2020<br>\",\"<b>Description:</b>Jealous of Bart's bond with<br>Ned, Homer mentors Nelson in retaliation, but an<br>act of heroism helps Homer to regain Bart's<br>respect.<br>\"],[\"<b>I, Carumbus</b><br>\",\"<b>Episode:</b> S32E2<br>\",\"<b>Airdate:</b>Fri 22 Jan 2021<br>\",\"<b>Description:</b>At a museum exhibit of Ancient<br>Rome, Marge and Homer imagine themselves in Rome<br>where Homer is more ambitious.<br>\"],[\"<b>Podcast News</b><br>\",\"<b>Episode:</b> S32E6<br>\",\"<b>Airdate:</b>Fri 19 Feb 2021<br>\",\"<b>Description:</b>Grampa is accused of a crime,<br>while Kent Brockman questions his career.<br>\"],[\"<b>Three Dreams Denied</b><br>\",\"<b>Episode:</b> S32E7<br>\",\"<b>Airdate:</b>Fri 26 Feb 2021<br>\",\"<b>Description:</b>Bart becomes a voice over<br>actor, Comic Book Guy is humiliated at Comic-Con<br>and Lisa is set up for a fall.<br>\"],[\"<b>Wad Goals</b><br>\",\"<b>Episode:</b> S32E13<br>\",\"<b>Airdate:</b>Fri 02 Apr 2021<br>\",\"<b>Description:</b>Bart becomes a successful<br>caddie, but Marge thinks it may ruin his<br>character.<br>\"],[\"<b>Yokel Hero</b><br>\",\"<b>Episode:</b> S32E14<br>\",\"<b>Airdate:</b>Fri 09 Apr 2021<br>\",\"<b>Description:</b>Cletus becomes a singing<br>sensation and ruins everything when he turns on<br>his fans, while Homer becomes a new man.<br>\"],[\"<b>Manger Things</b><br>\",\"<b>Episode:</b> S32E16<br>\",\"<b>Airdate:</b>Fri 23 Apr 2021<br>\",\"<b>Description:</b>A secret from Flanders' past<br>and a never-before-seen room in the Simpson home<br>are revealed.<br>\"],[\"<b>Uncut Femmes</b><br>\",\"<b>Episode:</b> S32E17<br>\",\"<b>Airdate:</b>Fri 30 Apr 2021<br>\",\"<b>Description:</b>Sarah Wiggum is more than she<br>seems; Marge participates in a jewel heist.<br>\"],[\"<b>Panic on the Streets of Springfield</b><br>\",\"<b>Episode:</b> S32E19<br>\",\"<b>Airdate:</b>Fri 14 May 2021<br>\",\"<b>Description:</b>Lisa's imaginary friend is a<br>depressed British singer from the 1980s; Homer<br>becomes a truck guy.<br>\"],[\"<b>The Man from G.R.A.M.P.A.</b><br>\",\"<b>Episode:</b> S32E21<br>\",\"<b>Airdate:</b>Fri 28 May 2021<br>\",\"<b>Description:</b>A British secret agent comes to<br>Springfield to find a Russian spy.<br>\"],[\"<b>The Star of the Backstage</b><br>\",\"<b>Episode:</b> S33E1<br>\",\"<b>Airdate:</b>Sun 16 Jan 2022<br>\",\"<b>Description:</b>Marge stages a revival of a<br>musical from high school, but her pleasant<br>memories are threatened by the return of her old<br>rival.<br>\"],[\"<b>Bart's in Jail!</b><br>\",\"<b>Episode:</b> S33E2<br>\",\"<b>Airdate:</b>Sun 23 Jan 2022<br>\",\"<b>Description:</b>When Grandpa falls victim to a<br>phone scam, the Simpsons set out to get his money<br>back.<br>\"],[\"<b>The Wayz We Were</b><br>\",\"<b>Episode:</b> S33E4<br>\",\"<b>Airdate:</b>Sun 06 Feb 2022<br>\",\"<b>Description:</b>Moe is faced with a difficult<br>choice when Evergreen Terrace develops a traffic<br>problem.<br>\"],[\"<b>Portrait of a Lackey on Fire</b><br>\",\"<b>Episode:</b> S33E8<br>\",\"<b>Airdate:</b>Sun 06 Mar 2022<br>\",\"<b>Description:</b>Smithers finds true love with a<br>famous fashion designer, but this new relationship<br>may destroy Springfield.<br>\"],[\"<b>A Made Maggie</b><br>\",\"<b>Episode:</b> S33E10<br>\",\"<b>Airdate:</b>Fri 24 Dec 2021<br>\",\"<b>Description:</b>Fat Tony becomes Maggie's<br>godfather.<br>\"],[\"<b>Pixelated and Afraid</b><br>\",\"<b>Episode:</b> S33E12<br>\",\"<b>Airdate:</b>Sun 27 Mar 2022<br>\",\"<b>Description:</b>Homer and Marge must push<br>themselves to their limits when they get lost in<br>an icy wilderness.<br>\"],[\"<b>You Won't Believe What This Episode Is About - Act Three Will Shock You!</b><br>\",\"<b>Episode:</b> S33E14<br>\",\"<b>Airdate:</b>Sun 10 Apr 2022<br>\",\"<b>Description:</b>Homer becomes a pariah when<br>footage of him allegedly leaving Santa's Little<br>Helper in a hot car goes viral.<br>\"],[\"<b>Pretty Whittle Liar</b><br>\",\"<b>Episode:</b> S33E16<br>\",\"<b>Airdate:</b>Sun 24 Apr 2022<br>\",\"<b>Description:</b>Cletus feels betrayed when he<br>learns that Brandine can read.<br>\"],[\"<b>The Sound of Bleeding Gums</b><br>\",\"<b>Episode:</b> S33E17<br>\",\"<b>Airdate:</b>Sun 01 May 2022<br>\",\"<b>Description:</b>Lisa meets the son of the late<br>Bleeding Gums Murphy and tries to improve his<br>life.<br>\"],[\"<b>Marge the Meanie</b><br>\",\"<b>Episode:</b> S33E20<br>\",\"<b>Airdate:</b>Fri 27 May 2022<br>\",\"<b>Description:</b>Marge bonds with Bart when she<br>discovers a secret from her past, terrifying<br>Homer.<br>\"],[\"<b>Meat Is Murder</b><br>\",\"<b>Episode:</b> S33E21<br>\",\"<b>Airdate:</b>Fri 03 Jun 2022<br>\",\"<b>Description:</b>Grampa reconnects with an old<br>associate in the hamburger business.<br>\"],[\"<b>Poorhouse Rock</b><br>\",\"<b>Episode:</b> S33E22<br>\",\"<b>Airdate:</b>Sun 05 Jun 2022<br>\",\"<b>Description:</b>Bart finally learns to admire<br>Homer, but a visit from a magical singing janitor<br>changes everything they thought they knew.<br>\"],[\"\",2.074719190597534,\"\",\"\"]],\"hovertemplate\":\"%{customdata[0]}%{customdata[1]}%{customdata[2]}%{customdata[3]}<extra></extra>\",\"marker\":{\"color\":\"#CFD8DC\",\"opacity\":0.75,\"size\":5},\"mode\":\"markers+text\",\"name\":\"Unselected\",\"showlegend\":true,\"text\":[\"\",\"\",\"\",\"\",\"\",\"\",\"\",\"\",\"\",\"\",\"\",\"\",\"\",\"\",\"\",\"\",\"\",\"\",\"\",\"\",\"\",\"\",\"\",\"\",\"\",\"\",\"\",\"\",\"\",\"\",\"\",\"\",\"\",\"\",\"\",\"\",\"\",\"\",\"\",\"\",\"\",\"\",\"\",\"\",\"\",\"\",\"\",\"\",\"\",\"\",\"\",\"\",\"\",\"\",\"\",\"\",\"\",\"\",\"\",\"\",\"\",\"\",\"\",\"\",\"\",\"\",\"\",\"\",\"\",\"\",\"\",\"\",\"\",\"\",\"\",\"\",\"\",\"\",\"\",\"\",\"\",\"\",\"\",\"\",\"\",\"\",\"\",\"\",\"\",\"\",\"\",\"\",\"\",\"\",\"\",\"\",\"\",\"\",\"\",\"\",\"\",\"\",\"\",\"\",\"\",\"\",\"\",\"\",\"\",\"\",\"\",\"\",\"\",\"\",\"\",\"\",\"\",\"\",\"\",\"\",\"\",\"\",\"\",\"\",\"\",\"\",\"\",\"\",\"\",\"\",\"\",\"\",\"\",\"\",\"\",\"\",\"\",\"\",\"\",\"\",\"\",\"\",\"\",\"\",\"\",\"\",\"\",\"\",\"\",\"\",\"\",\"\",\"\",\"\",\"\",\"\",\"\",\"\",\"\",\"\",\"\",\"\",\"\",\"\",\"\",\"\",\"\",\"\",\"\",\"\",\"\",\"\",\"\",\"\",\"\",\"\",\"\",\"\",\"\",\"\",\"\",\"\",\"\",\"\",\"\",\"\",\"\",\"\",\"\",\"\",\"\",\"\",\"\",\"\",\"\",\"\",\"\",\"\",\"\",\"\",\"\",\"\",\"\",\"\",\"\",\"\",\"\",\"\",\"\",\"\",\"\",\"\",\"\",\"\",\"\",\"\",\"\",\"\",\"\",\"\",\"\",\"\",\"\",\"\",\"\",\"\",\"\",\"\",\"\",\"\",\"\",\"\",\"\",\"\",\"\",\"\",\"\",\"\",\"\",\"\",\"\",\"\",\"\",\"\",\"\",\"\",\"\",\"\",\"\",\"\",\"\",\"\",\"\",\"\",\"\",\"\",\"\",\"\",\"\",\"\",\"\",\"\",\"\",\"\",\"\",\"\",\"\",\"\",\"\",\"\",\"\",\"\",\"\",\"\",\"\",\"\",\"\",\"\",\"\",\"\",\"\",\"\",\"\",\"\",\"\",\"\",\"\",\"\",\"\",\"\",\"\",\"\",\"\",\"\",\"\",\"\",\"\",\"\",\"\",\"\",\"\",\"\",\"\",\"\",\"\",\"\",\"\",\"\",\"\",\"\",\"\",\"\",\"\",\"\",\"\",\"\",\"\",\"\",\"\",\"Unselected\"],\"textfont\":{\"size\":12},\"x\":[28.329320907592773,-45.19073486328125,24.844493865966797,22.773880004882812,12.62401008605957,-18.846513748168945,107.3475341796875,21.35494041442871,54.20611572265625,-135.0321502685547,-92.29472351074219,16.475072860717773,77.95718383789062,42.16351318359375,79.81767272949219,-115.49102783203125,-119.35383605957031,15.217005729675293,32.53091812133789,64.83694458007812,19.453516006469727,41.121402740478516,64.97728729248047,-32.769142150878906,28.708250045776367,34.141822814941406,74.72183990478516,53.881263732910156,36.11817169189453,-33.782310485839844,-36.45439529418945,-47.9471321105957,83.62757873535156,-45.68435287475586,-0.9067731499671936,52.72751235961914,-29.724109649658203,9.87845230102539,-98.5203857421875,-67.00440216064453,-7.488672256469727,55.89430618286133,70.41780853271484,75.45201110839844,-79.9060287475586,2.461247444152832,58.347713470458984,117.37659454345703,69.6534423828125,11.444836616516113,-40.95212173461914,-0.745042085647583,-106.28948974609375,6.79737663269043,29.520477294921875,-23.246501922607422,-32.54640579223633,89.19672393798828,-121.65133666992188,-28.76075553894043,58.77012252807617,57.9608154296875,51.815765380859375,-46.58061599731445,-103.67420959472656,-89.21759033203125,53.56466293334961,57.02754211425781,-145.96322631835938,-78.38422393798828,-10.45534896850586,44.22413635253906,-86.73682403564453,33.48013687133789,-19.944210052490234,-38.08930587768555,38.43146896362305,-76.23575592041016,102.9428482055664,-38.853790283203125,2.5573959350585938,-20.48328399658203,-28.60978889465332,54.46900177001953,-13.406003952026367,50.112060546875,-108.93144989013672,74.43489074707031,-70.36334228515625,-77.11602783203125,133.12612915039062,-91.01346588134766,-82.08384704589844,-35.94902038574219,-63.350040435791016,80.23088073730469,-19.733333587646484,61.624603271484375,-29.104686737060547,-104.55083465576172,-78.55179595947266,20.638376235961914,57.516544342041016,-89.97344207763672,56.77524185180664,64.35701751708984,-15.554991722106934,-55.320106506347656,-2.0846564769744873,-40.715911865234375,35.548683166503906,-18.29747772216797,8.382619857788086,-30.274221420288086,-57.090946197509766,-3.659517526626587,-35.21582794189453,55.935909271240234,-90.11698150634766,-34.843544006347656,86.18819427490234,-5.129788398742676,20.405029296875,-94.74408721923828,74.5044174194336,-53.886619567871094,-41.000526428222656,-21.365245819091797,27.442291259765625,71.75251770019531,-16.245946884155273,68.10118103027344,32.47056579589844,80.99311065673828,31.56109619140625,-1.8963013887405396,-21.696821212768555,54.46916580200195,-9.100540161132812,101.15565490722656,-36.95082473754883,14.684401512145996,-113.21383666992188,93.36397552490234,51.52326202392578,20.821706771850586,26.06559944152832,-21.396194458007812,57.65047836303711,-73.63921356201172,67.93746185302734,-19.320043563842773,57.20259475708008,11.088288307189941,-36.769962310791016,87.11211395263672,51.89411926269531,49.24677276611328,-1.1591451168060303,-27.724458694458008,-51.003089904785156,94.2234878540039,46.51736068725586,-30.380102157592773,86.99781799316406,-58.12800598144531,25.556921005249023,59.130924224853516,19.039051055908203,13.117951393127441,12.154685974121094,39.36943817138672,45.218448638916016,-22.776630401611328,118.922607421875,-57.902008056640625,-30.27580451965332,20.28620147705078,-36.01611328125,-23.714441299438477,-48.382354736328125,76.02893829345703,2.1967813968658447,90.129150390625,40.44968795776367,-29.134944915771484,-63.328033447265625,92.63289642333984,-51.27903366088867,113.14453887939453,74.78968811035156,9.574394226074219,-83.21996307373047,-18.013458251953125,63.81732177734375,113.16830444335938,16.468128204345703,-30.374908447265625,-16.599267959594727,55.533164978027344,34.10365676879883,-24.975915908813477,100.46831512451172,15.00403881072998,122.49785614013672,2.5850889682769775,-16.655885696411133,17.46049690246582,17.822629928588867,45.101436614990234,-0.8220499157905579,-65.19429779052734,-24.04379653930664,40.92363357543945,79.81189727783203,-59.386844635009766,-89.48816680908203,0.4209234118461609,68.20518493652344,-8.763581275939941,71.60669708251953,104.63309478759766,83.23856353759766,-12.52038860321045,-10.816442489624023,-1.5148639678955078,9.932284355163574,-28.445899963378906,54.8393669128418,50.97431564331055,-30.389543533325195,57.77070999145508,-137.8977508544922,76.57693481445312,114.05586242675781,-11.72455883026123,66.77979278564453,-66.80810546875,46.24464797973633,65.3768539428711,-80.83903503417969,116.78876495361328,20.813125610351562,-15.273120880126953,-76.79439544677734,-14.188740730285645,-13.820018768310547,52.81585693359375,57.16658401489258,45.38418960571289,87.32518005371094,-12.00822639465332,108.96702575683594,37.99956130981445,16.259017944335938,53.048492431640625,42.490753173828125,-94.76241302490234,-4.553603172302246,1.474196195602417,-3.339233160018921,46.2707405090332,40.9122200012207,9.211146354675293,-49.77859115600586,-48.01508331298828,-16.8013973236084,32.47356033325195,34.0506477355957,105.74957275390625,-53.71608352661133,108.69849395751953,12.751872062683105,-8.067983627319336,-64.67576599121094,92.28288269042969,-63.49465560913086,55.00392532348633,-49.83722686767578,17.37344741821289,24.96910858154297,-20.538854598999023,-45.276187896728516,-8.991376876831055,-80.69910430908203,38.95286178588867,-54.24890899658203,28.05208396911621,67.83526611328125,31.4882869720459,43.72370910644531,90.12603759765625,41.77681350708008,-24.87145233154297,23.358400344848633,27.545467376708984,43.4040641784668,78.43190002441406,-10.843134880065918,2.7527811527252197,101.91888427734375,42.26093673706055,30.66478157043457,32.92649841308594,-18.686676025390625,-10.85791015625,-86.80995178222656,103.74695587158203,-4.592947483062744,-121.84064483642578,-26.25437355041504,9.139060020446777,-0.49708685278892517,11.662921905517578,38.71880340576172,17.36670684814453,44.347816467285156,-17.342660903930664,14.987346649169922,\"\"],\"y\":[47.66777801513672,58.3776741027832,-53.0251579284668,64.48493194580078,19.940401077270508,-15.183035850524902,-33.390628814697266,-78.1571044921875,92.91130828857422,-23.075204849243164,-93.93667602539062,-30.98183822631836,-88.18943786621094,-51.14708709716797,-66.70610046386719,81.77298736572266,-17.938091278076172,-62.298404693603516,7.522397994995117,-71.67442321777344,-81.22286224365234,-68.35242462158203,-74.29780578613281,-31.208786010742188,-13.440855026245117,-1.404797077178955,-33.55162811279297,84.90750885009766,-111.890869140625,-84.10970306396484,-93.32154846191406,-1.5642237663269043,-92.8207015991211,-109.00732421875,44.57242202758789,72.42506408691406,8.376635551452637,-20.64405632019043,-73.24552154541016,-74.16361999511719,45.341339111328125,99.8987045288086,-62.31444549560547,-22.23182487487793,81.75740051269531,55.897769927978516,58.09964370727539,-25.63535499572754,-88.47783660888672,38.14944076538086,42.812652587890625,87.6872787475586,76.66835021972656,35.65788650512695,-80.5247802734375,-89.904296875,72.71556091308594,22.696929931640625,-9.268293380737305,42.833839416503906,76.25341033935547,-101.51174926757812,-77.40144348144531,66.93266296386719,-62.44783401489258,-107.12853240966797,38.26705551147461,-109.30103302001953,-8.136764526367188,69.34184265136719,-130.94296264648438,93.22348022460938,53.85750198364258,23.468006134033203,-63.83176040649414,72.5001220703125,-20.424959182739258,-65.41581726074219,44.771583557128906,-40.49808883666992,77.2613296508789,-112.84249877929688,-36.33462142944336,-15.582056045532227,-82.89177703857422,-78.89875793457031,32.72031784057617,65.61615753173828,-16.779075622558594,-120.34734344482422,17.21662712097168,-70.60272979736328,-72.1329345703125,-55.49299240112305,-55.709503173828125,-98.63423919677734,1.6272876262664795,-42.9693603515625,-125.85517120361328,-62.7336311340332,50.18159484863281,57.984764099121094,88.37273406982422,-97.60942077636719,-92.37372589111328,19.890033721923828,39.72084426879883,36.794578552246094,66.25544738769531,-104.92549133300781,-47.562896728515625,2.9530301094055176,29.036548614501953,77.38371276855469,-10.187178611755371,-123.56465911865234,6.2977705001831055,-81.4139633178711,59.303897857666016,77.48405456542969,16.77090835571289,58.40724563598633,-44.64786148071289,-67.49443054199219,80.91716766357422,-25.490278244018555,-112.2417984008789,-66.50402069091797,47.34068298339844,21.17460060119629,-73.3384780883789,-95.04755401611328,46.28288269042969,-57.51701354980469,56.66122055053711,-25.99213409423828,-37.02311706542969,-87.63801574707031,64.63642120361328,-73.01084899902344,-18.749963760375977,-97.52571868896484,-69.9493637084961,-48.424278259277344,76.61276245117188,-103.96000671386719,-72.33219909667969,20.126232147216797,-102.40320587158203,-114.55323791503906,-52.65642547607422,90.49443054199219,-7.473435878753662,-40.38007736206055,91.76245880126953,-35.8182258605957,43.62100601196289,9.315277099609375,-97.7606430053711,-72.57145690917969,-23.529605865478516,-12.435773849487305,75.37101745605469,5.284665107727051,80.36175537109375,61.0403938293457,-109.80249786376953,-91.5415267944336,-32.291412353515625,-31.001134872436523,-71.381103515625,-53.53118133544922,-102.25241088867188,-59.48685836791992,12.202618598937988,-115.0714340209961,74.38733673095703,-12.69185733795166,-23.265670776367188,-15.48148250579834,28.20417022705078,9.124273300170898,-27.974609375,-0.1133992150425911,43.169044494628906,75.25350952148438,31.402061462402344,-97.24382781982422,49.298431396484375,-0.8899618983268738,-35.89885711669922,-23.773582458496094,-25.709779739379883,-23.30339241027832,-16.85405731201172,-41.420433044433594,20.85716438293457,-112.02263641357422,32.28258514404297,-68.07164001464844,-58.73381423950195,-123.20062255859375,31.073711395263672,-32.239906311035156,25.200979232788086,-111.2441635131836,16.71003532409668,-41.25788879394531,-54.735984802246094,3.644771099090576,-38.47986602783203,-114.9666976928711,23.868167877197266,-85.60734558105469,-29.689512252807617,38.77707290649414,-81.83318328857422,-64.18427276611328,97.15789794921875,-54.963722229003906,-37.068233489990234,9.632144927978516,2.3739802837371826,-120.02462768554688,-69.92687225341797,19.313518524169922,-45.38043212890625,-2.826465129852295,-51.320430755615234,37.4246940612793,-17.256227493286133,57.5942268371582,-16.692729949951172,-40.59073257446289,-56.64371109008789,-39.398521423339844,101.77782440185547,-34.61698532104492,76.39057922363281,-52.15936279296875,95.8961410522461,-5.792344570159912,-29.228057861328125,-126.84021759033203,71.33490753173828,13.685481071472168,-93.94515991210938,-15.867847442626953,-36.31053924560547,-44.683921813964844,-66.04003143310547,-50.39052963256836,-9.774142265319824,-72.46887969970703,32.02507019042969,0.4997943341732025,-24.812484741210938,-80.29644012451172,13.63288688659668,9.262338638305664,39.74538040161133,-34.85426330566406,-17.41669464111328,81.9053726196289,-59.86100387573242,-17.72291374206543,-121.87381744384766,-43.7304573059082,-5.9758429527282715,-14.718870162963867,22.28302574157715,24.22007179260254,36.08277893066406,-23.025901794433594,-98.13998413085938,-23.888702392578125,-38.640228271484375,48.864566802978516,13.754541397094727,71.76781463623047,53.66887283325195,-10.96309757232666,-46.60109329223633,-118.5233154296875,86.3137435913086,-78.49894714355469,-47.02659225463867,-45.90050506591797,86.21000671386719,-64.26351165771484,46.33306884765625,37.22391891479492,-42.38936996459961,9.783812522888184,4.6551737785339355,-15.220724105834961,45.98958969116211,-12.879034996032715,42.68745422363281,-26.915576934814453,34.04791259765625,-35.16231155395508,-115.07028198242188,42.27206802368164,-45.543758392333984,35.6750373840332,67.64606475830078,-39.47676467895508,-23.161455154418945,37.32963180541992,45.11199188232422,-121.37823486328125,52.688819885253906,52.079952239990234,-122.00655364990234,46.9029541015625,29.018875122070312,-58.86652755737305,-88.38695526123047,8.18081283569336],\"z\":[-118.36070251464844,57.57676315307617,43.23392868041992,11.715128898620605,-27.29448890686035,-90.9216537475586,15.924073219299316,22.816396713256836,94.86397552490234,42.767940521240234,-57.33441925048828,-14.8690824508667,-36.65088653564453,64.54711151123047,-13.691166877746582,-30.583431243896484,38.18825912475586,-23.311601638793945,-34.88893508911133,20.144956588745117,-74.20294952392578,23.377492904663086,57.97148513793945,91.87815856933594,-41.19218063354492,-1.0180050134658813,-104.80630493164062,83.52145385742188,9.521957397460938,43.358455657958984,-1.3642761707305908,4.463583946228027,-50.66123580932617,-37.59260177612305,57.67824172973633,82.10880279541016,-74.43108367919922,6.274724006652832,59.08883285522461,-10.268169403076172,43.996028900146484,76.34516906738281,53.686378479003906,-41.77692794799805,-88.37298583984375,-55.511436462402344,-15.414848327636719,23.107412338256836,-44.41172409057617,-118.83856964111328,-35.40547180175781,95.82749938964844,-33.089805603027344,-15.923639297485352,55.83980178833008,2.297487258911133,-22.254331588745117,-18.098215103149414,-17.010364532470703,-44.363494873046875,97.23204803466797,-68.26139068603516,29.3040714263916,-61.768890380859375,66.3742446899414,-33.298439025878906,-14.856093406677246,75.85192108154297,-50.372413635253906,-22.631059646606445,-34.686824798583984,88.60456085205078,48.44057846069336,5.851327896118164,46.688961029052734,-31.41792106628418,-117.33416748046875,14.557331085205078,-94.55010986328125,-11.614145278930664,99.18165588378906,72.43204498291016,71.8708724975586,-10.544031143188477,13.05412483215332,-17.0007381439209,-28.454397201538086,49.818294525146484,24.281879425048828,13.363563537597656,43.72429656982422,20.000911712646484,93.30240631103516,11.298402786254883,5.952899932861328,38.99000930786133,97.00025177001953,70.01163482666016,4.120288848876953,94.67035675048828,-80.62156677246094,103.27525329589844,-48.72087478637695,-43.451019287109375,-14.896020889282227,-30.452699661254883,58.00360107421875,-39.53791427612305,-30.25730323791504,-4.574642658233643,-9.382912635803223,70.5169448852539,61.690853118896484,70.8751220703125,55.72245407104492,2.5706958770751953,-46.45731735229492,53.6385612487793,61.94993209838867,81.41670227050781,21.77853012084961,63.757232666015625,-35.83299255371094,91.52145385742188,-82.06787872314453,5.925121307373047,83.90914916992188,-105.75556945800781,-34.48859786987305,24.95921516418457,-117.04750061035156,40.315940856933594,30.53384017944336,-26.76286506652832,-78.46651458740234,-68.55594635009766,13.792466163635254,43.2777214050293,4.808516025543213,45.369083404541016,-11.916356086730957,-7.551841735839844,56.59070587158203,24.24837875366211,-50.05807113647461,4.916354656219482,-83.01041412353516,37.842838287353516,66.78594207763672,21.864246368408203,18.14055824279785,53.745948791503906,1.573682427406311,68.8839111328125,68.54044342041016,-12.98803424835205,11.593548774719238,-134.4300994873047,35.658992767333984,37.883548736572266,-52.96867752075195,58.13633728027344,1.0087331533432007,43.08295440673828,-82.29840850830078,-56.75053024291992,-53.451019287109375,-54.46848678588867,-51.225772857666016,140.48788452148438,-83.63863372802734,101.02256774902344,40.76996612548828,-97.0139389038086,-70.90959167480469,50.339359283447266,-67.65656280517578,44.7370719909668,3.600950241088867,52.49281311035156,53.426170349121094,-99.29666137695312,66.74977111816406,-49.912837982177734,-28.250259399414062,-80.49577331542969,-50.61769104003906,5.737067222595215,-102.60874938964844,-74.54855346679688,39.43208694458008,54.56364822387695,-68.14806365966797,77.40519714355469,-29.63004493713379,-30.577482223510742,74.66783905029297,77.37435150146484,-82.69437408447266,-28.2806339263916,-42.40686798095703,35.60409927368164,41.12480545043945,18.957395553588867,12.04793930053711,37.6188850402832,-73.78414154052734,-108.55558013916016,-55.93266677856445,18.547321319580078,-40.30137634277344,41.06637954711914,-104.53821563720703,50.879051208496094,-1.8634856939315796,-26.765230178833008,56.6879997253418,34.36730194091797,-45.3926887512207,41.218746185302734,-115.38455200195312,-73.08483123779297,-109.4555435180664,28.363548278808594,69.75003814697266,-13.926424026489258,15.695352554321289,129.32406616210938,-4.896219253540039,-52.97657012939453,81.359619140625,24.886079788208008,-10.84105396270752,-20.929738998413086,-27.854976654052734,86.96794128417969,-9.518006324768066,94.76876831054688,-38.45367431640625,42.60284423828125,-66.07563781738281,60.23113250732422,9.984756469726562,-20.396448135375977,-8.261362075805664,77.95597839355469,-1.588093638420105,12.082972526550293,-29.679710388183594,-2.2394280433654785,-69.99161529541016,95.87619018554688,66.53514862060547,-86.78516387939453,-71.3174057006836,-19.33767318725586,-12.883989334106445,68.41881561279297,-62.524208068847656,45.619998931884766,79.2141342163086,10.194145202636719,-29.530332565307617,-90.65247344970703,-0.07790379971265793,-25.67458152770996,3.355170488357544,36.01340866088867,-35.28048324584961,80.38582611083984,-27.802963256835938,1.8287978172302246,-84.15902709960938,133.59323120117188,13.744965553283691,41.11064529418945,81.32990264892578,35.979957580566406,29.233896255493164,-83.95115661621094,90.52349090576172,69.4836196899414,39.00332260131836,-37.87516403198242,-77.77996063232422,-11.171587944030762,78.6407470703125,-48.00653839111328,89.920166015625,-95.4365234375,-74.13203430175781,17.348207473754883,-27.4884033203125,58.58768844604492,-48.01996994018555,-112.03446960449219,73.42019653320312,60.97053527832031,90.49937438964844,137.286865234375,77.27427673339844,34.41587448120117,-45.249237060546875,-3.7521743774414062,-97.72505950927734,-91.94581604003906,-34.63391876220703,-88.4327621459961,76.91339874267578,-28.66957664489746,-73.8336181640625,43.917293548583984,-35.303951263427734,53.58595657348633,-34.58028793334961,-123.10040283203125,-3.45599365234375,110.24031066894531,-64.60350799560547,-16.163379669189453],\"type\":\"scatter3d\"},{\"customdata\":[[\"<b>Bart the Genius</b><br>\",\"<b>Episode:</b> S1E2<br>\",\"<b>Airdate:</b>Sun 14 Jan 1990<br>\",\"<b>Description:</b>Bart ends up at a school for<br>gifted children after cheating on an IQ test.<br>\"],[\"<b>Bart the General</b><br>\",\"<b>Episode:</b> S1E5<br>\",\"<b>Airdate:</b>Sun 04 Feb 1990<br>\",\"<b>Description:</b>After being beaten up by Nelson<br>Muntz one too many times, Bart turns to Grampa for<br>help, and soon leads a rebellion against the<br>school bully.<br>\"],[\"<b>Life on the Fast Lane</b><br>\",\"<b>Episode:</b> S1E9<br>\",\"<b>Airdate:</b>Sun 18 Mar 1990<br>\",\"<b>Description:</b>Marge contemplates an affair<br>with a handsome bowling instructor.<br>\"],[\"<b>The Crepes of Wrath</b><br>\",\"<b>Episode:</b> S1E11<br>\",\"<b>Airdate:</b>Sun 15 Apr 1990<br>\",\"<b>Description:</b>Bart is sent to France on a<br>student exchange program, where he's treated like<br>a slave; an Albanian student with suspicious<br>motives takes Bart's place in the family.<br>\"],[\"<b>Bart Gets an F</b><br>\",\"<b>Episode:</b> S2E1<br>\",\"<b>Airdate:</b>Thu 11 Oct 1990<br>\",\"<b>Description:</b>Mrs. Krabappel, fed up with<br>Bart's lackadaisical approach to his studies,<br>gives him an ultimatum: shape up or repeat the<br>fourth grade.<br>\"],[\"<b>The Way We Was</b><br>\",\"<b>Episode:</b> S2E12<br>\",\"<b>Airdate:</b>Thu 31 Jan 1991<br>\",\"<b>Description:</b>Homer and Marge tell the story<br>of how they met and fell in love in high<br>school.<br>\"],[\"<b>The War of the Simpsons</b><br>\",\"<b>Episode:</b> S2E20<br>\",\"<b>Airdate:</b>Thu 02 May 1991<br>\",\"<b>Description:</b>Homer must decide whether he<br>should complete marriage counseling or skip out to<br>catch a legendary catfish; Bart and Lisa take<br>advantage of Grampa's ignorance of the house<br>rules.<br>\"],[\"<b>Mr. Lisa Goes to Washington</b><br>\",\"<b>Episode:</b> S3E2<br>\",\"<b>Airdate:</b>Thu 26 Sep 1991<br>\",\"<b>Description:</b>After winning a political essay<br>contest, Lisa is invited to Washington, D.C., but<br>she soon becomes upset after discovering how<br>policy-making really works.<br>\"],[\"<b>Bart the Murderer</b><br>\",\"<b>Episode:</b> S3E4<br>\",\"<b>Airdate:</b>Thu 10 Oct 1991<br>\",\"<b>Description:</b>After having a horrible day,<br>Bart gets a job tending bar for a group of<br>gangsters and becomes the prime suspect when<br>Principal Skinner mysteriously disappears.<br>\"],[\"<b>Lisa's Pony</b><br>\",\"<b>Episode:</b> S3E8<br>\",\"<b>Airdate:</b>Thu 07 Nov 1991<br>\",\"<b>Description:</b>Homer buys Lisa a pony that the<br>family can ill afford.<br>\"],[\"<b>I Married Marge</b><br>\",\"<b>Episode:</b> S3E12<br>\",\"<b>Airdate:</b>Thu 26 Dec 1991<br>\",\"<b>Description:</b>As Marge goes to the doctor for<br>a pregnancy test, Homer tells the children of the<br>events leading up to his marriage, and Bart's<br>birth.<br>\"],[\"<b>Radio Bart</b><br>\",\"<b>Episode:</b> S3E13<br>\",\"<b>Airdate:</b>Thu 09 Jan 1992<br>\",\"<b>Description:</b>After Bart receives a<br>microphone which can transmit through radios, he<br>decides to pull a series of pranks and eventually<br>convinces the town that a boy has fallen down a<br>well.<br>\"],[\"<b>Lisa the Greek</b><br>\",\"<b>Episode:</b> S3E14<br>\",\"<b>Airdate:</b>Thu 23 Jan 1992<br>\",\"<b>Description:</b>Homer uses Lisa (and her<br>prognostic skills) to help him bet on football<br>games.<br>\"],[\"<b>Bart the Lover</b><br>\",\"<b>Episode:</b> S3E16<br>\",\"<b>Airdate:</b>Thu 13 Feb 1992<br>\",\"<b>Description:</b>After Mrs. Krabappel gives Bart<br>a month of detention, he gets his revenge by<br>responding to her newspaper singles ad; Homer uses<br>a swear jar to cut down on his cursing.<br>\"],[\"<b>Lisa's First Word</b><br>\",\"<b>Episode:</b> S4E10<br>\",\"<b>Airdate:</b>Thu 03 Dec 1992<br>\",\"<b>Description:</b>While trying to coax Maggie<br>into saying her first word, Homer and Marge talk<br>about how Lisa spoke hers.<br>\"],[\"<b>Brother from the Same Planet</b><br>\",\"<b>Episode:</b> S4E14<br>\",\"<b>Airdate:</b>Thu 04 Feb 1993<br>\",\"<b>Description:</b>When Bart gets tired of Homer's<br>horrible parenting skills, he enrolls in the<br>\\\"Bigger Brother\\\" program where he's assigned a<br>fantastic role model.<br>\"],[\"<b>I Love Lisa</b><br>\",\"<b>Episode:</b> S4E15<br>\",\"<b>Airdate:</b>Thu 11 Feb 1993<br>\",\"<b>Description:</b>Lisa gives Ralph a Valentine's<br>card out of pity, but soon regrets it when he<br>develops an unwanted crush on her.<br>\"],[\"<b>Whacking Day</b><br>\",\"<b>Episode:</b> S4E20<br>\",\"<b>Airdate:</b>Sun 09 May 1993<br>\",\"<b>Description:</b>Marge home-schools Bart after<br>he is expelled from Springfield Elementary; Lisa<br>protests a barbaric local holiday centered around<br>clubbing snakes to death.<br>\"],[\"<b>Marge in Chains</b><br>\",\"<b>Episode:</b> S4E21<br>\",\"<b>Airdate:</b>Sun 30 May 1993<br>\",\"<b>Description:</b>A misunderstanding leads to<br>Marge being imprisoned for shoplifting, with her<br>absence soon descending the family, and<br>eventually, the town into chaos.<br>\"],[\"<b>Marge on the Lam</b><br>\",\"<b>Episode:</b> S5E6<br>\",\"<b>Airdate:</b>Thu 04 Nov 1993<br>\",\"<b>Description:</b>A girls' night out turns into a<br>high speed chase when Marge learns her friend is<br>driving a stolen car.<br>\"],[\"<b>Bart's Inner Child</b><br>\",\"<b>Episode:</b> S5E7<br>\",\"<b>Airdate:</b>Thu 11 Nov 1993<br>\",\"<b>Description:</b>Brad Goodman, a self-help guru,<br>encourages Springfield to act more like Bart, with<br>disastrous results.<br>\"],[\"<b>Boy Scoutz 'n the Hood</b><br>\",\"<b>Episode:</b> S5E8<br>\",\"<b>Airdate:</b>Thu 18 Nov 1993<br>\",\"<b>Description:</b>After joining the Junior<br>Campers while on a sugar high, Bart reluctantly<br>invites Homer to accompany him on the group's<br>annual father-son rafting trip, which soon goes<br>awry.<br>\"],[\"<b>Lisa vs. Malibu Stacy</b><br>\",\"<b>Episode:</b> S5E14<br>\",\"<b>Airdate:</b>Thu 17 Feb 1994<br>\",\"<b>Description:</b>Angered by the vacuous phrases<br>her Malibu Stacy doll utters, Lisa works with<br>Malibu Stacy's original designer to create a doll<br>with admirable traits.<br>\"],[\"<b>Sweet Seymour Skinner's Baadasssss Song</b><br>\",\"<b>Episode:</b> S5E19<br>\",\"<b>Airdate:</b>Thu 28 Apr 1994<br>\",\"<b>Description:</b>Bart accidentally gets<br>Principal Skinner fired on inspection day, with<br>Ned Flanders taking over as his replacement.<br>\"],[\"<b>The Boy Who Knew Too Much</b><br>\",\"<b>Episode:</b> S5E20<br>\",\"<b>Airdate:</b>Thu 05 May 1994<br>\",\"<b>Description:</b>Bart witnesses the alleged<br>assault of a waiter by Mayor Quimby's nephew, but<br>coming forward will mean admitting to skipping<br>class and facing the consequences.<br>\"],[\"<b>Secrets of a Successful Marriage</b><br>\",\"<b>Episode:</b> S5E22<br>\",\"<b>Airdate:</b>Thu 19 May 1994<br>\",\"<b>Description:</b>Homer begins teaching a class<br>on how to have a successful marriage, but<br>jeopardizes his own marriage by revealing secrets<br>about himself and Marge.<br>\"],[\"<b>Bart of Darkness</b><br>\",\"<b>Episode:</b> S6E1<br>\",\"<b>Airdate:</b>Sun 04 Sep 1994<br>\",\"<b>Description:</b>Confined to his room with a<br>broken leg, Bart suspects Ned Flanders of<br>murdering Maude; the family's new swimming pool<br>earns Lisa popularity among the neighborhood<br>kids.<br>\"],[\"<b>Lisa's Rival</b><br>\",\"<b>Episode:</b> S6E2<br>\",\"<b>Airdate:</b>Sun 11 Sep 1994<br>\",\"<b>Description:</b>Lisa is jealous when a new girl<br>in class is smarter than she is; Homer obtains a<br>giant mound of sugar.<br>\"],[\"<b>And Maggie Makes Three</b><br>\",\"<b>Episode:</b> S6E13<br>\",\"<b>Airdate:</b>Sun 22 Jan 1995<br>\",\"<b>Description:</b>Homer recounts the story of<br>Maggie's birth when the kids ask why there are no<br>photos of her in the family album.<br>\"],[\"<b>Lisa's Wedding</b><br>\",\"<b>Episode:</b> S6E19<br>\",\"<b>Airdate:</b>Sun 19 Mar 1995<br>\",\"<b>Description:</b>A fortune teller gives Lisa a<br>look at her wedding in the year 2010.<br>\"],[\"<b>The PTA Disbands</b><br>\",\"<b>Episode:</b> S6E21<br>\",\"<b>Airdate:</b>Sun 16 Apr 1995<br>\",\"<b>Description:</b>Bart manipulates Mrs. Krabappel<br>into leading a teachers' strike against Principal<br>Skinner, but is perturbed when Marge becomes his<br>substitute.<br>\"],[\"<b>Lisa the Vegetarian</b><br>\",\"<b>Episode:</b> S7E5<br>\",\"<b>Airdate:</b>Sun 19 Nov 1995<br>\",\"<b>Description:</b>A trip to a local petting zoo<br>convinces Lisa to give up meat, despite excessive<br>pressure to convince her not to do so.<br>\"],[\"<b>Two Bad Neighbors</b><br>\",\"<b>Episode:</b> S7E13<br>\",\"<b>Airdate:</b>Sun 10 Mar 1996<br>\",\"<b>Description:</b>Former President George Bush<br>and his wife, Barbara, move into the Simpsons'<br>neighborhood and soon clash with Bart and<br>Homer.<br>\"],[\"<b>Lisa the Iconoclast</b><br>\",\"<b>Episode:</b> S7E16<br>\",\"<b>Airdate:</b>Sun 19 May 1996<br>\",\"<b>Description:</b>While researching for an essay,<br>Lisa discovers that Springfield's founding father<br>was actually a murderous thief.<br>\"],[\"<b>Summer of 4'2\\\"</b><br>\",\"<b>Episode:</b> S7E25<br>\",\"<b>Airdate:</b>Sun 15 Sep 1996<br>\",\"<b>Description:</b>After realizing how unpopular<br>she is, a disillusioned Lisa sees the vacation to<br>Ned Flanders' beach house as an opportunity to<br>reinvent herself.<br>\"],[\"<b>Lisa's Date with Density</b><br>\",\"<b>Episode:</b> S8E7<br>\",\"<b>Airdate:</b>Sun 16 Feb 1997<br>\",\"<b>Description:</b>Lisa develops a crush on<br>Nelson, and tries to reform him; Homer gets an<br>autodialer and decides to make easy money with a<br>telemarketing scam.<br>\"],[\"<b>Simpsoncalifragilisticexpiala(Annoyed Grunt)cious</b><br>\",\"<b>Episode:</b> S8E13<br>\",\"<b>Airdate:</b>Sun 07 Sep 1997<br>\",\"<b>Description:</b>Marge is stressed from<br>motherhood and hires a British nanny to help out<br>around the house, who struggles to teach Bart and<br>Lisa how to behave.<br>\"],[\"<b>Homer's Phobia</b><br>\",\"<b>Episode:</b> S8E15<br>\",\"<b>Airdate:</b>Sun 04 May 1997<br>\",\"<b>Description:</b>After Marge befriends John, a<br>gay store owner, Homer worries that his presence<br>will have a negative effect on Bart's<br>sexuality.<br>\"],[\"<b>My Sister, My Sitter</b><br>\",\"<b>Episode:</b> S8E17<br>\",\"<b>Airdate:</b>Sun 25 May 1997<br>\",\"<b>Description:</b>Bart is outraged when Lisa<br>becomes his babysitter.<br>\"],[\"<b>Grade School Confidential</b><br>\",\"<b>Episode:</b> S8E19<br>\",\"<b>Airdate:</b>Sun 01 Jun 1997<br>\",\"<b>Description:</b>Bart discovers Principal<br>Skinner and Mrs Krabappel kissing, and it's not<br>long before the whole town knows of their secret<br>affair.<br>\"],[\"<b>The Principal and the Pauper</b><br>\",\"<b>Episode:</b> S9E2<br>\",\"<b>Airdate:</b>Sun 19 Oct 1997<br>\",\"<b>Description:</b>At his 20th anniversary<br>celebration as school principal, Principal Skinner<br>is discovered to be an imposter of the real<br>Seymour Skinner.<br>\"],[\"<b>Lisa's Sax</b><br>\",\"<b>Episode:</b> S9E3<br>\",\"<b>Airdate:</b>Sun 09 Nov 1997<br>\",\"<b>Description:</b>Homer recounts the story of<br>Bart's first day of school, which corresponds with<br>the story of how Lisa got her saxophone.<br>\"],[\"<b>The Two Mrs. Nahasapeemapetilons</b><br>\",\"<b>Episode:</b> S9E7<br>\",\"<b>Airdate:</b>Sun 30 Nov 1997<br>\",\"<b>Description:</b>Apu receives a letter from his<br>mother stating that it's time for him fulfilled<br>his arranged marriage obligation, he pretends<br>Marge is his wife.<br>\"],[\"<b>Bart Carny</b><br>\",\"<b>Episode:</b> S9E12<br>\",\"<b>Airdate:</b>Sun 22 Feb 1998<br>\",\"<b>Description:</b>Bart and Homer befriend two<br>carnies and invite them to stay with them, but the<br>carnies soon swindle the Simpsons out of their<br>house.<br>\"],[\"<b>Das Bus</b><br>\",\"<b>Episode:</b> S9E14<br>\",\"<b>Airdate:</b>Sun 29 Mar 1998<br>\",\"<b>Description:</b>While the kids become stranded<br>on a desert island, Homer attempts to cash in on<br>the Internet.<br>\"],[\"<b>Lisa the Simpson</b><br>\",\"<b>Episode:</b> S9E17<br>\",\"<b>Airdate:</b>Sun 31 May 1998<br>\",\"<b>Description:</b>Lisa fears she is losing her<br>intelligence when she learns about the fabled<br>Simpson gene. Meanwhile, Jasper freezes himself in<br>the Kwik-E-Mart freezer.<br>\"],[\"<b>Lost Our Lisa</b><br>\",\"<b>Episode:</b> S9E24<br>\",\"<b>Airdate:</b>Sun 13 Sep 1998<br>\",\"<b>Description:</b>Lisa gets lost after she tries<br>to take a bus to a museum.<br>\"],[\"<b>Natural Born Kissers</b><br>\",\"<b>Episode:</b> S9E25<br>\",\"<b>Airdate:</b>Sun 20 Sep 1998<br>\",\"<b>Description:</b>Homer and Marge's attempt to<br>spice up their marriage leads to the couple being<br>chased naked through Springfield.<br>\"],[\"<b>Lisa Gets an 'A'</b><br>\",\"<b>Episode:</b> S10E7<br>\",\"<b>Airdate:</b>Sun 17 Jan 1999<br>\",\"<b>Description:</b>When Lisa cheats on a test, she<br>has a moral crisis when her perfect score<br>qualifies the school for grant money; Homer adopts<br>a lobster as a pet.<br>\"],[\"<b>Make Room for Lisa</b><br>\",\"<b>Episode:</b> S10E16<br>\",\"<b>Airdate:</b>Sun 25 Apr 1999<br>\",\"<b>Description:</b>Lisa feels that her<br>relationship with her father will never be close,<br>and she develops stress-induced stomach pains;<br>Marge inadvertently knocks out Milhouse.<br>\"],[\"<b>They Saved Lisa's Brain</b><br>\",\"<b>Episode:</b> S10E22<br>\",\"<b>Airdate:</b>Sun 18 Jul 1999<br>\",\"<b>Description:</b>Lisa is invited to join the<br>Springfield chapter of MENSA and after Mayor<br>Quimby flees, the group ends up running the city.<br>Meanwhile, Homer poses for a series of erotic<br>photos.<br>\"],[\"<b>Take My Wife, Sleaze</b><br>\",\"<b>Episode:</b> S11E8<br>\",\"<b>Airdate:</b>Sun 23 Jan 2000<br>\",\"<b>Description:</b>Homer's attempt at creating a<br>motorcycle gang attracts a real gang, who kidnap<br>Marge.<br>\"],[\"<b>Little Big Mom</b><br>\",\"<b>Episode:</b> S11E10<br>\",\"<b>Airdate:</b>Sun 12 Mar 2000<br>\",\"<b>Description:</b>Lisa finds out how rough Marge<br>has it when her mom is in traction and she becomes<br>the woman of the house. Homer and Bart's antics<br>get her so worked up she conspires to teach them a<br>lesson.<br>\"],[\"<b>Saddlesore Galactica</b><br>\",\"<b>Episode:</b> S11E13<br>\",\"<b>Airdate:</b>Sun 23 Apr 2000<br>\",\"<b>Description:</b>The Simpsons get an abused<br>horse and make him a contender in horse racing.<br>Homer finds out a secret conspiracy about jockeys.<br>Lisa tries to reach President Clinton when the<br>results of a school band talent competition seem<br>tainted.<br>\"],[\"<b>Days of Wine and D'oh'ses</b><br>\",\"<b>Episode:</b> S11E18<br>\",\"<b>Airdate:</b>Sun 17 Sep 2000<br>\",\"<b>Description:</b>Homer doesn't like it when<br>Barney quits drinking; Bart and Lisa get into<br>trouble when they enter a photo contest for the<br>new phone book cover.<br>\"],[\"<b>HOMR</b><br>\",\"<b>Episode:</b> S12E9<br>\",\"<b>Airdate:</b>Sun 25 Feb 2001<br>\",\"<b>Description:</b>An X-ray reveals a crayon<br>lodged in Homer's brain. After the crayon is<br>removed, Homer experiences a sudden surge in<br>intelligence, making him closer to Lisa and<br>isolated from his friends.<br>\"],[\"<b>Pokey Mom</b><br>\",\"<b>Episode:</b> S12E10<br>\",\"<b>Airdate:</b>Sun 11 Mar 2001<br>\",\"<b>Description:</b>Marge befriends a convict with<br>an artistic streak. Meanwhile, Homer battles the<br>chiropractic industry after he creates a miracle<br>back pain cure.<br>\"],[\"<b>New Kids on the Blecch</b><br>\",\"<b>Episode:</b> S12E14<br>\",\"<b>Airdate:</b>Sun 06 May 2001<br>\",\"<b>Description:</b>A music producer offers Bart<br>and his friends a chance to participate in an up-<br>and-coming boyband, but the boys are not up to it<br>after making a discovery.<br>\"],[\"<b>Children of a Lesser Clod</b><br>\",\"<b>Episode:</b> S12E20<br>\",\"<b>Airdate:</b>Sun 14 Oct 2001<br>\",\"<b>Description:</b>After a debilitating injury<br>forces him to stay indoors, Homer begins a daycare<br>center.<br>\"],[\"<b>The Parent Rap</b><br>\",\"<b>Episode:</b> S13E2<br>\",\"<b>Airdate:</b>Sun 25 Nov 2001<br>\",\"<b>Description:</b>After Bart takes a joyride in a<br>police car, a judge orders him to be tethered to<br>Homer at all times.<br>\"],[\"<b>Half-Decent Proposal</b><br>\",\"<b>Episode:</b> S13E10<br>\",\"<b>Airdate:</b>Sun 07 Apr 2002<br>\",\"<b>Description:</b>Marge's high school sweetheart<br>Artie Ziff returns and offers Homer a million<br>dollars to spend a weekend with Marge.<br>\"],[\"<b>Bart vs. Lisa vs. 3rd Grade</b><br>\",\"<b>Episode:</b> S14E3<br>\",\"<b>Airdate:</b>Sun 08 Dec 2002<br>\",\"<b>Description:</b>Bart and Lisa are respectively<br>held back and moved forward one grade, putting<br>them in the same class.<br>\"],[\"<b>Special Edna</b><br>\",\"<b>Episode:</b> S14E7<br>\",\"<b>Airdate:</b>Sun 09 Feb 2003<br>\",\"<b>Description:</b>After Skinner once again has<br>let Mrs. Krabappel down, Bart nominates her for<br>Teacher of the Year. When the nomination is<br>accepted, Skinner tries to get back Krabappel by<br>asking her to marry him.<br>\"],[\"<b>I'm Spelling as Fast as I Can</b><br>\",\"<b>Episode:</b> S14E12<br>\",\"<b>Airdate:</b>Sun 18 May 2003<br>\",\"<b>Description:</b>Lisa participates in the<br>Spellympics, but Homer is busy traveling cross-<br>country as Krusty Burger test-markets a new<br>sandwich. Lisa is confident that she will win,<br>until she learns that the contest is rigged<br>against her.<br>\"],[\"<b>'Scuse Me While I Miss the Sky</b><br>\",\"<b>Episode:</b> S14E16<br>\",\"<b>Airdate:</b>Sun 22 Jun 2003<br>\",\"<b>Description:</b>Lisa becomes interested in<br>astronomy and starts fighting the light pollution<br>which is preventing her from being able to enjoy<br>her new hobby.<br>\"],[\"<b>Three Gays of the Condo</b><br>\",\"<b>Episode:</b> S14E17<br>\",\"<b>Airdate:</b>Sun 13 Jul 2003<br>\",\"<b>Description:</b>When Homer finds an old note<br>revealing Marge only married him because she was<br>pregnant with Bart, he moves into a condo with two<br>gay guys.<br>\"],[\"<b>Brake My Wife, Please</b><br>\",\"<b>Episode:</b> S14E20<br>\",\"<b>Airdate:</b>Sun 14 Sep 2003<br>\",\"<b>Description:</b>Because of Homer losing his<br>driver's license, Marge has to drive everyone<br>everywhere, which is so stressful for her that she<br>accidentally runs over Homer leading to the two<br>seeing a marriage counselor.<br>\"],[\"<b>Marge vs. Singles, Seniors, Childless Couples and Teens and Gays</b><br>\",\"<b>Episode:</b> S15E8<br>\",\"<b>Airdate:</b>Sun 14 Mar 2004<br>\",\"<b>Description:</b>A concert for babies ends in a<br>riot, so the childless adults of Springfield<br>gather to make the town less child-friendly.<br>\"],[\"<b>Margical History Tour</b><br>\",\"<b>Episode:</b> S15E11<br>\",\"<b>Airdate:</b>Sun 30 May 2004<br>\",\"<b>Description:</b>Marge tells Lisa, Bart and<br>Millhouse three history stories because the<br>library doesn't have any.<br>\"],[\"<b>Smart & Smarter</b><br>\",\"<b>Episode:</b> S15E13<br>\",\"<b>Airdate:</b>Sun 24 Oct 2004<br>\",\"<b>Description:</b>When Maggie is revealed to have<br>an IQ of 167, Lisa is no longer the genius of the<br>family, causing a rivalry between the sisters.<br>\"],[\"<b>Co-Dependent's Day</b><br>\",\"<b>Episode:</b> S15E15<br>\",\"<b>Airdate:</b>Sun 07 Nov 2004<br>\",\"<b>Description:</b>Marge takes up heavy drinking<br>to spend more time with Homer. Bart and Lisa<br>confront a famous movie director about the drop in<br>quality his films have taken.<br>\"],[\"<b>My Big Fat Geek Wedding</b><br>\",\"<b>Episode:</b> S15E17<br>\",\"<b>Airdate:</b>Sun 03 Oct 2004<br>\",\"<b>Description:</b>Mrs. Krabapel falls for Comic<br>Book Guy and they plan a Star Trek like wedding.<br>Principal Skinner plans to prevent it.<br>\"],[\"<b>Catch 'Em If You Can</b><br>\",\"<b>Episode:</b> S15E18<br>\",\"<b>Airdate:</b>Sun 31 Oct 2004<br>\",\"<b>Description:</b>Homer and Marge try to have a<br>vacation without the kids but Bart and Lisa follow<br>them everywhere they go.<br>\"],[\"<b>The Way We Weren't</b><br>\",\"<b>Episode:</b> S15E20<br>\",\"<b>Airdate:</b>Sun 17 Oct 2004<br>\",\"<b>Description:</b>Marge and Homer find out that<br>they actually kissed each other at age 10 without<br>knowing they were each other's first kisses, and<br>tell the story about this.<br>\"],[\"<b>Sleeping with the Enemy</b><br>\",\"<b>Episode:</b> S16E3<br>\",\"<b>Airdate:</b>Sun 28 Nov 2004<br>\",\"<b>Description:</b>Because she thinks her own<br>children do not appreciate her anymore, Marge<br>becomes a mother figure for Nelson.<br>\"],[\"<b>She Used to Be My Girl</b><br>\",\"<b>Episode:</b> S16E4<br>\",\"<b>Airdate:</b>Sun 12 Dec 2004<br>\",\"<b>Description:</b>Marge becomes jealous when Lisa<br>begins idolizing her old high school friend, Chloe<br>Talbot, a famous reporter.<br>\"],[\"<b>Pranksta Rap</b><br>\",\"<b>Episode:</b> S16E9<br>\",\"<b>Airdate:</b>Sun 03 Apr 2005<br>\",\"<b>Description:</b>Bart went to a rap concert<br>Marge told him not to go to. In order to avoid<br>punishment from Marge, he makes Marge and Homer<br>believe he has been kidnapped.<br>\"],[\"<b>There's Something About Marrying</b><br>\",\"<b>Episode:</b> S16E10<br>\",\"<b>Airdate:</b>Sun 29 May 2005<br>\",\"<b>Description:</b>A townsperson comes out of the<br>closet when Springfield legalized same-sex<br>marriages in a plot to bolster tourism; Homer uses<br>the Internet to become a minister.<br>\"],[\"<b>Goo Goo Gai Pan</b><br>\",\"<b>Episode:</b> S16E12<br>\",\"<b>Airdate:</b>Sun 01 May 2005<br>\",\"<b>Description:</b>Selma decides to adopt a child,<br>so the whole family goes to China.<br>\"],[\"<b>Mobile Homer</b><br>\",\"<b>Episode:</b> S16E13<br>\",\"<b>Airdate:</b>Sun 15 May 2005<br>\",\"<b>Description:</b>After a garage-cleaning<br>accident, Marge wants Homer to get life insurance.<br>Instead, the family gets an RV.<br>\"],[\"<b>The Father, the Son, and the Holy Guest Star</b><br>\",\"<b>Episode:</b> S16E21<br>\",\"<b>Airdate:</b>Sun 16 Oct 2005<br>\",\"<b>Description:</b>Bart is expelled from<br>Springfield Elementary, and Bart is therefore<br>enrolled in St. Jerome's Catholic School.<br>\"],[\"<b>The Girl Who Slept Too Little</b><br>\",\"<b>Episode:</b> S17E2<br>\",\"<b>Airdate:</b>Sun 13 Nov 2005<br>\",\"<b>Description:</b>A new cemetery right outside<br>the window of Lisa's room makes Lisa suffer from<br>many sleepless nights.<br>\"],[\"<b>Marge's Son Poisoning</b><br>\",\"<b>Episode:</b> S17E5<br>\",\"<b>Airdate:</b>Sun 01 Jan 2006<br>\",\"<b>Description:</b>Marge and Bart start spending<br>more time together, and make a tradition of<br>cycling to a tea house in a small village outside<br>Springfield.<br>\"],[\"<b>We're on the Road to D'ohwhere</b><br>\",\"<b>Episode:</b> S17E11<br>\",\"<b>Airdate:</b>Sun 26 Feb 2006<br>\",\"<b>Description:</b>When Homer is on his way to<br>Vegas to meet up with his friends, he has to make<br>a detour to take Bart to an education camp.<br>Meanwhile, Marge has discovered a surprising<br>source of income.<br>\"],[\"<b>Homer Simpson, This Is Your Wife</b><br>\",\"<b>Episode:</b> S17E15<br>\",\"<b>Airdate:</b>Sun 23 Apr 2006<br>\",\"<b>Description:</b>As part of a new Fox show, the<br>Simpsons participate in a wife-swap.<br>\"],[\"<b>Kiss Kiss, Bang Bangalore</b><br>\",\"<b>Episode:</b> S17E17<br>\",\"<b>Airdate:</b>Sun 21 May 2006<br>\",\"<b>Description:</b>Homer gets sent to India when<br>the power plant is relocated there. Selma and<br>Patty kidnap Richard Dean Anderson after he spurns<br>their MacGyver fan club.<br>\"],[\"<b>Homer and Marge Turn a Couple Play</b><br>\",\"<b>Episode:</b> S17E22<br>\",\"<b>Airdate:</b>Sun 15 Oct 2006<br>\",\"<b>Description:</b>Marge and Homer try their luck<br>at celebrity marriage counselling.<br>\"],[\"<b>Jazzy & The Pussycats</b><br>\",\"<b>Episode:</b> S18E2<br>\",\"<b>Airdate:</b>Sun 29 Oct 2006<br>\",\"<b>Description:</b>Lisa becomes depressed when<br>Bart becomes a better jazz musician than her. So<br>she decides to set up an animal shelter in the<br>Simpsons' attic.<br>\"],[\"<b>24 Minutes</b><br>\",\"<b>Episode:</b> S18E21<br>\",\"<b>Airdate:</b>Sun 01 Jul 2007<br>\",\"<b>Description:</b>Bart and Lisa join forces to<br>stop the school bullies from setting off a stink<br>bomb at the school bake sale.<br>\"],[\"<b>He Loves to Fly and He D'ohs</b><br>\",\"<b>Episode:</b> S19E1<br>\",\"<b>Airdate:</b>Sun 23 Sep 2007<br>\",\"<b>Description:</b>Homer falls in love with<br>private planes after taking a flight to Chicago<br>with Mr. Burns. So Marge hires Homer a \\\"life<br>manager\\\" to help him think positively and find a<br>job that will allow him to fly for a living.<br>\"],[\"<b>I Don't Wanna Know Why the Caged Bird Sings</b><br>\",\"<b>Episode:</b> S19E4<br>\",\"<b>Airdate:</b>Sun 03 Feb 2008<br>\",\"<b>Description:</b>Marge promises to visit a<br>convicted bank robber in prison, but is afraid to<br>follow through. But when the convict escapes from<br>prison, Marge is the first person he pays a visit<br>to.<br>\"],[\"<b>That '90s Show</b><br>\",\"<b>Episode:</b> S19E11<br>\",\"<b>Airdate:</b>Sun 27 Jan 2008<br>\",\"<b>Description:</b>Homer and Marge tell the kids<br>about their life in the early 1990s before they<br>were born, when Marge was enrolled in Springfield<br>College and Homer was the lead singer of a grunge<br>rock band.<br>\"],[\"<b>The DeBarted</b><br>\",\"<b>Episode:</b> S19E13<br>\",\"<b>Airdate:</b>Sun 02 Mar 2008<br>\",\"<b>Description:</b>The new prankster in Bart's<br>fourth grade class actually turns out to be a mole<br>brought in by Principal Skinner to infiltrate<br>Bart's inner circle. Homer falls in love with his<br>loaner car after Marge wrecks their old one.<br>\"],[\"<b>Dial 'N' for Nerder</b><br>\",\"<b>Episode:</b> S19E14<br>\",\"<b>Airdate:</b>Sun 09 Mar 2008<br>\",\"<b>Description:</b>One of Bart's pranks results in<br>Martin's death, but Lisa doesn't want him to<br>confess because she would be considered an<br>accomplice. Marge hires a television crew to find<br>out if Homer is cheating on his diet.<br>\"],[\"<b>Smoke on the Daughter</b><br>\",\"<b>Episode:</b> S19E15<br>\",\"<b>Airdate:</b>Sun 30 Mar 2008<br>\",\"<b>Description:</b>Marge has Lisa take up ballet,<br>mainly to have Lisa live out her own childhood<br>dreams. Lisa then succumbs to peer pressure from<br>her ballet mates and takes up smoking. Meanwhile,<br>Homer and Bart try to start their own beef jerky<br>business.<br>\"],[\"<b>Papa Don't Leech</b><br>\",\"<b>Episode:</b> S19E16<br>\",\"<b>Airdate:</b>Sun 13 Apr 2008<br>\",\"<b>Description:</b>When the Simpsons discover that<br>Lurleen Lumpkin is on the skids, Marge reluctantly<br>agrees to take her in and help her find her<br>deadbeat dad who abandoned her 30 years ago.<br>\"],[\"<b>Any Given Sundance</b><br>\",\"<b>Episode:</b> S19E18<br>\",\"<b>Airdate:</b>Sun 04 May 2008<br>\",\"<b>Description:</b>Lisa's documentary about her<br>family is accepted into the Sundance Film<br>Festival. However, her family gets upset with her<br>when they discover that the film is far from<br>flattering.<br>\"],[\"<b>All About Lisa</b><br>\",\"<b>Episode:</b> S19E20<br>\",\"<b>Airdate:</b>Sun 18 May 2008<br>\",\"<b>Description:</b>In a parody of \\\"All About Eve,\\\"<br>Lisa stabs Krusty in the back, takes his job, and<br>wins a prestigious award. Meanwhile, Homer and<br>Bart take up coin collecting.<br>\"],[\"<b>Lost Verizon</b><br>\",\"<b>Episode:</b> S20E2<br>\",\"<b>Airdate:</b>Sun 05 Oct 2008<br>\",\"<b>Description:</b>Bart gets in trouble with Marge<br>after she finds out that he has Denis Leary's cell<br>phone and is using it to make prank phone<br>calls.<br>\"],[\"<b>Double, Double, Boy in Trouble</b><br>\",\"<b>Episode:</b> S20E3<br>\",\"<b>Airdate:</b>Sun 19 Oct 2008<br>\",\"<b>Description:</b>Bart trades lives with his<br>multi-millionaire lookalike, but discovers that<br>his lookalike's life isn't all he thought it would<br>be.<br>\"],[\"<b>Homer and Lisa Exchange Cross Words</b><br>\",\"<b>Episode:</b> S20E6<br>\",\"<b>Airdate:</b>Sun 16 Nov 2008<br>\",\"<b>Description:</b>Homer gets a job breaking up<br>couples, and Lisa becomes an expert crossword<br>puzzle solver, but Homer bets against her in a<br>competition.<br>\"],[\"<b>MyPods and Boomsticks</b><br>\",\"<b>Episode:</b> S20E7<br>\",\"<b>Airdate:</b>Sun 30 Nov 2008<br>\",\"<b>Description:</b>Homer suspects that the family<br>of Bart's new Muslim friend from Jordan is part of<br>a terrorist plot, and Lisa becomes obsessed with<br>her new MyPod.<br>\"],[\"<b>Lisa the Drama Queen</b><br>\",\"<b>Episode:</b> S20E9<br>\",\"<b>Airdate:</b>Sun 25 Jan 2009<br>\",\"<b>Description:</b>Lisa and her new best friend<br>create their own fantasy world, but Marge doesn't<br>want Lisa to see her friend anymore after she<br>finds out that they're too far gone in it.<br>\"],[\"<b>Wedding for Disaster</b><br>\",\"<b>Episode:</b> S20E15<br>\",\"<b>Airdate:</b>Sun 29 Mar 2009<br>\",\"<b>Description:</b>Homer is kidnapped moments<br>before he and Marge are supposed to re-renew their<br>vows. However, Marge comes to the conclusion that<br>Homer left her at the altar.<br>\"],[\"<b>The Great Wife Hope</b><br>\",\"<b>Episode:</b> S21E3<br>\",\"<b>Airdate:</b>Sun 11 Oct 2009<br>\",\"<b>Description:</b>Marge takes on the owner of an<br>ultimate fighting league in the ring in order to<br>get the sport banned in Springfield.<br>\"],[\"<b>Pranks and Greens</b><br>\",\"<b>Episode:</b> S21E6<br>\",\"<b>Airdate:</b>Sun 22 Nov 2009<br>\",\"<b>Description:</b>Bart meets the boy responsible<br>for the greatest prank in Springfield Elementary<br>School history, and discovers that he's now a<br>19-year-old loser. Meanwhile, Marge is scolded for<br>providing unhealthy snacks for Maggie's play<br>group.<br>\"],[\"<b>Stealing First Base</b><br>\",\"<b>Episode:</b> S21E15<br>\",\"<b>Airdate:</b>Sun 08 Aug 2010<br>\",\"<b>Description:</b>Bart gets Springfield<br>Elementary School in legal trouble when he kisses<br>the enigmatic daughter of two lawyers, while Lisa<br>is depressed about being ostracized because she is<br>smart.<br>\"],[\"<b>The Squirt and the Whale</b><br>\",\"<b>Episode:</b> S21E19<br>\",\"<b>Airdate:</b>Sun 05 Sep 2010<br>\",\"<b>Description:</b>After a violent storm, Lisa<br>tries to rally the townspeople and come to the<br>rescue of a beached whale.<br>\"],[\"<b>Loan-a Lisa</b><br>\",\"<b>Episode:</b> S22E2<br>\",\"<b>Airdate:</b>Sun 03 Oct 2010<br>\",\"<b>Description:</b>Lisa uses the $50 she receives<br>from Grandpa to give Nelson a microloan to jump-<br>start his bicycle business, but soon comes to<br>regret the decision.<br>\"],[\"<b>Lisa Simpson, This Isn't Your Life</b><br>\",\"<b>Episode:</b> S22E5<br>\",\"<b>Airdate:</b>Sun 14 Nov 2010<br>\",\"<b>Description:</b>When Lisa discovers that Marge<br>was also a model student, she tries to find out<br>where everything changed so that she doesn't<br>repeat her mistakes. Meanwhile, a series of chance<br>accidents cause Bart to replace Nelson as school<br>bully.<br>\"],[\"<b>Moms I'd Like to Forget</b><br>\",\"<b>Episode:</b> S22E10<br>\",\"<b>Airdate:</b>Sun 09 Jan 2011<br>\",\"<b>Description:</b>Bart sets out to uncover the<br>origins of a sword-shaped scar on his hand; Marge<br>reconnects with three friends she fell out with<br>years ago.<br>\"],[\"<b>A Midsummer's Nice Dreams</b><br>\",\"<b>Episode:</b> S22E16<br>\",\"<b>Airdate:</b>Sun 13 Mar 2011<br>\",\"<b>Description:</b>After Tommy Chong walks away<br>from the Cheech & Chong reunion tour, Homer goes<br>on the road as his replacement. Meanwhile, Marge<br>tries to help the cat lady with her hoarding<br>problem.<br>\"],[\"<b>Bart Stops to Smell the Roosevelts</b><br>\",\"<b>Episode:</b> S23E2<br>\",\"<b>Airdate:</b>Sun 02 Oct 2011<br>\",\"<b>Description:</b>Superintendant Chalmers gets<br>fired after using unconventional methods to teach<br>Bart and his friends about Teddy Roosevelt, so the<br>boys take over Springfield Elementary until he<br>gets his old job back.<br>\"],[\"<b>The Book Job</b><br>\",\"<b>Episode:</b> S23E6<br>\",\"<b>Airdate:</b>Sun 20 Nov 2011<br>\",\"<b>Description:</b>Homer and Bart put together a<br>team to author the next successful tween novel<br>franchise and make a million dollars, but discover<br>that they need Lisa's help to pull it off.<br>\"],[\"<b>Adventures in Baby-Getting</b><br>\",\"<b>Episode:</b> S24E3<br>\",\"<b>Airdate:</b>Sun 31 Mar 2013<br>\",\"<b>Description:</b>Marge decides that she wants<br>another baby, but Homer doesn't want one.<br>Meanwhile, Bart tries to figure out where Lisa is<br>secretly going after school.<br>\"],[\"<b>Dark Knight Court</b><br>\",\"<b>Episode:</b> S24E16<br>\",\"<b>Airdate:</b>Sun 24 Nov 2013<br>\",\"<b>Description:</b>When Bart is accused of a prank<br>he says he didn't commit, Lisa is forced to defend<br>him in youth court, with former attorney general<br>Janet Reno serving as judge.<br>\"],[\"<b>The Fabulous Faker Boy</b><br>\",\"<b>Episode:</b> S24E20<br>\",\"<b>Airdate:</b>Sun 12 May 2013<br>\",\"<b>Description:</b>Bart takes piano lessons from a<br>cute Russian girl, Marge tries to teach the girl's<br>father how to drive, and Homer loses the last of<br>his hair.<br>\"],[\"<b>Dangers on a Train</b><br>\",\"<b>Episode:</b> S24E22<br>\",\"<b>Airdate:</b>Sun 01 Dec 2013<br>\",\"<b>Description:</b>When Marge tries to buy Homer<br>snack cakes for their anniversary, she winds up<br>meeting a married man who shares a common love of<br>British television.<br>\"],[\"<b>Married to the Blob</b><br>\",\"<b>Episode:</b> S25E10<br>\",\"<b>Airdate:</b>Sun 25 May 2014<br>\",\"<b>Description:</b>Comic Book Guy seeks romantic<br>advice from Homer when he falls for a Japanese<br>woman who's interested in manga.<br>\"],[\"<b>Diggs</b><br>\",\"<b>Episode:</b> S25E12<br>\",\"<b>Airdate:</b>Sun 01 Jun 2014<br>\",\"<b>Description:</b>Bart becomes friends with a<br>schoolmate who enjoys falconry, but turns out to<br>be mentally disturbed.<br>\"],[\"<b>Luca$</b><br>\",\"<b>Episode:</b> S25E17<br>\",\"<b>Airdate:</b>Sun 10 Aug 2014<br>\",\"<b>Description:</b>Marge becomes worried when Lisa<br>starts dating a competitive eater-in-training,<br>while Bart receives gifts from Snake Jailbird for<br>helping him out.<br>\"],[\"<b>The Yellow Badge of Cowardge</b><br>\",\"<b>Episode:</b> S25E22<br>\",\"<b>Airdate:</b>Sun 24 Aug 2014<br>\",\"<b>Description:</b>Bart wins the annual \\\"last day<br>of school\\\" race - with a little help from Nelson -<br>and Homer attempts to bring back 4th of July<br>fireworks, which have been canceled due to low<br>budget cuts.<br>\"],[\"<b>Blazed and Confused</b><br>\",\"<b>Episode:</b> S26E7<br>\",\"<b>Airdate:</b>Sun 16 Nov 2014<br>\",\"<b>Description:</b>Bart tricks his family into a<br>camping trip at a strange event known as \\\"Blazing<br>Guy\\\" so that he can get revenge on his sadistic<br>new fourth grade teacher.<br>\"],[\"<b>Bart's New Friend</b><br>\",\"<b>Episode:</b> S26E11<br>\",\"<b>Airdate:</b>Sun 08 Mar 2015<br>\",\"<b>Description:</b>Homer is hypnotized into<br>believing he's ten years old and ends up stuck in<br>his new age when the hypnotist dies, so he bonds<br>with Bart and refuses to take back the<br>responsibilities of adulthood.<br>\"],[\"<b>My Fare Lady</b><br>\",\"<b>Episode:</b> S26E14<br>\",\"<b>Airdate:</b>Sun 29 Mar 2015<br>\",\"<b>Description:</b>Marge gets a job as a driver<br>for a transportation app service, while Moe is<br>forced to work as a janitor at the nuclear plant<br>after Homer causes the bar to go bankrupt.<br>\"],[\"<b>Let's Go Fly a Coot</b><br>\",\"<b>Episode:</b> S26E20<br>\",\"<b>Airdate:</b>Sun 10 May 2015<br>\",\"<b>Description:</b>Bart takes up smoking<br>e-cigarettes to impress Milhouse's cousin Annika<br>while the rest of the family learns about Grampa's<br>days in the Air Force.<br>\"],[\"<b>Every Man's Dream</b><br>\",\"<b>Episode:</b> S27E1<br>\",\"<b>Airdate:</b>Sun 27 Sep 2015<br>\",\"<b>Description:</b>Marge decides it's finally time<br>to separate from Homer, and quickly moves on with<br>her life. Homer is initially devastated, but soon<br>stumbles into a romance with a younger woman.<br>\"],[\"<b>Puffless</b><br>\",\"<b>Episode:</b> S27E3<br>\",\"<b>Airdate:</b>Sun 11 Oct 2015<br>\",\"<b>Description:</b>Patty and Selma try to quit<br>smoking, but Patty moves in with the Simpsons when<br>Selma takes it up again. Meanwhile, Maggie goes on<br>an adventure with some local creatures.<br>\"],[\"<b>Barthood</b><br>\",\"<b>Episode:</b> S27E9<br>\",\"<b>Airdate:</b>Sun 13 Dec 2015<br>\",\"<b>Description:</b>A tale of Bart's journey from<br>youth to adulthood, where he is constantly in<br>search of approval from his father and in the<br>shadow of his more-successful younger sister.<br>\"],[\"<b>Gal of Constant Sorrow</b><br>\",\"<b>Episode:</b> S27E14<br>\",\"<b>Airdate:</b>Sun 21 Feb 2016<br>\",\"<b>Description:</b>Lisa tries to launch the career<br>of a homeless Appalachian folk singer, but Bart<br>warns her that she will just let her down.<br>Meanwhile, Homer tries to rescue the cat, who is<br>trapped in the walls of the house.<br>\"],[\"<b>The Marge-ian Chronicles</b><br>\",\"<b>Episode:</b> S27E16<br>\",\"<b>Airdate:</b>Sun 13 Mar 2016<br>\",\"<b>Description:</b>Lisa signs up for an<br>opportunity to be part of a mission to colonize<br>Mars in ten years, and Homer's strategy to use<br>reverse psychology to talk her out of it<br>backfires.<br>\"],[\"<b>How Lisa Got Her Marge Back</b><br>\",\"<b>Episode:</b> S27E18<br>\",\"<b>Airdate:</b>Sun 10 Apr 2016<br>\",\"<b>Description:</b>After Lisa overhears Marge say<br>that she doesn't like Lisa's jazz music, Marge<br>takes Lisa on a trip to Capitol City to regain her<br>friendship. Meanwhile, Bart uses Maggie as his new<br>partner in crime for his practical jokes.<br>\"],[\"<b>To Courier with Love</b><br>\",\"<b>Episode:</b> S27E20<br>\",\"<b>Airdate:</b>Sun 08 May 2016<br>\",\"<b>Description:</b>After promising Marge the trip<br>of a lifetime, Homer makes a deal with a travel<br>agent to be a courier of a top-secret briefcase in<br>exchange for a discounted family vacation to<br>Paris.<br>\"],[\"<b>Whistler's Father</b><br>\",\"<b>Episode:</b> S29E3<br>\",\"<b>Airdate:</b>Fri 12 Jan 2018<br>\",\"<b>Description:</b>Homer launches Maggie's baby-<br>celebrity career with her whistling talent; Marge<br>is hired to style Fat Tony's brothel.<br>\"],[\"<b>Mr. Lisa's Opus</b><br>\",\"<b>Episode:</b> S29E8<br>\",\"<b>Airdate:</b>Fri 16 Feb 2018<br>\",\"<b>Description:</b>In the future, Lisa writes a<br>college application essay to Harvard and recalls<br>disappointing past birthdays that helped shape<br>her.<br>\"],[\"<b>Gone Boy</b><br>\",\"<b>Episode:</b> S29E9<br>\",\"<b>Airdate:</b>Sun 24 Dec 2017<br>\",\"<b>Description:</b>When Bart goes missing, the<br>town puts together a search party to find him.<br>\"],[\"<b>3 Scenes Plus a Tag from a Marriage</b><br>\",\"<b>Episode:</b> S29E13<br>\",\"<b>Airdate:</b>Fri 30 Mar 2018<br>\",\"<b>Description:</b>Homer and Marge tell the story<br>of how they went from loving life without kids to<br>being miserable parents.<br>\"],[\"<b>No Good Read Goes Unpunished</b><br>\",\"<b>Episode:</b> S29E15<br>\",\"<b>Airdate:</b>Sun 08 Apr 2018<br>\",\"<b>Description:</b>Marge forces everyone to give<br>up their electronics and go to the book store in<br>an effort to bring the family together.<br>\"],[\"<b>Lisa Gets the Blues</b><br>\",\"<b>Episode:</b> S29E17<br>\",\"<b>Airdate:</b>Fri 27 Apr 2018<br>\",\"<b>Description:</b>The Simpsons' flight to<br>Gainesville gets re-routed to New Orleans, where<br>Lisa must regain her confidence as a jazz<br>musician.<br>\"],[\"<b>Bart's Not Dead</b><br>\",\"<b>Episode:</b> S30E1<br>\",\"<b>Airdate:</b>Fri 01 Feb 2019<br>\",\"<b>Description:</b>Bart ends up in the hospital<br>after taking a dare and lies about going to heaven<br>to cover it up, but Homer takes a deal with<br>Christian producers to make a movie about it.<br>\"],[\"<b>The Girl on the Bus</b><br>\",\"<b>Episode:</b> S30E12<br>\",\"<b>Airdate:</b>Fri 12 Apr 2019<br>\",\"<b>Description:</b>Lisa tries to live a double<br>life when she makes a new friend and gets a taste<br>of what it would be like to live with a more<br>cultured family.<br>\"],[\"<b>I Want You (She's So Heavy)</b><br>\",\"<b>Episode:</b> S30E16<br>\",\"<b>Airdate:</b>Fri 10 May 2019<br>\",\"<b>Description:</b>When a romantic night ends in<br>injury for Homer and Marge, Lisa turns to an<br>unlikely source to fix their strained<br>relationship.<br>\"],[\"<b>D'oh Canada</b><br>\",\"<b>Episode:</b> S30E21<br>\",\"<b>Airdate:</b>Sun 28 Apr 2019<br>\",\"<b>Description:</b>Lisa is mistakenly given<br>political asylum in Canada during a family trip to<br>Niagara Falls.<br>\"],[\"<b>Crystal Blue-Haired Persuasion</b><br>\",\"<b>Episode:</b> S30E23<br>\",\"<b>Airdate:</b>Sun 12 May 2019<br>\",\"<b>Description:</b>Marge starts a business selling<br>healing crystals and other New Age products to the<br>naive mothers of Springfield when Homer's job cuts<br>children's health-care benefits, leading Marge to<br>use the crystals as a cheaper solution for Bart's<br>ADD.<br>\"],[\"<b>Marge the Lumberjill</b><br>\",\"<b>Episode:</b> S31E6<br>\",\"<b>Airdate:</b>Fri 21 Feb 2020<br>\",\"<b>Description:</b>Marge becomes a competitive<br>lumberjack and goes on a month-long retreat to<br>Portland with her trainer, whom Homer fears will<br>take his wife away from him.<br>\"],[\"<b>Hail to the Teeth</b><br>\",\"<b>Episode:</b> S31E11<br>\",\"<b>Airdate:</b>Fri 20 Mar 2020<br>\",\"<b>Description:</b>Homer and Marge attend Artie<br>Ziff's wedding and become quite uncomfortable when<br>they realize that his bride-to-be is a clone of<br>Marge.<br>\"],[\"<b>Screenless</b><br>\",\"<b>Episode:</b> S31E15<br>\",\"<b>Airdate:</b>Fri 17 Apr 2020<br>\",\"<b>Description:</b>Marge implements a limit on<br>screen time for the whole family, only to realize<br>she's the one addicted to screens.<br>\"],[\"<b>Highway to Well</b><br>\",\"<b>Episode:</b> S31E17<br>\",\"<b>Airdate:</b>Tue 28 Apr 2020<br>\",\"<b>Description:</b>Marge gets a job at an upscale<br>cannabis dispensary leading Homer to open a<br>competing business that replicates the scuzzy days<br>of scoring weed from and old-school pot<br>connection.<br>\"],[\"<b>The Incredible Lightness of Being a Baby</b><br>\",\"<b>Episode:</b> S31E18<br>\",\"<b>Airdate:</b>Fri 01 May 2020<br>\",\"<b>Description:</b>Maggie reunites with baby<br>Hudson, but Marge isn't too crazy about his mom.<br>Homer befriends Cletus Spuckler who recently<br>discovered a vast underground reserve of helium<br>gas on his property, attracting unwanted attention<br>from Mr. Burns.<br>\"],[\"<b>The Hateful Eight-Year-Olds</b><br>\",\"<b>Episode:</b> S31E21<br>\",\"<b>Airdate:</b>Fri 22 May 2020<br>\",\"<b>Description:</b>Lisa joins a group of rich<br>girls when she makes a friend who loves horses;<br>Homer takes Marge on a romantic cruise.<br>\"],[\"<b>Now Museum, Now You Don't</b><br>\",\"<b>Episode:</b> S32E3<br>\",\"<b>Airdate:</b>Fri 29 Jan 2021<br>\",\"<b>Description:</b>Lisa stays home from school and<br>fantasizes about the history of Western art.<br>\"],[\"<b>The 7 Beer Itch</b><br>\",\"<b>Episode:</b> S32E5<br>\",\"<b>Airdate:</b>Fri 12 Feb 2021<br>\",\"<b>Description:</b>Homer is tempted by a British<br>femme fatale while Marge and the kids are on a<br>seaside vacation.<br>\"],[\"<b>The Road to Cincinnati</b><br>\",\"<b>Episode:</b> S32E8<br>\",\"<b>Airdate:</b>Fri 05 Mar 2021<br>\",\"<b>Description:</b>Skinner and Chalmers take an<br>800-mile car ride to an administrator's convention<br>in Cincinnati.<br>\"],[\"<b>Sorry Not Sorry</b><br>\",\"<b>Episode:</b> S32E9<br>\",\"<b>Airdate:</b>Fri 12 Mar 2021<br>\",\"<b>Description:</b>Lisa calls Ms. Hoover a hack<br>and refuses to apologize, then learns her private<br>pain.<br>\"],[\"<b>Diary Queen</b><br>\",\"<b>Episode:</b> S32E12<br>\",\"<b>Airdate:</b>Fri 26 Mar 2021<br>\",\"<b>Description:</b>Bart learns a surprising secret<br>when he finds Mrs. Krabappel's diary at a yard<br>sale, while Lisa discovers an even bigger<br>surprise.<br>\"],[\"<b>Mother and Child Reunion</b><br>\",\"<b>Episode:</b> S32E20<br>\",\"<b>Airdate:</b>Fri 21 May 2021<br>\",\"<b>Description:</b>In the future, Lisa makes a<br>shocking college decision that hurts Marge,<br>leading to a surprising place.<br>\"],[\"<b>Lisa's Belly</b><br>\",\"<b>Episode:</b> S33E5<br>\",\"<b>Airdate:</b>Sun 13 Feb 2022<br>\",\"<b>Description:</b>Lisa reacts to a hurtful word<br>spoken by Marge while Bart gets swole.<br>\"],[\"<b>Boyz N the Highlands</b><br>\",\"<b>Episode:</b> S33E13<br>\",\"<b>Airdate:</b>Sun 03 Apr 2022<br>\",\"<b>Description:</b>Bart, Martin and the bullies<br>run for their lives when a weekend in the<br>wilderness takes a dark turn.<br>\"],[\"<b>Bart the Cool Kid</b><br>\",\"<b>Episode:</b> S33E15<br>\",\"<b>Airdate:</b>Sun 17 Apr 2022<br>\",\"<b>Description:</b>Homer leads a rebellion of<br>loser dads against the friendship between Bart and<br>a famous kid influencer.<br>\"],[\"<b>My Octopus and a Teacher</b><br>\",\"<b>Episode:</b> S33E18<br>\",\"<b>Airdate:</b>Sun 08 May 2022<br>\",\"<b>Description:</b>Bart has romantic feelings for<br>his new teacher; Lisa befriends an octopus.<br>\"],[\"<b>Girls Just Shauna Have Fun</b><br>\",\"<b>Episode:</b> S33E19<br>\",\"<b>Airdate:</b>Sun 15 May 2022<br>\",\"<b>Description:</b>Lisa finds an unlikely mentor<br>in Shauna Chalmers when she joins the high school<br>marching band; Homer becomes a craft beer<br>brewer.<br>\"],[\"\",-4.416578769683838,\"\",\"\"]],\"hovertemplate\":\"%{customdata[0]}%{customdata[1]}%{customdata[2]}%{customdata[3]}<extra></extra>\",\"marker\":{\"opacity\":0.75,\"size\":5},\"mode\":\"markers+text\",\"name\":\"0_lisa_marge_bart\",\"text\":[\"\",\"\",\"\",\"\",\"\",\"\",\"\",\"\",\"\",\"\",\"\",\"\",\"\",\"\",\"\",\"\",\"\",\"\",\"\",\"\",\"\",\"\",\"\",\"\",\"\",\"\",\"\",\"\",\"\",\"\",\"\",\"\",\"\",\"\",\"\",\"\",\"\",\"\",\"\",\"\",\"\",\"\",\"\",\"\",\"\",\"\",\"\",\"\",\"\",\"\",\"\",\"\",\"\",\"\",\"\",\"\",\"\",\"\",\"\",\"\",\"\",\"\",\"\",\"\",\"\",\"\",\"\",\"\",\"\",\"\",\"\",\"\",\"\",\"\",\"\",\"\",\"\",\"\",\"\",\"\",\"\",\"\",\"\",\"\",\"\",\"\",\"\",\"\",\"\",\"\",\"\",\"\",\"\",\"\",\"\",\"\",\"\",\"\",\"\",\"\",\"\",\"\",\"\",\"\",\"\",\"\",\"\",\"\",\"\",\"\",\"\",\"\",\"\",\"\",\"\",\"\",\"\",\"\",\"\",\"\",\"\",\"\",\"\",\"\",\"\",\"\",\"\",\"\",\"\",\"\",\"\",\"\",\"\",\"\",\"\",\"\",\"\",\"\",\"\",\"\",\"\",\"\",\"\",\"\",\"\",\"\",\"\",\"\",\"\",\"\",\"\",\"\",\"\",\"\",\"\",\"\",\"\",\"\",\"\",\"\",\"\",\"0_lisa_marge_bart\"],\"textfont\":{\"size\":12},\"x\":[46.7911262512207,68.2425308227539,-36.59699630737305,88.61420440673828,99.47018432617188,-10.977581024169922,11.96460247039795,51.816463470458984,62.67251205444336,32.17826461791992,-1.8881958723068237,12.429560661315918,35.755615234375,103.32656860351562,63.59844970703125,52.84392166137695,51.826019287109375,124.79673767089844,100.68721771240234,41.94485855102539,59.18291091918945,66.62586212158203,52.711177825927734,54.29584503173828,65.21537017822266,-25.810163497924805,69.88141632080078,66.28608703613281,81.2669677734375,38.29206085205078,88.81898498535156,43.25971603393555,4.493447780609131,75.91272735595703,67.74172973632812,43.66849136352539,-9.802980422973633,15.65213394165039,80.68079376220703,109.512451171875,70.18560791015625,73.65242767333984,-12.580649375915527,18.778850555419922,-52.84593963623047,106.98946380615234,77.95799255371094,8.363748550415039,74.76065063476562,78.09207153320312,18.031356811523438,-36.04507827758789,63.30670928955078,53.2831916809082,99.38137817382812,4.371651649475098,78.24073791503906,46.588008880615234,7.163585186004639,44.123252868652344,-13.708105087280273,95.23407745361328,90.11199951171875,52.30609130859375,79.12311553955078,9.47089958190918,-44.37226486206055,-17.785079956054688,18.147518157958984,107.79890441894531,92.89381408691406,-23.40943717956543,11.405373573303223,-1.124049186706543,67.67829132080078,58.20656204223633,25.894794464111328,-26.413633346557617,69.86729431152344,-61.01072311401367,125.8737564086914,85.7618408203125,73.55812072753906,-60.42928695678711,-7.093882083892822,8.769617080688477,-12.266763687133789,84.58649444580078,109.88911437988281,-69.94786071777344,102.08979797363281,-17.21950340270996,33.67716979980469,24.132814407348633,129.10626220703125,-23.397785186767578,86.61640167236328,50.530311584472656,4.926763534545898,39.809688568115234,49.67022705078125,21.40999412536621,69.03811645507812,-37.59836959838867,-50.58180236816406,31.682762145996094,93.51473236083984,-0.8721520900726318,25.18465805053711,58.67007064819336,53.12367630004883,-12.123140335083008,41.63523483276367,49.279518127441406,49.93990707397461,100.251953125,35.78288269042969,-35.81062698364258,-9.121509552001953,70.1355209350586,48.49664306640625,134.17564392089844,48.88890075683594,38.06106948852539,-58.459266662597656,145.23744201660156,-14.013978004455566,132.35643005371094,77.1655502319336,86.99284362792969,34.24184036254883,75.21129608154297,-78.70565032958984,105.67613220214844,60.83335876464844,78.75186157226562,-11.658432006835938,111.57506561279297,89.21487426757812,28.443721771240234,69.1931381225586,60.30455017089844,60.962711334228516,93.25797271728516,-40.117919921875,-4.989134788513184,113.72148895263672,-62.618568420410156,92.8459701538086,56.10431671142578,84.15602111816406,-0.4487793743610382,-48.715370178222656,98.12001037597656,117.64579772949219,74.75175476074219,66.18268585205078,60.66266632080078,62.06422424316406,37.87204360961914,76.47425079345703,\"\"],\"y\":[-24.631929397583008,-15.846561431884766,-25.249305725097656,-48.41592025756836,-80.01644134521484,18.530778884887695,-18.53439712524414,-12.173988342285156,-7.007602691650391,-27.616966247558594,5.938263893127441,5.120600700378418,-40.27158737182617,-96.20075988769531,0.8622113466262817,-39.20178985595703,20.515871047973633,-59.03022384643555,30.420780181884766,20.750898361206055,-21.306306838989258,27.045026779174805,-11.809064865112305,-12.116837501525879,-27.545549392700195,9.173788070678711,38.902313232421875,-35.00019836425781,65.31472778320312,79.13027954101562,-84.11104583740234,21.241783142089844,-14.149827003479004,33.66806411743164,56.75012969970703,-51.3819694519043,-15.041860580444336,-5.611128807067871,-43.10822677612305,-82.17809295654297,-15.461095809936523,2.990506649017334,-33.964420318603516,-7.833584785461426,-74.71965026855469,-29.082767486572266,24.86638832092285,31.164600372314453,-27.349260330200195,41.14599609375,4.852830410003662,-33.143882751464844,7.2075276374816895,-37.11682891845703,-8.515667915344238,3.5290801525115967,-4.227207660675049,-122.40237426757812,27.555381774902344,5.460389137268066,54.69609069824219,-61.9843635559082,-84.74298095703125,-27.97450065612793,40.743797302246094,3.41705060005188,-42.36380386352539,27.590591430664062,12.207971572875977,-29.221664428710938,2.2518491744995117,0.4068496525287628,7.739114761352539,23.632795333862305,17.57408905029297,38.291473388671875,11.1355619430542,17.98409652709961,-25.569622039794922,-48.213966369628906,-63.90010070800781,49.761783599853516,-3.101419687271118,-69.28546905517578,-8.228984832763672,37.590118408203125,8.804488182067871,15.09710693359375,-54.17102813720703,-41.95100021362305,44.86906051635742,29.641084671020508,11.4955415725708,31.262983322143555,-0.6623349785804749,-20.148115158081055,63.39029312133789,-35.64454650878906,-15.303496360778809,-30.74821662902832,-27.097606658935547,-10.409125328063965,31.382686614990234,20.075714111328125,-9.935495376586914,-0.02654830366373062,-71.54432678222656,143.749267578125,-34.38935470581055,68.20257568359375,27.852033615112305,-8.230073928833008,-21.050045013427734,-52.79468536376953,-0.5508723258972168,-53.1176643371582,-13.226705551147461,-9.074202537536621,-17.180030822753906,3.801283121109009,16.917770385742188,-53.429744720458984,-0.9372248649597168,33.81485366821289,-40.29072570800781,-3.3595993518829346,1.5103169679641724,-9.372748374938965,-38.26964569091797,21.449777603149414,-2.233865737915039,18.824827194213867,-47.135311126708984,66.49288940429688,62.885833740234375,7.37389612197876,23.033912658691406,25.08339500427246,17.707077026367188,45.931358337402344,69.44218444824219,26.644065856933594,-1.3786765336990356,-6.260274410247803,-0.6225224137306213,49.30561065673828,11.663010597229004,-73.8804702758789,65.69270324707031,45.82488250732422,31.848453521728516,4.801344394683838,-54.68936538696289,42.60487747192383,-86.5385971069336,54.491580963134766,11.360299110412598,8.506854057312012,-9.940803527832031,15.467679977416992,-47.024696350097656,43.67450714111328],\"z\":[80.21513366699219,81.44398498535156,28.608978271484375,65.12870025634766,-0.7343883514404297,14.332329750061035,-9.15538501739502,-85.42442321777344,106.56617736816406,-69.71611022949219,4.272638320922852,88.82625579833984,-56.57670593261719,10.214414596557617,-49.91212844848633,59.09071731567383,-73.69083404541016,17.399253845214844,-14.790568351745605,-15.45406723022461,53.56343460083008,87.56422424316406,-56.848236083984375,112.993896484375,88.4367904663086,2.4046881198883057,-10.956184387207031,-59.25168991088867,6.357598781585693,-60.09021759033203,-9.014050483703613,-102.42140197753906,-24.732765197753906,20.881574630737305,-94.55355834960938,-66.68638610839844,-59.70051956176758,20.316925048828125,25.374855041503906,-16.942935943603516,119.3178939819336,-70.32743072509766,-13.320380210876465,-18.261863708496094,22.56243133544922,-43.20592498779297,-94.39373779296875,8.297394752502441,-69.42230224609375,-54.24755859375,-88.38896179199219,13.247542381286621,12.58237361907959,-86.60147857666016,-19.739482879638672,-95.82937622070312,11.147542953491211,8.465958595275879,-38.32390213012695,57.34670639038086,-4.8331146240234375,3.4168448448181152,-22.183862686157227,-75.12085723876953,-82.83519744873047,15.782781600952148,20.103042602539062,-18.832529067993164,-7.100322246551514,-55.94184112548828,-20.141643524169922,-19.527921676635742,-19.675012588500977,13.423514366149902,-1.2552286386489868,-76.56636810302734,73.65360260009766,-18.221036911010742,29.29928970336914,15.39241886138916,28.03888511657715,-68.48295593261719,-8.983671188354492,34.036094665527344,-4.631618022918701,21.393722534179688,-2.318336009979248,-59.46131896972656,10.50727653503418,26.229022979736328,-13.78380012512207,5.316433906555176,86.87600708007812,80.87954711914062,1.31019127368927,-44.81486892700195,-38.308353424072266,-44.45797348022461,84.22528076171875,56.50529861450195,-63.30240249633789,-69.16991424560547,-74.98767852783203,19.931272506713867,44.118675231933594,79.71475219726562,32.46672439575195,-36.36077117919922,-80.64556884765625,-66.49596405029297,3.520491361618042,32.06529998779297,101.97331237792969,-49.134498596191406,-4.043887615203857,35.093894958496094,72.38249969482422,9.958023071289062,8.392556190490723,72.05950927734375,-52.95135498046875,6.723403453826904,84.14698791503906,115.47340393066406,33.51152038574219,-1.0869024991989136,21.309118270874023,-4.845322132110596,54.34751510620117,-46.66233825683594,-89.14224243164062,-69.6386947631836,38.827693939208984,20.646650314331055,-42.630828857421875,103.81915283203125,28.083654403686523,-23.21384620666504,-76.9373779296875,80.74404907226562,-79.07598876953125,-60.0006217956543,-94.98737335205078,10.359907150268555,33.71629333496094,3.2417378425598145,-28.113048553466797,45.43473434448242,15.63603687286377,-98.97128295898438,-101.50801849365234,-32.45166778564453,52.14228057861328,-49.88109588623047,-23.8646240234375,-42.17580032348633,-44.93072509765625,96.50830078125,67.8067626953125,-68.97673797607422,-56.19562911987305,-3.435502529144287],\"type\":\"scatter3d\"},{\"customdata\":[[\"<b>Homer's Odyssey</b><br>\",\"<b>Episode:</b> S1E3<br>\",\"<b>Airdate:</b>Sun 21 Jan 1990<br>\",\"<b>Description:</b>After losing his job, Homer<br>contemplates ending it all, until he discovers a<br>new life path as a safety advocate.<br>\"],[\"<b>There's No Disgrace Like Home</b><br>\",\"<b>Episode:</b> S1E4<br>\",\"<b>Airdate:</b>Sun 28 Jan 1990<br>\",\"<b>Description:</b>After being embarrassed by the<br>rest of the family at a company picnic, Homer<br>becomes obsessed with improving their behavior<br>towards each other.<br>\"],[\"<b>Dancin' Homer</b><br>\",\"<b>Episode:</b> S2E5<br>\",\"<b>Airdate:</b>Thu 08 Nov 1990<br>\",\"<b>Description:</b>Homer's heckling of the<br>Springfield Isotopes baseball team during one of<br>their games inadvertently leads to his appointment<br>as the new team mascot.<br>\"],[\"<b>Old Money</b><br>\",\"<b>Episode:</b> S2E17<br>\",\"<b>Airdate:</b>Thu 28 Mar 1991<br>\",\"<b>Description:</b>After Grampa's new girlfriend<br>dies and leaves him $106,000 in her will, he tries<br>to decide what to do with it.<br>\"],[\"<b>Stark Raving Dad</b><br>\",\"<b>Episode:</b> S3E1<br>\",\"<b>Airdate:</b>Thu 19 Sep 1991<br>\",\"<b>Description:</b>Homer accidentally lands in a<br>mental hospital and ends up sharing a room with a<br>white man who thinks he is Michael Jackson.<br>\"],[\"<b>Homer Defined</b><br>\",\"<b>Episode:</b> S3E5<br>\",\"<b>Airdate:</b>Thu 17 Oct 1991<br>\",\"<b>Description:</b>Homer is a hero after averting<br>a nuclear meltdown that he nearly caused, but he<br>doesn't want to tell anyone that he stopped it<br>completely by accident.<br>\"],[\"<b>Homer Goes to College</b><br>\",\"<b>Episode:</b> S5E3<br>\",\"<b>Airdate:</b>Thu 14 Oct 1993<br>\",\"<b>Description:</b>When a surprise inspection of<br>the nuclear power plant reveals that Homer is not<br>qualified to do his job, he is forced to go to<br>college.<br>\"],[\"<b>Homer the Vigilante</b><br>\",\"<b>Episode:</b> S5E11<br>\",\"<b>Airdate:</b>Thu 06 Jan 1994<br>\",\"<b>Description:</b>An outbreak of burglaries<br>inspires Homer to lead a vigilante group.<br>\"],[\"<b>Homer Badman</b><br>\",\"<b>Episode:</b> S6E9<br>\",\"<b>Airdate:</b>Sun 27 Nov 1994<br>\",\"<b>Description:</b>Homer is branded as a pervert<br>after his kids' babysitter misconstrues his<br>retrieval of a candy from the seat of her pants as<br>a sexual advance.<br>\"],[\"<b>Homer the Great</b><br>\",\"<b>Episode:</b> S6E12<br>\",\"<b>Airdate:</b>Sun 29 Jan 1995<br>\",\"<b>Description:</b>Homer becomes a member of a<br>mysterious organization called the Stonecutters<br>and is heralded as \\\"the chosen one\\\".<br>\"],[\"<b>Mother Simpson</b><br>\",\"<b>Episode:</b> S7E8<br>\",\"<b>Airdate:</b>Sun 17 Dec 1995<br>\",\"<b>Description:</b>After faking his own death,<br>Homer is reunited with his mother, who harbors a<br>deep secret.<br>\"],[\"<b>Homer the Smithers</b><br>\",\"<b>Episode:</b> S7E17<br>\",\"<b>Airdate:</b>Sun 26 May 1996<br>\",\"<b>Description:</b>When Smithers is forced to take<br>a vacation, he appoints Homer as his temporary<br>replacement.<br>\"],[\"<b>Homerpalooza</b><br>\",\"<b>Episode:</b> S7E24<br>\",\"<b>Airdate:</b>Sun 29 Sep 1996<br>\",\"<b>Description:</b>In an attempt to prove his<br>coolness to the kids, Homer takes them to a music<br>festival but ends up embarrassing them after being<br>hired in a sideshow.<br>\"],[\"<b>The Cartridge Family</b><br>\",\"<b>Episode:</b> S9E5<br>\",\"<b>Airdate:</b>Fri 26 Oct 2001<br>\",\"<b>Description:</b>After a massive soccer riot,<br>Homer purchases a gun to protect the family.<br>\"],[\"<b>All Singing, All Dancing</b><br>\",\"<b>Episode:</b> S9E11<br>\",\"<b>Airdate:</b>Sun 08 Feb 1998<br>\",\"<b>Description:</b>Homer is disappointed when the<br>western he rented turns out to be a musical, so<br>the family reminds him of the musical moments in<br>the show's history.<br>\"],[\"<b>Simpson Tide</b><br>\",\"<b>Episode:</b> S9E19<br>\",\"<b>Airdate:</b>Sun 05 Jul 1998<br>\",\"<b>Description:</b>Homer causes an international<br>incident after he joins the Naval reserves.<br>\"],[\"<b>When You Dish Upon a Star</b><br>\",\"<b>Episode:</b> S10E5<br>\",\"<b>Airdate:</b>Sun 06 Dec 1998<br>\",\"<b>Description:</b>Homer becomes a Hollywood<br>insider when he befriends Alec Baldwin and Kim<br>Basinger.<br>\"],[\"<b>D'oh-in' in the Wind</b><br>\",\"<b>Episode:</b> S10E6<br>\",\"<b>Airdate:</b>Sun 03 Jan 1999<br>\",\"<b>Description:</b>Homer becomes a hippie after a<br>revelation about his middle name.<br>\"],[\"<b>Homer to the Max</b><br>\",\"<b>Episode:</b> S10E13<br>\",\"<b>Airdate:</b>Sun 19 Sep 1999<br>\",\"<b>Description:</b>Homer changes his name to \\\"Max<br>Power\\\" after discovering that he shares his name<br>with a dimwitted TV character.<br>\"],[\"<b>Beyond Blunderdome</b><br>\",\"<b>Episode:</b> S11E1<br>\",\"<b>Airdate:</b>Sun 07 Nov 1999<br>\",\"<b>Description:</b>Convinced he's the only man<br>with guts to tell him the truth, Mel Gibson<br>insists Homer accompanies him in Hollywood to help<br>fix his newest film project.<br>\"],[\"<b>E-I-E-I-(Annoyed Grunt)</b><br>\",\"<b>Episode:</b> S11E5<br>\",\"<b>Airdate:</b>Sun 05 Dec 1999<br>\",\"<b>Description:</b>Homer cowards out of a pistol-<br>duel and hides out with the rest of the family on<br>a country farm.<br>\"],[\"<b>Hello Gutter, Hello Fadder</b><br>\",\"<b>Episode:</b> S11E6<br>\",\"<b>Airdate:</b>Sun 12 Dec 1999<br>\",\"<b>Description:</b>Homer becomes a minor celebrity<br>around Springfield after bowling a perfect<br>game.<br>\"],[\"<b>The Computer Wore Menace Shoes</b><br>\",\"<b>Episode:</b> S12E6<br>\",\"<b>Airdate:</b>Sun 07 Jan 2001<br>\",\"<b>Description:</b>Homer's gossip website becomes<br>a huge hit, but when his information runs out he<br>resorts to making up news.<br>\"],[\"<b>The Great Money Caper</b><br>\",\"<b>Episode:</b> S12E7<br>\",\"<b>Airdate:</b>Sun 14 Jan 2001<br>\",\"<b>Description:</b>The whole town of Springfield<br>conspires to teach Homer and Bart a lesson after<br>the pair begin running confidence scams.<br>\"],[\"<b>Tennis the Menace</b><br>\",\"<b>Episode:</b> S12E12<br>\",\"<b>Airdate:</b>Sun 15 Apr 2001<br>\",\"<b>Description:</b>Homer installs a tennis court<br>in the backyard, but his lousy playing creates a<br>rift in the family.<br>\"],[\"<b>The Blunder Years</b><br>\",\"<b>Episode:</b> S13E5<br>\",\"<b>Airdate:</b>Sun 20 Jan 2002<br>\",\"<b>Description:</b>A hypnotist uncovers a<br>traumatic experience from Homer's childhood.<br>\"],[\"<b>How I Spent My Strummer Vacation</b><br>\",\"<b>Episode:</b> S14E2<br>\",\"<b>Airdate:</b>Sun 24 Nov 2002<br>\",\"<b>Description:</b>When Homer is secretly<br>videotaped complaining about his family in a taxi,<br>they send him off to a rock and roll fantasy camp<br>so he can try to live his dream.<br>\"],[\"<b>'Tis the Fifteenth Season</b><br>\",\"<b>Episode:</b> S15E7<br>\",\"<b>Airdate:</b>Sun 22 Feb 2004<br>\",\"<b>Description:</b>After spending all his money on<br>an expensive gift for himself, and the family<br>thinking he should be less of an egoist, Homer<br>decides to change his ways.<br>\"],[\"<b>Simple Simpson</b><br>\",\"<b>Episode:</b> S15E19<br>\",\"<b>Airdate:</b>Sun 10 Oct 2004<br>\",\"<b>Description:</b>Homer becomes a costumed<br>vigilante who uses pies for weapons after<br>witnessing Lisa get humiliated at a competition at<br>the state fair.<br>\"],[\"<b>Don't Fear the Roofer</b><br>\",\"<b>Episode:</b> S16E16<br>\",\"<b>Airdate:</b>Sun 26 Jun 2005<br>\",\"<b>Description:</b>Homer meets a new friend, Ray<br>the Roofer, but gets confined to a mental<br>institution when his friends and family think he<br>made him up.<br>\"],[\"<b>Thank God It's Doomsday</b><br>\",\"<b>Episode:</b> S16E19<br>\",\"<b>Airdate:</b>Sun 23 Oct 2005<br>\",\"<b>Description:</b>Homer hears about the Rapture,<br>and by using numerology to calculate when the<br>Rapture is coming he learns that it is only one<br>week away.<br>\"],[\"<b>Homer's Paternity Coot</b><br>\",\"<b>Episode:</b> S17E10<br>\",\"<b>Airdate:</b>Sun 12 Feb 2006<br>\",\"<b>Description:</b>When a frozen mailman from the<br>60's is found in a Springfield glacier, doubts<br>arise about whether Abe really is Homer's<br>father.<br>\"],[\"<b>G.I. (Annoyed Grunt)</b><br>\",\"<b>Episode:</b> S18E5<br>\",\"<b>Airdate:</b>Sun 21 Jan 2007<br>\",\"<b>Description:</b>Homer is duped into signing up<br>for the Army, and his hijinks after basic training<br>ultimately results in a military occupation of<br>Springfield.<br>\"],[\"<b>Revenge Is a Dish Best Served Three Times</b><br>\",\"<b>Episode:</b> S18E11<br>\",\"<b>Airdate:</b>Sun 11 Feb 2007<br>\",\"<b>Description:</b>While Homer tries to get<br>revenge on a driver who cut him off, his family<br>warns him of the folly of revenge by telling<br>stories based on \\\"The Count of Monte Cristo,\\\"<br>\\\"Revenge of the Nerds,\\\" and \\\"Batman.\\\"<br>\"],[\"<b>Homerazzi</b><br>\",\"<b>Episode:</b> S18E16<br>\",\"<b>Airdate:</b>Sun 25 Mar 2007<br>\",\"<b>Description:</b>Homer becomes a successful<br>Paparazzi, but Springfield's celebrities decide to<br>get their revenge on him.<br>\"],[\"<b>Mona Leaves-a</b><br>\",\"<b>Episode:</b> S19E19<br>\",\"<b>Airdate:</b>Sun 11 May 2008<br>\",\"<b>Description:</b>Homer's mom dies, and as part<br>of her will, she asks him to spread her ashes.<br>However, her request turns out to be part of her<br>final act of rebellion against the system.<br>\"],[\"<b>Take My Life, Please</b><br>\",\"<b>Episode:</b> S20E10<br>\",\"<b>Airdate:</b>Sun 15 Feb 2009<br>\",\"<b>Description:</b>Homer finds out that he<br>actually won the senior class president election,<br>and he gets an opportunity to find out how his<br>life would have been different if it had<br>happened.<br>\"],[\"<b>How the Test Was Won</b><br>\",\"<b>Episode:</b> S20E11<br>\",\"<b>Airdate:</b>Sun 01 Mar 2009<br>\",\"<b>Description:</b>Bart and his fellow<br>underachievers are taken on a \\\"field trip\\\" to<br>Capital City so that they can miss the<br>standardized test, and Homer makes sure that<br>nothing bad happens until their insurance goes<br>back into effect.<br>\"],[\"<b>Father Knows Worst</b><br>\",\"<b>Episode:</b> S20E18<br>\",\"<b>Airdate:</b>Sun 26 Apr 2009<br>\",\"<b>Description:</b>Homer becomes a \\\"helicopter<br>parent\\\" at Springfield Elementary by helping Bart<br>finish a class project and helping Lisa become<br>popular, and Marge finds a secret sauna in their<br>house.<br>\"],[\"<b>Homer the Whopper</b><br>\",\"<b>Episode:</b> S21E1<br>\",\"<b>Airdate:</b>Sun 27 Sep 2009<br>\",\"<b>Description:</b>A Hollywood studio makes a<br>movie based on Comic Book Guy's comic book<br>character \\\"Everyman,\\\" and Homer is cast in the<br>lead. However, Homer's weight fluctuations cause<br>problems for the production.<br>\"],[\"<b>Homer the Father</b><br>\",\"<b>Episode:</b> S22E12<br>\",\"<b>Airdate:</b>Sun 23 Jan 2011<br>\",\"<b>Description:</b>Homer picks up parenting advice<br>from an 80s sitcom; Bart becomes involved in<br>trading nuclear secrets.<br>\"],[\"<b>Angry Dad: The Movie</b><br>\",\"<b>Episode:</b> S22E14<br>\",\"<b>Airdate:</b>Fri 01 Apr 2011<br>\",\"<b>Description:</b>Bart's \\\"Angry Dad\\\" character<br>gets his own movie, but when the movie starts<br>winning awards, Homer tries to hog all the<br>credit.<br>\"],[\"<b>The Falcon and the D'Ohman</b><br>\",\"<b>Episode:</b> S23E1<br>\",\"<b>Airdate:</b>Sun 25 Sep 2011<br>\",\"<b>Description:</b>Homer tries to befriend the new<br>security guard at the nuclear power plant, who for<br>some unknown reason isn't interested and keeps<br>having flashbacks to his violent past as a<br>government agent.<br>\"],[\"<b>How I Wet Your Mother</b><br>\",\"<b>Episode:</b> S23E16<br>\",\"<b>Airdate:</b>Sun 11 Mar 2012<br>\",\"<b>Description:</b>The family break into Homer's<br>dreams Inception-style after he begins wetting the<br>bed.<br>\"],[\"<b>A Tree Grows in Springfield</b><br>\",\"<b>Episode:</b> S24E6<br>\",\"<b>Airdate:</b>Sun 21 Apr 2013<br>\",\"<b>Description:</b>Homer becomes addicted to his<br>new tablet computer. But when it is destroyed<br>Homer becomes despondent, until he finds and<br>provides hope for Springfield in the most unlikely<br>place.<br>\"],[\"<b>The Day the Earth Stood Cool</b><br>\",\"<b>Episode:</b> S24E7<br>\",\"<b>Airdate:</b>Sun 28 Apr 2013<br>\",\"<b>Description:</b>Homer befriends a hipster and<br>invites his family to move in next door. However,<br>their friendship soon sours as Springfield is<br>transformed into a haven for \\\"coolness.\\\"<br>\"],[\"<b>Homer Goes to Prep School</b><br>\",\"<b>Episode:</b> S24E9<br>\",\"<b>Airdate:</b>Sun 12 May 2013<br>\",\"<b>Description:</b>Homer joins the \\\"Springfield<br>Preppers,\\\" an off-the-grid survivalist group whose<br>leader has set up a top-secret retreat outside of<br>town to prepare for the end of the world.<br>\"],[\"<b>Hardly Kirk-ing</b><br>\",\"<b>Episode:</b> S24E13<br>\",\"<b>Airdate:</b>Sun 10 Nov 2013<br>\",\"<b>Description:</b>Bart poses Millhouse as his<br>father so that they can do adult activities, and<br>Homer becomes skilled at finding lost objects<br>thanks to Highlights magazine.<br>\"],[\"<b>Homerland</b><br>\",\"<b>Episode:</b> S25E1<br>\",\"<b>Airdate:</b>Sun 20 Apr 2014<br>\",\"<b>Description:</b>Homer returns from a nuclear<br>power convention a changed man, and Lisa begins to<br>suspect that he has become a domestic<br>terrorist.<br>\"],[\"<b>YOLO</b><br>\",\"<b>Episode:</b> S25E4<br>\",\"<b>Airdate:</b>Sun 04 May 2014<br>\",\"<b>Description:</b>Homer is stunned to learn he'll<br>only live once. A pen pal from his youth helps him<br>live that life to its fullest. Meanwhile<br>Springfield Elementary institutes an honor<br>code.<br>\"],[\"<b>You Don't Have to Live Like a Referee</b><br>\",\"<b>Episode:</b> S25E16<br>\",\"<b>Airdate:</b>Sun 08 Jun 2014<br>\",\"<b>Description:</b>Homer becomes a referee for the<br>World Cup and finds himself tested by bribers when<br>the Simpsons travel to Brazil.<br>\"],[\"<b>Covercraft</b><br>\",\"<b>Episode:</b> S26E8<br>\",\"<b>Airdate:</b>Sun 23 Nov 2014<br>\",\"<b>Description:</b>Homer forms a cover band with<br>other dads in town when he takes up bass guitar to<br>deal with a mid-life crisis, but the band's modest<br>success is soon overwhelmed by Apu's breakout<br>potential.<br>\"],[\"<b>There Will Be Buds</b><br>\",\"<b>Episode:</b> S28E6<br>\",\"<b>Airdate:</b>Sun 06 Nov 2016<br>\",\"<b>Description:</b>Homer coaches the kids'<br>lacrosse team with Kirk Van Houten, who disappears<br>before the championship game, after Homer rants<br>about him being a loser.<br>\"],[\"<b>Dad Behavior</b><br>\",\"<b>Episode:</b> S28E8<br>\",\"<b>Airdate:</b>Sun 20 Nov 2016<br>\",\"<b>Description:</b>Homer discovers an app that<br>makes his life easier, while Grampa learns that<br>he'll be a father again.<br>\"],[\"<b>A Father's Watch</b><br>\",\"<b>Episode:</b> S28E18<br>\",\"<b>Airdate:</b>Sun 19 Mar 2017<br>\",\"<b>Description:</b>As Homer and Marge try a<br>different parenting style on the hellraising Bart,<br>Grampa gives him a special watch that becomes<br>Bart's moral center. But Bart loses it and tries<br>everything to get it back.<br>\"],[\"<b>Singin' in the Lane</b><br>\",\"<b>Episode:</b> S29E7<br>\",\"<b>Airdate:</b>Fri 09 Feb 2018<br>\",\"<b>Description:</b>Homer gets his old bowling team<br>back together and they wind up competing with<br>arrogant millionaires.<br>\"],[\"<b>Daddicus Finch</b><br>\",\"<b>Episode:</b> S30E9<br>\",\"<b>Airdate:</b>Fri 29 Mar 2019<br>\",\"<b>Description:</b>Bart feels neglected when Homer<br>and Lisa bond over To Kill a Mockingbird and start<br>spending quality time together, so Marge attempts<br>to help Homer balance attention between the<br>kids.<br>\"],[\"<b>Go Big or Go Homer</b><br>\",\"<b>Episode:</b> S31E2<br>\",\"<b>Airdate:</b>Fri 24 Jan 2020<br>\",\"<b>Description:</b>Homer inspires a 35-year-old<br>millennial who idolizes him to start his own<br>business, which leads the mob to chase both of<br>them.<br>\"],[\"<b>The Dad-Feelings Limited</b><br>\",\"<b>Episode:</b> S32E11<br>\",\"<b>Airdate:</b>Fri 19 Mar 2021<br>\",\"<b>Description:</b>The origin story of Comic Book<br>Guy is revealed as he and Kumiko debate having a<br>baby.<br>\"],[\"<b>Do Pizza Bots Dream of Electric Guitars</b><br>\",\"<b>Episode:</b> S32E15<br>\",\"<b>Airdate:</b>Fri 16 Apr 2021<br>\",\"<b>Description:</b>Homer tries to reunite a<br>mechanical band from his youth, but J.J. Abrams<br>beats him to it.<br>\"],[\"<b>Mothers and Other Strangers</b><br>\",\"<b>Episode:</b> S33E9<br>\",\"<b>Airdate:</b>Sun 13 Mar 2022<br>\",\"<b>Description:</b>In a flashback to his teen<br>years, Homer goes on a road trip with his father<br>to search for his mother.<br>\"],[\"\",-1.7148947715759277,\"\",\"\"]],\"hovertemplate\":\"%{customdata[0]}%{customdata[1]}%{customdata[2]}%{customdata[3]}<extra></extra>\",\"marker\":{\"opacity\":0.75,\"size\":5},\"mode\":\"markers+text\",\"name\":\"1_homer_family_homers\",\"text\":[\"\",\"\",\"\",\"\",\"\",\"\",\"\",\"\",\"\",\"\",\"\",\"\",\"\",\"\",\"\",\"\",\"\",\"\",\"\",\"\",\"\",\"\",\"\",\"\",\"\",\"\",\"\",\"\",\"\",\"\",\"\",\"\",\"\",\"\",\"\",\"\",\"\",\"\",\"\",\"\",\"\",\"\",\"\",\"\",\"\",\"\",\"\",\"\",\"\",\"\",\"\",\"\",\"\",\"\",\"\",\"\",\"\",\"\",\"\",\"\",\"\",\"1_homer_family_homers\"],\"textfont\":{\"size\":12},\"x\":[-96.50806427001953,-113.60527801513672,-129.26708984375,-17.65166664123535,79.40367889404297,-82.26156616210938,-85.2951431274414,-78.21692657470703,-108.35294342041016,-72.87544250488281,37.47447204589844,-102.11054992675781,-109.2750473022461,-64.13725280761719,-119.47293853759766,14.177374839782715,-107.00553894042969,-87.804443359375,-71.25072479248047,-78.7949447631836,-109.82998657226562,-112.74989318847656,-95.67753601074219,-14.737082481384277,-128.12588500976562,35.96649932861328,-99.06780242919922,-118.00833892822266,-61.09231185913086,-77.20126342773438,-98.7273178100586,37.50844955444336,-103.39046478271484,-11.538576126098633,-98.17817687988281,47.605018615722656,-85.22968292236328,-5.871211528778076,62.457969665527344,-88.77931213378906,47.037445068359375,60.256500244140625,-73.85952758789062,26.382497787475586,-95.19000244140625,-105.3422622680664,-105.6342544555664,45.55776596069336,-76.26839447021484,-93.48725128173828,-90.58474731445312,-110.19562530517578,78.82071685791016,58.821800231933594,60.376102447509766,-121.69163513183594,69.39081573486328,-80.07128143310547,71.20698547363281,-107.42640686035156,40.42920684814453,\"\"],\"y\":[21.699392318725586,-51.36454391479492,-1.7159700393676758,-25.1163330078125,14.873574256896973,-27.30522346496582,-13.301621437072754,-22.47154998779297,-68.12017822265625,-34.63569641113281,33.81454849243164,-54.657569885253906,-68.1794662475586,-3.345886468887329,-67.46023559570312,-12.03127384185791,-30.189916610717773,-46.025169372558594,-47.93225860595703,-80.10186004638672,4.654468059539795,-30.187732696533203,37.435874938964844,-56.790470123291016,-50.70627212524414,34.25559997558594,-63.67578125,-40.33966064453125,-21.822757720947266,10.615360260009766,-27.27166748046875,28.730501174926758,2.5480434894561768,-41.6588249206543,-39.90879440307617,56.48359298706055,-32.52263259887695,-80.01876068115234,9.46653938293457,-65.25039672851562,5.7015180587768555,8.96160888671875,-1.6308213472366333,15.791576385498047,33.07346725463867,-44.944786071777344,-8.565683364868164,-8.707247734069824,-18.234987258911133,0.7253243923187256,-35.976661682128906,-88.23838806152344,-71.88988494873047,25.922935485839844,37.368873596191406,-24.415294647216797,-2.1913199424743652,-47.2398567199707,26.549245834350586,-84.49494171142578,23.398113250732422,-49.49128723144531],\"z\":[-25.515575408935547,-5.943122863769531,-29.327558517456055,109.55157470703125,41.12324905395508,-9.804573059082031,2.0119733810424805,-33.317440032958984,-23.056110382080078,-29.13112449645996,30.683565139770508,-55.728599548339844,-10.14351749420166,-43.4169921875,9.578971862792969,-120.43150329589844,-56.05249786376953,-13.625226974487305,-6.740887641906738,-14.514713287353516,-64.40898132324219,-37.50419616699219,-52.804527282714844,64.74673461914062,-8.747034072875977,126.37846374511719,5.696076393127441,14.069230079650879,-36.21330642700195,-17.240310668945312,-8.186426162719727,51.05080795288086,-55.075801849365234,39.90021514892578,-46.17021179199219,45.9006233215332,4.398682117462158,72.87476348876953,25.124324798583984,-32.84162521362305,32.559303283691406,50.9573860168457,-15.479999542236328,36.0459098815918,-38.97702407836914,-18.38564109802246,-22.673141479492188,37.012847900390625,-11.626277923583984,-42.88304901123047,18.214290618896484,6.295928955078125,-83.32103729248047,43.06333923339844,41.98933029174805,-27.572731018066406,32.81831741333008,-39.45041275024414,58.00648880004883,-5.73140811920166,37.381622314453125,-19.81259536743164],\"type\":\"scatter3d\"},{\"customdata\":[[\"<b>Two Cars in Every Garage and Three Eyes on Every Fish</b><br>\",\"<b>Episode:</b> S2E4<br>\",\"<b>Airdate:</b>Thu 01 Nov 1990<br>\",\"<b>Description:</b>After the power plant<br>experiences bad publicity and is threatened with<br>closure, Mr. Burns decides to run for Governor in<br>order to have power over the law.<br>\"],[\"<b>Brush with Greatness</b><br>\",\"<b>Episode:</b> S2E18<br>\",\"<b>Airdate:</b>Thu 11 Apr 1991<br>\",\"<b>Description:</b>After rekindling her artistic<br>talents, Marge is commissioned to paint a portrait<br>of Mr. Burns; Homer vows to lose weight after<br>getting trapped in a water slide.<br>\"],[\"<b>Burns Verkaufen der Kraftwerk</b><br>\",\"<b>Episode:</b> S3E11<br>\",\"<b>Airdate:</b>Thu 05 Dec 1991<br>\",\"<b>Description:</b>Burns decides to retire and<br>sells the power plant to a German consortium for<br>an exorbitant price. Homer's laziness and<br>inefficiency are quickly exposed by his new<br>bosses, and he is laid off.<br>\"],[\"<b>Homer at the Bat</b><br>\",\"<b>Episode:</b> S3E17<br>\",\"<b>Airdate:</b>Thu 20 Feb 1992<br>\",\"<b>Description:</b>Homer and his co-workers<br>qualify for the plant softball team's league<br>final, but Mr. Burns hires nine professional MLB<br>players in order to win a $1 million bet.<br>\"],[\"<b>Marge Gets a Job</b><br>\",\"<b>Episode:</b> S4E7<br>\",\"<b>Airdate:</b>Thu 05 Nov 1992<br>\",\"<b>Description:</b>When Marge takes a job at the<br>power plant, Mr. Burns falls in love with her;<br>Bart \\\"cries wolf\\\" to avoid taking a test.<br>\"],[\"<b>Last Exit to Springfield</b><br>\",\"<b>Episode:</b> S4E17<br>\",\"<b>Airdate:</b>Thu 11 Mar 1993<br>\",\"<b>Description:</b>When Mr. Burns revokes the<br>plant's dental plan, forcing Lisa to be fitted<br>with cheap, ugly braces, Homer leads its union<br>into going on strike.<br>\"],[\"<b>$pringfield (Or, How I Learned to Stop Worrying and Love Legalized Gambling)</b><br>\",\"<b>Episode:</b> S5E10<br>\",\"<b>Airdate:</b>Thu 16 Dec 1993<br>\",\"<b>Description:</b>Mr. Burns builds a casino when<br>Springfield decides to legalize gambling, with<br>Marge becoming addicted to the slot machines.<br>\"],[\"<b>Burns' Heir</b><br>\",\"<b>Episode:</b> S5E18<br>\",\"<b>Airdate:</b>Thu 14 Apr 1994<br>\",\"<b>Description:</b>After coming close to death,<br>Mr. Burns decides than it's time to find an heir<br>to his empire, and chooses Bart because of his<br>truly devious nature.<br>\"],[\"<b>Lady Bouvier's Lover</b><br>\",\"<b>Episode:</b> S5E21<br>\",\"<b>Airdate:</b>Thu 12 May 1994<br>\",\"<b>Description:</b>Grampa falls in love with<br>Marge's mother, but must compete with Mr. Burns<br>for her heart.<br>\"],[\"<b>A Star Is Burns</b><br>\",\"<b>Episode:</b> S6E18<br>\",\"<b>Airdate:</b>Sun 05 Mar 1995<br>\",\"<b>Description:</b>The citizens of Springfield<br>host their own film festival, with popular movie<br>critic Jay Sherman arriving from New York to<br>judge.<br>\"],[\"<b>Who Shot Mr. Burns? Part One</b><br>\",\"<b>Episode:</b> S6E25<br>\",\"<b>Airdate:</b>Sun 02 Jul 1995<br>\",\"<b>Description:</b>After Mr. Burns steals oil from<br>Springfield Elementary and blocks out the sun, an<br>unknown person shoots him.<br>\"],[\"<b>Who Shot Mr. Burns? Part Two</b><br>\",\"<b>Episode:</b> S7E1<br>\",\"<b>Airdate:</b>Sun 01 Oct 1995<br>\",\"<b>Description:</b>Mr. Burns is laying in the<br>hospital while the investigation into his shooter<br>begins. Every citizen has motivation, but it's<br>Simpson DNA that has been found.<br>\"],[\"<b>Raging Abe Simpson and His Grumbling Grandson in 'The Curse of the Flying Hellfish'</b><br>\",\"<b>Episode:</b> S7E22<br>\",\"<b>Airdate:</b>Sun 28 Jul 1996<br>\",\"<b>Description:</b>After surviving multiple<br>assassination attempts by Mr. Burns to inherit a<br>cache of artwork they stole from the Nazis, Grampa<br>teams up with Bart to recover the paintings.<br>\"],[\"<b>Burns, Baby Burns</b><br>\",\"<b>Episode:</b> S8E4<br>\",\"<b>Airdate:</b>Sun 29 Dec 1996<br>\",\"<b>Description:</b>The Simpsons try to reunite Mr.<br>Burns with Larry, his slovenly long-lost son.<br>\"],[\"<b>Mountain of Madness</b><br>\",\"<b>Episode:</b> S8E12<br>\",\"<b>Airdate:</b>Sun 09 Mar 1997<br>\",\"<b>Description:</b>Homer and Mr. Burns get trapped<br>in a snowed-in cabin during a company retreat.<br>\"],[\"<b>Mom and Pop Art</b><br>\",\"<b>Episode:</b> S10E19<br>\",\"<b>Airdate:</b>Sun 06 Jun 1999<br>\",\"<b>Description:</b>Homer becomes the talk of the<br>Springfield art community when a failed barbecue<br>pit he worked on is mistaken for an art<br>project.<br>\"],[\"<b>Monty Can't Buy Me Love</b><br>\",\"<b>Episode:</b> S10E21<br>\",\"<b>Airdate:</b>Sun 04 Jul 1999<br>\",\"<b>Description:</b>When a wealthy man moves to<br>Springfield, Mr. Burns begins to feel that he is<br>losing his grasp on the citizens and decides to<br>enlist the help of Homer.<br>\"],[\"<b>The Mansion Family</b><br>\",\"<b>Episode:</b> S11E12<br>\",\"<b>Airdate:</b>Sun 16 Apr 2000<br>\",\"<b>Description:</b>Homer receives responsibility<br>for Mr. Burns' mansion when he is on leave and<br>takes Burns' yacht to international waters to have<br>a party.<br>\"],[\"<b>Homer vs. Dignity</b><br>\",\"<b>Episode:</b> S12E5<br>\",\"<b>Airdate:</b>Sun 31 Dec 2000<br>\",\"<b>Description:</b>Desperate for money, Homer<br>accepts payment from Mr. Burns in exchange for<br>humiliating himself.<br>\"],[\"<b>A Hunka Hunka Burns in Love</b><br>\",\"<b>Episode:</b> S13E4<br>\",\"<b>Airdate:</b>Sun 06 Jan 2002<br>\",\"<b>Description:</b>Mr. Burns falls in love with a<br>younger woman and recruits Homer to help him<br>impress her.<br>\"],[\"<b>Weekend at Burnsie's</b><br>\",\"<b>Episode:</b> S13E16<br>\",\"<b>Airdate:</b>Sun 06 Oct 2002<br>\",\"<b>Description:</b>After a traumatizing eye<br>injury, Homer becomes a habitual user of medical<br>marijuana.<br>\"],[\"<b>C.E.D'oh</b><br>\",\"<b>Episode:</b> S14E15<br>\",\"<b>Airdate:</b>Sun 08 Jun 2003<br>\",\"<b>Description:</b>Homer takes over the power<br>plant after tricking Mr. Burns into making him the<br>official owner of the power plant.<br>\"],[\"<b>Fraudcast News</b><br>\",\"<b>Episode:</b> S15E22<br>\",\"<b>Airdate:</b>Sun 07 Nov 2004<br>\",\"<b>Description:</b>After Mr. Burns is erroneously<br>reported as dead, he buys all of he media outlets<br>in order to prevent them from writing scathing<br>articles about him.<br>\"],[\"<b>The Last of the Red Hat Mamas</b><br>\",\"<b>Episode:</b> S17E7<br>\",\"<b>Airdate:</b>Sun 16 Apr 2006<br>\",\"<b>Description:</b>Milhouse tutors Lisa in<br>Italian, and Marge joins the Cheery Red Tomatoes,<br>a group that plans to rob Mr. Burns of one million<br>dollars worth of Faberg\\u00e9 eggs.<br>\"],[\"<b>Crook and Ladder</b><br>\",\"<b>Episode:</b> S18E19<br>\",\"<b>Airdate:</b>Sun 06 May 2007<br>\",\"<b>Description:</b>Homer, Moe, Apu and Principal<br>Skinner become volunteer firefighters. But just<br>because they're not getting paid doesn't mean that<br>they can't find a way to receive compensation.<br>\"],[\"<b>The Burns and the Bees</b><br>\",\"<b>Episode:</b> S20E8<br>\",\"<b>Airdate:</b>Sun 07 Dec 2008<br>\",\"<b>Description:</b>Mr. Burns wins a professional<br>basketball team in a poker game, and the new arena<br>he plans to have Springfield build for the team<br>threatens to interfere with Lisa's new bee<br>sanctuary.<br>\"],[\"<b>American History X-cellent</b><br>\",\"<b>Episode:</b> S21E17<br>\",\"<b>Airdate:</b>Fri 18 Feb 2011<br>\",\"<b>Description:</b>Mr Burns is sent to prison for<br>art theft, where a scary inmate introduces him to<br>religion. Meanwhile Smithers becomes the boss at<br>the plant, and Bart and Lisa try to share an ant<br>farm.<br>\"],[\"<b>The Fool Monty</b><br>\",\"<b>Episode:</b> S22E6<br>\",\"<b>Airdate:</b>Sun 21 Nov 2010<br>\",\"<b>Description:</b>After Mr. Burns finds out that<br>he is dying, he has an accident and loses his<br>memory, and all the townspeople use the situation<br>to get their revenge on him.<br>\"],[\"<b>Them, Robot</b><br>\",\"<b>Episode:</b> S23E17<br>\",\"<b>Airdate:</b>Sun 18 Mar 2012<br>\",\"<b>Description:</b>Mr. Burns replaces all of the<br>nuclear plant employees with robots--except for<br>Homer, who stays along to supervise the robots and<br>serve as a human scapegoat.<br>\"],[\"<b>Opposites A-Frack</b><br>\",\"<b>Episode:</b> S26E5<br>\",\"<b>Airdate:</b>Sun 02 Nov 2014<br>\",\"<b>Description:</b>An Assemblywoman brought in by<br>Lisa to stop Mr. Burns' fracking operation ends up<br>falling for him as much as he does for her.<br>\"],[\"<b>The Musk Who Fell to Earth</b><br>\",\"<b>Episode:</b> S26E12<br>\",\"<b>Airdate:</b>Sun 15 Mar 2015<br>\",\"<b>Description:</b>Inventor Elon Musk comes to<br>Springfield, and Homer inspires him with a new<br>idea that could revolutionize Springfield, but<br>winds up costing Mr. Burns a ton of money.<br>\"],[\"<b>Love Is in the N2-O2-Ar-CO2-Ne-He-CH4</b><br>\",\"<b>Episode:</b> S27E13<br>\",\"<b>Airdate:</b>Sun 14 Feb 2016<br>\",\"<b>Description:</b>Professor Frink's new invention<br>turns him into a ladies' man, while a new pill at<br>the Springfield Retirement Castle causes Grandpa<br>to hallucinate back to his happiest moments.<br>\"],[\"<b>The Burns Cage</b><br>\",\"<b>Episode:</b> S27E17<br>\",\"<b>Airdate:</b>Sun 03 Apr 2016<br>\",\"<b>Description:</b>Homer tries to raise Smithers'<br>spirits by finding him a man, and Lisa gets the<br>lead in the school production of \\\"Casablanca\\\"<br>alongside a new male student, sparking Millhouse's<br>jealousy.<br>\"],[\"<b>Monty Burns' Fleeing Circus</b><br>\",\"<b>Episode:</b> S28E1<br>\",\"<b>Airdate:</b>Sun 25 Sep 2016<br>\",\"<b>Description:</b>Mr. Burns puts on a variety<br>show at the Springfield Bowl.<br>\"],[\"<b>Friends and Family</b><br>\",\"<b>Episode:</b> S28E2<br>\",\"<b>Airdate:</b>Sun 02 Oct 2016<br>\",\"<b>Description:</b>Homer finds a new friend in a<br>woman who acts just like him when Mr. Burns hires<br>the other Simpsons as his live-in virtual reality<br>family.<br>\"],[\"<b>The Great Phatsby (part 1)</b><br>\",\"<b>Episode:</b> S28E12<br>\",\"<b>Airdate:</b>Sun 15 Jan 2017<br>\",\"<b>Description:</b>Mr Burns tries to relive his<br>glory days, and crosses paths with a mysterious<br>music mogul.<br>\"],[\"<b>The Caper Chase</b><br>\",\"<b>Episode:</b> S28E19<br>\",\"<b>Airdate:</b>Sun 02 Apr 2017<br>\",\"<b>Description:</b>Mr. Burns opens his own for-<br>profit university, hiring the completely<br>unqualified Homer as a professor, only to lose him<br>to a mad scientist.<br>\"],[\"<b>Frink Gets Testy</b><br>\",\"<b>Episode:</b> S29E11<br>\",\"<b>Airdate:</b>Fri 09 Mar 2018<br>\",\"<b>Description:</b>Mr. Burns builds a doomsday ark<br>after he believes the world is ending; Professor<br>Frink is tasked with determining who is worth<br>saving.<br>\"],[\"<b>Frinkcoin</b><br>\",\"<b>Episode:</b> S31E13<br>\",\"<b>Airdate:</b>Fri 03 Apr 2020<br>\",\"<b>Description:</b>Professor Frink invents a<br>cryptocurrency that makes him the richest man in<br>Springfield, a title Mr. Burns has no intention of<br>giving up.<br>\"],[\"<b>Undercover Burns</b><br>\",\"<b>Episode:</b> S32E1<br>\",\"<b>Airdate:</b>Fri 15 Jan 2021<br>\",\"<b>Description:</b>Mr. Burns goes undercover at<br>the power plant as an employee named Fred and<br>befriends Homer and the gang, but a jealous<br>Smithers plots to bring the old Burns back.<br>\"],[\"<b>Burger Kings</b><br>\",\"<b>Episode:</b> S32E18<br>\",\"<b>Airdate:</b>Fri 07 May 2021<br>\",\"<b>Description:</b>Mr. Burns joins the plant-based<br>burger business, convincing Lisa that he's changed<br>for the better.<br>\"],[\"<b>The Longest Marge</b><br>\",\"<b>Episode:</b> S33E11<br>\",\"<b>Airdate:</b>Sun 20 Mar 2022<br>\",\"<b>Description:</b>Marge battles Mr. Burns for the<br>soul of a brash young football prodigy.<br>\"],[\"\",33.986328125,\"\",\"\"]],\"hovertemplate\":\"%{customdata[0]}%{customdata[1]}%{customdata[2]}%{customdata[3]}<extra></extra>\",\"marker\":{\"opacity\":0.75,\"size\":5},\"mode\":\"markers+text\",\"name\":\"2_burns_mr burns_mr\",\"text\":[\"\",\"\",\"\",\"\",\"\",\"\",\"\",\"\",\"\",\"\",\"\",\"\",\"\",\"\",\"\",\"\",\"\",\"\",\"\",\"\",\"\",\"\",\"\",\"\",\"\",\"\",\"\",\"\",\"\",\"\",\"\",\"\",\"\",\"\",\"\",\"\",\"\",\"\",\"\",\"\",\"\",\"\",\"2_burns_mr burns_mr\"],\"textfont\":{\"size\":12},\"x\":[-147.99139404296875,-78.84095764160156,-119.9848861694336,-120.58988952636719,-60.752567291259766,-93.51878356933594,-87.23067474365234,-127.97425079345703,-63.139286041259766,-116.47380065917969,-124.29998016357422,-134.55148315429688,-87.0512924194336,-85.02388000488281,-59.853912353515625,-72.59613037109375,-100.96665954589844,-113.41483306884766,-108.32893371582031,-72.4169692993164,-89.26764678955078,-104.972412109375,-136.01243591308594,-91.59127807617188,-106.28349304199219,-116.2058334350586,-102.09021759033203,-106.28522491455078,-111.51274108886719,-71.80987548828125,-98.18816375732422,-118.63008117675781,-100.24417114257812,-118.22541809082031,-86.64990997314453,-114.1167984008789,-114.5063705444336,-119.0001220703125,-127.04340362548828,-103.01747131347656,-120.43978118896484,-70.87023162841797,\"\"],\"y\":[-15.725122451782227,13.590249061584473,16.969146728515625,-3.0796761512756348,17.5655574798584,8.114591598510742,-13.659867286682129,-0.7396370768547058,21.851837158203125,62.99021911621094,41.713279724121094,41.15882110595703,26.097841262817383,32.83268356323242,90.2685546875,-31.755767822265625,-14.881597518920898,-5.859675407409668,-17.256832122802734,10.596206665039062,-8.258150100708008,16.141681671142578,26.191041946411133,54.51895523071289,-33.211063385009766,45.81962585449219,31.369394302368164,-10.883185386657715,18.161367416381836,52.24433898925781,10.167672157287598,29.396162033081055,42.51377487182617,62.05535888671875,39.186607360839844,5.50417947769165,10.046761512756348,16.208486557006836,20.41584014892578,27.169347763061523,32.51261520385742,30.019899368286133,-102.42769622802734],\"z\":[42.55891799926758,39.6824951171875,24.06505584716797,-6.795403003692627,26.233592987060547,31.158151626586914,50.88084411621094,27.970190048217773,12.459113121032715,33.70262145996094,36.74209213256836,33.67565155029297,53.732879638671875,18.63844871520996,17.297391891479492,72.6856918334961,54.528812408447266,22.46017837524414,36.51888656616211,14.69676685333252,36.0601692199707,21.021968841552734,37.286155700683594,26.237457275390625,39.068355560302734,15.602548599243164,39.007286071777344,68.90373229980469,9.064187049865723,42.59148025512695,5.224232196807861,76.5137939453125,27.120134353637695,19.717266082763672,5.970005512237549,74.45549011230469,48.790653228759766,66.89881134033203,60.16572952270508,24.873458862304688,11.339159965515137,28.62139320373535,19.001943588256836],\"type\":\"scatter3d\"},{\"customdata\":[[\"<b>Treehouse of Horror</b><br>\",\"<b>Episode:</b> S2E3<br>\",\"<b>Airdate:</b>Tue 19 Nov 1991<br>\",\"<b>Description:</b>The Simpsons move into a cursed<br>house, then are abducted by aliens, before Homer<br>is ensconced in a tale by Edgar Allen Poe.<br>\"],[\"<b>Treehouse of Horror II</b><br>\",\"<b>Episode:</b> S3E7<br>\",\"<b>Airdate:</b>Fri 20 Nov 1992<br>\",\"<b>Description:</b>The Simpson family receives a<br>severed monkey's paw which can grant wishes, Bart<br>gains magical powers which he uses to turn Homer<br>into a Jack-in-the-box, and Mr. Burns uses Homer's<br>brain to create a robot.<br>\"],[\"<b>Treehouse of Horror III</b><br>\",\"<b>Episode:</b> S4E5<br>\",\"<b>Airdate:</b>Thu 29 Oct 1992<br>\",\"<b>Description:</b>An evil Krusty the Clown doll<br>tries to kill Homer; Marge is captured by a giant<br>ape who falls in love with her; Bart inadvertently<br>raises the dead.<br>\"],[\"<b>Treehouse of Horror IV</b><br>\",\"<b>Episode:</b> S5E5<br>\",\"<b>Airdate:</b>Thu 28 Oct 1993<br>\",\"<b>Description:</b>Homer sells his soul to the<br>Devil for a donut, Bart contends with a gremlin on<br>the side of the school bus which only he can see,<br>and the family discovers that Mr. Burns is a<br>vampire.<br>\"],[\"<b>Treehouse of Horror V</b><br>\",\"<b>Episode:</b> S6E6<br>\",\"<b>Airdate:</b>Sun 30 Oct 1994<br>\",\"<b>Description:</b>The family's job at Mr. Burns'<br>country estate goes awry when Homer goes mad;<br>Homer's attempt to repair a toaster results in<br>inadvertent time travel; The school staff turn<br>cannibalistic.<br>\"],[\"<b>Treehouse of Horror VI</b><br>\",\"<b>Episode:</b> S7E6<br>\",\"<b>Airdate:</b>Sun 05 Nov 1995<br>\",\"<b>Description:</b>A lightning storm causes giant<br>advertising mascots to come to life; The children<br>are terrorized by Groundskeeper Willie in their<br>dreams; Homer finds himself trapped in another<br>dimension.<br>\"],[\"<b>Treehouse of Horror VII</b><br>\",\"<b>Episode:</b> S8E1<br>\",\"<b>Airdate:</b>Sun 03 Nov 1996<br>\",\"<b>Description:</b>Bart's Siamese twin swells in<br>the attic; Lisa's science experiment creates a<br>miniature universe of advanced civilization;<br>aliens possess Clinton and Dole.<br>\"],[\"<b>Treehouse of Horror VIII</b><br>\",\"<b>Episode:</b> S9E4<br>\",\"<b>Airdate:</b>Sun 02 Nov 1997<br>\",\"<b>Description:</b>Homer battles mutants after<br>Springfield is annihilated by a neutron bomb; Bart<br>has his DNA mixed with a fly; Marge is revealed to<br>be a witch in colonial Springfield.<br>\"],[\"<b>Treehouse of Horror IX</b><br>\",\"<b>Episode:</b> S10E4<br>\",\"<b>Airdate:</b>Sun 01 Nov 1998<br>\",\"<b>Description:</b>Homer receives an evil hair<br>transplant; Bart and Lisa get trapped in an Itchy<br>and Scratchy cartoon; Maggie is revealed to be an<br>alien.<br>\"],[\"<b>Treehouse of Horror X</b><br>\",\"<b>Episode:</b> S11E4<br>\",\"<b>Airdate:</b>Sat 15 Jan 2000<br>\",\"<b>Description:</b>The Simpsons attempt to cover<br>up their accidental murder of Ned Flanders. Bart<br>and Lisa acquire super powers. An electronic<br>apocalypse threatens Springfield.<br>\"],[\"<b>Treehouse of Horror XI</b><br>\",\"<b>Episode:</b> S12E1<br>\",\"<b>Airdate:</b>Sun 17 Dec 2000<br>\",\"<b>Description:</b>Homer must do one good deed to<br>get into Heaven; Bart and Lisa encounter a witch<br>in a gingerbread house; Super-intelligent dolphins<br>strike back at humanity.<br>\"],[\"<b>Lisa the Treehugger</b><br>\",\"<b>Episode:</b> S12E4<br>\",\"<b>Airdate:</b>Sun 24 Dec 2000<br>\",\"<b>Description:</b>Lisa's crush on an<br>environmental activist inspires her to live in a<br>tree threatened by loggers.<br>\"],[\"<b>Treehouse of Horror XII</b><br>\",\"<b>Episode:</b> S13E1<br>\",\"<b>Airdate:</b>Sun 18 Nov 2001<br>\",\"<b>Description:</b>A gypsy puts a curse on Homer;<br>The Simpsons' new automated house malfunctions and<br>tries to kill Homer; Bart and Lisa attend a school<br>for wizards.<br>\"],[\"<b>Treehouse of Horror XIII</b><br>\",\"<b>Episode:</b> S14E1<br>\",\"<b>Airdate:</b>Sun 17 Nov 2002<br>\",\"<b>Description:</b>Homer clones himself with a<br>magic hammock; Zombie cowboys come back from the<br>dead after Springfield bans guns; The Simpsons<br>family take a vacation on an island where Dr.<br>Hibbert can turn people into animals.<br>\"],[\"<b>Treehouse of Horror XIV</b><br>\",\"<b>Episode:</b> S15E1<br>\",\"<b>Airdate:</b>Sun 16 Nov 2003<br>\",\"<b>Description:</b>First, Homer kills the Grim<br>Reaper and takes his place in Reaper Madness.<br>Then, Professor Frink's father is revived, only to<br>kill people and steal their organs in<br>Frinkenstein. Finally, Bart and Milhouse get a<br>stop watch that can stop time in Stop the World, I<br>Want To Goof Off.<br>\"],[\"<b>Treehouse of Horror XV</b><br>\",\"<b>Episode:</b> S16E1<br>\",\"<b>Airdate:</b>Sun 05 Dec 2004<br>\",\"<b>Description:</b>Ned gains the power to foresee<br>people's deaths; Maggie is shrunk inside a vitamin<br>capsule and swallowed; Eliza Simpson and her<br>sidekick hunt down a murderer.<br>\"],[\"<b>Treehouse of Horror XVI</b><br>\",\"<b>Episode:</b> S17E4<br>\",\"<b>Airdate:</b>Sun 18 Dec 2005<br>\",\"<b>Description:</b>An android son replaces Bart;<br>Homer and friends are the quarry in Mr. Burns'<br>hunting tournament; a witch turns townsfolk into<br>their Halloween costumes.<br>\"],[\"<b>Treehouse of Horror XVII</b><br>\",\"<b>Episode:</b> S18E4<br>\",\"<b>Airdate:</b>Sun 12 Nov 2006<br>\",\"<b>Description:</b>A meteorite turns Homer into a<br>rampaging blob with a voracious appetite; Bart<br>brings a Golem to life; an alien invasion hoax<br>turns real.<br>\"],[\"<b>Treehouse of Horror XVIII</b><br>\",\"<b>Episode:</b> S19E5<br>\",\"<b>Airdate:</b>Sun 04 Nov 2007<br>\",\"<b>Description:</b>The eighteenth Simpsons<br>Halloween Special features parodies of the movies<br>\\\"E.T.\\\" and \\\"Mr. and Mrs. Smith.\\\"<br>\"],[\"<b>Treehouse of Horror XIX</b><br>\",\"<b>Episode:</b> S20E4<br>\",\"<b>Airdate:</b>Sun 02 Nov 2008<br>\",\"<b>Description:</b>The Simpsons' 19th Halloween<br>Special, with parodies of \\\"Transformers,\\\" \\\"Mad<br>Men,\\\" and \\\"It's the Great Pumpkin, Charlie<br>Brown.\\\"<br>\"],[\"<b>Treehouse of Horror XX</b><br>\",\"<b>Episode:</b> S21E4<br>\",\"<b>Airdate:</b>Sun 18 Oct 2009<br>\",\"<b>Description:</b>Lisa becomes livid with Miss<br>Hoover, and in a series of homages to classic<br>Hitchcock sets out for deadly revenge. Next,<br>Krusty's latest fast-food sandwich transforms news<br>anchor Kent Brockman into an enraged zombie and<br>twenty-eight days later, cannibal zombies have<br>overrun Springfield. In the final frightening<br>fable, Homer accidentally falls through a trapdoor<br>in Moe's tavern and impales himself on the pipes<br>of Moe's microbrewery. Moe serves the barflies a<br>glass of delicious beer flavored with Homer's<br>blood and Homer, now half-man, half-brewing<br>apparatus, returns for vengeance.<br>\"],[\"<b>Treehouse of Horror XXI</b><br>\",\"<b>Episode:</b> S22E4<br>\",\"<b>Airdate:</b>Sun 07 Nov 2010<br>\",\"<b>Description:</b>A Satanic board game causes<br>other popular board games to come to life, Homer<br>and Marge rescue a possible killer and let him on<br>their boat, and a parody of \\\"Twilight\\\" where Lisa<br>falls for a young vampire.<br>\"],[\"<b>Treehouse of Horror XXII</b><br>\",\"<b>Episode:</b> S23E3<br>\",\"<b>Airdate:</b>Sun 30 Oct 2011<br>\",\"<b>Description:</b>Homer takes a dangerous dive<br>into an isolated canyon on Candy Peak, but when a<br>crashing boulder traps his arm, he channels Aron<br>Ralston to save himself. In \\\"The Diving Bell and<br>Butterball,\\\" the first of three hair-raising<br>Halloween tales, a venomous spider bite leaves<br>Homer paralyzed, but when Lisa discovers Homer's<br>ability to communicate through natural gases, he<br>is able to express his love for Marge. The killer<br>spells continue in \\\"Dial D for Diddly,\\\" when Ned<br>Flanders, devout preacher by day, transforms into<br>a cold-blooded vigilante by night. In the final<br>terrifying tale, \\\"In the Na'Vi,\\\" Bart and Milhouse<br>are sent on a mission to obtain a sacred extract<br>on a distant planet. They morph into the land's<br>indigenous one-eyed avatars, but when Bart finds<br>love and an eternal mate abroad, he is caught in<br>planet warfare.<br>\"],[\"<b>Treehouse of Horror XXIII</b><br>\",\"<b>Episode:</b> S24E2<br>\",\"<b>Airdate:</b>Sun 24 Mar 2013<br>\",\"<b>Description:</b>A black hole threatens to<br>swallow Springfield, Homer tries to find the<br>source of paranormal activity, and a \\\"Back to the<br>Future\\\" parody in which Bart keeps Marge from<br>marrying Homer.<br>\"],[\"<b>Treehouse of Horror XXIV</b><br>\",\"<b>Episode:</b> S25E2<br>\",\"<b>Airdate:</b>Sun 20 Apr 2014<br>\",\"<b>Description:</b>The scariest Simpsons Halloween<br>show yet, featuring an opening by Guillermo Del<br>Toro.<br>\"],[\"<b>Treehouse of Horror XXV</b><br>\",\"<b>Episode:</b> S26E4<br>\",\"<b>Airdate:</b>Sun 19 Oct 2014<br>\",\"<b>Description:</b>The 25th annual 'Simpsons'<br>Halloween special includes an alternate dimension,<br>a \\\"Clockwork Orange\\\"-style gang led by Moe and a<br>visit from the Tracey Ullman-era Simpsons.<br>\"],[\"<b>Halloween of Horror</b><br>\",\"<b>Episode:</b> S27E4<br>\",\"<b>Airdate:</b>Sun 18 Oct 2015<br>\",\"<b>Description:</b>The Simpsons are proud to be<br>the most festively decorated house on the block.<br>But when Lisa is traumatized at Krustyland Horror<br>Night, she feels she cannot handle Halloween<br>anymore.<br>\"],[\"<b>Treehouse of Horror XXVI</b><br>\",\"<b>Episode:</b> S27E5<br>\",\"<b>Airdate:</b>Sun 25 Oct 2015<br>\",\"<b>Description:</b>After killing Bart, Sideshow<br>Bob doesn't know what to do with himself; Homer<br>wakes up with short-term memory loss; Because of<br>radiation, Lisa, Bart and Milhouse gain super-<br>powers.<br>\"],[\"<b>Treehouse of Horror XXVII</b><br>\",\"<b>Episode:</b> S28E4<br>\",\"<b>Airdate:</b>Sun 16 Oct 2016<br>\",\"<b>Description:</b>The children of Springfield<br>fight to the death, Hunger Games style; Lisa's<br>imaginary friend kills her real friends; Moe<br>recruits Bart into his group of covert barfly<br>agents.<br>\"],[\"<b>The Nightmare After Krustmas</b><br>\",\"<b>Episode:</b> S28E10<br>\",\"<b>Airdate:</b>Sun 11 Dec 2016<br>\",\"<b>Description:</b>Krusty and his daughter spend<br>Christmas with the Simpsons; Reverend Lovejoy<br>seeks converts to boost attendance at church; A<br>Christmas toy scares Maggie.<br>\"],[\"<b>Treehouse of Horror XXVIII</b><br>\",\"<b>Episode:</b> S29E4<br>\",\"<b>Airdate:</b>Fri 19 Jan 2018<br>\",\"<b>Description:</b>Maggie gets possessed by a<br>demon; Lisa discovers a creepy/perfect version of<br>her family in an alternative universe; Homer<br>cannibalizes himself.<br>\"],[\"<b>Treehouse of Horror XXIX</b><br>\",\"<b>Episode:</b> S30E4<br>\",\"<b>Airdate:</b>Fri 22 Feb 2019<br>\",\"<b>Description:</b>Homer wins an oyster-eating<br>contest against the mythical Cthulhu, Springfield<br>is overrun by plant body-snatchers, Lisa finally<br>snaps and Mr. Burns opens a retirement home with<br>some Jurassic upgrades.<br>\"],[\"<b>Treehouse of Horror XXX</b><br>\",\"<b>Episode:</b> S31E4<br>\",\"<b>Airdate:</b>Fri 07 Feb 2020<br>\",\"<b>Description:</b>The 30th Treehouse of Horror<br>features a demon Maggie, a mission to rescue<br>Milhouse from another dimension, dead-Homer's<br>spirit trying on some new bodies for size and<br>Selma finally finding love in an unlikely place -<br>the alien in the basement.<br>\"],[\"<b>Thanksgiving of Horror</b><br>\",\"<b>Episode:</b> S31E8<br>\",\"<b>Airdate:</b>Fri 28 Feb 2020<br>\",\"<b>Description:</b>The Simpsons face various<br>Thanksgiving nightmares, including the first<br>Thanksgiving, an A.I. mishap and a dangerous space<br>mission complicated by a sentient cranberry<br>sauce.<br>\"],[\"<b>Treehouse of Horror XXXI</b><br>\",\"<b>Episode:</b> S32E4<br>\",\"<b>Airdate:</b>Fri 05 Feb 2021<br>\",\"<b>Description:</b>The 31st annual Simpsons<br>Halloween special includes a frightening look at<br>the 2020 election, parodies of Pixar and Spider-<br>Man: Into the Spider-Verse and a ninth birthday<br>Lisa just can't get over.<br>\"],[\"<b>Treehouse of Horror XXXII</b><br>\",\"<b>Episode:</b> S33E3<br>\",\"<b>Airdate:</b>Sun 30 Jan 2022<br>\",\"<b>Description:</b>The 32nd annual Simpsons<br>Halloween special includes a spoof of \\\"Parasite\\\"<br>and a segment where Bambi gets his revenge.<br>\"],[\"\",-27.572601318359375,\"\",\"\"]],\"hovertemplate\":\"%{customdata[0]}%{customdata[1]}%{customdata[2]}%{customdata[3]}<extra></extra>\",\"marker\":{\"opacity\":0.75,\"size\":5},\"mode\":\"markers+text\",\"name\":\"3_treehouse_simpsons_homer\",\"text\":[\"\",\"\",\"\",\"\",\"\",\"\",\"\",\"\",\"\",\"\",\"\",\"\",\"\",\"\",\"\",\"\",\"\",\"\",\"\",\"\",\"\",\"\",\"\",\"\",\"\",\"\",\"\",\"\",\"\",\"\",\"\",\"\",\"\",\"\",\"\",\"\",\"3_treehouse_simpsons_homer\"],\"textfont\":{\"size\":12},\"x\":[-39.14148712158203,-28.917591094970703,-18.890506744384766,-39.99800491333008,-52.4552001953125,-45.392982482910156,-33.979156494140625,-34.03228759765625,-31.092302322387695,-47.2542724609375,-52.1730842590332,-16.2110538482666,-48.6007194519043,-37.2273063659668,-59.23709487915039,-46.28498077392578,-48.81711196899414,-55.18965148925781,-26.984994888305664,-16.09571647644043,-34.42496109008789,-48.76130294799805,-25.46786880493164,-49.93281173706055,-18.553329467773438,-27.927886962890625,-6.030062675476074,-58.771209716796875,-63.31224060058594,-1.2863093614578247,-39.41279602050781,-71.33895874023438,-31.42180824279785,-1.3414944410324097,-15.717568397521973,-22.565956115722656,\"\"],\"y\":[123.42858123779297,110.9058609008789,115.88021850585938,99.75756072998047,99.92747497558594,122.72727966308594,142.88047790527344,144.5349578857422,129.95199584960938,134.65826416015625,122.25634002685547,135.99574279785156,110.75984191894531,121.74979400634766,120.90194702148438,140.7299346923828,108.80296325683594,138.19924926757812,87.98687744140625,95.45258331298828,123.11417388916016,106.27394104003906,131.0037078857422,142.52175903320312,108.656494140625,99.91926574707031,106.09020233154297,130.9410400390625,111.33466339111328,109.63423919677734,118.66417694091797,130.05215454101562,110.09394073486328,113.30125427246094,96.00692749023438,110.11881256103516,-35.95116424560547],\"z\":[-43.358726501464844,1.8300492763519287,-14.806361198425293,-7.685903549194336,3.543510675430298,-56.934852600097656,-42.723148345947266,-18.761085510253906,-29.60547637939453,-16.630373001098633,-31.252498626708984,-32.59971237182617,-42.3277473449707,7.938784122467041,1.164873480796814,-2.02431583404541,-7.679052829742432,-41.8353157043457,-59.22949981689453,-56.471981048583984,-14.369848251342773,-23.822261810302734,-8.53567123413086,-28.5327091217041,-46.24358367919922,-47.92668914794922,-34.255615234375,-15.156037330627441,-19.75287628173828,-19.406063079833984,-26.299285888671875,-36.183677673339844,-30.625600814819336,-52.10786056518555,-39.67201614379883,-60.274993896484375,118.20040893554688],\"type\":\"scatter3d\"},{\"customdata\":[[\"<b>Flaming Moe's</b><br>\",\"<b>Episode:</b> S3E10<br>\",\"<b>Airdate:</b>Thu 21 Nov 1991<br>\",\"<b>Description:</b>Moe claims a drink that Homer<br>invented is his own, with the drink making the bar<br>a local hot spot, but threatens his friendship<br>with Homer.<br>\"],[\"<b>The Homer They Fall</b><br>\",\"<b>Episode:</b> S8E3<br>\",\"<b>Airdate:</b>Sun 24 Nov 1996<br>\",\"<b>Description:</b>Homer becomes a boxer after Moe<br>discovers his amazing ability to take a punch.<br>\"],[\"<b>Homer vs. the 18th Amendment</b><br>\",\"<b>Episode:</b> S8E18<br>\",\"<b>Airdate:</b>Tue 17 Mar 1998<br>\",\"<b>Description:</b>After alcohol is banned in<br>Springfield, Homer adopts the moniker of the \\\"Beer<br>Baron\\\" to bootleg liquor, prompting an<br>investigation from an uptight Treasury agent.<br>\"],[\"<b>Dumbbell Indemnity</b><br>\",\"<b>Episode:</b> S9E16<br>\",\"<b>Airdate:</b>Sun 19 Apr 1998<br>\",\"<b>Description:</b>Homer and Moe attempt insurance<br>fraud so that Moe can support his new girlfriend.<br>When Homer ends up in jail, Moe has to decide<br>whether or not to come forward.<br>\"],[\"<b>Pygmoelian</b><br>\",\"<b>Episode:</b> S11E16<br>\",\"<b>Airdate:</b>Sun 04 Jun 2000<br>\",\"<b>Description:</b>Plastic surgery not only<br>transforms Moe the Bartender from ugly to hunky,<br>it helps gets him a job on a hit daytime<br>drama.<br>\"],[\"<b>Homer the Moe</b><br>\",\"<b>Episode:</b> S13E3<br>\",\"<b>Airdate:</b>Sun 16 Dec 2001<br>\",\"<b>Description:</b>Homer and his friends are<br>forced to drink in the Simpsons' garage after Moe<br>the Bartender renovates his shady bar into a<br>hipster hangout.<br>\"],[\"<b>Moe Baby Blues</b><br>\",\"<b>Episode:</b> S14E22<br>\",\"<b>Airdate:</b>Sun 26 Oct 2003<br>\",\"<b>Description:</b>After saving Maggie's life, Moe<br>develops a special bond with her, much to Homer's<br>dismay.<br>\"],[\"<b>Mommie Beerest</b><br>\",\"<b>Episode:</b> S16E7<br>\",\"<b>Airdate:</b>Sun 27 Feb 2005<br>\",\"<b>Description:</b>Homer gives Moe an enormous<br>amount of money so he doesn't have to close<br>down.<br>\"],[\"<b>The Seven-Beer Snitch</b><br>\",\"<b>Episode:</b> S16E14<br>\",\"<b>Airdate:</b>Sun 08 May 2005<br>\",\"<b>Description:</b>Springfield builds an opera<br>house, but since no-one attends it they convert it<br>into a prison. Old and forgotten laws are used to<br>fill the prison, and therefore Homer goes to jail<br>for kicking a can five times in a row. In jail,<br>Homer becomes a snitch<br>\"],[\"<b>Moe'N'a Lisa</b><br>\",\"<b>Episode:</b> S18E6<br>\",\"<b>Airdate:</b>Sun 03 Dec 2006<br>\",\"<b>Description:</b>Lisa helps Moe become a<br>distinguished poet, but she turns on him when he<br>takes all the credit for his newfound<br>greatness.<br>\"],[\"<b>Eeny Teeny Maya Moe</b><br>\",\"<b>Episode:</b> S20E16<br>\",\"<b>Airdate:</b>Sun 05 Apr 2009<br>\",\"<b>Description:</b>Moe begins dating a little<br>person he met on the Internet, while Maggie is<br>being bullied at the playground next to Moe's<br>where Homer is leaving her.<br>\"],[\"<b>Moe Letter Blues</b><br>\",\"<b>Episode:</b> S21E21<br>\",\"<b>Airdate:</b>Sun 09 May 2010<br>\",\"<b>Description:</b>Homer, Apu and Reverend Lovejoy<br>all suspect that Moe may have left with one of<br>their wives after receiving a mysterious letter,<br>but which one is it?<br>\"],[\"<b>Judge Me Tender</b><br>\",\"<b>Episode:</b> S21E23<br>\",\"<b>Airdate:</b>Sun 23 May 2010<br>\",\"<b>Description:</b>Moe's gruff and abrasive<br>personality makes him the perfect hyper-critical<br>judge, and lands him a spot on American Idol.<br>Meanwhile, Homer makes Marge uncomfortable when he<br>starts spending more time at home with Moe's now<br>closed.<br>\"],[\"<b>Flaming Moe</b><br>\",\"<b>Episode:</b> S22E11<br>\",\"<b>Airdate:</b>Fri 04 Mar 2011<br>\",\"<b>Description:</b>Moe tries to keep his<br>'straightness' a secret when he opens a gay bar;<br>Skinner falls for a new teacher.<br>\"],[\"<b>The Blue and the Gray</b><br>\",\"<b>Episode:</b> S22E13<br>\",\"<b>Airdate:</b>Sun 13 Feb 2011<br>\",\"<b>Description:</b>Moe employs Homer as his wing<br>man, only to find Homer has more luck with the<br>ladies than he does; Marge finds her first gray<br>hair.<br>\"],[\"<b>Whiskey Business</b><br>\",\"<b>Episode:</b> S24E19<br>\",\"<b>Airdate:</b>Mon 17 Feb 2014<br>\",\"<b>Description:</b>A new makeover could put Moe in<br>a position to make big money, Bart fails at his<br>job of taking care of Grandpa, and Lisa fights the<br>shameless exploitation of Bleeding Gums Murphy's<br>likeness.<br>\"],[\"<b>The Princess Guide</b><br>\",\"<b>Episode:</b> S26E15<br>\",\"<b>Airdate:</b>Sun 05 Apr 2015<br>\",\"<b>Description:</b>Moe falls in love with a<br>Nigerian princess whose father is working out a<br>uranium deal with Mr. Burns.<br>\"],[\"<b>Waiting for Duffman</b><br>\",\"<b>Episode:</b> S26E17<br>\",\"<b>Airdate:</b>Sun 19 Apr 2015<br>\",\"<b>Description:</b>After \\\"Duffman\\\" retires, Homer<br>wins a reality competition to become his<br>replacement. But his contract states that he<br>cannot drink beer, which gives him a new<br>perspective on alcohol.<br>\"],[\"<b>Moho House</b><br>\",\"<b>Episode:</b> S28E21<br>\",\"<b>Airdate:</b>Sun 07 May 2017<br>\",\"<b>Description:</b>Mr. Burns makes a bet with his<br>old friend that nothing can break Homer and Marge<br>apart. But that's where Moe comes in.<br>\"],[\"<b>King Leer</b><br>\",\"<b>Episode:</b> S29E16<br>\",\"<b>Airdate:</b>Fri 20 Apr 2018<br>\",\"<b>Description:</b>Homer and Marge attempt to<br>reunite Moe with his troubled family.<br>\"],[\"<b>From Russia Without Love</b><br>\",\"<b>Episode:</b> S30E6<br>\",\"<b>Airdate:</b>Fri 08 Mar 2019<br>\",\"<b>Description:</b>Bart, Nelson and Milhouse get a<br>mail-order bride for Moe as a hardcore prank.<br>\"],[\"<b>The Last Barfighter</b><br>\",\"<b>Episode:</b> S32E22<br>\",\"<b>Airdate:</b>Fri 04 Jun 2021<br>\",\"<b>Description:</b>A secret society of bartenders<br>seeks revenge on Homer and his friends when Moe<br>breaks their most sacred rule.<br>\"],[\"\",-45.95962905883789,\"\",\"\"]],\"hovertemplate\":\"%{customdata[0]}%{customdata[1]}%{customdata[2]}%{customdata[3]}<extra></extra>\",\"marker\":{\"opacity\":0.75,\"size\":5},\"mode\":\"markers+text\",\"name\":\"4_moe_homer_moes\",\"text\":[\"\",\"\",\"\",\"\",\"\",\"\",\"\",\"\",\"\",\"\",\"\",\"\",\"\",\"\",\"\",\"\",\"\",\"\",\"\",\"\",\"\",\"\",\"4_moe_homer_moes\"],\"textfont\":{\"size\":12},\"x\":[-38.436683654785156,-34.29673385620117,-48.35953140258789,-49.78821563720703,-30.86590576171875,-48.78961181640625,-12.741999626159668,-40.62030029296875,-57.8951530456543,-18.7019100189209,-13.118782997131348,-17.230804443359375,-32.14317321777344,-27.177536010742188,-10.96550464630127,-41.03828811645508,-59.87617874145508,-45.9414176940918,-33.08635711669922,-27.685802459716797,-13.700837135314941,-60.2289924621582,\"\"],\"y\":[-72.21509552001953,-63.28057861328125,-91.47795867919922,-52.13620376586914,-64.97489166259766,-73.37443542480469,-61.86720275878906,-60.18683624267578,-86.09283447265625,-57.05351638793945,-72.78401947021484,-46.7851676940918,-48.20281219482422,-75.1059341430664,-44.86674880981445,-54.462684631347656,26.71494483947754,-99.47268676757812,-45.508087158203125,-35.48844528198242,-57.07467269897461,-69.28378295898438,-34.66771697998047],\"z\":[-54.07117462158203,-32.517066955566406,-53.74993896484375,-34.68138885498047,-81.5210952758789,-57.52210235595703,-42.057029724121094,-45.14698791503906,-66.70146942138672,-53.917903900146484,-53.142642974853516,-22.80103302001953,-51.6929817199707,-63.3900032043457,-39.44850540161133,-72.58086395263672,-1.4751627445220947,-43.16327667236328,-32.263145446777344,-35.20682907104492,-12.18465805053711,-61.8765869140625,-59.317256927490234],\"type\":\"scatter3d\"},{\"customdata\":[[\"<b>Simpsons Roasting on an Open Fire</b><br>\",\"<b>Episode:</b> S1E1<br>\",\"<b>Airdate:</b>Sun 17 Dec 1989<br>\",\"<b>Description:</b>Homer is forced to become a<br>department store Santa when Marge spends the<br>family's Christmas savings on removing Bart's<br>tattoo.<br>\"],[\"<b>Bart's Dog Gets an F</b><br>\",\"<b>Episode:</b> S2E16<br>\",\"<b>Airdate:</b>Thu 07 Mar 1991<br>\",\"<b>Description:</b>After an uncontrollable Santa's<br>Little Helper destroys several important Simpson<br>possessions, Homer announces that he will be<br>thrown out of the house unless he completes<br>obedience training.<br>\"],[\"<b>Dog of Death</b><br>\",\"<b>Episode:</b> S3E19<br>\",\"<b>Airdate:</b>Thu 12 Mar 1992<br>\",\"<b>Description:</b>After the Simpsons regret<br>paying for an expensive surgery for Santa's Little<br>Helper, he runs away from home and is trained by<br>Mr. Burns to become an attack dog.<br>\"],[\"<b>Rosebud</b><br>\",\"<b>Episode:</b> S5E4<br>\",\"<b>Airdate:</b>Thu 21 Oct 1993<br>\",\"<b>Description:</b>After his birthday party goes<br>wrong, Mr. Burns begins to want his childhood toy,<br>a teddy bear named Bobo; Homer finds that Maggie<br>is in possession of the doll.<br>\"],[\"<b>Bart Gets an Elephant</b><br>\",\"<b>Episode:</b> S5E17<br>\",\"<b>Airdate:</b>Thu 31 Mar 1994<br>\",\"<b>Description:</b>After Bart receives an elephant<br>as a prize for calling in to a radio station, the<br>animal proves to be too costly to care for and<br>Homer decides to sell it.<br>\"],[\"<b>Two Dozen and One Greyhounds</b><br>\",\"<b>Episode:</b> S6E20<br>\",\"<b>Airdate:</b>Sun 09 Apr 1995<br>\",\"<b>Description:</b>Santa's Little Helper's new<br>mate has puppies, and Mr. Burns schemes to steal<br>them and make them into a coat.<br>\"],[\"<b>The Canine Mutiny</b><br>\",\"<b>Episode:</b> S8E20<br>\",\"<b>Airdate:</b>Sun 22 Jun 1997<br>\",\"<b>Description:</b>When the items Bart purchased<br>with a fake credit card are repossessed, he claims<br>that Santa's Little Helper is the dog he bought<br>instead of his new pet, Laddie.<br>\"],[\"<b>Old Yeller-Belly</b><br>\",\"<b>Episode:</b> S14E19<br>\",\"<b>Airdate:</b>Sun 07 Sep 2003<br>\",\"<b>Description:</b>Homer throws out Santa's Little<br>Helper for not saving him from a fire, but soon<br>the dog becomes Duff's new mascot.<br>\"],[\"<b>Simpsons Christmas Stories</b><br>\",\"<b>Episode:</b> S17E9<br>\",\"<b>Airdate:</b>Sun 25 Dec 2005<br>\",\"<b>Description:</b>Homer tells the tale of the<br>first Christmas ever, while Grandpa pursues his<br>decade-old feud with Santa.<br>\"],[\"<b>Stop, or My Dog Will Shoot!</b><br>\",\"<b>Episode:</b> S18E20<br>\",\"<b>Airdate:</b>Sun 13 May 2007<br>\",\"<b>Description:</b>Homer unwittingly drags the<br>family into a cornfield maze after attempting to<br>leave a boring Harvest fest that Marge brought<br>them to. When everyone except Homer escapes,<br>Santa's Little Helper rescues him and becomes the<br>town hero. So the Simpsons enroll him in Police<br>Dog Academy where he's teamed with Lou.<br>\"],[\"<b>How Munched Is That Birdie in the Window?</b><br>\",\"<b>Episode:</b> S22E7<br>\",\"<b>Airdate:</b>Sun 28 Nov 2010<br>\",\"<b>Description:</b>Bart adopts a carrier pigeon,<br>but Santa's Little Helper eats it.<br>\"],[\"<b>The Fight Before Christmas</b><br>\",\"<b>Episode:</b> S22E8<br>\",\"<b>Airdate:</b>Sun 19 Dec 2010<br>\",\"<b>Description:</b>Marge gets depressed when the<br>rest of the family does not get into the holiday<br>spirit, and she writes a letter, hoping to get<br>some help; Mr. Burns and Moe's new friend delay<br>the Simpsons as they attempt to travel to Hawaii<br>for the holiday.<br>\"],[\"<b>Holidays of Future Passed</b><br>\",\"<b>Episode:</b> S23E9<br>\",\"<b>Airdate:</b>Sun 11 Dec 2011<br>\",\"<b>Description:</b>Thirty years in the future the<br>Simpsons get together for Christmas. Bart and Lisa<br>are struggling as parents to connect with their<br>children.<br>\"],[\"<b>To Cur with Love</b><br>\",\"<b>Episode:</b> S24E8<br>\",\"<b>Airdate:</b>Sun 05 May 2013<br>\",\"<b>Description:</b>When Homer shows no remorse<br>over almost losing Santa's Little Helper, Grandpa<br>tells everyone the story of Homer's childhood<br>dog.<br>\"],[\"<b>White Christmas Blues</b><br>\",\"<b>Episode:</b> S25E8<br>\",\"<b>Airdate:</b>Sun 18 May 2014<br>\",\"<b>Description:</b>When a sudden tourist spike<br>means that the family cannot afford Christmas, the<br>Simpsons open up their house to boarders.<br>\"],[\"<b>Specs and the City</b><br>\",\"<b>Episode:</b> S25E11<br>\",\"<b>Airdate:</b>Sun 25 May 2014<br>\",\"<b>Description:</b>Mr. Burns' Christmas present to<br>his employees, a pair of augmented reality<br>glasses, places a strain on Homer and Marge's<br>relationship. Meanwhile, Bart wrestles with giving<br>a Valentine's Day card to Nelson.<br>\"],[\"<b>The Winter of His Content</b><br>\",\"<b>Episode:</b> S25E14<br>\",\"<b>Airdate:</b>Sun 08 Jun 2014<br>\",\"<b>Description:</b>When Abe and two of his friends<br>move in with the Simpsons after the Springfield<br>Retirement Castle closes, Homer begins to embrace<br>their lifestyle. Meanwhile, Nelson initiates Bart<br>into the bully group after coming to his<br>defense.<br>\"],[\"<b>I Won't Be Home for Christmas</b><br>\",\"<b>Episode:</b> S26E9<br>\",\"<b>Airdate:</b>Sun 28 Dec 2014<br>\",\"<b>Description:</b>Marge kicks Homer out of the<br>house for Christmas after he consoles Moe on<br>Christmas Eve instead of going home.<br>\"],[\"<b>'Tis the 30th Season</b><br>\",\"<b>Episode:</b> S30E10<br>\",\"<b>Airdate:</b>Mon 24 Dec 2018<br>\",\"<b>Description:</b>Marge is determined to fix<br>Christmas following a failed Black Friday shopping<br>spree, but Homer and the kids surprise her with a<br>vacation in Florida.<br>\"],[\"<b>The Way of the Dog</b><br>\",\"<b>Episode:</b> S31E22<br>\",\"<b>Airdate:</b>Fri 29 May 2020<br>\",\"<b>Description:</b>The Simpsons explore the tragic<br>past of Santa's Little Helper when he bites<br>Marge.<br>\"],[\"<b>A Springfield Summer Christmas for Christmas</b><br>\",\"<b>Episode:</b> S32E10<br>\",\"<b>Airdate:</b>Thu 24 Dec 2020<br>\",\"<b>Description:</b>A cable channel films a<br>Christmas movie in Springfield and Skinner falls<br>in love.<br>\"],[\"\",18.904521942138672,\"\",\"\"]],\"hovertemplate\":\"%{customdata[0]}%{customdata[1]}%{customdata[2]}%{customdata[3]}<extra></extra>\",\"marker\":{\"opacity\":0.75,\"size\":5},\"mode\":\"markers+text\",\"name\":\"5_christmas_dog_santas little\",\"text\":[\"\",\"\",\"\",\"\",\"\",\"\",\"\",\"\",\"\",\"\",\"\",\"\",\"\",\"\",\"\",\"\",\"\",\"\",\"\",\"\",\"\",\"5_christmas_dog_santas little\"],\"textfont\":{\"size\":12},\"x\":[16.361188888549805,20.669509887695312,10.547951698303223,-19.832849502563477,6.898459434509277,25.17062759399414,31.316444396972656,21.71216583251953,5.12410831451416,8.889806747436523,63.656654357910156,26.03474998474121,39.17658615112305,3.908224582672119,28.19084930419922,4.869339466094971,11.01900863647461,26.93575096130371,28.935293197631836,1.5365781784057617,15.75295639038086,\"\"],\"y\":[87.00492858886719,83.98615264892578,89.82958221435547,101.90365600585938,5.81171178817749,86.98497009277344,81.2596206665039,97.56283569335938,110.04114532470703,80.11927795410156,77.94612121582031,72.91334533691406,82.08289337158203,103.7995376586914,92.48574829101562,88.0643539428711,71.26283264160156,77.01335144042969,88.41234588623047,92.37248992919922,105.92011260986328,17.94635581970215],\"z\":[12.405465126037598,26.3358154296875,49.12181854248047,13.338644027709961,109.46247863769531,52.11933898925781,36.791046142578125,29.65316390991211,19.718002319335938,32.42148208618164,46.70124053955078,-16.808605194091797,-31.333982467651367,28.83325958251953,-24.39948272705078,4.127192497253418,-12.980795860290527,-3.674999237060547,-6.420527458190918,42.71439743041992,-11.12998104095459,84.60842895507812],\"type\":\"scatter3d\"},{\"customdata\":[[\"<b>Krusty Gets Busted</b><br>\",\"<b>Episode:</b> S1E12<br>\",\"<b>Airdate:</b>Sun 29 Apr 1990<br>\",\"<b>Description:</b>After Krusty is found guilty of<br>robbing the Kwik-E-Mart following Homer's<br>eyewitness testimony, Bart and Lisa set out to<br>prove his innocence.<br>\"],[\"<b>Like Father, Like Clown</b><br>\",\"<b>Episode:</b> S3E6<br>\",\"<b>Airdate:</b>Thu 24 Oct 1991<br>\",\"<b>Description:</b>Bart and Lisa try to reunite<br>Krusty the Clown with his father.<br>\"],[\"<b>Krusty Gets Kancelled</b><br>\",\"<b>Episode:</b> S4E22<br>\",\"<b>Airdate:</b>Sun 20 Jun 1993<br>\",\"<b>Description:</b>When Krusty's show is canceled<br>after losing viewers to a ventriloquist and his<br>dummy, Bart and Lisa organize a celebrity-filled<br>comeback special for their favorite clown.<br>\"],[\"<b>Bart Gets Famous</b><br>\",\"<b>Episode:</b> S5E12<br>\",\"<b>Airdate:</b>Thu 03 Feb 1994<br>\",\"<b>Description:</b>Bart becomes an overnight<br>sensation as the \\\"I didn't do it\\\" boy on Krusty<br>the Clown's show.<br>\"],[\"<b>Homie the Clown</b><br>\",\"<b>Episode:</b> S6E15<br>\",\"<b>Airdate:</b>Sun 12 Feb 1995<br>\",\"<b>Description:</b>Homer becomes a Krusty the<br>Clown stand-in, but is mistaken for the real<br>Krusty by the Springfield mafia.<br>\"],[\"<b>Bart the Fink</b><br>\",\"<b>Episode:</b> S7E15<br>\",\"<b>Airdate:</b>Sun 21 Apr 1996<br>\",\"<b>Description:</b>Krusty the Clown is left almost<br>broke after Bart inadvertently rats him out to the<br>IRS, forcing Krusty to take drastic action.<br>\"],[\"<b>The Last Temptation of Krust</b><br>\",\"<b>Episode:</b> S9E15<br>\",\"<b>Airdate:</b>Sun 05 Apr 1998<br>\",\"<b>Description:</b>After a disastrous performance,<br>Krusty changes his image and becomes an edgy<br>stand-up.<br>\"],[\"<b>Trash of the Titans</b><br>\",\"<b>Episode:</b> S9E22<br>\",\"<b>Airdate:</b>Sun 31 May 1998<br>\",\"<b>Description:</b>Homer becomes the sanitation<br>commissioner for Springfield. His ineptitude<br>pollutes the town and leads to a drastic<br>solution.<br>\"],[\"<b>Insane Clown Poppy</b><br>\",\"<b>Episode:</b> S12E3<br>\",\"<b>Airdate:</b>Sun 19 Nov 2000<br>\",\"<b>Description:</b>After he learns he has a<br>daughter, Krusty turns to Homer for parenting<br>advice.<br>\"],[\"<b>Day of the Jackanapes</b><br>\",\"<b>Episode:</b> S12E13<br>\",\"<b>Airdate:</b>Sun 22 Apr 2001<br>\",\"<b>Description:</b>When a new television game show<br>grows in popularity and begins to draw away<br>Krusty's TV audience e decided to retire from the<br>television business.<br>\"],[\"<b>The Lastest Gun in the West</b><br>\",\"<b>Episode:</b> S13E12<br>\",\"<b>Airdate:</b>Sun 05 May 2002<br>\",\"<b>Description:</b>Bart meets a retired cowboy<br>movie star and convinces him to make a comeback on<br>The Krusty the Clown Show.<br>\"],[\"<b>Mr. Spritz Goes to Washington</b><br>\",\"<b>Episode:</b> S14E14<br>\",\"<b>Airdate:</b>Sun 25 May 2003<br>\",\"<b>Description:</b>The family makes Krusty run for<br>Congress because of air traffic being redirected<br>to fly dangerously close to their house.<br>\"],[\"<b>Today, I Am a Clown</b><br>\",\"<b>Episode:</b> S15E6<br>\",\"<b>Airdate:</b>Sun 08 Feb 2004<br>\",\"<b>Description:</b>Krusty decides to do what he<br>never did when he was thirteen years old - have a<br>Bar Mitzvah.<br>\"],[\"<b>The Ten-Per-Cent Solution</b><br>\",\"<b>Episode:</b> S23E8<br>\",\"<b>Airdate:</b>Sun 04 Dec 2011<br>\",\"<b>Description:</b>Krusty the Clown is stuck in a<br>rut when the television network pulls his show<br>from the air and his talent agency drops him as a<br>client. But when the Simpsons introduce him to<br>seasoned agent Annie, they are surprised to learn<br>that Annie was Krusty's very first agent. Despite<br>their rocky relationship, Annie is convinced to<br>re-sign Krusty and craft his career comeback. But<br>when Krusty's retro comedy show reboot is deemed a<br>critical success, Krusty must decide to stay with<br>his agent or side with the network executives.<br>\"],[\"<b>Clown in the Dumps</b><br>\",\"<b>Episode:</b> S26E1<br>\",\"<b>Airdate:</b>Sun 02 Nov 2014<br>\",\"<b>Description:</b>Krusty has a crisis of<br>conscience and retires from show business after<br>his father dies before ever approving of his<br>career. Meanwhile, Lisa becomes worried about<br>Homer's health and life expectancy.<br>\"],[\"<b>Fears of a Clown</b><br>\",\"<b>Episode:</b> S29E14<br>\",\"<b>Airdate:</b>Fri 06 Apr 2018<br>\",\"<b>Description:</b>Bart goes to prankster rehab<br>after a clown-mask prank terrifies the town and<br>ruins Krusty's career causing him to give up<br>comedy and try serious drama.<br>\"],[\"<b>Krusty the Clown</b><br>\",\"<b>Episode:</b> S30E8<br>\",\"<b>Airdate:</b>Fri 22 Mar 2019<br>\",\"<b>Description:</b>Krusty hides out at a circus<br>after he nearly kills Homer, who becomes a TV<br>recapper and gives him a bad grade.<br>\"],[\"<b>The Clown Stays in the Picture</b><br>\",\"<b>Episode:</b> S30E14<br>\",\"<b>Airdate:</b>Fri 26 Apr 2019<br>\",\"<b>Description:</b>On Marc Maron's podcast, Krusty<br>reveals the untold story of his past movie<br>project, The Sands of Space. Hearing the podcast,<br>Bart and Lisa learn their parents were production<br>assistants on the movie in the early days of their<br>relationship.<br>\"],[\"\",-89.0573501586914,\"\",\"\"]],\"hovertemplate\":\"%{customdata[0]}%{customdata[1]}%{customdata[2]}%{customdata[3]}<extra></extra>\",\"marker\":{\"opacity\":0.75,\"size\":5},\"mode\":\"markers+text\",\"name\":\"6_krusty_clown_krusty clown\",\"text\":[\"\",\"\",\"\",\"\",\"\",\"\",\"\",\"\",\"\",\"\",\"\",\"\",\"\",\"\",\"\",\"\",\"\",\"\",\"6_krusty_clown_krusty clown\"],\"textfont\":{\"size\":12},\"x\":[-85.15144348144531,-54.5532112121582,-63.16040802001953,31.196849822998047,-78.50370025634766,-79.34185028076172,-73.10888671875,-74.00272369384766,-89.443603515625,-52.7548942565918,-73.80452728271484,-95.51422882080078,-87.6629638671875,-60.6911735534668,-72.5113754272461,-70.8974838256836,-77.47953033447266,-62.32125473022461,\"\"],\"y\":[-27.53571891784668,-3.787104368209839,-21.032167434692383,-76.54000091552734,-21.980266571044922,-14.218031883239746,-37.39202117919922,0.7110923528671265,-12.696895599365234,-27.95439910888672,-46.44314193725586,-30.6153621673584,2.393120288848877,-23.509984970092773,-7.743980407714844,-4.1851420402526855,-20.787609100341797,4.45371675491333,-67.76146697998047],\"z\":[-110.36624908447266,-90.75235748291016,-102.47542572021484,3.2163949012756348,-81.64930725097656,-110.36084747314453,-104.18269348144531,-71.36869812011719,-88.68585968017578,-109.45770263671875,-79.20005798339844,-91.3689193725586,-103.64994812011719,-83.88441467285156,-83.74024200439453,-110.58492279052734,-92.90061950683594,-91.62045288085938,-20.49243927001953],\"type\":\"scatter3d\"},{\"customdata\":[[\"<b>Dead Putting Society</b><br>\",\"<b>Episode:</b> S2E6<br>\",\"<b>Airdate:</b>Thu 15 Nov 1990<br>\",\"<b>Description:</b>In an attempt to show up Ned<br>Flanders, Homer pits Bart against Ned's son, Todd,<br>in a miniature golf competition.<br>\"],[\"<b>When Flanders Failed</b><br>\",\"<b>Episode:</b> S3E3<br>\",\"<b>Airdate:</b>Thu 03 Oct 1991<br>\",\"<b>Description:</b>After wishing for Flanders to<br>lose his business, Homer discovers that his<br>neighbor is actually about to go bankrupt and<br>decides to help him out.<br>\"],[\"<b>Homer Loves Flanders</b><br>\",\"<b>Episode:</b> S5E16<br>\",\"<b>Airdate:</b>Thu 17 Mar 1994<br>\",\"<b>Description:</b>After Flanders invites Homer to<br>a football game, the pair become friends, but<br>Homer's possessiveness and loutish behaviour<br>slowly turns Ned against him.<br>\"],[\"<b>Hurricane Neddy</b><br>\",\"<b>Episode:</b> S8E8<br>\",\"<b>Airdate:</b>Sun 02 Feb 1997<br>\",\"<b>Description:</b>After a hurricane destroys Ned<br>Flanders' house, he suffers a nervous breakdown<br>and is forced to confront repressed problems from<br>his childhood.<br>\"],[\"<b>Viva Ned Flanders</b><br>\",\"<b>Episode:</b> S10E10<br>\",\"<b>Airdate:</b>Sun 14 Mar 1999<br>\",\"<b>Description:</b>When Homer takes Ned to Las<br>Vegas in an attempt to get him to loosen up, the<br>two end up drunkenly marrying a pair of cocktail<br>waitresses.<br>\"],[\"<b>Alone Again, Natura-Diddly</b><br>\",\"<b>Episode:</b> S11E14<br>\",\"<b>Airdate:</b>Sun 07 May 2000<br>\",\"<b>Description:</b>Ned deals with his grief after<br>Maude's untimely death.<br>\"],[\"<b>I'm Goin' to Praiseland</b><br>\",\"<b>Episode:</b> S12E19<br>\",\"<b>Airdate:</b>Sun 15 Jul 2001<br>\",\"<b>Description:</b>With Homer's help, Flanders<br>tries to establish a Christian theme park based on<br>drawings in Maude's sketch book.<br>\"],[\"<b>A Star Is Born Again</b><br>\",\"<b>Episode:</b> S14E13<br>\",\"<b>Airdate:</b>Sun 06 Apr 2003<br>\",\"<b>Description:</b>Ned Flanders starts dating a<br>famous movie star, but has difficulties with the<br>tabloids following them everywhere.<br>\"],[\"<b>Dude, Where's My Ranch?</b><br>\",\"<b>Episode:</b> S14E18<br>\",\"<b>Airdate:</b>Sun 17 Aug 2003<br>\",\"<b>Description:</b>Homer writes a Christmas carol<br>called \\\"Everybody Hates Ned Flanders,\\\" which soon<br>becomes so popular that the family decides to<br>leave town for a while.<br>\"],[\"<b>Homer and Ned's Hail Mary Pass</b><br>\",\"<b>Episode:</b> S16E8<br>\",\"<b>Airdate:</b>Sun 06 Mar 2005<br>\",\"<b>Description:</b>A video of Homer dancing<br>becomes so popular that all major sports players<br>hires Homer to design celebration dances for<br>them.<br>\"],[\"<b>Home Away from Homer</b><br>\",\"<b>Episode:</b> S16E20<br>\",\"<b>Airdate:</b>Sun 24 Jul 2005<br>\",\"<b>Description:</b>After Homer humiliates Ned<br>Flanders, Ned, Rod, and Todd decides to leave<br>Springfield and live in Humbleton,<br>Pennsylvania.<br>\"],[\"<b>The Greatest Story Ever D'ohed</b><br>\",\"<b>Episode:</b> S21E16<br>\",\"<b>Airdate:</b>Thu 20 May 2010<br>\",\"<b>Description:</b>Ned takes the Simpsons on a<br>pilgrimage to Israel in order to try and save<br>Homer, but soon discovers that he may not be worth<br>saving.<br>\"],[\"<b>The Ned-Liest Catch</b><br>\",\"<b>Episode:</b> S22E22<br>\",\"<b>Airdate:</b>Sun 22 May 2011<br>\",\"<b>Description:</b>When Krabbapple gets suspended<br>and put into detention after hurting Bart, Bart<br>tries to break her out, but it ends that Flanders<br>is the one that saves her life. But soon, Ned<br>figures out that Edna has also dated other men<br>such as Homer, Skinner Comic Book Guy and<br>Aerosmith drummer Joey Kramer.<br>\"],[\"<b>Ned 'N Edna's Blend Agenda</b><br>\",\"<b>Episode:</b> S23E21<br>\",\"<b>Airdate:</b>Sun 13 May 2012<br>\",\"<b>Description:</b>After Ned and Edna announce<br>publicly that they were secretly married, the two<br>clash over how to raise Rod and Todd.<br>\"],[\"<b>Todd, Todd, Why Hast Thou Forsaken Me?</b><br>\",\"<b>Episode:</b> S31E9<br>\",\"<b>Airdate:</b>Fri 06 Mar 2020<br>\",\"<b>Description:</b>Todd blames God for his<br>mother's death and rejects his faith, so Ned sends<br>him to live with the Simpsons, hoping they can<br>scare him into believing in God again.<br>\"],[\"<b>A Serious Flanders</b><br>\",\"<b>Episode:</b> S33E6<br>\",\"<b>Airdate:</b>Sun 20 Feb 2022<br>\",\"<b>Description:</b>Homer and Ned get sucked into<br>the violent world of prestige TV when a ruthless<br>debt collector comes to Springfield.<br>\"],[\"<b>A Serious Flanders: Part 2</b><br>\",\"<b>Episode:</b> S33E7<br>\",\"<b>Airdate:</b>Sun 27 Feb 2022<br>\",\"<b>Description:</b>Things go from bad to worse for<br>Homer and Ned.<br>\"],[\"\",82.1860580444336,\"\",\"\"]],\"hovertemplate\":\"%{customdata[0]}%{customdata[1]}%{customdata[2]}%{customdata[3]}<extra></extra>\",\"marker\":{\"opacity\":0.75,\"size\":5},\"mode\":\"markers+text\",\"name\":\"7_ned_flanders_ned flanders\",\"text\":[\"\",\"\",\"\",\"\",\"\",\"\",\"\",\"\",\"\",\"\",\"\",\"\",\"\",\"\",\"\",\"\",\"\",\"7_ned_flanders_ned flanders\"],\"textfont\":{\"size\":12},\"x\":[-69.38346099853516,-52.25431442260742,-61.35159683227539,-73.21551513671875,-66.00745391845703,-56.4533576965332,-38.19525146484375,-54.09554672241211,-51.221954345703125,30.374919891357422,-60.4753532409668,-48.87074279785156,-61.530548095703125,-73.50421142578125,-53.40226745605469,-47.84374237060547,-57.001060485839844,\"\"],\"y\":[26.766000747680664,21.60038948059082,14.043697357177734,30.818822860717773,6.621675968170166,18.83781623840332,38.33961868286133,-2.4705214500427246,33.95322799682617,-83.00819396972656,44.1054573059082,23.537540435791016,14.079170227050781,8.8384370803833,35.82979965209961,12.325984001159668,19.636512756347656,-52.613616943359375],\"z\":[76.98933410644531,62.850181579589844,73.30648803710938,95.892822265625,86.00935363769531,116.34916687011719,78.94429779052734,93.06769561767578,82.68775177001953,-37.28317642211914,86.90478515625,98.26176452636719,101.60865020751953,106.06380462646484,107.22696685791016,83.66532135009766,84.6178207397461,15.52090835571289],\"type\":\"scatter3d\"},{\"customdata\":[[\"<b>Homer the Heretic</b><br>\",\"<b>Episode:</b> S4E3<br>\",\"<b>Airdate:</b>Thu 08 Oct 1992<br>\",\"<b>Description:</b>After attributing a relaxing<br>Sunday to his skipping church, Homer vows to never<br>attend service again, and forms his own religion<br>to justify his behavior.<br>\"],[\"<b>The Joy of Sect</b><br>\",\"<b>Episode:</b> S9E13<br>\",\"<b>Airdate:</b>Sun 15 Mar 1998<br>\",\"<b>Description:</b>An evil cult called the<br>Movementarians brainwashes the citizens of<br>Springfield and it's up to Marge to get them<br>back.<br>\"],[\"<b>Simpsons Bible Stories</b><br>\",\"<b>Episode:</b> S10E18<br>\",\"<b>Airdate:</b>Sun 23 May 1999<br>\",\"<b>Description:</b>Three famous religious stories<br>are retold Simpsons style as the family nods off<br>at church.<br>\"],[\"<b>Missionary: Impossible</b><br>\",\"<b>Episode:</b> S11E15<br>\",\"<b>Airdate:</b>Sun 28 May 2000<br>\",\"<b>Description:</b>When Homer is wanted dead for<br>reneging on a 10,000 dollar pledge to PBS,<br>Reverend Lovejoy sets him up for missionary work<br>in the South Pacific until the heat dies down.<br>\"],[\"<b>She of Little Faith</b><br>\",\"<b>Episode:</b> S13E6<br>\",\"<b>Airdate:</b>Sun 10 Feb 2002<br>\",\"<b>Description:</b>Homer and Bart get careless<br>with a model rocket and accidentally do damage to<br>Springfield's church, but when Mr. Burns offers to<br>commercialize it to repair the destruction, Lisa<br>leaves Christianity behind to become a<br>Buddhist.<br>\"],[\"<b>Pray Anything</b><br>\",\"<b>Episode:</b> S14E10<br>\",\"<b>Airdate:</b>Sun 02 Mar 2003<br>\",\"<b>Description:</b>Homer turns to religion to help<br>him get what he wants, and is soon awarded the<br>church in an injury settlement. Homer then turns<br>the church into his personal party pad, and<br>Reverend Lovejoy leaves Springfield to wallow in<br>its hedonism.<br>\"],[\"<b>Pulpit Friction</b><br>\",\"<b>Episode:</b> S24E18<br>\",\"<b>Airdate:</b>Sun 01 Dec 2013<br>\",\"<b>Description:</b>Springfield gets a bedbug<br>scare, the new assistant pastor at church appoints<br>Homer as a deacon, and Marge loses her wedding<br>dress.<br>\"],[\"<b>Sky Police</b><br>\",\"<b>Episode:</b> S26E16<br>\",\"<b>Airdate:</b>Sun 12 Apr 2015<br>\",\"<b>Description:</b>The congregation, led by Marge,<br>is forced to resort to gambling in order to<br>collect money to fix the church, which Chief<br>Wiggum destroyed with a jet pack he received by<br>mistake.<br>\"],[\"<b>My Way or the Highway to Heaven</b><br>\",\"<b>Episode:</b> S30E3<br>\",\"<b>Airdate:</b>Fri 15 Feb 2019<br>\",\"<b>Description:</b>While God and St. Peter discuss<br>who will get into heaven, the citizens of<br>Springfield recall divine encounters.<br>\"],[\"<b>The Fat Blue Line</b><br>\",\"<b>Episode:</b> S31E3<br>\",\"<b>Airdate:</b>Fri 31 Jan 2020<br>\",\"<b>Description:</b>When the wrong man is arrested<br>for pickpocketing Springfield during the San<br>Castellaneta street festival, Chief Wiggum sets<br>out to catch the real criminal.<br>\"],[\"<b>Warrin' Priests</b><br>\",\"<b>Episode:</b> S31E19<br>\",\"<b>Airdate:</b>Fri 08 May 2020<br>\",\"<b>Description:</b>Reverend Lovejoy investigates<br>the mysterious past of a new priest who's come to<br>town and shaken things up at church.<br>\"],[\"<b>Warrin' Priests Part 2</b><br>\",\"<b>Episode:</b> S31E20<br>\",\"<b>Airdate:</b>Fri 15 May 2020<br>\",\"<b>Description:</b>In Michigan, Reverend Lovejoy<br>learns the true reason why Bode came to<br>Springfield and the congregation must decide<br>whether to banish their new priest.<br>\"],[\"\",10.915596008300781,\"\",\"\"]],\"hovertemplate\":\"%{customdata[0]}%{customdata[1]}%{customdata[2]}%{customdata[3]}<extra></extra>\",\"marker\":{\"opacity\":0.75,\"size\":5},\"mode\":\"markers+text\",\"name\":\"8_church_lovejoy_reverend lovejoy\",\"text\":[\"\",\"\",\"\",\"\",\"\",\"\",\"\",\"\",\"\",\"\",\"\",\"\",\"8_church_lovejoy_reverend lovejoy\"],\"textfont\":{\"size\":12},\"x\":[-34.661346435546875,-44.77527618408203,-21.485736846923828,-52.992557525634766,-44.27987289428711,-40.835391998291016,-38.93794250488281,-45.17703628540039,-30.154308319091797,-49.35014724731445,30.369781494140625,35.07679748535156,\"\"],\"y\":[64.11701202392578,45.698360443115234,54.0787239074707,59.74773406982422,53.31983184814453,54.968563079833984,40.33431625366211,-85.0545654296875,65.88592529296875,-101.14594268798828,118.6836166381836,123.26707458496094,-28.100250244140625],\"z\":[15.17480754852295,-19.24843978881836,33.725135803222656,19.587373733520508,0.7155652046203613,14.866096496582031,19.058576583862305,86.24468994140625,36.90965270996094,70.82154846191406,-77.60005187988281,-69.26780700683594,41.15838623046875],\"type\":\"scatter3d\"},{\"customdata\":[[\"<b>Black Widower</b><br>\",\"<b>Episode:</b> S3E21<br>\",\"<b>Airdate:</b>Sun 26 Apr 1992<br>\",\"<b>Description:</b>Sideshow Bob gets out of jail<br>and plots to take his revenge on Bart by marrying<br>his Aunt Selma and killing her.<br>\"],[\"<b>Cape Feare</b><br>\",\"<b>Episode:</b> S5E2<br>\",\"<b>Airdate:</b>Thu 07 Oct 1993<br>\",\"<b>Description:</b>After being released from<br>prison on parole, Sideshow Bob plots to murder<br>Bart.<br>\"],[\"<b>Sideshow Bob Roberts</b><br>\",\"<b>Episode:</b> S6E5<br>\",\"<b>Airdate:</b>Sun 13 Nov 1994<br>\",\"<b>Description:</b>When Sideshow Bob is released<br>from prison and is elected Mayor of Springfield,<br>Bart and Lisa suspect foul play and are determined<br>to expose his corruption.<br>\"],[\"<b>Sideshow Bob's Last Gleaming</b><br>\",\"<b>Episode:</b> S7E9<br>\",\"<b>Airdate:</b>Sun 28 Jan 1996<br>\",\"<b>Description:</b>Sideshow Bob again escapes from<br>prison and takes control of a TV screen at an air<br>show, demanding all television stations<br>immediately go off the air.<br>\"],[\"<b>Brother from Another Series</b><br>\",\"<b>Episode:</b> S8E16<br>\",\"<b>Airdate:</b>Sun 18 May 1997<br>\",\"<b>Description:</b>Bart suspects a paroled<br>Sideshow Bob is up to his old tricks when he is<br>hired by his brother Cecil to assist in the<br>construction of a dam.<br>\"],[\"<b>The Great Louse Detective</b><br>\",\"<b>Episode:</b> S14E6<br>\",\"<b>Airdate:</b>Sun 12 Jan 2003<br>\",\"<b>Description:</b>Homer has to use Sideshow Bob<br>in order to track down a potential assassin.<br>\"],[\"<b>The Italian Bob</b><br>\",\"<b>Episode:</b> S17E8<br>\",\"<b>Airdate:</b>Sun 15 Jan 2006<br>\",\"<b>Description:</b>The Simpsons become lost in<br>Italy, finding their way to a small town that<br>Sideshow Bob has become the mayor of.<br>\"],[\"<b>Funeral for a Fiend</b><br>\",\"<b>Episode:</b> S19E8<br>\",\"<b>Airdate:</b>Sun 25 Nov 2007<br>\",\"<b>Description:</b>Bart is responsible for<br>Sideshow Bob's death after his latest attempt at<br>revenge is foiled, but is his death actually part<br>of the plan?<br>\"],[\"<b>The Bob Next Door</b><br>\",\"<b>Episode:</b> S21E22<br>\",\"<b>Airdate:</b>Sun 16 May 2010<br>\",\"<b>Description:</b>Bart is convinced that the<br>Simpsons' new friendly, unassuming neighbor is<br>actually Sideshow Bob in disguise.<br>\"],[\"<b>Bobby, It's Cold Outside</b><br>\",\"<b>Episode:</b> S31E10<br>\",\"<b>Airdate:</b>Fri 13 Mar 2020<br>\",\"<b>Description:</b>Sideshow Bob gets the role of<br>Santa Claus at Santa's Village amusement park.<br>Meanwhile, someone is stealing all the Christmas<br>packages off people's front porches.<br>\"],[\"\",8.078635215759277,\"\",\"\"]],\"hovertemplate\":\"%{customdata[0]}%{customdata[1]}%{customdata[2]}%{customdata[3]}<extra></extra>\",\"marker\":{\"opacity\":0.75,\"size\":5},\"mode\":\"markers+text\",\"name\":\"9_bob_sideshow_sideshow bob\",\"text\":[\"\",\"\",\"\",\"\",\"\",\"\",\"\",\"\",\"\",\"\",\"9_bob_sideshow_sideshow bob\"],\"textfont\":{\"size\":12},\"x\":[64.83223724365234,68.2776107788086,60.123779296875,47.1663818359375,75.99945831298828,56.367733001708984,61.49500274658203,71.19473266601562,62.537776947021484,39.76112365722656,\"\"],\"y\":[108.92351531982422,120.07783508300781,117.9294662475586,121.17373657226562,119.68257141113281,131.20115661621094,120.00103759765625,106.97332763671875,113.79761505126953,116.4246597290039,60.77558135986328],\"z\":[22.825504302978516,21.54189682006836,6.8228678703308105,12.337272644042969,2.906825065612793,3.217865228652954,-18.6359920501709,35.30928421020508,-4.262030124664307,-1.2771403789520264,117.61849212646484],\"type\":\"scatter3d\"},{\"customdata\":[[\"<b>Bart Star</b><br>\",\"<b>Episode:</b> S9E6<br>\",\"<b>Airdate:</b>Sun 07 Dec 1997<br>\",\"<b>Description:</b>A damning report on childhood<br>obesity in Springfield leads to the formation of a<br>pee-wee football team. After belittling Ned<br>Flanders, Homer ends up coaching the team, but his<br>favoring of Bart makes him unpopular.<br>\"],[\"<b>Worst Episode Ever</b><br>\",\"<b>Episode:</b> S12E11<br>\",\"<b>Airdate:</b>Sun 25 Mar 2001<br>\",\"<b>Description:</b>Bart and Milhouse are left in<br>charge of the comic book store after Comic Book<br>Guy is hospitalized.<br>\"],[\"<b>Barting Over</b><br>\",\"<b>Episode:</b> S14E11<br>\",\"<b>Airdate:</b>Sun 20 Apr 2003<br>\",\"<b>Description:</b>After finding out Homer<br>squandered his money from a baby commercial, Bart<br>moves out into a loft, and meets skateboarding<br>legend Tony Hawk.<br>\"],[\"<b>The Fat and the Furriest</b><br>\",\"<b>Episode:</b> S15E5<br>\",\"<b>Airdate:</b>Sun 04 Jan 2004<br>\",\"<b>Description:</b>At the dump Homer is videotaped<br>while being attacked by a bear. The town regards<br>him a coward, so Homer decides to strike back at<br>the bear.<br>\"],[\"<b>Bart-Mangled Banner</b><br>\",\"<b>Episode:</b> S15E21<br>\",\"<b>Airdate:</b>Sun 14 Nov 2004<br>\",\"<b>Description:</b>An accidental photo showing<br>Bart mooning the American flag makes the Simpsons<br>the most hated family in town.<br>\"],[\"<b>The Boys of Bummer</b><br>\",\"<b>Episode:</b> S18E18<br>\",\"<b>Airdate:</b>Sun 29 Apr 2007<br>\",\"<b>Description:</b>Bart becomes the most hated<br>person in Springfield after he is the goat in a<br>championship baseball game, and Homer's new job as<br>a mattress salesman ruins his and Marge's sex<br>life.<br>\"],[\"<b>The Town</b><br>\",\"<b>Episode:</b> S28E3<br>\",\"<b>Airdate:</b>Sun 09 Oct 2016<br>\",\"<b>Description:</b>Homer takes the family on a<br>\\\"hate-cation\\\" to Boston after he catches Bart<br>rooting for a rival football team.<br>\"],[\"<b>22 for 30</b><br>\",\"<b>Episode:</b> S28E17<br>\",\"<b>Airdate:</b>Sun 12 Mar 2017<br>\",\"<b>Description:</b>A mocumentary about how Bart<br>became a star basketball player at Springfield<br>Elementary only to fall prey to fame, his own ego<br>and the schemes of mobster Fat Tony.<br>\"],[\"\",43.684200286865234,\"\",\"\"]],\"hovertemplate\":\"%{customdata[0]}%{customdata[1]}%{customdata[2]}%{customdata[3]}<extra></extra>\",\"marker\":{\"opacity\":0.75,\"size\":5},\"mode\":\"markers+text\",\"name\":\"10_team_bear_hated\",\"text\":[\"\",\"\",\"\",\"\",\"\",\"\",\"\",\"\",\"10_team_bear_hated\"],\"textfont\":{\"size\":12},\"x\":[3.008117198944092,45.26000213623047,7.226696491241455,-11.439851760864258,20.827091217041016,34.043853759765625,19.854772567749023,6.861587047576904,\"\"],\"y\":[-86.16859436035156,-73.27530670166016,-76.54456329345703,-84.20011138916016,-71.05542755126953,-61.49190902709961,-64.59758758544922,-70.49588775634766,15.705284118652344],\"z\":[-17.68389320373535,86.08930206298828,17.209012985229492,-24.155702590942383,100.78547668457031,93.97378540039062,88.35384368896484,4.901790142059326,-73.47867584228516],\"type\":\"scatter3d\"}],                        {\"template\":{\"data\":{\"barpolar\":[{\"marker\":{\"line\":{\"color\":\"white\",\"width\":0.5},\"pattern\":{\"fillmode\":\"overlay\",\"size\":10,\"solidity\":0.2}},\"type\":\"barpolar\"}],\"bar\":[{\"error_x\":{\"color\":\"rgb(36,36,36)\"},\"error_y\":{\"color\":\"rgb(36,36,36)\"},\"marker\":{\"line\":{\"color\":\"white\",\"width\":0.5},\"pattern\":{\"fillmode\":\"overlay\",\"size\":10,\"solidity\":0.2}},\"type\":\"bar\"}],\"carpet\":[{\"aaxis\":{\"endlinecolor\":\"rgb(36,36,36)\",\"gridcolor\":\"white\",\"linecolor\":\"white\",\"minorgridcolor\":\"white\",\"startlinecolor\":\"rgb(36,36,36)\"},\"baxis\":{\"endlinecolor\":\"rgb(36,36,36)\",\"gridcolor\":\"white\",\"linecolor\":\"white\",\"minorgridcolor\":\"white\",\"startlinecolor\":\"rgb(36,36,36)\"},\"type\":\"carpet\"}],\"choropleth\":[{\"colorbar\":{\"outlinewidth\":1,\"tickcolor\":\"rgb(36,36,36)\",\"ticks\":\"outside\"},\"type\":\"choropleth\"}],\"contourcarpet\":[{\"colorbar\":{\"outlinewidth\":1,\"tickcolor\":\"rgb(36,36,36)\",\"ticks\":\"outside\"},\"type\":\"contourcarpet\"}],\"contour\":[{\"colorbar\":{\"outlinewidth\":1,\"tickcolor\":\"rgb(36,36,36)\",\"ticks\":\"outside\"},\"colorscale\":[[0.0,\"#440154\"],[0.1111111111111111,\"#482878\"],[0.2222222222222222,\"#3e4989\"],[0.3333333333333333,\"#31688e\"],[0.4444444444444444,\"#26828e\"],[0.5555555555555556,\"#1f9e89\"],[0.6666666666666666,\"#35b779\"],[0.7777777777777778,\"#6ece58\"],[0.8888888888888888,\"#b5de2b\"],[1.0,\"#fde725\"]],\"type\":\"contour\"}],\"heatmapgl\":[{\"colorbar\":{\"outlinewidth\":1,\"tickcolor\":\"rgb(36,36,36)\",\"ticks\":\"outside\"},\"colorscale\":[[0.0,\"#440154\"],[0.1111111111111111,\"#482878\"],[0.2222222222222222,\"#3e4989\"],[0.3333333333333333,\"#31688e\"],[0.4444444444444444,\"#26828e\"],[0.5555555555555556,\"#1f9e89\"],[0.6666666666666666,\"#35b779\"],[0.7777777777777778,\"#6ece58\"],[0.8888888888888888,\"#b5de2b\"],[1.0,\"#fde725\"]],\"type\":\"heatmapgl\"}],\"heatmap\":[{\"colorbar\":{\"outlinewidth\":1,\"tickcolor\":\"rgb(36,36,36)\",\"ticks\":\"outside\"},\"colorscale\":[[0.0,\"#440154\"],[0.1111111111111111,\"#482878\"],[0.2222222222222222,\"#3e4989\"],[0.3333333333333333,\"#31688e\"],[0.4444444444444444,\"#26828e\"],[0.5555555555555556,\"#1f9e89\"],[0.6666666666666666,\"#35b779\"],[0.7777777777777778,\"#6ece58\"],[0.8888888888888888,\"#b5de2b\"],[1.0,\"#fde725\"]],\"type\":\"heatmap\"}],\"histogram2dcontour\":[{\"colorbar\":{\"outlinewidth\":1,\"tickcolor\":\"rgb(36,36,36)\",\"ticks\":\"outside\"},\"colorscale\":[[0.0,\"#440154\"],[0.1111111111111111,\"#482878\"],[0.2222222222222222,\"#3e4989\"],[0.3333333333333333,\"#31688e\"],[0.4444444444444444,\"#26828e\"],[0.5555555555555556,\"#1f9e89\"],[0.6666666666666666,\"#35b779\"],[0.7777777777777778,\"#6ece58\"],[0.8888888888888888,\"#b5de2b\"],[1.0,\"#fde725\"]],\"type\":\"histogram2dcontour\"}],\"histogram2d\":[{\"colorbar\":{\"outlinewidth\":1,\"tickcolor\":\"rgb(36,36,36)\",\"ticks\":\"outside\"},\"colorscale\":[[0.0,\"#440154\"],[0.1111111111111111,\"#482878\"],[0.2222222222222222,\"#3e4989\"],[0.3333333333333333,\"#31688e\"],[0.4444444444444444,\"#26828e\"],[0.5555555555555556,\"#1f9e89\"],[0.6666666666666666,\"#35b779\"],[0.7777777777777778,\"#6ece58\"],[0.8888888888888888,\"#b5de2b\"],[1.0,\"#fde725\"]],\"type\":\"histogram2d\"}],\"histogram\":[{\"marker\":{\"line\":{\"color\":\"white\",\"width\":0.6}},\"type\":\"histogram\"}],\"mesh3d\":[{\"colorbar\":{\"outlinewidth\":1,\"tickcolor\":\"rgb(36,36,36)\",\"ticks\":\"outside\"},\"type\":\"mesh3d\"}],\"parcoords\":[{\"line\":{\"colorbar\":{\"outlinewidth\":1,\"tickcolor\":\"rgb(36,36,36)\",\"ticks\":\"outside\"}},\"type\":\"parcoords\"}],\"pie\":[{\"automargin\":true,\"type\":\"pie\"}],\"scatter3d\":[{\"line\":{\"colorbar\":{\"outlinewidth\":1,\"tickcolor\":\"rgb(36,36,36)\",\"ticks\":\"outside\"}},\"marker\":{\"colorbar\":{\"outlinewidth\":1,\"tickcolor\":\"rgb(36,36,36)\",\"ticks\":\"outside\"}},\"type\":\"scatter3d\"}],\"scattercarpet\":[{\"marker\":{\"colorbar\":{\"outlinewidth\":1,\"tickcolor\":\"rgb(36,36,36)\",\"ticks\":\"outside\"}},\"type\":\"scattercarpet\"}],\"scattergeo\":[{\"marker\":{\"colorbar\":{\"outlinewidth\":1,\"tickcolor\":\"rgb(36,36,36)\",\"ticks\":\"outside\"}},\"type\":\"scattergeo\"}],\"scattergl\":[{\"marker\":{\"colorbar\":{\"outlinewidth\":1,\"tickcolor\":\"rgb(36,36,36)\",\"ticks\":\"outside\"}},\"type\":\"scattergl\"}],\"scattermapbox\":[{\"marker\":{\"colorbar\":{\"outlinewidth\":1,\"tickcolor\":\"rgb(36,36,36)\",\"ticks\":\"outside\"}},\"type\":\"scattermapbox\"}],\"scatterpolargl\":[{\"marker\":{\"colorbar\":{\"outlinewidth\":1,\"tickcolor\":\"rgb(36,36,36)\",\"ticks\":\"outside\"}},\"type\":\"scatterpolargl\"}],\"scatterpolar\":[{\"marker\":{\"colorbar\":{\"outlinewidth\":1,\"tickcolor\":\"rgb(36,36,36)\",\"ticks\":\"outside\"}},\"type\":\"scatterpolar\"}],\"scatter\":[{\"fillpattern\":{\"fillmode\":\"overlay\",\"size\":10,\"solidity\":0.2},\"type\":\"scatter\"}],\"scatterternary\":[{\"marker\":{\"colorbar\":{\"outlinewidth\":1,\"tickcolor\":\"rgb(36,36,36)\",\"ticks\":\"outside\"}},\"type\":\"scatterternary\"}],\"surface\":[{\"colorbar\":{\"outlinewidth\":1,\"tickcolor\":\"rgb(36,36,36)\",\"ticks\":\"outside\"},\"colorscale\":[[0.0,\"#440154\"],[0.1111111111111111,\"#482878\"],[0.2222222222222222,\"#3e4989\"],[0.3333333333333333,\"#31688e\"],[0.4444444444444444,\"#26828e\"],[0.5555555555555556,\"#1f9e89\"],[0.6666666666666666,\"#35b779\"],[0.7777777777777778,\"#6ece58\"],[0.8888888888888888,\"#b5de2b\"],[1.0,\"#fde725\"]],\"type\":\"surface\"}],\"table\":[{\"cells\":{\"fill\":{\"color\":\"rgb(237,237,237)\"},\"line\":{\"color\":\"white\"}},\"header\":{\"fill\":{\"color\":\"rgb(217,217,217)\"},\"line\":{\"color\":\"white\"}},\"type\":\"table\"}]},\"layout\":{\"annotationdefaults\":{\"arrowhead\":0,\"arrowwidth\":1},\"autotypenumbers\":\"strict\",\"coloraxis\":{\"colorbar\":{\"outlinewidth\":1,\"tickcolor\":\"rgb(36,36,36)\",\"ticks\":\"outside\"}},\"colorscale\":{\"diverging\":[[0.0,\"rgb(103,0,31)\"],[0.1,\"rgb(178,24,43)\"],[0.2,\"rgb(214,96,77)\"],[0.3,\"rgb(244,165,130)\"],[0.4,\"rgb(253,219,199)\"],[0.5,\"rgb(247,247,247)\"],[0.6,\"rgb(209,229,240)\"],[0.7,\"rgb(146,197,222)\"],[0.8,\"rgb(67,147,195)\"],[0.9,\"rgb(33,102,172)\"],[1.0,\"rgb(5,48,97)\"]],\"sequential\":[[0.0,\"#440154\"],[0.1111111111111111,\"#482878\"],[0.2222222222222222,\"#3e4989\"],[0.3333333333333333,\"#31688e\"],[0.4444444444444444,\"#26828e\"],[0.5555555555555556,\"#1f9e89\"],[0.6666666666666666,\"#35b779\"],[0.7777777777777778,\"#6ece58\"],[0.8888888888888888,\"#b5de2b\"],[1.0,\"#fde725\"]],\"sequentialminus\":[[0.0,\"#440154\"],[0.1111111111111111,\"#482878\"],[0.2222222222222222,\"#3e4989\"],[0.3333333333333333,\"#31688e\"],[0.4444444444444444,\"#26828e\"],[0.5555555555555556,\"#1f9e89\"],[0.6666666666666666,\"#35b779\"],[0.7777777777777778,\"#6ece58\"],[0.8888888888888888,\"#b5de2b\"],[1.0,\"#fde725\"]]},\"colorway\":[\"#1F77B4\",\"#FF7F0E\",\"#2CA02C\",\"#D62728\",\"#9467BD\",\"#8C564B\",\"#E377C2\",\"#7F7F7F\",\"#BCBD22\",\"#17BECF\"],\"font\":{\"color\":\"rgb(36,36,36)\"},\"geo\":{\"bgcolor\":\"white\",\"lakecolor\":\"white\",\"landcolor\":\"white\",\"showlakes\":true,\"showland\":true,\"subunitcolor\":\"white\"},\"hoverlabel\":{\"align\":\"left\"},\"hovermode\":\"closest\",\"mapbox\":{\"style\":\"light\"},\"paper_bgcolor\":\"white\",\"plot_bgcolor\":\"white\",\"polar\":{\"angularaxis\":{\"gridcolor\":\"rgb(232,232,232)\",\"linecolor\":\"rgb(36,36,36)\",\"showgrid\":false,\"showline\":true,\"ticks\":\"outside\"},\"bgcolor\":\"white\",\"radialaxis\":{\"gridcolor\":\"rgb(232,232,232)\",\"linecolor\":\"rgb(36,36,36)\",\"showgrid\":false,\"showline\":true,\"ticks\":\"outside\"}},\"scene\":{\"xaxis\":{\"backgroundcolor\":\"white\",\"gridcolor\":\"rgb(232,232,232)\",\"gridwidth\":2,\"linecolor\":\"rgb(36,36,36)\",\"showbackground\":true,\"showgrid\":false,\"showline\":true,\"ticks\":\"outside\",\"zeroline\":false,\"zerolinecolor\":\"rgb(36,36,36)\"},\"yaxis\":{\"backgroundcolor\":\"white\",\"gridcolor\":\"rgb(232,232,232)\",\"gridwidth\":2,\"linecolor\":\"rgb(36,36,36)\",\"showbackground\":true,\"showgrid\":false,\"showline\":true,\"ticks\":\"outside\",\"zeroline\":false,\"zerolinecolor\":\"rgb(36,36,36)\"},\"zaxis\":{\"backgroundcolor\":\"white\",\"gridcolor\":\"rgb(232,232,232)\",\"gridwidth\":2,\"linecolor\":\"rgb(36,36,36)\",\"showbackground\":true,\"showgrid\":false,\"showline\":true,\"ticks\":\"outside\",\"zeroline\":false,\"zerolinecolor\":\"rgb(36,36,36)\"}},\"shapedefaults\":{\"fillcolor\":\"black\",\"line\":{\"width\":0},\"opacity\":0.3},\"ternary\":{\"aaxis\":{\"gridcolor\":\"rgb(232,232,232)\",\"linecolor\":\"rgb(36,36,36)\",\"showgrid\":false,\"showline\":true,\"ticks\":\"outside\"},\"baxis\":{\"gridcolor\":\"rgb(232,232,232)\",\"linecolor\":\"rgb(36,36,36)\",\"showgrid\":false,\"showline\":true,\"ticks\":\"outside\"},\"bgcolor\":\"white\",\"caxis\":{\"gridcolor\":\"rgb(232,232,232)\",\"linecolor\":\"rgb(36,36,36)\",\"showgrid\":false,\"showline\":true,\"ticks\":\"outside\"}},\"title\":{\"x\":0.05},\"xaxis\":{\"automargin\":true,\"gridcolor\":\"rgb(232,232,232)\",\"linecolor\":\"rgb(36,36,36)\",\"showgrid\":false,\"showline\":true,\"ticks\":\"outside\",\"title\":{\"standoff\":15},\"zeroline\":false,\"zerolinecolor\":\"rgb(36,36,36)\"},\"yaxis\":{\"automargin\":true,\"gridcolor\":\"rgb(232,232,232)\",\"linecolor\":\"rgb(36,36,36)\",\"showgrid\":false,\"showline\":true,\"ticks\":\"outside\",\"title\":{\"standoff\":15},\"zeroline\":false,\"zerolinecolor\":\"rgb(36,36,36)\"}}},\"title\":{\"font\":{\"size\":22,\"color\":\"Black\"},\"text\":\"<b>Episode topics\",\"x\":0.5,\"xanchor\":\"center\",\"yanchor\":\"top\"},\"width\":1200,\"height\":750},                        {\"responsive\": true}                    ).then(function(){\n",
       "                            \n",
       "var gd = document.getElementById('dbf48f53-bc9c-494e-88b6-cc131370a86a');\n",
       "var x = new MutationObserver(function (mutations, observer) {{\n",
       "        var display = window.getComputedStyle(gd).display;\n",
       "        if (!display || display === 'none') {{\n",
       "            console.log([gd, 'removed!']);\n",
       "            Plotly.purge(gd);\n",
       "            observer.disconnect();\n",
       "        }}\n",
       "}});\n",
       "\n",
       "// Listen for the removal of the full notebook cells\n",
       "var notebookContainer = gd.closest('#notebook-container');\n",
       "if (notebookContainer) {{\n",
       "    x.observe(notebookContainer, {childList: true});\n",
       "}}\n",
       "\n",
       "// Listen for the clearing of the current output cell\n",
       "var outputEl = gd.closest('.output');\n",
       "if (outputEl) {{\n",
       "    x.observe(outputEl, {childList: true});\n",
       "}}\n",
       "\n",
       "                        })                };                });            </script>        </div>"
      ]
     },
     "metadata": {},
     "output_type": "display_data"
    }
   ],
   "source": [
    "visualize_episodes(topic_model, simpsons_episodes, reduced_embeddings = tsne_embeddings_3d)"
   ]
  },
  {
   "cell_type": "code",
   "execution_count": null,
   "id": "b58656ee-7a94-47d9-8308-cf10c5dfffe1",
   "metadata": {},
   "outputs": [],
   "source": []
  }
 ],
 "metadata": {
  "kernelspec": {
   "display_name": "Python 3 (ipykernel)",
   "language": "python",
   "name": "python3"
  },
  "language_info": {
   "codemirror_mode": {
    "name": "ipython",
    "version": 3
   },
   "file_extension": ".py",
   "mimetype": "text/x-python",
   "name": "python",
   "nbconvert_exporter": "python",
   "pygments_lexer": "ipython3",
   "version": "3.11.3"
  }
 },
 "nbformat": 4,
 "nbformat_minor": 5
}
