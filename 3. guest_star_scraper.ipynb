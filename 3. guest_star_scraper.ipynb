{
 "cells": [
  {
   "cell_type": "markdown",
   "metadata": {},
   "source": [
    "# Celebrity Guest Stars (from Wikipedia)"
   ]
  },
  {
   "cell_type": "markdown",
   "metadata": {},
   "source": [
    "Identify which episodes had Special Guest Stars. \n",
    "\n",
    "Unfortunately, there does not appear to be a simple list for this, so we have to use the full list of guest stars and reduce it."
   ]
  },
  {
   "cell_type": "code",
   "execution_count": 1,
   "metadata": {},
   "outputs": [],
   "source": [
    "# First 20 seasons\n",
    "# https://en.wikipedia.org/wiki/List_of_The_Simpsons_guest_stars_(seasons_1%E2%80%9320)\n",
    "\n",
    "# Seasons 21 - current\n",
    "# https://en.wikipedia.org/wiki/List_of_The_Simpsons_guest_stars\n",
    "\n",
    "from requests import get\n",
    "from bs4 import BeautifulSoup\n",
    "import pandas as pd"
   ]
  },
  {
   "cell_type": "markdown",
   "metadata": {},
   "source": [
    "# Functions"
   ]
  },
  {
   "cell_type": "code",
   "execution_count": 2,
   "metadata": {},
   "outputs": [],
   "source": [
    "def scrape_tables(wiki_url):\n",
    "    \"\"\"Get episode tables (for each season) from wikipedia\"\"\"\n",
    "    \n",
    "    # Request from the server the content of the web page by using get()\n",
    "    response = get(wiki_url)\n",
    "\n",
    "    # Parse the content of the request with BeautifulSoup\n",
    "    page_html = BeautifulSoup(response.text, 'html.parser')\n",
    "    guest_table = page_html.find('table', class_='sortable')\n",
    "    \n",
    "    return guest_table"
   ]
  },
  {
   "cell_type": "code",
   "execution_count": 3,
   "metadata": {},
   "outputs": [],
   "source": [
    "def extract_row_details(rows):\n",
    "    guest_list = []\n",
    "    for row in rows:\n",
    "        name = row.find('th')\n",
    "        name = name.text.strip()\n",
    "        cols=row.find_all('td')\n",
    "        cols=[x.text.strip() for x in cols]\n",
    "        cols.append(name)\n",
    "        guest_list.append(cols)\n",
    "\n",
    "    del guest_list[0] # Delete header \n",
    "    return guest_list"
   ]
  },
  {
   "cell_type": "code",
   "execution_count": 4,
   "metadata": {},
   "outputs": [],
   "source": [
    "def convert_row_array(guest_list):\n",
    "    guests = pd.DataFrame(guest_list, columns=['season', 'role', 'no', \n",
    "                                           'prodCode', 'epTitle', 'GuestStar'])\n",
    "    return guests"
   ]
  },
  {
   "cell_type": "markdown",
   "metadata": {},
   "source": [
    "# Scrape wikipedia"
   ]
  },
  {
   "cell_type": "code",
   "execution_count": 5,
   "metadata": {},
   "outputs": [],
   "source": [
    "url1 = 'https://en.wikipedia.org/wiki/List_of_The_Simpsons_guest_stars_(seasons_1%E2%80%9320)'\n",
    "url2 = 'https://en.wikipedia.org/wiki/List_of_The_Simpsons_guest_stars'"
   ]
  },
  {
   "cell_type": "code",
   "execution_count": 6,
   "metadata": {},
   "outputs": [],
   "source": [
    "guest_tables1 = scrape_tables(url1)\n",
    "guest_tables2 = scrape_tables(url2)"
   ]
  },
  {
   "cell_type": "code",
   "execution_count": 7,
   "metadata": {},
   "outputs": [],
   "source": [
    "rows1 = guest_tables1.find_all('tr')\n",
    "rows2 = guest_tables2.find_all('tr')\n",
    "rows = rows1 + rows2\n",
    "\n",
    "guest_list = extract_row_details(rows)"
   ]
  },
  {
   "cell_type": "code",
   "execution_count": 8,
   "metadata": {},
   "outputs": [],
   "source": [
    "guests = convert_row_array(guest_list)\n",
    "guests = guests.dropna()"
   ]
  },
  {
   "cell_type": "code",
   "execution_count": 9,
   "metadata": {
    "scrolled": true
   },
   "outputs": [
    {
     "data": {
      "text/html": [
       "<div>\n",
       "<style scoped>\n",
       "    .dataframe tbody tr th:only-of-type {\n",
       "        vertical-align: middle;\n",
       "    }\n",
       "\n",
       "    .dataframe tbody tr th {\n",
       "        vertical-align: top;\n",
       "    }\n",
       "\n",
       "    .dataframe thead th {\n",
       "        text-align: right;\n",
       "    }\n",
       "</style>\n",
       "<table border=\"1\" class=\"dataframe\">\n",
       "  <thead>\n",
       "    <tr style=\"text-align: right;\">\n",
       "      <th></th>\n",
       "      <th>season</th>\n",
       "      <th>role</th>\n",
       "      <th>no</th>\n",
       "      <th>prodCode</th>\n",
       "      <th>epTitle</th>\n",
       "      <th>GuestStar</th>\n",
       "    </tr>\n",
       "  </thead>\n",
       "  <tbody>\n",
       "    <tr>\n",
       "      <th>0</th>\n",
       "      <td>1</td>\n",
       "      <td>Edna Krabappel Ms. Melon</td>\n",
       "      <td>002–102</td>\n",
       "      <td>7G02</td>\n",
       "      <td>\"Bart the Genius\"</td>\n",
       "      <td>Marcia Wallace</td>\n",
       "    </tr>\n",
       "    <tr>\n",
       "      <th>1</th>\n",
       "      <td>1</td>\n",
       "      <td>Worker</td>\n",
       "      <td>003–103</td>\n",
       "      <td>7G03</td>\n",
       "      <td>\"Homer's Odyssey\"[35]</td>\n",
       "      <td>Sam McMurray</td>\n",
       "    </tr>\n",
       "    <tr>\n",
       "      <th>2</th>\n",
       "      <td>1</td>\n",
       "      <td>Edna Krabappel</td>\n",
       "      <td>003–103</td>\n",
       "      <td>7G03</td>\n",
       "      <td>\"Homer's Odyssey\"</td>\n",
       "      <td>Marcia Wallace</td>\n",
       "    </tr>\n",
       "    <tr>\n",
       "      <th>3</th>\n",
       "      <td>1</td>\n",
       "      <td>Ms. Barr</td>\n",
       "      <td>006–106</td>\n",
       "      <td>7G06</td>\n",
       "      <td>\"Moaning Lisa\"</td>\n",
       "      <td>Miriam Flynn</td>\n",
       "    </tr>\n",
       "    <tr>\n",
       "      <th>4</th>\n",
       "      <td>1</td>\n",
       "      <td>Bleeding Gums Murphy</td>\n",
       "      <td>006–106</td>\n",
       "      <td>7G06</td>\n",
       "      <td>\"Moaning Lisa\"[36]</td>\n",
       "      <td>Ron Taylor</td>\n",
       "    </tr>\n",
       "  </tbody>\n",
       "</table>\n",
       "</div>"
      ],
      "text/plain": [
       "  season                      role       no prodCode                epTitle  \\\n",
       "0      1  Edna Krabappel Ms. Melon  002–102     7G02      \"Bart the Genius\"   \n",
       "1      1                    Worker  003–103     7G03  \"Homer's Odyssey\"[35]   \n",
       "2      1            Edna Krabappel  003–103     7G03      \"Homer's Odyssey\"   \n",
       "3      1                  Ms. Barr  006–106     7G06         \"Moaning Lisa\"   \n",
       "4      1      Bleeding Gums Murphy  006–106     7G06     \"Moaning Lisa\"[36]   \n",
       "\n",
       "        GuestStar  \n",
       "0  Marcia Wallace  \n",
       "1    Sam McMurray  \n",
       "2  Marcia Wallace  \n",
       "3    Miriam Flynn  \n",
       "4      Ron Taylor  "
      ]
     },
     "execution_count": 9,
     "metadata": {},
     "output_type": "execute_result"
    }
   ],
   "source": [
    "guests.head()"
   ]
  },
  {
   "cell_type": "code",
   "execution_count": 10,
   "metadata": {
    "scrolled": true
   },
   "outputs": [
    {
     "data": {
      "text/plain": [
       "Marcia Wallace              174\n",
       "Phil Hartman                 52\n",
       "Joe Mantegna                 34\n",
       "Maurice LaMarche             25\n",
       "Kelsey Grammer               22\n",
       "Frank Welker                 21\n",
       "Jon Lovitz                   20\n",
       "Kevin Michael Richardson     17\n",
       "Jackie Mason                 11\n",
       "Glenn Close                  10\n",
       "Michael Dees                  8\n",
       "Terry W. Greene               8\n",
       "Jane Kaczmarek                8\n",
       "Dawnn Lewis                   8\n",
       "Kipp Lennon                   8\n",
       "Albert Brooks                 7\n",
       "Valerie Harper                7\n",
       "Sally Stevens                 7\n",
       "Jan Hooks                     6\n",
       "Stacy Keach                   6\n",
       "Michael York                  6\n",
       "Dana Gould                    6\n",
       "George Takei                  5\n",
       "J. K. Simmons                 5\n",
       "Ken Burns                     4\n",
       "Scott Thompson                4\n",
       "Stephen Hawking               4\n",
       "Eric Idle                     4\n",
       "Renee Ridgeley                4\n",
       "Charles Napier                4\n",
       "                           ... \n",
       "Richard Nixon (archival)      1\n",
       "Jonathan Taylor Thomas        1\n",
       "Chris Martin[C]               1\n",
       "Steve Martin                  1\n",
       "Werner Klemperer              1\n",
       "Anne Bancroft                 1\n",
       "Ken Jeong                     1\n",
       "Lisa Leslie                   1\n",
       "Pat O'Brien                   1\n",
       "Edward Asner                  1\n",
       "Jack Sheldon                  1\n",
       "Little Richard                1\n",
       "Yaya DaCosta                  1\n",
       "Larry McKay                   1\n",
       "Olivia Colman                 1\n",
       "Okilly Dokilly[M]             1\n",
       "The Dapper Dans[G]            1\n",
       "Matt Dillon                   1\n",
       "The Moody Blues[M]            1\n",
       "Rhys Darby                    1\n",
       "Randy Bachman                 1\n",
       "Helen Hunt                    1\n",
       "James Taylor                  1\n",
       "Mary Badham (archival)        1\n",
       "Jason Nash                    1\n",
       "RZA                           1\n",
       "Green Day[W]                  1\n",
       "Stellan Skarsgård             1\n",
       "Ted Moock                     1\n",
       "Audrey Meadows                1\n",
       "Name: GuestStar, Length: 860, dtype: int64"
      ]
     },
     "execution_count": 10,
     "metadata": {},
     "output_type": "execute_result"
    }
   ],
   "source": [
    "guests['GuestStar'].value_counts()"
   ]
  },
  {
   "cell_type": "code",
   "execution_count": 11,
   "metadata": {},
   "outputs": [],
   "source": [
    "guests.to_excel('guest_stars.xlsx')"
   ]
  },
  {
   "cell_type": "markdown",
   "metadata": {},
   "source": [
    "# Filtering out the 'Celebrity Guests'"
   ]
  },
  {
   "cell_type": "markdown",
   "metadata": {},
   "source": [
    "Guests that only appeared once"
   ]
  },
  {
   "cell_type": "code",
   "execution_count": 12,
   "metadata": {},
   "outputs": [],
   "source": [
    "ep_count = guests['GuestStar'].value_counts()\n",
    "keep_names = ep_count[ep_count == 1].index # Idenfity people that appeared once"
   ]
  },
  {
   "cell_type": "code",
   "execution_count": 13,
   "metadata": {},
   "outputs": [],
   "source": [
    "guests_single_appearance = guests[guests['GuestStar'].isin(keep_names)]"
   ]
  },
  {
   "cell_type": "code",
   "execution_count": 14,
   "metadata": {},
   "outputs": [
    {
     "data": {
      "text/html": [
       "<div>\n",
       "<style scoped>\n",
       "    .dataframe tbody tr th:only-of-type {\n",
       "        vertical-align: middle;\n",
       "    }\n",
       "\n",
       "    .dataframe tbody tr th {\n",
       "        vertical-align: top;\n",
       "    }\n",
       "\n",
       "    .dataframe thead th {\n",
       "        text-align: right;\n",
       "    }\n",
       "</style>\n",
       "<table border=\"1\" class=\"dataframe\">\n",
       "  <thead>\n",
       "    <tr style=\"text-align: right;\">\n",
       "      <th></th>\n",
       "      <th>season</th>\n",
       "      <th>role</th>\n",
       "      <th>no</th>\n",
       "      <th>prodCode</th>\n",
       "      <th>epTitle</th>\n",
       "      <th>GuestStar</th>\n",
       "    </tr>\n",
       "  </thead>\n",
       "  <tbody>\n",
       "    <tr>\n",
       "      <th>3</th>\n",
       "      <td>1</td>\n",
       "      <td>Ms. Barr</td>\n",
       "      <td>006–106</td>\n",
       "      <td>7G06</td>\n",
       "      <td>\"Moaning Lisa\"</td>\n",
       "      <td>Miriam Flynn</td>\n",
       "    </tr>\n",
       "    <tr>\n",
       "      <th>5</th>\n",
       "      <td>1</td>\n",
       "      <td>Cowboy Bob</td>\n",
       "      <td>007–107</td>\n",
       "      <td>7G09</td>\n",
       "      <td>\"The Call of the Simpsons\"[37]</td>\n",
       "      <td>Albert Brooks[B]</td>\n",
       "    </tr>\n",
       "    <tr>\n",
       "      <th>9</th>\n",
       "      <td>1</td>\n",
       "      <td>Gendarme Officer</td>\n",
       "      <td>011–111</td>\n",
       "      <td>7G13</td>\n",
       "      <td>\"The Crepes of Wrath\"</td>\n",
       "      <td>Christian Coffinet</td>\n",
       "    </tr>\n",
       "    <tr>\n",
       "      <th>11</th>\n",
       "      <td>1</td>\n",
       "      <td>Babysitter service receptionistDoofy the Elf</td>\n",
       "      <td>013–113</td>\n",
       "      <td>7G01</td>\n",
       "      <td>\"Some Enchanted Evening\"[41]</td>\n",
       "      <td>June Foray</td>\n",
       "    </tr>\n",
       "    <tr>\n",
       "      <th>12</th>\n",
       "      <td>1</td>\n",
       "      <td>Ms. Botz / Lucille Botzcowski</td>\n",
       "      <td>013–113</td>\n",
       "      <td>7G01</td>\n",
       "      <td>\"Some Enchanted Evening\"[42]</td>\n",
       "      <td>Penny Marshall</td>\n",
       "    </tr>\n",
       "  </tbody>\n",
       "</table>\n",
       "</div>"
      ],
      "text/plain": [
       "   season                                          role       no prodCode  \\\n",
       "3       1                                      Ms. Barr  006–106     7G06   \n",
       "5       1                                    Cowboy Bob  007–107     7G09   \n",
       "9       1                              Gendarme Officer  011–111     7G13   \n",
       "11      1  Babysitter service receptionistDoofy the Elf  013–113     7G01   \n",
       "12      1                 Ms. Botz / Lucille Botzcowski  013–113     7G01   \n",
       "\n",
       "                           epTitle           GuestStar  \n",
       "3                   \"Moaning Lisa\"        Miriam Flynn  \n",
       "5   \"The Call of the Simpsons\"[37]    Albert Brooks[B]  \n",
       "9            \"The Crepes of Wrath\"  Christian Coffinet  \n",
       "11    \"Some Enchanted Evening\"[41]          June Foray  \n",
       "12    \"Some Enchanted Evening\"[42]      Penny Marshall  "
      ]
     },
     "execution_count": 14,
     "metadata": {},
     "output_type": "execute_result"
    }
   ],
   "source": [
    "guests_single_appearance.head()"
   ]
  },
  {
   "cell_type": "code",
   "execution_count": 15,
   "metadata": {},
   "outputs": [
    {
     "data": {
      "text/plain": [
       "(722, 6)"
      ]
     },
     "execution_count": 15,
     "metadata": {},
     "output_type": "execute_result"
    }
   ],
   "source": [
    "guests_single_appearance.shape"
   ]
  },
  {
   "cell_type": "markdown",
   "metadata": {},
   "source": [
    "Identify guests that are listed as 'Himself', 'Herself', 'Themselves', 'Narrator'"
   ]
  },
  {
   "cell_type": "code",
   "execution_count": 16,
   "metadata": {},
   "outputs": [],
   "source": [
    "celeb_markers = ['Himself', 'Herself', 'Themselves', 'Narrator'] # People credited as themselves are most likely celebrity guests"
   ]
  },
  {
   "cell_type": "code",
   "execution_count": 17,
   "metadata": {},
   "outputs": [],
   "source": [
    "guests_themselves = pd.DataFrame(columns = guests.columns)\n",
    "for role in celeb_markers:\n",
    "    temp = guests[guests['role'].str.contains(role)]\n",
    "    guests_themselves = guests_themselves.append(temp)"
   ]
  },
  {
   "cell_type": "code",
   "execution_count": 18,
   "metadata": {
    "scrolled": true
   },
   "outputs": [
    {
     "data": {
      "text/html": [
       "<div>\n",
       "<style scoped>\n",
       "    .dataframe tbody tr th:only-of-type {\n",
       "        vertical-align: middle;\n",
       "    }\n",
       "\n",
       "    .dataframe tbody tr th {\n",
       "        vertical-align: top;\n",
       "    }\n",
       "\n",
       "    .dataframe thead th {\n",
       "        text-align: right;\n",
       "    }\n",
       "</style>\n",
       "<table border=\"1\" class=\"dataframe\">\n",
       "  <thead>\n",
       "    <tr style=\"text-align: right;\">\n",
       "      <th></th>\n",
       "      <th>season</th>\n",
       "      <th>role</th>\n",
       "      <th>no</th>\n",
       "      <th>prodCode</th>\n",
       "      <th>epTitle</th>\n",
       "      <th>GuestStar</th>\n",
       "    </tr>\n",
       "  </thead>\n",
       "  <tbody>\n",
       "    <tr>\n",
       "      <th>17</th>\n",
       "      <td>2</td>\n",
       "      <td>Himself</td>\n",
       "      <td>018–205</td>\n",
       "      <td>7F05</td>\n",
       "      <td>\"Dancin' Homer\"[45]</td>\n",
       "      <td>Tony Bennett</td>\n",
       "    </tr>\n",
       "    <tr>\n",
       "      <th>25</th>\n",
       "      <td>2</td>\n",
       "      <td>Himself</td>\n",
       "      <td>024–211</td>\n",
       "      <td>7F11</td>\n",
       "      <td>\"One Fish, Two Fish, Blowfish, Blue Fish\"[51]</td>\n",
       "      <td>Larry King</td>\n",
       "    </tr>\n",
       "    <tr>\n",
       "      <th>40</th>\n",
       "      <td>2</td>\n",
       "      <td>Himself</td>\n",
       "      <td>031–218</td>\n",
       "      <td>7F18</td>\n",
       "      <td>\"Brush with Greatness\"[60]</td>\n",
       "      <td>Ringo Starr</td>\n",
       "    </tr>\n",
       "    <tr>\n",
       "      <th>48</th>\n",
       "      <td>3</td>\n",
       "      <td>Himself playing Bart Simpson</td>\n",
       "      <td>039–304</td>\n",
       "      <td>8F03</td>\n",
       "      <td>\"Bart the Murderer\"[66]</td>\n",
       "      <td>Neil Patrick Harris</td>\n",
       "    </tr>\n",
       "    <tr>\n",
       "      <th>50</th>\n",
       "      <td>3</td>\n",
       "      <td>Fat TonyHimself playing Fat Tony</td>\n",
       "      <td>039–304</td>\n",
       "      <td>8F03</td>\n",
       "      <td>\"Bart the Murderer\"[66]</td>\n",
       "      <td>Joe Mantegna</td>\n",
       "    </tr>\n",
       "  </tbody>\n",
       "</table>\n",
       "</div>"
      ],
      "text/plain": [
       "   season                              role       no prodCode  \\\n",
       "17      2                           Himself  018–205     7F05   \n",
       "25      2                           Himself  024–211     7F11   \n",
       "40      2                           Himself  031–218     7F18   \n",
       "48      3      Himself playing Bart Simpson  039–304     8F03   \n",
       "50      3  Fat TonyHimself playing Fat Tony  039–304     8F03   \n",
       "\n",
       "                                          epTitle            GuestStar  \n",
       "17                            \"Dancin' Homer\"[45]         Tony Bennett  \n",
       "25  \"One Fish, Two Fish, Blowfish, Blue Fish\"[51]           Larry King  \n",
       "40                     \"Brush with Greatness\"[60]          Ringo Starr  \n",
       "48                        \"Bart the Murderer\"[66]  Neil Patrick Harris  \n",
       "50                        \"Bart the Murderer\"[66]         Joe Mantegna  "
      ]
     },
     "execution_count": 18,
     "metadata": {},
     "output_type": "execute_result"
    }
   ],
   "source": [
    "guests_themselves.head()"
   ]
  },
  {
   "cell_type": "markdown",
   "metadata": {},
   "source": [
    "# Combine into a single data-frame"
   ]
  },
  {
   "cell_type": "code",
   "execution_count": 19,
   "metadata": {
    "scrolled": true
   },
   "outputs": [],
   "source": [
    "guests_list = guests_themselves.append(guests_single_appearance)\n",
    "guests_list = guests_list.reset_index(drop=True)\n",
    "guests_list = guests_list.drop_duplicates()"
   ]
  },
  {
   "cell_type": "code",
   "execution_count": 20,
   "metadata": {},
   "outputs": [
    {
     "data": {
      "text/html": [
       "<div>\n",
       "<style scoped>\n",
       "    .dataframe tbody tr th:only-of-type {\n",
       "        vertical-align: middle;\n",
       "    }\n",
       "\n",
       "    .dataframe tbody tr th {\n",
       "        vertical-align: top;\n",
       "    }\n",
       "\n",
       "    .dataframe thead th {\n",
       "        text-align: right;\n",
       "    }\n",
       "</style>\n",
       "<table border=\"1\" class=\"dataframe\">\n",
       "  <thead>\n",
       "    <tr style=\"text-align: right;\">\n",
       "      <th></th>\n",
       "      <th>season</th>\n",
       "      <th>role</th>\n",
       "      <th>no</th>\n",
       "      <th>prodCode</th>\n",
       "      <th>epTitle</th>\n",
       "      <th>GuestStar</th>\n",
       "    </tr>\n",
       "  </thead>\n",
       "  <tbody>\n",
       "    <tr>\n",
       "      <th>0</th>\n",
       "      <td>2</td>\n",
       "      <td>Himself</td>\n",
       "      <td>018–205</td>\n",
       "      <td>7F05</td>\n",
       "      <td>\"Dancin' Homer\"[45]</td>\n",
       "      <td>Tony Bennett</td>\n",
       "    </tr>\n",
       "    <tr>\n",
       "      <th>1</th>\n",
       "      <td>2</td>\n",
       "      <td>Himself</td>\n",
       "      <td>024–211</td>\n",
       "      <td>7F11</td>\n",
       "      <td>\"One Fish, Two Fish, Blowfish, Blue Fish\"[51]</td>\n",
       "      <td>Larry King</td>\n",
       "    </tr>\n",
       "    <tr>\n",
       "      <th>2</th>\n",
       "      <td>2</td>\n",
       "      <td>Himself</td>\n",
       "      <td>031–218</td>\n",
       "      <td>7F18</td>\n",
       "      <td>\"Brush with Greatness\"[60]</td>\n",
       "      <td>Ringo Starr</td>\n",
       "    </tr>\n",
       "    <tr>\n",
       "      <th>3</th>\n",
       "      <td>3</td>\n",
       "      <td>Himself playing Bart Simpson</td>\n",
       "      <td>039–304</td>\n",
       "      <td>8F03</td>\n",
       "      <td>\"Bart the Murderer\"[66]</td>\n",
       "      <td>Neil Patrick Harris</td>\n",
       "    </tr>\n",
       "    <tr>\n",
       "      <th>4</th>\n",
       "      <td>3</td>\n",
       "      <td>Fat TonyHimself playing Fat Tony</td>\n",
       "      <td>039–304</td>\n",
       "      <td>8F03</td>\n",
       "      <td>\"Bart the Murderer\"[66]</td>\n",
       "      <td>Joe Mantegna</td>\n",
       "    </tr>\n",
       "  </tbody>\n",
       "</table>\n",
       "</div>"
      ],
      "text/plain": [
       "  season                              role       no prodCode  \\\n",
       "0      2                           Himself  018–205     7F05   \n",
       "1      2                           Himself  024–211     7F11   \n",
       "2      2                           Himself  031–218     7F18   \n",
       "3      3      Himself playing Bart Simpson  039–304     8F03   \n",
       "4      3  Fat TonyHimself playing Fat Tony  039–304     8F03   \n",
       "\n",
       "                                         epTitle            GuestStar  \n",
       "0                            \"Dancin' Homer\"[45]         Tony Bennett  \n",
       "1  \"One Fish, Two Fish, Blowfish, Blue Fish\"[51]           Larry King  \n",
       "2                     \"Brush with Greatness\"[60]          Ringo Starr  \n",
       "3                        \"Bart the Murderer\"[66]  Neil Patrick Harris  \n",
       "4                        \"Bart the Murderer\"[66]         Joe Mantegna  "
      ]
     },
     "execution_count": 20,
     "metadata": {},
     "output_type": "execute_result"
    }
   ],
   "source": [
    "guests_list.head()"
   ]
  },
  {
   "cell_type": "code",
   "execution_count": 21,
   "metadata": {},
   "outputs": [
    {
     "data": {
      "text/plain": [
       "(827, 6)"
      ]
     },
     "execution_count": 21,
     "metadata": {},
     "output_type": "execute_result"
    }
   ],
   "source": [
    "guests_list.shape"
   ]
  },
  {
   "cell_type": "code",
   "execution_count": null,
   "metadata": {},
   "outputs": [],
   "source": []
  }
 ],
 "metadata": {
  "kernelspec": {
   "display_name": "Python 3 (ipykernel)",
   "language": "python",
   "name": "python3"
  },
  "language_info": {
   "codemirror_mode": {
    "name": "ipython",
    "version": 3
   },
   "file_extension": ".py",
   "mimetype": "text/x-python",
   "name": "python",
   "nbconvert_exporter": "python",
   "pygments_lexer": "ipython3",
   "version": "3.11.3"
  }
 },
 "nbformat": 4,
 "nbformat_minor": 2
}
