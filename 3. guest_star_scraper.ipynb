{
 "cells": [
  {
   "cell_type": "markdown",
   "metadata": {},
   "source": [
    "# Celebrity Guest Stars (from Wikipedia)"
   ]
  },
  {
   "cell_type": "markdown",
   "metadata": {},
   "source": [
    "Identify which episodes had Special Guest Stars. \n",
    "\n",
    "Unfortunately, there does not appear to be a simple list for this, so we have to use the full list of guest stars and reduce it."
   ]
  },
  {
   "cell_type": "code",
   "execution_count": 8,
   "metadata": {},
   "outputs": [],
   "source": [
    "# First 20 seasons\n",
    "# https://en.wikipedia.org/wiki/List_of_The_Simpsons_guest_stars_(seasons_1%E2%80%9320)\n",
    "\n",
    "# Seasons 21 - current\n",
    "# https://en.wikipedia.org/wiki/List_of_The_Simpsons_guest_stars_(seasons_21%E2%80%93present)\n",
    "\n",
    "from requests import get\n",
    "from bs4 import BeautifulSoup\n",
    "import pandas as pd"
   ]
  },
  {
   "cell_type": "markdown",
   "metadata": {},
   "source": [
    "# Functions"
   ]
  },
  {
   "cell_type": "code",
   "execution_count": 9,
   "metadata": {},
   "outputs": [],
   "source": [
    "def scrape_tables(wiki_url):\n",
    "    \"\"\"Get episode tables (for each season) from wikipedia\"\"\"\n",
    "    \n",
    "    # Request from the server the content of the web page by using get()\n",
    "    response = get(wiki_url)\n",
    "\n",
    "    # Parse the content of the request with BeautifulSoup\n",
    "    page_html = BeautifulSoup(response.text, 'html.parser')\n",
    "    guest_table = page_html.find('table', class_='sortable')\n",
    "    \n",
    "    return guest_table"
   ]
  },
  {
   "cell_type": "code",
   "execution_count": 10,
   "metadata": {},
   "outputs": [],
   "source": [
    "def extract_row_details(rows):\n",
    "    guest_list = []\n",
    "    for row in rows:\n",
    "        name = row.find('th')\n",
    "        name = name.text.strip()\n",
    "        cols=row.find_all('td')\n",
    "        cols=[x.text.strip() for x in cols]\n",
    "        cols.append(name)\n",
    "        guest_list.append(cols)\n",
    "\n",
    "    del guest_list[0] # Delete header \n",
    "    return guest_list"
   ]
  },
  {
   "cell_type": "code",
   "execution_count": 11,
   "metadata": {},
   "outputs": [],
   "source": [
    "def convert_row_array(guest_list):\n",
    "    guests = pd.DataFrame(guest_list, columns=['season', 'role', 'no', \n",
    "                                           'prodCode', 'epTitle', 'GuestStar'])\n",
    "    return guests"
   ]
  },
  {
   "cell_type": "markdown",
   "metadata": {},
   "source": [
    "# Scrape wikipedia"
   ]
  },
  {
   "cell_type": "code",
   "execution_count": 12,
   "metadata": {},
   "outputs": [],
   "source": [
    "url1 = 'https://en.wikipedia.org/wiki/List_of_The_Simpsons_guest_stars_(seasons_1%E2%80%9320)'\n",
    "url2 = 'https://en.wikipedia.org/wiki/List_of_The_Simpsons_guest_stars_(seasons_21%E2%80%93present)'"
   ]
  },
  {
   "cell_type": "code",
   "execution_count": 13,
   "metadata": {},
   "outputs": [],
   "source": [
    "guest_tables1 = scrape_tables(url1)\n",
    "guest_tables2 = scrape_tables(url2)"
   ]
  },
  {
   "cell_type": "code",
   "execution_count": 14,
   "metadata": {},
   "outputs": [],
   "source": [
    "rows1 = guest_tables1.find_all('tr')\n",
    "rows2 = guest_tables2.find_all('tr')\n",
    "rows = rows1 + rows2\n",
    "\n",
    "guest_list = extract_row_details(rows)"
   ]
  },
  {
   "cell_type": "code",
   "execution_count": 15,
   "metadata": {},
   "outputs": [],
   "source": [
    "guests = convert_row_array(guest_list)\n",
    "guests = guests.dropna()"
   ]
  },
  {
   "cell_type": "code",
   "execution_count": 16,
   "metadata": {
    "scrolled": true
   },
   "outputs": [
    {
     "data": {
      "text/html": [
       "<div>\n",
       "<style scoped>\n",
       "    .dataframe tbody tr th:only-of-type {\n",
       "        vertical-align: middle;\n",
       "    }\n",
       "\n",
       "    .dataframe tbody tr th {\n",
       "        vertical-align: top;\n",
       "    }\n",
       "\n",
       "    .dataframe thead th {\n",
       "        text-align: right;\n",
       "    }\n",
       "</style>\n",
       "<table border=\"1\" class=\"dataframe\">\n",
       "  <thead>\n",
       "    <tr style=\"text-align: right;\">\n",
       "      <th></th>\n",
       "      <th>season</th>\n",
       "      <th>role</th>\n",
       "      <th>no</th>\n",
       "      <th>prodCode</th>\n",
       "      <th>epTitle</th>\n",
       "      <th>GuestStar</th>\n",
       "    </tr>\n",
       "  </thead>\n",
       "  <tbody>\n",
       "    <tr>\n",
       "      <th>0</th>\n",
       "      <td>1</td>\n",
       "      <td>Edna Krabappel Ms. Melon</td>\n",
       "      <td>002–102</td>\n",
       "      <td>7G02</td>\n",
       "      <td>\"Bart the Genius\"</td>\n",
       "      <td>Marcia Wallace</td>\n",
       "    </tr>\n",
       "    <tr>\n",
       "      <th>1</th>\n",
       "      <td>1</td>\n",
       "      <td>Worker</td>\n",
       "      <td>003–103</td>\n",
       "      <td>7G03</td>\n",
       "      <td>\"Homer's Odyssey\"[35]</td>\n",
       "      <td>Sam McMurray</td>\n",
       "    </tr>\n",
       "    <tr>\n",
       "      <th>2</th>\n",
       "      <td>1</td>\n",
       "      <td>Edna Krabappel</td>\n",
       "      <td>003–103</td>\n",
       "      <td>7G03</td>\n",
       "      <td>\"Homer's Odyssey\"</td>\n",
       "      <td>Marcia Wallace</td>\n",
       "    </tr>\n",
       "    <tr>\n",
       "      <th>3</th>\n",
       "      <td>1</td>\n",
       "      <td>Ms. Barr</td>\n",
       "      <td>006–106</td>\n",
       "      <td>7G06</td>\n",
       "      <td>\"Moaning Lisa\"</td>\n",
       "      <td>Miriam Flynn</td>\n",
       "    </tr>\n",
       "    <tr>\n",
       "      <th>4</th>\n",
       "      <td>1</td>\n",
       "      <td>Bleeding Gums Murphy</td>\n",
       "      <td>006–106</td>\n",
       "      <td>7G06</td>\n",
       "      <td>\"Moaning Lisa\"[36]</td>\n",
       "      <td>Ron Taylor</td>\n",
       "    </tr>\n",
       "  </tbody>\n",
       "</table>\n",
       "</div>"
      ],
      "text/plain": [
       "  season                      role       no prodCode                epTitle  \\\n",
       "0      1  Edna Krabappel Ms. Melon  002–102     7G02      \"Bart the Genius\"   \n",
       "1      1                    Worker  003–103     7G03  \"Homer's Odyssey\"[35]   \n",
       "2      1            Edna Krabappel  003–103     7G03      \"Homer's Odyssey\"   \n",
       "3      1                  Ms. Barr  006–106     7G06         \"Moaning Lisa\"   \n",
       "4      1      Bleeding Gums Murphy  006–106     7G06     \"Moaning Lisa\"[36]   \n",
       "\n",
       "        GuestStar  \n",
       "0  Marcia Wallace  \n",
       "1    Sam McMurray  \n",
       "2  Marcia Wallace  \n",
       "3    Miriam Flynn  \n",
       "4      Ron Taylor  "
      ]
     },
     "execution_count": 16,
     "metadata": {},
     "output_type": "execute_result"
    }
   ],
   "source": [
    "guests.head()"
   ]
  },
  {
   "cell_type": "code",
   "execution_count": 17,
   "metadata": {
    "tags": []
   },
   "outputs": [
    {
     "data": {
      "text/plain": [
       "(1594, 6)"
      ]
     },
     "execution_count": 17,
     "metadata": {},
     "output_type": "execute_result"
    }
   ],
   "source": [
    "guests.shape"
   ]
  },
  {
   "cell_type": "code",
   "execution_count": 18,
   "metadata": {
    "scrolled": true
   },
   "outputs": [
    {
     "data": {
      "text/plain": [
       "Marcia Wallace      174\n",
       "Phil Hartman         52\n",
       "Joe Mantegna         43\n",
       "Maurice LaMarche     27\n",
       "Kelsey Grammer       22\n",
       "                   ... \n",
       "Michelle Kwan         1\n",
       "Warren Sapp           1\n",
       "Yao Ming              1\n",
       "50 Cent               1\n",
       "Dick Van Dyke         1\n",
       "Name: GuestStar, Length: 936, dtype: int64"
      ]
     },
     "execution_count": 18,
     "metadata": {},
     "output_type": "execute_result"
    }
   ],
   "source": [
    "guests['GuestStar'].value_counts()"
   ]
  },
  {
   "cell_type": "code",
   "execution_count": 19,
   "metadata": {},
   "outputs": [],
   "source": [
    "#guests.to_excel('data/guest_stars.xlsx')"
   ]
  },
  {
   "cell_type": "markdown",
   "metadata": {},
   "source": [
    "# Filtering out the 'Celebrity Guests'"
   ]
  },
  {
   "cell_type": "markdown",
   "metadata": {},
   "source": [
    "### Limited Appearances"
   ]
  },
  {
   "cell_type": "markdown",
   "metadata": {},
   "source": [
    "Guests that only appeared up to 5 times (some actors, such as JK Simmons have appeared 3 times)."
   ]
  },
  {
   "cell_type": "code",
   "execution_count": 20,
   "metadata": {},
   "outputs": [],
   "source": [
    "ep_count = guests['GuestStar'].value_counts()\n",
    "keep_names1 = ep_count[ep_count == 1].index # Idenfity people that appeared once\n",
    "keep_names2 = ep_count[ep_count == 2].index # Idenfity people that appeared once\n",
    "keep_names3 = ep_count[ep_count == 3].index # Idenfity people that appeared once\n",
    "keep_names4 = ep_count[ep_count == 4].index # Idenfity people that appeared once\n",
    "keep_names5 = ep_count[ep_count == 5].index # Idenfity people that appeared once\n",
    "\n",
    "keep_names = keep_names1.append(keep_names2).append(keep_names3).append(keep_names4).append(keep_names5)"
   ]
  },
  {
   "cell_type": "code",
   "execution_count": 21,
   "metadata": {},
   "outputs": [],
   "source": [
    "guests_single_appearance = guests[guests['GuestStar'].isin(keep_names)]"
   ]
  },
  {
   "cell_type": "code",
   "execution_count": 22,
   "metadata": {},
   "outputs": [
    {
     "data": {
      "text/html": [
       "<div>\n",
       "<style scoped>\n",
       "    .dataframe tbody tr th:only-of-type {\n",
       "        vertical-align: middle;\n",
       "    }\n",
       "\n",
       "    .dataframe tbody tr th {\n",
       "        vertical-align: top;\n",
       "    }\n",
       "\n",
       "    .dataframe thead th {\n",
       "        text-align: right;\n",
       "    }\n",
       "</style>\n",
       "<table border=\"1\" class=\"dataframe\">\n",
       "  <thead>\n",
       "    <tr style=\"text-align: right;\">\n",
       "      <th></th>\n",
       "      <th>season</th>\n",
       "      <th>role</th>\n",
       "      <th>no</th>\n",
       "      <th>prodCode</th>\n",
       "      <th>epTitle</th>\n",
       "      <th>GuestStar</th>\n",
       "    </tr>\n",
       "  </thead>\n",
       "  <tbody>\n",
       "    <tr>\n",
       "      <th>1</th>\n",
       "      <td>1</td>\n",
       "      <td>Worker</td>\n",
       "      <td>003–103</td>\n",
       "      <td>7G03</td>\n",
       "      <td>\"Homer's Odyssey\"[35]</td>\n",
       "      <td>Sam McMurray</td>\n",
       "    </tr>\n",
       "    <tr>\n",
       "      <th>3</th>\n",
       "      <td>1</td>\n",
       "      <td>Ms. Barr</td>\n",
       "      <td>006–106</td>\n",
       "      <td>7G06</td>\n",
       "      <td>\"Moaning Lisa\"</td>\n",
       "      <td>Miriam Flynn</td>\n",
       "    </tr>\n",
       "    <tr>\n",
       "      <th>4</th>\n",
       "      <td>1</td>\n",
       "      <td>Bleeding Gums Murphy</td>\n",
       "      <td>006–106</td>\n",
       "      <td>7G06</td>\n",
       "      <td>\"Moaning Lisa\"[36]</td>\n",
       "      <td>Ron Taylor</td>\n",
       "    </tr>\n",
       "    <tr>\n",
       "      <th>5</th>\n",
       "      <td>1</td>\n",
       "      <td>Cowboy Bob</td>\n",
       "      <td>007–107</td>\n",
       "      <td>7G09</td>\n",
       "      <td>\"The Call of the Simpsons\"[37]</td>\n",
       "      <td>Albert Brooks[B]</td>\n",
       "    </tr>\n",
       "    <tr>\n",
       "      <th>8</th>\n",
       "      <td>1</td>\n",
       "      <td>Gulliver Dark</td>\n",
       "      <td>010–110</td>\n",
       "      <td>7G10</td>\n",
       "      <td>\"Homer's Night Out\"[39]</td>\n",
       "      <td>Sam McMurray</td>\n",
       "    </tr>\n",
       "  </tbody>\n",
       "</table>\n",
       "</div>"
      ],
      "text/plain": [
       "  season                  role       no prodCode  \\\n",
       "1      1                Worker  003–103     7G03   \n",
       "3      1              Ms. Barr  006–106     7G06   \n",
       "4      1  Bleeding Gums Murphy  006–106     7G06   \n",
       "5      1            Cowboy Bob  007–107     7G09   \n",
       "8      1         Gulliver Dark  010–110     7G10   \n",
       "\n",
       "                          epTitle         GuestStar  \n",
       "1           \"Homer's Odyssey\"[35]      Sam McMurray  \n",
       "3                  \"Moaning Lisa\"      Miriam Flynn  \n",
       "4              \"Moaning Lisa\"[36]        Ron Taylor  \n",
       "5  \"The Call of the Simpsons\"[37]  Albert Brooks[B]  \n",
       "8         \"Homer's Night Out\"[39]      Sam McMurray  "
      ]
     },
     "execution_count": 22,
     "metadata": {},
     "output_type": "execute_result"
    }
   ],
   "source": [
    "guests_single_appearance.head()"
   ]
  },
  {
   "cell_type": "code",
   "execution_count": 23,
   "metadata": {
    "tags": []
   },
   "outputs": [
    {
     "data": {
      "text/plain": [
       "(1109, 6)"
      ]
     },
     "execution_count": 23,
     "metadata": {},
     "output_type": "execute_result"
    }
   ],
   "source": [
    "guests_single_appearance.shape"
   ]
  },
  {
   "cell_type": "markdown",
   "metadata": {},
   "source": [
    "### Starring as themselves"
   ]
  },
  {
   "cell_type": "markdown",
   "metadata": {},
   "source": [
    "Identify guests that are listed as 'Himself', 'Herself', 'Themselves', 'Narrator'"
   ]
  },
  {
   "cell_type": "code",
   "execution_count": 24,
   "metadata": {},
   "outputs": [],
   "source": [
    "celeb_markers = ['Himself', 'Herself', 'Themselves', 'Narrator'] # People credited as themselves are most likely celebrity guests"
   ]
  },
  {
   "cell_type": "code",
   "execution_count": 25,
   "metadata": {},
   "outputs": [],
   "source": [
    "guests_themselves = pd.DataFrame(columns = guests.columns)\n",
    "for role in celeb_markers:\n",
    "    temp = guests[guests['role'].str.contains(role)]\n",
    "    guests_themselves = pd.concat([guests_themselves, temp])"
   ]
  },
  {
   "cell_type": "code",
   "execution_count": 26,
   "metadata": {
    "scrolled": true
   },
   "outputs": [
    {
     "data": {
      "text/html": [
       "<div>\n",
       "<style scoped>\n",
       "    .dataframe tbody tr th:only-of-type {\n",
       "        vertical-align: middle;\n",
       "    }\n",
       "\n",
       "    .dataframe tbody tr th {\n",
       "        vertical-align: top;\n",
       "    }\n",
       "\n",
       "    .dataframe thead th {\n",
       "        text-align: right;\n",
       "    }\n",
       "</style>\n",
       "<table border=\"1\" class=\"dataframe\">\n",
       "  <thead>\n",
       "    <tr style=\"text-align: right;\">\n",
       "      <th></th>\n",
       "      <th>season</th>\n",
       "      <th>role</th>\n",
       "      <th>no</th>\n",
       "      <th>prodCode</th>\n",
       "      <th>epTitle</th>\n",
       "      <th>GuestStar</th>\n",
       "    </tr>\n",
       "  </thead>\n",
       "  <tbody>\n",
       "    <tr>\n",
       "      <th>17</th>\n",
       "      <td>2</td>\n",
       "      <td>Himself</td>\n",
       "      <td>018–205</td>\n",
       "      <td>7F05</td>\n",
       "      <td>\"Dancin' Homer\"[45]</td>\n",
       "      <td>Tony Bennett</td>\n",
       "    </tr>\n",
       "    <tr>\n",
       "      <th>25</th>\n",
       "      <td>2</td>\n",
       "      <td>Himself</td>\n",
       "      <td>024–211</td>\n",
       "      <td>7F11</td>\n",
       "      <td>\"One Fish, Two Fish, Blowfish, Blue Fish\"[51]</td>\n",
       "      <td>Larry King</td>\n",
       "    </tr>\n",
       "    <tr>\n",
       "      <th>40</th>\n",
       "      <td>2</td>\n",
       "      <td>Himself</td>\n",
       "      <td>031–218</td>\n",
       "      <td>7F18</td>\n",
       "      <td>\"Brush with Greatness\"[60]</td>\n",
       "      <td>Ringo Starr</td>\n",
       "    </tr>\n",
       "    <tr>\n",
       "      <th>47</th>\n",
       "      <td>3</td>\n",
       "      <td>Himself playing Bart Simpson</td>\n",
       "      <td>039–304</td>\n",
       "      <td>8F03</td>\n",
       "      <td>\"Bart the Murderer\"[65]</td>\n",
       "      <td>Neil Patrick Harris</td>\n",
       "    </tr>\n",
       "    <tr>\n",
       "      <th>49</th>\n",
       "      <td>3</td>\n",
       "      <td>Fat TonyHimself playing Fat Tony</td>\n",
       "      <td>039–304</td>\n",
       "      <td>8F03</td>\n",
       "      <td>\"Bart the Murderer\"[65]</td>\n",
       "      <td>Joe Mantegna</td>\n",
       "    </tr>\n",
       "  </tbody>\n",
       "</table>\n",
       "</div>"
      ],
      "text/plain": [
       "   season                              role       no prodCode  \\\n",
       "17      2                           Himself  018–205     7F05   \n",
       "25      2                           Himself  024–211     7F11   \n",
       "40      2                           Himself  031–218     7F18   \n",
       "47      3      Himself playing Bart Simpson  039–304     8F03   \n",
       "49      3  Fat TonyHimself playing Fat Tony  039–304     8F03   \n",
       "\n",
       "                                          epTitle            GuestStar  \n",
       "17                            \"Dancin' Homer\"[45]         Tony Bennett  \n",
       "25  \"One Fish, Two Fish, Blowfish, Blue Fish\"[51]           Larry King  \n",
       "40                     \"Brush with Greatness\"[60]          Ringo Starr  \n",
       "47                        \"Bart the Murderer\"[65]  Neil Patrick Harris  \n",
       "49                        \"Bart the Murderer\"[65]         Joe Mantegna  "
      ]
     },
     "execution_count": 26,
     "metadata": {},
     "output_type": "execute_result"
    }
   ],
   "source": [
    "guests_themselves.head()"
   ]
  },
  {
   "cell_type": "markdown",
   "metadata": {},
   "source": [
    "### Remove starring as themselves from limited appearances"
   ]
  },
  {
   "cell_type": "markdown",
   "metadata": {},
   "source": [
    "We do not to manually go through any guest stars that are listed as 'themselves' etc. so we can remove these from the guests to be manually parsed."
   ]
  },
  {
   "cell_type": "code",
   "execution_count": 80,
   "metadata": {
    "tags": []
   },
   "outputs": [],
   "source": [
    "a_index = guests_single_appearance.index\n",
    "b_index = guests_themselves.index\n",
    "mask = ~a_index.isin(b_index)\n",
    "guests_single_appearance = guests_single_appearance.loc[mask]"
   ]
  },
  {
   "cell_type": "code",
   "execution_count": 81,
   "metadata": {
    "tags": []
   },
   "outputs": [
    {
     "data": {
      "text/plain": [
       "(635, 6)"
      ]
     },
     "execution_count": 81,
     "metadata": {},
     "output_type": "execute_result"
    }
   ],
   "source": [
    "guests_single_appearance.shape"
   ]
  },
  {
   "cell_type": "code",
   "execution_count": 82,
   "metadata": {
    "tags": []
   },
   "outputs": [],
   "source": [
    "guests_single_appearance.to_excel('data/guest_stars_limited.xlsx')"
   ]
  },
  {
   "cell_type": "markdown",
   "metadata": {},
   "source": [
    "**At this point,the `guest_stars_limited` excel should be manually parsed to only include 'real' celebrity guests.**"
   ]
  },
  {
   "cell_type": "markdown",
   "metadata": {},
   "source": [
    "- Kept no one that has 'archival' footage\n",
    "- Has a wikipedia page\n",
    "- Known primarily for non voice acting work\n",
    "- Not a writer on the simpsons"
   ]
  },
  {
   "cell_type": "markdown",
   "metadata": {},
   "source": [
    "# Combine into a single data-frame"
   ]
  },
  {
   "cell_type": "code",
   "execution_count": 27,
   "metadata": {
    "tags": []
   },
   "outputs": [],
   "source": [
    "guests_themselves['As_Themselves'] = 1"
   ]
  },
  {
   "cell_type": "code",
   "execution_count": 28,
   "metadata": {
    "tags": []
   },
   "outputs": [],
   "source": [
    "# Reload the hand filtered list\n",
    "df_hand_filter = pd.read_excel('data/guest_stars_hand_filtered.xlsx', index_col=0)  \n",
    "df_hand_filter['Character_Played'] = 1"
   ]
  },
  {
   "cell_type": "code",
   "execution_count": 29,
   "metadata": {
    "tags": []
   },
   "outputs": [
    {
     "data": {
      "text/html": [
       "<div>\n",
       "<style scoped>\n",
       "    .dataframe tbody tr th:only-of-type {\n",
       "        vertical-align: middle;\n",
       "    }\n",
       "\n",
       "    .dataframe tbody tr th {\n",
       "        vertical-align: top;\n",
       "    }\n",
       "\n",
       "    .dataframe thead th {\n",
       "        text-align: right;\n",
       "    }\n",
       "</style>\n",
       "<table border=\"1\" class=\"dataframe\">\n",
       "  <thead>\n",
       "    <tr style=\"text-align: right;\">\n",
       "      <th></th>\n",
       "      <th>season</th>\n",
       "      <th>role</th>\n",
       "      <th>no</th>\n",
       "      <th>prodCode</th>\n",
       "      <th>epTitle</th>\n",
       "      <th>GuestStar</th>\n",
       "      <th>Character_Played</th>\n",
       "    </tr>\n",
       "  </thead>\n",
       "  <tbody>\n",
       "    <tr>\n",
       "      <th>1</th>\n",
       "      <td>1</td>\n",
       "      <td>Worker</td>\n",
       "      <td>003–103</td>\n",
       "      <td>7G03</td>\n",
       "      <td>\"Homer's Odyssey\"[35]</td>\n",
       "      <td>Sam McMurray</td>\n",
       "      <td>1</td>\n",
       "    </tr>\n",
       "    <tr>\n",
       "      <th>4</th>\n",
       "      <td>1</td>\n",
       "      <td>Bleeding Gums Murphy</td>\n",
       "      <td>006–106</td>\n",
       "      <td>7G06</td>\n",
       "      <td>\"Moaning Lisa\"[36]</td>\n",
       "      <td>Ron Taylor</td>\n",
       "      <td>1</td>\n",
       "    </tr>\n",
       "    <tr>\n",
       "      <th>5</th>\n",
       "      <td>1</td>\n",
       "      <td>Cowboy Bob</td>\n",
       "      <td>007–107</td>\n",
       "      <td>7G09</td>\n",
       "      <td>\"The Call of the Simpsons\"[37]</td>\n",
       "      <td>Albert Brooks[B]</td>\n",
       "      <td>1</td>\n",
       "    </tr>\n",
       "    <tr>\n",
       "      <th>8</th>\n",
       "      <td>1</td>\n",
       "      <td>Gulliver Dark</td>\n",
       "      <td>010–110</td>\n",
       "      <td>7G10</td>\n",
       "      <td>\"Homer's Night Out\"[39]</td>\n",
       "      <td>Sam McMurray</td>\n",
       "      <td>1</td>\n",
       "    </tr>\n",
       "    <tr>\n",
       "      <th>12</th>\n",
       "      <td>1</td>\n",
       "      <td>Ms. Botz / Lucille Botzcowski</td>\n",
       "      <td>013–113</td>\n",
       "      <td>7G01</td>\n",
       "      <td>\"Some Enchanted Evening\"[42]</td>\n",
       "      <td>Penny Marshall</td>\n",
       "      <td>1</td>\n",
       "    </tr>\n",
       "  </tbody>\n",
       "</table>\n",
       "</div>"
      ],
      "text/plain": [
       "    season                           role       no prodCode  \\\n",
       "1        1                         Worker  003–103     7G03   \n",
       "4        1           Bleeding Gums Murphy  006–106     7G06   \n",
       "5        1                     Cowboy Bob  007–107     7G09   \n",
       "8        1                  Gulliver Dark  010–110     7G10   \n",
       "12       1  Ms. Botz / Lucille Botzcowski  013–113     7G01   \n",
       "\n",
       "                           epTitle         GuestStar  Character_Played  \n",
       "1            \"Homer's Odyssey\"[35]      Sam McMurray                 1  \n",
       "4               \"Moaning Lisa\"[36]        Ron Taylor                 1  \n",
       "5   \"The Call of the Simpsons\"[37]  Albert Brooks[B]                 1  \n",
       "8          \"Homer's Night Out\"[39]      Sam McMurray                 1  \n",
       "12    \"Some Enchanted Evening\"[42]    Penny Marshall                 1  "
      ]
     },
     "execution_count": 29,
     "metadata": {},
     "output_type": "execute_result"
    }
   ],
   "source": [
    "df_hand_filter.head()"
   ]
  },
  {
   "cell_type": "code",
   "execution_count": 30,
   "metadata": {
    "scrolled": true
   },
   "outputs": [],
   "source": [
    "guests_list = pd.concat([guests_themselves, df_hand_filter])\n",
    "guests_list = guests_list.reset_index(drop=True)\n",
    "guests_list = guests_list.drop_duplicates()"
   ]
  },
  {
   "cell_type": "code",
   "execution_count": 32,
   "metadata": {},
   "outputs": [
    {
     "data": {
      "text/plain": [
       "(971, 8)"
      ]
     },
     "execution_count": 32,
     "metadata": {},
     "output_type": "execute_result"
    }
   ],
   "source": [
    "guests_list.shape"
   ]
  },
  {
   "cell_type": "code",
   "execution_count": 34,
   "metadata": {},
   "outputs": [],
   "source": [
    "guests_list.As_Themselves = guests_list.As_Themselves.fillna(0)\n",
    "guests_list.Character_Played = guests_list.Character_Played.fillna(0)"
   ]
  },
  {
   "cell_type": "code",
   "execution_count": 35,
   "metadata": {
    "tags": []
   },
   "outputs": [
    {
     "data": {
      "text/html": [
       "<div>\n",
       "<style scoped>\n",
       "    .dataframe tbody tr th:only-of-type {\n",
       "        vertical-align: middle;\n",
       "    }\n",
       "\n",
       "    .dataframe tbody tr th {\n",
       "        vertical-align: top;\n",
       "    }\n",
       "\n",
       "    .dataframe thead th {\n",
       "        text-align: right;\n",
       "    }\n",
       "</style>\n",
       "<table border=\"1\" class=\"dataframe\">\n",
       "  <thead>\n",
       "    <tr style=\"text-align: right;\">\n",
       "      <th></th>\n",
       "      <th>season</th>\n",
       "      <th>role</th>\n",
       "      <th>no</th>\n",
       "      <th>prodCode</th>\n",
       "      <th>epTitle</th>\n",
       "      <th>GuestStar</th>\n",
       "      <th>As_Themselves</th>\n",
       "      <th>Character_Played</th>\n",
       "    </tr>\n",
       "  </thead>\n",
       "  <tbody>\n",
       "    <tr>\n",
       "      <th>0</th>\n",
       "      <td>2</td>\n",
       "      <td>Himself</td>\n",
       "      <td>018–205</td>\n",
       "      <td>7F05</td>\n",
       "      <td>\"Dancin' Homer\"[45]</td>\n",
       "      <td>Tony Bennett</td>\n",
       "      <td>1.0</td>\n",
       "      <td>0.0</td>\n",
       "    </tr>\n",
       "    <tr>\n",
       "      <th>1</th>\n",
       "      <td>2</td>\n",
       "      <td>Himself</td>\n",
       "      <td>024–211</td>\n",
       "      <td>7F11</td>\n",
       "      <td>\"One Fish, Two Fish, Blowfish, Blue Fish\"[51]</td>\n",
       "      <td>Larry King</td>\n",
       "      <td>1.0</td>\n",
       "      <td>0.0</td>\n",
       "    </tr>\n",
       "    <tr>\n",
       "      <th>2</th>\n",
       "      <td>2</td>\n",
       "      <td>Himself</td>\n",
       "      <td>031–218</td>\n",
       "      <td>7F18</td>\n",
       "      <td>\"Brush with Greatness\"[60]</td>\n",
       "      <td>Ringo Starr</td>\n",
       "      <td>1.0</td>\n",
       "      <td>0.0</td>\n",
       "    </tr>\n",
       "    <tr>\n",
       "      <th>3</th>\n",
       "      <td>3</td>\n",
       "      <td>Himself playing Bart Simpson</td>\n",
       "      <td>039–304</td>\n",
       "      <td>8F03</td>\n",
       "      <td>\"Bart the Murderer\"[65]</td>\n",
       "      <td>Neil Patrick Harris</td>\n",
       "      <td>1.0</td>\n",
       "      <td>0.0</td>\n",
       "    </tr>\n",
       "    <tr>\n",
       "      <th>4</th>\n",
       "      <td>3</td>\n",
       "      <td>Fat TonyHimself playing Fat Tony</td>\n",
       "      <td>039–304</td>\n",
       "      <td>8F03</td>\n",
       "      <td>\"Bart the Murderer\"[65]</td>\n",
       "      <td>Joe Mantegna</td>\n",
       "      <td>1.0</td>\n",
       "      <td>0.0</td>\n",
       "    </tr>\n",
       "  </tbody>\n",
       "</table>\n",
       "</div>"
      ],
      "text/plain": [
       "  season                              role       no prodCode  \\\n",
       "0      2                           Himself  018–205     7F05   \n",
       "1      2                           Himself  024–211     7F11   \n",
       "2      2                           Himself  031–218     7F18   \n",
       "3      3      Himself playing Bart Simpson  039–304     8F03   \n",
       "4      3  Fat TonyHimself playing Fat Tony  039–304     8F03   \n",
       "\n",
       "                                         epTitle            GuestStar  \\\n",
       "0                            \"Dancin' Homer\"[45]         Tony Bennett   \n",
       "1  \"One Fish, Two Fish, Blowfish, Blue Fish\"[51]           Larry King   \n",
       "2                     \"Brush with Greatness\"[60]          Ringo Starr   \n",
       "3                        \"Bart the Murderer\"[65]  Neil Patrick Harris   \n",
       "4                        \"Bart the Murderer\"[65]         Joe Mantegna   \n",
       "\n",
       "   As_Themselves  Character_Played  \n",
       "0            1.0               0.0  \n",
       "1            1.0               0.0  \n",
       "2            1.0               0.0  \n",
       "3            1.0               0.0  \n",
       "4            1.0               0.0  "
      ]
     },
     "execution_count": 35,
     "metadata": {},
     "output_type": "execute_result"
    }
   ],
   "source": [
    "guests_list.head()"
   ]
  },
  {
   "cell_type": "markdown",
   "metadata": {},
   "source": [
    "# Save curated Guest List"
   ]
  },
  {
   "cell_type": "code",
   "execution_count": 38,
   "metadata": {
    "tags": []
   },
   "outputs": [],
   "source": [
    "#guests_list.to_excel('data/guest_stars.xlsx')"
   ]
  },
  {
   "cell_type": "code",
   "execution_count": 37,
   "metadata": {
    "tags": []
   },
   "outputs": [],
   "source": [
    "guests_list.to_pickle(\"./data/simpsons_guest_stars.pkl\")"
   ]
  },
  {
   "cell_type": "code",
   "execution_count": null,
   "metadata": {},
   "outputs": [],
   "source": []
  }
 ],
 "metadata": {
  "kernelspec": {
   "display_name": "Python 3 (ipykernel)",
   "language": "python",
   "name": "python3"
  },
  "language_info": {
   "codemirror_mode": {
    "name": "ipython",
    "version": 3
   },
   "file_extension": ".py",
   "mimetype": "text/x-python",
   "name": "python",
   "nbconvert_exporter": "python",
   "pygments_lexer": "ipython3",
   "version": "3.11.3"
  }
 },
 "nbformat": 4,
 "nbformat_minor": 4
}
